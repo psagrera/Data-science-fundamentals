{
 "cells": [
  {
   "cell_type": "code",
   "execution_count": 1,
   "metadata": {},
   "outputs": [
    {
     "data": {
      "text/html": [
       "<style>\n",
       "\n",
       "h1 {\n",
       "\n",
       "    font-size: 32px;\n",
       "\n",
       "    font-weight: 500;\n",
       "\n",
       "}\n",
       "\n",
       "\n",
       "\n",
       "h2 {\n",
       "\n",
       "    background-color: #009fdf;\n",
       "\n",
       "    color: white;\n",
       "\n",
       "    padding: 20px;\n",
       "\n",
       "    border-radius: 5px;\n",
       "\n",
       "    font-size: 28px;\n",
       "\n",
       "    font-weight: 500;\n",
       "\n",
       "}\n",
       "\n",
       "\n",
       "\n",
       "\n",
       "\n",
       "pre.code {\n",
       "\n",
       "  background-color:#efefef;\n",
       "\n",
       "  padding: 20px;\n",
       "\n",
       "  border: 1px solid #dedede;\n",
       "\n",
       "}\n",
       "\n",
       "</style>\n"
      ],
      "text/plain": [
       "<IPython.core.display.HTML object>"
      ]
     },
     "execution_count": 1,
     "metadata": {},
     "output_type": "execute_result"
    }
   ],
   "source": [
    "from IPython.core.display import HTML\n",
    "HTML(\"\\n\".join(open('mioti_style.css', 'r').readlines()))"
   ]
  },
  {
   "cell_type": "markdown",
   "metadata": {},
   "source": [
    "<img src=\"data:image/png;base64,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\" style=\"height: 100px\">\n",
    "<center style=\"color:#888\">Módulo Data Science in IoT<br/>Asignatura Machine Learning</center>\n",
    "\n",
    "# Challenge S4: Predicción de precios AirBNB"
   ]
  },
  {
   "cell_type": "markdown",
   "metadata": {},
   "source": [
    "## Objetivos\n",
    "\n",
    "El objetivo de este challenge es predecir el precio de las viviendas de AirBnB Madrid a partir de alguna de sus características.\n",
    "\n",
    "Este challenge utiliza un dataset real que no está pensado para aplicar técnicas de machine learning así que no esperes que las cosas funcionen bien a la primera 🤓."
   ]
  },
  {
   "cell_type": "markdown",
   "metadata": {},
   "source": [
    "## Configuración del entorno"
   ]
  },
  {
   "cell_type": "code",
   "execution_count": 2,
   "metadata": {},
   "outputs": [],
   "source": [
    "%matplotlib inline\n",
    "\n",
    "import warnings\n",
    "warnings.filterwarnings(\"ignore\")\n",
    "\n",
    "import numpy as np\n",
    "import pandas as pd\n",
    "import matplotlib.pyplot as plt\n",
    "import sklearn\n",
    "from sklearn.metrics import confusion_matrix\n",
    "from sklearn.model_selection import cross_val_score\n",
    "from sklearn.linear_model import LogisticRegression\n",
    "import scikitplot as skplt"
   ]
  },
  {
   "cell_type": "markdown",
   "metadata": {
    "collapsed": true
   },
   "source": [
    "## Dataset\n",
    "\n",
    "Para este worksheet utilizaremos el dataset de airbnb Madrid."
   ]
  },
  {
   "cell_type": "code",
   "execution_count": 3,
   "metadata": {},
   "outputs": [],
   "source": [
    "df = pd.read_csv('dataset_airbnb_madrid.csv')"
   ]
  },
  {
   "cell_type": "markdown",
   "metadata": {},
   "source": [
    "Para simplificar el problema vamos a formular el problema del challenge de una manera más concreta:\n",
    "\n",
    "Vamos a intentar predecir el precio:"
   ]
  },
  {
   "cell_type": "code",
   "execution_count": 4,
   "metadata": {},
   "outputs": [],
   "source": [
    "df_y = df['price']"
   ]
  },
  {
   "cell_type": "markdown",
   "metadata": {},
   "source": [
    "A partir de 5 variables que a priori parecen relevantes para determinar el precio de un alojamiento: `['review_scores_rating', 'room_type', 'property_type', 'bedrooms', 'bathrooms']`\n",
    "\n",
    "Como siempre, si tu quieres considerar otras variables adelante."
   ]
  },
  {
   "cell_type": "code",
   "execution_count": 5,
   "metadata": {},
   "outputs": [],
   "source": [
    "df_X = df[['review_scores_rating', 'room_type', 'property_type', 'bedrooms', 'bathrooms' ]]"
   ]
  },
  {
   "cell_type": "code",
   "execution_count": 6,
   "metadata": {},
   "outputs": [
    {
     "name": "stdout",
     "output_type": "stream",
     "text": [
      "<class 'pandas.core.frame.DataFrame'>\n",
      "RangeIndex: 13335 entries, 0 to 13334\n",
      "Data columns (total 5 columns):\n",
      "review_scores_rating    10417 non-null float64\n",
      "room_type               13335 non-null object\n",
      "property_type           13335 non-null object\n",
      "bedrooms                13312 non-null float64\n",
      "bathrooms               13285 non-null float64\n",
      "dtypes: float64(3), object(2)\n",
      "memory usage: 521.0+ KB\n"
     ]
    }
   ],
   "source": [
    "df_X.info()"
   ]
  },
  {
   "cell_type": "markdown",
   "metadata": {},
   "source": [
    "## Preprocesamiento de datos\n",
    "\n",
    "Como siempre, vamos a inspeccionar y estudiar cada variable por separado."
   ]
  },
  {
   "cell_type": "markdown",
   "metadata": {},
   "source": [
    "### Price\n",
    "\n",
    "Es la variable de clase. Divide esta variable en 4 rangos (muy bajo, bajo, medio, alto, muy alto) que pienses que son razonables para estudiar esta variable. Como consejo, quizás puedes utilizar los percentiles para hacer esta división.\n",
    "\n",
    "Antes de hacer esta división revisa que esta variable esté codificada como un número, si no lo está la tendrás que convertir previamente.\n",
    "\n",
    "Una vez que tengas la variable transformada, conviértela a un array de numpy para trabajar."
   ]
  },
  {
   "cell_type": "code",
   "execution_count": null,
   "metadata": {},
   "outputs": [],
   "source": []
  },
  {
   "cell_type": "markdown",
   "metadata": {},
   "source": [
    "### review_scores_rating\n",
    "\n",
    "Esta variable parece un número. Revisa:\n",
    "\n",
    "* Si tiene nulos o no. Si los tiene trátalos adecuadamente.\n",
    "* Revisa el rango de la variable."
   ]
  },
  {
   "cell_type": "code",
   "execution_count": null,
   "metadata": {},
   "outputs": [],
   "source": []
  },
  {
   "cell_type": "markdown",
   "metadata": {},
   "source": [
    "### room_type\n",
    "\n",
    "Esta variable parece un valor enumerado. Revisa:\n",
    "\n",
    "* Si tiene nulos o no. Si los tiene trátalos adecuadamente.\n",
    "* Si tiene muchos clases distintas piensa en reducirlas.\n",
    "\n",
    "Una vez que esté bien crea variables ficticias a partir de esta."
   ]
  },
  {
   "cell_type": "code",
   "execution_count": null,
   "metadata": {},
   "outputs": [],
   "source": []
  },
  {
   "cell_type": "markdown",
   "metadata": {},
   "source": [
    "### property_type\n",
    "\n",
    "Esta variable parece un valor enumerado. Revisa:\n",
    "\n",
    "* Si tiene nulos o no. Si los tiene trátalos adecuadamente.\n",
    "* Si tiene muchos clases distintas piensa en reducirlas.\n",
    "\n",
    "Una vez que esté bien crea variables ficticias a partir de esta."
   ]
  },
  {
   "cell_type": "code",
   "execution_count": null,
   "metadata": {},
   "outputs": [],
   "source": []
  },
  {
   "cell_type": "markdown",
   "metadata": {},
   "source": [
    "### bedrooms\n",
    "\n",
    "Esta variable parece un número. Revisa:\n",
    "\n",
    "* Si tiene nulos o no. Si los tiene trátalos adecuadamente.\n",
    "* Revisa el rango de la variable."
   ]
  },
  {
   "cell_type": "code",
   "execution_count": null,
   "metadata": {},
   "outputs": [],
   "source": []
  },
  {
   "cell_type": "markdown",
   "metadata": {},
   "source": [
    "### bathrooms\n",
    "\n",
    "Esta variable parece un número. Revisa:\n",
    "\n",
    "* Si tiene nulos o no. Si los tiene trátalos adecuadamente.\n",
    "* Revisa el rango de la variable."
   ]
  },
  {
   "cell_type": "code",
   "execution_count": null,
   "metadata": {},
   "outputs": [],
   "source": []
  },
  {
   "cell_type": "markdown",
   "metadata": {},
   "source": [
    "### Chequeos finales y conversión a numpy\n",
    "\n",
    "Una vez que hemos revisado cada variable hacemos algunas comprobaciones finales:"
   ]
  },
  {
   "cell_type": "code",
   "execution_count": 7,
   "metadata": {},
   "outputs": [
    {
     "data": {
      "text/plain": [
       "review_scores_rating     True\n",
       "room_type               False\n",
       "property_type           False\n",
       "bedrooms                 True\n",
       "bathrooms                True\n",
       "dtype: bool"
      ]
     },
     "execution_count": 7,
     "metadata": {},
     "output_type": "execute_result"
    }
   ],
   "source": [
    "df_X.isnull().any()"
   ]
  },
  {
   "cell_type": "code",
   "execution_count": 8,
   "metadata": {},
   "outputs": [
    {
     "data": {
      "text/html": [
       "<div>\n",
       "<style scoped>\n",
       "    .dataframe tbody tr th:only-of-type {\n",
       "        vertical-align: middle;\n",
       "    }\n",
       "\n",
       "    .dataframe tbody tr th {\n",
       "        vertical-align: top;\n",
       "    }\n",
       "\n",
       "    .dataframe thead th {\n",
       "        text-align: right;\n",
       "    }\n",
       "</style>\n",
       "<table border=\"1\" class=\"dataframe\">\n",
       "  <thead>\n",
       "    <tr style=\"text-align: right;\">\n",
       "      <th></th>\n",
       "      <th>review_scores_rating</th>\n",
       "      <th>room_type</th>\n",
       "      <th>property_type</th>\n",
       "      <th>bedrooms</th>\n",
       "      <th>bathrooms</th>\n",
       "    </tr>\n",
       "  </thead>\n",
       "  <tbody>\n",
       "    <tr>\n",
       "      <th>13330</th>\n",
       "      <td>97.0</td>\n",
       "      <td>Private room</td>\n",
       "      <td>Bed &amp; Breakfast</td>\n",
       "      <td>2.0</td>\n",
       "      <td>1.0</td>\n",
       "    </tr>\n",
       "    <tr>\n",
       "      <th>13331</th>\n",
       "      <td>100.0</td>\n",
       "      <td>Private room</td>\n",
       "      <td>House</td>\n",
       "      <td>1.0</td>\n",
       "      <td>1.0</td>\n",
       "    </tr>\n",
       "    <tr>\n",
       "      <th>13332</th>\n",
       "      <td>NaN</td>\n",
       "      <td>Private room</td>\n",
       "      <td>Apartment</td>\n",
       "      <td>1.0</td>\n",
       "      <td>1.0</td>\n",
       "    </tr>\n",
       "    <tr>\n",
       "      <th>13333</th>\n",
       "      <td>100.0</td>\n",
       "      <td>Entire home/apt</td>\n",
       "      <td>Apartment</td>\n",
       "      <td>1.0</td>\n",
       "      <td>1.0</td>\n",
       "    </tr>\n",
       "    <tr>\n",
       "      <th>13334</th>\n",
       "      <td>NaN</td>\n",
       "      <td>Private room</td>\n",
       "      <td>House</td>\n",
       "      <td>1.0</td>\n",
       "      <td>1.0</td>\n",
       "    </tr>\n",
       "  </tbody>\n",
       "</table>\n",
       "</div>"
      ],
      "text/plain": [
       "       review_scores_rating        room_type    property_type  bedrooms  \\\n",
       "13330                  97.0     Private room  Bed & Breakfast       2.0   \n",
       "13331                 100.0     Private room            House       1.0   \n",
       "13332                   NaN     Private room        Apartment       1.0   \n",
       "13333                 100.0  Entire home/apt        Apartment       1.0   \n",
       "13334                   NaN     Private room            House       1.0   \n",
       "\n",
       "       bathrooms  \n",
       "13330        1.0  \n",
       "13331        1.0  \n",
       "13332        1.0  \n",
       "13333        1.0  \n",
       "13334        1.0  "
      ]
     },
     "execution_count": 8,
     "metadata": {},
     "output_type": "execute_result"
    }
   ],
   "source": [
    "df_X.tail()"
   ]
  },
  {
   "cell_type": "markdown",
   "metadata": {},
   "source": [
    "Y convertimos a un array de `numpy`:"
   ]
  },
  {
   "cell_type": "code",
   "execution_count": 9,
   "metadata": {},
   "outputs": [],
   "source": [
    "dataset_X = np.array(df_X)"
   ]
  },
  {
   "cell_type": "code",
   "execution_count": 10,
   "metadata": {},
   "outputs": [
    {
     "data": {
      "text/plain": [
       "(13335, 5)"
      ]
     },
     "execution_count": 10,
     "metadata": {},
     "output_type": "execute_result"
    }
   ],
   "source": [
    "dataset_X.shape"
   ]
  },
  {
   "cell_type": "code",
   "execution_count": 11,
   "metadata": {},
   "outputs": [
    {
     "data": {
      "text/plain": [
       "array([[92.0, 'Private room', 'House', 1.0, 2.0],\n",
       "       [93.0, 'Entire home/apt', 'Apartment', 3.0, 1.0],\n",
       "       [93.0, 'Entire home/apt', 'Apartment', 1.0, 1.0],\n",
       "       ...,\n",
       "       [nan, 'Private room', 'Apartment', 1.0, 1.0],\n",
       "       [100.0, 'Entire home/apt', 'Apartment', 1.0, 1.0],\n",
       "       [nan, 'Private room', 'House', 1.0, 1.0]], dtype=object)"
      ]
     },
     "execution_count": 11,
     "metadata": {},
     "output_type": "execute_result"
    }
   ],
   "source": [
    "dataset_X"
   ]
  },
  {
   "cell_type": "markdown",
   "metadata": {},
   "source": [
    "## Conjunto de entrenamiento y test\n",
    "\n",
    "Crea un conjunto de entrenamiento y test con una proporción del 30%."
   ]
  },
  {
   "cell_type": "code",
   "execution_count": null,
   "metadata": {},
   "outputs": [],
   "source": []
  },
  {
   "cell_type": "markdown",
   "metadata": {},
   "source": [
    "## Entrenamiento y clasificación\n",
    "\n",
    "Utiliza un RandomForest como algoritmo de clasificación y entrena el modelo."
   ]
  },
  {
   "cell_type": "code",
   "execution_count": null,
   "metadata": {},
   "outputs": [],
   "source": []
  },
  {
   "cell_type": "markdown",
   "metadata": {},
   "source": [
    "## Evalua el modelo\n",
    "\n",
    "Calcula score, ROC y matriz de confusión"
   ]
  },
  {
   "cell_type": "code",
   "execution_count": null,
   "metadata": {},
   "outputs": [],
   "source": []
  },
  {
   "cell_type": "markdown",
   "metadata": {},
   "source": [
    "### Preguntas\n",
    "\n",
    "* ¿Consideras que los resultados son buenos o malos?\n",
    "* Qué podemos hacer para mejorarlo?"
   ]
  },
  {
   "cell_type": "markdown",
   "metadata": {},
   "source": [
    "## Análisis de variables (extra)\n",
    "\n",
    "Algunos métodos incluyen una variable denominada `feature_importances_` que nos proporciona una estimación de la importancia de esa variable.\n",
    "\n",
    "Analiza las variables, su importancia y propone maneras para mejorar el dataset."
   ]
  },
  {
   "cell_type": "code",
   "execution_count": null,
   "metadata": {},
   "outputs": [],
   "source": []
  }
 ],
 "metadata": {
  "anaconda-cloud": {},
  "kernelspec": {
   "display_name": "Python 3",
   "language": "python",
   "name": "python3"
  },
  "language_info": {
   "codemirror_mode": {
    "name": "ipython",
    "version": 3
   },
   "file_extension": ".py",
   "mimetype": "text/x-python",
   "name": "python",
   "nbconvert_exporter": "python",
   "pygments_lexer": "ipython3",
   "version": "3.6.6"
  }
 },
 "nbformat": 4,
 "nbformat_minor": 2
}

{
 "cells": [
  {
   "cell_type": "markdown",
   "metadata": {
    "colab_type": "text",
    "id": "zVrO3t8ETXEa"
   },
   "source": [
    "<img src=\"data:image/png;base64,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\" style=\"height: 100px\">\n",
    "<center style=\"color:#888\">Módulo Data Science in IoT<br/>Asignatura Machine Learning</center>\n",
    "\n",
    "# Challenge S7 : Control de salud"
   ]
  },
  {
   "cell_type": "markdown",
   "metadata": {
    "colab_type": "text",
    "id": "l5EIMlROTXEb"
   },
   "source": [
    "## Objetivo\n",
    "\n",
    "El objetivo de este challenge es entrenar un modelo para determinar el estado de salud de una persona en funcion de unas variables tomadas de la monitorizacion de 50 personas durante 31 dias tomando muestras cada hora del numero de pulsaciones por minuto, asi como el sexo, la edad y el peso de la persona. La etiqueta a predecir es el estado de salud (OK o BAD)en cada hora.\n"
   ]
  },
  {
   "cell_type": "code",
   "execution_count": 1,
   "metadata": {
    "colab": {},
    "colab_type": "code",
    "id": "1ndGBocbTXEc"
   },
   "outputs": [],
   "source": [
    "import datetime\n",
    "import time\n",
    "from datetime import timedelta\n",
    "import numpy as np\n",
    "import csv\n",
    "import pandas as pd\n",
    "from sklearn.model_selection import train_test_split\n",
    "from sklearn.model_selection import cross_val_score, GridSearchCV, RandomizedSearchCV\n",
    "from sklearn.svm import SVC\n",
    "import warnings\n",
    "warnings.filterwarnings(\"ignore\")"
   ]
  },
  {
   "cell_type": "markdown",
   "metadata": {
    "colab_type": "text",
    "id": "d7abzW0MTXEg"
   },
   "source": [
    "\n",
    "\n",
    "### Entrenamiento del modelo\n",
    "\n",
    "Dispones de un dataset `health.csv` que contiene varias variables y su relación con el estado de salud del paciente (emergencia o situación normal). \n",
    "\n",
    "Analiza, preprocesalo y entrena un modelo para luego utilizarlo más adelante. Aplica lo consideres más relevante para este caso de lo que has aprendido durante la asignatura."
   ]
  },
  {
   "cell_type": "markdown",
   "metadata": {
    "colab_type": "text",
    "id": "veieWm-uTXEh"
   },
   "source": [
    "### Carga del dataset"
   ]
  },
  {
   "cell_type": "code",
   "execution_count": 2,
   "metadata": {
    "colab": {},
    "colab_type": "code",
    "id": "Jy7G15lTTXEh"
   },
   "outputs": [],
   "source": [
    "df = pd.read_csv('health_dataset.csv')"
   ]
  },
  {
   "cell_type": "code",
   "execution_count": 3,
   "metadata": {
    "colab": {
     "base_uri": "https://localhost:8080/",
     "height": 248
    },
    "colab_type": "code",
    "executionInfo": {
     "elapsed": 574,
     "status": "ok",
     "timestamp": 1560017861817,
     "user": {
      "displayName": "Manuel Lopez-Martin",
      "photoUrl": "https://lh3.googleusercontent.com/-w9URsrVicEo/AAAAAAAAAAI/AAAAAAAAASs/BEZo6dPc8Pw/s64/photo.jpg",
      "userId": "05920962092300421674"
     },
     "user_tz": -120
    },
    "id": "3hUVMB4TTXEk",
    "outputId": "11248897-ee18-4514-af6d-2c9b80a25638"
   },
   "outputs": [
    {
     "name": "stdout",
     "output_type": "stream",
     "text": [
      "<class 'pandas.core.frame.DataFrame'>\n",
      "RangeIndex: 37200 entries, 0 to 37199\n",
      "Data columns (total 8 columns):\n",
      " #   Column  Non-Null Count  Dtype  \n",
      "---  ------  --------------  -----  \n",
      " 0   id      37200 non-null  int64  \n",
      " 1   sex     37200 non-null  int64  \n",
      " 2   age     37200 non-null  int64  \n",
      " 3   weight  37200 non-null  float64\n",
      " 4   day     37200 non-null  object \n",
      " 5   hour    37200 non-null  int64  \n",
      " 6   bpm     37200 non-null  int64  \n",
      " 7   status  37200 non-null  object \n",
      "dtypes: float64(1), int64(5), object(2)\n",
      "memory usage: 2.3+ MB\n"
     ]
    }
   ],
   "source": [
    "df.info()"
   ]
  },
  {
   "cell_type": "code",
   "execution_count": 4,
   "metadata": {
    "colab": {
     "base_uri": "https://localhost:8080/",
     "height": 194
    },
    "colab_type": "code",
    "executionInfo": {
     "elapsed": 546,
     "status": "ok",
     "timestamp": 1560017871472,
     "user": {
      "displayName": "Manuel Lopez-Martin",
      "photoUrl": "https://lh3.googleusercontent.com/-w9URsrVicEo/AAAAAAAAAAI/AAAAAAAAASs/BEZo6dPc8Pw/s64/photo.jpg",
      "userId": "05920962092300421674"
     },
     "user_tz": -120
    },
    "id": "oY20VHWBTXEp",
    "outputId": "1164403e-c128-4823-a9f0-fcdd17ee5015"
   },
   "outputs": [
    {
     "data": {
      "text/html": [
       "<div>\n",
       "<style scoped>\n",
       "    .dataframe tbody tr th:only-of-type {\n",
       "        vertical-align: middle;\n",
       "    }\n",
       "\n",
       "    .dataframe tbody tr th {\n",
       "        vertical-align: top;\n",
       "    }\n",
       "\n",
       "    .dataframe thead th {\n",
       "        text-align: right;\n",
       "    }\n",
       "</style>\n",
       "<table border=\"1\" class=\"dataframe\">\n",
       "  <thead>\n",
       "    <tr style=\"text-align: right;\">\n",
       "      <th></th>\n",
       "      <th>id</th>\n",
       "      <th>sex</th>\n",
       "      <th>age</th>\n",
       "      <th>weight</th>\n",
       "      <th>day</th>\n",
       "      <th>hour</th>\n",
       "      <th>bpm</th>\n",
       "      <th>status</th>\n",
       "    </tr>\n",
       "  </thead>\n",
       "  <tbody>\n",
       "    <tr>\n",
       "      <th>0</th>\n",
       "      <td>0</td>\n",
       "      <td>1</td>\n",
       "      <td>48</td>\n",
       "      <td>92.7</td>\n",
       "      <td>2007-12-01</td>\n",
       "      <td>0</td>\n",
       "      <td>95</td>\n",
       "      <td>OK</td>\n",
       "    </tr>\n",
       "    <tr>\n",
       "      <th>1</th>\n",
       "      <td>0</td>\n",
       "      <td>1</td>\n",
       "      <td>48</td>\n",
       "      <td>92.7</td>\n",
       "      <td>2007-12-01</td>\n",
       "      <td>1</td>\n",
       "      <td>100</td>\n",
       "      <td>OK</td>\n",
       "    </tr>\n",
       "    <tr>\n",
       "      <th>2</th>\n",
       "      <td>0</td>\n",
       "      <td>1</td>\n",
       "      <td>48</td>\n",
       "      <td>92.7</td>\n",
       "      <td>2007-12-01</td>\n",
       "      <td>2</td>\n",
       "      <td>107</td>\n",
       "      <td>OK</td>\n",
       "    </tr>\n",
       "    <tr>\n",
       "      <th>3</th>\n",
       "      <td>0</td>\n",
       "      <td>1</td>\n",
       "      <td>48</td>\n",
       "      <td>92.7</td>\n",
       "      <td>2007-12-01</td>\n",
       "      <td>3</td>\n",
       "      <td>97</td>\n",
       "      <td>OK</td>\n",
       "    </tr>\n",
       "    <tr>\n",
       "      <th>4</th>\n",
       "      <td>0</td>\n",
       "      <td>1</td>\n",
       "      <td>48</td>\n",
       "      <td>92.7</td>\n",
       "      <td>2007-12-01</td>\n",
       "      <td>4</td>\n",
       "      <td>97</td>\n",
       "      <td>OK</td>\n",
       "    </tr>\n",
       "  </tbody>\n",
       "</table>\n",
       "</div>"
      ],
      "text/plain": [
       "   id  sex  age  weight         day  hour  bpm status\n",
       "0   0    1   48    92.7  2007-12-01     0   95     OK\n",
       "1   0    1   48    92.7  2007-12-01     1  100     OK\n",
       "2   0    1   48    92.7  2007-12-01     2  107     OK\n",
       "3   0    1   48    92.7  2007-12-01     3   97     OK\n",
       "4   0    1   48    92.7  2007-12-01     4   97     OK"
      ]
     },
     "execution_count": 4,
     "metadata": {},
     "output_type": "execute_result"
    }
   ],
   "source": [
    "df.head()"
   ]
  },
  {
   "cell_type": "code",
   "execution_count": 5,
   "metadata": {
    "colab": {
     "base_uri": "https://localhost:8080/",
     "height": 35
    },
    "colab_type": "code",
    "executionInfo": {
     "elapsed": 506,
     "status": "ok",
     "timestamp": 1560017872654,
     "user": {
      "displayName": "Manuel Lopez-Martin",
      "photoUrl": "https://lh3.googleusercontent.com/-w9URsrVicEo/AAAAAAAAAAI/AAAAAAAAASs/BEZo6dPc8Pw/s64/photo.jpg",
      "userId": "05920962092300421674"
     },
     "user_tz": -120
    },
    "id": "BrKNIxiWTXEt",
    "outputId": "cc7bc9d4-5806-4ec9-f500-0570e075c243"
   },
   "outputs": [
    {
     "data": {
      "text/plain": [
       "OK     36788\n",
       "BAD      412\n",
       "Name: status, dtype: int64"
      ]
     },
     "execution_count": 5,
     "metadata": {},
     "output_type": "execute_result"
    }
   ],
   "source": [
    "df.shape  # (24*31*50 , 8)\n",
    "df['status'].value_counts()"
   ]
  },
  {
   "cell_type": "code",
   "execution_count": 6,
   "metadata": {},
   "outputs": [],
   "source": [
    "# Variable X\n",
    "X = df[['sex','age','weight','hour','bpm']]\n",
    "x = np.array(X)"
   ]
  },
  {
   "cell_type": "markdown",
   "metadata": {
    "colab_type": "text",
    "id": "4-RQSxdlTXEw"
   },
   "source": [
    "# Analizar los datos\n",
    "\n",
    "* ¿Los datos tienen estructura de serie temporal? ¿Puedes hacer una grafica de la evolucion de bpm a lo largo de todos los dias para una persona?\n",
    "\n",
    "* Elige que atributos pueden ser utiles para un modelo de clasificacion. Elimina los que no sean utiles.\n",
    "* Crea la matriz de datos de entrenamiento: X e y, y divide los datos en entrenamiento y test"
   ]
  },
  {
   "cell_type": "markdown",
   "metadata": {
    "colab": {},
    "colab_type": "code",
    "id": "cPvmA0CJTXEx"
   },
   "source": [
    "#### Preprocesado de los datos"
   ]
  },
  {
   "cell_type": "code",
   "execution_count": 7,
   "metadata": {},
   "outputs": [],
   "source": [
    "#Variable objetivo y\n",
    "df['status'] = df['status'].map({\"OK\": 0, \"BAD\": 1})"
   ]
  },
  {
   "cell_type": "code",
   "execution_count": 8,
   "metadata": {},
   "outputs": [
    {
     "data": {
      "text/plain": [
       "0    36788\n",
       "1      412\n",
       "Name: status, dtype: int64"
      ]
     },
     "execution_count": 8,
     "metadata": {},
     "output_type": "execute_result"
    }
   ],
   "source": [
    "df['status'].value_counts()"
   ]
  },
  {
   "cell_type": "code",
   "execution_count": 9,
   "metadata": {},
   "outputs": [
    {
     "data": {
      "text/plain": [
       "0    0.988925\n",
       "1    0.011075\n",
       "Name: status, dtype: float64"
      ]
     },
     "execution_count": 9,
     "metadata": {},
     "output_type": "execute_result"
    }
   ],
   "source": [
    "df['status'].value_counts(normalize=True)"
   ]
  },
  {
   "cell_type": "code",
   "execution_count": 10,
   "metadata": {},
   "outputs": [],
   "source": [
    "y = np.array(df['status'])"
   ]
  },
  {
   "cell_type": "code",
   "execution_count": 11,
   "metadata": {},
   "outputs": [
    {
     "data": {
      "text/plain": [
       "(37200,)"
      ]
     },
     "execution_count": 11,
     "metadata": {},
     "output_type": "execute_result"
    }
   ],
   "source": [
    "y.shape"
   ]
  },
  {
   "cell_type": "markdown",
   "metadata": {},
   "source": [
    "#### Division entre entrenamiento y test "
   ]
  },
  {
   "cell_type": "code",
   "execution_count": 12,
   "metadata": {},
   "outputs": [
    {
     "data": {
      "text/plain": [
       "0    0.989329\n",
       "1    0.010671\n",
       "Name: 0, dtype: float64"
      ]
     },
     "execution_count": 12,
     "metadata": {},
     "output_type": "execute_result"
    }
   ],
   "source": [
    "X_train,X_test, y_train,y_test = train_test_split(x,y,test_size=0.33,random_state=42)\n",
    "pd.DataFrame(y_test)[0].value_counts(normalize=True)"
   ]
  },
  {
   "cell_type": "code",
   "execution_count": 13,
   "metadata": {},
   "outputs": [
    {
     "data": {
      "text/plain": [
       "0    0.988726\n",
       "1    0.011274\n",
       "Name: 0, dtype: float64"
      ]
     },
     "execution_count": 13,
     "metadata": {},
     "output_type": "execute_result"
    }
   ],
   "source": [
    "pd.DataFrame(y_train)[0].value_counts(normalize=True)"
   ]
  },
  {
   "cell_type": "markdown",
   "metadata": {
    "colab_type": "text",
    "id": "SWyTiaTFTXFp"
   },
   "source": [
    "# Entrenamiento sin ajustar los hiperparametros\n",
    "\n",
    "* Entrena 3 modelos con los datos obtenidos anteriormente \n",
    "* Presenta los resultados sobre los conjuntos de entrenamiento y test"
   ]
  },
  {
   "cell_type": "code",
   "execution_count": 14,
   "metadata": {},
   "outputs": [
    {
     "name": "stdout",
     "output_type": "stream",
     "text": [
      "CPU times: user 607 µs, sys: 824 µs, total: 1.43 ms\n",
      "Wall time: 1 s\n",
      "0.9904108489809019\n",
      "0.991365265558814\n"
     ]
    },
    {
     "data": {
      "text/plain": [
       "<matplotlib.axes._subplots.AxesSubplot at 0x10559f210>"
      ]
     },
     "execution_count": 14,
     "metadata": {},
     "output_type": "execute_result"
    }
   ],
   "source": [
    "# Regresion Logistica\n",
    "%time time.sleep(1)\n",
    "from sklearn.linear_model import LogisticRegression\n",
    "import scikitplot as skplt\n",
    "logistic = LogisticRegression()\n",
    "logistic.fit(X_train, y_train)\n",
    "\n",
    "print(logistic.score(X_train, y_train))\n",
    "print(logistic.score(X_test, y_test))\n",
    "\n",
    "y_predicted = logistic.predict(X_test)\n",
    "skplt.metrics.plot_confusion_matrix(y_test, y_predicted)\n"
   ]
  },
  {
   "cell_type": "code",
   "execution_count": 15,
   "metadata": {},
   "outputs": [
    {
     "name": "stdout",
     "output_type": "stream",
     "text": [
      "CPU times: user 101 ms, sys: 2.29 ms, total: 103 ms\n",
      "Wall time: 1 s\n",
      "0.9934017595307918\n"
     ]
    },
    {
     "data": {
      "text/plain": [
       "<matplotlib.axes._subplots.AxesSubplot at 0x1229b6110>"
      ]
     },
     "execution_count": 15,
     "metadata": {},
     "output_type": "execute_result"
    },
    {
     "data": {
      "image/png": "[encoded data removed]",
      "text/plain": [
       "<Figure size 432x288 with 2 Axes>"
      ]
     },
     "metadata": {
      "needs_background": "light"
     },
     "output_type": "display_data"
    }
   ],
   "source": [
    "# Perceptron Multicapa\n",
    "%time time.sleep(1)\n",
    "from sklearn.neural_network import MLPClassifier\n",
    "nn = MLPClassifier()\n",
    "nn.fit(X_train, y_train)\n",
    "y_predicted = nn.predict(X_test)\n",
    "print(nn.score(X_test, y_test))\n",
    "skplt.metrics.plot_confusion_matrix(y_test, y_predicted)"
   ]
  },
  {
   "cell_type": "code",
   "execution_count": 16,
   "metadata": {},
   "outputs": [],
   "source": [
    "# Funcion auxliar para obtener metricas\n",
    "from sklearn import metrics\n",
    "def print_evaluate(true,predicted):\n",
    "    mae = metrics.mean_absolute_error(true,predicted)\n",
    "    mse = metrics.mean_squared_error(true, predicted)\n",
    "    rmse = np.sqrt(metrics.mean_squared_error(true,predicted))\n",
    "    r2_square = metrics.r2_score(true, predicted)\n",
    "    print('\\nMAE:', mae)\n",
    "    print('\\nMSE:', mse)\n",
    "    print('\\nRMSE:', rmse)\n",
    "    print('\\nR2 Square', r2_square)"
   ]
  },
  {
   "cell_type": "code",
   "execution_count": 29,
   "metadata": {},
   "outputs": [
    {
     "name": "stdout",
     "output_type": "stream",
     "text": [
      "CPU times: user 507 µs, sys: 1.04 ms, total: 1.55 ms\n",
      "Wall time: 1 s\n",
      "0.9961713913326816\n",
      "\n",
      "MAE: 0.003828608667318345\n",
      "\n",
      "MSE: 0.003828608667318345\n",
      "\n",
      "RMSE: 0.06187575185255\n",
      "\n",
      "R2 Square 0.637351468734974\n"
     ]
    }
   ],
   "source": [
    "# Random forest\n",
    "%time time.sleep(1)\n",
    "from sklearn.ensemble import RandomForestClassifier\n",
    "random_forest = RandomForestClassifier()\n",
    "random_forest.fit(X_train, y_train)\n",
    "print(random_forest.score(X_test, y_test))\n",
    "print_evaluate(y_test,random_forest.predict(X_test))"
   ]
  },
  {
   "cell_type": "code",
   "execution_count": 18,
   "metadata": {},
   "outputs": [
    {
     "data": {
      "image/png": "[encoded data removed]",
      "text/plain": [
       "<Figure size 432x288 with 1 Axes>"
      ]
     },
     "metadata": {
      "needs_background": "light"
     },
     "output_type": "display_data"
    }
   ],
   "source": [
    "import scikitplot as skplt\n",
    "import matplotlib.pyplot as plt\n",
    "y_predicted = random_forest.predict(X_test)\n",
    "skplt.metrics.plot_roc(y_test, random_forest.predict_proba(X_test))\n",
    "plt.show()"
   ]
  },
  {
   "cell_type": "code",
   "execution_count": 19,
   "metadata": {},
   "outputs": [
    {
     "data": {
      "text/plain": [
       "<matplotlib.axes._subplots.AxesSubplot at 0x123177650>"
      ]
     },
     "execution_count": 19,
     "metadata": {},
     "output_type": "execute_result"
    },
    {
     "data": {
      "image/png": "[encoded data removed]",
      "text/plain": [
       "<Figure size 432x288 with 2 Axes>"
      ]
     },
     "metadata": {
      "needs_background": "light"
     },
     "output_type": "display_data"
    }
   ],
   "source": [
    "import scikitplot as skplt\n",
    "y_predicted = random_forest.predict(X_test)\n",
    "skplt.metrics.plot_confusion_matrix(y_test, y_predicted)"
   ]
  },
  {
   "cell_type": "markdown",
   "metadata": {
    "colab_type": "text",
    "id": "I3UluAXgTXGI"
   },
   "source": [
    "# Entrenamiento ajustando los hiperparametros\n",
    "\n",
    "* Ajusta los parámetros de los 3 modelos anteriores realizando una busqueda en al menos dos parametros.\n",
    "* Presenta los resultados sobre los conjuntos de entrenamiento y test"
   ]
  },
  {
   "cell_type": "code",
   "execution_count": 20,
   "metadata": {},
   "outputs": [
    {
     "name": "stdout",
     "output_type": "stream",
     "text": [
      "CPU times: user 434 µs, sys: 794 µs, total: 1.23 ms\n",
      "Wall time: 1 s\n"
     ]
    },
    {
     "data": {
      "text/plain": [
       "{'solver': 'newton-cg', 'C': 1}"
      ]
     },
     "execution_count": 20,
     "metadata": {},
     "output_type": "execute_result"
    }
   ],
   "source": [
    "# Regresion Logistica\n",
    "# Parametros a buscar C y solver (newton-cg’, ‘lbfgs’, ‘liblinear’, ‘sag’, ‘saga’)\n",
    "C = [int(x) for x in np.linspace(start = 1, stop = 100, num = 10)]\n",
    "random_grid = {'C': C,\n",
    "               'solver':('newton-cg','lbfgs','liblinear','sag','saga')\n",
    "              }\n",
    "random_grid\n",
    "%time time.sleep(1)\n",
    "logistic = LogisticRegression()\n",
    "logistic_RandomizedSearchCV = RandomizedSearchCV(estimator = logistic, \n",
    "                                           param_distributions = random_grid, \n",
    "                                           n_iter = 100, \n",
    "                                           cv = 3, \n",
    "                                           verbose=0, \n",
    "                                           random_state=42, \n",
    "                                           n_jobs = -1)\n",
    "logistic_RandomizedSearchCV.fit(X_train, y_train)\n",
    "logistic_RandomizedSearchCV.best_params_"
   ]
  },
  {
   "cell_type": "code",
   "execution_count": 21,
   "metadata": {},
   "outputs": [
    {
     "name": "stdout",
     "output_type": "stream",
     "text": [
      "CPU times: user 415 ms, sys: 5.04 ms, total: 420 ms\n",
      "Wall time: 1 s\n",
      "0.9904108489809019\n",
      "0.991365265558814\n"
     ]
    },
    {
     "data": {
      "text/plain": [
       "<matplotlib.axes._subplots.AxesSubplot at 0x12347d8d0>"
      ]
     },
     "execution_count": 21,
     "metadata": {},
     "output_type": "execute_result"
    },
    {
     "data": {
      "image/png": "[encoded data removed]",
      "text/plain": [
       "<Figure size 432x288 with 2 Axes>"
      ]
     },
     "metadata": {
      "needs_background": "light"
     },
     "output_type": "display_data"
    }
   ],
   "source": [
    "%time time.sleep(1)\n",
    "from sklearn.linear_model import LogisticRegression\n",
    "import scikitplot as skplt\n",
    "logistic2 = LogisticRegression(C=1.0,solver='newton-cg')\n",
    "logistic2.fit(X_train, y_train)\n",
    "\n",
    "print(logistic2.score(X_train, y_train))\n",
    "print(logistic2.score(X_test, y_test))\n",
    "\n",
    "y_predicted2 = logistic2.predict(X_test)\n",
    "skplt.metrics.plot_confusion_matrix(y_test, y_predicted2)"
   ]
  },
  {
   "cell_type": "code",
   "execution_count": 22,
   "metadata": {},
   "outputs": [
    {
     "name": "stdout",
     "output_type": "stream",
     "text": [
      "CPU times: user 739 µs, sys: 1.34 ms, total: 2.07 ms\n",
      "Wall time: 1 s\n"
     ]
    },
    {
     "data": {
      "text/plain": [
       "{'solver': 'lbfgs', 'activation': 'tanh'}"
      ]
     },
     "execution_count": 22,
     "metadata": {},
     "output_type": "execute_result"
    }
   ],
   "source": [
    "# Perceptron Multicapa\n",
    "# Parametros a buscar activation y solver\n",
    "\n",
    "random_grid = {'activation': ('identity', 'logistic', 'tanh', 'relu'),\n",
    "               'solver':('newton-cg','lbfgs','liblinear','sag','saga')\n",
    "              }\n",
    "random_grid\n",
    "\n",
    "%time time.sleep(1)\n",
    "nn = MLPClassifier()\n",
    "nn_RandomizedSearchCV = RandomizedSearchCV(estimator = nn, \n",
    "                                           param_distributions = random_grid, \n",
    "                                           n_iter = 100, \n",
    "                                           cv = 3, \n",
    "                                           verbose=0, \n",
    "                                           random_state=42, \n",
    "                                           n_jobs = -1)\n",
    "nn_RandomizedSearchCV.fit(X_train, y_train)\n",
    "nn_RandomizedSearchCV.best_params_"
   ]
  },
  {
   "cell_type": "code",
   "execution_count": 23,
   "metadata": {},
   "outputs": [
    {
     "name": "stdout",
     "output_type": "stream",
     "text": [
      "CPU times: user 418 ms, sys: 5.39 ms, total: 423 ms\n",
      "Wall time: 1 s\n",
      "0.9930759204952754\n"
     ]
    },
    {
     "data": {
      "text/plain": [
       "<matplotlib.axes._subplots.AxesSubplot at 0x1230c6150>"
      ]
     },
     "execution_count": 23,
     "metadata": {},
     "output_type": "execute_result"
    },
    {
     "data": {
      "image/png": "[encoded data removed]",
      "text/plain": [
       "<Figure size 432x288 with 2 Axes>"
      ]
     },
     "metadata": {
      "needs_background": "light"
     },
     "output_type": "display_data"
    }
   ],
   "source": [
    "%time time.sleep(1)\n",
    "from sklearn.neural_network import MLPClassifier\n",
    "nn2 = MLPClassifier(solver='lbfgs',activation='logistic')\n",
    "nn2.fit(X_train, y_train)\n",
    "y_predicted_nn = nn2.predict(X_test)\n",
    "print(nn2.score(X_test, y_test))\n",
    "skplt.metrics.plot_confusion_matrix(y_test, y_predicted_nn)"
   ]
  },
  {
   "cell_type": "code",
   "execution_count": 24,
   "metadata": {},
   "outputs": [
    {
     "name": "stdout",
     "output_type": "stream",
     "text": [
      "CPU times: user 766 µs, sys: 1.01 ms, total: 1.78 ms\n",
      "Wall time: 1 s\n"
     ]
    },
    {
     "data": {
      "text/plain": [
       "{'n_estimators': 556, 'max_depth': 10}"
      ]
     },
     "execution_count": 24,
     "metadata": {},
     "output_type": "execute_result"
    }
   ],
   "source": [
    "# Random Forest\n",
    "# Parametros a buscar n_estimators y max_depth\n",
    "n_estimator = [int(x) for x in np.linspace(start = 1, stop = 1000, num = 10)]\n",
    "random_grid = {'n_estimators': n_estimator,\n",
    "               'max_depth':(1,10,100,1000)\n",
    "              }\n",
    "random_grid\n",
    "\n",
    "%time time.sleep(1)\n",
    "rf =  RandomForestClassifier()\n",
    "rf_RandomizedSearchCV = RandomizedSearchCV(estimator = rf, \n",
    "                                           param_distributions = random_grid, \n",
    "                                           n_iter = 100, \n",
    "                                           cv = 3, \n",
    "                                           verbose=0, \n",
    "                                           random_state=42, \n",
    "                                           n_jobs = -1)\n",
    "rf_RandomizedSearchCV.fit(X_train, y_train)\n",
    "rf_RandomizedSearchCV.best_params_"
   ]
  },
  {
   "cell_type": "code",
   "execution_count": 25,
   "metadata": {},
   "outputs": [
    {
     "name": "stdout",
     "output_type": "stream",
     "text": [
      "CPU times: user 482 µs, sys: 860 µs, total: 1.34 ms\n",
      "Wall time: 1 s\n",
      "0.9959270120560443\n",
      "\n",
      "MAE: 0.004072987943955686\n",
      "\n",
      "MSE: 0.004072987943955686\n",
      "\n",
      "RMSE: 0.06381996508895697\n",
      "\n",
      "R2 Square 0.6142036901435893\n"
     ]
    }
   ],
   "source": [
    "# Random forest\n",
    "%time time.sleep(1)\n",
    "from sklearn.ensemble import RandomForestClassifier\n",
    "random_forest2 = RandomForestClassifier(n_estimators=123,max_depth=10)\n",
    "random_forest2.fit(X_train, y_train)\n",
    "print(random_forest2.score(X_test, y_test))\n",
    "print_evaluate(y_test,random_forest2.predict(X_test))"
   ]
  },
  {
   "cell_type": "code",
   "execution_count": 26,
   "metadata": {},
   "outputs": [
    {
     "data": {
      "image/png": "[encoded data removed]",
      "text/plain": [
       "<Figure size 432x288 with 1 Axes>"
      ]
     },
     "metadata": {
      "needs_background": "light"
     },
     "output_type": "display_data"
    }
   ],
   "source": [
    "import scikitplot as skplt\n",
    "import matplotlib.pyplot as plt\n",
    "y_predicted = random_forest2.predict(X_test)\n",
    "skplt.metrics.plot_roc(y_test, random_forest2.predict_proba(X_test))\n",
    "plt.show()"
   ]
  },
  {
   "cell_type": "code",
   "execution_count": 27,
   "metadata": {},
   "outputs": [
    {
     "data": {
      "text/plain": [
       "<matplotlib.axes._subplots.AxesSubplot at 0x12bdeb2d0>"
      ]
     },
     "execution_count": 27,
     "metadata": {},
     "output_type": "execute_result"
    },
    {
     "data": {
      "image/png": "[encoded data removed]",
      "text/plain": [
       "<Figure size 432x288 with 2 Axes>"
      ]
     },
     "metadata": {
      "needs_background": "light"
     },
     "output_type": "display_data"
    }
   ],
   "source": [
    "y_predicted_rf = random_forest2.predict(X_test)\n",
    "skplt.metrics.plot_confusion_matrix(y_test, y_predicted_rf)"
   ]
  },
  {
   "cell_type": "markdown",
   "metadata": {
    "colab_type": "text",
    "id": "zgHRHD_lTXGM"
   },
   "source": [
    "# Conclusiones\n",
    "\n",
    "* Que conclusiones obtienes\n",
    "* Tiempos de entrenamiento?\n",
    "* Merece siempre la pena?"
   ]
  },
  {
   "cell_type": "code",
   "execution_count": 28,
   "metadata": {
    "colab": {},
    "colab_type": "code",
    "id": "w9aMuha2TXGM"
   },
   "outputs": [],
   "source": [
    "# De los tres modelos que he escogido, el mejor scoring lo tiene el RandomForestClassifier (siendo incluso un poco mejor el modelo base que el tuneado con dos hiperparmetros)\n",
    "# Si atendemos a la matriz de confusion, tambien RandomForest seria el mas adecuado, puesto que tiene el numero mas bajo de casos en que el valor real es OK, y lo clasifico como BAD.\n",
    "# La principal conclusion que obtengo es que no siempre la busqueda de hiperparametros es rentable, en ocasiones la parametrizacion por defecto es suficiente para \n",
    "# obtener unos buenos resultados e incluso en alguna ocasion el modelo base o por defecto es superior.\n",
    "\n",
    "# Los tiempos de entrenamiento son ligeramente mayores cuando usamos los hiperparamtros. "
   ]
  }
 ],
 "metadata": {
  "colab": {
   "collapsed_sections": [],
   "name": "S7_challenge_solucion-clase.ipynb",
   "provenance": [],
   "toc_visible": true,
   "version": "0.3.2"
  },
  "kernelspec": {
   "display_name": "Python 3",
   "language": "python",
   "name": "python3"
  },
  "language_info": {
   "codemirror_mode": {
    "name": "ipython",
    "version": 3
   },
   "file_extension": ".py",
   "mimetype": "text/x-python",
   "name": "python",
   "nbconvert_exporter": "python",
   "pygments_lexer": "ipython3",
   "version": "3.7.4"
  }
 },
 "nbformat": 4,
 "nbformat_minor": 4
}

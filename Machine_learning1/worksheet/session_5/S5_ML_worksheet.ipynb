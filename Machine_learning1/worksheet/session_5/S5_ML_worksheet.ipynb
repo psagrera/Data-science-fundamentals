{
 "cells": [
  {
   "cell_type": "markdown",
   "metadata": {},
   "source": [
    "<img src=\"data:image/png;base64,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\" style=\"height: 100px\">\n",
    "<center style=\"color:#888\">Módulo Data Science in IoT<br/>Asignatura Machine Learning</center>\n",
    "<center style=\"color:#aaa; margin-top:10px;\">Prof. Diego García Morate<br>diegogm@faculty.mioti.es</center>\n",
    "\n",
    "# Worksheet S5: Clasificadores Lineales y NN"
   ]
  },
  {
   "cell_type": "markdown",
   "metadata": {},
   "source": [
    "## Objetivos\n",
    "\n",
    "El objetivo de este worksheet es que comprendas uno de los métodos de clasificación más usado las redes neuronales."
   ]
  },
  {
   "cell_type": "markdown",
   "metadata": {},
   "source": [
    "## Redes neuronales (NN)\n",
    "\n",
    "Las redes neuronales (Neural networks) son uno de los clasificadores que han resurgido en los últimos años debido a los avances obtenidos mediante técnicas de deep learning. Este tipo de redes, aunque tienen una inspiración original basado en la biología del cerebro, se ha demostrado a lo largo de los años que su funcionamiento dista mucho de como funciona el cerebro humano.\n",
    "\n",
    "<img src=\"brain_vs_nn.jpeg\" width=\"80%\">\n",
    "\n",
    "Aprenderemos en este worksheet como funcionan las redes neuronales desde los clasificadores lineales:"
   ]
  },
  {
   "cell_type": "markdown",
   "metadata": {},
   "source": [
    "## Configuración del entorno"
   ]
  },
  {
   "cell_type": "code",
   "execution_count": 1,
   "metadata": {},
   "outputs": [],
   "source": [
    "%matplotlib inline\n",
    "\n",
    "import warnings\n",
    "warnings.filterwarnings(\"ignore\")\n",
    "\n",
    "import numpy as np\n",
    "np.set_printoptions(precision=3)\n",
    "import pandas as pd\n",
    "import matplotlib.pyplot as plt\n",
    "import sklearn\n",
    "from sklearn.metrics import confusion_matrix\n",
    "from sklearn.model_selection import cross_val_score\n",
    "\n",
    "import math"
   ]
  },
  {
   "cell_type": "markdown",
   "metadata": {},
   "source": [
    "También vamos a cargar algunas funciones que nos resultarán interesantes."
   ]
  },
  {
   "cell_type": "code",
   "execution_count": 2,
   "metadata": {},
   "outputs": [],
   "source": [
    "def plot_2d_separator(classifier, X, y, fill=False, ax=None, eps=None):\n",
    "    from matplotlib.colors import ListedColormap\n",
    "    cm_bright = ListedColormap(['#FF0000', '#0000FF', '#00FFFF'])\n",
    "    plt.scatter(X[:,0], X[:, 1], c=y, cmap=cm_bright, edgecolors='k')\n",
    "    \n",
    "    if eps is None:\n",
    "        eps = X.std() / 2.\n",
    "    x_min, x_max = X[:, 0].min() - eps, X[:, 0].max() + eps\n",
    "    y_min, y_max = X[:, 1].min() - eps, X[:, 1].max() + eps\n",
    "    xx = np.linspace(x_min, x_max, 100)\n",
    "    yy = np.linspace(y_min, y_max, 100)\n",
    "\n",
    "    X1, X2 = np.meshgrid(xx, yy)\n",
    "    X_grid = np.c_[X1.ravel(), X2.ravel()]\n",
    "    try:\n",
    "        decision_values = classifier.decision_function(X_grid)\n",
    "        levels = [0]\n",
    "        fill_levels = [decision_values.min(), 0, decision_values.max()]\n",
    "    except AttributeError:\n",
    "        # no decision_function\n",
    "        decision_values = classifier.predict_proba(X_grid)[:, 1]\n",
    "        levels = [.5]\n",
    "        fill_levels = [0, .5, 1]\n",
    "\n",
    "    if ax is None:\n",
    "        ax = plt.gca()\n",
    "\n",
    "    ax.contour(X1, X2, decision_values.reshape(X1.shape), levels=levels, colors=\"black\")"
   ]
  },
  {
   "cell_type": "code",
   "execution_count": 3,
   "metadata": {},
   "outputs": [],
   "source": [
    "def dibuja_dataset(X, y):  \n",
    "    from matplotlib.colors import ListedColormap\n",
    "    cm_bright = ListedColormap(['#FF0000', '#0000FF', '#00FFFF', '#FF00FF'])\n",
    "    plt.scatter(X[:,0], X[:, 1], c=y, cmap=cm_bright, edgecolors='k')"
   ]
  },
  {
   "cell_type": "code",
   "execution_count": 4,
   "metadata": {},
   "outputs": [],
   "source": [
    "from enum import Enum\n",
    "class LogLevel(Enum):\n",
    "    ALL = 0\n",
    "    TRACE = 1\n",
    "    DEBUG = 2\n",
    "    INFO = 3\n",
    "        \n",
    "class Logger():\n",
    "    def __init__(self, scope, level=LogLevel.INFO):\n",
    "        self.scope = scope\n",
    "        self.level = level\n",
    "        \n",
    "    def info(self, msg):\n",
    "        if self.level.value > LogLevel.INFO.value:\n",
    "            return\n",
    "        \n",
    "        print(\"INFO  [{}] {}\".format(self.scope, msg))\n",
    "        \n",
    "    def debug(self, msg):\n",
    "        if self.level.value > LogLevel.DEBUG.value:\n",
    "            return\n",
    "        \n",
    "        print(\"DEBUG [{}] {}\".format(self.scope, msg))\n",
    "        \n",
    "    def trace(self, msg):\n",
    "        if self.level.value > LogLevel.TRACE.value:\n",
    "            return\n",
    "        \n",
    "        print(\"TRACE [{}] {}\".format(self.scope, msg))"
   ]
  },
  {
   "cell_type": "markdown",
   "metadata": {},
   "source": [
    "## Dataset\n",
    "\n",
    "Para ilustrar este ejemplo vamos a generar un dataset ficticio con la función `make_moons`:"
   ]
  },
  {
   "cell_type": "code",
   "execution_count": 5,
   "metadata": {},
   "outputs": [],
   "source": [
    "from sklearn.datasets.samples_generator import make_blobs\n",
    "dataset_X, dataset_y = make_blobs(cluster_std=2.75, n_samples=100, centers=3, n_features=2, random_state=42)"
   ]
  },
  {
   "cell_type": "code",
   "execution_count": 6,
   "metadata": {},
   "outputs": [],
   "source": [
    "dataset_X[:,1] *= 100"
   ]
  },
  {
   "cell_type": "code",
   "execution_count": 7,
   "metadata": {},
   "outputs": [],
   "source": [
    "dataset_X[:, 0] += 300"
   ]
  },
  {
   "cell_type": "code",
   "execution_count": 8,
   "metadata": {},
   "outputs": [
    {
     "name": "stdout",
     "output_type": "stream",
     "text": [
      "[  290.792 -1104.594]\n"
     ]
    }
   ],
   "source": [
    "print(dataset_X[0])"
   ]
  },
  {
   "cell_type": "code",
   "execution_count": 9,
   "metadata": {},
   "outputs": [
    {
     "name": "stdout",
     "output_type": "stream",
     "text": [
      "[  290.792 -1104.594]\n"
     ]
    }
   ],
   "source": [
    "print(dataset_X[0])"
   ]
  },
  {
   "cell_type": "code",
   "execution_count": 10,
   "metadata": {},
   "outputs": [
    {
     "data": {
      "image/png": "[encoded data removed]",
      "text/plain": [
       "<Figure size 432x288 with 1 Axes>"
      ]
     },
     "metadata": {
      "needs_background": "light"
     },
     "output_type": "display_data"
    }
   ],
   "source": [
    "dibuja_dataset(dataset_X, dataset_y)"
   ]
  },
  {
   "cell_type": "markdown",
   "metadata": {},
   "source": [
    "## Conjunto de entrenamiento y test\n",
    "\n",
    "Como siempre, dividimos el dataset en conjunto de entrenamiento y test."
   ]
  },
  {
   "cell_type": "code",
   "execution_count": 11,
   "metadata": {},
   "outputs": [],
   "source": [
    "from sklearn.model_selection import train_test_split\n",
    "\n",
    "X_train, X_test, y_train, y_test = train_test_split(dataset_X, dataset_y, test_size=.3, random_state=42)"
   ]
  },
  {
   "cell_type": "markdown",
   "metadata": {},
   "source": [
    "## Clasificadores lineales\n",
    "\n",
    "Imaginemos el siguiente problema: Tenemos dataset con 2 variables que queremos clasificar en 2 posibles categorias (clases): 0 y 1.\n",
    "\n",
    "Este problema lo podemos reformular de la siguiente manera: Encontrar una función $f$ tal que aplicar la función sobre una instancia $x_i$ del dataset de entrada e incluyendo información previa $W$, $f(x_i; W)$ nos devuelva un número que indique la probabilidad de pertenencia de cada instancia $x_i$ a cada clase.\n",
    "\n",
    "Un enfoque sencillo que podemos hacer es plantear un sistema de ecuaciones de la siguiente manera:\n",
    "\n",
    "$$ x_i \\times W = f(x_i; W) $$\n",
    "\n",
    "Por ejemplo, si lo queremos aplicar sobre un elemento $x_i$ con valores $(0.1, 0.7)$ y matriz de pesos $W$ $((0.4, 0.8), (0.4, 0.1))$ podemos plantear un sistema de la siguiente manera:\n",
    "\n",
    "$$\n",
    "\\left( \\begin{array}{c}\n",
    "0.1 & 0.7 \n",
    "\\end{array} \\right)\n",
    "\\times\n",
    "\\left( \\begin{array}{cc}\n",
    "0.4 & 0.8 \\\\\n",
    "0.3 & 0.1\n",
    "\\end{array} \\right)\n",
    "=\n",
    "\\left( \\begin{array}{c}\n",
    "0.25 & 0.15 \n",
    "\\end{array} \\right)\n",
    "$$\n",
    "\n",
    "De esta manera, podemos tomar el vector resultado $(0.25, 0.15)$ e interpretarlo como la probabilidad de pertenencia a cada clase."
   ]
  },
  {
   "cell_type": "code",
   "execution_count": 12,
   "metadata": {},
   "outputs": [
    {
     "name": "stdout",
     "output_type": "stream",
     "text": [
      "[0.25 0.15]\n"
     ]
    }
   ],
   "source": [
    "xi = np.array([0.1, 0.7])\n",
    "W = np.array([[0.4, 0.8], [0.3, 0.1]])\n",
    "print(xi.dot(W))"
   ]
  },
  {
   "cell_type": "markdown",
   "metadata": {},
   "source": [
    "### Preguntas\n",
    "\n",
    "* ¿Qué dimensiones tiene que tener la matrix W?\n",
    "\n",
    "$$ (n_{instancias}, n_{atributos}) \\times (n_{atributos}, n_{clases}) = (n_{instancias}, n_{clases})$$\n",
    "\n",
    "* ¿Es realmente el vector resultante un vector de probabilidades?\n",
    "* ¿Cómo podemos obtener esa matriz de pesos $W$?"
   ]
  },
  {
   "cell_type": "markdown",
   "metadata": {},
   "source": [
    "## Fuerza bruta\n",
    "\n",
    "Una primera aproximación que podrías plantear para encontrar una buena matriz $W$ es generar matrices $W$ aleatorias, probarlas con el conjunto de entrenamiento y quedarnos con la que mejor funcione.\n",
    "\n",
    "Por ejemplo lo podemos hacer con el dataset que hemos cargado: "
   ]
  },
  {
   "cell_type": "code",
   "execution_count": 13,
   "metadata": {},
   "outputs": [],
   "source": [
    "def evalua_W(W, X, y, debug=False):\n",
    "    aciertos = 0\n",
    "    \n",
    "    for i in range(len(X)): # Recorremos cada instancia\n",
    "        # Proyectamos: W x x_i\n",
    "        probs = np.dot(X[i], W)\n",
    "                \n",
    "        if probs[y[i]] == np.max(probs):\n",
    "            aciertos += 1\n",
    "            if debug:\n",
    "                print(\"\\tOK  y={} probs={} \".format(y[i], probs))\n",
    "        else:\n",
    "            if debug:\n",
    "                print(\"\\tBAD y={} probs={} \".format(y[i], probs))\n",
    "    \n",
    "    return aciertos / len(X)"
   ]
  },
  {
   "cell_type": "markdown",
   "metadata": {},
   "source": [
    "Podemos probar la función con una matrix $W$ aleatoria:"
   ]
  },
  {
   "cell_type": "code",
   "execution_count": 14,
   "metadata": {},
   "outputs": [
    {
     "name": "stdout",
     "output_type": "stream",
     "text": [
      "num_features: 2\n",
      "num_classes:  3\n",
      "Creada matrix W aleatoria con dimensiones (2, 3)\n",
      "\tOK  y=2 probs=[  66.003 -202.064  242.783] \n",
      "\tOK  y=2 probs=[ -39.174 -411.371  226.94 ] \n",
      "\tBAD y=0 probs=[355.413 369.444 289.477] \n",
      "\tOK  y=2 probs=[   4.449 -320.906  230.959] \n",
      "\tOK  y=1 probs=[542.252 732.269 323.904] \n",
      "\tBAD y=1 probs=[225.041 105.412 273.039] \n",
      "\tOK  y=1 probs=[572.348 793.856 327.255] \n",
      "\tOK  y=2 probs=[-225.01  -781.626  199.246] \n",
      "\tBAD y=0 probs=[544.004 747.583 315.908] \n",
      "\tOK  y=2 probs=[  11.388 -310.992  234.725] \n",
      "\tBAD y=1 probs=[232.742 120.182 274.587] \n",
      "\tBAD y=0 probs=[668.853 989.437 339.327] \n",
      "\tBAD y=1 probs=[331.754 315.543 290.674] \n",
      "\tBAD y=0 probs=[646.829 952.616 331.115] \n",
      "\tOK  y=2 probs=[-179.939 -693.144  206.881] \n",
      "\tOK  y=2 probs=[ -90.827 -515.185  219.872] \n",
      "\tBAD y=1 probs=[253.272 160.993 277.712] \n",
      "\tBAD y=0 probs=[ 698.012 1053.88   339.239] \n",
      "\tOK  y=2 probs=[-169.8   -670.229  206.498] \n",
      "\tBAD y=0 probs=[439.947 541.914 299.248] \n",
      "\tBAD y=0 probs=[ 756.665 1169.372  348.934] \n",
      "\tBAD y=1 probs=[134.331 -82.725 264.696] \n",
      "\tBAD y=0 probs=[ 692.639 1041.966  339.283] \n",
      "\tBAD y=1 probs=[330.669 309.839 292.987] \n",
      "\tOK  y=1 probs=[402.058 454.578 301.876] \n",
      "\tBAD y=1 probs=[314.934 275.468 292.751] \n",
      "\tBAD y=0 probs=[ 690.212 1035.874  339.799] \n",
      "\tOK  y=2 probs=[226.133 118.401 265.651] \n",
      "\tBAD y=0 probs=[416.118 490.79  298.245] \n",
      "\tBAD y=1 probs=[123.905 -97.886 259.223] \n",
      "\tBAD y=0 probs=[612.291 884.876 325.219] \n",
      "\tBAD y=0 probs=[541.555 743.451 315.022] \n",
      "\tOK  y=2 probs=[134.339 -67.817 254.297] \n",
      "\tBAD y=0 probs=[598.314 858.023 322.441] \n",
      "\tOK  y=1 probs=[380.189 419.505 292.682] \n",
      "\tOK  y=2 probs=[-178.094 -684.738  203.853] \n",
      "\tOK  y=2 probs=[ -65.419 -458.083  219.134] \n",
      "\tOK  y=1 probs=[348.966 350.792 292.571] \n",
      "\tBAD y=1 probs=[252.787 159.774 277.816] \n",
      "\tBAD y=1 probs=[337.214 326.237 291.618] \n",
      "\tBAD y=1 probs=[296.344 249.175 282.478] \n",
      "\tBAD y=0 probs=[556.32  771.733 318.014] \n",
      "\tBAD y=1 probs=[235.187 117.913 279.938] \n",
      "\tOK  y=2 probs=[  82.283 -168.969  244.75 ] \n",
      "\tOK  y=2 probs=[  38.745 -259.023  240.574] \n",
      "\tBAD y=0 probs=[360.764 379.997 290.349] \n",
      "\tOK  y=2 probs=[ -34.547 -404.625  229.355] \n",
      "\tBAD y=1 probs=[325.472 302.946 289.795] \n",
      "\tBAD y=0 probs=[ 788.38  1234.305  352.442] \n",
      "\tBAD y=0 probs=[511.032 685.425 308.527] \n",
      "\tBAD y=1 probs=[284.81  227.352 279.951] \n",
      "\tBAD y=0 probs=[457.801 574.062 304.3  ] \n",
      "\tBAD y=0 probs=[535.109 726.981 316.594] \n",
      "\tOK  y=2 probs=[-236.273 -799.527  194.398] \n",
      "\tBAD y=1 probs=[152.705 -44.289 266.158] \n",
      "\tBAD y=0 probs=[ 734.517 1122.61   347.472] \n",
      "\tOK  y=2 probs=[ -44.681 -421.56   225.571] \n",
      "\tBAD y=0 probs=[639.344 937.059 330.448] \n",
      "\tBAD y=0 probs=[ 754.385 1163.589  349.459] \n",
      "\tOK  y=1 probs=[466.392 585.883 309.278] \n",
      "\tOK  y=1 probs=[379.336 406.057 300.759] \n",
      "\tBAD y=1 probs=[234.265 120.38  276.795] \n",
      "\tBAD y=0 probs=[555.428 763.885 322.122] \n",
      "\tBAD y=0 probs=[440.789 537.569 303.58 ] \n",
      "\tBAD y=0 probs=[524.426 708.162 313.28 ] \n",
      "\tOK  y=2 probs=[-164.291 -660.939  208.496] \n",
      "\tOK  y=2 probs=[ -43.458 -420.145  226.468] \n",
      "\tBAD y=0 probs=[599.32  853.574 327.098] \n",
      "\tBAD y=0 probs=[415.69  492.984 296.054] \n",
      "\tBAD y=1 probs=[264.735 181.361 281.145] \n",
      "Porcentaje de acierto: 0.37\n"
     ]
    }
   ],
   "source": [
    "num_features = dataset_X.shape[1]\n",
    "num_classes = np.max(dataset_y) + 1\n",
    "\n",
    "print(\"num_features: {}\".format(num_features))\n",
    "print(\"num_classes:  {}\".format(num_classes))\n",
    "\n",
    "# Generamos una matriz aleatoria\n",
    "W = np.random.random((num_features, num_classes))\n",
    "print(\"Creada matrix W aleatoria con dimensiones {}\".format(W.shape))\n",
    "\n",
    "# Evaluamos el porcentaje de acierto\n",
    "acierto = evalua_W(W, X_train, y_train, debug=True)\n",
    "\n",
    "print(\"Porcentaje de acierto: %.2f\" % acierto)"
   ]
  },
  {
   "cell_type": "markdown",
   "metadata": {},
   "source": [
    "Y podemos expandir este enfoque a evaluar muchas matrices $W$ aleatorias para quedarnos con la mejor:"
   ]
  },
  {
   "cell_type": "code",
   "execution_count": 15,
   "metadata": {},
   "outputs": [],
   "source": [
    "def entrena_clasificador_lineal_W(X, y):\n",
    "    mejor_W = None\n",
    "    mejor_acierto = 0\n",
    "    \n",
    "    num_features = X.shape[1]\n",
    "    num_classes = np.max(y) + 1\n",
    "    \n",
    "    for i in range(5000):\n",
    "        W = np.random.rand(num_features, num_classes)\n",
    "        acierto = evalua_W(W, X, y)\n",
    "            \n",
    "        if acierto > mejor_acierto:\n",
    "            mejor_acierto = acierto\n",
    "            mejor_W = W\n",
    "            print(\"[%05d] Porcentaje de acierto: %.3f\" % (i, mejor_acierto))\n",
    "\n",
    "    print(\"[  End] Porcentaje de acierto: %.3f\" % (mejor_acierto))\n",
    "    print(\"mejor_W:\\n\" + str(mejor_W))"
   ]
  },
  {
   "cell_type": "code",
   "execution_count": 16,
   "metadata": {},
   "outputs": [
    {
     "name": "stdout",
     "output_type": "stream",
     "text": [
      "[00000] Porcentaje de acierto: 0.343\n",
      "[00001] Porcentaje de acierto: 0.586\n",
      "[00003] Porcentaje de acierto: 0.600\n",
      "[00006] Porcentaje de acierto: 0.629\n",
      "[00012] Porcentaje de acierto: 0.743\n",
      "[00117] Porcentaje de acierto: 0.814\n",
      "[00374] Porcentaje de acierto: 0.843\n",
      "[00552] Porcentaje de acierto: 0.886\n",
      "[  End] Porcentaje de acierto: 0.886\n",
      "mejor_W:\n",
      "[[0.077 0.472 0.226]\n",
      " [0.752 0.416 0.053]]\n"
     ]
    }
   ],
   "source": [
    "entrena_clasificador_lineal_W(X_train, y_train)"
   ]
  },
  {
   "cell_type": "markdown",
   "metadata": {},
   "source": [
    "## Mejorando la fuerza bruta\n",
    "\n",
    "¿Cómo podríamos mejorar la fuerza bruta?\n",
    "\n",
    "Unas de las principales debilidades es el espacio enorme que estamos evaluando, estamos generando matrices $W$ en un rango acotado [0, 1] y los datos no lo están. ¿Cómo podríamos mejorarlo?"
   ]
  },
  {
   "cell_type": "code",
   "execution_count": 17,
   "metadata": {},
   "outputs": [
    {
     "data": {
      "text/plain": [
       "array([[0.4  , 0.407],\n",
       "       [0.748, 0.6  ],\n",
       "       [0.369, 0.834]])"
      ]
     },
     "execution_count": 17,
     "metadata": {},
     "output_type": "execute_result"
    }
   ],
   "source": [
    "np.random.rand(3,2)"
   ]
  },
  {
   "cell_type": "markdown",
   "metadata": {},
   "source": [
    "## Normalizando los datos"
   ]
  },
  {
   "cell_type": "code",
   "execution_count": 18,
   "metadata": {},
   "outputs": [
    {
     "data": {
      "text/plain": [
       "DescribeResult(nobs=100, minmax=(array([  288.7  , -1104.594]), array([ 309.827, 1410.805])), mean=array([298.067, 152.61 ]), variance=array([2.764e+01, 4.615e+05]), skewness=array([ 0.323, -0.056]), kurtosis=array([-0.891, -1.068]))"
      ]
     },
     "execution_count": 18,
     "metadata": {},
     "output_type": "execute_result"
    }
   ],
   "source": [
    "from scipy import stats\n",
    "stats.describe(dataset_X)"
   ]
  },
  {
   "cell_type": "code",
   "execution_count": 19,
   "metadata": {},
   "outputs": [],
   "source": [
    "from sklearn.preprocessing import StandardScaler\n",
    "scaler = StandardScaler()\n",
    "scaler.fit(dataset_X)\n",
    "dataset_X_norm = scaler.transform(dataset_X)"
   ]
  },
  {
   "cell_type": "code",
   "execution_count": 20,
   "metadata": {},
   "outputs": [
    {
     "data": {
      "text/plain": [
       "DescribeResult(nobs=100, minmax=(array([-1.791, -1.86 ]), array([2.248, 1.862])), mean=array([ 2.758e-14, -3.109e-17]), variance=array([1.01, 1.01]), skewness=array([ 0.323, -0.056]), kurtosis=array([-0.891, -1.068]))"
      ]
     },
     "execution_count": 20,
     "metadata": {},
     "output_type": "execute_result"
    }
   ],
   "source": [
    "stats.describe(dataset_X_norm)"
   ]
  },
  {
   "cell_type": "code",
   "execution_count": 21,
   "metadata": {
    "scrolled": true
   },
   "outputs": [
    {
     "data": {
      "image/png": "[encoded data removed]",
      "text/plain": [
       "<Figure size 432x288 with 1 Axes>"
      ]
     },
     "metadata": {
      "needs_background": "light"
     },
     "output_type": "display_data"
    }
   ],
   "source": [
    "dibuja_dataset(dataset_X, dataset_y)"
   ]
  },
  {
   "cell_type": "code",
   "execution_count": 22,
   "metadata": {},
   "outputs": [
    {
     "data": {
      "image/png": "[encoded data removed]",
      "text/plain": [
       "<Figure size 432x288 with 1 Axes>"
      ]
     },
     "metadata": {
      "needs_background": "light"
     },
     "output_type": "display_data"
    }
   ],
   "source": [
    "dibuja_dataset(dataset_X_norm, dataset_y)"
   ]
  },
  {
   "cell_type": "code",
   "execution_count": 23,
   "metadata": {},
   "outputs": [],
   "source": [
    "X_train, X_test, y_train, y_test = train_test_split(dataset_X_norm, dataset_y, test_size=.3, random_state=42)"
   ]
  },
  {
   "cell_type": "code",
   "execution_count": 24,
   "metadata": {},
   "outputs": [],
   "source": [
    "def entrena_clasificador_lineal_W2(X, y):\n",
    "    mejor_W = None\n",
    "    mejor_acierto = 0\n",
    "    \n",
    "    num_features = X.shape[1]\n",
    "    num_classes = np.max(y) + 1\n",
    "    \n",
    "    for i in range(5000):\n",
    "        W = np.random.rand(num_features, num_classes) # Rango [0, 1]\n",
    "        W *= 2 # Rango [0, 2]\n",
    "        W -= 1 # Rango [-1, 1]\n",
    "        acierto = evalua_W(W, X, y)\n",
    "            \n",
    "        if acierto > mejor_acierto:\n",
    "            mejor_acierto = acierto\n",
    "            mejor_W = W\n",
    "            print(\"[%05d] Porcentaje de acierto: %.3f\" % (i, mejor_acierto))\n",
    "\n",
    "    print(\"[  End] Porcentaje de acierto: %.3f\" % (mejor_acierto))\n",
    "    print(\"mejor_W: \" + str(mejor_W))"
   ]
  },
  {
   "cell_type": "code",
   "execution_count": 25,
   "metadata": {
    "scrolled": true
   },
   "outputs": [
    {
     "name": "stdout",
     "output_type": "stream",
     "text": [
      "[00000] Porcentaje de acierto: 0.457\n",
      "[00004] Porcentaje de acierto: 0.543\n",
      "[00005] Porcentaje de acierto: 0.571\n",
      "[00011] Porcentaje de acierto: 0.714\n",
      "[00021] Porcentaje de acierto: 0.943\n",
      "[00118] Porcentaje de acierto: 0.957\n",
      "[00125] Porcentaje de acierto: 0.986\n",
      "[  End] Porcentaje de acierto: 0.986\n",
      "mejor_W: [[-0.237  0.957 -0.966]\n",
      " [ 0.809 -0.013 -0.85 ]]\n"
     ]
    }
   ],
   "source": [
    "entrena_clasificador_lineal_W2(X_train, y_train)"
   ]
  },
  {
   "cell_type": "markdown",
   "metadata": {},
   "source": [
    "## Saliendo de la linearidad (función de activación)\n",
    "\n",
    "Hemos visto hasta un clasificador lineal, que en un espacio 2D como el de los datos, es capaz de obtener un plano de separación entre los datos. Pero... no siempre los datos serán separables por planos lineales. ¿Es posible utilizar funciones algo más complicadas para generar planos de separación más complicadas?\n",
    "\n",
    "La realidad es que si, e incorporando un poco de complejidad a nuestro clasificador podemos conseguir un clasificador no lineal. Estas funciones se denominan funciones de activación.\n",
    "\n",
    "Una de las funciones de activación más utilizadas es la función sigmoide:\n",
    "\n",
    "$$\\frac{1}{1 + e^{-x}}$$\n",
    "\n",
    "Que tiene la siguiente pinta:\n",
    "\n",
    "<img src=\"sigmoide.png\">\n",
    "\n",
    "Podemos aplicarlo en nuestro ejemplo anterior de la siguiente manera:"
   ]
  },
  {
   "cell_type": "code",
   "execution_count": 26,
   "metadata": {},
   "outputs": [],
   "source": [
    "def sigmoide(x):\n",
    "    return 1 / (1 + np.exp(-x))\n",
    "\n",
    "def evalua_W_sigmoide(W, X, y):\n",
    "    aciertos = 0\n",
    "    for i in range(len(X)):\n",
    "        probs = sigmoide(np.dot(X[i], W)) # W x x_i\n",
    "        \n",
    "        if probs[y[i]] == np.max(probs):\n",
    "            aciertos += 1\n",
    "    \n",
    "    return aciertos / len(X)\n",
    "\n",
    "def entrena_clasificador_lineal_W2_sigmoide(X, y, iteraciones):\n",
    "    \n",
    "    mejor_W = None\n",
    "    mejor_acierto = 0\n",
    "    \n",
    "    num_features = X.shape[1]\n",
    "    num_classes = np.max(y) + 1\n",
    "    \n",
    "    for i in range(iteraciones):\n",
    "        W = np.random.rand(num_features, num_classes) # Rango [0, 1]\n",
    "        W *= 2 # Rango [0, 2]\n",
    "        W -= 1 # Rango [-1, 1]\n",
    "        acierto = evalua_W_sigmoide(W, X, y)\n",
    "            \n",
    "        if acierto > mejor_acierto:\n",
    "            mejor_acierto = acierto\n",
    "            mejor_W = W\n",
    "            print(\"[%05d] Porcentaje de acierto: %.3f\" % (i, mejor_acierto))\n",
    "\n",
    "    print(\"[  End] Porcentaje de acierto: %.3f\" % (mejor_acierto))\n",
    "    print(\"mejor_W: \" + str(mejor_W))"
   ]
  },
  {
   "cell_type": "code",
   "execution_count": 27,
   "metadata": {
    "scrolled": true
   },
   "outputs": [
    {
     "name": "stdout",
     "output_type": "stream",
     "text": [
      "[00001] Porcentaje de acierto: 0.200\n",
      "[00003] Porcentaje de acierto: 0.343\n",
      "[00004] Porcentaje de acierto: 0.714\n",
      "[00007] Porcentaje de acierto: 0.757\n",
      "[00017] Porcentaje de acierto: 0.929\n",
      "[00026] Porcentaje de acierto: 0.986\n",
      "[  End] Porcentaje de acierto: 0.986\n",
      "mejor_W: [[-0.481  0.772 -0.764]\n",
      " [ 0.862 -0.101 -0.111]]\n"
     ]
    }
   ],
   "source": [
    "entrena_clasificador_lineal_W2_sigmoide(X_train, y_train, 5000)"
   ]
  },
  {
   "cell_type": "markdown",
   "metadata": {},
   "source": [
    "## Función de pérdida\n",
    "\n",
    "\n",
    "Esta bien utilizar el porcentaje de acierto como medida para guiar nuestro proceso de aprendizaje. No obstante el porcentaje de aciertos tiene el problema de que no es una función continua, ya que va por tramos en función de cuantas instancias tenemos.\n",
    "\n",
    "* Si tenemos 1 instancias: los porcentajes de aciertos pueden ser: 0% o 100%\n",
    "* Si tenemos 2 instancias: los porcentajes de aciertos pueden ser: 0%, 50% o 100%\n",
    "* Si tenemos 3 instancias: 0%, 33%, 66%, 100%\n",
    "* ...\n",
    "\n",
    "Además nuestro objetivo no es sólo clasificar correctamente los distintos casos, sino que el clasificador, en este caso la red neuronal, discrimine al máximo unos casos y otros. Es decir, queremos que el vector resultado, si tenemos 2 clases (perros y gatos) no sea `[0.49, 0.51]` sino que, si relamente es un perro, sea ``[0.99, 0.001]``.\n",
    "\n",
    "Para ello existen varias funciones de pérdida, la más habitual a día de hoy es `SoftMax` que se define de la siguiente manera:\n",
    "\n",
    "$$ L_i = -log(\\frac{e^{sy_i}}{\\sum_j e^{S_j}}) $$\n",
    "\n",
    "Parece muy complicada esta función, pero es fácil de entender con un ejemplo.\n",
    "\n",
    "Supongamos que tenemos un clasificador que devuelve como resultado:\n",
    "\n",
    "$$\n",
    "\\left( \\begin{array}{cc}\n",
    "Perro \\\\\n",
    "Gato \\\\\n",
    "Pájaro\n",
    "\\end{array} \\right)\n",
    "=\n",
    "\\left( \\begin{array}{cc}\n",
    "3.2 \\\\\n",
    "5.1 \\\\\n",
    "-1.7\n",
    "\\end{array} \\right)\n",
    "$$\n",
    "\n",
    "Para poder calcular debemos calcular $e^x$ de los scores obtenidos:\n",
    "\n",
    "$$\n",
    "\\left( \\begin{array}{cc}\n",
    "e^{3.2} \\\\\n",
    "e^{5.1} \\\\\n",
    "e^{-1.7}\n",
    "\\end{array} \\right)\n",
    "=\n",
    "\\left( \\begin{array}{cc}\n",
    "24.5 \\\\\n",
    "164.0 \\\\\n",
    "0.18\n",
    "\\end{array} \\right)\n",
    "$$\n",
    "\n",
    "Esto nos devuelve las probabilidades no normalizadas. Ahora el siguiente paso es normalizarlas, que es tan fácil como dividir cada elemento entre la suma de todos:\n",
    "\n",
    "$$ 24.5 + 164.0 + 0.18 = 188.68 $$\n",
    "\n",
    "Y dividimos cada elemento entre el total:\n",
    "\n",
    "$$\n",
    "\\frac{\n",
    "\\left( \\begin{array}{cc}\n",
    "24.5 \\\\\n",
    "164.0 \\\\\n",
    "0.18\n",
    "\\end{array} \\right)\n",
    "}{188.68}\n",
    "=\n",
    "\\left( \\begin{array}{cc}\n",
    "0.13 \\\\\n",
    "0.87 \\\\\n",
    "0.00\n",
    "\\end{array} \\right)\n",
    "$$\n",
    "\n",
    "De esta manera tenemos un vector de probabilidades por cada clase.\n",
    "\n",
    "Para resumir en un número el valor de pérdida actual (diferencia respecto a la clase objetivo) nos quedamos con el $-log$ de la clase real. Es decir, si la clase real es Perro, la pérdida sería: $-log(0.13) = 0.89$.\n",
    "\n",
    "Como podemos ver la pérdida en el caso óptimo (el vector de probabilidades nos devuelve un 1.0 en la clase real) es $-log(1) = 0$, y el peor caso (el vector de probabilidades nos devuelve un 0.0 en la clase real) es $-log(0)$ que es un valor no definido, pero tiende a $\\infty$.\n",
    "\n",
    "Como vemos nuestro objetivo es minimizar la función de pérdida. Es decir, llevarla a $0$ si es posible. ¿Cómo podríamos hacerlo?"
   ]
  },
  {
   "cell_type": "code",
   "execution_count": 28,
   "metadata": {},
   "outputs": [],
   "source": [
    "def sigmoide(x):\n",
    "    return 1 / (1 + np.exp(-x))\n",
    "\n",
    "def evalua_W_softmax(W, X, y):\n",
    "    aciertos = 0\n",
    "    loss = 0.0\n",
    "    for i in range(len(X)):\n",
    "        # W x x_i\n",
    "        probs = sigmoide(np.dot(X[i], W))\n",
    "        probs_exp = np.exp(probs)\n",
    "        probs_exp /= probs_exp.sum()\n",
    "        prob_real_class = probs_exp[y[i]]\n",
    "                \n",
    "        loss_i = 10.0\n",
    "        if prob_real_class > 1e-6:\n",
    "            loss_i = -1 * math.log(prob_real_class)\n",
    "            \n",
    "        loss += loss_i\n",
    "    return loss / len(X)\n",
    "\n",
    "def entrena_clasificador_lineal_W_softmax(X, y, iters):\n",
    "    mejor_W = None\n",
    "    mejor_loss = 999999.9\n",
    "    \n",
    "    num_features = X.shape[1]\n",
    "    num_classes = np.max(y) + 1\n",
    "    \n",
    "    for i in range(iters):\n",
    "        W = np.random.rand(num_features, num_classes) # Rango [0, 1]\n",
    "        W *= 2 # Rango [0, 2]\n",
    "        W -= 1 # Rango [-1, 1]\n",
    "        W *= 0.01 # Rango [-0.01, 0.01]\n",
    "        \n",
    "        loss = evalua_W_softmax(W, X, y)        \n",
    "        if loss < mejor_loss:\n",
    "            mejor_loss = loss\n",
    "            mejor_W = W\n",
    "            print(\"[%05d] loss: %.4f\" % (i, mejor_loss))\n",
    "\n",
    "    print(\"[End] loss: %.4f\" % (mejor_loss))\n",
    "    print(\"mejor_W: \" + str(mejor_W))"
   ]
  },
  {
   "cell_type": "code",
   "execution_count": 29,
   "metadata": {
    "scrolled": true
   },
   "outputs": [
    {
     "name": "stdout",
     "output_type": "stream",
     "text": [
      "[00000] loss: 1.0997\n",
      "[00001] loss: 1.0977\n",
      "[00004] loss: 1.0975\n",
      "[00012] loss: 1.0963\n",
      "[00020] loss: 1.0958\n",
      "[00356] loss: 1.0957\n",
      "[End] loss: 1.0957\n",
      "mejor_W: [[-0.007  0.008 -0.01 ]\n",
      " [ 0.006  0.006 -0.008]]\n"
     ]
    }
   ],
   "source": [
    "entrena_clasificador_lineal_W_softmax(X_train, y_train, 1000)"
   ]
  },
  {
   "cell_type": "code",
   "execution_count": 30,
   "metadata": {},
   "outputs": [
    {
     "data": {
      "text/plain": [
       "(70, 2)"
      ]
     },
     "execution_count": 30,
     "metadata": {},
     "output_type": "execute_result"
    }
   ],
   "source": [
    "X_train.shape"
   ]
  },
  {
   "cell_type": "markdown",
   "metadata": {},
   "source": [
    "### Preguntas\n",
    "\n",
    "* Si tiro una moneda al aire para clasificar en dos clases, ¿qué perdida debería tener?\n",
    "* ¿Y si tiro un dado de 10 caras?\n",
    "* ¿Qué relación hay entre la pérdida y el número de clases?\n",
    "\n",
    "$$loss_{inicial} = -log(\\frac{1}{n_{clases}})$$"
   ]
  },
  {
   "cell_type": "code",
   "execution_count": 31,
   "metadata": {},
   "outputs": [
    {
     "data": {
      "text/plain": [
       "0.6931471805599453"
      ]
     },
     "execution_count": 31,
     "metadata": {},
     "output_type": "execute_result"
    }
   ],
   "source": [
    "-math.log(1/2)"
   ]
  },
  {
   "cell_type": "code",
   "execution_count": 32,
   "metadata": {},
   "outputs": [
    {
     "data": {
      "text/plain": [
       "1.0986122886681098"
      ]
     },
     "execution_count": 32,
     "metadata": {},
     "output_type": "execute_result"
    }
   ],
   "source": [
    "-math.log(1/3)"
   ]
  },
  {
   "cell_type": "code",
   "execution_count": 33,
   "metadata": {},
   "outputs": [
    {
     "data": {
      "text/plain": [
       "2.3025850929940455"
      ]
     },
     "execution_count": 33,
     "metadata": {},
     "output_type": "execute_result"
    }
   ],
   "source": [
    "-math.log(1/10)"
   ]
  },
  {
   "cell_type": "markdown",
   "metadata": {},
   "source": [
    "## Retropropagación\n",
    "\n",
    "Hasta aquí hemos conseguido convertir nuestro resultado del clasificador lineal es una función de probabilidad continua. \n",
    "\n",
    "Pero tiene que haber una forma mejor de obtener la matrix $W$.  ¿Podríamos aprender de nuestros errores y a partir de ahí saber como podemos modificar la matriz W?\n",
    "\n",
    "* Inicializar W con valores aleatorios\n",
    "* Repetir:\n",
    "  * Predecir el conjunto de entrenamiento\n",
    "  * Calcular el error entre lo predicho y los valores esperados\n",
    "  * Modificar la matriz W para reducir el error"
   ]
  },
  {
   "cell_type": "markdown",
   "metadata": {},
   "source": [
    "### Descenso del gradiente\n",
    "\n",
    "Imaginate que estás en un valle como este con los ojos cerrados:\n",
    "\n",
    "<img src=\"valle.jpeg\" width=\"60%\">\n",
    "\n",
    "#### ¿Qué harías para llegar a un valle?\n",
    "\n",
    "La respuesta más simple sería caminar aleatoriamente. Esto es fácil de aplicar pero no nos garantiza llegar a un valle, y sólo si tenemos mucha suerte lo hagamos en un tiempo corto. \n",
    "\n",
    "Una opción mejor sería: cada vez que nos vamos a mover dar un pasito en varias direcciones y elegir la dirección en la que la pendiente que hemos bajado sea mayor. En el fondo es mirar a nuestro alrededor y seguir la mayor pendiente descendente. Esta técnica se denomina **descenso del gradiente** y es la base de las redes neuronales.\n",
    "\n",
    "Vamos a pensar como aplicarlo a nuestro ejemplo del clasificador lineal."
   ]
  },
  {
   "cell_type": "markdown",
   "metadata": {},
   "source": [
    "La relación que existe entre la matriz $W$ y el valor del error obtenido $E$ tiene la siguiente pinta:\n",
    "\n",
    "<img src=\"error_W.jpeg\" width=\"30%\">\n",
    "\n",
    "Valores bajos de W tienen un error muy alto, y valores altos también. Existe un valle (o más de uno) en el que se minimiza el error. Nuestro objetivo es bajar ese valle y encontrar un mínimo local (que se parezca lo máximo posible a un mínimo global).\n",
    "\n",
    "<img src=\"gradient_descent.png\" width=\"50%\">\n",
    "\n",
    "Si pensamos en calcular pendientes, inmediatamente nos viene a la cabeza el concepto de derivada:\n",
    "\n",
    "$$ \\frac{df(x)}{dx} = lim_{h \\implies 0} \\frac{f(x + h) - f(x)}{h} $$\n",
    "\n",
    "En realidad nuestro objetivo es, *en cada paso* calcular la derivada y dirigirnos hacia donde apunta.\n",
    "\n",
    "Recordemos nuestra función sigmoide: \n",
    "\n",
    "$$\\frac{1}{1 + e^{-x}}$$\n",
    "\n",
    "Su derivada es:\n",
    "\n",
    "$$x*(1-x)$$\n",
    "\n",
    "Con estos conceptos ya podemos revisitar nuestro algoritmo de nuevo:\n",
    "\n",
    "* (configure) Inicializar W con valores aleatorios\n",
    "* (train) Repetir:\n",
    "  * (forward) Predecir el conjunto de entrenamiento (sigmoide(Xi, W))\n",
    "  * (loss) Calcular el error entre lo predicho y los valores esperados (softmax)\n",
    "  * (backward + update_weights) Modificar la matriz W para reducir el error (derivada de forward)"
   ]
  },
  {
   "cell_type": "markdown",
   "metadata": {},
   "source": [
    "## Uniendo todos los conceptos"
   ]
  },
  {
   "cell_type": "code",
   "execution_count": 34,
   "metadata": {},
   "outputs": [],
   "source": [
    "class LinearLayer:\n",
    "    \"\"\"\n",
    "    Implementación de un clasificador lineal.\n",
    "    \"\"\"\n",
    "    def __init__(self, input_size, output_size):\n",
    "        self.input_size = input_size\n",
    "        self.output_size = output_size\n",
    "        \n",
    "        self.log = Logger(\"LinearLayer {}x{}\".format(input_size, output_size))\n",
    "            \n",
    "        # Inicializamos la matriz W a valores aleatorios [-0.01, 0.01]\n",
    "        self.W = np.random.uniform(size=(self.input_size, self.output_size), low=-0.0125, high=0.0125)\n",
    "        self.log.info(\"Initialized W {}\".format(self.W.shape))\n",
    "        \n",
    "    def sigmoide(self, x, is_backward = False):\n",
    "        if is_backward == True:\n",
    "            return x*(1-x)\n",
    "\n",
    "        return 1 / (1 + np.exp(-x))\n",
    "        \n",
    "    def forward(self, input, is_last_layer=False):          \n",
    "        self.cache_input = input\n",
    "        \n",
    "        if not is_last_layer:\n",
    "            self.output = self.sigmoide(np.dot(input, self.W))\n",
    "        else:\n",
    "            self.output = np.dot(input, self.W)\n",
    "\n",
    "        self.log.debug(\"[forward] output {}\".format(self.output.shape))\n",
    "        \n",
    "    def backward(self, input_grad):\n",
    "        self.output_grad = np.dot(self.sigmoide(input_grad, is_backward=True), self.W.T)\n",
    "        self.dW = np.dot(self.cache_input.T, input_grad)\n",
    "        \n",
    "    def update_weights(self, learning_rate):\n",
    "        self.log.debug(\"learning_rate: {}\".format(learning_rate))\n",
    "        self.log.debug(\"dW shape: {}\".format(self.dW.shape))\n",
    "        self.log.debug(\"W shape: {}\".format(self.W.shape))\n",
    "        self.W -= learning_rate * self.dW\n",
    "\n",
    "        \n",
    "class SoftMaxLoss:\n",
    "    \"\"\"\n",
    "    Implementación de la función de pérdida softmax.\n",
    "    \"\"\"\n",
    "    def __init__(self):\n",
    "        self.log = Logger(\"SoftMaxLoss\", level=LogLevel.INFO)\n",
    "    \n",
    "    def forward(self, input):\n",
    "        self.log.debug(\"input: {}\".format(input.shape))\n",
    "        \n",
    "        probs = np.exp(input) # Tenemos un vector con n-samples filas por sample y n-atributos columnas \n",
    "        self.log.trace(\"probs (exp): \" + str(probs))\n",
    "        \n",
    "        sum_per_sample = probs.sum(axis=1)\n",
    "        self.log.trace(\"total: \" + str(sum_per_sample))\n",
    "        \n",
    "        probs = (probs.T / sum_per_sample).T \n",
    "        self.log.trace(\"probs norm: \" + str(probs))\n",
    "        \n",
    "        self.output = probs\n",
    "    \n",
    "    def backward(self, y):\n",
    "        probs_real_class = np.zeros((len(y)))\n",
    "        self.output_grad = np.copy(self.output)\n",
    "        \n",
    "        for i in range(len(y)):\n",
    "            p_real_class = self.output[i][y[i]]\n",
    "            self.output_grad[i][y[i]] -= 1.0\n",
    "            \n",
    "            self.log.trace(\"p_real_class: \" + str(p_real_class))\n",
    "            if p_real_class < 1e-5:\n",
    "                p_real_class = 9999999.0\n",
    "            probs_real_class[i] = p_real_class\n",
    "        self.log.trace(\"probs_real_class: %s\" % str(probs_real_class))\n",
    "        \n",
    "        probs_real_class_log = -1 * np.log(probs_real_class)   \n",
    "        self.log.trace(\"probs_real_class_log: %s\" % str(probs_real_class_log))\n",
    "\n",
    "        loss = probs_real_class_log.sum() / len(y)\n",
    "        self.log.debug(\"loss: %.3f\" % loss)\n",
    "        \n",
    "        return loss\n",
    "    \n",
    "class NeuralNetwork:\n",
    "    \"\"\"\n",
    "    Implementación de la clase que gestiona toda la red neuronal.\n",
    "    \"\"\"\n",
    "    def __init__(self, layers, loss_function=SoftMaxLoss(), learning_rate=5e-3):\n",
    "        np.random.seed(1) # Fijamos la semilla de aleatorios en cada creación\n",
    "        \n",
    "        self.iterations_per_epoch = 25\n",
    "        self.learning_rate = learning_rate\n",
    "        self.learning_rate_decay = 0.95\n",
    "        \n",
    "        # Las capas son cada uno de los clasificadores lineales (LinearLayer) que ejecutaremos en serie\n",
    "        self.layers = layers\n",
    "        self.loss_function = loss_function\n",
    "        \n",
    "        self.log = Logger(\"NeuralNetwork\")\n",
    "        \n",
    "    def forward(self, X):\n",
    "        for i in range(len(self.layers)):\n",
    "            is_last = (i == len(self.layers))\n",
    "            \n",
    "            if i == 0:\n",
    "                self.layers[i].forward(X, is_last)\n",
    "            else:\n",
    "                self.layers[i].forward(self.layers[i - 1].output, is_last)\n",
    "                \n",
    "        self.loss_function.forward(self.layers[-1].output)\n",
    "    \n",
    "    def backward(self, y):\n",
    "        loss = self.loss_function.backward(y)\n",
    "        \n",
    "        first = True\n",
    "        for i in range(len(self.layers) - 1, -1, -1):\n",
    "            self.log.debug(\"Backward layer {}\".format(i))\n",
    "            if i == len(self.layers) - 1:\n",
    "                self.layers[i].backward(self.loss_function.output_grad)\n",
    "            else:\n",
    "                self.layers[i].backward(self.layers[i + 1].output_grad)\n",
    "                \n",
    "        return loss\n",
    "    \n",
    "    def update_weights(self):\n",
    "        for layer in self.layers:\n",
    "            layer.update_weights(self.learning_rate)\n",
    "            \n",
    "    def accuracy(self, y):\n",
    "        aciertos = 0\n",
    "        for i in range(len(self.loss_function.output)): # Recorremos cada instancia    \n",
    "            probs = self.loss_function.output[i]            \n",
    "            if probs[y[i]] == np.max(probs):\n",
    "                aciertos += 1\n",
    "        return aciertos / len(self.loss_function.output)\n",
    "    \n",
    "    def fit(self, X, y, iterations=100):\n",
    "        self.log.info(\"Training nn...\")\n",
    "        \n",
    "        for n in range(iterations):\n",
    "            self.forward(X)      \n",
    "            loss = self.backward(y) \n",
    "            self.update_weights()   \n",
    "            \n",
    "            if n % 10 == 0:\n",
    "                self.log.info(\"[%05d] loss %f (lr=%f) (acc=%f)\" % (n, loss, self.learning_rate, self.accuracy(y)))            \n",
    "\n",
    "            if (n % self.iterations_per_epoch == 0) and n > 0:\n",
    "                self.learning_rate *= self.learning_rate_decay                \n",
    "                \n",
    "        self.log.info(\"END ---------------\")\n",
    "        \n",
    "    def predict(self, X):\n",
    "        self.log.info(\"Predicting...\")\n",
    "        self.log.debug(\"X {}\".format(X.shape))\n",
    "        \n",
    "        self.forward(X)\n",
    "        return self.loss_function.output "
   ]
  },
  {
   "cell_type": "markdown",
   "metadata": {},
   "source": [
    "## 1 capa"
   ]
  },
  {
   "cell_type": "code",
   "execution_count": 35,
   "metadata": {},
   "outputs": [
    {
     "name": "stdout",
     "output_type": "stream",
     "text": [
      "INFO  [LinearLayer 2x3] Initialized W (2, 3)\n"
     ]
    }
   ],
   "source": [
    "num_features = dataset_X.shape[1]\n",
    "num_classes = np.max(dataset_y) + 1\n",
    "\n",
    "nn = NeuralNetwork(layers=[\n",
    "    LinearLayer(num_features, num_classes), \n",
    "])"
   ]
  },
  {
   "cell_type": "code",
   "execution_count": 36,
   "metadata": {},
   "outputs": [
    {
     "name": "stdout",
     "output_type": "stream",
     "text": [
      "INFO  [NeuralNetwork] Predicting...\n"
     ]
    }
   ],
   "source": [
    "out = nn.predict(X_test)"
   ]
  },
  {
   "cell_type": "code",
   "execution_count": 37,
   "metadata": {},
   "outputs": [
    {
     "data": {
      "text/plain": [
       "array([[0.333, 0.334, 0.333],\n",
       "       [0.334, 0.333, 0.333],\n",
       "       [0.333, 0.334, 0.333],\n",
       "       [0.333, 0.334, 0.333],\n",
       "       [0.334, 0.333, 0.334],\n",
       "       [0.332, 0.335, 0.333],\n",
       "       [0.334, 0.332, 0.334],\n",
       "       [0.333, 0.333, 0.333],\n",
       "       [0.334, 0.333, 0.334],\n",
       "       [0.334, 0.332, 0.334],\n",
       "       [0.334, 0.332, 0.334],\n",
       "       [0.334, 0.332, 0.334],\n",
       "       [0.333, 0.333, 0.333],\n",
       "       [0.333, 0.333, 0.333],\n",
       "       [0.333, 0.335, 0.333],\n",
       "       [0.334, 0.333, 0.333],\n",
       "       [0.332, 0.335, 0.333],\n",
       "       [0.334, 0.333, 0.333],\n",
       "       [0.334, 0.333, 0.333],\n",
       "       [0.332, 0.335, 0.333],\n",
       "       [0.334, 0.333, 0.334],\n",
       "       [0.334, 0.332, 0.334],\n",
       "       [0.333, 0.334, 0.333],\n",
       "       [0.333, 0.335, 0.333],\n",
       "       [0.332, 0.335, 0.333],\n",
       "       [0.334, 0.332, 0.334],\n",
       "       [0.334, 0.332, 0.334],\n",
       "       [0.333, 0.333, 0.333],\n",
       "       [0.334, 0.332, 0.334],\n",
       "       [0.334, 0.332, 0.334]])"
      ]
     },
     "execution_count": 37,
     "metadata": {},
     "output_type": "execute_result"
    }
   ],
   "source": [
    "out"
   ]
  },
  {
   "cell_type": "code",
   "execution_count": 38,
   "metadata": {},
   "outputs": [
    {
     "name": "stdout",
     "output_type": "stream",
     "text": [
      "INFO  [NeuralNetwork] Training nn...\n",
      "INFO  [NeuralNetwork] [00000] loss 1.097058 (lr=0.005000) (acc=0.471429)\n",
      "INFO  [NeuralNetwork] [00010] loss 0.815829 (lr=0.005000) (acc=0.985714)\n",
      "INFO  [NeuralNetwork] [00020] loss 0.719827 (lr=0.005000) (acc=0.985714)\n",
      "INFO  [NeuralNetwork] [00030] loss 0.679898 (lr=0.004750) (acc=0.985714)\n",
      "INFO  [NeuralNetwork] [00040] loss 0.659932 (lr=0.004750) (acc=0.985714)\n",
      "INFO  [NeuralNetwork] [00050] loss 0.648284 (lr=0.004750) (acc=0.985714)\n",
      "INFO  [NeuralNetwork] [00060] loss 0.641206 (lr=0.004513) (acc=0.985714)\n",
      "INFO  [NeuralNetwork] [00070] loss 0.636422 (lr=0.004513) (acc=0.985714)\n",
      "INFO  [NeuralNetwork] [00080] loss 0.633095 (lr=0.004287) (acc=0.985714)\n",
      "INFO  [NeuralNetwork] [00090] loss 0.630716 (lr=0.004287) (acc=0.985714)\n",
      "INFO  [NeuralNetwork] [00100] loss 0.628912 (lr=0.004287) (acc=0.985714)\n",
      "INFO  [NeuralNetwork] [00110] loss 0.627573 (lr=0.004073) (acc=0.985714)\n",
      "INFO  [NeuralNetwork] [00120] loss 0.626513 (lr=0.004073) (acc=0.985714)\n",
      "INFO  [NeuralNetwork] [00130] loss 0.625672 (lr=0.003869) (acc=0.985714)\n",
      "INFO  [NeuralNetwork] [00140] loss 0.624999 (lr=0.003869) (acc=0.985714)\n",
      "INFO  [NeuralNetwork] [00150] loss 0.624435 (lr=0.003869) (acc=0.985714)\n",
      "INFO  [NeuralNetwork] [00160] loss 0.623977 (lr=0.003675) (acc=0.985714)\n",
      "INFO  [NeuralNetwork] [00170] loss 0.623582 (lr=0.003675) (acc=0.985714)\n",
      "INFO  [NeuralNetwork] [00180] loss 0.623242 (lr=0.003492) (acc=0.985714)\n",
      "INFO  [NeuralNetwork] [00190] loss 0.622950 (lr=0.003492) (acc=0.985714)\n",
      "INFO  [NeuralNetwork] [00200] loss 0.622687 (lr=0.003492) (acc=0.985714)\n",
      "INFO  [NeuralNetwork] [00210] loss 0.622458 (lr=0.003317) (acc=0.985714)\n",
      "INFO  [NeuralNetwork] [00220] loss 0.622248 (lr=0.003317) (acc=0.985714)\n",
      "INFO  [NeuralNetwork] [00230] loss 0.622058 (lr=0.003151) (acc=0.985714)\n",
      "INFO  [NeuralNetwork] [00240] loss 0.621885 (lr=0.003151) (acc=0.985714)\n",
      "INFO  [NeuralNetwork] [00250] loss 0.621722 (lr=0.003151) (acc=0.985714)\n",
      "INFO  [NeuralNetwork] [00260] loss 0.621575 (lr=0.002994) (acc=0.985714)\n",
      "INFO  [NeuralNetwork] [00270] loss 0.621435 (lr=0.002994) (acc=0.985714)\n",
      "INFO  [NeuralNetwork] [00280] loss 0.621303 (lr=0.002844) (acc=0.985714)\n",
      "INFO  [NeuralNetwork] [00290] loss 0.621181 (lr=0.002844) (acc=0.985714)\n",
      "INFO  [NeuralNetwork] [00300] loss 0.621062 (lr=0.002844) (acc=0.985714)\n",
      "INFO  [NeuralNetwork] [00310] loss 0.620953 (lr=0.002702) (acc=0.985714)\n",
      "INFO  [NeuralNetwork] [00320] loss 0.620847 (lr=0.002702) (acc=0.985714)\n",
      "INFO  [NeuralNetwork] [00330] loss 0.620746 (lr=0.002567) (acc=0.985714)\n",
      "INFO  [NeuralNetwork] [00340] loss 0.620650 (lr=0.002567) (acc=0.985714)\n",
      "INFO  [NeuralNetwork] [00350] loss 0.620556 (lr=0.002567) (acc=0.985714)\n",
      "INFO  [NeuralNetwork] [00360] loss 0.620469 (lr=0.002438) (acc=0.985714)\n",
      "INFO  [NeuralNetwork] [00370] loss 0.620384 (lr=0.002438) (acc=0.985714)\n",
      "INFO  [NeuralNetwork] [00380] loss 0.620302 (lr=0.002316) (acc=0.985714)\n",
      "INFO  [NeuralNetwork] [00390] loss 0.620224 (lr=0.002316) (acc=0.985714)\n",
      "INFO  [NeuralNetwork] [00400] loss 0.620147 (lr=0.002316) (acc=0.985714)\n",
      "INFO  [NeuralNetwork] [00410] loss 0.620075 (lr=0.002201) (acc=0.985714)\n",
      "INFO  [NeuralNetwork] [00420] loss 0.620004 (lr=0.002201) (acc=0.985714)\n",
      "INFO  [NeuralNetwork] [00430] loss 0.619936 (lr=0.002091) (acc=0.985714)\n",
      "INFO  [NeuralNetwork] [00440] loss 0.619871 (lr=0.002091) (acc=0.985714)\n",
      "INFO  [NeuralNetwork] [00450] loss 0.619806 (lr=0.002091) (acc=0.985714)\n",
      "INFO  [NeuralNetwork] [00460] loss 0.619745 (lr=0.001986) (acc=0.985714)\n",
      "INFO  [NeuralNetwork] [00470] loss 0.619686 (lr=0.001986) (acc=0.985714)\n",
      "INFO  [NeuralNetwork] [00480] loss 0.619628 (lr=0.001887) (acc=0.985714)\n",
      "INFO  [NeuralNetwork] [00490] loss 0.619573 (lr=0.001887) (acc=0.985714)\n",
      "INFO  [NeuralNetwork] [00500] loss 0.619518 (lr=0.001887) (acc=0.985714)\n",
      "INFO  [NeuralNetwork] [00510] loss 0.619466 (lr=0.001792) (acc=0.985714)\n",
      "INFO  [NeuralNetwork] [00520] loss 0.619416 (lr=0.001792) (acc=0.985714)\n",
      "INFO  [NeuralNetwork] [00530] loss 0.619366 (lr=0.001703) (acc=0.985714)\n",
      "INFO  [NeuralNetwork] [00540] loss 0.619319 (lr=0.001703) (acc=0.985714)\n",
      "INFO  [NeuralNetwork] [00550] loss 0.619272 (lr=0.001703) (acc=0.985714)\n",
      "INFO  [NeuralNetwork] [00560] loss 0.619228 (lr=0.001618) (acc=0.985714)\n",
      "INFO  [NeuralNetwork] [00570] loss 0.619184 (lr=0.001618) (acc=0.985714)\n",
      "INFO  [NeuralNetwork] [00580] loss 0.619141 (lr=0.001537) (acc=0.985714)\n",
      "INFO  [NeuralNetwork] [00590] loss 0.619101 (lr=0.001537) (acc=0.985714)\n",
      "INFO  [NeuralNetwork] [00600] loss 0.619060 (lr=0.001537) (acc=0.985714)\n",
      "INFO  [NeuralNetwork] [00610] loss 0.619022 (lr=0.001460) (acc=0.985714)\n",
      "INFO  [NeuralNetwork] [00620] loss 0.618984 (lr=0.001460) (acc=0.985714)\n",
      "INFO  [NeuralNetwork] [00630] loss 0.618947 (lr=0.001387) (acc=0.985714)\n",
      "INFO  [NeuralNetwork] [00640] loss 0.618912 (lr=0.001387) (acc=0.985714)\n",
      "INFO  [NeuralNetwork] [00650] loss 0.618877 (lr=0.001387) (acc=0.985714)\n",
      "INFO  [NeuralNetwork] [00660] loss 0.618843 (lr=0.001318) (acc=0.985714)\n",
      "INFO  [NeuralNetwork] [00670] loss 0.618811 (lr=0.001318) (acc=0.985714)\n",
      "INFO  [NeuralNetwork] [00680] loss 0.618779 (lr=0.001252) (acc=0.985714)\n",
      "INFO  [NeuralNetwork] [00690] loss 0.618748 (lr=0.001252) (acc=0.985714)\n",
      "INFO  [NeuralNetwork] [00700] loss 0.618717 (lr=0.001252) (acc=0.985714)\n",
      "INFO  [NeuralNetwork] [00710] loss 0.618688 (lr=0.001189) (acc=0.985714)\n",
      "INFO  [NeuralNetwork] [00720] loss 0.618659 (lr=0.001189) (acc=0.985714)\n",
      "INFO  [NeuralNetwork] [00730] loss 0.618631 (lr=0.001130) (acc=0.985714)\n",
      "INFO  [NeuralNetwork] [00740] loss 0.618605 (lr=0.001130) (acc=0.985714)\n",
      "INFO  [NeuralNetwork] [00750] loss 0.618578 (lr=0.001130) (acc=0.985714)\n",
      "INFO  [NeuralNetwork] [00760] loss 0.618552 (lr=0.001073) (acc=0.985714)\n",
      "INFO  [NeuralNetwork] [00770] loss 0.618527 (lr=0.001073) (acc=0.985714)\n",
      "INFO  [NeuralNetwork] [00780] loss 0.618503 (lr=0.001020) (acc=0.985714)\n",
      "INFO  [NeuralNetwork] [00790] loss 0.618479 (lr=0.001020) (acc=0.985714)\n",
      "INFO  [NeuralNetwork] [00800] loss 0.618456 (lr=0.001020) (acc=0.985714)\n",
      "INFO  [NeuralNetwork] [00810] loss 0.618433 (lr=0.000969) (acc=0.985714)\n",
      "INFO  [NeuralNetwork] [00820] loss 0.618411 (lr=0.000969) (acc=0.985714)\n",
      "INFO  [NeuralNetwork] [00830] loss 0.618390 (lr=0.000920) (acc=0.985714)\n",
      "INFO  [NeuralNetwork] [00840] loss 0.618369 (lr=0.000920) (acc=0.985714)\n",
      "INFO  [NeuralNetwork] [00850] loss 0.618348 (lr=0.000920) (acc=0.985714)\n",
      "INFO  [NeuralNetwork] [00860] loss 0.618328 (lr=0.000874) (acc=0.985714)\n",
      "INFO  [NeuralNetwork] [00870] loss 0.618309 (lr=0.000874) (acc=0.985714)\n",
      "INFO  [NeuralNetwork] [00880] loss 0.618290 (lr=0.000830) (acc=0.985714)\n",
      "INFO  [NeuralNetwork] [00890] loss 0.618272 (lr=0.000830) (acc=0.985714)\n",
      "INFO  [NeuralNetwork] [00900] loss 0.618253 (lr=0.000830) (acc=0.985714)\n",
      "INFO  [NeuralNetwork] [00910] loss 0.618236 (lr=0.000789) (acc=0.985714)\n",
      "INFO  [NeuralNetwork] [00920] loss 0.618219 (lr=0.000789) (acc=0.985714)\n",
      "INFO  [NeuralNetwork] [00930] loss 0.618202 (lr=0.000749) (acc=0.985714)\n",
      "INFO  [NeuralNetwork] [00940] loss 0.618186 (lr=0.000749) (acc=0.985714)\n",
      "INFO  [NeuralNetwork] [00950] loss 0.618169 (lr=0.000749) (acc=0.985714)\n",
      "INFO  [NeuralNetwork] [00960] loss 0.618154 (lr=0.000712) (acc=0.985714)\n",
      "INFO  [NeuralNetwork] [00970] loss 0.618139 (lr=0.000712) (acc=0.985714)\n",
      "INFO  [NeuralNetwork] [00980] loss 0.618124 (lr=0.000676) (acc=0.985714)\n",
      "INFO  [NeuralNetwork] [00990] loss 0.618110 (lr=0.000676) (acc=0.985714)\n",
      "INFO  [NeuralNetwork] END ---------------\n"
     ]
    }
   ],
   "source": [
    "nn.fit(X_train, y_train, iterations=1000)"
   ]
  },
  {
   "cell_type": "markdown",
   "metadata": {},
   "source": [
    "Como vemos obtenemos buenos resultados sin embargo no llegamos al 100% de accuracy. ¿Cómo podríamos mejorar el ajuste del modelo?. \n",
    "\n",
    "### 2 capas\n",
    "\n",
    "Una estrategia habitual para incrementar la complejidad del modelo es introducir más capas. Se denomina capa a cada clasificador que hemos introducido que ejecutaremos en cascada: es decir, el resultado de una capa es la entrada de la siguiente:"
   ]
  },
  {
   "cell_type": "code",
   "execution_count": 39,
   "metadata": {},
   "outputs": [
    {
     "name": "stdout",
     "output_type": "stream",
     "text": [
      "INFO  [LinearLayer 2x15] Initialized W (2, 15)\n",
      "INFO  [LinearLayer 15x3] Initialized W (15, 3)\n"
     ]
    }
   ],
   "source": [
    "num_features = dataset_X.shape[1]\n",
    "hidden_size = 15 # Tamaño de la capa oculta podemos poner el valor que queramos\n",
    "num_classes = np.max(dataset_y) + 1\n",
    "\n",
    "nn = NeuralNetwork(layers=[\n",
    "    LinearLayer(num_features, hidden_size), \n",
    "    LinearLayer(hidden_size, num_classes)\n",
    "])"
   ]
  },
  {
   "cell_type": "markdown",
   "metadata": {},
   "source": [
    "Podemos evaluar la red que hemos implementado y ver como poco a poco la red disminuye su función de pérdida:"
   ]
  },
  {
   "cell_type": "code",
   "execution_count": 40,
   "metadata": {},
   "outputs": [
    {
     "name": "stdout",
     "output_type": "stream",
     "text": [
      "INFO  [NeuralNetwork] Training nn...\n",
      "INFO  [NeuralNetwork] [00000] loss 1.098651 (lr=0.005000) (acc=0.342857)\n",
      "INFO  [NeuralNetwork] [00010] loss 1.082541 (lr=0.005000) (acc=0.385714)\n",
      "INFO  [NeuralNetwork] [00020] loss 1.050106 (lr=0.005000) (acc=0.385714)\n",
      "INFO  [NeuralNetwork] [00030] loss 1.001427 (lr=0.004750) (acc=0.385714)\n",
      "INFO  [NeuralNetwork] [00040] loss 0.959878 (lr=0.004750) (acc=0.385714)\n",
      "INFO  [NeuralNetwork] [00050] loss 0.936468 (lr=0.004750) (acc=0.385714)\n",
      "INFO  [NeuralNetwork] [00060] loss 0.928506 (lr=0.004513) (acc=0.385714)\n",
      "INFO  [NeuralNetwork] [00070] loss 0.926602 (lr=0.004513) (acc=0.385714)\n",
      "INFO  [NeuralNetwork] [00080] loss 0.926276 (lr=0.004287) (acc=0.385714)\n",
      "INFO  [NeuralNetwork] [00090] loss 0.926230 (lr=0.004287) (acc=0.400000)\n",
      "INFO  [NeuralNetwork] [00100] loss 0.926222 (lr=0.004287) (acc=0.485714)\n",
      "INFO  [NeuralNetwork] [00110] loss 0.926220 (lr=0.004073) (acc=0.542857)\n",
      "INFO  [NeuralNetwork] [00120] loss 0.926220 (lr=0.004073) (acc=0.585714)\n",
      "INFO  [NeuralNetwork] [00130] loss 0.926220 (lr=0.003869) (acc=0.614286)\n",
      "INFO  [NeuralNetwork] [00140] loss 0.926220 (lr=0.003869) (acc=0.628571)\n",
      "INFO  [NeuralNetwork] [00150] loss 0.926220 (lr=0.003869) (acc=0.628571)\n",
      "INFO  [NeuralNetwork] [00160] loss 0.926220 (lr=0.003675) (acc=0.642857)\n",
      "INFO  [NeuralNetwork] [00170] loss 0.926220 (lr=0.003675) (acc=0.657143)\n",
      "INFO  [NeuralNetwork] [00180] loss 0.926220 (lr=0.003492) (acc=0.657143)\n",
      "INFO  [NeuralNetwork] [00190] loss 0.926220 (lr=0.003492) (acc=0.657143)\n",
      "INFO  [NeuralNetwork] [00200] loss 0.926220 (lr=0.003492) (acc=0.657143)\n",
      "INFO  [NeuralNetwork] [00210] loss 0.926220 (lr=0.003317) (acc=0.657143)\n",
      "INFO  [NeuralNetwork] [00220] loss 0.926220 (lr=0.003317) (acc=0.657143)\n",
      "INFO  [NeuralNetwork] [00230] loss 0.926220 (lr=0.003151) (acc=0.657143)\n",
      "INFO  [NeuralNetwork] [00240] loss 0.926220 (lr=0.003151) (acc=0.657143)\n",
      "INFO  [NeuralNetwork] [00250] loss 0.926220 (lr=0.003151) (acc=0.657143)\n",
      "INFO  [NeuralNetwork] [00260] loss 0.926220 (lr=0.002994) (acc=0.657143)\n",
      "INFO  [NeuralNetwork] [00270] loss 0.926220 (lr=0.002994) (acc=0.657143)\n",
      "INFO  [NeuralNetwork] [00280] loss 0.926220 (lr=0.002844) (acc=0.657143)\n",
      "INFO  [NeuralNetwork] [00290] loss 0.926220 (lr=0.002844) (acc=0.657143)\n",
      "INFO  [NeuralNetwork] [00300] loss 0.926220 (lr=0.002844) (acc=0.657143)\n",
      "INFO  [NeuralNetwork] [00310] loss 0.926220 (lr=0.002702) (acc=0.657143)\n",
      "INFO  [NeuralNetwork] [00320] loss 0.926220 (lr=0.002702) (acc=0.657143)\n",
      "INFO  [NeuralNetwork] [00330] loss 0.926220 (lr=0.002567) (acc=0.985714)\n",
      "INFO  [NeuralNetwork] [00340] loss 0.926220 (lr=0.002567) (acc=0.985714)\n",
      "INFO  [NeuralNetwork] [00350] loss 0.926220 (lr=0.002567) (acc=0.985714)\n",
      "INFO  [NeuralNetwork] [00360] loss 0.926220 (lr=0.002438) (acc=0.985714)\n",
      "INFO  [NeuralNetwork] [00370] loss 0.926220 (lr=0.002438) (acc=0.985714)\n",
      "INFO  [NeuralNetwork] [00380] loss 0.926220 (lr=0.002316) (acc=0.985714)\n",
      "INFO  [NeuralNetwork] [00390] loss 0.926220 (lr=0.002316) (acc=0.985714)\n",
      "INFO  [NeuralNetwork] [00400] loss 0.926220 (lr=0.002316) (acc=0.985714)\n",
      "INFO  [NeuralNetwork] [00410] loss 0.926220 (lr=0.002201) (acc=0.985714)\n",
      "INFO  [NeuralNetwork] [00420] loss 0.926220 (lr=0.002201) (acc=0.985714)\n",
      "INFO  [NeuralNetwork] [00430] loss 0.926220 (lr=0.002091) (acc=0.985714)\n",
      "INFO  [NeuralNetwork] [00440] loss 0.926220 (lr=0.002091) (acc=0.985714)\n",
      "INFO  [NeuralNetwork] [00450] loss 0.926220 (lr=0.002091) (acc=0.985714)\n",
      "INFO  [NeuralNetwork] [00460] loss 0.926220 (lr=0.001986) (acc=0.985714)\n",
      "INFO  [NeuralNetwork] [00470] loss 0.926220 (lr=0.001986) (acc=1.000000)\n",
      "INFO  [NeuralNetwork] [00480] loss 0.926220 (lr=0.001887) (acc=1.000000)\n",
      "INFO  [NeuralNetwork] [00490] loss 0.926220 (lr=0.001887) (acc=1.000000)\n",
      "INFO  [NeuralNetwork] [00500] loss 0.926220 (lr=0.001887) (acc=1.000000)\n",
      "INFO  [NeuralNetwork] [00510] loss 0.926220 (lr=0.001792) (acc=1.000000)\n",
      "INFO  [NeuralNetwork] [00520] loss 0.926220 (lr=0.001792) (acc=1.000000)\n",
      "INFO  [NeuralNetwork] [00530] loss 0.926220 (lr=0.001703) (acc=1.000000)\n",
      "INFO  [NeuralNetwork] [00540] loss 0.926220 (lr=0.001703) (acc=1.000000)\n",
      "INFO  [NeuralNetwork] [00550] loss 0.926220 (lr=0.001703) (acc=1.000000)\n",
      "INFO  [NeuralNetwork] [00560] loss 0.926220 (lr=0.001618) (acc=1.000000)\n",
      "INFO  [NeuralNetwork] [00570] loss 0.926220 (lr=0.001618) (acc=1.000000)\n",
      "INFO  [NeuralNetwork] [00580] loss 0.926220 (lr=0.001537) (acc=1.000000)\n",
      "INFO  [NeuralNetwork] [00590] loss 0.926220 (lr=0.001537) (acc=1.000000)\n",
      "INFO  [NeuralNetwork] [00600] loss 0.926220 (lr=0.001537) (acc=1.000000)\n",
      "INFO  [NeuralNetwork] [00610] loss 0.926220 (lr=0.001460) (acc=1.000000)\n",
      "INFO  [NeuralNetwork] [00620] loss 0.926220 (lr=0.001460) (acc=1.000000)\n",
      "INFO  [NeuralNetwork] [00630] loss 0.926220 (lr=0.001387) (acc=1.000000)\n",
      "INFO  [NeuralNetwork] [00640] loss 0.926220 (lr=0.001387) (acc=1.000000)\n",
      "INFO  [NeuralNetwork] [00650] loss 0.926220 (lr=0.001387) (acc=1.000000)\n",
      "INFO  [NeuralNetwork] [00660] loss 0.926220 (lr=0.001318) (acc=1.000000)\n",
      "INFO  [NeuralNetwork] [00670] loss 0.926220 (lr=0.001318) (acc=1.000000)\n",
      "INFO  [NeuralNetwork] [00680] loss 0.926220 (lr=0.001252) (acc=1.000000)\n",
      "INFO  [NeuralNetwork] [00690] loss 0.926220 (lr=0.001252) (acc=1.000000)\n",
      "INFO  [NeuralNetwork] [00700] loss 0.926220 (lr=0.001252) (acc=1.000000)\n",
      "INFO  [NeuralNetwork] [00710] loss 0.926220 (lr=0.001189) (acc=1.000000)\n",
      "INFO  [NeuralNetwork] [00720] loss 0.926220 (lr=0.001189) (acc=1.000000)\n",
      "INFO  [NeuralNetwork] [00730] loss 0.926220 (lr=0.001130) (acc=1.000000)\n",
      "INFO  [NeuralNetwork] [00740] loss 0.926220 (lr=0.001130) (acc=1.000000)\n",
      "INFO  [NeuralNetwork] [00750] loss 0.926220 (lr=0.001130) (acc=1.000000)\n",
      "INFO  [NeuralNetwork] [00760] loss 0.926220 (lr=0.001073) (acc=1.000000)\n",
      "INFO  [NeuralNetwork] [00770] loss 0.926220 (lr=0.001073) (acc=1.000000)\n",
      "INFO  [NeuralNetwork] [00780] loss 0.926220 (lr=0.001020) (acc=1.000000)\n",
      "INFO  [NeuralNetwork] [00790] loss 0.926220 (lr=0.001020) (acc=1.000000)\n",
      "INFO  [NeuralNetwork] [00800] loss 0.926220 (lr=0.001020) (acc=1.000000)\n",
      "INFO  [NeuralNetwork] [00810] loss 0.926220 (lr=0.000969) (acc=1.000000)\n",
      "INFO  [NeuralNetwork] [00820] loss 0.926220 (lr=0.000969) (acc=1.000000)\n",
      "INFO  [NeuralNetwork] [00830] loss 0.926220 (lr=0.000920) (acc=1.000000)\n",
      "INFO  [NeuralNetwork] [00840] loss 0.926220 (lr=0.000920) (acc=1.000000)\n",
      "INFO  [NeuralNetwork] [00850] loss 0.926220 (lr=0.000920) (acc=1.000000)\n",
      "INFO  [NeuralNetwork] [00860] loss 0.926220 (lr=0.000874) (acc=1.000000)\n",
      "INFO  [NeuralNetwork] [00870] loss 0.926220 (lr=0.000874) (acc=1.000000)\n",
      "INFO  [NeuralNetwork] [00880] loss 0.926220 (lr=0.000830) (acc=1.000000)\n",
      "INFO  [NeuralNetwork] [00890] loss 0.926220 (lr=0.000830) (acc=1.000000)\n",
      "INFO  [NeuralNetwork] [00900] loss 0.926220 (lr=0.000830) (acc=1.000000)\n",
      "INFO  [NeuralNetwork] [00910] loss 0.926220 (lr=0.000789) (acc=1.000000)\n",
      "INFO  [NeuralNetwork] [00920] loss 0.926220 (lr=0.000789) (acc=1.000000)\n",
      "INFO  [NeuralNetwork] [00930] loss 0.926220 (lr=0.000749) (acc=1.000000)\n",
      "INFO  [NeuralNetwork] [00940] loss 0.926220 (lr=0.000749) (acc=1.000000)\n",
      "INFO  [NeuralNetwork] [00950] loss 0.926220 (lr=0.000749) (acc=1.000000)\n",
      "INFO  [NeuralNetwork] [00960] loss 0.926220 (lr=0.000712) (acc=1.000000)\n",
      "INFO  [NeuralNetwork] [00970] loss 0.926220 (lr=0.000712) (acc=1.000000)\n",
      "INFO  [NeuralNetwork] [00980] loss 0.926220 (lr=0.000676) (acc=1.000000)\n",
      "INFO  [NeuralNetwork] [00990] loss 0.926220 (lr=0.000676) (acc=1.000000)\n",
      "INFO  [NeuralNetwork] END ---------------\n"
     ]
    }
   ],
   "source": [
    "nn.fit(X_train, y_train, iterations=1000)"
   ]
  },
  {
   "cell_type": "markdown",
   "metadata": {},
   "source": [
    "## 3 capas"
   ]
  },
  {
   "cell_type": "code",
   "execution_count": 41,
   "metadata": {},
   "outputs": [
    {
     "name": "stdout",
     "output_type": "stream",
     "text": [
      "INFO  [LinearLayer 2x15] Initialized W (2, 15)\n",
      "INFO  [LinearLayer 15x5] Initialized W (15, 5)\n",
      "INFO  [LinearLayer 5x3] Initialized W (5, 3)\n"
     ]
    }
   ],
   "source": [
    "num_features = dataset_X.shape[1]\n",
    "hidden_size_1 = 15\n",
    "hidden_size_2 = 5\n",
    "num_classes = np.max(dataset_y) + 1\n",
    "\n",
    "nn = NeuralNetwork(layers=[\n",
    "    LinearLayer(num_features, hidden_size_1), \n",
    "    LinearLayer(hidden_size_1, hidden_size_2),     \n",
    "    LinearLayer(hidden_size_2, num_classes)\n",
    "], learning_rate=5e-4)"
   ]
  },
  {
   "cell_type": "code",
   "execution_count": 42,
   "metadata": {},
   "outputs": [
    {
     "name": "stdout",
     "output_type": "stream",
     "text": [
      "INFO  [NeuralNetwork] Training nn...\n",
      "INFO  [NeuralNetwork] [00000] loss 1.098628 (lr=0.000500) (acc=0.342857)\n",
      "INFO  [NeuralNetwork] [00010] loss 1.097919 (lr=0.000500) (acc=0.385714)\n",
      "INFO  [NeuralNetwork] [00020] loss 1.097257 (lr=0.000500) (acc=0.385714)\n",
      "INFO  [NeuralNetwork] [00030] loss 1.096648 (lr=0.000475) (acc=0.385714)\n",
      "INFO  [NeuralNetwork] [00040] loss 1.096092 (lr=0.000475) (acc=0.385714)\n",
      "INFO  [NeuralNetwork] [00050] loss 1.095568 (lr=0.000475) (acc=0.385714)\n",
      "INFO  [NeuralNetwork] [00060] loss 1.095094 (lr=0.000451) (acc=0.385714)\n",
      "INFO  [NeuralNetwork] [00070] loss 1.094648 (lr=0.000451) (acc=0.385714)\n",
      "INFO  [NeuralNetwork] [00080] loss 1.094231 (lr=0.000429) (acc=0.385714)\n",
      "INFO  [NeuralNetwork] [00090] loss 1.093848 (lr=0.000429) (acc=0.385714)\n",
      "INFO  [NeuralNetwork] [00100] loss 1.093482 (lr=0.000429) (acc=0.385714)\n",
      "INFO  [NeuralNetwork] [00110] loss 1.093148 (lr=0.000407) (acc=0.385714)\n",
      "INFO  [NeuralNetwork] [00120] loss 1.092831 (lr=0.000407) (acc=0.385714)\n",
      "INFO  [NeuralNetwork] [00130] loss 1.092533 (lr=0.000387) (acc=0.385714)\n",
      "INFO  [NeuralNetwork] [00140] loss 1.092256 (lr=0.000387) (acc=0.385714)\n",
      "INFO  [NeuralNetwork] [00150] loss 1.091989 (lr=0.000387) (acc=0.385714)\n",
      "INFO  [NeuralNetwork] [00160] loss 1.091743 (lr=0.000368) (acc=0.385714)\n",
      "INFO  [NeuralNetwork] [00170] loss 1.091505 (lr=0.000368) (acc=0.385714)\n",
      "INFO  [NeuralNetwork] [00180] loss 1.091280 (lr=0.000349) (acc=0.385714)\n",
      "INFO  [NeuralNetwork] [00190] loss 1.091066 (lr=0.000349) (acc=0.385714)\n",
      "INFO  [NeuralNetwork] [00200] loss 1.090857 (lr=0.000349) (acc=0.385714)\n",
      "INFO  [NeuralNetwork] [00210] loss 1.090661 (lr=0.000332) (acc=0.385714)\n",
      "INFO  [NeuralNetwork] [00220] loss 1.090468 (lr=0.000332) (acc=0.385714)\n",
      "INFO  [NeuralNetwork] [00230] loss 1.090280 (lr=0.000315) (acc=0.385714)\n",
      "INFO  [NeuralNetwork] [00240] loss 1.090099 (lr=0.000315) (acc=0.385714)\n",
      "INFO  [NeuralNetwork] [00250] loss 1.089917 (lr=0.000315) (acc=0.385714)\n",
      "INFO  [NeuralNetwork] [00260] loss 1.089743 (lr=0.000299) (acc=0.385714)\n",
      "INFO  [NeuralNetwork] [00270] loss 1.089567 (lr=0.000299) (acc=0.385714)\n",
      "INFO  [NeuralNetwork] [00280] loss 1.089392 (lr=0.000284) (acc=0.385714)\n",
      "INFO  [NeuralNetwork] [00290] loss 1.089219 (lr=0.000284) (acc=0.385714)\n",
      "INFO  [NeuralNetwork] [00300] loss 1.089042 (lr=0.000284) (acc=0.385714)\n",
      "INFO  [NeuralNetwork] [00310] loss 1.088869 (lr=0.000270) (acc=0.385714)\n",
      "INFO  [NeuralNetwork] [00320] loss 1.088691 (lr=0.000270) (acc=0.385714)\n",
      "INFO  [NeuralNetwork] [00330] loss 1.088511 (lr=0.000257) (acc=0.385714)\n",
      "INFO  [NeuralNetwork] [00340] loss 1.088330 (lr=0.000257) (acc=0.385714)\n",
      "INFO  [NeuralNetwork] [00350] loss 1.088142 (lr=0.000257) (acc=0.385714)\n",
      "INFO  [NeuralNetwork] [00360] loss 1.087955 (lr=0.000244) (acc=0.385714)\n",
      "INFO  [NeuralNetwork] [00370] loss 1.087761 (lr=0.000244) (acc=0.385714)\n",
      "INFO  [NeuralNetwork] [00380] loss 1.087563 (lr=0.000232) (acc=0.385714)\n",
      "INFO  [NeuralNetwork] [00390] loss 1.087363 (lr=0.000232) (acc=0.385714)\n",
      "INFO  [NeuralNetwork] [00400] loss 1.087154 (lr=0.000232) (acc=0.385714)\n",
      "INFO  [NeuralNetwork] [00410] loss 1.086945 (lr=0.000220) (acc=0.385714)\n",
      "INFO  [NeuralNetwork] [00420] loss 1.086728 (lr=0.000220) (acc=0.385714)\n",
      "INFO  [NeuralNetwork] [00430] loss 1.086505 (lr=0.000209) (acc=0.385714)\n",
      "INFO  [NeuralNetwork] [00440] loss 1.086280 (lr=0.000209) (acc=0.385714)\n",
      "INFO  [NeuralNetwork] [00450] loss 1.086044 (lr=0.000209) (acc=0.385714)\n",
      "INFO  [NeuralNetwork] [00460] loss 1.085810 (lr=0.000199) (acc=0.385714)\n",
      "INFO  [NeuralNetwork] [00470] loss 1.085566 (lr=0.000199) (acc=0.385714)\n",
      "INFO  [NeuralNetwork] [00480] loss 1.085317 (lr=0.000189) (acc=0.385714)\n",
      "INFO  [NeuralNetwork] [00490] loss 1.085066 (lr=0.000189) (acc=0.385714)\n",
      "INFO  [NeuralNetwork] [00500] loss 1.084804 (lr=0.000189) (acc=0.385714)\n",
      "INFO  [NeuralNetwork] [00510] loss 1.084545 (lr=0.000179) (acc=0.385714)\n",
      "INFO  [NeuralNetwork] [00520] loss 1.084276 (lr=0.000179) (acc=0.385714)\n",
      "INFO  [NeuralNetwork] [00530] loss 1.084004 (lr=0.000170) (acc=0.385714)\n",
      "INFO  [NeuralNetwork] [00540] loss 1.083730 (lr=0.000170) (acc=0.385714)\n",
      "INFO  [NeuralNetwork] [00550] loss 1.083446 (lr=0.000170) (acc=0.385714)\n",
      "INFO  [NeuralNetwork] [00560] loss 1.083166 (lr=0.000162) (acc=0.385714)\n",
      "INFO  [NeuralNetwork] [00570] loss 1.082879 (lr=0.000162) (acc=0.385714)\n",
      "INFO  [NeuralNetwork] [00580] loss 1.082588 (lr=0.000154) (acc=0.385714)\n",
      "INFO  [NeuralNetwork] [00590] loss 1.082298 (lr=0.000154) (acc=0.385714)\n",
      "INFO  [NeuralNetwork] [00600] loss 1.081999 (lr=0.000154) (acc=0.385714)\n",
      "INFO  [NeuralNetwork] [00610] loss 1.081707 (lr=0.000146) (acc=0.385714)\n",
      "INFO  [NeuralNetwork] [00620] loss 1.081408 (lr=0.000146) (acc=0.385714)\n",
      "INFO  [NeuralNetwork] [00630] loss 1.081107 (lr=0.000139) (acc=0.385714)\n",
      "INFO  [NeuralNetwork] [00640] loss 1.080809 (lr=0.000139) (acc=0.385714)\n",
      "INFO  [NeuralNetwork] [00650] loss 1.080505 (lr=0.000139) (acc=0.385714)\n",
      "INFO  [NeuralNetwork] [00660] loss 1.080208 (lr=0.000132) (acc=0.385714)\n",
      "INFO  [NeuralNetwork] [00670] loss 1.079906 (lr=0.000132) (acc=0.385714)\n",
      "INFO  [NeuralNetwork] [00680] loss 1.079605 (lr=0.000125) (acc=0.385714)\n",
      "INFO  [NeuralNetwork] [00690] loss 1.079308 (lr=0.000125) (acc=0.385714)\n",
      "INFO  [NeuralNetwork] [00700] loss 1.079006 (lr=0.000125) (acc=0.385714)\n",
      "INFO  [NeuralNetwork] [00710] loss 1.078714 (lr=0.000119) (acc=0.385714)\n",
      "INFO  [NeuralNetwork] [00720] loss 1.078418 (lr=0.000119) (acc=0.385714)\n",
      "INFO  [NeuralNetwork] [00730] loss 1.078125 (lr=0.000113) (acc=0.385714)\n",
      "INFO  [NeuralNetwork] [00740] loss 1.077837 (lr=0.000113) (acc=0.385714)\n",
      "INFO  [NeuralNetwork] [00750] loss 1.077545 (lr=0.000113) (acc=0.385714)\n",
      "INFO  [NeuralNetwork] [00760] loss 1.077264 (lr=0.000107) (acc=0.385714)\n",
      "INFO  [NeuralNetwork] [00770] loss 1.076981 (lr=0.000107) (acc=0.385714)\n",
      "INFO  [NeuralNetwork] [00780] loss 1.076702 (lr=0.000102) (acc=0.385714)\n",
      "INFO  [NeuralNetwork] [00790] loss 1.076428 (lr=0.000102) (acc=0.385714)\n",
      "INFO  [NeuralNetwork] [00800] loss 1.076153 (lr=0.000102) (acc=0.385714)\n",
      "INFO  [NeuralNetwork] [00810] loss 1.075888 (lr=0.000097) (acc=0.385714)\n",
      "INFO  [NeuralNetwork] [00820] loss 1.075623 (lr=0.000097) (acc=0.385714)\n",
      "INFO  [NeuralNetwork] [00830] loss 1.075362 (lr=0.000092) (acc=0.385714)\n",
      "INFO  [NeuralNetwork] [00840] loss 1.075108 (lr=0.000092) (acc=0.385714)\n",
      "INFO  [NeuralNetwork] [00850] loss 1.074852 (lr=0.000092) (acc=0.385714)\n",
      "INFO  [NeuralNetwork] [00860] loss 1.074607 (lr=0.000087) (acc=0.385714)\n",
      "INFO  [NeuralNetwork] [00870] loss 1.074363 (lr=0.000087) (acc=0.385714)\n",
      "INFO  [NeuralNetwork] [00880] loss 1.074122 (lr=0.000083) (acc=0.385714)\n",
      "INFO  [NeuralNetwork] [00890] loss 1.073889 (lr=0.000083) (acc=0.385714)\n",
      "INFO  [NeuralNetwork] [00900] loss 1.073654 (lr=0.000083) (acc=0.385714)\n",
      "INFO  [NeuralNetwork] [00910] loss 1.073430 (lr=0.000079) (acc=0.385714)\n",
      "INFO  [NeuralNetwork] [00920] loss 1.073207 (lr=0.000079) (acc=0.385714)\n",
      "INFO  [NeuralNetwork] [00930] loss 1.072988 (lr=0.000075) (acc=0.385714)\n",
      "INFO  [NeuralNetwork] [00940] loss 1.072775 (lr=0.000075) (acc=0.385714)\n",
      "INFO  [NeuralNetwork] [00950] loss 1.072562 (lr=0.000075) (acc=0.385714)\n",
      "INFO  [NeuralNetwork] [00960] loss 1.072359 (lr=0.000071) (acc=0.385714)\n",
      "INFO  [NeuralNetwork] [00970] loss 1.072157 (lr=0.000071) (acc=0.385714)\n",
      "INFO  [NeuralNetwork] [00980] loss 1.071958 (lr=0.000068) (acc=0.385714)\n",
      "INFO  [NeuralNetwork] [00990] loss 1.071766 (lr=0.000068) (acc=0.385714)\n",
      "INFO  [NeuralNetwork] END ---------------\n"
     ]
    }
   ],
   "source": [
    "nn.fit(X_train, y_train, iterations=1000)"
   ]
  },
  {
   "cell_type": "markdown",
   "metadata": {},
   "source": [
    "Podemos ver que a medida que se incrementan las capas crece la complejidad del modelo, aunque es más díficil entrenarlo.\n",
    "\n",
    "\n",
    "## Perceptrón multicapa\n",
    "\n",
    "Hasta aquí hemos visto como podemos evolucionar un clasificador lineal para:\n",
    "* Llevarlo a un grado no lineal (sigmoide)\n",
    "* Mejorar su función de error (softmax)\n",
    "* Aprender de los errores (retropropagación)\n",
    "\n",
    "Y ahora, la siguiente pregunta es... ¿podemos *componer distintos clasificadores lineales en cascada* y aplicar los conceptos vistos hasta ahora?. La respuesta es que si, y con la composición somos capaces de conseguir clasificadores más complejos. La composición de clasificadores lineales nos lleva a conseguir clasificadores no lineales.\n",
    "\n",
    "Una arquitectura típica de composición es la denominada **perceptrón multicapa**:\n",
    "\n",
    "<img src=\"neural_network.png\" width=\"30%\">\n",
    "\n",
    "Consta de tres capas: una capa de entrada, una cada oculta y una de salida."
   ]
  },
  {
   "cell_type": "markdown",
   "metadata": {},
   "source": [
    "Podemos ver como cambiando la función de transformación cambia el hiperplano de separación:\n",
    "\n",
    "http://cs.stanford.edu/people/karpathy/convnetjs/demo/classify2d.html"
   ]
  },
  {
   "cell_type": "markdown",
   "metadata": {},
   "source": [
    "### Perceptrón multicapa en `sklearn`\n",
    "\n",
    "Podemos utilizarlo en `sklearn` de la siguiente manera:"
   ]
  },
  {
   "cell_type": "code",
   "execution_count": 43,
   "metadata": {
    "scrolled": true
   },
   "outputs": [],
   "source": [
    "from sklearn.neural_network import MLPClassifier\n",
    "\n",
    "mlp = MLPClassifier()"
   ]
  },
  {
   "cell_type": "code",
   "execution_count": 44,
   "metadata": {},
   "outputs": [
    {
     "data": {
      "text/plain": [
       "MLPClassifier(activation='relu', alpha=0.0001, batch_size='auto', beta_1=0.9,\n",
       "       beta_2=0.999, early_stopping=False, epsilon=1e-08,\n",
       "       hidden_layer_sizes=(100,), learning_rate='constant',\n",
       "       learning_rate_init=0.001, max_iter=200, momentum=0.9,\n",
       "       n_iter_no_change=10, nesterovs_momentum=True, power_t=0.5,\n",
       "       random_state=None, shuffle=True, solver='adam', tol=0.0001,\n",
       "       validation_fraction=0.1, verbose=False, warm_start=False)"
      ]
     },
     "execution_count": 44,
     "metadata": {},
     "output_type": "execute_result"
    }
   ],
   "source": [
    "mlp.fit(X_train, y_train)"
   ]
  },
  {
   "cell_type": "code",
   "execution_count": 45,
   "metadata": {},
   "outputs": [
    {
     "data": {
      "text/plain": [
       "1.0"
      ]
     },
     "execution_count": 45,
     "metadata": {},
     "output_type": "execute_result"
    }
   ],
   "source": [
    "mlp.score(X_test, y_test)"
   ]
  },
  {
   "cell_type": "markdown",
   "metadata": {},
   "source": [
    "Podemos consultar los parámetros que podemos modificar en:\n",
    "\n",
    "http://devdocs.io/scikit_learn/modules/generated/sklearn.neural_network.mlpclassifier\n",
    "\n",
    "Y jugar con ellos para ver los distintos resultados que se obtienen. Para ello puedes usar la siguiente función para ver como cambia el hiperplano de separación:"
   ]
  },
  {
   "cell_type": "code",
   "execution_count": 46,
   "metadata": {},
   "outputs": [
    {
     "data": {
      "image/png": "[encoded data removed]",
      "text/plain": [
       "<Figure size 432x288 with 1 Axes>"
      ]
     },
     "metadata": {
      "needs_background": "light"
     },
     "output_type": "display_data"
    }
   ],
   "source": [
    "mlp = MLPClassifier(hidden_layer_sizes=(100, ))\n",
    "mlp.fit(X_train, y_train)\n",
    "plot_2d_separator(mlp, X_train, y_train)"
   ]
  },
  {
   "cell_type": "code",
   "execution_count": 47,
   "metadata": {},
   "outputs": [
    {
     "data": {
      "image/png": "[encoded data removed]",
      "text/plain": [
       "<Figure size 432x288 with 1 Axes>"
      ]
     },
     "metadata": {
      "needs_background": "light"
     },
     "output_type": "display_data"
    }
   ],
   "source": [
    "mlp = MLPClassifier(hidden_layer_sizes=(100,100, ))\n",
    "mlp.fit(X_train, y_train)\n",
    "plot_2d_separator(mlp, X_train, y_train)"
   ]
  },
  {
   "cell_type": "code",
   "execution_count": 48,
   "metadata": {},
   "outputs": [
    {
     "data": {
      "image/png": "[encoded data removed]",
      "text/plain": [
       "<Figure size 432x288 with 1 Axes>"
      ]
     },
     "metadata": {
      "needs_background": "light"
     },
     "output_type": "display_data"
    }
   ],
   "source": [
    "mlp = MLPClassifier(hidden_layer_sizes=(100,100, 100,))\n",
    "mlp.fit(X_train, y_train)\n",
    "plot_2d_separator(mlp, X_train, y_train)"
   ]
  },
  {
   "cell_type": "markdown",
   "metadata": {},
   "source": [
    "### (extra) Relación loss vs learning rate\n",
    "\n",
    "<img src=\"loss_vs_lr.jpeg\" width=\"60%\">"
   ]
  }
 ],
 "metadata": {
  "anaconda-cloud": {},
  "kernelspec": {
   "display_name": "Python 3",
   "language": "python",
   "name": "python3"
  },
  "language_info": {
   "codemirror_mode": {
    "name": "ipython",
    "version": 3
   },
   "file_extension": ".py",
   "mimetype": "text/x-python",
   "name": "python",
   "nbconvert_exporter": "python",
   "pygments_lexer": "ipython3",
   "version": "3.7.4"
  }
 },
 "nbformat": 4,
 "nbformat_minor": 4
}

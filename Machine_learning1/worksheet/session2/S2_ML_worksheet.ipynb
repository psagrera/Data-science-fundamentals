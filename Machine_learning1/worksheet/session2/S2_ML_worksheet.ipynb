{
 "cells": [
  {
   "cell_type": "code",
   "execution_count": 1,
   "metadata": {},
   "outputs": [
    {
     "data": {
      "text/html": [
       "<style>\n",
       "\n",
       "h1 {\n",
       "\n",
       "    font-size: 32px;\n",
       "\n",
       "    font-weight: 500;\n",
       "\n",
       "}\n",
       "\n",
       "\n",
       "\n",
       "h2 {\n",
       "\n",
       "    background-color: #009fdf;\n",
       "\n",
       "    color: white;\n",
       "\n",
       "    padding: 20px;\n",
       "\n",
       "    border-radius: 5px;\n",
       "\n",
       "    font-size: 28px;\n",
       "\n",
       "    font-weight: 500;\n",
       "\n",
       "}\n",
       "\n",
       "\n",
       "\n",
       "\n",
       "\n",
       "pre.code {\n",
       "\n",
       "  background-color:#efefef;\n",
       "\n",
       "  padding: 20px;\n",
       "\n",
       "  border: 1px solid #dedede;\n",
       "\n",
       "}\n",
       "\n",
       "</style>\n"
      ],
      "text/plain": [
       "<IPython.core.display.HTML object>"
      ]
     },
     "execution_count": 1,
     "metadata": {},
     "output_type": "execute_result"
    }
   ],
   "source": [
    "from IPython.core.display import HTML\n",
    "HTML(\"\\n\".join(open('mioti_style.css', 'r').readlines()))"
   ]
  },
  {
   "cell_type": "markdown",
   "metadata": {},
   "source": [
    "<img src=\"mioti.png\" style=\"height: 100px\">\n",
    "<center style=\"color:#888\">Módulo Data Science in IoT<br/>Asignatura Machine Learning</center>\n",
    "# Worksheet S2: Introducción a los problemas de clasificación"
   ]
  },
  {
   "cell_type": "markdown",
   "metadata": {},
   "source": [
    "## Objetivos\n",
    "\n",
    "El objetivo de este worksheet es desarrollar la intuición que nos ayude a comprender los problemas de clasificación y el funcionamiento de un pipeline de trabajo típico en machine learning.\n",
    "\n",
    "## Los problemas de clasificación\n",
    "\n",
    "Imaginate que tenemos un dataset (conjunto de datos) con datos de distintos sensores de un coche (temperatura del motor, nivel de aceite...), y queremos saber a partir de esos sensores si el coche está funcionando bien o mal. ¿Cómo podríamos hacerlo?.\n",
    "\n",
    "La manera tradicional consiste en crear una serie de reglas que relacionen los distintos sensores y que definan que rangos de funcionamiento son buenos o malos. De esta manera podríamos definir si el funcionamiento es `bueno` o `malo`.\n",
    "\n",
    "Cada una de las reglas podría ser de este estilo:\n",
    "\n",
    "<pre class=\"code\">\n",
    "si (temp_motor > 100ºC) y (nivel_aceite < 30) entonces estado malo\n",
    "si (temp_motor >  30ºC) y (nivel_aceite > 30) entonces estado bueno\n",
    "</pre>\n",
    "\n",
    "El problema de este enfoque es que nos obliga a conocer las relaciones que existen entre cada una de las variables y esto puede ser muy complicado.\n",
    "\n",
    "La premisa de la que parte el aprendizaje automático es la siguiente: **¿Podríamos a partir de un conjunto de datos ya etiquetados generar automáticamente esas `reglas`?**\n",
    "\n",
    "<img src=\"ml_vs_programming.png\" width=\"40%\" />\n",
    "\n",
    "Como veremos a lo largo de esta asignatura, la respuesta es sí.\n",
    "\n",
    "Antes de empezar:\n",
    "\n",
    "* Llamaremos a esas `reglas` que queremos generar: **`modelo`**. Como veremos, cada algoritmo de clasificación genera un tipo de reglas distintas.\n",
    "* Llamaremos al conjunto de datos previamente etiquetados: `conjunto de entrenamiento`.\n",
    "* A cada uno de los casos individuales a evaluar lo llamaremos `instancia`.\n"
   ]
  },
  {
   "cell_type": "markdown",
   "metadata": {},
   "source": [
    "## Configuración del entorno\n",
    "\n",
    "Como siempre, antes de empezar cargaremos los paquetes a utilizar."
   ]
  },
  {
   "cell_type": "code",
   "execution_count": 1,
   "metadata": {},
   "outputs": [],
   "source": [
    "%matplotlib inline\n",
    "\n",
    "import warnings\n",
    "warnings.filterwarnings(\"ignore\")\n",
    "\n",
    "import numpy as np\n",
    "import pandas as pd\n",
    "import matplotlib.pyplot as plt"
   ]
  },
  {
   "cell_type": "markdown",
   "metadata": {},
   "source": [
    "## Dataset de prueba\n",
    "\n",
    "Para empezar, vamos a generar un dataset aleatorizado mediante algunas funciones que nos proporciona `sklearn`. Utilizaremos la función `make_moons` para generar un dataset con dos categorias (`0` y `1`) formado por dos circulos que se superponen."
   ]
  },
  {
   "cell_type": "code",
   "execution_count": 2,
   "metadata": {},
   "outputs": [],
   "source": [
    "from sklearn.datasets import make_moons\n",
    "\n",
    "dataset = make_moons(noise=0.3, random_state=0)"
   ]
  },
  {
   "cell_type": "markdown",
   "metadata": {},
   "source": [
    "Como podemos observar el dataset está formado por una lista que contiene a su vez otras dos listas. La primera, llamada generalmente el vector `X` contiene las características del dataset. En este caso como son puntos 2D, son coordenada $x$ y coordenada $y$. La segunda lista que contiene este dataset indica a que clase pertenece cada item."
   ]
  },
  {
   "cell_type": "code",
   "execution_count": 3,
   "metadata": {},
   "outputs": [
    {
     "name": "stdout",
     "output_type": "stream",
     "text": [
      "(array([[ 0.03159499,  0.98698776],\n",
      "       [ 2.11509784, -0.04624397],\n",
      "       [ 0.88248972, -0.07575606],\n",
      "       [-0.0551441 , -0.03733246],\n",
      "       [ 0.82954503, -0.53932149],\n",
      "       [ 2.11285708,  0.66208353],\n",
      "       [ 0.5696927 ,  0.33744136],\n",
      "       [ 0.95217454, -0.75307471],\n",
      "       [-0.02922115,  0.39287336],\n",
      "       [ 1.71579557,  0.36069454],\n",
      "       [-0.27883014,  0.61420539],\n",
      "       [ 2.00344509, -0.3091496 ],\n",
      "       [ 1.50009616, -0.74636376],\n",
      "       [ 1.22540835,  1.19793017],\n",
      "       [ 0.46730819,  0.54703192],\n",
      "       [-0.36653222,  1.11971633],\n",
      "       [ 0.30124459,  1.23315697],\n",
      "       [ 0.30430746,  0.82373935],\n",
      "       [-0.23712492,  0.77876034],\n",
      "       [ 1.16339832,  0.55290238],\n",
      "       [-0.59702417,  0.6572361 ],\n",
      "       [ 0.46356735, -0.1951543 ],\n",
      "       [ 0.68451111,  0.75287685],\n",
      "       [ 0.70515699, -0.45892444],\n",
      "       [-0.65805008, -0.12944211],\n",
      "       [-0.74662946, -0.3829632 ],\n",
      "       [ 0.60585226,  0.31252842],\n",
      "       [ 2.18137168, -0.02291747],\n",
      "       [ 1.91980633,  0.17247329],\n",
      "       [ 1.4834364 , -0.10517023],\n",
      "       [ 0.47404723, -0.14575067],\n",
      "       [ 1.05614605, -1.03570207],\n",
      "       [ 1.86500732, -0.01107874],\n",
      "       [ 0.4194721 , -0.32478101],\n",
      "       [ 0.06873258,  0.56648467],\n",
      "       [-0.17332432,  1.00215131],\n",
      "       [ 0.12412421,  1.00062892],\n",
      "       [ 0.18121142,  0.24717743],\n",
      "       [-0.25451559,  0.19317272],\n",
      "       [ 1.02580668, -0.62574566],\n",
      "       [ 1.52002143, -0.04515581],\n",
      "       [ 0.64174037, -0.39369468],\n",
      "       [-0.87615589,  0.0465662 ],\n",
      "       [-1.06964997,  0.13666025],\n",
      "       [ 1.02658765,  0.37782458],\n",
      "       [ 0.93131325,  1.38517841],\n",
      "       [ 0.67680544,  1.57189931],\n",
      "       [-0.36885733,  0.72886601],\n",
      "       [-1.02465495,  0.16190215],\n",
      "       [ 0.77455385,  0.15375803],\n",
      "       [ 1.4045116 , -0.00705701],\n",
      "       [-0.38147174, -0.23488747],\n",
      "       [ 0.72155224,  0.44721658],\n",
      "       [-0.51346686,  0.67869095],\n",
      "       [ 0.32118546,  0.28668667],\n",
      "       [ 0.1953628 ,  0.16085107],\n",
      "       [ 0.52824196,  0.98300993],\n",
      "       [-0.2216539 ,  0.25160139],\n",
      "       [ 0.22334676,  1.32217183],\n",
      "       [-0.10704572,  0.56178326],\n",
      "       [ 0.63651685,  0.75444825],\n",
      "       [-0.37227848,  0.99291317],\n",
      "       [ 0.20718083, -0.09767143],\n",
      "       [ 0.12733142, -0.3796549 ],\n",
      "       [ 0.71435231, -0.79994161],\n",
      "       [ 1.09487814, -0.36841845],\n",
      "       [-0.14814362,  0.96158657],\n",
      "       [ 1.586188  , -0.62984517],\n",
      "       [ 0.74444551,  0.57661371],\n",
      "       [ 2.18011028, -0.69977751],\n",
      "       [ 0.24575594,  0.8496383 ],\n",
      "       [-0.95003581,  0.90361699],\n",
      "       [-0.88230758,  0.07249044],\n",
      "       [ 2.02297079,  0.12325148],\n",
      "       [ 2.14577321,  0.46296362],\n",
      "       [ 0.35536468, -0.67847989],\n",
      "       [ 0.34665026,  1.11570676],\n",
      "       [ 1.7392373 ,  0.45900352],\n",
      "       [ 0.63856467, -0.44718443],\n",
      "       [ 1.2876687 , -0.4910366 ],\n",
      "       [-0.13772607,  1.2453262 ],\n",
      "       [-0.56175303,  1.05486051],\n",
      "       [ 1.29003748, -0.20691405],\n",
      "       [-0.87539365,  0.50543423],\n",
      "       [-0.92858249, -0.45631991],\n",
      "       [ 0.02493632,  0.10747958],\n",
      "       [ 0.1972559 , -0.06801668],\n",
      "       [ 0.73346056,  0.28161929],\n",
      "       [ 1.68294434, -0.2020423 ],\n",
      "       [ 0.50764124, -0.11731979],\n",
      "       [ 1.66760217, -0.42485665],\n",
      "       [-0.82172282,  0.63141066],\n",
      "       [ 0.30170903,  0.78603534],\n",
      "       [ 1.37671505, -0.80915107],\n",
      "       [ 1.17037551,  0.59840653],\n",
      "       [ 1.69945309,  0.58771967],\n",
      "       [ 0.21862323, -0.65252119],\n",
      "       [ 0.95291428, -0.41976564],\n",
      "       [-1.31850034,  0.42311235],\n",
      "       [-1.29681764,  0.18414709]]), array([0, 1, 0, 1, 1, 1, 0, 1, 1, 1, 1, 1, 1, 0, 0, 0, 0, 0, 0, 0, 0, 1,\n",
      "       0, 1, 0, 0, 0, 1, 1, 1, 1, 1, 1, 1, 1, 0, 0, 1, 1, 1, 0, 1, 0, 0,\n",
      "       0, 0, 0, 0, 0, 0, 1, 1, 0, 0, 0, 1, 0, 0, 0, 1, 0, 0, 1, 1, 1, 1,\n",
      "       0, 1, 0, 1, 0, 0, 0, 1, 1, 1, 0, 1, 1, 1, 0, 0, 1, 0, 0, 1, 1, 0,\n",
      "       1, 1, 1, 0, 0, 1, 0, 1, 1, 1, 0, 0]))\n"
     ]
    }
   ],
   "source": [
    "print(dataset)"
   ]
  },
  {
   "cell_type": "code",
   "execution_count": 4,
   "metadata": {},
   "outputs": [],
   "source": [
    "dataset_X = dataset[0]"
   ]
  },
  {
   "cell_type": "markdown",
   "metadata": {},
   "source": [
    "Podemos ver que son puntos:"
   ]
  },
  {
   "cell_type": "code",
   "execution_count": 10,
   "metadata": {},
   "outputs": [
    {
     "name": "stdout",
     "output_type": "stream",
     "text": [
      "[[ 0.03159499  0.98698776]\n",
      " [ 2.11509784 -0.04624397]\n",
      " [ 0.88248972 -0.07575606]\n",
      " [-0.0551441  -0.03733246]\n",
      " [ 0.82954503 -0.53932149]\n",
      " [ 2.11285708  0.66208353]\n",
      " [ 0.5696927   0.33744136]\n",
      " [ 0.95217454 -0.75307471]\n",
      " [-0.02922115  0.39287336]\n",
      " [ 1.71579557  0.36069454]\n",
      " [-0.27883014  0.61420539]\n",
      " [ 2.00344509 -0.3091496 ]\n",
      " [ 1.50009616 -0.74636376]\n",
      " [ 1.22540835  1.19793017]\n",
      " [ 0.46730819  0.54703192]\n",
      " [-0.36653222  1.11971633]\n",
      " [ 0.30124459  1.23315697]\n",
      " [ 0.30430746  0.82373935]\n",
      " [-0.23712492  0.77876034]\n",
      " [ 1.16339832  0.55290238]\n",
      " [-0.59702417  0.6572361 ]\n",
      " [ 0.46356735 -0.1951543 ]\n",
      " [ 0.68451111  0.75287685]\n",
      " [ 0.70515699 -0.45892444]\n",
      " [-0.65805008 -0.12944211]\n",
      " [-0.74662946 -0.3829632 ]\n",
      " [ 0.60585226  0.31252842]\n",
      " [ 2.18137168 -0.02291747]\n",
      " [ 1.91980633  0.17247329]\n",
      " [ 1.4834364  -0.10517023]\n",
      " [ 0.47404723 -0.14575067]\n",
      " [ 1.05614605 -1.03570207]\n",
      " [ 1.86500732 -0.01107874]\n",
      " [ 0.4194721  -0.32478101]\n",
      " [ 0.06873258  0.56648467]\n",
      " [-0.17332432  1.00215131]\n",
      " [ 0.12412421  1.00062892]\n",
      " [ 0.18121142  0.24717743]\n",
      " [-0.25451559  0.19317272]\n",
      " [ 1.02580668 -0.62574566]\n",
      " [ 1.52002143 -0.04515581]\n",
      " [ 0.64174037 -0.39369468]\n",
      " [-0.87615589  0.0465662 ]\n",
      " [-1.06964997  0.13666025]\n",
      " [ 1.02658765  0.37782458]\n",
      " [ 0.93131325  1.38517841]\n",
      " [ 0.67680544  1.57189931]\n",
      " [-0.36885733  0.72886601]\n",
      " [-1.02465495  0.16190215]\n",
      " [ 0.77455385  0.15375803]\n",
      " [ 1.4045116  -0.00705701]\n",
      " [-0.38147174 -0.23488747]\n",
      " [ 0.72155224  0.44721658]\n",
      " [-0.51346686  0.67869095]\n",
      " [ 0.32118546  0.28668667]\n",
      " [ 0.1953628   0.16085107]\n",
      " [ 0.52824196  0.98300993]\n",
      " [-0.2216539   0.25160139]\n",
      " [ 0.22334676  1.32217183]\n",
      " [-0.10704572  0.56178326]\n",
      " [ 0.63651685  0.75444825]\n",
      " [-0.37227848  0.99291317]\n",
      " [ 0.20718083 -0.09767143]\n",
      " [ 0.12733142 -0.3796549 ]\n",
      " [ 0.71435231 -0.79994161]\n",
      " [ 1.09487814 -0.36841845]\n",
      " [-0.14814362  0.96158657]\n",
      " [ 1.586188   -0.62984517]\n",
      " [ 0.74444551  0.57661371]\n",
      " [ 2.18011028 -0.69977751]\n",
      " [ 0.24575594  0.8496383 ]\n",
      " [-0.95003581  0.90361699]\n",
      " [-0.88230758  0.07249044]\n",
      " [ 2.02297079  0.12325148]\n",
      " [ 2.14577321  0.46296362]\n",
      " [ 0.35536468 -0.67847989]\n",
      " [ 0.34665026  1.11570676]\n",
      " [ 1.7392373   0.45900352]\n",
      " [ 0.63856467 -0.44718443]\n",
      " [ 1.2876687  -0.4910366 ]\n",
      " [-0.13772607  1.2453262 ]\n",
      " [-0.56175303  1.05486051]\n",
      " [ 1.29003748 -0.20691405]\n",
      " [-0.87539365  0.50543423]\n",
      " [-0.92858249 -0.45631991]\n",
      " [ 0.02493632  0.10747958]\n",
      " [ 0.1972559  -0.06801668]\n",
      " [ 0.73346056  0.28161929]\n",
      " [ 1.68294434 -0.2020423 ]\n",
      " [ 0.50764124 -0.11731979]\n",
      " [ 1.66760217 -0.42485665]\n",
      " [-0.82172282  0.63141066]\n",
      " [ 0.30170903  0.78603534]\n",
      " [ 1.37671505 -0.80915107]\n",
      " [ 1.17037551  0.59840653]\n",
      " [ 1.69945309  0.58771967]\n",
      " [ 0.21862323 -0.65252119]\n",
      " [ 0.95291428 -0.41976564]\n",
      " [-1.31850034  0.42311235]\n",
      " [-1.29681764  0.18414709]]\n"
     ]
    }
   ],
   "source": [
    "print(dataset_X)"
   ]
  },
  {
   "cell_type": "code",
   "execution_count": 11,
   "metadata": {},
   "outputs": [],
   "source": [
    "dataset_y = dataset[1]"
   ]
  },
  {
   "cell_type": "markdown",
   "metadata": {},
   "source": [
    "Podemos ver que por cada punto se indica a que categoría pertenece (0 o 1)"
   ]
  },
  {
   "cell_type": "code",
   "execution_count": 12,
   "metadata": {},
   "outputs": [
    {
     "name": "stdout",
     "output_type": "stream",
     "text": [
      "[0 1 0 1 1 1 0 1 1 1 1 1 1 0 0 0 0 0 0 0 0 1 0 1 0 0 0 1 1 1 1 1 1 1 1 0 0\n",
      " 1 1 1 0 1 0 0 0 0 0 0 0 0 1 1 0 0 0 1 0 0 0 1 0 0 1 1 1 1 0 1 0 1 0 0 0 1\n",
      " 1 1 0 1 1 1 0 0 1 0 0 1 1 0 1 1 1 0 0 1 0 1 1 1 0 0]\n"
     ]
    }
   ],
   "source": [
    "print(dataset_y)"
   ]
  },
  {
   "cell_type": "markdown",
   "metadata": {},
   "source": [
    "Podemos dibujar el dataset de la siguiente manera:\n",
    "\n",
    "<div style=\"background-color:#FFFFCC; padding: 10px; margin:10px; border-radius:10px\">\n",
    "Todo el código que se ponga en funciones de aquí y durante el resto de la asignatura no es necesario entenderlo. Sólo es imprescindible conocer los parámetros de entrada y los de salida si los tuviera.\n",
    "</div>"
   ]
  },
  {
   "cell_type": "code",
   "execution_count": 13,
   "metadata": {},
   "outputs": [],
   "source": [
    "def dibuja_dataset(X, y):  \n",
    "    from matplotlib.colors import ListedColormap\n",
    "    cm_bright = ListedColormap(['#FF0000', '#0000FF'])\n",
    "    plt.scatter(X[:,0], X[:,1], c=y, cmap=cm_bright, edgecolors='k')"
   ]
  },
  {
   "cell_type": "code",
   "execution_count": 14,
   "metadata": {},
   "outputs": [
    {
     "data": {
      "image/png": "[encoded data removed]",
      "text/plain": [
       "<Figure size 432x288 with 1 Axes>"
      ]
     },
     "metadata": {
      "needs_background": "light"
     },
     "output_type": "display_data"
    }
   ],
   "source": [
    "dibuja_dataset(dataset_X, dataset_y)"
   ]
  },
  {
   "cell_type": "markdown",
   "metadata": {},
   "source": [
    "Los puntos rojos pertenecen a una clase y los azules a la otra."
   ]
  },
  {
   "cell_type": "markdown",
   "metadata": {},
   "source": [
    "### Preguntas 1\n",
    "\n",
    "* ¿Crees que se pueden separar los puntos rojos y los azules fácilmente? ¿se te ocurre cómo?\n",
    "* ¿Cómo podríamos definir la separabilidad? ¿matemáticamente qué podría ser?"
   ]
  },
  {
   "cell_type": "markdown",
   "metadata": {},
   "source": [
    "## Conjunto de entrenamiento y test\n",
    "\n",
    "Como hemos visto, el problema de la clasificación se pueden interpretar como encontrar esas \"líneas\" o \"planos\" de separación. Para ello vamos a ofrecer al ordenador un conjunto de ejemplos etiquetados para poder entrenar un modelo (`conjunto de entrenamiento`), una vez entrenado el modelo lo enfrentaremos a unos datos de test para evaluar el rendimiento del mismo (`conjunto de test`).\n",
    "\n",
    "Para realizar estas tareas, `sklearn` dispone de varias funciones que nos facilitan el trabajo. La más simple es `train_test_split` que nos divide el dataset en dos conjuntos entrenamiento y test controlado por un parámetro `test_size` que determina que porcentaje de los datos pertenece a entrenamiento y cual a test."
   ]
  },
  {
   "cell_type": "code",
   "execution_count": 11,
   "metadata": {},
   "outputs": [],
   "source": [
    "from sklearn.model_selection import train_test_split\n",
    "\n",
    "X_train, X_test, y_train, y_test = train_test_split(dataset_X, dataset_y, test_size=.3, random_state=42)"
   ]
  },
  {
   "cell_type": "code",
   "execution_count": 12,
   "metadata": {},
   "outputs": [
    {
     "name": "stdout",
     "output_type": "stream",
     "text": [
      "70\n",
      "30\n"
     ]
    }
   ],
   "source": [
    "print(len(X_train))\n",
    "print(len(X_test))"
   ]
  },
  {
   "cell_type": "markdown",
   "metadata": {},
   "source": [
    "Podemos dibujar el conjunto de entrenamiento:"
   ]
  },
  {
   "cell_type": "code",
   "execution_count": 13,
   "metadata": {},
   "outputs": [
    {
     "data": {
      "image/png": "[encoded data removed]",
      "text/plain": [
       "<Figure size 432x288 with 1 Axes>"
      ]
     },
     "metadata": {},
     "output_type": "display_data"
    }
   ],
   "source": [
    "dibuja_dataset(X_train, y_train)"
   ]
  },
  {
   "cell_type": "markdown",
   "metadata": {},
   "source": [
    "Y el de test."
   ]
  },
  {
   "cell_type": "code",
   "execution_count": 14,
   "metadata": {
    "scrolled": true
   },
   "outputs": [
    {
     "data": {
      "image/png": "[encoded data removed]",
      "text/plain": [
       "<Figure size 432x288 with 1 Axes>"
      ]
     },
     "metadata": {},
     "output_type": "display_data"
    }
   ],
   "source": [
    "dibuja_dataset(X_test, y_test)"
   ]
  },
  {
   "cell_type": "markdown",
   "metadata": {},
   "source": [
    "### Preguntas 2\n",
    "\n",
    "* ¿Podría ser el conjunto de entrenamiento y el de test el mismo?\n",
    "* ¿Crees que separar las instancias aleatoriamente entre entrenamiento y test es el mejor método?"
   ]
  },
  {
   "cell_type": "markdown",
   "metadata": {},
   "source": [
    "## Entrenamiento y clasificación\n",
    "\n",
    "Una vez que tenemos el dataset separado en conjunto de entrenamiento y test, estamos en condiciones de entrenar nuestro primer modelo. Para ello vamos a utilizar clasificador logístico. En esta sesión no vamos a entrar en los detalles de que es un clasificador logístico. Pero por resumir, piensa que un clasificador logístico es un algoritmo capaz de encontrar la línea de separación óptima en un conjunto de datos.\n",
    "\n",
    "Podemos crear un clasificador logístico con `sklearn` de la siguiente manera:"
   ]
  },
  {
   "cell_type": "code",
   "execution_count": 15,
   "metadata": {},
   "outputs": [],
   "source": [
    "from sklearn.linear_model import LogisticRegression\n",
    "\n",
    "logistic = LogisticRegression()"
   ]
  },
  {
   "cell_type": "markdown",
   "metadata": {},
   "source": [
    "Como podemos ver con la función `print` este algoritmo, como casi todos en aprendizaje automático, es un algoritmo que tiene bastantes parámetros. A pesar de ello, podemos crear el algoritmo sin parámetros porque `sklearn` por defecto toma valores razonables de todos ellos."
   ]
  },
  {
   "cell_type": "code",
   "execution_count": 16,
   "metadata": {
    "scrolled": true
   },
   "outputs": [
    {
     "name": "stdout",
     "output_type": "stream",
     "text": [
      "LogisticRegression(C=1.0, class_weight=None, dual=False, fit_intercept=True,\n",
      "          intercept_scaling=1, max_iter=100, multi_class='ovr', n_jobs=1,\n",
      "          penalty='l2', random_state=None, solver='liblinear', tol=0.0001,\n",
      "          verbose=0, warm_start=False)\n"
     ]
    }
   ],
   "source": [
    "print(logistic)"
   ]
  },
  {
   "cell_type": "markdown",
   "metadata": {},
   "source": [
    "Una vez creado el algoritmo, vamos a crear un modelo. Como verás el flujo tipico de los clasificadores es siempre igual.\n",
    "\n",
    "Para ello utilizaremos la función `fit`. En función del tamaño de los datos esta función puede tardar más o menos tiempo."
   ]
  },
  {
   "cell_type": "code",
   "execution_count": 17,
   "metadata": {},
   "outputs": [
    {
     "data": {
      "text/plain": [
       "LogisticRegression(C=1.0, class_weight=None, dual=False, fit_intercept=True,\n",
       "          intercept_scaling=1, max_iter=100, multi_class='ovr', n_jobs=1,\n",
       "          penalty='l2', random_state=None, solver='liblinear', tol=0.0001,\n",
       "          verbose=0, warm_start=False)"
      ]
     },
     "execution_count": 17,
     "metadata": {},
     "output_type": "execute_result"
    }
   ],
   "source": [
    "logistic.fit(X_train, y_train)"
   ]
  },
  {
   "cell_type": "markdown",
   "metadata": {},
   "source": [
    "Una vez entrenado el modelo podemos evaluarlo con el conjunto de test de la siguiente manera:"
   ]
  },
  {
   "cell_type": "code",
   "execution_count": 18,
   "metadata": {},
   "outputs": [],
   "source": [
    "y_predicted = logistic.predict(X_test)"
   ]
  },
  {
   "cell_type": "code",
   "execution_count": 19,
   "metadata": {},
   "outputs": [
    {
     "name": "stdout",
     "output_type": "stream",
     "text": [
      "[0 0 0 0 1 1 0 0 0 0 0 1 1 1 1 1 0 1 1 1 0 1 1 0 1 0 1 1 1 0]\n"
     ]
    }
   ],
   "source": [
    "print(y_predicted)"
   ]
  },
  {
   "cell_type": "markdown",
   "metadata": {},
   "source": [
    "En el caso del logistico, podemos ver los valores obtenidos de la recta de regresión obtenida de la siguiente manera:"
   ]
  },
  {
   "cell_type": "code",
   "execution_count": 20,
   "metadata": {},
   "outputs": [
    {
     "name": "stdout",
     "output_type": "stream",
     "text": [
      "[[ 1.18256344 -2.26046544]]\n",
      "[0.0047854]\n"
     ]
    }
   ],
   "source": [
    "print(logistic.coef_)\n",
    "print(logistic.intercept_)"
   ]
  },
  {
   "cell_type": "markdown",
   "metadata": {},
   "source": [
    "Y podemos dibujar la línea de separación con la siguiente función:"
   ]
  },
  {
   "cell_type": "code",
   "execution_count": 21,
   "metadata": {},
   "outputs": [],
   "source": [
    "def plot_2d_separator(classifier, X, y, fill=False, ax=None, eps=None):\n",
    "    from matplotlib.colors import ListedColormap\n",
    "    cm_bright = ListedColormap(['#FF0000', '#0000FF'])\n",
    "    plt.scatter(X[:,0], X[:, 1], c=y, cmap=cm_bright, edgecolors='k')\n",
    "    \n",
    "    if eps is None:\n",
    "        eps = X.std() / 2.\n",
    "    x_min, x_max = X[:, 0].min() - eps, X[:, 0].max() + eps\n",
    "    y_min, y_max = X[:, 1].min() - eps, X[:, 1].max() + eps\n",
    "    xx = np.linspace(x_min, x_max, 100)\n",
    "    yy = np.linspace(y_min, y_max, 100)\n",
    "\n",
    "    X1, X2 = np.meshgrid(xx, yy)\n",
    "    X_grid = np.c_[X1.ravel(), X2.ravel()]\n",
    "    try:\n",
    "        decision_values = classifier.decision_function(X_grid)\n",
    "        levels = [0]\n",
    "        fill_levels = [decision_values.min(), 0, decision_values.max()]\n",
    "    except AttributeError:\n",
    "        # no decision_function\n",
    "        decision_values = classifier.predict_proba(X_grid)[:, 1]\n",
    "        levels = [.5]\n",
    "        fill_levels = [0, .5, 1]\n",
    "\n",
    "    if ax is None:\n",
    "        ax = plt.gca()\n",
    "\n",
    "    ax.contour(X1, X2, decision_values.reshape(X1.shape), levels=levels, colors=\"black\")"
   ]
  },
  {
   "cell_type": "markdown",
   "metadata": {},
   "source": [
    "Y la usamos de la siguiente manera:"
   ]
  },
  {
   "cell_type": "code",
   "execution_count": 22,
   "metadata": {},
   "outputs": [
    {
     "data": {
      "image/png": "[encoded data removed]",
      "text/plain": [
       "<Figure size 432x288 with 1 Axes>"
      ]
     },
     "metadata": {},
     "output_type": "display_data"
    }
   ],
   "source": [
    "plot_2d_separator(logistic, dataset_X, dataset_y)"
   ]
  },
  {
   "cell_type": "markdown",
   "metadata": {},
   "source": [
    "Existen infinidad de clasificadores implementados en `sklearn`. \n",
    "\n",
    "Por ejemplo el perceptrón multicapa se instancia de la siguiente manera:\n",
    "\n",
    "`from sklearn.neural_network import MLPClassifier\n",
    "nn = MLPClassifier()`\n",
    "\n",
    "Su uso es totalmente análogo al del logístico."
   ]
  },
  {
   "cell_type": "markdown",
   "metadata": {},
   "source": [
    "## Métricas de evaluación\n",
    "\n",
    "Una vez entrenado un modelo, es interesante evaluar el rendimiento del mismo, ¿cómo podríamos hacerlo?.\n",
    "\n",
    "La forma más evidente es comparar los resultados del modelo versus los resultados reales del conjunto de test.  Esto lo podemos hacer de la siguiente manera:"
   ]
  },
  {
   "cell_type": "code",
   "execution_count": 23,
   "metadata": {},
   "outputs": [
    {
     "name": "stdout",
     "output_type": "stream",
     "text": [
      "[0 0 0 0 1 1 0 0 0 0 0 1 1 1 1 1 0 1 1 1 0 1 1 0 1 0 1 1 1 0]\n",
      "[0 0 0 0 0 1 0 0 1 0 0 1 1 1 1 1 0 1 1 1 1 1 0 0 1 0 0 1 1 0]\n"
     ]
    }
   ],
   "source": [
    "print(y_predicted)\n",
    "print(y_test)"
   ]
  },
  {
   "cell_type": "markdown",
   "metadata": {},
   "source": [
    "### Porcentaje de acierto\n",
    "\n",
    "Como primera métrica de evaluación podemos contar el porcentaje de acierto (*accuracy*). Qué se define como el número de casos en los que el algoritmo ha acertado entre el número de casos totales."
   ]
  },
  {
   "cell_type": "code",
   "execution_count": 24,
   "metadata": {},
   "outputs": [
    {
     "data": {
      "text/plain": [
       "0.8333333333333334"
      ]
     },
     "execution_count": 24,
     "metadata": {},
     "output_type": "execute_result"
    }
   ],
   "source": [
    "np.mean(y_predicted == y_test)"
   ]
  },
  {
   "cell_type": "markdown",
   "metadata": {},
   "source": [
    "Como esta métrica es muy habitual `sklearn` provee una función nos hace este cálculo automáticamente."
   ]
  },
  {
   "cell_type": "code",
   "execution_count": 25,
   "metadata": {},
   "outputs": [
    {
     "name": "stdout",
     "output_type": "stream",
     "text": [
      "0.8333333333333334\n"
     ]
    }
   ],
   "source": [
    "print(logistic.score(X_test, y_test))"
   ]
  },
  {
   "cell_type": "markdown",
   "metadata": {},
   "source": [
    "En este caso el 83,3% de las instancias han sido correctamente clasificadas."
   ]
  },
  {
   "cell_type": "markdown",
   "metadata": {},
   "source": [
    "### Matriz de confusión\n",
    "\n",
    "Aunque el porcentaje de acierto es sencillo de entender muestra una realidad muy parcial del problema.\n",
    "\n",
    "Imaginate que en nuestro ejemplo del automóvil tuviéramos un 83% de acierto. Podría ocurrir que nuestro modelo clasificara bien todos los casos en los que el coche estuviera bien, pero ninguno en los que estuviera mal. Podemos tener un buen porcentaje de acierto, y que el clasificador funcione mal en nuestra aplicación real.\n",
    "\n",
    "Un método un poco más complejo, pero muy efectivo es utilizar la `matriz de confusión` esta matriz nos indica por cada categoría a clasificar (lo que se denomina `clase`) cuantos casos han sido clasificados bien y cuantos mal.\n",
    "\n",
    "Podemos obtener la matriz de confusión con sklearn de la siguiente manera:"
   ]
  },
  {
   "cell_type": "code",
   "execution_count": 26,
   "metadata": {},
   "outputs": [
    {
     "data": {
      "text/plain": [
       "array([[12,  3],\n",
       "       [ 2, 13]])"
      ]
     },
     "execution_count": 26,
     "metadata": {},
     "output_type": "execute_result"
    }
   ],
   "source": [
    "from sklearn.metrics import confusion_matrix\n",
    "confusion_matrix(y_test, y_predicted)"
   ]
  },
  {
   "cell_type": "markdown",
   "metadata": {},
   "source": [
    "Esta matriz se lee de la siguiente forma:\n",
    "\n",
    "```\n",
    "         |    | 0  | 1  | <- clasificado como (clase predicha)\n",
    "         |----|----|----| \n",
    "clase    | 0  | 12 | 3  |\n",
    "real     | 1  | 2  | 13 |\n",
    "```\n",
    "\n",
    "Es decir:\n",
    "\n",
    "* Existen 12 casos donde realmente habia un 0 y el clasificador nos dijo que era 0\n",
    "* Existen 13 casos donde realmente habia un 1 y el clasificador nos dijo que era 1\n",
    "* Existen 2 casos donde realmente habia un 1 y el clasificador nos dijo que era 0\n",
    "* Existen 3 casos donde realmente habia un 0 y el clasificador nos dijo que era 1\n",
    "\n",
    "Podemos dibujar también la matriz de confusión de la siguiente manera:"
   ]
  },
  {
   "cell_type": "code",
   "execution_count": 27,
   "metadata": {
    "scrolled": true
   },
   "outputs": [
    {
     "data": {
      "image/png": "[encoded data removed]",
      "text/plain": [
       "<Figure size 432x288 with 2 Axes>"
      ]
     },
     "metadata": {},
     "output_type": "display_data"
    }
   ],
   "source": [
    "plt.imshow(confusion_matrix(y_test, y_predicted), cmap=\"Greens\")\n",
    "plt.colorbar(shrink=0.8)\n",
    "plt.xticks(range(2))\n",
    "plt.yticks(range(2))\n",
    "plt.xlabel(\"Clase predicha\")\n",
    "plt.ylabel(\"Clase real\");"
   ]
  },
  {
   "cell_type": "markdown",
   "metadata": {},
   "source": [
    "Además de dibujar la matriz de confusión como se ha expresado antes, existen otros paquetes que nos facilitan esta tarde. Es interesante el paquete `scikit-plot` que dispone de varias funciones muy útiles para machine learning.\n",
    "\n",
    "Aunque este paquete no está disponible en anaconda como paquete por defecto, se puede instalar con el siguiente comando:\n",
    "\n",
    "<pre class=\"code\">\n",
    "conda install -c conda-forge scikit-plot\n",
    "</pre>\n",
    "\n",
    "En:\n",
    "* **OSX y Linux**: lo podéis instalar ejecutando ese comando directamente en un terminal.\n",
    "* **Windows**: Podéis abrir la terminal de conda (menú inicio / conda) y ahí pegar ese comando. Si os da problemas (ha habido cambios en algunos paquetes que generan incompatibilidades en Windows) lo podéis solucionar ejecutano en el prompt de anaconda:\n",
    "\n",
    "<pre class=\"code\">\n",
    "pip install pillow==4.0.0\n",
    "pip install scikit-image\n",
    "</pre>\n",
    "\n",
    "Después hay que resetear el kernel en el notebook Jupyter.\n",
    "\n",
    "Una vez instalado, podéis dibujar la matriz de confusión de la siguiente manera:"
   ]
  },
  {
   "cell_type": "code",
   "execution_count": 28,
   "metadata": {},
   "outputs": [
    {
     "data": {
      "text/plain": [
       "<matplotlib.axes._subplots.AxesSubplot at 0x112409940>"
      ]
     },
     "execution_count": 28,
     "metadata": {},
     "output_type": "execute_result"
    },
    {
     "data": {
      "image/png": "[encoded data removed]",
      "text/plain": [
       "<Figure size 432x288 with 2 Axes>"
      ]
     },
     "metadata": {},
     "output_type": "display_data"
    }
   ],
   "source": [
    "import scikitplot as skplt\n",
    "skplt.metrics.plot_confusion_matrix(y_test, y_predicted)"
   ]
  },
  {
   "cell_type": "markdown",
   "metadata": {},
   "source": [
    "Además, `scikit-plot` tiene un parámetro bastante interesante que es `normalize` que si lo ajustamos a `True` nos normaliza la matriz de confusión."
   ]
  },
  {
   "cell_type": "code",
   "execution_count": 29,
   "metadata": {},
   "outputs": [
    {
     "data": {
      "text/plain": [
       "<matplotlib.axes._subplots.AxesSubplot at 0x11247dc88>"
      ]
     },
     "execution_count": 29,
     "metadata": {},
     "output_type": "execute_result"
    },
    {
     "data": {
      "image/png": "[encoded data removed]",
      "text/plain": [
       "<Figure size 432x288 with 2 Axes>"
      ]
     },
     "metadata": {},
     "output_type": "display_data"
    }
   ],
   "source": [
    "skplt.metrics.plot_confusion_matrix(y_test, y_predicted, normalize=True)"
   ]
  },
  {
   "cell_type": "markdown",
   "metadata": {},
   "source": [
    "También es interesante pensar que significa cada celda de la matriz de confusión. De hecho cada celda tiene un nombre propio:\n",
    "\n",
    "```\n",
    "         |     | Sí                      | No                      | <- clasificado como (clase predicha)\n",
    "         |-----|-------------------------|-------------------------| \n",
    "clase    | Sí  | Verdadero Positivo (VP) | Falso Negativo (FN)     |\n",
    "real     | No  | Falso Positivo (FP)     | Verdadero Negativo (VN) |\n",
    "\n",
    "```"
   ]
  },
  {
   "cell_type": "markdown",
   "metadata": {},
   "source": [
    "Además de poder interpretar las medidas individuales de la matriz de confusión podemos obtener algunas medidas interesantes:\n",
    "\n",
    "#### Porcentaje de acierto\n",
    "\n",
    "El porcentaje de acierto nos dice cuantos elementos han sido bien clasificados.\n",
    "\n",
    "$${Porcentaje \\space de \\space acierto} = \\frac{VP + VN}{(VP + FN + FP + VN)}$$\n",
    "\n",
    "#### Precisión\n",
    "\n",
    "La precisión nos dice que porcentaje de acierto hay en los elementos positivos.\n",
    "\n",
    "$$Precisión = \\frac{VP}{(VP + FP)}$$\n",
    "\n",
    "#### Recall\n",
    "\n",
    "El recall nos dice cuantos elementos positivos han sido bien clasificados.\n",
    "\n",
    "$$Recall = \\frac{VP}{(VP + FN)}$$\n",
    "\n"
   ]
  },
  {
   "cell_type": "markdown",
   "metadata": {},
   "source": [
    "### Preguntas 3\n",
    "\n",
    "* ¿Qué ventaja nos aporta la matriz de confusión respecto al porcentaje de acierto?\n",
    "* ¿Se te ocurre alguna \"debilidad\" al porcentaje de acierto como criterio de clasificación?"
   ]
  }
 ],
 "metadata": {
  "anaconda-cloud": {},
  "kernelspec": {
   "display_name": "Python 3",
   "language": "python",
   "name": "python3"
  },
  "language_info": {
   "codemirror_mode": {
    "name": "ipython",
    "version": 3
   },
   "file_extension": ".py",
   "mimetype": "text/x-python",
   "name": "python",
   "nbconvert_exporter": "python",
   "pygments_lexer": "ipython3",
   "version": "3.7.4"
  }
 },
 "nbformat": 4,
 "nbformat_minor": 4
}

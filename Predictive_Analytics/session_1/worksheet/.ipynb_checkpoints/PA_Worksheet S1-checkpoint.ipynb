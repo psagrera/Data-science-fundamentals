{
 "cells": [
  {
   "cell_type": "markdown",
   "metadata": {},
   "source": [
    "<img src=\"mioti.png\" style=\"height: 100px\">\n",
    "<center style=\"color:#888\">Data Science in IoT<br/>Asignatura: Predictive Analytics</center>\n",
    "\n",
    "# Worksheet S1: Introducción a las series Temporales\n",
    "\n",
    "## Caso práctico: Análisis de los Alquileres de Bicicletas en Chicago\n"
   ]
  },
  {
   "cell_type": "markdown",
   "metadata": {},
   "source": [
    "## 0. Objetivo"
   ]
  },
  {
   "cell_type": "markdown",
   "metadata": {},
   "source": [
    "<img src=\"bicicletas_chicago.jpg\" style=\"float:right; height: 250px\"></img>\n",
    "Para comenzar a trabajar con las series temporales vamos a utilizar el siguiente caso práctico:\n",
    "\n",
    "La ciudad de Chicago cuenta con una red de alquileres de bicicletas y tiene un problema con su servicio, ya que más de un ** 20% ** de las estaciones se encuentra sin bicicletas cuando un usuario se acerca a alquilar una de ellas.\n",
    "\n",
    "Nuestro objetivo es explorar y entender la demanda de bicicletas, para conocer mejor el problema e intentar solucionarlo."
   ]
  },
  {
   "cell_type": "markdown",
   "metadata": {},
   "source": [
    "## 1. Preparar el contexto"
   ]
  },
  {
   "cell_type": "markdown",
   "metadata": {},
   "source": [
    "Como paso previo, cargamos las librerías que serán necesarias en nuestro estudio."
   ]
  },
  {
   "cell_type": "code",
   "execution_count": null,
   "metadata": {},
   "outputs": [],
   "source": [
    "import numpy as np\n",
    "import pandas as pd\n",
    "import matplotlib.pyplot as plt\n",
    "%matplotlib inline\n",
    "\n",
    "## Definimos las variables para determinar el tamaño de las gráficas\n",
    "fig_size = (18,6)\n",
    "fig_size_subplot = (14,7)"
   ]
  },
  {
   "cell_type": "markdown",
   "metadata": {},
   "source": [
    "## 2. Obtener los datos\n",
    "\n",
    "Esta vez va a ser fácil, vamos a importar los datos de un fichero csv, a través de la función **read_csv** que nos proporciona la librería de Pandas."
   ]
  },
  {
   "cell_type": "code",
   "execution_count": null,
   "metadata": {},
   "outputs": [],
   "source": [
    "data_path = 'hour_chicago.csv'\n",
    "df_datos = pd.read_csv(data_path)"
   ]
  },
  {
   "cell_type": "markdown",
   "metadata": {},
   "source": [
    "A continuación, comprobamos **qué hemos cargado**. Utilizando las funciones *info(), describe()* y *head()* podemos hacer un primer análisis de los datos cargados. Veamos que contiene nuestro dataset de partida:"
   ]
  },
  {
   "cell_type": "code",
   "execution_count": null,
   "metadata": {},
   "outputs": [],
   "source": [
    "df_datos.info()"
   ]
  },
  {
   "cell_type": "code",
   "execution_count": null,
   "metadata": {},
   "outputs": [],
   "source": [
    "df_datos.describe()"
   ]
  },
  {
   "cell_type": "code",
   "execution_count": null,
   "metadata": {},
   "outputs": [],
   "source": [
    "df_datos.head()"
   ]
  },
  {
   "cell_type": "markdown",
   "metadata": {},
   "source": [
    "Este dataset tiene información a nivel día y hora desde el 1 de Enero del 2011 y el 31 de Diciembre 2012, de varias variables:\n",
    "- número de bicicletas alquiladas ('cnt'), que a su vez está compuesto por la suma de los campos 'registered' y 'causal' (usuarios registrados y esporádicos).\n",
    "- temperatura, humedad y velocidad del viento."
   ]
  },
  {
   "cell_type": "markdown",
   "metadata": {},
   "source": [
    "**P: ¿Qué tipo de datos tenemos en nuestro dataset: cross-sectional, time series o panel data?**"
   ]
  },
  {
   "cell_type": "code",
   "execution_count": null,
   "metadata": {},
   "outputs": [],
   "source": []
  },
  {
   "cell_type": "code",
   "execution_count": null,
   "metadata": {},
   "outputs": [],
   "source": []
  },
  {
   "cell_type": "markdown",
   "metadata": {},
   "source": [
    "**P: ¿Qué necesitaríamos para que fuese cross-sectional, time series o panel data?**"
   ]
  },
  {
   "cell_type": "code",
   "execution_count": null,
   "metadata": {},
   "outputs": [],
   "source": []
  },
  {
   "cell_type": "code",
   "execution_count": null,
   "metadata": {},
   "outputs": [],
   "source": []
  },
  {
   "cell_type": "markdown",
   "metadata": {},
   "source": [
    "## 3. Pretratado de los datos"
   ]
  },
  {
   "cell_type": "markdown",
   "metadata": {},
   "source": [
    "Al trabajar con series temporales, no debemos olvidar que una de nuestras variables va a ser el **tiempo**. Por este motivo, es muy interesante tener un campo que sea de tipo **datetime**, ya que Pandas interpreta y ofrece múltiples herramientas que facilitan el trabajo con este tipo de datos."
   ]
  },
  {
   "cell_type": "markdown",
   "metadata": {},
   "source": [
    "**P: ¿Tenemos alguna variable en nuestro dataset que podamos utilizar como fecha?**"
   ]
  },
  {
   "cell_type": "code",
   "execution_count": null,
   "metadata": {},
   "outputs": [],
   "source": []
  },
  {
   "cell_type": "code",
   "execution_count": null,
   "metadata": {},
   "outputs": [],
   "source": []
  },
  {
   "cell_type": "markdown",
   "metadata": {},
   "source": [
    "Vemos que tenemos dos campos que nos pueden resultar de interés, por un lado, la *fecha* (que Pandas ha reconocido como tipo object) y la *hora* (como tipo integer). Para tener nuestra serie temporal por horas, vamos a concatenar ambos campos y a convertirlos a tipo datetime."
   ]
  },
  {
   "cell_type": "code",
   "execution_count": null,
   "metadata": {},
   "outputs": [],
   "source": [
    "df_datos['date_hr'] = (df_datos['date_str'].map(str) + ' ' + df_datos['hr'].map(str) + ':00:00')\n",
    "df_datos['date_hr'].tail()"
   ]
  },
  {
   "cell_type": "code",
   "execution_count": null,
   "metadata": {},
   "outputs": [],
   "source": [
    "df_datos['date'] = pd.to_datetime(df_datos['date_hr'], format='%Y-%m-%d %H:%M:%S')\n",
    "df_datos.head()"
   ]
  },
  {
   "cell_type": "code",
   "execution_count": null,
   "metadata": {},
   "outputs": [],
   "source": [
    "df_datos.info()"
   ]
  },
  {
   "cell_type": "markdown",
   "metadata": {},
   "source": [
    "Otra recomendación a tener en cuenta cuando trabajamos con series temporales, es **indexar** nuestro dataframe por nuestra variable **tiempo**."
   ]
  },
  {
   "cell_type": "code",
   "execution_count": null,
   "metadata": {},
   "outputs": [],
   "source": [
    "df_datos.index = df_datos['date']\n",
    "df_datos.head()"
   ]
  },
  {
   "cell_type": "markdown",
   "metadata": {},
   "source": [
    "**Selección de la serie temporal para el análisis**"
   ]
  },
  {
   "cell_type": "markdown",
   "metadata": {},
   "source": [
    "Vamos a quedarnos con una única serie temporal de las que disponemos en el dataset. Centraremos nuestro análisis en la variable *cnt*, que nos indicaba el número de alquileres de bicicletas (suma de usuarios registrados y esporádicos).\n",
    "\n",
    "Creamos un nuevo dataframe que sólo contenga las variables *tiempo* y *cnt*."
   ]
  },
  {
   "cell_type": "code",
   "execution_count": null,
   "metadata": {},
   "outputs": [],
   "source": [
    "df_TimeSeriesData = pd.DataFrame(df_datos['cnt'])\n",
    "df_TimeSeriesData.head()"
   ]
  },
  {
   "cell_type": "code",
   "execution_count": null,
   "metadata": {},
   "outputs": [],
   "source": [
    "## Visualizamos nuestra serie temporal\n",
    "df_TimeSeriesData.plot(figsize = fig_size,\\\n",
    "                       title = '¿Cómo evoluciona el alquiler de bicicletas (por horas)? \\n')\n",
    "\n",
    "## Hacemos un zoom sobre unos cuantos días para apreciar mejor el comportamiento\n",
    "df_TimeSeriesData[:(24*7)].plot(figsize = fig_size,\\\n",
    "                       title = '¿Cómo evoluciona el alquiler de bicicletas (por horas)? \\n')"
   ]
  },
  {
   "cell_type": "code",
   "execution_count": null,
   "metadata": {},
   "outputs": [],
   "source": [
    "## Agregamos la serie por días y volvemos a representarla\n",
    "df_TimeSeriesData_daily = df_TimeSeriesData.resample('d').sum()\n",
    "df_TimeSeriesData_daily.plot(figsize = fig_size,\\\n",
    "                             title = '¿Cómo evoluciona el alquiler de bicicletas (por días)? \\n')\n",
    "\n",
    "## Hacemos un zoom sobre los primeros 30 días del año para apreciar mejor el comportamiento\n",
    "df_TimeSeriesData_daily[:30].plot(figsize = fig_size,\\\n",
    "                       title = '¿Cómo evoluciona el alquiler de bicicletas (por días)? \\n')"
   ]
  },
  {
   "cell_type": "code",
   "execution_count": null,
   "metadata": {},
   "outputs": [],
   "source": [
    "## Agregamos la serie por meses y volvemos a representarla\n",
    "df_TimeSeriesData_monthly = df_TimeSeriesData.resample('m').sum()\n",
    "df_TimeSeriesData_monthly.plot(figsize = fig_size,\\\n",
    "                             title = '¿Cómo evoluciona el alquiler de bicicletas (por meses)? \\n')"
   ]
  },
  {
   "cell_type": "markdown",
   "metadata": {},
   "source": [
    "## 4. Componentes de una serie temporal"
   ]
  },
  {
   "cell_type": "markdown",
   "metadata": {},
   "source": [
    "**P: ¿Cuál es la componente principal de nuestra serie temporal?**"
   ]
  },
  {
   "cell_type": "code",
   "execution_count": null,
   "metadata": {},
   "outputs": [],
   "source": []
  },
  {
   "cell_type": "code",
   "execution_count": null,
   "metadata": {},
   "outputs": [],
   "source": []
  },
  {
   "cell_type": "markdown",
   "metadata": {},
   "source": [
    "**P: ¿Se puede analizar la estacionalidad de una serie? ¿y la tendencia? ¿Cómo?**"
   ]
  },
  {
   "cell_type": "code",
   "execution_count": null,
   "metadata": {},
   "outputs": [],
   "source": []
  },
  {
   "cell_type": "code",
   "execution_count": null,
   "metadata": {},
   "outputs": [],
   "source": []
  },
  {
   "cell_type": "markdown",
   "metadata": {},
   "source": [
    "Si podemos analizar las distintas componentes de una serie, podremos tratarlas por separado y medir los efectos que tienen sobre la serie completa. Por eso, es muy importante poder detectar y calcular cada una de estas componentes en el análisis de series temporales, pues nos ayudará a la hora de hacer nuestras previsiones."
   ]
  },
  {
   "cell_type": "markdown",
   "metadata": {
    "collapsed": true
   },
   "source": [
    "### ¿Cómo eliminar las componentes de estacionalidad de una serie?"
   ]
  },
  {
   "cell_type": "markdown",
   "metadata": {},
   "source": [
    "Para responder a esta pregunta vamos a partir de nuestra serie agregada por meses. En este caso, lo que tenemos es **estacionalidad mensual**."
   ]
  },
  {
   "cell_type": "code",
   "execution_count": null,
   "metadata": {},
   "outputs": [],
   "source": [
    "df_TimeSeriesData_monthly.head()"
   ]
  },
  {
   "cell_type": "markdown",
   "metadata": {},
   "source": [
    "Eliminar la estacionalidad se consigue fácilmente con el uso de **medias móviles**. Nuestra media móvil será a mes y con un periodo de 12 meses. En Pandas, es muy fácil si combinamos las funciones *rolling()* y *mean()*."
   ]
  },
  {
   "cell_type": "code",
   "execution_count": null,
   "metadata": {},
   "outputs": [],
   "source": [
    "df_monthly_moving_average = df_TimeSeriesData_monthly.rolling(12).mean()\n",
    "df_monthly_moving_average"
   ]
  },
  {
   "cell_type": "markdown",
   "metadata": {},
   "source": [
    "**P: ¿Es normal que aparezcan los primeros meses sin valor de media móvil?**"
   ]
  },
  {
   "cell_type": "code",
   "execution_count": null,
   "metadata": {},
   "outputs": [],
   "source": []
  },
  {
   "cell_type": "code",
   "execution_count": null,
   "metadata": {},
   "outputs": [],
   "source": []
  },
  {
   "cell_type": "markdown",
   "metadata": {},
   "source": [
    "Para responder a esta pregunta, vamos a representar nuestra serie temporal y el cálculo que acabamos de hacer de media móvil."
   ]
  },
  {
   "cell_type": "code",
   "execution_count": null,
   "metadata": {},
   "outputs": [],
   "source": [
    "plt.figure(figsize=fig_size)\n",
    "plt.plot(df_TimeSeriesData_monthly,color='b')\n",
    "plt.plot(df_monthly_moving_average,color='r')\n",
    "plt.title('¿Existe tendencia en el alquiler de bicicletas? \\n',fontsize= 20)\n",
    "plt.xlabel('Meses')\n",
    "plt.ylabel('N. bicicletas alquiladas')\n",
    "plt.legend(['Alquileres mes','Media móvil mensual'], loc=2)"
   ]
  },
  {
   "cell_type": "markdown",
   "metadata": {},
   "source": [
    "Si somos capaces de extraer la estacionalidad, podemos ver el efecto que tiene en la serie."
   ]
  },
  {
   "cell_type": "markdown",
   "metadata": {},
   "source": [
    "### Nuestro primer cálculo intuitivo de estacionalidad: utilización de medias móviles"
   ]
  },
  {
   "cell_type": "markdown",
   "metadata": {},
   "source": [
    "Vamos a profundizar un poco más en el cálculo de la estacionalidad a través del uso de las media móviles. Para ello vamos a calcular e incluir en nuestro dataframe los denominados **coeficientes de estacionalidad**, que nos aportan información sobre cómo afecta esta componente a la serie."
   ]
  },
  {
   "cell_type": "code",
   "execution_count": null,
   "metadata": {},
   "outputs": [],
   "source": [
    "## Incluimos el cálculo anterior en nuestro dataframe\n",
    "df_TimeSeriesData_monthly['cnt_media_movil_12']=df_TimeSeriesData_monthly.rolling(12).mean()"
   ]
  },
  {
   "cell_type": "code",
   "execution_count": null,
   "metadata": {},
   "outputs": [],
   "source": [
    "## Cálculo de los coeficientes de estacionalidad\n",
    "df_TimeSeriesData_monthly['coef_estacionalidad']=df_TimeSeriesData_monthly['cnt'] \\\n",
    "                                                /df_TimeSeriesData_monthly['cnt_media_movil_12']\n",
    "df_TimeSeriesData_monthly[-12:]"
   ]
  },
  {
   "cell_type": "markdown",
   "metadata": {},
   "source": [
    "**P: ¿Qué significa ese coeficiente de estacionalidad?**"
   ]
  },
  {
   "cell_type": "code",
   "execution_count": null,
   "metadata": {},
   "outputs": [],
   "source": []
  },
  {
   "cell_type": "code",
   "execution_count": null,
   "metadata": {},
   "outputs": [],
   "source": []
  },
  {
   "cell_type": "markdown",
   "metadata": {},
   "source": [
    "En este caso, nos indica el porcentaje que se alquila más o menos con respecto a un mes estándar.\n",
    "\n",
    "Para entender mejor cómo afecta la estacionalidad al número de alquileres de bicicletas, podemos convertir ese índice y representarlo."
   ]
  },
  {
   "cell_type": "code",
   "execution_count": null,
   "metadata": {},
   "outputs": [],
   "source": [
    "(df_TimeSeriesData_monthly['coef_estacionalidad'][-12:]-1).plot(kind='bar',color='green')\n",
    "plt.title('¿Cuál es el efecto de la estacionalidad en el alquiler de biciletas? \\n',fontsize= 20)\n",
    "plt.legend()"
   ]
  },
  {
   "cell_type": "markdown",
   "metadata": {
    "collapsed": true
   },
   "source": [
    "### ¿Cómo eliminar la componente de tendencia de una serie?"
   ]
  },
  {
   "cell_type": "markdown",
   "metadata": {},
   "source": [
    "Como ya hemos visto, además de componente estacionario, nuestra serie tiene también tendencia. "
   ]
  },
  {
   "cell_type": "code",
   "execution_count": null,
   "metadata": {},
   "outputs": [],
   "source": [
    "## Representamos la serie con y sin estacionalidad\n",
    "df_TimeSeriesData_monthly.iloc[:,:2].plot(subplots = True,\n",
    "                                          title = ['¿Cómo evoluciona el alquiler de bicicletas?',\\\n",
    "                                                   'Alquiler de bicicletas sin estacionalidad'],\n",
    "                                          figsize = fig_size_subplot)"
   ]
  },
  {
   "cell_type": "markdown",
   "metadata": {},
   "source": [
    "### Nuestro primer cálculo de tendencia"
   ]
  },
  {
   "cell_type": "markdown",
   "metadata": {},
   "source": [
    "Al igual que la estacionalidad, eliminar la **tendencia** es muy sencillo, simplemente debemos calcular la **diferencia con el dato anterior**."
   ]
  },
  {
   "cell_type": "code",
   "execution_count": null,
   "metadata": {},
   "outputs": [],
   "source": [
    "## Eliminamos la tendencia de la serie\n",
    "df_TimeSeriesData_monthly['cnt_mm12_shift'] = df_TimeSeriesData_monthly['cnt_media_movil_12'].shift(1)\n",
    "df_TimeSeriesData_monthly['cnt_mm12_sin_tendencia'] = df_TimeSeriesData_monthly['cnt_media_movil_12'] - \\\n",
    "                                                      df_TimeSeriesData_monthly['cnt_media_movil_12'].shift(1)\n",
    "df_TimeSeriesData_monthly.tail(13)"
   ]
  },
  {
   "cell_type": "code",
   "execution_count": null,
   "metadata": {},
   "outputs": [],
   "source": [
    "## Representamos la serie temporal, la serie sin estacionalidad y la serie sin tendencia \n",
    "df_TimeSeriesData_monthly.loc[:,['cnt','cnt_media_movil_12','cnt_mm12_sin_tendencia']].plot(subplots = True,\n",
    "                                          title = ['¿Cómo evoluciona el alquiler de bicicletas?',\\\n",
    "                                                   'Alquiler de bicicletas sin estacionalidad', \\\n",
    "                                                   'Alquiler de bicicletas sin estacionalidad y sin tendencia'],\n",
    "                                          figsize = fig_size_subplot)"
   ]
  },
  {
   "cell_type": "code",
   "execution_count": null,
   "metadata": {},
   "outputs": [],
   "source": []
  }
 ],
 "metadata": {
  "anaconda-cloud": {},
  "kernelspec": {
   "display_name": "Python 3",
   "language": "python",
   "name": "python3"
  },
  "language_info": {
   "codemirror_mode": {
    "name": "ipython",
    "version": 3
   },
   "file_extension": ".py",
   "mimetype": "text/x-python",
   "name": "python",
   "nbconvert_exporter": "python",
   "pygments_lexer": "ipython3",
   "version": "3.6.5"
  },
  "widgets": {
   "state": {},
   "version": "1.1.2"
  }
 },
 "nbformat": 4,
 "nbformat_minor": 2
}

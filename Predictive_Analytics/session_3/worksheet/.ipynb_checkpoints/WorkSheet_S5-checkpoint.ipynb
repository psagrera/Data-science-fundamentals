{
 "cells": [
  {
   "cell_type": "markdown",
   "metadata": {},
   "source": [
    "<img src=\"mioti.png\" style=\"height: 100px\">\n",
    "<center style=\"color:#888\">Data science fundamentals<br/>Asignatura Predictive Analytics</center>\n",
    "\n",
    "# Worksheet S3: Modelos ARIMA"
   ]
  },
  {
   "cell_type": "markdown",
   "metadata": {},
   "source": [
    "## Estacionariedad en las series temporales"
   ]
  },
  {
   "cell_type": "markdown",
   "metadata": {},
   "source": [
    "Tenemos un dataframe con el registro del índice de producción de una fábrica de caramelos"
   ]
  },
  {
   "cell_type": "code",
   "execution_count": null,
   "metadata": {
    "scrolled": true
   },
   "outputs": [],
   "source": [
    "import warnings\n",
    "warnings.filterwarnings('ignore')\n",
    "import matplotlib.pyplot as plt\n",
    "import pandas as pd\n",
    "candy = pd.read_csv('candy_production.csv', index_col='date', parse_dates=True)\n",
    "candy"
   ]
  },
  {
   "cell_type": "code",
   "execution_count": null,
   "metadata": {},
   "outputs": [],
   "source": [
    "fig, ax = plt.subplots()\n",
    "candy.plot(ax=ax) \n",
    "plt.show()"
   ]
  },
  {
   "cell_type": "markdown",
   "metadata": {},
   "source": [
    "**P: ¿ Qué componentes tiene esta serie temporal ?**"
   ]
  },
  {
   "cell_type": "code",
   "execution_count": null,
   "metadata": {},
   "outputs": [],
   "source": []
  },
  {
   "cell_type": "markdown",
   "metadata": {},
   "source": [
    "**P: ¿Estamos ante una serie temporal estacionaria ?**"
   ]
  },
  {
   "cell_type": "code",
   "execution_count": null,
   "metadata": {},
   "outputs": [],
   "source": []
  },
  {
   "cell_type": "markdown",
   "metadata": {},
   "source": [
    "### Augmented Dicky-Fuller test"
   ]
  },
  {
   "cell_type": "code",
   "execution_count": null,
   "metadata": {},
   "outputs": [],
   "source": [
    "# Importar la funcion del test de dickey fuller\n",
    "from statsmodels.tsa.stattools import adfuller\n",
    "# Realizamos el test sobre nuestra serie\n",
    "result = adfuller(candy['IPG3113N'])\n",
    "# Imprimimos el valor del test estadístico\n",
    "print(result[0])\n",
    "# Imprimimos el valor p\n",
    "print(result[1])"
   ]
  },
  {
   "cell_type": "markdown",
   "metadata": {},
   "source": [
    "El valor p  de, test no da por debajo de 0.05, con lo cual nuestra serie no es estacionaria"
   ]
  },
  {
   "cell_type": "markdown",
   "metadata": {},
   "source": [
    "**P: ¿ Podemos hacer algo al respecto ?**"
   ]
  },
  {
   "cell_type": "code",
   "execution_count": null,
   "metadata": {},
   "outputs": [],
   "source": []
  },
  {
   "cell_type": "code",
   "execution_count": null,
   "metadata": {},
   "outputs": [],
   "source": [
    "candy2 = candy.diff(1).dropna()"
   ]
  },
  {
   "cell_type": "code",
   "execution_count": null,
   "metadata": {},
   "outputs": [],
   "source": [
    "fig, ax = plt.subplots()\n",
    "candy2.plot(ax=ax) \n",
    "plt.show()"
   ]
  },
  {
   "cell_type": "code",
   "execution_count": null,
   "metadata": {},
   "outputs": [],
   "source": [
    "result = adfuller(candy2['IPG3113N'])\n",
    "# Imprimimos el valor del test estadístico\n",
    "print(result[0])\n",
    "# Imprimimos el valor p\n",
    "print(result[1])"
   ]
  },
  {
   "cell_type": "markdown",
   "metadata": {},
   "source": [
    "### Otro ejemplo"
   ]
  },
  {
   "cell_type": "markdown",
   "metadata": {},
   "source": [
    "Población de una ciudad a lo largo de los años"
   ]
  },
  {
   "cell_type": "code",
   "execution_count": null,
   "metadata": {},
   "outputs": [],
   "source": [
    "city = pd.read_csv('city_population.csv')\n",
    "city.index = pd.to_datetime(city.date,format='%Y-%m-%d')\n",
    "city=city.drop(columns=['date'])"
   ]
  },
  {
   "cell_type": "code",
   "execution_count": null,
   "metadata": {},
   "outputs": [],
   "source": [
    "fig, ax = plt.subplots()\n",
    "city.plot(ax=ax)\n",
    "plt.show()"
   ]
  },
  {
   "cell_type": "markdown",
   "metadata": {},
   "source": [
    "**P: ¿ Qué componentes tiene esta serie temporal ?**"
   ]
  },
  {
   "cell_type": "code",
   "execution_count": null,
   "metadata": {},
   "outputs": [],
   "source": []
  },
  {
   "cell_type": "markdown",
   "metadata": {},
   "source": [
    "**P: ¿Estamos ante una serie temporal estacionaria ?**"
   ]
  },
  {
   "cell_type": "code",
   "execution_count": null,
   "metadata": {},
   "outputs": [],
   "source": []
  },
  {
   "cell_type": "code",
   "execution_count": null,
   "metadata": {},
   "outputs": [],
   "source": [
    "result = adfuller(city['city_population'])\n",
    "print('ADF Test estadístico:', result[0])\n",
    "print('Valor p:', result[1])"
   ]
  },
  {
   "cell_type": "markdown",
   "metadata": {},
   "source": [
    "**P: ¿ Podemos hacer alguna transformación para cambiar la situación ?**"
   ]
  },
  {
   "cell_type": "code",
   "execution_count": null,
   "metadata": {},
   "outputs": [],
   "source": []
  },
  {
   "cell_type": "code",
   "execution_count": null,
   "metadata": {},
   "outputs": [],
   "source": [
    "city_stationary = city.diff(1).dropna()\n",
    "result = adfuller(city_stationary['city_population'])\n",
    "fig, ax = plt.subplots()\n",
    "city_stationary.plot(ax=ax)\n",
    "plt.show()\n",
    "print('ADF Test estadístico:', result[0])\n",
    "print('Valor p:', result[1])"
   ]
  },
  {
   "cell_type": "code",
   "execution_count": null,
   "metadata": {},
   "outputs": [],
   "source": [
    "city_stationary = city.diff().diff().dropna()\n",
    "result = adfuller(city_stationary['city_population'])\n",
    "fig, ax = plt.subplots()\n",
    "city_stationary.plot(ax=ax)\n",
    "plt.show()\n",
    "print('ADF Test estadístico:', result[0])\n",
    "print('Valor p:', result[1])"
   ]
  },
  {
   "cell_type": "markdown",
   "metadata": {},
   "source": [
    "### Otras transformaciones"
   ]
  },
  {
   "cell_type": "code",
   "execution_count": null,
   "metadata": {},
   "outputs": [],
   "source": [
    "import numpy as np\n",
    "amazon=pd.read_csv('amazon.csv')\n",
    "amazon.index = pd.to_datetime(amazon.date,format='%Y-%m-%d')\n",
    "amazon=amazon.drop(columns=['date'])\n",
    "fig, ax = plt.subplots()\n",
    "amazon.plot(ax=ax)\n",
    "plt.show()"
   ]
  },
  {
   "cell_type": "code",
   "execution_count": null,
   "metadata": {},
   "outputs": [],
   "source": [
    "# Calculamos la primera diferenciación y eliminamos los nans\n",
    "amazon_diff = amazon.diff().dropna()\n",
    "result_diff = adfuller(amazon_diff['close'])\n",
    "print(result_diff[0])\n",
    "print(result_diff[1])"
   ]
  },
  {
   "cell_type": "code",
   "execution_count": null,
   "metadata": {},
   "outputs": [],
   "source": [
    "fig, ax = plt.subplots()\n",
    "amazon_diff.plot(ax=ax)\n",
    "plt.show()"
   ]
  },
  {
   "cell_type": "code",
   "execution_count": null,
   "metadata": {},
   "outputs": [],
   "source": [
    "amazon_log = np.log(amazon/amazon.shift()).dropna()\n",
    "fig, ax = plt.subplots()\n",
    "amazon_log.plot(ax=ax)\n",
    "plt.show()"
   ]
  },
  {
   "cell_type": "code",
   "execution_count": null,
   "metadata": {},
   "outputs": [],
   "source": [
    "# Run test and print\n",
    "result_log = adfuller(amazon_log['close'])\n",
    "print(result_log[0])\n",
    "print(result_log[1])"
   ]
  },
  {
   "cell_type": "markdown",
   "metadata": {},
   "source": [
    "### Generando procesos ARMA"
   ]
  },
  {
   "cell_type": "code",
   "execution_count": null,
   "metadata": {},
   "outputs": [],
   "source": [
    "from statsmodels.tsa.arima_process import arma_generate_sample\n",
    "np.random.seed(1)\n",
    "\n",
    "ar_coefs = [1]\n",
    "ma_coefs = [1,0.5]\n",
    "\n",
    "ma1 = arma_generate_sample(ar_coefs, ma_coefs, nsample=100, sigma=0.5, )\n",
    "\n",
    "plt.plot(ma1)\n",
    "plt.ylabel(r'$y_t$')\n",
    "plt.xlabel(r'$t$')\n",
    "plt.show()"
   ]
  },
  {
   "cell_type": "code",
   "execution_count": null,
   "metadata": {},
   "outputs": [],
   "source": [
    "from statsmodels.tsa.arima_process import arma_generate_sample\n",
    "np.random.seed(2)\n",
    "\n",
    "\n",
    "ar_coefs = [1,-0.3,-0.5]\n",
    "ma_coefs = [1]\n",
    "\n",
    "\n",
    "ar2 = arma_generate_sample(ar_coefs, ma_coefs, nsample=100, sigma=0.5, )\n",
    "\n",
    "plt.plot(ar2)\n",
    "plt.ylabel(r'$y_t$')\n",
    "plt.xlabel(r'$t$')\n",
    "plt.show()"
   ]
  },
  {
   "cell_type": "code",
   "execution_count": null,
   "metadata": {},
   "outputs": [],
   "source": [
    "# Import data generation function and set random seed\n",
    "from statsmodels.tsa.arima_process import arma_generate_sample\n",
    "np.random.seed(3)\n",
    "\n",
    "# Set coefficients\n",
    "ar_coefs = [1,0.2]\n",
    "ma_coefs = [1,0.3,0.4]\n",
    "\n",
    "# Generate data\n",
    "arma = arma_generate_sample(ar_coefs, ma_coefs, nsample=100, sigma=0.5, )\n",
    "\n",
    "plt.plot(arma)\n",
    "plt.ylabel(r'$y_t$')\n",
    "plt.xlabel(r'$t$')\n",
    "plt.show()"
   ]
  },
  {
   "cell_type": "code",
   "execution_count": null,
   "metadata": {},
   "outputs": [],
   "source": [
    "from statsmodels.graphics.tsaplots import plot_acf, plot_pacf\n",
    "fig, (ax1, ax2) = plt.subplots(2,1, figsize=(12,8))\n",
    "plot_acf(arma, lags=15, zero=False, ax=ax1)\n",
    "plot_pacf(arma, lags=15, zero=False, ax=ax2)\n",
    "\n",
    "# Show plot\n",
    "plt.show()"
   ]
  },
  {
   "cell_type": "markdown",
   "metadata": {},
   "source": [
    "### Entrenando modelos ARMA"
   ]
  },
  {
   "cell_type": "code",
   "execution_count": null,
   "metadata": {},
   "outputs": [],
   "source": [
    "from statsmodels.tsa.arima_model import ARMA\n",
    "earthquake = pd.read_csv('earthquake.csv')"
   ]
  },
  {
   "cell_type": "code",
   "execution_count": null,
   "metadata": {},
   "outputs": [],
   "source": [
    "fig, ax = plt.subplots()\n",
    "earthquake.plot(ax=ax) \n",
    "plt.show()"
   ]
  },
  {
   "cell_type": "code",
   "execution_count": null,
   "metadata": {},
   "outputs": [],
   "source": [
    "# Instanciar el modelo\n",
    "model = ARMA(earthquake['earthquakes_per_year'], order=[3,1])\n",
    "# Entrenar el modelo\n",
    "results = model.fit()\n",
    "print(results.summary())"
   ]
  },
  {
   "cell_type": "markdown",
   "metadata": {},
   "source": [
    "### Proceso ARMAX"
   ]
  },
  {
   "cell_type": "markdown",
   "metadata": {},
   "source": [
    "Modelo ARMA con adición de alguna variable exógena para que modele nuestra serie temporal"
   ]
  },
  {
   "cell_type": "code",
   "execution_count": null,
   "metadata": {},
   "outputs": [],
   "source": [
    "hospital=pd.read_csv('hospital.csv')\n",
    "model = ARMA(hospital['wait_times_hrs'], order=[2,1],exog=hospital['nurse_count'])\n",
    "results = model.fit()\n",
    "print(results.summary())"
   ]
  },
  {
   "cell_type": "markdown",
   "metadata": {},
   "source": [
    "### Obteniendo predicciones "
   ]
  },
  {
   "cell_type": "code",
   "execution_count": null,
   "metadata": {},
   "outputs": [],
   "source": [
    "amazon=pd.read_csv('amazon.csv')\n",
    "amazon['date'] = pd.to_datetime(amazon.date,format='%Y-%m-%d')\n",
    "amazon=amazon.sort_values(by='date')\n",
    "amazon.index = amazon.date\n",
    "amazon=amazon.drop(columns=['date'])"
   ]
  },
  {
   "cell_type": "code",
   "execution_count": null,
   "metadata": {},
   "outputs": [],
   "source": [
    "amazon.head(10)"
   ]
  },
  {
   "cell_type": "code",
   "execution_count": null,
   "metadata": {},
   "outputs": [],
   "source": [
    "fig, ax = plt.subplots()\n",
    "amazon.plot(ax=ax) \n",
    "plt.show()"
   ]
  },
  {
   "cell_type": "code",
   "execution_count": null,
   "metadata": {},
   "outputs": [],
   "source": [
    "from statsmodels.tsa.statespace.sarimax import SARIMAX \n",
    "model = SARIMAX(amazon, order=(2,0,3), trend='c') \n",
    "results = model.fit()\n",
    "print(results.summary())"
   ]
  },
  {
   "cell_type": "code",
   "execution_count": null,
   "metadata": {},
   "outputs": [],
   "source": [
    "one_step_forecast = results.get_prediction(start=-30)\n",
    "mean_forecast = one_step_forecast.predicted_mean \n",
    "confidence_intervals = one_step_forecast.conf_int()\n",
    "lower_limits = confidence_intervals.loc[:,'lower close']\n",
    "upper_limits = confidence_intervals.loc[:,'upper close']"
   ]
  },
  {
   "cell_type": "code",
   "execution_count": null,
   "metadata": {},
   "outputs": [],
   "source": [
    "plt.figure(figsize=(16,8))\n",
    "plt.plot(amazon.index, amazon, label='observed')\n",
    "plt.plot(mean_forecast.index, mean_forecast, color='r', label='forecast')\n",
    "plt.fill_between(lower_limits.index, lower_limits, \n",
    "               upper_limits, color='pink')\n",
    "plt.xlabel('Date')\n",
    "plt.ylabel('Amazon Stock Price - Close USD')\n",
    "plt.legend()\n",
    "plt.show()"
   ]
  },
  {
   "cell_type": "code",
   "execution_count": null,
   "metadata": {
    "scrolled": false
   },
   "outputs": [],
   "source": [
    "arima = SARIMAX(amazon, order=(2,1,2))\n",
    "arima_results = arima.fit()\n",
    "arima_value_forecast = arima_results.get_forecast(steps=10).predicted_mean\n",
    "print(arima_value_forecast)"
   ]
  },
  {
   "cell_type": "markdown",
   "metadata": {},
   "source": [
    "### ¿ MA, AR o  ARMA ? ¿ Cómo ver a qué tipo de modelo se ajusta un dato ?"
   ]
  },
  {
   "cell_type": "code",
   "execution_count": null,
   "metadata": {},
   "outputs": [],
   "source": [
    "df = pd.read_csv('df_1.csv', index_col='date', parse_dates=True)\n",
    "fig, (ax1, ax2) = plt.subplots(2,1, figsize=(12,8))\n",
    "plot_acf(df, lags=10, zero=False, ax=ax1)\n",
    "plot_pacf(df, lags=10, zero=False, ax=ax2)\n",
    "plt.show()"
   ]
  },
  {
   "cell_type": "markdown",
   "metadata": {},
   "source": [
    "**P: ¿ Qué tipo de modelo se ajustaría mejor ?**"
   ]
  },
  {
   "cell_type": "code",
   "execution_count": null,
   "metadata": {},
   "outputs": [],
   "source": []
  },
  {
   "cell_type": "code",
   "execution_count": null,
   "metadata": {},
   "outputs": [],
   "source": [
    "earthquake = pd.read_csv('earthquake.csv', index_col='date', parse_dates=True)\n",
    "fig, (ax1, ax2) = plt.subplots(2,1, figsize=(12,8))\n",
    "plot_acf(earthquake, lags=15, zero=False, ax=ax1)\n",
    "plot_pacf(earthquake, lags=15, zero=False, ax=ax2)\n",
    "plt.show()"
   ]
  },
  {
   "cell_type": "markdown",
   "metadata": {},
   "source": [
    "**P: ¿ Qué tipo de modelo se ajustaría mejor ?**"
   ]
  },
  {
   "cell_type": "code",
   "execution_count": null,
   "metadata": {},
   "outputs": [],
   "source": []
  },
  {
   "cell_type": "markdown",
   "metadata": {},
   "source": [
    "### Buscar los parámetros que mejor se ajusten usando los criterios de información"
   ]
  },
  {
   "cell_type": "code",
   "execution_count": null,
   "metadata": {},
   "outputs": [],
   "source": [
    "order_aic_bic=[]\n",
    "for p in range(3):\n",
    "    for q in range(3):\n",
    "        model = SARIMAX(df, order=(p,0,q))\n",
    "        results = model.fit()\n",
    "        order_aic_bic.append((p,q,results.aic, results.bic))"
   ]
  },
  {
   "cell_type": "code",
   "execution_count": null,
   "metadata": {},
   "outputs": [],
   "source": [
    "print(order_aic_bic)"
   ]
  },
  {
   "cell_type": "markdown",
   "metadata": {},
   "source": [
    "## Eligiendo el orden usando criterios AIC y BIC\n",
    "\n",
    "\n",
    "Ahora que hemos creado muchos modelos, vamos evaluar los resultados para ver qué combinación es mejor para nuestra serie temporal."
   ]
  },
  {
   "cell_type": "code",
   "execution_count": null,
   "metadata": {},
   "outputs": [],
   "source": [
    "order_df = pd.DataFrame(order_aic_bic,columns=['p', 'q', 'AIC', 'BIC'])\n",
    "print(order_df.sort_values('AIC'))\n",
    "print(order_df.sort_values('BIC'))"
   ]
  },
  {
   "cell_type": "markdown",
   "metadata": {},
   "source": [
    "Ambos criterios coinciden en el modelo ARMA(1,2) pero no siempre será el caso"
   ]
  },
  {
   "cell_type": "markdown",
   "metadata": {},
   "source": [
    "### Criterio AIC/BIC vs ACF/PACF"
   ]
  },
  {
   "cell_type": "markdown",
   "metadata": {},
   "source": [
    "Vamos a aplicar ahora los criterios de información para buscar los paramétros óptimos para nuestro modelo ARMA, antes observando las funciones de autocorrelación y autocorrelación forzada determinamos que era AR(1)\n",
    "\n",
    "Vamos a ver que pasa cuando hacemos la búsqueda de los parámetros basada en los criterios de información.\n"
   ]
  },
  {
   "cell_type": "code",
   "execution_count": null,
   "metadata": {},
   "outputs": [],
   "source": [
    "for p in range(3):\n",
    "    for q in range(3):      \n",
    "        try:\n",
    "            model = SARIMAX(earthquake,order=(p,0,q))\n",
    "            results = model.fit()\n",
    "            print(p, q, results.aic, results.bic)            \n",
    "        except:\n",
    "            print(p, q, None, None)"
   ]
  },
  {
   "cell_type": "markdown",
   "metadata": {},
   "source": [
    "Si vemos los resultados que hemos imprimido por pantalla vemos que nos indica un modelo ARMA(1,1), no era lo que esperabamos ver inicialmente después de observar la ACF y la PACF, pero vamos que los valores de los lags 2 y 3 están muy cerca de ser significativos."
   ]
  },
  {
   "cell_type": "markdown",
   "metadata": {},
   "source": [
    "### Diagnóstico sobre el resumen de las estadísticas"
   ]
  },
  {
   "cell_type": "markdown",
   "metadata": {},
   "source": [
    "Los residuos no están correlados si el valor p es menor que 0.05\n",
    "\n",
    "Para ver si están correlados y distribuidos de forma normal Prob(Q) debe ser menor de 0.05"
   ]
  },
  {
   "cell_type": "code",
   "execution_count": null,
   "metadata": {},
   "outputs": [],
   "source": [
    "model1 = SARIMAX(df, order=(1,1,1))\n",
    "results1 = model1.fit()\n",
    "print(results1.summary())"
   ]
  },
  {
   "cell_type": "code",
   "execution_count": null,
   "metadata": {},
   "outputs": [],
   "source": [
    "results1.plot_diagnostics(figsize=(12, 10)) \n",
    "plt.show()"
   ]
  },
  {
   "cell_type": "markdown",
   "metadata": {},
   "source": [
    "**P: ¿ Podríamos mejorar algo ?**"
   ]
  },
  {
   "cell_type": "code",
   "execution_count": null,
   "metadata": {},
   "outputs": [],
   "source": []
  },
  {
   "cell_type": "code",
   "execution_count": null,
   "metadata": {},
   "outputs": [],
   "source": [
    "model2 = SARIMAX(df, order=(3,0,1))\n",
    "results2=model2.fit()\n",
    "print(results2.summary())"
   ]
  },
  {
   "cell_type": "code",
   "execution_count": null,
   "metadata": {},
   "outputs": [],
   "source": [
    "results2.plot_diagnostics(figsize=(12, 10)) \n",
    "plt.show()"
   ]
  },
  {
   "cell_type": "code",
   "execution_count": null,
   "metadata": {},
   "outputs": [],
   "source": [
    "model = SARIMAX(df, order=(2,1,2))\n",
    "results=model.fit()\n",
    "results.plot_diagnostics(figsize=(12, 10)) \n",
    "plt.show()"
   ]
  },
  {
   "cell_type": "markdown",
   "metadata": {},
   "source": [
    "# Box Jenkings"
   ]
  },
  {
   "cell_type": "markdown",
   "metadata": {},
   "source": [
    "Vamos a cargar un dataframe con los ahorros de los ciudadanos estadounidenses en miles de dólares para llevar a cabo nuestra metodología de Box Jenkings"
   ]
  },
  {
   "cell_type": "code",
   "execution_count": null,
   "metadata": {},
   "outputs": [],
   "source": [
    "savings = pd.read_csv('savings.csv', index_col='date', parse_dates=True)\n",
    "savings.plot()\n",
    "plt.show()"
   ]
  },
  {
   "cell_type": "markdown",
   "metadata": {},
   "source": [
    "### Identificación"
   ]
  },
  {
   "cell_type": "markdown",
   "metadata": {},
   "source": [
    "**P: ¿Estamos ante una serie temporal estacionaria ?**"
   ]
  },
  {
   "cell_type": "code",
   "execution_count": null,
   "metadata": {},
   "outputs": [],
   "source": []
  },
  {
   "cell_type": "code",
   "execution_count": null,
   "metadata": {},
   "outputs": [],
   "source": [
    "result = adfuller(savings['savings'])\n",
    "print(result[0])\n",
    "print(result[1])"
   ]
  },
  {
   "cell_type": "markdown",
   "metadata": {},
   "source": [
    "**P: ¿ Qué tipo de modelo es mi serie ?**"
   ]
  },
  {
   "cell_type": "code",
   "execution_count": null,
   "metadata": {},
   "outputs": [],
   "source": []
  },
  {
   "cell_type": "code",
   "execution_count": null,
   "metadata": {},
   "outputs": [],
   "source": [
    "fig, (ax1, ax2) = plt.subplots(2,1, figsize=(12,8))\n",
    "plot_acf(savings, lags=10, zero=False, ax=ax1)\n",
    "plot_pacf(savings, lags=10, zero=False, ax=ax2)\n",
    "plt.show()"
   ]
  },
  {
   "cell_type": "markdown",
   "metadata": {},
   "source": [
    "Podría tratarse de un modelo ARMA o AR "
   ]
  },
  {
   "cell_type": "markdown",
   "metadata": {},
   "source": [
    "### Estimación"
   ]
  },
  {
   "cell_type": "code",
   "execution_count": null,
   "metadata": {},
   "outputs": [],
   "source": [
    "for p in range(4):\n",
    "    for q in range(4):\n",
    "      try:\n",
    "        model = SARIMAX(savings, order=(p,0,q), trend='c')\n",
    "        results = model.fit()\n",
    "        print(p,q,results.aic,results.bic)        \n",
    "      except:\n",
    "        print(p, q, None, None)"
   ]
  },
  {
   "cell_type": "markdown",
   "metadata": {},
   "source": [
    "AR(3) o ARMA(2,2)"
   ]
  },
  {
   "cell_type": "markdown",
   "metadata": {},
   "source": [
    "### Diagnóstico"
   ]
  },
  {
   "cell_type": "code",
   "execution_count": null,
   "metadata": {},
   "outputs": [],
   "source": [
    "model = SARIMAX(savings, order=(2,0,2), trend='c')\n",
    "results = model.fit()\n",
    "results.plot_diagnostics(figsize=(12, 10)) \n",
    "plt.show()\n",
    "print(results.summary())"
   ]
  },
  {
   "cell_type": "markdown",
   "metadata": {},
   "source": [
    "# Trabajando con series con estacionalidad"
   ]
  },
  {
   "cell_type": "markdown",
   "metadata": {},
   "source": [
    "Usando un modelo de tipo SARIMA además de hacer el modelo regresivo al que estabamos acostumbrados podemos modelar tambien los efectos de la estacionalidad modelizando mediante coeficientes de igual forma que para el modelo ARIMA añadiendo también una supuesta periodicidad de esta estacionalidad de datos."
   ]
  },
  {
   "cell_type": "code",
   "execution_count": null,
   "metadata": {},
   "outputs": [],
   "source": [
    "timeseries = pd.read_csv('IPG2211A2N.csv', index_col='DATE', parse_dates=True)"
   ]
  },
  {
   "cell_type": "code",
   "execution_count": null,
   "metadata": {},
   "outputs": [],
   "source": [
    "timeseries.head()"
   ]
  },
  {
   "cell_type": "code",
   "execution_count": null,
   "metadata": {},
   "outputs": [],
   "source": [
    "timeseries = timeseries.asfreq('M', method='pad', how='start')\n",
    "timeseries = timeseries['2008-01-01':]\n",
    "timeseries.plot(title='Industrial Production Index 2008-2018');"
   ]
  },
  {
   "cell_type": "code",
   "execution_count": null,
   "metadata": {},
   "outputs": [],
   "source": [
    "timeseries.head()"
   ]
  },
  {
   "cell_type": "code",
   "execution_count": null,
   "metadata": {},
   "outputs": [],
   "source": [
    "test_result = adfuller(timeseries['IPG2211A2N'])\n",
    "dfoutput = pd.Series(test_result[0:2], index=['Test Statistic','p-value'])\n",
    "print(dfoutput)\n",
    "if dfoutput[1] <= 0.05:\n",
    "    print('La serie temporal es estacionaria')\n",
    "else:\n",
    "    print(\"La serie temporal no es estacionaria\")"
   ]
  },
  {
   "cell_type": "code",
   "execution_count": null,
   "metadata": {},
   "outputs": [],
   "source": [
    "timeseries_diff = timeseries.diff()\n",
    "timeseries_diff.dropna(inplace=True)\n",
    "timeseries_diff.head(10)"
   ]
  },
  {
   "cell_type": "code",
   "execution_count": null,
   "metadata": {},
   "outputs": [],
   "source": [
    "test_result = adfuller(timeseries_diff['IPG2211A2N'])\n",
    "dfoutput = pd.Series(test_result[0:2], index=['Test Statistic','p-value'])\n",
    "print(dfoutput)\n",
    "if dfoutput[1] <= 0.05:\n",
    "    print('La serie temporal es estacionaria')\n",
    "else:\n",
    "    print(\"La serie temporal no es estacionaria\")"
   ]
  },
  {
   "cell_type": "code",
   "execution_count": null,
   "metadata": {},
   "outputs": [],
   "source": [
    "aic_list = []\n",
    "p_range = d_range = q_range = range(0, 3)\n",
    "for p in p_range:\n",
    "    for d in d_range:\n",
    "        for q in q_range:\n",
    "            for P in p_range:\n",
    "                for D in d_range:\n",
    "                    for Q in q_range:\n",
    "                        model = SARIMAX(timeseries,\n",
    "                                        enforce_stationarity=False,\n",
    "                                        enforce_invertibility=False,\n",
    "                                        seasonal_order=(P,D,Q,12),\n",
    "                                        order=(p, d, q),\n",
    "                                        freq='M')\n",
    "                        # fit the model\n",
    "                        ret = model.fit()\n",
    "                        \n",
    "                        # store the result of this model\n",
    "                        aic_list.append((ret.aic, p, d, q, P, D, Q))"
   ]
  },
  {
   "cell_type": "code",
   "execution_count": null,
   "metadata": {},
   "outputs": [],
   "source": [
    "sorted_list = sorted(aic_list, key=lambda x: x[0])"
   ]
  },
  {
   "cell_type": "code",
   "execution_count": null,
   "metadata": {},
   "outputs": [],
   "source": [
    "sorted_list[0]"
   ]
  },
  {
   "cell_type": "code",
   "execution_count": null,
   "metadata": {},
   "outputs": [],
   "source": [
    "training_data = timeseries\n",
    "model = SARIMAX(training_data,\n",
    "                enforce_stationarity=False,\n",
    "                enforce_invertibility=False,\n",
    "                seasonal_order=(0,2,2,12),\n",
    "                order=(0, 1, 2),\n",
    "                freq='M')\n",
    "ret = model.fit()\n",
    "print(ret.summary())"
   ]
  },
  {
   "cell_type": "code",
   "execution_count": null,
   "metadata": {},
   "outputs": [],
   "source": [
    "plt.figure(figsize=(16,8))\n",
    "plt.plot(timeseries['2012':], color='black', label='Original Data', linewidth=1)\n",
    "plt.plot(ret.fittedvalues['2012':], color='red', label='Fitted Data', linewidth=1)\n",
    "plt.legend()\n",
    "plt.title('Fitted Data vs Original');\n"
   ]
  },
  {
   "cell_type": "code",
   "execution_count": null,
   "metadata": {},
   "outputs": [],
   "source": [
    "ret.plot_diagnostics(figsize=(12, 10))"
   ]
  },
  {
   "cell_type": "code",
   "execution_count": null,
   "metadata": {
    "scrolled": true
   },
   "outputs": [],
   "source": [
    "plt.figure(figsize=(16,8))\n",
    "prediction = ret.get_prediction(start='2012-12-31',\n",
    "                                end='2022-12-31')\n",
    "fig = training_data.plot();\n",
    "prediction.predicted_mean.plot(ax=fig)\n",
    "\n",
    "prediction_confidence_interval = prediction.conf_int()\n",
    "fig.fill_between(prediction_confidence_interval.index,\n",
    "                 prediction_confidence_interval.iloc[:,0],\n",
    "                 prediction_confidence_interval.iloc[:,1], alpha=0.5);"
   ]
  },
  {
   "cell_type": "code",
   "execution_count": null,
   "metadata": {},
   "outputs": [],
   "source": []
  }
 ],
 "metadata": {
  "kernelspec": {
   "display_name": "Python 3",
   "language": "python",
   "name": "python3"
  },
  "language_info": {
   "codemirror_mode": {
    "name": "ipython",
    "version": 3
   },
   "file_extension": ".py",
   "mimetype": "text/x-python",
   "name": "python",
   "nbconvert_exporter": "python",
   "pygments_lexer": "ipython3",
   "version": "3.6.5"
  }
 },
 "nbformat": 4,
 "nbformat_minor": 2
}

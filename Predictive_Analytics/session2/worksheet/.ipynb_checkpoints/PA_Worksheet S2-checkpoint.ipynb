{
 "cells": [
  {
   "cell_type": "markdown",
   "metadata": {},
   "source": [
    "<img src=\"mioti.png\" style=\"height: 100px\">\n",
    "<center style=\"color:#888\">Data science fundamentals <br/>Predictive Analytics</center>\n",
    "\n",
    "# Worksheet S2: Introducción a los Modelos de Previsión en Series Temporales\n",
    "\n",
    "## Caso práctico: Predicción de los Alquileres de Bicicletas en Chicago"
   ]
  },
  {
   "cell_type": "markdown",
   "metadata": {},
   "source": [
    "## 0. Objetivo\n",
    "\n",
    "El objetivo de este worksheet es experimentar sobre modelos sencillos de **previsión de Series Temporales** para familiarizarnos con los principales conceptos de la modelización y previsión de variables. Para ello, vamos a seguir utilizando el caso práctico de los alquileres de bicicletas en Chicago."
   ]
  },
  {
   "cell_type": "markdown",
   "metadata": {},
   "source": [
    "<img src=\"bicicletas_chicago.jpg\" style=\"float:right; height: 250px\"></img>\n",
    "Recordemos: la ciudad de Chicago cuenta con una red de alquileres de bicicletas y tiene un problema con su servicio, ya que más de un ** 20% ** de las estaciones se encuentra sin bicicletas cuando un usuario se acerca a alquilar una de ellas. Por este motivo, necesitan cambiar la forma de gestionar las estaciones de bicicletas. \n",
    "\n",
    "Para ello, vamos a realizar unas previsiones a largo y medio plazo para intentar **reducir la incertidumbre** a la hora de saber cuántas bicicletas se necesitan en cada momento.\n",
    "\n",
    "Nuestro objetivo es realizar una **previsión** sobre cuál va a ser el alquiler de bicicletas en los **dos próximos años**."
   ]
  },
  {
   "cell_type": "markdown",
   "metadata": {},
   "source": [
    "## 1. Preparar el contexto"
   ]
  },
  {
   "cell_type": "markdown",
   "metadata": {},
   "source": [
    "Como paso previo, cargamos las librerías que serán necesarias en nuestro estudio."
   ]
  },
  {
   "cell_type": "code",
   "execution_count": null,
   "metadata": {},
   "outputs": [],
   "source": [
    "import numpy as np\n",
    "import pandas as pd\n",
    "import matplotlib.pyplot as plt\n",
    "%matplotlib inline"
   ]
  },
  {
   "cell_type": "markdown",
   "metadata": {},
   "source": [
    "## 2. Obtener los datos\n",
    "\n",
    "Como en otras ocasiones, vamos a importar los datos de un fichero csv, a través de la función **read_csv** que nos proporciona la librería de Pandas."
   ]
  },
  {
   "cell_type": "code",
   "execution_count": null,
   "metadata": {},
   "outputs": [],
   "source": [
    "data_path = 'year_chicago.csv'\n",
    "df_datos = pd.read_csv(data_path)"
   ]
  },
  {
   "cell_type": "markdown",
   "metadata": {},
   "source": [
    "A continuación, comprobamos **qué hemos cargado**. Utilizando las funciones *info(), describe()* y *head()* podemos hacer un primer análisis de los datos cargados. Veamos que contiene nuestro dataset de partida:"
   ]
  },
  {
   "cell_type": "code",
   "execution_count": null,
   "metadata": {},
   "outputs": [],
   "source": [
    "df_datos.info()"
   ]
  },
  {
   "cell_type": "code",
   "execution_count": null,
   "metadata": {},
   "outputs": [],
   "source": [
    "df_datos.describe()"
   ]
  },
  {
   "cell_type": "code",
   "execution_count": null,
   "metadata": {},
   "outputs": [],
   "source": [
    "df_datos"
   ]
  },
  {
   "cell_type": "markdown",
   "metadata": {},
   "source": [
    "Este dataset contiene el **histórico de alquileres de los últimos 7 años a nivel año**, para la variable *cnt*, que era el número de bicicletas alquiladas, que a su vez está compuesto por la suma de los campos 'registered' y 'causal' (usuarios registrados y esporádicos)."
   ]
  },
  {
   "cell_type": "markdown",
   "metadata": {},
   "source": [
    "## 3. Pretratado de los datos"
   ]
  },
  {
   "cell_type": "markdown",
   "metadata": {},
   "source": [
    "Como vimos en la sesión anterior, al trabajar con series temporales, no debemos olvidar que una de nuestras variables va a ser el **tiempo**. Por este motivo, es muy interesante tener un campo que sea de tipo **datetime**, ya que Pandas interpreta y ofrece múltiples herramientas que facilitan el trabajo con este tipo de datos."
   ]
  },
  {
   "cell_type": "code",
   "execution_count": null,
   "metadata": {},
   "outputs": [],
   "source": [
    "df_datos['date'] = pd.to_datetime(df_datos['date'], format='%Y-%m-%d')\n",
    "## Creamos un dataframe cuyo índice sea el campo fecha y que contenga nuestra variable cnt\n",
    "df_alquileres = pd.DataFrame(df_datos['cnt'].tolist(),\n",
    "                             index = df_datos['date'].tolist(),\n",
    "                             columns = ['cnt'])\n",
    "df_alquileres"
   ]
  },
  {
   "cell_type": "markdown",
   "metadata": {},
   "source": [
    "Nuestro objetivo es realizar una **previsión** sobre el alquiler de bicicletas para los próximos **dos años**. Para ello, vamos a incluir en nuestro dataframe dos nuevos registros (ahora mismo vacíos) para los años en los que queremos hacer la previsión.\n",
    "\n",
    "- Nuestro dataframe será: histórico de alquileres anuales + 2 años para nuestras previsiones"
   ]
  },
  {
   "cell_type": "code",
   "execution_count": null,
   "metadata": {},
   "outputs": [],
   "source": [
    "## Necesitamos incluir dos periodos más a nuestro dataframe, con la función date_range es muy fácil.\n",
    "## Como es predicción anual, nuestra frecuencia será anual.\n",
    "periodos = pd.date_range('2018-12-31', periods = 2, freq = 'A')\n",
    "periodos"
   ]
  },
  {
   "cell_type": "code",
   "execution_count": null,
   "metadata": {},
   "outputs": [],
   "source": [
    "## Creamos un dataframe con nuestras fechas a predecir\n",
    "df_prediccion = pd.DataFrame({'cnt':[np.nan,np.nan]},\n",
    "                             index = periodos)\n",
    "df_prediccion"
   ]
  },
  {
   "cell_type": "code",
   "execution_count": null,
   "metadata": {},
   "outputs": [],
   "source": [
    "## Unimos el dataframe del histórico y el de la predicción\n",
    "df_alquileres = pd.concat([df_alquileres, df_prediccion], ignore_index = False)"
   ]
  },
  {
   "cell_type": "code",
   "execution_count": null,
   "metadata": {},
   "outputs": [],
   "source": [
    "## Modificamos el formato de muestra del dataframe para que sea más fácil leerlo\n",
    "pd.options.display.float_format = '{:,.1f}'.format\n",
    "df_alquileres"
   ]
  },
  {
   "cell_type": "markdown",
   "metadata": {},
   "source": [
    "**P: ¿Qué componentes de una serie temporal tiene el alquiler de bicicletas anual?**"
   ]
  },
  {
   "cell_type": "code",
   "execution_count": null,
   "metadata": {},
   "outputs": [],
   "source": []
  },
  {
   "cell_type": "code",
   "execution_count": null,
   "metadata": {},
   "outputs": [],
   "source": []
  },
  {
   "cell_type": "markdown",
   "metadata": {},
   "source": [
    "Para responder a esta pregunta, vamos a representar la serie temporal:"
   ]
  },
  {
   "cell_type": "code",
   "execution_count": null,
   "metadata": {},
   "outputs": [],
   "source": [
    "df_alquileres.plot(figsize=(10,5),\n",
    "                  title='¿Cómo evoluciona el número de alquileres de bicicletas por año? \\n')"
   ]
  },
  {
   "cell_type": "markdown",
   "metadata": {},
   "source": [
    "Al tener la serie temporal agregada por años, no tenemos ningún tipo de estacionalidad, pero sí tenemos **tendencia**."
   ]
  },
  {
   "cell_type": "markdown",
   "metadata": {},
   "source": [
    "## 4. Primeras previsiones"
   ]
  },
  {
   "cell_type": "markdown",
   "metadata": {},
   "source": [
    "Nuestro objetivo es realizar la previsión de los alquileres de bicicletas para los próximos dos años: 2018 y 2019."
   ]
  },
  {
   "cell_type": "markdown",
   "metadata": {},
   "source": [
    "**P: ¿Cuál es el modelo de previsión más sencillo que se os ocurre?**"
   ]
  },
  {
   "cell_type": "code",
   "execution_count": null,
   "metadata": {},
   "outputs": [],
   "source": []
  },
  {
   "cell_type": "code",
   "execution_count": null,
   "metadata": {},
   "outputs": [],
   "source": []
  },
  {
   "cell_type": "markdown",
   "metadata": {},
   "source": [
    "### 4.1.- Modelo 1\n",
    "\n",
    "Vamos a comenzar con un modelo sencillo, simplemente tomaremos como previsión los alquileres del último año.\n",
    "\n",
    "#### *Mi previsión de alquileres = Alquileres último año*"
   ]
  },
  {
   "cell_type": "code",
   "execution_count": null,
   "metadata": {},
   "outputs": [],
   "source": [
    "## Creamos un campo para nuestra previsión y lo rellenamos con Nan\n",
    "df_alquileres['prevision_M1']=np.nan\n",
    "## Igualamos los dos últimos años en los que vamos a hacer la previsión al valor del último año de histórico\n",
    "df_alquileres['prevision_M1'][-3:]=df_alquileres['cnt'][-3]\n",
    "df_alquileres"
   ]
  },
  {
   "cell_type": "code",
   "execution_count": null,
   "metadata": {},
   "outputs": [],
   "source": [
    "## Representamos nuestra previsión\n",
    "df_alquileres.plot(figsize=(10,5),\n",
    "                  title='¿Cuál es nuestra previsión? \\n')"
   ]
  },
  {
   "cell_type": "markdown",
   "metadata": {},
   "source": [
    "**P: ¿Qué le pasa a mi previsión? ¿Se os ocurre cómo mejorarla?**"
   ]
  },
  {
   "cell_type": "code",
   "execution_count": null,
   "metadata": {},
   "outputs": [],
   "source": []
  },
  {
   "cell_type": "code",
   "execution_count": null,
   "metadata": {},
   "outputs": [],
   "source": []
  },
  {
   "cell_type": "markdown",
   "metadata": {},
   "source": [
    "Como esperábamos nuestra previsión deja mucho que desear, pues no hemos tenido en cuenta que nuestra serie temporal tiene tendencia.\n",
    "\n",
    "Probemos a incorporar la variación del último año a la previsión del modelo 1."
   ]
  },
  {
   "cell_type": "markdown",
   "metadata": {},
   "source": [
    "### 4.2.- Modelo 2\n",
    "\n",
    "Vamos a intentar mejorar nuestra previsión de alquileres, teniendo en cuenta la variación del último año.\n",
    "\n",
    "**Mi previsión de alquileres = Alquileres último año + la variación del último año**"
   ]
  },
  {
   "cell_type": "code",
   "execution_count": null,
   "metadata": {},
   "outputs": [],
   "source": [
    "## Hacemos un desplazamiento de nuestra variable para calcular esa variación\n",
    "df_alquileres['cnt_shift'] = df_alquileres['cnt'].shift(1)\n",
    "df_alquileres['var AA'] = df_alquileres['cnt'] - df_alquileres['cnt_shift']\n",
    "## Creamos un campo para nuestra previsión y lo rellenamos con Nan\n",
    "df_alquileres['prevision_M2']=np.nan\n",
    "## Igualamos el último valor al registro correspondiente de la nueva variable (para que se vea mejor la representación)\n",
    "df_alquileres['prevision_M2'][-3] = df_alquileres['cnt'][-3]\n",
    "df_alquileres"
   ]
  },
  {
   "cell_type": "code",
   "execution_count": null,
   "metadata": {},
   "outputs": [],
   "source": [
    "## Rellenamos la variable con la variación, replicando el último valor hasta el final\n",
    "## ffill: propagate last valid observation forward to next valid backfill\n",
    "df_alquileres['var AA']=df_alquileres['var AA'].fillna(method='ffill')\n",
    "## Sumamos el acumulado de esa variación a la previsión que tenemos del modelo 1\n",
    "df_alquileres['prevision_M2'][-2:] = df_alquileres['var AA'][-2:].cumsum() +\\\n",
    "                                     df_alquileres['prevision_M1'][-2:]\n",
    "df_alquileres"
   ]
  },
  {
   "cell_type": "code",
   "execution_count": null,
   "metadata": {},
   "outputs": [],
   "source": [
    "## Representamos nuestra previsión\n",
    "df_alquileres.loc[:,['cnt','prevision_M1','prevision_M2']].plot(figsize=(10,5),\n",
    "                  title='¿Cuál es nuestra previsión? \\n')"
   ]
  },
  {
   "cell_type": "markdown",
   "metadata": {},
   "source": [
    "**P: ¿Si comparamos las previsiones del M1 y el M2 en qué se diferencian?**"
   ]
  },
  {
   "cell_type": "code",
   "execution_count": null,
   "metadata": {},
   "outputs": [],
   "source": []
  },
  {
   "cell_type": "code",
   "execution_count": null,
   "metadata": {},
   "outputs": [],
   "source": []
  },
  {
   "cell_type": "markdown",
   "metadata": {},
   "source": [
    "Hemos mejorado considerablemente la previsión al incluir el efecto tendencia de la serie."
   ]
  },
  {
   "cell_type": "markdown",
   "metadata": {},
   "source": [
    "### 4.3.- Modelo 3\n",
    "\n",
    "**Mi previsión de alquileres = Media de TODOS los alquileres**"
   ]
  },
  {
   "cell_type": "code",
   "execution_count": null,
   "metadata": {},
   "outputs": [],
   "source": [
    "## Creamos un campo para nuestra previsión y lo rellenamos con Nan\n",
    "df_alquileres['prevision_M3'] = np.nan\n",
    "## Igualamos el último valor al registro correspondiente de la nueva variable (para que se vea mejor la representación)\n",
    "df_alquileres['prevision_M3'][-3] = df_alquileres['cnt'][-3]\n",
    "## Igualamos los dos últimos años en los que vamos a hacer la previsión con la media de todos los alquileres\n",
    "df_alquileres['prevision_M3'][-2:] = df_alquileres['cnt'].mean()\n",
    "df_alquileres"
   ]
  },
  {
   "cell_type": "code",
   "execution_count": null,
   "metadata": {},
   "outputs": [],
   "source": [
    "## Representamos nuestra previsión\n",
    "df_alquileres.loc[:,['cnt','prevision_M1','prevision_M2','prevision_M3']].plot(figsize=(10,5),\n",
    "                  title='¿Cuál es nuestra previsión? \\n')"
   ]
  },
  {
   "cell_type": "markdown",
   "metadata": {},
   "source": [
    "**P: ¿Qué le ha pasado ahora a mi prevision_M3?**"
   ]
  },
  {
   "cell_type": "code",
   "execution_count": null,
   "metadata": {},
   "outputs": [],
   "source": []
  },
  {
   "cell_type": "code",
   "execution_count": null,
   "metadata": {},
   "outputs": [],
   "source": []
  },
  {
   "cell_type": "markdown",
   "metadata": {},
   "source": [
    "**P: ¿Cómo podría mejorar mi previsión del M3?**"
   ]
  },
  {
   "cell_type": "code",
   "execution_count": null,
   "metadata": {},
   "outputs": [],
   "source": []
  },
  {
   "cell_type": "code",
   "execution_count": null,
   "metadata": {},
   "outputs": [],
   "source": []
  },
  {
   "cell_type": "markdown",
   "metadata": {},
   "source": [
    "Si el modelo tiene tendencia, no podemos aplicar medias, ya que como vemos, es la peor previsión que podemos tomar."
   ]
  },
  {
   "cell_type": "markdown",
   "metadata": {},
   "source": [
    "### 4.4.- Modelo 3 mejorado"
   ]
  },
  {
   "cell_type": "markdown",
   "metadata": {},
   "source": [
    "Para mejorar nuestra previsión, vamos a **eliminar la componente principal de la serie (la tendencia)** y a realizar la predicción sobre la componente aleatoria."
   ]
  },
  {
   "cell_type": "code",
   "execution_count": null,
   "metadata": {},
   "outputs": [],
   "source": [
    "## Eliminamos la tendencia\n",
    "df_alquileres['cnt_sin_tend'] = df_alquileres['cnt'] - df_alquileres['cnt'].shift(1)\n",
    "df_alquileres"
   ]
  },
  {
   "cell_type": "code",
   "execution_count": null,
   "metadata": {},
   "outputs": [],
   "source": [
    "## Representamos nuestra serie\n",
    "df_alquileres.loc[:,['cnt','cnt_sin_tend']].plot(figsize=(10,5),\n",
    "                  title='¿Cuál es nuestra componente aleatoria? \\n')"
   ]
  },
  {
   "cell_type": "code",
   "execution_count": null,
   "metadata": {},
   "outputs": [],
   "source": [
    "## Si la representamos en dos gráficos independientes, para que no nos engañen los rangos de las magnitudes\n",
    "df_alquileres.loc[:,['cnt','cnt_sin_tend']].plot(figsize = (10,5),\n",
    "                                                 subplots = True,\n",
    "                                                 title = ['¿Cómo evoluciona el alquiler de bicicletas?',\n",
    "                                                          '¿Cuál es nuestra componente aleatoria?'])"
   ]
  },
  {
   "cell_type": "markdown",
   "metadata": {},
   "source": [
    "Aplicamos nuestro modelo 3 (Previsión de Alquileres = Media de Todos los alquileres) a la serie sin tendencia."
   ]
  },
  {
   "cell_type": "code",
   "execution_count": null,
   "metadata": {},
   "outputs": [],
   "source": [
    "## Creamos un campo para nuestra previsión y lo rellenamos con Nan\n",
    "df_alquileres['prevision_M3_st']=np.nan\n",
    "## Incluimos como previsión de los dos últimos meses la media de todos los alquileres\n",
    "df_alquileres['prevision_M3_st'][-3:]=df_alquileres['cnt_sin_tend'].mean()\n",
    "df_alquileres"
   ]
  },
  {
   "cell_type": "code",
   "execution_count": null,
   "metadata": {},
   "outputs": [],
   "source": [
    "## Representamos nuestra previsión\n",
    "df_alquileres.loc[:,['cnt_sin_tend','prevision_M3_st']].plot(figsize=(10,5),\n",
    "                                                title='¿Cuál es nuestra previsión sobre la componente aleatoria? \\n')"
   ]
  },
  {
   "cell_type": "code",
   "execution_count": null,
   "metadata": {},
   "outputs": [],
   "source": [
    "## Representamos nuestra previsión\n",
    "df_alquileres.loc[:,['cnt','prevision_M3_st']].plot(figsize=(10,5),\n",
    "                                                   title='¿Cuál es nuestra previsión? \\n')"
   ]
  },
  {
   "cell_type": "markdown",
   "metadata": {},
   "source": [
    "**P: Esta previsión M3_st ¿qué significa? ¿cómo lo puedo convertir en número que se parezca a mis alquileres?**"
   ]
  },
  {
   "cell_type": "code",
   "execution_count": null,
   "metadata": {},
   "outputs": [],
   "source": []
  },
  {
   "cell_type": "code",
   "execution_count": null,
   "metadata": {},
   "outputs": [],
   "source": []
  },
  {
   "cell_type": "markdown",
   "metadata": {},
   "source": [
    "Hemos realizado nuestra previsión sobre la serie sin tendencia, pero no debemos olvidar que tras realizar ese cálculo, debemos volver a **incorporar la tendencia a nuestra previsión**."
   ]
  },
  {
   "cell_type": "code",
   "execution_count": null,
   "metadata": {},
   "outputs": [],
   "source": [
    "## Creamos un campo para nuestra previsión y lo rellenamos con Nan\n",
    "df_alquileres['prevision_M3_ct'] = np.nan\n",
    "## Sumamos el acumulado de la previsión a nuestra serie con tendencia\n",
    "df_alquileres['prevision_M3_ct'][-3] = df_alquileres['cnt'][-3]\n",
    "df_alquileres['prevision_M3_ct'][-2:] = df_alquileres['prevision_M3_st'][-2:].cumsum()\\\n",
    "                                      + df_alquileres['prevision_M1'][-2:]\n",
    "df_alquileres"
   ]
  },
  {
   "cell_type": "code",
   "execution_count": null,
   "metadata": {},
   "outputs": [],
   "source": [
    "## Representamos nuestra previsión\n",
    "df_alquileres.loc[:,['cnt','prevision_M3_ct']].plot(figsize=(10,5),\n",
    "                                                     title='¿Cuál es nuestra previsión final? \\n')"
   ]
  },
  {
   "cell_type": "markdown",
   "metadata": {},
   "source": [
    "**P: ¿Cómo podríamos evolucionar el modelo 3 (el de la media)? ¿Se os ocurren otros modelos de previsión?**"
   ]
  },
  {
   "cell_type": "code",
   "execution_count": null,
   "metadata": {},
   "outputs": [],
   "source": []
  },
  {
   "cell_type": "code",
   "execution_count": null,
   "metadata": {},
   "outputs": [],
   "source": []
  },
  {
   "cell_type": "markdown",
   "metadata": {},
   "source": [
    "* Alisados exponenciales\n",
    "* Modelos ARIMA (AR - Autoregresivos , I - diferencias, MA -Medias móviles de los errores, aprender de los errores)"
   ]
  }
 ],
 "metadata": {
  "anaconda-cloud": {},
  "kernelspec": {
   "display_name": "Python 3",
   "language": "python",
   "name": "python3"
  },
  "language_info": {
   "codemirror_mode": {
    "name": "ipython",
    "version": 3
   },
   "file_extension": ".py",
   "mimetype": "text/x-python",
   "name": "python",
   "nbconvert_exporter": "python",
   "pygments_lexer": "ipython3",
   "version": "3.6.5"
  },
  "widgets": {
   "state": {},
   "version": "1.1.2"
  }
 },
 "nbformat": 4,
 "nbformat_minor": 2
}

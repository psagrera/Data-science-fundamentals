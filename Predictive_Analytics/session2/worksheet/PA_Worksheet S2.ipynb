{
 "cells": [
  {
   "cell_type": "markdown",
   "metadata": {},
   "source": [
    "<img src=\"mioti.png\" style=\"height: 100px\">\n",
    "<center style=\"color:#888\">Data science fundamentals <br/>Predictive Analytics</center>\n",
    "\n",
    "# Worksheet S2: Introducción a los Modelos de Previsión en Series Temporales\n",
    "\n",
    "## Caso práctico: Predicción de los Alquileres de Bicicletas en Chicago"
   ]
  },
  {
   "cell_type": "markdown",
   "metadata": {},
   "source": [
    "## 0. Objetivo\n",
    "\n",
    "El objetivo de este worksheet es experimentar sobre modelos sencillos de **previsión de Series Temporales** para familiarizarnos con los principales conceptos de la modelización y previsión de variables. Para ello, vamos a seguir utilizando el caso práctico de los alquileres de bicicletas en Chicago."
   ]
  },
  {
   "cell_type": "markdown",
   "metadata": {},
   "source": [
    "<img src=\"bicicletas_chicago.jpg\" style=\"float:right; height: 250px\"></img>\n",
    "Recordemos: la ciudad de Chicago cuenta con una red de alquileres de bicicletas y tiene un problema con su servicio, ya que más de un ** 20% ** de las estaciones se encuentra sin bicicletas cuando un usuario se acerca a alquilar una de ellas. Por este motivo, necesitan cambiar la forma de gestionar las estaciones de bicicletas. \n",
    "\n",
    "Para ello, vamos a realizar unas previsiones a largo y medio plazo para intentar **reducir la incertidumbre** a la hora de saber cuántas bicicletas se necesitan en cada momento.\n",
    "\n",
    "Nuestro objetivo es realizar una **previsión** sobre cuál va a ser el alquiler de bicicletas en los **dos próximos años**."
   ]
  },
  {
   "cell_type": "markdown",
   "metadata": {},
   "source": [
    "## 1. Preparar el contexto"
   ]
  },
  {
   "cell_type": "markdown",
   "metadata": {},
   "source": [
    "Como paso previo, cargamos las librerías que serán necesarias en nuestro estudio."
   ]
  },
  {
   "cell_type": "code",
   "execution_count": 1,
   "metadata": {},
   "outputs": [],
   "source": [
    "import numpy as np\n",
    "import pandas as pd\n",
    "import matplotlib.pyplot as plt\n",
    "%matplotlib inline"
   ]
  },
  {
   "cell_type": "markdown",
   "metadata": {},
   "source": [
    "## 2. Obtener los datos\n",
    "\n",
    "Como en otras ocasiones, vamos a importar los datos de un fichero csv, a través de la función **read_csv** que nos proporciona la librería de Pandas."
   ]
  },
  {
   "cell_type": "code",
   "execution_count": 2,
   "metadata": {},
   "outputs": [],
   "source": [
    "data_path = 'year_chicago.csv'\n",
    "df_datos = pd.read_csv(data_path)"
   ]
  },
  {
   "cell_type": "markdown",
   "metadata": {},
   "source": [
    "A continuación, comprobamos **qué hemos cargado**. Utilizando las funciones *info(), describe()* y *head()* podemos hacer un primer análisis de los datos cargados. Veamos que contiene nuestro dataset de partida:"
   ]
  },
  {
   "cell_type": "code",
   "execution_count": 3,
   "metadata": {},
   "outputs": [
    {
     "name": "stdout",
     "output_type": "stream",
     "text": [
      "<class 'pandas.core.frame.DataFrame'>\n",
      "RangeIndex: 7 entries, 0 to 6\n",
      "Data columns (total 2 columns):\n",
      " #   Column  Non-Null Count  Dtype  \n",
      "---  ------  --------------  -----  \n",
      " 0   cnt     7 non-null      float64\n",
      " 1   date    7 non-null      object \n",
      "dtypes: float64(1), object(1)\n",
      "memory usage: 240.0+ bytes\n"
     ]
    }
   ],
   "source": [
    "df_datos.info()"
   ]
  },
  {
   "cell_type": "code",
   "execution_count": 4,
   "metadata": {},
   "outputs": [
    {
     "data": {
      "text/html": [
       "<div>\n",
       "<style scoped>\n",
       "    .dataframe tbody tr th:only-of-type {\n",
       "        vertical-align: middle;\n",
       "    }\n",
       "\n",
       "    .dataframe tbody tr th {\n",
       "        vertical-align: top;\n",
       "    }\n",
       "\n",
       "    .dataframe thead th {\n",
       "        text-align: right;\n",
       "    }\n",
       "</style>\n",
       "<table border=\"1\" class=\"dataframe\">\n",
       "  <thead>\n",
       "    <tr style=\"text-align: right;\">\n",
       "      <th></th>\n",
       "      <th>cnt</th>\n",
       "    </tr>\n",
       "  </thead>\n",
       "  <tbody>\n",
       "    <tr>\n",
       "      <th>count</th>\n",
       "      <td>7.000000e+00</td>\n",
       "    </tr>\n",
       "    <tr>\n",
       "      <th>mean</th>\n",
       "      <td>3.661109e+06</td>\n",
       "    </tr>\n",
       "    <tr>\n",
       "      <th>std</th>\n",
       "      <td>1.738479e+06</td>\n",
       "    </tr>\n",
       "    <tr>\n",
       "      <th>min</th>\n",
       "      <td>1.243103e+06</td>\n",
       "    </tr>\n",
       "    <tr>\n",
       "      <th>25%</th>\n",
       "      <td>2.463950e+06</td>\n",
       "    </tr>\n",
       "    <tr>\n",
       "      <th>50%</th>\n",
       "      <td>3.654785e+06</td>\n",
       "    </tr>\n",
       "    <tr>\n",
       "      <th>75%</th>\n",
       "      <td>4.860350e+06</td>\n",
       "    </tr>\n",
       "    <tr>\n",
       "      <th>max</th>\n",
       "      <td>6.081273e+06</td>\n",
       "    </tr>\n",
       "  </tbody>\n",
       "</table>\n",
       "</div>"
      ],
      "text/plain": [
       "                cnt\n",
       "count  7.000000e+00\n",
       "mean   3.661109e+06\n",
       "std    1.738479e+06\n",
       "min    1.243103e+06\n",
       "25%    2.463950e+06\n",
       "50%    3.654785e+06\n",
       "75%    4.860350e+06\n",
       "max    6.081273e+06"
      ]
     },
     "execution_count": 4,
     "metadata": {},
     "output_type": "execute_result"
    }
   ],
   "source": [
    "df_datos.describe()"
   ]
  },
  {
   "cell_type": "code",
   "execution_count": 5,
   "metadata": {},
   "outputs": [
    {
     "data": {
      "text/html": [
       "<div>\n",
       "<style scoped>\n",
       "    .dataframe tbody tr th:only-of-type {\n",
       "        vertical-align: middle;\n",
       "    }\n",
       "\n",
       "    .dataframe tbody tr th {\n",
       "        vertical-align: top;\n",
       "    }\n",
       "\n",
       "    .dataframe thead th {\n",
       "        text-align: right;\n",
       "    }\n",
       "</style>\n",
       "<table border=\"1\" class=\"dataframe\">\n",
       "  <thead>\n",
       "    <tr style=\"text-align: right;\">\n",
       "      <th></th>\n",
       "      <th>cnt</th>\n",
       "      <th>date</th>\n",
       "    </tr>\n",
       "  </thead>\n",
       "  <tbody>\n",
       "    <tr>\n",
       "      <th>0</th>\n",
       "      <td>1243103.0</td>\n",
       "      <td>2011-12-31</td>\n",
       "    </tr>\n",
       "    <tr>\n",
       "      <th>1</th>\n",
       "      <td>2049576.0</td>\n",
       "      <td>2012-12-31</td>\n",
       "    </tr>\n",
       "    <tr>\n",
       "      <th>2</th>\n",
       "      <td>2878325.0</td>\n",
       "      <td>2013-12-31</td>\n",
       "    </tr>\n",
       "    <tr>\n",
       "      <th>3</th>\n",
       "      <td>3654785.0</td>\n",
       "      <td>2014-12-31</td>\n",
       "    </tr>\n",
       "    <tr>\n",
       "      <th>4</th>\n",
       "      <td>4445789.0</td>\n",
       "      <td>2015-12-31</td>\n",
       "    </tr>\n",
       "    <tr>\n",
       "      <th>5</th>\n",
       "      <td>5274912.0</td>\n",
       "      <td>2016-12-31</td>\n",
       "    </tr>\n",
       "    <tr>\n",
       "      <th>6</th>\n",
       "      <td>6081273.0</td>\n",
       "      <td>2017-12-31</td>\n",
       "    </tr>\n",
       "  </tbody>\n",
       "</table>\n",
       "</div>"
      ],
      "text/plain": [
       "         cnt        date\n",
       "0  1243103.0  2011-12-31\n",
       "1  2049576.0  2012-12-31\n",
       "2  2878325.0  2013-12-31\n",
       "3  3654785.0  2014-12-31\n",
       "4  4445789.0  2015-12-31\n",
       "5  5274912.0  2016-12-31\n",
       "6  6081273.0  2017-12-31"
      ]
     },
     "execution_count": 5,
     "metadata": {},
     "output_type": "execute_result"
    }
   ],
   "source": [
    "df_datos"
   ]
  },
  {
   "cell_type": "markdown",
   "metadata": {},
   "source": [
    "Este dataset contiene el **histórico de alquileres de los últimos 7 años a nivel año**, para la variable *cnt*, que era el número de bicicletas alquiladas, que a su vez está compuesto por la suma de los campos 'registered' y 'causal' (usuarios registrados y esporádicos)."
   ]
  },
  {
   "cell_type": "markdown",
   "metadata": {},
   "source": [
    "## 3. Pretratado de los datos"
   ]
  },
  {
   "cell_type": "markdown",
   "metadata": {},
   "source": [
    "Como vimos en la sesión anterior, al trabajar con series temporales, no debemos olvidar que una de nuestras variables va a ser el **tiempo**. Por este motivo, es muy interesante tener un campo que sea de tipo **datetime**, ya que Pandas interpreta y ofrece múltiples herramientas que facilitan el trabajo con este tipo de datos."
   ]
  },
  {
   "cell_type": "code",
   "execution_count": 6,
   "metadata": {},
   "outputs": [
    {
     "data": {
      "text/html": [
       "<div>\n",
       "<style scoped>\n",
       "    .dataframe tbody tr th:only-of-type {\n",
       "        vertical-align: middle;\n",
       "    }\n",
       "\n",
       "    .dataframe tbody tr th {\n",
       "        vertical-align: top;\n",
       "    }\n",
       "\n",
       "    .dataframe thead th {\n",
       "        text-align: right;\n",
       "    }\n",
       "</style>\n",
       "<table border=\"1\" class=\"dataframe\">\n",
       "  <thead>\n",
       "    <tr style=\"text-align: right;\">\n",
       "      <th></th>\n",
       "      <th>cnt</th>\n",
       "    </tr>\n",
       "  </thead>\n",
       "  <tbody>\n",
       "    <tr>\n",
       "      <th>2011-12-31</th>\n",
       "      <td>1243103.0</td>\n",
       "    </tr>\n",
       "    <tr>\n",
       "      <th>2012-12-31</th>\n",
       "      <td>2049576.0</td>\n",
       "    </tr>\n",
       "    <tr>\n",
       "      <th>2013-12-31</th>\n",
       "      <td>2878325.0</td>\n",
       "    </tr>\n",
       "    <tr>\n",
       "      <th>2014-12-31</th>\n",
       "      <td>3654785.0</td>\n",
       "    </tr>\n",
       "    <tr>\n",
       "      <th>2015-12-31</th>\n",
       "      <td>4445789.0</td>\n",
       "    </tr>\n",
       "    <tr>\n",
       "      <th>2016-12-31</th>\n",
       "      <td>5274912.0</td>\n",
       "    </tr>\n",
       "    <tr>\n",
       "      <th>2017-12-31</th>\n",
       "      <td>6081273.0</td>\n",
       "    </tr>\n",
       "  </tbody>\n",
       "</table>\n",
       "</div>"
      ],
      "text/plain": [
       "                  cnt\n",
       "2011-12-31  1243103.0\n",
       "2012-12-31  2049576.0\n",
       "2013-12-31  2878325.0\n",
       "2014-12-31  3654785.0\n",
       "2015-12-31  4445789.0\n",
       "2016-12-31  5274912.0\n",
       "2017-12-31  6081273.0"
      ]
     },
     "execution_count": 6,
     "metadata": {},
     "output_type": "execute_result"
    }
   ],
   "source": [
    "df_datos['date'] = pd.to_datetime(df_datos['date'], format='%Y-%m-%d')\n",
    "## Creamos un dataframe cuyo índice sea el campo fecha y que contenga nuestra variable cnt\n",
    "df_alquileres = pd.DataFrame(df_datos['cnt'].tolist(),\n",
    "                             index = df_datos['date'].tolist(),\n",
    "                             columns = ['cnt'])\n",
    "df_alquileres"
   ]
  },
  {
   "cell_type": "markdown",
   "metadata": {},
   "source": [
    "Nuestro objetivo es realizar una **previsión** sobre el alquiler de bicicletas para los próximos **dos años**. Para ello, vamos a incluir en nuestro dataframe dos nuevos registros (ahora mismo vacíos) para los años en los que queremos hacer la previsión.\n",
    "\n",
    "- Nuestro dataframe será: histórico de alquileres anuales + 2 años para nuestras previsiones"
   ]
  },
  {
   "cell_type": "code",
   "execution_count": 28,
   "metadata": {},
   "outputs": [
    {
     "data": {
      "text/plain": [
       "DatetimeIndex(['2018-12-31', '2019-12-31'], dtype='datetime64[ns]', freq='A-DEC')"
      ]
     },
     "execution_count": 28,
     "metadata": {},
     "output_type": "execute_result"
    }
   ],
   "source": [
    "## Necesitamos incluir dos periodos más a nuestro dataframe, con la función date_range es muy fácil.\n",
    "## Como es predicción anual, nuestra frecuencia será anual.\n",
    "periodos = pd.date_range('2018-03-31', periods = 2, freq = 'A')\n",
    "periodos"
   ]
  },
  {
   "cell_type": "code",
   "execution_count": 29,
   "metadata": {},
   "outputs": [
    {
     "data": {
      "text/html": [
       "<div>\n",
       "<style scoped>\n",
       "    .dataframe tbody tr th:only-of-type {\n",
       "        vertical-align: middle;\n",
       "    }\n",
       "\n",
       "    .dataframe tbody tr th {\n",
       "        vertical-align: top;\n",
       "    }\n",
       "\n",
       "    .dataframe thead th {\n",
       "        text-align: right;\n",
       "    }\n",
       "</style>\n",
       "<table border=\"1\" class=\"dataframe\">\n",
       "  <thead>\n",
       "    <tr style=\"text-align: right;\">\n",
       "      <th></th>\n",
       "      <th>cnt</th>\n",
       "    </tr>\n",
       "  </thead>\n",
       "  <tbody>\n",
       "    <tr>\n",
       "      <th>2018-12-31</th>\n",
       "      <td>nan</td>\n",
       "    </tr>\n",
       "    <tr>\n",
       "      <th>2019-12-31</th>\n",
       "      <td>nan</td>\n",
       "    </tr>\n",
       "  </tbody>\n",
       "</table>\n",
       "</div>"
      ],
      "text/plain": [
       "            cnt\n",
       "2018-12-31  nan\n",
       "2019-12-31  nan"
      ]
     },
     "execution_count": 29,
     "metadata": {},
     "output_type": "execute_result"
    }
   ],
   "source": [
    "## Creamos un dataframe con nuestras fechas a predecir\n",
    "df_prediccion = pd.DataFrame({'cnt':[np.nan,np.nan]},\n",
    "                             index = periodos)\n",
    "df_prediccion"
   ]
  },
  {
   "cell_type": "code",
   "execution_count": 30,
   "metadata": {},
   "outputs": [
    {
     "data": {
      "text/html": [
       "<div>\n",
       "<style scoped>\n",
       "    .dataframe tbody tr th:only-of-type {\n",
       "        vertical-align: middle;\n",
       "    }\n",
       "\n",
       "    .dataframe tbody tr th {\n",
       "        vertical-align: top;\n",
       "    }\n",
       "\n",
       "    .dataframe thead th {\n",
       "        text-align: right;\n",
       "    }\n",
       "</style>\n",
       "<table border=\"1\" class=\"dataframe\">\n",
       "  <thead>\n",
       "    <tr style=\"text-align: right;\">\n",
       "      <th></th>\n",
       "      <th>cnt</th>\n",
       "      <th>prevision_M1</th>\n",
       "      <th>cnt_shift</th>\n",
       "      <th>var AA</th>\n",
       "      <th>prevision_M2</th>\n",
       "      <th>prevision_M3</th>\n",
       "      <th>cnt_sin_tend</th>\n",
       "      <th>prevision_M3_st</th>\n",
       "      <th>prevision_M3_ct</th>\n",
       "    </tr>\n",
       "  </thead>\n",
       "  <tbody>\n",
       "    <tr>\n",
       "      <th>2011-12-31</th>\n",
       "      <td>1,243,103.0</td>\n",
       "      <td>nan</td>\n",
       "      <td>nan</td>\n",
       "      <td>nan</td>\n",
       "      <td>nan</td>\n",
       "      <td>nan</td>\n",
       "      <td>nan</td>\n",
       "      <td>nan</td>\n",
       "      <td>nan</td>\n",
       "    </tr>\n",
       "    <tr>\n",
       "      <th>2012-12-31</th>\n",
       "      <td>2,049,576.0</td>\n",
       "      <td>nan</td>\n",
       "      <td>1,243,103.0</td>\n",
       "      <td>806,473.0</td>\n",
       "      <td>nan</td>\n",
       "      <td>nan</td>\n",
       "      <td>806,473.0</td>\n",
       "      <td>nan</td>\n",
       "      <td>nan</td>\n",
       "    </tr>\n",
       "    <tr>\n",
       "      <th>2013-12-31</th>\n",
       "      <td>2,878,325.0</td>\n",
       "      <td>nan</td>\n",
       "      <td>2,049,576.0</td>\n",
       "      <td>828,749.0</td>\n",
       "      <td>nan</td>\n",
       "      <td>nan</td>\n",
       "      <td>828,749.0</td>\n",
       "      <td>nan</td>\n",
       "      <td>nan</td>\n",
       "    </tr>\n",
       "    <tr>\n",
       "      <th>2014-12-31</th>\n",
       "      <td>3,654,785.0</td>\n",
       "      <td>nan</td>\n",
       "      <td>2,878,325.0</td>\n",
       "      <td>776,460.0</td>\n",
       "      <td>nan</td>\n",
       "      <td>nan</td>\n",
       "      <td>776,460.0</td>\n",
       "      <td>nan</td>\n",
       "      <td>nan</td>\n",
       "    </tr>\n",
       "    <tr>\n",
       "      <th>2015-12-31</th>\n",
       "      <td>4,445,789.0</td>\n",
       "      <td>nan</td>\n",
       "      <td>3,654,785.0</td>\n",
       "      <td>791,004.0</td>\n",
       "      <td>nan</td>\n",
       "      <td>nan</td>\n",
       "      <td>791,004.0</td>\n",
       "      <td>nan</td>\n",
       "      <td>nan</td>\n",
       "    </tr>\n",
       "    <tr>\n",
       "      <th>2016-12-31</th>\n",
       "      <td>5,274,912.0</td>\n",
       "      <td>nan</td>\n",
       "      <td>4,445,789.0</td>\n",
       "      <td>829,123.0</td>\n",
       "      <td>nan</td>\n",
       "      <td>nan</td>\n",
       "      <td>829,123.0</td>\n",
       "      <td>nan</td>\n",
       "      <td>nan</td>\n",
       "    </tr>\n",
       "    <tr>\n",
       "      <th>2017-12-31</th>\n",
       "      <td>6,081,273.0</td>\n",
       "      <td>6,081,273.0</td>\n",
       "      <td>5,274,912.0</td>\n",
       "      <td>806,361.0</td>\n",
       "      <td>6,081,273.0</td>\n",
       "      <td>6,081,273.0</td>\n",
       "      <td>806,361.0</td>\n",
       "      <td>806,361.7</td>\n",
       "      <td>6,081,273.0</td>\n",
       "    </tr>\n",
       "    <tr>\n",
       "      <th>2018-12-31</th>\n",
       "      <td>nan</td>\n",
       "      <td>6,081,273.0</td>\n",
       "      <td>6,081,273.0</td>\n",
       "      <td>806,361.0</td>\n",
       "      <td>6,887,634.0</td>\n",
       "      <td>3,661,109.0</td>\n",
       "      <td>nan</td>\n",
       "      <td>806,361.7</td>\n",
       "      <td>6,887,634.7</td>\n",
       "    </tr>\n",
       "    <tr>\n",
       "      <th>2019-12-31</th>\n",
       "      <td>nan</td>\n",
       "      <td>6,081,273.0</td>\n",
       "      <td>nan</td>\n",
       "      <td>806,361.0</td>\n",
       "      <td>7,693,995.0</td>\n",
       "      <td>3,661,109.0</td>\n",
       "      <td>nan</td>\n",
       "      <td>806,361.7</td>\n",
       "      <td>7,693,996.3</td>\n",
       "    </tr>\n",
       "    <tr>\n",
       "      <th>2018-12-31</th>\n",
       "      <td>nan</td>\n",
       "      <td>nan</td>\n",
       "      <td>nan</td>\n",
       "      <td>nan</td>\n",
       "      <td>nan</td>\n",
       "      <td>nan</td>\n",
       "      <td>nan</td>\n",
       "      <td>nan</td>\n",
       "      <td>nan</td>\n",
       "    </tr>\n",
       "    <tr>\n",
       "      <th>2019-12-31</th>\n",
       "      <td>nan</td>\n",
       "      <td>nan</td>\n",
       "      <td>nan</td>\n",
       "      <td>nan</td>\n",
       "      <td>nan</td>\n",
       "      <td>nan</td>\n",
       "      <td>nan</td>\n",
       "      <td>nan</td>\n",
       "      <td>nan</td>\n",
       "    </tr>\n",
       "  </tbody>\n",
       "</table>\n",
       "</div>"
      ],
      "text/plain": [
       "                   cnt  prevision_M1   cnt_shift    var AA  prevision_M2  \\\n",
       "2011-12-31 1,243,103.0           nan         nan       nan           nan   \n",
       "2012-12-31 2,049,576.0           nan 1,243,103.0 806,473.0           nan   \n",
       "2013-12-31 2,878,325.0           nan 2,049,576.0 828,749.0           nan   \n",
       "2014-12-31 3,654,785.0           nan 2,878,325.0 776,460.0           nan   \n",
       "2015-12-31 4,445,789.0           nan 3,654,785.0 791,004.0           nan   \n",
       "2016-12-31 5,274,912.0           nan 4,445,789.0 829,123.0           nan   \n",
       "2017-12-31 6,081,273.0   6,081,273.0 5,274,912.0 806,361.0   6,081,273.0   \n",
       "2018-12-31         nan   6,081,273.0 6,081,273.0 806,361.0   6,887,634.0   \n",
       "2019-12-31         nan   6,081,273.0         nan 806,361.0   7,693,995.0   \n",
       "2018-12-31         nan           nan         nan       nan           nan   \n",
       "2019-12-31         nan           nan         nan       nan           nan   \n",
       "\n",
       "            prevision_M3  cnt_sin_tend  prevision_M3_st  prevision_M3_ct  \n",
       "2011-12-31           nan           nan              nan              nan  \n",
       "2012-12-31           nan     806,473.0              nan              nan  \n",
       "2013-12-31           nan     828,749.0              nan              nan  \n",
       "2014-12-31           nan     776,460.0              nan              nan  \n",
       "2015-12-31           nan     791,004.0              nan              nan  \n",
       "2016-12-31           nan     829,123.0              nan              nan  \n",
       "2017-12-31   6,081,273.0     806,361.0        806,361.7      6,081,273.0  \n",
       "2018-12-31   3,661,109.0           nan        806,361.7      6,887,634.7  \n",
       "2019-12-31   3,661,109.0           nan        806,361.7      7,693,996.3  \n",
       "2018-12-31           nan           nan              nan              nan  \n",
       "2019-12-31           nan           nan              nan              nan  "
      ]
     },
     "execution_count": 30,
     "metadata": {},
     "output_type": "execute_result"
    }
   ],
   "source": [
    "## Unimos el dataframe del histórico y el de la predicción\n",
    "df_alquileres = pd.concat([df_alquileres, df_prediccion], ignore_index = False)\n",
    "df_alquileres"
   ]
  },
  {
   "cell_type": "code",
   "execution_count": 10,
   "metadata": {},
   "outputs": [
    {
     "data": {
      "text/html": [
       "<div>\n",
       "<style scoped>\n",
       "    .dataframe tbody tr th:only-of-type {\n",
       "        vertical-align: middle;\n",
       "    }\n",
       "\n",
       "    .dataframe tbody tr th {\n",
       "        vertical-align: top;\n",
       "    }\n",
       "\n",
       "    .dataframe thead th {\n",
       "        text-align: right;\n",
       "    }\n",
       "</style>\n",
       "<table border=\"1\" class=\"dataframe\">\n",
       "  <thead>\n",
       "    <tr style=\"text-align: right;\">\n",
       "      <th></th>\n",
       "      <th>cnt</th>\n",
       "    </tr>\n",
       "  </thead>\n",
       "  <tbody>\n",
       "    <tr>\n",
       "      <th>2011-12-31</th>\n",
       "      <td>1,243,103.0</td>\n",
       "    </tr>\n",
       "    <tr>\n",
       "      <th>2012-12-31</th>\n",
       "      <td>2,049,576.0</td>\n",
       "    </tr>\n",
       "    <tr>\n",
       "      <th>2013-12-31</th>\n",
       "      <td>2,878,325.0</td>\n",
       "    </tr>\n",
       "    <tr>\n",
       "      <th>2014-12-31</th>\n",
       "      <td>3,654,785.0</td>\n",
       "    </tr>\n",
       "    <tr>\n",
       "      <th>2015-12-31</th>\n",
       "      <td>4,445,789.0</td>\n",
       "    </tr>\n",
       "    <tr>\n",
       "      <th>2016-12-31</th>\n",
       "      <td>5,274,912.0</td>\n",
       "    </tr>\n",
       "    <tr>\n",
       "      <th>2017-12-31</th>\n",
       "      <td>6,081,273.0</td>\n",
       "    </tr>\n",
       "    <tr>\n",
       "      <th>2018-12-31</th>\n",
       "      <td>nan</td>\n",
       "    </tr>\n",
       "    <tr>\n",
       "      <th>2019-12-31</th>\n",
       "      <td>nan</td>\n",
       "    </tr>\n",
       "  </tbody>\n",
       "</table>\n",
       "</div>"
      ],
      "text/plain": [
       "                   cnt\n",
       "2011-12-31 1,243,103.0\n",
       "2012-12-31 2,049,576.0\n",
       "2013-12-31 2,878,325.0\n",
       "2014-12-31 3,654,785.0\n",
       "2015-12-31 4,445,789.0\n",
       "2016-12-31 5,274,912.0\n",
       "2017-12-31 6,081,273.0\n",
       "2018-12-31         nan\n",
       "2019-12-31         nan"
      ]
     },
     "execution_count": 10,
     "metadata": {},
     "output_type": "execute_result"
    }
   ],
   "source": [
    "## Modificamos el formato de muestra del dataframe para que sea más fácil leerlo\n",
    "pd.options.display.float_format = '{:,.1f}'.format\n",
    "df_alquileres"
   ]
  },
  {
   "cell_type": "markdown",
   "metadata": {},
   "source": [
    "**P: ¿Qué componentes de una serie temporal tiene el alquiler de bicicletas anual?**"
   ]
  },
  {
   "cell_type": "code",
   "execution_count": 11,
   "metadata": {},
   "outputs": [],
   "source": [
    "#TENDENCIA"
   ]
  },
  {
   "cell_type": "markdown",
   "metadata": {},
   "source": [
    "Para responder a esta pregunta, vamos a representar la serie temporal:"
   ]
  },
  {
   "cell_type": "code",
   "execution_count": 12,
   "metadata": {},
   "outputs": [
    {
     "data": {
      "text/plain": [
       "<matplotlib.axes._subplots.AxesSubplot at 0x119f65a10>"
      ]
     },
     "execution_count": 12,
     "metadata": {},
     "output_type": "execute_result"
    },
    {
     "data": {
      "image/png": "[encoded data removed]",
      "text/plain": [
       "<Figure size 720x360 with 1 Axes>"
      ]
     },
     "metadata": {
      "needs_background": "light"
     },
     "output_type": "display_data"
    }
   ],
   "source": [
    "df_alquileres.plot(figsize=(10,5),\n",
    "                  title='¿Cómo evoluciona el número de alquileres de bicicletas por año? \\n')"
   ]
  },
  {
   "cell_type": "markdown",
   "metadata": {},
   "source": [
    "Al tener la serie temporal agregada por años, no tenemos ningún tipo de estacionalidad, pero sí tenemos **tendencia**."
   ]
  },
  {
   "cell_type": "markdown",
   "metadata": {},
   "source": [
    "## 4. Primeras previsiones"
   ]
  },
  {
   "cell_type": "markdown",
   "metadata": {},
   "source": [
    "Nuestro objetivo es realizar la previsión de los alquileres de bicicletas para los próximos dos años: 2018 y 2019."
   ]
  },
  {
   "cell_type": "markdown",
   "metadata": {},
   "source": [
    "**P: ¿Cuál es el modelo de previsión más sencillo que se os ocurre?**"
   ]
  },
  {
   "cell_type": "code",
   "execution_count": null,
   "metadata": {},
   "outputs": [],
   "source": []
  },
  {
   "cell_type": "code",
   "execution_count": null,
   "metadata": {},
   "outputs": [],
   "source": []
  },
  {
   "cell_type": "markdown",
   "metadata": {},
   "source": [
    "### 4.1.- Modelo 1\n",
    "\n",
    "Vamos a comenzar con un modelo sencillo, simplemente tomaremos como previsión los alquileres del último año.\n",
    "\n",
    "#### *Mi previsión de alquileres = Alquileres último año*"
   ]
  },
  {
   "cell_type": "code",
   "execution_count": 13,
   "metadata": {},
   "outputs": [
    {
     "data": {
      "text/html": [
       "<div>\n",
       "<style scoped>\n",
       "    .dataframe tbody tr th:only-of-type {\n",
       "        vertical-align: middle;\n",
       "    }\n",
       "\n",
       "    .dataframe tbody tr th {\n",
       "        vertical-align: top;\n",
       "    }\n",
       "\n",
       "    .dataframe thead th {\n",
       "        text-align: right;\n",
       "    }\n",
       "</style>\n",
       "<table border=\"1\" class=\"dataframe\">\n",
       "  <thead>\n",
       "    <tr style=\"text-align: right;\">\n",
       "      <th></th>\n",
       "      <th>cnt</th>\n",
       "      <th>prevision_M1</th>\n",
       "    </tr>\n",
       "  </thead>\n",
       "  <tbody>\n",
       "    <tr>\n",
       "      <th>2011-12-31</th>\n",
       "      <td>1,243,103.0</td>\n",
       "      <td>nan</td>\n",
       "    </tr>\n",
       "    <tr>\n",
       "      <th>2012-12-31</th>\n",
       "      <td>2,049,576.0</td>\n",
       "      <td>nan</td>\n",
       "    </tr>\n",
       "    <tr>\n",
       "      <th>2013-12-31</th>\n",
       "      <td>2,878,325.0</td>\n",
       "      <td>nan</td>\n",
       "    </tr>\n",
       "    <tr>\n",
       "      <th>2014-12-31</th>\n",
       "      <td>3,654,785.0</td>\n",
       "      <td>nan</td>\n",
       "    </tr>\n",
       "    <tr>\n",
       "      <th>2015-12-31</th>\n",
       "      <td>4,445,789.0</td>\n",
       "      <td>nan</td>\n",
       "    </tr>\n",
       "    <tr>\n",
       "      <th>2016-12-31</th>\n",
       "      <td>5,274,912.0</td>\n",
       "      <td>nan</td>\n",
       "    </tr>\n",
       "    <tr>\n",
       "      <th>2017-12-31</th>\n",
       "      <td>6,081,273.0</td>\n",
       "      <td>6,081,273.0</td>\n",
       "    </tr>\n",
       "    <tr>\n",
       "      <th>2018-12-31</th>\n",
       "      <td>nan</td>\n",
       "      <td>6,081,273.0</td>\n",
       "    </tr>\n",
       "    <tr>\n",
       "      <th>2019-12-31</th>\n",
       "      <td>nan</td>\n",
       "      <td>6,081,273.0</td>\n",
       "    </tr>\n",
       "  </tbody>\n",
       "</table>\n",
       "</div>"
      ],
      "text/plain": [
       "                   cnt  prevision_M1\n",
       "2011-12-31 1,243,103.0           nan\n",
       "2012-12-31 2,049,576.0           nan\n",
       "2013-12-31 2,878,325.0           nan\n",
       "2014-12-31 3,654,785.0           nan\n",
       "2015-12-31 4,445,789.0           nan\n",
       "2016-12-31 5,274,912.0           nan\n",
       "2017-12-31 6,081,273.0   6,081,273.0\n",
       "2018-12-31         nan   6,081,273.0\n",
       "2019-12-31         nan   6,081,273.0"
      ]
     },
     "execution_count": 13,
     "metadata": {},
     "output_type": "execute_result"
    }
   ],
   "source": [
    "## Creamos un campo para nuestra previsión y lo rellenamos con Nan\n",
    "df_alquileres['prevision_M1']=np.nan\n",
    "## Igualamos los dos últimos años en los que vamos a hacer la previsión al valor del último año de histórico\n",
    "df_alquileres['prevision_M1'][-3:]=df_alquileres['cnt'][-3]\n",
    "df_alquileres"
   ]
  },
  {
   "cell_type": "code",
   "execution_count": 14,
   "metadata": {},
   "outputs": [
    {
     "data": {
      "text/plain": [
       "<matplotlib.axes._subplots.AxesSubplot at 0x11bc8ed50>"
      ]
     },
     "execution_count": 14,
     "metadata": {},
     "output_type": "execute_result"
    },
    {
     "data": {
      "image/png": "[encoded data removed]",
      "text/plain": [
       "<Figure size 720x360 with 1 Axes>"
      ]
     },
     "metadata": {
      "needs_background": "light"
     },
     "output_type": "display_data"
    }
   ],
   "source": [
    "## Representamos nuestra previsión\n",
    "df_alquileres.plot(figsize=(10,5),\n",
    "                  title='¿Cuál es nuestra previsión? \\n')"
   ]
  },
  {
   "cell_type": "markdown",
   "metadata": {},
   "source": [
    "**P: ¿Qué le pasa a mi previsión? ¿Se os ocurre cómo mejorarla?**"
   ]
  },
  {
   "cell_type": "code",
   "execution_count": null,
   "metadata": {},
   "outputs": [],
   "source": []
  },
  {
   "cell_type": "code",
   "execution_count": null,
   "metadata": {},
   "outputs": [],
   "source": []
  },
  {
   "cell_type": "markdown",
   "metadata": {},
   "source": [
    "Como esperábamos nuestra previsión deja mucho que desear, pues no hemos tenido en cuenta que nuestra serie temporal tiene tendencia.\n",
    "\n",
    "Probemos a incorporar la variación del último año a la previsión del modelo 1."
   ]
  },
  {
   "cell_type": "markdown",
   "metadata": {},
   "source": [
    "### 4.2.- Modelo 2\n",
    "\n",
    "Vamos a intentar mejorar nuestra previsión de alquileres, teniendo en cuenta la variación del último año.\n",
    "\n",
    "**Mi previsión de alquileres = Alquileres último año + la variación del último año**"
   ]
  },
  {
   "cell_type": "code",
   "execution_count": 15,
   "metadata": {},
   "outputs": [
    {
     "data": {
      "text/html": [
       "<div>\n",
       "<style scoped>\n",
       "    .dataframe tbody tr th:only-of-type {\n",
       "        vertical-align: middle;\n",
       "    }\n",
       "\n",
       "    .dataframe tbody tr th {\n",
       "        vertical-align: top;\n",
       "    }\n",
       "\n",
       "    .dataframe thead th {\n",
       "        text-align: right;\n",
       "    }\n",
       "</style>\n",
       "<table border=\"1\" class=\"dataframe\">\n",
       "  <thead>\n",
       "    <tr style=\"text-align: right;\">\n",
       "      <th></th>\n",
       "      <th>cnt</th>\n",
       "      <th>prevision_M1</th>\n",
       "      <th>cnt_shift</th>\n",
       "      <th>var AA</th>\n",
       "      <th>prevision_M2</th>\n",
       "    </tr>\n",
       "  </thead>\n",
       "  <tbody>\n",
       "    <tr>\n",
       "      <th>2011-12-31</th>\n",
       "      <td>1,243,103.0</td>\n",
       "      <td>nan</td>\n",
       "      <td>nan</td>\n",
       "      <td>nan</td>\n",
       "      <td>nan</td>\n",
       "    </tr>\n",
       "    <tr>\n",
       "      <th>2012-12-31</th>\n",
       "      <td>2,049,576.0</td>\n",
       "      <td>nan</td>\n",
       "      <td>1,243,103.0</td>\n",
       "      <td>806,473.0</td>\n",
       "      <td>nan</td>\n",
       "    </tr>\n",
       "    <tr>\n",
       "      <th>2013-12-31</th>\n",
       "      <td>2,878,325.0</td>\n",
       "      <td>nan</td>\n",
       "      <td>2,049,576.0</td>\n",
       "      <td>828,749.0</td>\n",
       "      <td>nan</td>\n",
       "    </tr>\n",
       "    <tr>\n",
       "      <th>2014-12-31</th>\n",
       "      <td>3,654,785.0</td>\n",
       "      <td>nan</td>\n",
       "      <td>2,878,325.0</td>\n",
       "      <td>776,460.0</td>\n",
       "      <td>nan</td>\n",
       "    </tr>\n",
       "    <tr>\n",
       "      <th>2015-12-31</th>\n",
       "      <td>4,445,789.0</td>\n",
       "      <td>nan</td>\n",
       "      <td>3,654,785.0</td>\n",
       "      <td>791,004.0</td>\n",
       "      <td>nan</td>\n",
       "    </tr>\n",
       "    <tr>\n",
       "      <th>2016-12-31</th>\n",
       "      <td>5,274,912.0</td>\n",
       "      <td>nan</td>\n",
       "      <td>4,445,789.0</td>\n",
       "      <td>829,123.0</td>\n",
       "      <td>nan</td>\n",
       "    </tr>\n",
       "    <tr>\n",
       "      <th>2017-12-31</th>\n",
       "      <td>6,081,273.0</td>\n",
       "      <td>6,081,273.0</td>\n",
       "      <td>5,274,912.0</td>\n",
       "      <td>806,361.0</td>\n",
       "      <td>6,081,273.0</td>\n",
       "    </tr>\n",
       "    <tr>\n",
       "      <th>2018-12-31</th>\n",
       "      <td>nan</td>\n",
       "      <td>6,081,273.0</td>\n",
       "      <td>6,081,273.0</td>\n",
       "      <td>nan</td>\n",
       "      <td>nan</td>\n",
       "    </tr>\n",
       "    <tr>\n",
       "      <th>2019-12-31</th>\n",
       "      <td>nan</td>\n",
       "      <td>6,081,273.0</td>\n",
       "      <td>nan</td>\n",
       "      <td>nan</td>\n",
       "      <td>nan</td>\n",
       "    </tr>\n",
       "  </tbody>\n",
       "</table>\n",
       "</div>"
      ],
      "text/plain": [
       "                   cnt  prevision_M1   cnt_shift    var AA  prevision_M2\n",
       "2011-12-31 1,243,103.0           nan         nan       nan           nan\n",
       "2012-12-31 2,049,576.0           nan 1,243,103.0 806,473.0           nan\n",
       "2013-12-31 2,878,325.0           nan 2,049,576.0 828,749.0           nan\n",
       "2014-12-31 3,654,785.0           nan 2,878,325.0 776,460.0           nan\n",
       "2015-12-31 4,445,789.0           nan 3,654,785.0 791,004.0           nan\n",
       "2016-12-31 5,274,912.0           nan 4,445,789.0 829,123.0           nan\n",
       "2017-12-31 6,081,273.0   6,081,273.0 5,274,912.0 806,361.0   6,081,273.0\n",
       "2018-12-31         nan   6,081,273.0 6,081,273.0       nan           nan\n",
       "2019-12-31         nan   6,081,273.0         nan       nan           nan"
      ]
     },
     "execution_count": 15,
     "metadata": {},
     "output_type": "execute_result"
    }
   ],
   "source": [
    "## Hacemos un desplazamiento de nuestra variable para calcular esa variación\n",
    "df_alquileres['cnt_shift'] = df_alquileres['cnt'].shift(1)\n",
    "df_alquileres['var AA'] = df_alquileres['cnt'] - df_alquileres['cnt_shift']\n",
    "## Creamos un campo para nuestra previsión y lo rellenamos con Nan\n",
    "df_alquileres['prevision_M2']=np.nan\n",
    "## Igualamos el último valor al registro correspondiente de la nueva variable (para que se vea mejor la representación)\n",
    "df_alquileres['prevision_M2'][-3] = df_alquileres['cnt'][-3]\n",
    "df_alquileres"
   ]
  },
  {
   "cell_type": "code",
   "execution_count": 16,
   "metadata": {},
   "outputs": [
    {
     "data": {
      "text/html": [
       "<div>\n",
       "<style scoped>\n",
       "    .dataframe tbody tr th:only-of-type {\n",
       "        vertical-align: middle;\n",
       "    }\n",
       "\n",
       "    .dataframe tbody tr th {\n",
       "        vertical-align: top;\n",
       "    }\n",
       "\n",
       "    .dataframe thead th {\n",
       "        text-align: right;\n",
       "    }\n",
       "</style>\n",
       "<table border=\"1\" class=\"dataframe\">\n",
       "  <thead>\n",
       "    <tr style=\"text-align: right;\">\n",
       "      <th></th>\n",
       "      <th>cnt</th>\n",
       "      <th>prevision_M1</th>\n",
       "      <th>cnt_shift</th>\n",
       "      <th>var AA</th>\n",
       "      <th>prevision_M2</th>\n",
       "    </tr>\n",
       "  </thead>\n",
       "  <tbody>\n",
       "    <tr>\n",
       "      <th>2011-12-31</th>\n",
       "      <td>1,243,103.0</td>\n",
       "      <td>nan</td>\n",
       "      <td>nan</td>\n",
       "      <td>nan</td>\n",
       "      <td>nan</td>\n",
       "    </tr>\n",
       "    <tr>\n",
       "      <th>2012-12-31</th>\n",
       "      <td>2,049,576.0</td>\n",
       "      <td>nan</td>\n",
       "      <td>1,243,103.0</td>\n",
       "      <td>806,473.0</td>\n",
       "      <td>nan</td>\n",
       "    </tr>\n",
       "    <tr>\n",
       "      <th>2013-12-31</th>\n",
       "      <td>2,878,325.0</td>\n",
       "      <td>nan</td>\n",
       "      <td>2,049,576.0</td>\n",
       "      <td>828,749.0</td>\n",
       "      <td>nan</td>\n",
       "    </tr>\n",
       "    <tr>\n",
       "      <th>2014-12-31</th>\n",
       "      <td>3,654,785.0</td>\n",
       "      <td>nan</td>\n",
       "      <td>2,878,325.0</td>\n",
       "      <td>776,460.0</td>\n",
       "      <td>nan</td>\n",
       "    </tr>\n",
       "    <tr>\n",
       "      <th>2015-12-31</th>\n",
       "      <td>4,445,789.0</td>\n",
       "      <td>nan</td>\n",
       "      <td>3,654,785.0</td>\n",
       "      <td>791,004.0</td>\n",
       "      <td>nan</td>\n",
       "    </tr>\n",
       "    <tr>\n",
       "      <th>2016-12-31</th>\n",
       "      <td>5,274,912.0</td>\n",
       "      <td>nan</td>\n",
       "      <td>4,445,789.0</td>\n",
       "      <td>829,123.0</td>\n",
       "      <td>nan</td>\n",
       "    </tr>\n",
       "    <tr>\n",
       "      <th>2017-12-31</th>\n",
       "      <td>6,081,273.0</td>\n",
       "      <td>6,081,273.0</td>\n",
       "      <td>5,274,912.0</td>\n",
       "      <td>806,361.0</td>\n",
       "      <td>6,081,273.0</td>\n",
       "    </tr>\n",
       "    <tr>\n",
       "      <th>2018-12-31</th>\n",
       "      <td>nan</td>\n",
       "      <td>6,081,273.0</td>\n",
       "      <td>6,081,273.0</td>\n",
       "      <td>806,361.0</td>\n",
       "      <td>6,887,634.0</td>\n",
       "    </tr>\n",
       "    <tr>\n",
       "      <th>2019-12-31</th>\n",
       "      <td>nan</td>\n",
       "      <td>6,081,273.0</td>\n",
       "      <td>nan</td>\n",
       "      <td>806,361.0</td>\n",
       "      <td>7,693,995.0</td>\n",
       "    </tr>\n",
       "  </tbody>\n",
       "</table>\n",
       "</div>"
      ],
      "text/plain": [
       "                   cnt  prevision_M1   cnt_shift    var AA  prevision_M2\n",
       "2011-12-31 1,243,103.0           nan         nan       nan           nan\n",
       "2012-12-31 2,049,576.0           nan 1,243,103.0 806,473.0           nan\n",
       "2013-12-31 2,878,325.0           nan 2,049,576.0 828,749.0           nan\n",
       "2014-12-31 3,654,785.0           nan 2,878,325.0 776,460.0           nan\n",
       "2015-12-31 4,445,789.0           nan 3,654,785.0 791,004.0           nan\n",
       "2016-12-31 5,274,912.0           nan 4,445,789.0 829,123.0           nan\n",
       "2017-12-31 6,081,273.0   6,081,273.0 5,274,912.0 806,361.0   6,081,273.0\n",
       "2018-12-31         nan   6,081,273.0 6,081,273.0 806,361.0   6,887,634.0\n",
       "2019-12-31         nan   6,081,273.0         nan 806,361.0   7,693,995.0"
      ]
     },
     "execution_count": 16,
     "metadata": {},
     "output_type": "execute_result"
    }
   ],
   "source": [
    "## Rellenamos la variable con la variación, replicando el último valor hasta el final\n",
    "## ffill: propagate last valid observation forward to next valid backfill\n",
    "df_alquileres['var AA']=df_alquileres['var AA'].fillna(method='ffill')\n",
    "## Sumamos el acumulado de esa variación a la previsión que tenemos del modelo 1\n",
    "df_alquileres['prevision_M2'][-2:] = df_alquileres['var AA'][-2:].cumsum() +\\\n",
    "                                     df_alquileres['prevision_M1'][-2:]\n",
    "df_alquileres"
   ]
  },
  {
   "cell_type": "code",
   "execution_count": 17,
   "metadata": {},
   "outputs": [
    {
     "data": {
      "text/plain": [
       "<matplotlib.axes._subplots.AxesSubplot at 0x11bfe6b90>"
      ]
     },
     "execution_count": 17,
     "metadata": {},
     "output_type": "execute_result"
    },
    {
     "data": {
      "image/png": "[encoded data removed]",
      "text/plain": [
       "<Figure size 720x360 with 1 Axes>"
      ]
     },
     "metadata": {
      "needs_background": "light"
     },
     "output_type": "display_data"
    }
   ],
   "source": [
    "## Representamos nuestra previsión\n",
    "df_alquileres.loc[:,['cnt','prevision_M1','prevision_M2']].plot(figsize=(10,5),\n",
    "                  title='¿Cuál es nuestra previsión? \\n')"
   ]
  },
  {
   "cell_type": "markdown",
   "metadata": {},
   "source": [
    "**P: ¿Si comparamos las previsiones del M1 y el M2 en qué se diferencian?**"
   ]
  },
  {
   "cell_type": "code",
   "execution_count": null,
   "metadata": {},
   "outputs": [],
   "source": []
  },
  {
   "cell_type": "code",
   "execution_count": null,
   "metadata": {},
   "outputs": [],
   "source": []
  },
  {
   "cell_type": "markdown",
   "metadata": {},
   "source": [
    "Hemos mejorado considerablemente la previsión al incluir el efecto tendencia de la serie."
   ]
  },
  {
   "cell_type": "markdown",
   "metadata": {},
   "source": [
    "### 4.3.- Modelo 3\n",
    "\n",
    "**Mi previsión de alquileres = Media de TODOS los alquileres**"
   ]
  },
  {
   "cell_type": "code",
   "execution_count": 18,
   "metadata": {},
   "outputs": [
    {
     "data": {
      "text/html": [
       "<div>\n",
       "<style scoped>\n",
       "    .dataframe tbody tr th:only-of-type {\n",
       "        vertical-align: middle;\n",
       "    }\n",
       "\n",
       "    .dataframe tbody tr th {\n",
       "        vertical-align: top;\n",
       "    }\n",
       "\n",
       "    .dataframe thead th {\n",
       "        text-align: right;\n",
       "    }\n",
       "</style>\n",
       "<table border=\"1\" class=\"dataframe\">\n",
       "  <thead>\n",
       "    <tr style=\"text-align: right;\">\n",
       "      <th></th>\n",
       "      <th>cnt</th>\n",
       "      <th>prevision_M1</th>\n",
       "      <th>cnt_shift</th>\n",
       "      <th>var AA</th>\n",
       "      <th>prevision_M2</th>\n",
       "      <th>prevision_M3</th>\n",
       "    </tr>\n",
       "  </thead>\n",
       "  <tbody>\n",
       "    <tr>\n",
       "      <th>2011-12-31</th>\n",
       "      <td>1,243,103.0</td>\n",
       "      <td>nan</td>\n",
       "      <td>nan</td>\n",
       "      <td>nan</td>\n",
       "      <td>nan</td>\n",
       "      <td>nan</td>\n",
       "    </tr>\n",
       "    <tr>\n",
       "      <th>2012-12-31</th>\n",
       "      <td>2,049,576.0</td>\n",
       "      <td>nan</td>\n",
       "      <td>1,243,103.0</td>\n",
       "      <td>806,473.0</td>\n",
       "      <td>nan</td>\n",
       "      <td>nan</td>\n",
       "    </tr>\n",
       "    <tr>\n",
       "      <th>2013-12-31</th>\n",
       "      <td>2,878,325.0</td>\n",
       "      <td>nan</td>\n",
       "      <td>2,049,576.0</td>\n",
       "      <td>828,749.0</td>\n",
       "      <td>nan</td>\n",
       "      <td>nan</td>\n",
       "    </tr>\n",
       "    <tr>\n",
       "      <th>2014-12-31</th>\n",
       "      <td>3,654,785.0</td>\n",
       "      <td>nan</td>\n",
       "      <td>2,878,325.0</td>\n",
       "      <td>776,460.0</td>\n",
       "      <td>nan</td>\n",
       "      <td>nan</td>\n",
       "    </tr>\n",
       "    <tr>\n",
       "      <th>2015-12-31</th>\n",
       "      <td>4,445,789.0</td>\n",
       "      <td>nan</td>\n",
       "      <td>3,654,785.0</td>\n",
       "      <td>791,004.0</td>\n",
       "      <td>nan</td>\n",
       "      <td>nan</td>\n",
       "    </tr>\n",
       "    <tr>\n",
       "      <th>2016-12-31</th>\n",
       "      <td>5,274,912.0</td>\n",
       "      <td>nan</td>\n",
       "      <td>4,445,789.0</td>\n",
       "      <td>829,123.0</td>\n",
       "      <td>nan</td>\n",
       "      <td>nan</td>\n",
       "    </tr>\n",
       "    <tr>\n",
       "      <th>2017-12-31</th>\n",
       "      <td>6,081,273.0</td>\n",
       "      <td>6,081,273.0</td>\n",
       "      <td>5,274,912.0</td>\n",
       "      <td>806,361.0</td>\n",
       "      <td>6,081,273.0</td>\n",
       "      <td>6,081,273.0</td>\n",
       "    </tr>\n",
       "    <tr>\n",
       "      <th>2018-12-31</th>\n",
       "      <td>nan</td>\n",
       "      <td>6,081,273.0</td>\n",
       "      <td>6,081,273.0</td>\n",
       "      <td>806,361.0</td>\n",
       "      <td>6,887,634.0</td>\n",
       "      <td>3,661,109.0</td>\n",
       "    </tr>\n",
       "    <tr>\n",
       "      <th>2019-12-31</th>\n",
       "      <td>nan</td>\n",
       "      <td>6,081,273.0</td>\n",
       "      <td>nan</td>\n",
       "      <td>806,361.0</td>\n",
       "      <td>7,693,995.0</td>\n",
       "      <td>3,661,109.0</td>\n",
       "    </tr>\n",
       "  </tbody>\n",
       "</table>\n",
       "</div>"
      ],
      "text/plain": [
       "                   cnt  prevision_M1   cnt_shift    var AA  prevision_M2  \\\n",
       "2011-12-31 1,243,103.0           nan         nan       nan           nan   \n",
       "2012-12-31 2,049,576.0           nan 1,243,103.0 806,473.0           nan   \n",
       "2013-12-31 2,878,325.0           nan 2,049,576.0 828,749.0           nan   \n",
       "2014-12-31 3,654,785.0           nan 2,878,325.0 776,460.0           nan   \n",
       "2015-12-31 4,445,789.0           nan 3,654,785.0 791,004.0           nan   \n",
       "2016-12-31 5,274,912.0           nan 4,445,789.0 829,123.0           nan   \n",
       "2017-12-31 6,081,273.0   6,081,273.0 5,274,912.0 806,361.0   6,081,273.0   \n",
       "2018-12-31         nan   6,081,273.0 6,081,273.0 806,361.0   6,887,634.0   \n",
       "2019-12-31         nan   6,081,273.0         nan 806,361.0   7,693,995.0   \n",
       "\n",
       "            prevision_M3  \n",
       "2011-12-31           nan  \n",
       "2012-12-31           nan  \n",
       "2013-12-31           nan  \n",
       "2014-12-31           nan  \n",
       "2015-12-31           nan  \n",
       "2016-12-31           nan  \n",
       "2017-12-31   6,081,273.0  \n",
       "2018-12-31   3,661,109.0  \n",
       "2019-12-31   3,661,109.0  "
      ]
     },
     "execution_count": 18,
     "metadata": {},
     "output_type": "execute_result"
    }
   ],
   "source": [
    "## Creamos un campo para nuestra previsión y lo rellenamos con Nan\n",
    "df_alquileres['prevision_M3'] = np.nan\n",
    "## Igualamos el último valor al registro correspondiente de la nueva variable (para que se vea mejor la representación)\n",
    "df_alquileres['prevision_M3'][-3] = df_alquileres['cnt'][-3]\n",
    "## Igualamos los dos últimos años en los que vamos a hacer la previsión con la media de todos los alquileres\n",
    "df_alquileres['prevision_M3'][-2:] = df_alquileres['cnt'].mean()\n",
    "df_alquileres"
   ]
  },
  {
   "cell_type": "code",
   "execution_count": 19,
   "metadata": {},
   "outputs": [
    {
     "data": {
      "text/plain": [
       "<matplotlib.axes._subplots.AxesSubplot at 0x11adb8e90>"
      ]
     },
     "execution_count": 19,
     "metadata": {},
     "output_type": "execute_result"
    },
    {
     "data": {
      "image/png": "[encoded data removed]",
      "text/plain": [
       "<Figure size 720x360 with 1 Axes>"
      ]
     },
     "metadata": {
      "needs_background": "light"
     },
     "output_type": "display_data"
    }
   ],
   "source": [
    "## Representamos nuestra previsión\n",
    "df_alquileres.loc[:,['cnt','prevision_M1','prevision_M2','prevision_M3']].plot(figsize=(10,5),\n",
    "                  title='¿Cuál es nuestra previsión? \\n')"
   ]
  },
  {
   "cell_type": "markdown",
   "metadata": {},
   "source": [
    "**P: ¿Qué le ha pasado ahora a mi prevision_M3?**"
   ]
  },
  {
   "cell_type": "code",
   "execution_count": null,
   "metadata": {},
   "outputs": [],
   "source": []
  },
  {
   "cell_type": "code",
   "execution_count": null,
   "metadata": {},
   "outputs": [],
   "source": []
  },
  {
   "cell_type": "markdown",
   "metadata": {},
   "source": [
    "**P: ¿Cómo podría mejorar mi previsión del M3?**"
   ]
  },
  {
   "cell_type": "code",
   "execution_count": null,
   "metadata": {},
   "outputs": [],
   "source": []
  },
  {
   "cell_type": "code",
   "execution_count": null,
   "metadata": {},
   "outputs": [],
   "source": []
  },
  {
   "cell_type": "markdown",
   "metadata": {},
   "source": [
    "Si el modelo tiene tendencia, no podemos aplicar medias, ya que como vemos, es la peor previsión que podemos tomar."
   ]
  },
  {
   "cell_type": "markdown",
   "metadata": {},
   "source": [
    "### 4.4.- Modelo 3 mejorado"
   ]
  },
  {
   "cell_type": "markdown",
   "metadata": {},
   "source": [
    "Para mejorar nuestra previsión, vamos a **eliminar la componente principal de la serie (la tendencia)** y a realizar la predicción sobre la componente aleatoria."
   ]
  },
  {
   "cell_type": "code",
   "execution_count": 20,
   "metadata": {},
   "outputs": [
    {
     "data": {
      "text/html": [
       "<div>\n",
       "<style scoped>\n",
       "    .dataframe tbody tr th:only-of-type {\n",
       "        vertical-align: middle;\n",
       "    }\n",
       "\n",
       "    .dataframe tbody tr th {\n",
       "        vertical-align: top;\n",
       "    }\n",
       "\n",
       "    .dataframe thead th {\n",
       "        text-align: right;\n",
       "    }\n",
       "</style>\n",
       "<table border=\"1\" class=\"dataframe\">\n",
       "  <thead>\n",
       "    <tr style=\"text-align: right;\">\n",
       "      <th></th>\n",
       "      <th>cnt</th>\n",
       "      <th>prevision_M1</th>\n",
       "      <th>cnt_shift</th>\n",
       "      <th>var AA</th>\n",
       "      <th>prevision_M2</th>\n",
       "      <th>prevision_M3</th>\n",
       "      <th>cnt_sin_tend</th>\n",
       "    </tr>\n",
       "  </thead>\n",
       "  <tbody>\n",
       "    <tr>\n",
       "      <th>2011-12-31</th>\n",
       "      <td>1,243,103.0</td>\n",
       "      <td>nan</td>\n",
       "      <td>nan</td>\n",
       "      <td>nan</td>\n",
       "      <td>nan</td>\n",
       "      <td>nan</td>\n",
       "      <td>nan</td>\n",
       "    </tr>\n",
       "    <tr>\n",
       "      <th>2012-12-31</th>\n",
       "      <td>2,049,576.0</td>\n",
       "      <td>nan</td>\n",
       "      <td>1,243,103.0</td>\n",
       "      <td>806,473.0</td>\n",
       "      <td>nan</td>\n",
       "      <td>nan</td>\n",
       "      <td>806,473.0</td>\n",
       "    </tr>\n",
       "    <tr>\n",
       "      <th>2013-12-31</th>\n",
       "      <td>2,878,325.0</td>\n",
       "      <td>nan</td>\n",
       "      <td>2,049,576.0</td>\n",
       "      <td>828,749.0</td>\n",
       "      <td>nan</td>\n",
       "      <td>nan</td>\n",
       "      <td>828,749.0</td>\n",
       "    </tr>\n",
       "    <tr>\n",
       "      <th>2014-12-31</th>\n",
       "      <td>3,654,785.0</td>\n",
       "      <td>nan</td>\n",
       "      <td>2,878,325.0</td>\n",
       "      <td>776,460.0</td>\n",
       "      <td>nan</td>\n",
       "      <td>nan</td>\n",
       "      <td>776,460.0</td>\n",
       "    </tr>\n",
       "    <tr>\n",
       "      <th>2015-12-31</th>\n",
       "      <td>4,445,789.0</td>\n",
       "      <td>nan</td>\n",
       "      <td>3,654,785.0</td>\n",
       "      <td>791,004.0</td>\n",
       "      <td>nan</td>\n",
       "      <td>nan</td>\n",
       "      <td>791,004.0</td>\n",
       "    </tr>\n",
       "    <tr>\n",
       "      <th>2016-12-31</th>\n",
       "      <td>5,274,912.0</td>\n",
       "      <td>nan</td>\n",
       "      <td>4,445,789.0</td>\n",
       "      <td>829,123.0</td>\n",
       "      <td>nan</td>\n",
       "      <td>nan</td>\n",
       "      <td>829,123.0</td>\n",
       "    </tr>\n",
       "    <tr>\n",
       "      <th>2017-12-31</th>\n",
       "      <td>6,081,273.0</td>\n",
       "      <td>6,081,273.0</td>\n",
       "      <td>5,274,912.0</td>\n",
       "      <td>806,361.0</td>\n",
       "      <td>6,081,273.0</td>\n",
       "      <td>6,081,273.0</td>\n",
       "      <td>806,361.0</td>\n",
       "    </tr>\n",
       "    <tr>\n",
       "      <th>2018-12-31</th>\n",
       "      <td>nan</td>\n",
       "      <td>6,081,273.0</td>\n",
       "      <td>6,081,273.0</td>\n",
       "      <td>806,361.0</td>\n",
       "      <td>6,887,634.0</td>\n",
       "      <td>3,661,109.0</td>\n",
       "      <td>nan</td>\n",
       "    </tr>\n",
       "    <tr>\n",
       "      <th>2019-12-31</th>\n",
       "      <td>nan</td>\n",
       "      <td>6,081,273.0</td>\n",
       "      <td>nan</td>\n",
       "      <td>806,361.0</td>\n",
       "      <td>7,693,995.0</td>\n",
       "      <td>3,661,109.0</td>\n",
       "      <td>nan</td>\n",
       "    </tr>\n",
       "  </tbody>\n",
       "</table>\n",
       "</div>"
      ],
      "text/plain": [
       "                   cnt  prevision_M1   cnt_shift    var AA  prevision_M2  \\\n",
       "2011-12-31 1,243,103.0           nan         nan       nan           nan   \n",
       "2012-12-31 2,049,576.0           nan 1,243,103.0 806,473.0           nan   \n",
       "2013-12-31 2,878,325.0           nan 2,049,576.0 828,749.0           nan   \n",
       "2014-12-31 3,654,785.0           nan 2,878,325.0 776,460.0           nan   \n",
       "2015-12-31 4,445,789.0           nan 3,654,785.0 791,004.0           nan   \n",
       "2016-12-31 5,274,912.0           nan 4,445,789.0 829,123.0           nan   \n",
       "2017-12-31 6,081,273.0   6,081,273.0 5,274,912.0 806,361.0   6,081,273.0   \n",
       "2018-12-31         nan   6,081,273.0 6,081,273.0 806,361.0   6,887,634.0   \n",
       "2019-12-31         nan   6,081,273.0         nan 806,361.0   7,693,995.0   \n",
       "\n",
       "            prevision_M3  cnt_sin_tend  \n",
       "2011-12-31           nan           nan  \n",
       "2012-12-31           nan     806,473.0  \n",
       "2013-12-31           nan     828,749.0  \n",
       "2014-12-31           nan     776,460.0  \n",
       "2015-12-31           nan     791,004.0  \n",
       "2016-12-31           nan     829,123.0  \n",
       "2017-12-31   6,081,273.0     806,361.0  \n",
       "2018-12-31   3,661,109.0           nan  \n",
       "2019-12-31   3,661,109.0           nan  "
      ]
     },
     "execution_count": 20,
     "metadata": {},
     "output_type": "execute_result"
    }
   ],
   "source": [
    "## Eliminamos la tendencia\n",
    "df_alquileres['cnt_sin_tend'] = df_alquileres['cnt'] - df_alquileres['cnt'].shift(1)\n",
    "df_alquileres"
   ]
  },
  {
   "cell_type": "code",
   "execution_count": 21,
   "metadata": {},
   "outputs": [
    {
     "data": {
      "text/plain": [
       "<matplotlib.axes._subplots.AxesSubplot at 0x11c1d8fd0>"
      ]
     },
     "execution_count": 21,
     "metadata": {},
     "output_type": "execute_result"
    },
    {
     "data": {
      "image/png": "[encoded data removed]",
      "text/plain": [
       "<Figure size 720x360 with 1 Axes>"
      ]
     },
     "metadata": {
      "needs_background": "light"
     },
     "output_type": "display_data"
    }
   ],
   "source": [
    "## Representamos nuestra serie\n",
    "df_alquileres.loc[:,['cnt','cnt_sin_tend']].plot(figsize=(10,5),\n",
    "                  title='¿Cuál es nuestra componente aleatoria? \\n')"
   ]
  },
  {
   "cell_type": "code",
   "execution_count": 22,
   "metadata": {},
   "outputs": [
    {
     "name": "stderr",
     "output_type": "stream",
     "text": [
      "/opt/anaconda3/lib/python3.7/site-packages/pandas/plotting/_matplotlib/tools.py:298: MatplotlibDeprecationWarning: \n",
      "The rowNum attribute was deprecated in Matplotlib 3.2 and will be removed two minor releases later. Use ax.get_subplotspec().rowspan.start instead.\n",
      "  layout[ax.rowNum, ax.colNum] = ax.get_visible()\n",
      "/opt/anaconda3/lib/python3.7/site-packages/pandas/plotting/_matplotlib/tools.py:298: MatplotlibDeprecationWarning: \n",
      "The colNum attribute was deprecated in Matplotlib 3.2 and will be removed two minor releases later. Use ax.get_subplotspec().colspan.start instead.\n",
      "  layout[ax.rowNum, ax.colNum] = ax.get_visible()\n",
      "/opt/anaconda3/lib/python3.7/site-packages/pandas/plotting/_matplotlib/tools.py:304: MatplotlibDeprecationWarning: \n",
      "The rowNum attribute was deprecated in Matplotlib 3.2 and will be removed two minor releases later. Use ax.get_subplotspec().rowspan.start instead.\n",
      "  if not layout[ax.rowNum + 1, ax.colNum]:\n",
      "/opt/anaconda3/lib/python3.7/site-packages/pandas/plotting/_matplotlib/tools.py:304: MatplotlibDeprecationWarning: \n",
      "The colNum attribute was deprecated in Matplotlib 3.2 and will be removed two minor releases later. Use ax.get_subplotspec().colspan.start instead.\n",
      "  if not layout[ax.rowNum + 1, ax.colNum]:\n",
      "/opt/anaconda3/lib/python3.7/site-packages/pandas/plotting/_matplotlib/tools.py:298: MatplotlibDeprecationWarning: \n",
      "The rowNum attribute was deprecated in Matplotlib 3.2 and will be removed two minor releases later. Use ax.get_subplotspec().rowspan.start instead.\n",
      "  layout[ax.rowNum, ax.colNum] = ax.get_visible()\n",
      "/opt/anaconda3/lib/python3.7/site-packages/pandas/plotting/_matplotlib/tools.py:298: MatplotlibDeprecationWarning: \n",
      "The colNum attribute was deprecated in Matplotlib 3.2 and will be removed two minor releases later. Use ax.get_subplotspec().colspan.start instead.\n",
      "  layout[ax.rowNum, ax.colNum] = ax.get_visible()\n",
      "/opt/anaconda3/lib/python3.7/site-packages/pandas/plotting/_matplotlib/tools.py:304: MatplotlibDeprecationWarning: \n",
      "The rowNum attribute was deprecated in Matplotlib 3.2 and will be removed two minor releases later. Use ax.get_subplotspec().rowspan.start instead.\n",
      "  if not layout[ax.rowNum + 1, ax.colNum]:\n",
      "/opt/anaconda3/lib/python3.7/site-packages/pandas/plotting/_matplotlib/tools.py:304: MatplotlibDeprecationWarning: \n",
      "The colNum attribute was deprecated in Matplotlib 3.2 and will be removed two minor releases later. Use ax.get_subplotspec().colspan.start instead.\n",
      "  if not layout[ax.rowNum + 1, ax.colNum]:\n"
     ]
    },
    {
     "data": {
      "text/plain": [
       "array([<matplotlib.axes._subplots.AxesSubplot object at 0x11c31f2d0>,\n",
       "       <matplotlib.axes._subplots.AxesSubplot object at 0x11c32b850>],\n",
       "      dtype=object)"
      ]
     },
     "execution_count": 22,
     "metadata": {},
     "output_type": "execute_result"
    },
    {
     "data": {
      "image/png": "[encoded data removed]",
      "text/plain": [
       "<Figure size 720x360 with 2 Axes>"
      ]
     },
     "metadata": {
      "needs_background": "light"
     },
     "output_type": "display_data"
    }
   ],
   "source": [
    "## Si la representamos en dos gráficos independientes, para que no nos engañen los rangos de las magnitudes\n",
    "df_alquileres.loc[:,['cnt','cnt_sin_tend']].plot(figsize = (10,5),\n",
    "                                                 subplots = True,\n",
    "                                                 title = ['¿Cómo evoluciona el alquiler de bicicletas?',\n",
    "                                                          '¿Cuál es nuestra componente aleatoria?'])"
   ]
  },
  {
   "cell_type": "markdown",
   "metadata": {},
   "source": [
    "Aplicamos nuestro modelo 3 (Previsión de Alquileres = Media de Todos los alquileres) a la serie sin tendencia."
   ]
  },
  {
   "cell_type": "code",
   "execution_count": 23,
   "metadata": {},
   "outputs": [
    {
     "data": {
      "text/html": [
       "<div>\n",
       "<style scoped>\n",
       "    .dataframe tbody tr th:only-of-type {\n",
       "        vertical-align: middle;\n",
       "    }\n",
       "\n",
       "    .dataframe tbody tr th {\n",
       "        vertical-align: top;\n",
       "    }\n",
       "\n",
       "    .dataframe thead th {\n",
       "        text-align: right;\n",
       "    }\n",
       "</style>\n",
       "<table border=\"1\" class=\"dataframe\">\n",
       "  <thead>\n",
       "    <tr style=\"text-align: right;\">\n",
       "      <th></th>\n",
       "      <th>cnt</th>\n",
       "      <th>prevision_M1</th>\n",
       "      <th>cnt_shift</th>\n",
       "      <th>var AA</th>\n",
       "      <th>prevision_M2</th>\n",
       "      <th>prevision_M3</th>\n",
       "      <th>cnt_sin_tend</th>\n",
       "      <th>prevision_M3_st</th>\n",
       "    </tr>\n",
       "  </thead>\n",
       "  <tbody>\n",
       "    <tr>\n",
       "      <th>2011-12-31</th>\n",
       "      <td>1,243,103.0</td>\n",
       "      <td>nan</td>\n",
       "      <td>nan</td>\n",
       "      <td>nan</td>\n",
       "      <td>nan</td>\n",
       "      <td>nan</td>\n",
       "      <td>nan</td>\n",
       "      <td>nan</td>\n",
       "    </tr>\n",
       "    <tr>\n",
       "      <th>2012-12-31</th>\n",
       "      <td>2,049,576.0</td>\n",
       "      <td>nan</td>\n",
       "      <td>1,243,103.0</td>\n",
       "      <td>806,473.0</td>\n",
       "      <td>nan</td>\n",
       "      <td>nan</td>\n",
       "      <td>806,473.0</td>\n",
       "      <td>nan</td>\n",
       "    </tr>\n",
       "    <tr>\n",
       "      <th>2013-12-31</th>\n",
       "      <td>2,878,325.0</td>\n",
       "      <td>nan</td>\n",
       "      <td>2,049,576.0</td>\n",
       "      <td>828,749.0</td>\n",
       "      <td>nan</td>\n",
       "      <td>nan</td>\n",
       "      <td>828,749.0</td>\n",
       "      <td>nan</td>\n",
       "    </tr>\n",
       "    <tr>\n",
       "      <th>2014-12-31</th>\n",
       "      <td>3,654,785.0</td>\n",
       "      <td>nan</td>\n",
       "      <td>2,878,325.0</td>\n",
       "      <td>776,460.0</td>\n",
       "      <td>nan</td>\n",
       "      <td>nan</td>\n",
       "      <td>776,460.0</td>\n",
       "      <td>nan</td>\n",
       "    </tr>\n",
       "    <tr>\n",
       "      <th>2015-12-31</th>\n",
       "      <td>4,445,789.0</td>\n",
       "      <td>nan</td>\n",
       "      <td>3,654,785.0</td>\n",
       "      <td>791,004.0</td>\n",
       "      <td>nan</td>\n",
       "      <td>nan</td>\n",
       "      <td>791,004.0</td>\n",
       "      <td>nan</td>\n",
       "    </tr>\n",
       "    <tr>\n",
       "      <th>2016-12-31</th>\n",
       "      <td>5,274,912.0</td>\n",
       "      <td>nan</td>\n",
       "      <td>4,445,789.0</td>\n",
       "      <td>829,123.0</td>\n",
       "      <td>nan</td>\n",
       "      <td>nan</td>\n",
       "      <td>829,123.0</td>\n",
       "      <td>nan</td>\n",
       "    </tr>\n",
       "    <tr>\n",
       "      <th>2017-12-31</th>\n",
       "      <td>6,081,273.0</td>\n",
       "      <td>6,081,273.0</td>\n",
       "      <td>5,274,912.0</td>\n",
       "      <td>806,361.0</td>\n",
       "      <td>6,081,273.0</td>\n",
       "      <td>6,081,273.0</td>\n",
       "      <td>806,361.0</td>\n",
       "      <td>806,361.7</td>\n",
       "    </tr>\n",
       "    <tr>\n",
       "      <th>2018-12-31</th>\n",
       "      <td>nan</td>\n",
       "      <td>6,081,273.0</td>\n",
       "      <td>6,081,273.0</td>\n",
       "      <td>806,361.0</td>\n",
       "      <td>6,887,634.0</td>\n",
       "      <td>3,661,109.0</td>\n",
       "      <td>nan</td>\n",
       "      <td>806,361.7</td>\n",
       "    </tr>\n",
       "    <tr>\n",
       "      <th>2019-12-31</th>\n",
       "      <td>nan</td>\n",
       "      <td>6,081,273.0</td>\n",
       "      <td>nan</td>\n",
       "      <td>806,361.0</td>\n",
       "      <td>7,693,995.0</td>\n",
       "      <td>3,661,109.0</td>\n",
       "      <td>nan</td>\n",
       "      <td>806,361.7</td>\n",
       "    </tr>\n",
       "  </tbody>\n",
       "</table>\n",
       "</div>"
      ],
      "text/plain": [
       "                   cnt  prevision_M1   cnt_shift    var AA  prevision_M2  \\\n",
       "2011-12-31 1,243,103.0           nan         nan       nan           nan   \n",
       "2012-12-31 2,049,576.0           nan 1,243,103.0 806,473.0           nan   \n",
       "2013-12-31 2,878,325.0           nan 2,049,576.0 828,749.0           nan   \n",
       "2014-12-31 3,654,785.0           nan 2,878,325.0 776,460.0           nan   \n",
       "2015-12-31 4,445,789.0           nan 3,654,785.0 791,004.0           nan   \n",
       "2016-12-31 5,274,912.0           nan 4,445,789.0 829,123.0           nan   \n",
       "2017-12-31 6,081,273.0   6,081,273.0 5,274,912.0 806,361.0   6,081,273.0   \n",
       "2018-12-31         nan   6,081,273.0 6,081,273.0 806,361.0   6,887,634.0   \n",
       "2019-12-31         nan   6,081,273.0         nan 806,361.0   7,693,995.0   \n",
       "\n",
       "            prevision_M3  cnt_sin_tend  prevision_M3_st  \n",
       "2011-12-31           nan           nan              nan  \n",
       "2012-12-31           nan     806,473.0              nan  \n",
       "2013-12-31           nan     828,749.0              nan  \n",
       "2014-12-31           nan     776,460.0              nan  \n",
       "2015-12-31           nan     791,004.0              nan  \n",
       "2016-12-31           nan     829,123.0              nan  \n",
       "2017-12-31   6,081,273.0     806,361.0        806,361.7  \n",
       "2018-12-31   3,661,109.0           nan        806,361.7  \n",
       "2019-12-31   3,661,109.0           nan        806,361.7  "
      ]
     },
     "execution_count": 23,
     "metadata": {},
     "output_type": "execute_result"
    }
   ],
   "source": [
    "## Creamos un campo para nuestra previsión y lo rellenamos con Nan\n",
    "df_alquileres['prevision_M3_st']=np.nan\n",
    "## Incluimos como previsión de los dos últimos meses la media de todos los alquileres\n",
    "df_alquileres['prevision_M3_st'][-3:]=df_alquileres['cnt_sin_tend'].mean()\n",
    "df_alquileres"
   ]
  },
  {
   "cell_type": "code",
   "execution_count": 24,
   "metadata": {},
   "outputs": [
    {
     "data": {
      "text/plain": [
       "<matplotlib.axes._subplots.AxesSubplot at 0x11c8dd450>"
      ]
     },
     "execution_count": 24,
     "metadata": {},
     "output_type": "execute_result"
    },
    {
     "data": {
      "image/png": "[encoded data removed]",
      "text/plain": [
       "<Figure size 720x360 with 1 Axes>"
      ]
     },
     "metadata": {
      "needs_background": "light"
     },
     "output_type": "display_data"
    }
   ],
   "source": [
    "## Representamos nuestra previsión\n",
    "df_alquileres.loc[:,['cnt_sin_tend','prevision_M3_st']].plot(figsize=(10,5),\n",
    "                                                title='¿Cuál es nuestra previsión sobre la componente aleatoria? \\n')"
   ]
  },
  {
   "cell_type": "code",
   "execution_count": 25,
   "metadata": {},
   "outputs": [
    {
     "data": {
      "text/plain": [
       "<matplotlib.axes._subplots.AxesSubplot at 0x11c8bdb50>"
      ]
     },
     "execution_count": 25,
     "metadata": {},
     "output_type": "execute_result"
    },
    {
     "data": {
      "image/png": "[encoded data removed]",
      "text/plain": [
       "<Figure size 720x360 with 1 Axes>"
      ]
     },
     "metadata": {
      "needs_background": "light"
     },
     "output_type": "display_data"
    }
   ],
   "source": [
    "## Representamos nuestra previsión\n",
    "df_alquileres.loc[:,['cnt','prevision_M3_st']].plot(figsize=(10,5),\n",
    "                                                   title='¿Cuál es nuestra previsión? \\n')"
   ]
  },
  {
   "cell_type": "markdown",
   "metadata": {},
   "source": [
    "**P: Esta previsión M3_st ¿qué significa? ¿cómo lo puedo convertir en número que se parezca a mis alquileres?**"
   ]
  },
  {
   "cell_type": "code",
   "execution_count": null,
   "metadata": {},
   "outputs": [],
   "source": []
  },
  {
   "cell_type": "code",
   "execution_count": null,
   "metadata": {},
   "outputs": [],
   "source": []
  },
  {
   "cell_type": "markdown",
   "metadata": {},
   "source": [
    "Hemos realizado nuestra previsión sobre la serie sin tendencia, pero no debemos olvidar que tras realizar ese cálculo, debemos volver a **incorporar la tendencia a nuestra previsión**."
   ]
  },
  {
   "cell_type": "code",
   "execution_count": 26,
   "metadata": {},
   "outputs": [
    {
     "data": {
      "text/html": [
       "<div>\n",
       "<style scoped>\n",
       "    .dataframe tbody tr th:only-of-type {\n",
       "        vertical-align: middle;\n",
       "    }\n",
       "\n",
       "    .dataframe tbody tr th {\n",
       "        vertical-align: top;\n",
       "    }\n",
       "\n",
       "    .dataframe thead th {\n",
       "        text-align: right;\n",
       "    }\n",
       "</style>\n",
       "<table border=\"1\" class=\"dataframe\">\n",
       "  <thead>\n",
       "    <tr style=\"text-align: right;\">\n",
       "      <th></th>\n",
       "      <th>cnt</th>\n",
       "      <th>prevision_M1</th>\n",
       "      <th>cnt_shift</th>\n",
       "      <th>var AA</th>\n",
       "      <th>prevision_M2</th>\n",
       "      <th>prevision_M3</th>\n",
       "      <th>cnt_sin_tend</th>\n",
       "      <th>prevision_M3_st</th>\n",
       "      <th>prevision_M3_ct</th>\n",
       "    </tr>\n",
       "  </thead>\n",
       "  <tbody>\n",
       "    <tr>\n",
       "      <th>2011-12-31</th>\n",
       "      <td>1,243,103.0</td>\n",
       "      <td>nan</td>\n",
       "      <td>nan</td>\n",
       "      <td>nan</td>\n",
       "      <td>nan</td>\n",
       "      <td>nan</td>\n",
       "      <td>nan</td>\n",
       "      <td>nan</td>\n",
       "      <td>nan</td>\n",
       "    </tr>\n",
       "    <tr>\n",
       "      <th>2012-12-31</th>\n",
       "      <td>2,049,576.0</td>\n",
       "      <td>nan</td>\n",
       "      <td>1,243,103.0</td>\n",
       "      <td>806,473.0</td>\n",
       "      <td>nan</td>\n",
       "      <td>nan</td>\n",
       "      <td>806,473.0</td>\n",
       "      <td>nan</td>\n",
       "      <td>nan</td>\n",
       "    </tr>\n",
       "    <tr>\n",
       "      <th>2013-12-31</th>\n",
       "      <td>2,878,325.0</td>\n",
       "      <td>nan</td>\n",
       "      <td>2,049,576.0</td>\n",
       "      <td>828,749.0</td>\n",
       "      <td>nan</td>\n",
       "      <td>nan</td>\n",
       "      <td>828,749.0</td>\n",
       "      <td>nan</td>\n",
       "      <td>nan</td>\n",
       "    </tr>\n",
       "    <tr>\n",
       "      <th>2014-12-31</th>\n",
       "      <td>3,654,785.0</td>\n",
       "      <td>nan</td>\n",
       "      <td>2,878,325.0</td>\n",
       "      <td>776,460.0</td>\n",
       "      <td>nan</td>\n",
       "      <td>nan</td>\n",
       "      <td>776,460.0</td>\n",
       "      <td>nan</td>\n",
       "      <td>nan</td>\n",
       "    </tr>\n",
       "    <tr>\n",
       "      <th>2015-12-31</th>\n",
       "      <td>4,445,789.0</td>\n",
       "      <td>nan</td>\n",
       "      <td>3,654,785.0</td>\n",
       "      <td>791,004.0</td>\n",
       "      <td>nan</td>\n",
       "      <td>nan</td>\n",
       "      <td>791,004.0</td>\n",
       "      <td>nan</td>\n",
       "      <td>nan</td>\n",
       "    </tr>\n",
       "    <tr>\n",
       "      <th>2016-12-31</th>\n",
       "      <td>5,274,912.0</td>\n",
       "      <td>nan</td>\n",
       "      <td>4,445,789.0</td>\n",
       "      <td>829,123.0</td>\n",
       "      <td>nan</td>\n",
       "      <td>nan</td>\n",
       "      <td>829,123.0</td>\n",
       "      <td>nan</td>\n",
       "      <td>nan</td>\n",
       "    </tr>\n",
       "    <tr>\n",
       "      <th>2017-12-31</th>\n",
       "      <td>6,081,273.0</td>\n",
       "      <td>6,081,273.0</td>\n",
       "      <td>5,274,912.0</td>\n",
       "      <td>806,361.0</td>\n",
       "      <td>6,081,273.0</td>\n",
       "      <td>6,081,273.0</td>\n",
       "      <td>806,361.0</td>\n",
       "      <td>806,361.7</td>\n",
       "      <td>6,081,273.0</td>\n",
       "    </tr>\n",
       "    <tr>\n",
       "      <th>2018-12-31</th>\n",
       "      <td>nan</td>\n",
       "      <td>6,081,273.0</td>\n",
       "      <td>6,081,273.0</td>\n",
       "      <td>806,361.0</td>\n",
       "      <td>6,887,634.0</td>\n",
       "      <td>3,661,109.0</td>\n",
       "      <td>nan</td>\n",
       "      <td>806,361.7</td>\n",
       "      <td>6,887,634.7</td>\n",
       "    </tr>\n",
       "    <tr>\n",
       "      <th>2019-12-31</th>\n",
       "      <td>nan</td>\n",
       "      <td>6,081,273.0</td>\n",
       "      <td>nan</td>\n",
       "      <td>806,361.0</td>\n",
       "      <td>7,693,995.0</td>\n",
       "      <td>3,661,109.0</td>\n",
       "      <td>nan</td>\n",
       "      <td>806,361.7</td>\n",
       "      <td>7,693,996.3</td>\n",
       "    </tr>\n",
       "  </tbody>\n",
       "</table>\n",
       "</div>"
      ],
      "text/plain": [
       "                   cnt  prevision_M1   cnt_shift    var AA  prevision_M2  \\\n",
       "2011-12-31 1,243,103.0           nan         nan       nan           nan   \n",
       "2012-12-31 2,049,576.0           nan 1,243,103.0 806,473.0           nan   \n",
       "2013-12-31 2,878,325.0           nan 2,049,576.0 828,749.0           nan   \n",
       "2014-12-31 3,654,785.0           nan 2,878,325.0 776,460.0           nan   \n",
       "2015-12-31 4,445,789.0           nan 3,654,785.0 791,004.0           nan   \n",
       "2016-12-31 5,274,912.0           nan 4,445,789.0 829,123.0           nan   \n",
       "2017-12-31 6,081,273.0   6,081,273.0 5,274,912.0 806,361.0   6,081,273.0   \n",
       "2018-12-31         nan   6,081,273.0 6,081,273.0 806,361.0   6,887,634.0   \n",
       "2019-12-31         nan   6,081,273.0         nan 806,361.0   7,693,995.0   \n",
       "\n",
       "            prevision_M3  cnt_sin_tend  prevision_M3_st  prevision_M3_ct  \n",
       "2011-12-31           nan           nan              nan              nan  \n",
       "2012-12-31           nan     806,473.0              nan              nan  \n",
       "2013-12-31           nan     828,749.0              nan              nan  \n",
       "2014-12-31           nan     776,460.0              nan              nan  \n",
       "2015-12-31           nan     791,004.0              nan              nan  \n",
       "2016-12-31           nan     829,123.0              nan              nan  \n",
       "2017-12-31   6,081,273.0     806,361.0        806,361.7      6,081,273.0  \n",
       "2018-12-31   3,661,109.0           nan        806,361.7      6,887,634.7  \n",
       "2019-12-31   3,661,109.0           nan        806,361.7      7,693,996.3  "
      ]
     },
     "execution_count": 26,
     "metadata": {},
     "output_type": "execute_result"
    }
   ],
   "source": [
    "## Creamos un campo para nuestra previsión y lo rellenamos con Nan\n",
    "df_alquileres['prevision_M3_ct'] = np.nan\n",
    "## Sumamos el acumulado de la previsión a nuestra serie con tendencia\n",
    "df_alquileres['prevision_M3_ct'][-3] = df_alquileres['cnt'][-3]\n",
    "df_alquileres['prevision_M3_ct'][-2:] = df_alquileres['prevision_M3_st'][-2:].cumsum()\\\n",
    "                                      + df_alquileres['prevision_M1'][-2:]\n",
    "df_alquileres"
   ]
  },
  {
   "cell_type": "code",
   "execution_count": 27,
   "metadata": {},
   "outputs": [
    {
     "data": {
      "text/plain": [
       "<matplotlib.axes._subplots.AxesSubplot at 0x11be9ec50>"
      ]
     },
     "execution_count": 27,
     "metadata": {},
     "output_type": "execute_result"
    },
    {
     "data": {
      "image/png": "[encoded data removed]",
      "text/plain": [
       "<Figure size 720x360 with 1 Axes>"
      ]
     },
     "metadata": {
      "needs_background": "light"
     },
     "output_type": "display_data"
    }
   ],
   "source": [
    "## Representamos nuestra previsión\n",
    "df_alquileres.loc[:,['cnt','prevision_M3_ct']].plot(figsize=(10,5),\n",
    "                                                     title='¿Cuál es nuestra previsión final? \\n')"
   ]
  },
  {
   "cell_type": "markdown",
   "metadata": {},
   "source": [
    "**P: ¿Cómo podríamos evolucionar el modelo 3 (el de la media)? ¿Se os ocurren otros modelos de previsión?**"
   ]
  },
  {
   "cell_type": "code",
   "execution_count": null,
   "metadata": {},
   "outputs": [],
   "source": []
  },
  {
   "cell_type": "code",
   "execution_count": null,
   "metadata": {},
   "outputs": [],
   "source": []
  },
  {
   "cell_type": "markdown",
   "metadata": {},
   "source": [
    "* Alisados exponenciales\n",
    "* Modelos ARIMA (AR - Autoregresivos , I - diferencias, MA -Medias móviles de los errores, aprender de los errores)"
   ]
  }
 ],
 "metadata": {
  "anaconda-cloud": {},
  "kernelspec": {
   "display_name": "Python 3",
   "language": "python",
   "name": "python3"
  },
  "language_info": {
   "codemirror_mode": {
    "name": "ipython",
    "version": 3
   },
   "file_extension": ".py",
   "mimetype": "text/x-python",
   "name": "python",
   "nbconvert_exporter": "python",
   "pygments_lexer": "ipython3",
   "version": "3.7.4"
  },
  "widgets": {
   "state": {},
   "version": "1.1.2"
  }
 },
 "nbformat": 4,
 "nbformat_minor": 4
}

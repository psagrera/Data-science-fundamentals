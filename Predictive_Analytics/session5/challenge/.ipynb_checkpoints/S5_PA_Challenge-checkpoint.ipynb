{
 "cells": [
  {
   "cell_type": "markdown",
   "metadata": {},
   "source": [
    "##### <img src=\"mioti.png\" style=\"height: 100px\">\n",
    "\n",
    "# Challenge S5: Modelos regresivos aplicados a series temporales"
   ]
  },
  {
   "cell_type": "markdown",
   "metadata": {},
   "source": [
    "## Objetivo\n",
    "\n",
    "El objetivo de este challenge es usar nuestro dataframe de ventas en retail y hacer un modelo para la predicción de ventas para un artículo distinto del que vimos en el worksheet.\n",
    "\n",
    "Tendréis que explorar los datos para ver el comportamiento del artículo elegido y las peculiaridades que pueda tener.\n",
    "\n",
    "Luego tendréis que hacer un modelo que pueda predecir las ventas de este artículo usando todo lo aprendido anteriormente, probando distintos modelos, hiperparametrizándolos y por último añadiendo todas las variables sintéticas que veáis convenientes para que el modelo aprenda mejor del comportamiento de las unidades vendidas del producto."
   ]
  },
  {
   "cell_type": "markdown",
   "metadata": {},
   "source": [
    "## 1. Configuración del entorno\n",
    "\n",
    "Cargamos los paquetes que vamos a utilizar en la sesión."
   ]
  },
  {
   "cell_type": "code",
   "execution_count": null,
   "metadata": {},
   "outputs": [],
   "source": [
    "%matplotlib inline\n",
    "\n",
    "import numpy as np\n",
    "import pandas as pd\n",
    "import matplotlib.pyplot as plt\n",
    "import pandas as pd\n",
    "import numpy as np\n",
    "%matplotlib inline\n",
    "import matplotlib.pyplot as plt\n",
    "from sklearn.metrics import mean_squared_log_error\n",
    "from sklearn.ensemble import RandomForestRegressor\n",
    "from sklearn.neural_network import MLPRegressor\n",
    "from sklearn.svm import SVR\n",
    "from sklearn.preprocessing import StandardScaler"
   ]
  },
  {
   "cell_type": "markdown",
   "metadata": {},
   "source": [
    "## 2. Carga de los datos, filtrado de nuestro artículo y visualización de los datos\n",
    " \n",
    "\n"
   ]
  },
  {
   "cell_type": "markdown",
   "metadata": {},
   "source": [
    "**Carga el dataframe**"
   ]
  },
  {
   "cell_type": "code",
   "execution_count": null,
   "metadata": {},
   "outputs": [],
   "source": [
    "dataRetail = pd.read_csv('Dataframe_Retail.csv', delimiter=',')\n",
    "print(dataRetail['Referencia'].unique())"
   ]
  },
  {
   "cell_type": "markdown",
   "metadata": {},
   "source": [
    "**Usa una máscara para filtrar el artículo sobre el que queremos realizar las predicciones**"
   ]
  },
  {
   "cell_type": "code",
   "execution_count": null,
   "metadata": {},
   "outputs": [],
   "source": [
    "dataSku = dataRetail[dataRetail['Referencia']=='']\n",
    "dataSku['Fecha'] = pd.to_datetime(dataSku['Fecha'], format='%Y-%m-%d')"
   ]
  },
  {
   "cell_type": "markdown",
   "metadata": {},
   "source": [
    "** Ya que hemos cogido un producto que tiene huecos vamos a hacer una limpieza del dataframe ya que esos huecos originarían errores más tarde**"
   ]
  },
  {
   "cell_type": "code",
   "execution_count": null,
   "metadata": {},
   "outputs": [],
   "source": [
    "dataSku=dataSku.set_index('Fecha')"
   ]
  },
  {
   "cell_type": "code",
   "execution_count": null,
   "metadata": {},
   "outputs": [],
   "source": [
    "fechaMin = dataSku.index.min()\n",
    "print(fechaMin)"
   ]
  },
  {
   "cell_type": "code",
   "execution_count": null,
   "metadata": {},
   "outputs": [],
   "source": [
    "fechaMax = dataSku.index.max()\n",
    "print(fechaMax)"
   ]
  },
  {
   "cell_type": "code",
   "execution_count": null,
   "metadata": {},
   "outputs": [],
   "source": [
    "range = pd.date_range(start=fechaMin, end=fechaMax,freq='d')\n",
    "dataSku = dataSku.reindex(range)\n",
    "dataSku['Unidades']=dataSku['Unidades'].fillna(value=0)\n",
    "dataSku['Ventas']=dataSku['Ventas'].fillna(value=0)\n",
    "dataSku['Referencia']=dataSku['Referencia'].fillna(method='ffill')\n",
    "dataSku=dataSku.reset_index()\n",
    "dataSku=dataSku.rename(columns={'index':'Fecha Format'})\n",
    "#dataSku['OffsetDays']=dataSku['OffsetDays'].astype(int)\n",
    "dataSku['OffsetDays'] = dataSku.index"
   ]
  },
  {
   "cell_type": "code",
   "execution_count": null,
   "metadata": {},
   "outputs": [],
   "source": [
    "dataSku.info()"
   ]
  },
  {
   "cell_type": "code",
   "execution_count": null,
   "metadata": {},
   "outputs": [],
   "source": [
    "dataSku.tail(30)"
   ]
  },
  {
   "cell_type": "code",
   "execution_count": null,
   "metadata": {},
   "outputs": [],
   "source": [
    "dataSku[dataSku['Unidades']==0]"
   ]
  },
  {
   "cell_type": "code",
   "execution_count": null,
   "metadata": {},
   "outputs": [],
   "source": [
    "dataSku.plot()"
   ]
  },
  {
   "cell_type": "markdown",
   "metadata": {
    "collapsed": true
   },
   "source": [
    "## 3. Prueba de la predicción sobre nuestras unidades vendidas con distintos modelos"
   ]
  },
  {
   "cell_type": "markdown",
   "metadata": {},
   "source": [
    "** Con la función de evaluación puedes probar el funcionamiento de distintos modelos**"
   ]
  },
  {
   "cell_type": "code",
   "execution_count": null,
   "metadata": {},
   "outputs": [],
   "source": [
    "def rmsle(ytrue, ypred):\n",
    "    return np.sqrt(mean_squared_log_error(ytrue, ypred))\n",
    "def calculoEvaluacionModelo(modelo,df,norm):\n",
    "\n",
    "    xPredicted = []\n",
    "    yPredicted = []\n",
    "    ySpotted = []\n",
    "    mean_error = []\n",
    "\n",
    "    for day in range(800,861):\n",
    "        train = df[df['OffsetDays'] < day]\n",
    "        val = df[df['OffsetDays'] == day]       \n",
    "        \n",
    "        xtr, xts = train.drop(['Unidades'], axis=1), val.drop(['Unidades'], axis=1)\n",
    "        \n",
    "        if(norm==True):\n",
    "            sc = StandardScaler()  \n",
    "            xtr = sc.fit_transform(xtr)  \n",
    "            xts = sc.transform(xts)  \n",
    "        ytr, yts = train['Unidades'].values, val['Unidades'].values  \n",
    "\n",
    "        mdl = modelo\n",
    "        mdl.fit(xtr, ytr)\n",
    "\n",
    "        p = mdl.predict(xts)\n",
    "\n",
    "        xPredicted=xPredicted + [day]\n",
    "        yPredicted=yPredicted + [p[0]]\n",
    "        ySpotted = ySpotted + [yts[0]]\n",
    "\n",
    "        error = rmsle(yts, p)\n",
    "        print('Month %d - Error %.5f' % (day, error))\n",
    "        mean_error.append(error)\n",
    "\n",
    "    print('Mean Error = %.5f' % np.mean(mean_error))\n",
    "    prediction = pd.DataFrame(\n",
    "        {'Sold units predicted': yPredicted,\n",
    "         'Sold units actually spotted': ySpotted\n",
    "        },index=xPredicted)\n",
    "    prediction.plot()"
   ]
  },
  {
   "cell_type": "markdown",
   "metadata": {},
   "source": [
    "** Elige el modelo que más te haya gustado o mejor haya funcionado e hiperparametrizalo si quieres**"
   ]
  },
  {
   "cell_type": "code",
   "execution_count": null,
   "metadata": {},
   "outputs": [],
   "source": [
    "norma=False\n",
    "dataSku_simple = dataSku[['OffsetDays','Unidades']].copy()\n",
    "dataSku_simple.info()\n",
    "calculoEvaluacionModelo(RandomForestRegressor(n_estimators=20, random_state=0),dataSku_simple,norma)"
   ]
  },
  {
   "cell_type": "code",
   "execution_count": null,
   "metadata": {},
   "outputs": [],
   "source": [
    "dataSku_simple.info()"
   ]
  },
  {
   "cell_type": "markdown",
   "metadata": {},
   "source": [
    "## 4. Complementar el dataframe con variables sintéticas"
   ]
  },
  {
   "cell_type": "markdown",
   "metadata": {},
   "source": [
    "** En base a lo que hayas observado en el comportamiento de las unidades vendidas de tu referencia crea variables sintéticas que creas que ayuden al modelo a mejorar la predicción**"
   ]
  },
  {
   "cell_type": "code",
   "execution_count": null,
   "metadata": {},
   "outputs": [],
   "source": []
  },
  {
   "cell_type": "code",
   "execution_count": null,
   "metadata": {},
   "outputs": [],
   "source": []
  },
  {
   "cell_type": "code",
   "execution_count": null,
   "metadata": {},
   "outputs": [],
   "source": []
  },
  {
   "cell_type": "code",
   "execution_count": null,
   "metadata": {},
   "outputs": [],
   "source": []
  }
 ],
 "metadata": {
  "anaconda-cloud": {},
  "kernelspec": {
   "display_name": "Python 3",
   "language": "python",
   "name": "python3"
  },
  "language_info": {
   "codemirror_mode": {
    "name": "ipython",
    "version": 3
   },
   "file_extension": ".py",
   "mimetype": "text/x-python",
   "name": "python",
   "nbconvert_exporter": "python",
   "pygments_lexer": "ipython3",
   "version": "3.6.5"
  }
 },
 "nbformat": 4,
 "nbformat_minor": 2
}

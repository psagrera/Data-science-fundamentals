{
 "cells": [
  {
   "cell_type": "markdown",
   "metadata": {},
   "source": [
    "#### <img src=\"mioti.png\" style=\"height: 100px\">\n",
    "<center style=\"color:#888\">Módulo Data Science in IoT<br/>Asignatura Data Visualization</center>\n",
    "\n",
    "# Worksheet S4: Prophet\n",
    "\n",
    "## Caso práctico: Predicción sobre el número de visitas que recibe la entrada de Wikipedia de Peyton Manning"
   ]
  },
  {
   "cell_type": "markdown",
   "metadata": {},
   "source": [
    "## 0. Objetivo\n",
    "\n",
    "El objetivo de este worksheet es conocer y utilizar **Prophet**, una librería de Data Science que fue liberada por Facebook el 23 de Febrero de 2017 para **el análisis y la predicción de series temporales**. Para ello, vamos a utilizar el siguiente caso práctico:\n",
    "\n"
   ]
  },
  {
   "cell_type": "markdown",
   "metadata": {},
   "source": [
    "<img src=\"peyton.jpg\" style=\"float:right; height: 250px\"></img>\n",
    "Queremos **prever el número de personas** que visitan la página de Wikipedia de Peyton Manning (una de las grandes figuras del fútbol americano): \n",
    "\n",
    "https://en.wikipedia.org/wiki/Peyton_Manning\n",
    "\n",
    "Vamos a realizar una **predicción para un año** completo.\n",
    "\n",
    "Como veremos durante el desarrollo del Worksheet, este ejemplo ilustra algunas de las principales características de Prophet, como la estacionalidad múltiple, las tasas de crecimiento cambiantes y la capacidad de modelar días especiales."
   ]
  },
  {
   "cell_type": "markdown",
   "metadata": {},
   "source": [
    "### Instalación de Prophet \n",
    "\n",
    "Para poder utilizar Prophet deberemos instalar primero la librería y sus dependencias. La forma más fácil es teniendo instalado Anaconda y ejecutando el siguiente comando desde el terminal:\n",
    "\n",
    "** conda install -c conda-forge fbprophet** "
   ]
  },
  {
   "cell_type": "markdown",
   "metadata": {},
   "source": [
    "## 1. Preparar el contexto"
   ]
  },
  {
   "cell_type": "markdown",
   "metadata": {},
   "source": [
    "Lo primero de todo es importar las librerías que vamos a utilizar en nuestro Worksheet."
   ]
  },
  {
   "cell_type": "code",
   "execution_count": null,
   "metadata": {},
   "outputs": [],
   "source": [
    "import pandas as pd\n",
    "import numpy as np\n",
    "from fbprophet import Prophet\n",
    "import matplotlib.pyplot as plt\n",
    "%matplotlib inline"
   ]
  },
  {
   "cell_type": "markdown",
   "metadata": {},
   "source": [
    "## 2.Obtención de los datos\n",
    "\n",
    "Como en otros casos, utilizamos la función *read_csv* que nos proporciona la librería de Pandas y que nos facilita la lectura de ficheros."
   ]
  },
  {
   "cell_type": "code",
   "execution_count": null,
   "metadata": {},
   "outputs": [],
   "source": [
    "df_datos = pd.read_csv('example_wp_peyton_manning.csv')"
   ]
  },
  {
   "cell_type": "markdown",
   "metadata": {},
   "source": [
    "Comprobamos **qué hemos cargado**. Utilizando las funciones *info(), describe()* y *head()* podemos hacer un primer análisis de los datos cargados. Veamos que contiene nuestro dataset de partida:"
   ]
  },
  {
   "cell_type": "code",
   "execution_count": null,
   "metadata": {},
   "outputs": [],
   "source": [
    "df_datos.tail()"
   ]
  },
  {
   "cell_type": "code",
   "execution_count": null,
   "metadata": {},
   "outputs": [],
   "source": [
    "df_datos.describe()"
   ]
  },
  {
   "cell_type": "code",
   "execution_count": null,
   "metadata": {},
   "outputs": [],
   "source": [
    "df_datos.info()"
   ]
  },
  {
   "cell_type": "markdown",
   "metadata": {},
   "source": [
    "** P: ¿Qué hemos cargado?**"
   ]
  },
  {
   "cell_type": "code",
   "execution_count": null,
   "metadata": {},
   "outputs": [],
   "source": []
  },
  {
   "cell_type": "code",
   "execution_count": null,
   "metadata": {},
   "outputs": [],
   "source": []
  },
  {
   "cell_type": "markdown",
   "metadata": {},
   "source": [
    "Hemos cargado una **serie temporal**, que incluye el **número de visitas** que se realizan a la página de la Wikipedia de Peyton Manning **por día**, desde diciembre de 2007 a enero de 2016."
   ]
  },
  {
   "cell_type": "markdown",
   "metadata": {},
   "source": [
    "### 2.1.- Interpretación de nuestros datos"
   ]
  },
  {
   "cell_type": "markdown",
   "metadata": {},
   "source": [
    "Antes de comenzar a utilizar la librería de Prophet para realizar nuestra predicción, vamos a analizar un poco más los datos que tenemos de partida.\n",
    "\n",
    "** P: ¿Qué componentes de una serie temporal tiene? ** "
   ]
  },
  {
   "cell_type": "code",
   "execution_count": null,
   "metadata": {},
   "outputs": [],
   "source": [
    "## Representamos nuestra serie temporal\n",
    "df_datos['fecha']=pd.to_datetime(df_datos['fecha'])\n",
    "ax = df_datos.set_index('fecha').plot(figsize = (12, 8),\n",
    "                                      title = '¿Cuántas visitas recibe la página de Wikipedia de Peyton Manning? \\n')\n",
    "ax.set_ylabel('Visitas a la Wikipedia')\n",
    "ax.set_xlabel('Fecha')\n",
    "\n",
    "plt.show()"
   ]
  },
  {
   "cell_type": "markdown",
   "metadata": {},
   "source": [
    "Para comprender mejor los datos que estamos viendo, puede ser interesante buscar información extra que nos ayude a entender la evolución de la serie. Utilizando las fuentes que consideres, intenta responder a las siguientes preguntas:\n",
    "- ¿Cuáles han sido los hitos más importantes en la carrera de Peyton?\n",
    "- ¿Se ha lesionado alguna vez?\n",
    "- ¿Cómo es la liga de fútbol americano? ¿Cuál es su duración? ¿Cuándo comienza? ¿Cuándo termina?\n",
    "- ¿Hay eventos o partidos especiales?\n",
    "- ¿Peyton ha jugado alguno de ellos?"
   ]
  },
  {
   "cell_type": "code",
   "execution_count": null,
   "metadata": {},
   "outputs": [],
   "source": []
  },
  {
   "cell_type": "code",
   "execution_count": null,
   "metadata": {},
   "outputs": [],
   "source": []
  },
  {
   "cell_type": "markdown",
   "metadata": {},
   "source": [
    "**P: ¿Puedes ubicar toda esta información en nuestra serie temporal?**"
   ]
  },
  {
   "cell_type": "code",
   "execution_count": null,
   "metadata": {},
   "outputs": [],
   "source": []
  },
  {
   "cell_type": "code",
   "execution_count": null,
   "metadata": {},
   "outputs": [],
   "source": []
  },
  {
   "cell_type": "code",
   "execution_count": null,
   "metadata": {},
   "outputs": [],
   "source": [
    "## Representamos nuestra serie temporal\n",
    "ax = df_datos[200:400].set_index('fecha').plot(figsize = (12, 8),\n",
    "                                      title = '¿Cuántas visitas recibe la página de Wikipedia de Peyton Manning? \\n')\n",
    "ax.set_ylabel('Visitas a la Wikipedia')\n",
    "ax.set_xlabel('Fecha')\n",
    "\n",
    "plt.show()"
   ]
  },
  {
   "cell_type": "markdown",
   "metadata": {},
   "source": [
    "## 3. Preparación de los datos\n",
    "\n",
    "En esta parte tenemos que tener mucho cuidado, ya que Prophet necesita que el DataFrame de los datos a modelizar tenga una estructura muy concreta, siguiendo unas reglas muy estrictas. Nuestro DataFrame tiene que tener dos columnas:\n",
    "\n",
    "* **Primera Columna:** Tiene que ser una columna de **tipo fecha** y el nombre debe de ser **ds**.\n",
    "\n",
    "* **Segunda Columna:** Tiene que ser una columna de **tipo numérica** (integer o float) y el nombre de la columna debe de ser **y**.\n",
    "\n",
    "Si construimos un DataFrame siguiendo estas reglas Prophet será capaz de interpretar correctamente nuestros datos y generar el modelo, pero debemos ser **muy cuidadosos y seguir estas reglas al pie de la letra para evitar errores**."
   ]
  },
  {
   "cell_type": "markdown",
   "metadata": {},
   "source": [
    "Si nuestra columna fecha no ha sido interpretada y cargada por Pandas como una columna de tipo DateTime (bastante común cuando nuestro fichero tiene las fechas en formato, por ejemplo, dd/mm/yyyy, que lo suele interpretar como tipo de dato object), deberemos convertir el campo en un formato fecha.\n",
    "\n",
    "** df['fecha']=pd.to_datetime(df['fecha'],dayfirst=True)**"
   ]
  },
  {
   "cell_type": "code",
   "execution_count": null,
   "metadata": {},
   "outputs": [],
   "source": [
    "df_datos['fecha']=pd.to_datetime(df_datos['fecha'])\n",
    "df_datos.head()"
   ]
  },
  {
   "cell_type": "code",
   "execution_count": null,
   "metadata": {},
   "outputs": [],
   "source": [
    "df_datos.info()"
   ]
  },
  {
   "cell_type": "markdown",
   "metadata": {},
   "source": [
    "Lo siguiente que tenemos que hacer es cambiar el nombre a nuestras columnas para nombrarlas como espera Prophet, porque...\n",
    "\n",
    "**¿qué pasa si intentamos crear un modelo sin cambiar el nombre de las columnas a las que espera Prophet?**"
   ]
  },
  {
   "cell_type": "code",
   "execution_count": null,
   "metadata": {},
   "outputs": [],
   "source": [
    "modelo = Prophet()\n",
    "modelo.fit(df_datos)"
   ]
  },
  {
   "cell_type": "markdown",
   "metadata": {},
   "source": [
    "Tenemos que **cambiar el nombre de las columnas** a **'ds'** (fechas) y a **'y'** (datos)."
   ]
  },
  {
   "cell_type": "code",
   "execution_count": null,
   "metadata": {},
   "outputs": [],
   "source": [
    "df_datos= df_datos.rename(columns={'fecha': 'ds', 'visitas': 'y'})"
   ]
  },
  {
   "cell_type": "code",
   "execution_count": null,
   "metadata": {},
   "outputs": [],
   "source": [
    "df_datos.tail()"
   ]
  },
  {
   "cell_type": "markdown",
   "metadata": {},
   "source": [
    "Por último, vamos a realizar una ** transformación logarítmica** de los datos ya que creemos que nuestra variable de visitas sigue un modelo multiplicativo y como Prophet hace los cálculos estimando un modelo aditivo, es conveniente convertir nuestro modelo multiplicativo en uno aditivo aplicando simplemente logaritmos."
   ]
  },
  {
   "cell_type": "code",
   "execution_count": null,
   "metadata": {},
   "outputs": [],
   "source": [
    "df_datos['y']=np.log(df_datos['y'])"
   ]
  },
  {
   "cell_type": "code",
   "execution_count": null,
   "metadata": {},
   "outputs": [],
   "source": [
    "df_datos.head()"
   ]
  },
  {
   "cell_type": "markdown",
   "metadata": {},
   "source": [
    "Si representamos de nuestro nuestro dataframe:"
   ]
  },
  {
   "cell_type": "code",
   "execution_count": null,
   "metadata": {},
   "outputs": [],
   "source": [
    "## Representamos nuestra serie\n",
    "ax = df_datos[:365].set_index('ds').plot(figsize=(12, 8))\n",
    "ax.set_ylabel('Log Visitas a la Wikipedia')\n",
    "ax.set_xlabel('Fecha')\n",
    "plt.show()"
   ]
  },
  {
   "cell_type": "markdown",
   "metadata": {
    "collapsed": true
   },
   "source": [
    "## 4. Ajuste del modelo\n",
    "\n",
    "Vamos a ajustar el modelo creando una instancia de un nuevo objeto Prophet. Toda la configuración del procedimiento la pasaremos en el constructor de nuestra instancia. \n",
    "\n",
    "Por ahora, crearemos nuestra instancia con los parámetros por defecto de Prophet."
   ]
  },
  {
   "cell_type": "code",
   "execution_count": null,
   "metadata": {},
   "outputs": [],
   "source": [
    "modelo = Prophet()"
   ]
  },
  {
   "cell_type": "markdown",
   "metadata": {},
   "source": [
    "Para ajustar nuestro modelo llamaremos al método **fit** pasándole nuestro DataFrame con los datos históricos. El cálculo del modelo es muy rápido y suele tardar entre 1 y 5 segundos."
   ]
  },
  {
   "cell_type": "code",
   "execution_count": null,
   "metadata": {},
   "outputs": [],
   "source": [
    "modelo.fit(df_datos)"
   ]
  },
  {
   "cell_type": "markdown",
   "metadata": {},
   "source": [
    "## 5. Realizar Previsiones\n",
    "\n",
    "Para realizar nuestras previsiones, lo primero que vamos a hacer es crear un nuevo DataFrame ampliando los datos a nuevas fechas, pues queremos hacer una previsión de las visitas del año siguiente en la página web. \n",
    "\n",
    "Para ello, utilizamos el método **make_future_dataframe**, indicando el número de periodos de nuestra previsión (en este caso 365 días). Por defecto, nuestro DataFrame incluirá también las fechas del histórico + fechas de previsión (lo que nos permitirá luego revisar el ajuste de nuestro modelo)."
   ]
  },
  {
   "cell_type": "code",
   "execution_count": null,
   "metadata": {},
   "outputs": [],
   "source": [
    "futuro = modelo.make_future_dataframe(periods=365)"
   ]
  },
  {
   "cell_type": "code",
   "execution_count": null,
   "metadata": {},
   "outputs": [],
   "source": [
    "futuro.tail()"
   ]
  },
  {
   "cell_type": "markdown",
   "metadata": {},
   "source": [
    "Para realizar las previsiones utilizaremos el método **predict** pasando las fechas en la que queremos hacer las previsiones. \n",
    "\n",
    "Como resultado vamos a obtener un DataFrame que incluirá las previsiones del modelo (columna **yhat**) así como todas los componentes de la serie (tendencia, estacionalidad, días especiales, etc.) y sus correspondientes intervalos de confianza."
   ]
  },
  {
   "cell_type": "code",
   "execution_count": null,
   "metadata": {},
   "outputs": [],
   "source": [
    "prevision = modelo.predict(futuro)"
   ]
  },
  {
   "cell_type": "code",
   "execution_count": null,
   "metadata": {},
   "outputs": [],
   "source": [
    "prevision.tail()"
   ]
  },
  {
   "cell_type": "markdown",
   "metadata": {},
   "source": [
    "## 6. Revisar ajuste del modelo y previsiones"
   ]
  },
  {
   "cell_type": "markdown",
   "metadata": {},
   "source": [
    "La forma más sencilla de revisar el ajuste de nuestro modelo y nuestras previsiones es dibujando un gráfico. \n",
    "\n",
    "Prophet nos proporciona el método **plot** que automáticamente nos dibuja un gráfico configurado para que la revisión del ajuste del modelo y la previsión se pueda realizar de una forma rápida e intuitiva."
   ]
  },
  {
   "cell_type": "code",
   "execution_count": null,
   "metadata": {},
   "outputs": [],
   "source": [
    "modelo.plot(prevision);"
   ]
  },
  {
   "cell_type": "markdown",
   "metadata": {},
   "source": [
    "Además, si queremos revisar los componentes calculados por nuestro modelo disponemos de otro método **plot_components** que por defecto nos permite obtener la tendencia, estacionalidad en el año, estacionalidad en la semana, ...."
   ]
  },
  {
   "cell_type": "code",
   "execution_count": null,
   "metadata": {},
   "outputs": [],
   "source": [
    "modelo.plot_components(prevision, weekly_start = 1);"
   ]
  },
  {
   "cell_type": "markdown",
   "metadata": {},
   "source": [
    "**P: ¿Qué os parecen las previsiones?**"
   ]
  },
  {
   "cell_type": "code",
   "execution_count": null,
   "metadata": {},
   "outputs": [],
   "source": []
  },
  {
   "cell_type": "code",
   "execution_count": null,
   "metadata": {},
   "outputs": [],
   "source": []
  },
  {
   "cell_type": "markdown",
   "metadata": {},
   "source": [
    "Vamos a mejorar las previsiones introduciendo un efecto que no estaba incluido en nuestro modelo inicial, los momentos en los que Peyton jugaba un partido de playoff o jugaba en la Superbowl, ya que seguro que afecta a las visitas de su página en Wikipedia."
   ]
  },
  {
   "cell_type": "code",
   "execution_count": null,
   "metadata": {},
   "outputs": [],
   "source": [
    "#http://www.nfl.com/schedules/2016/POST\n",
    "#  '2017-02-05'\n",
    "# '2017-01-22','2017-01-14'\n",
    "\n",
    "playoffs = pd.DataFrame({\n",
    "  'holiday': 'playoff',\n",
    "  'ds': pd.to_datetime(['2008-01-13', '2009-01-03', '2010-01-16',\n",
    "                        '2010-01-24', '2010-02-07', '2011-01-08',\n",
    "                        '2013-01-12', '2014-01-12', '2014-01-19',\n",
    "                        '2014-02-02', '2015-01-11', '2016-01-17',\n",
    "                        '2016-01-24', '2016-02-07']),\n",
    "  'lower_window': 0,\n",
    "  'upper_window': 1,\n",
    "})\n",
    "superbowls = pd.DataFrame({\n",
    "  'holiday': 'superbowl',\n",
    "  'ds': pd.to_datetime(['2010-02-07', '2014-02-02', '2016-02-07']),\n",
    "  'lower_window': 0,\n",
    "  'upper_window': 1,\n",
    "})\n"
   ]
  },
  {
   "cell_type": "code",
   "execution_count": null,
   "metadata": {},
   "outputs": [],
   "source": [
    "playoffs"
   ]
  },
  {
   "cell_type": "code",
   "execution_count": null,
   "metadata": {},
   "outputs": [],
   "source": [
    "superbowls"
   ]
  },
  {
   "cell_type": "markdown",
   "metadata": {},
   "source": [
    "Vamos a unir estos dos DataFrames en uno solo, porque Prophet sólo nos deja incluir un único DataFrame con los días especiales."
   ]
  },
  {
   "cell_type": "code",
   "execution_count": null,
   "metadata": {},
   "outputs": [],
   "source": [
    "dias_especiales = pd.concat((playoffs, superbowls))"
   ]
  },
  {
   "cell_type": "markdown",
   "metadata": {},
   "source": [
    "Para que podamos introducir el efecto de estos días en nuestro modelo, Prophet vuelve a ser muy especial, tenemos que incluir la información de esos días especiales en un DataFrame que tiene una columna **ds** con las fechas, una columna **holiday** con el tipo de evento especial y dos columnas (opcionales) **lower_window** y **upper_window** que nos permite estirar el efecto de nuestros días especiales a los días anteriores (lower_window) o posteriores (upper_window). \n",
    "\n",
    "En este caso, decidimos que el efecto de que Peyton juegue los playoffs o la superbowl en las visitas de su página de Wikipedia se extiende al día siguiente (upper_window =1)."
   ]
  },
  {
   "cell_type": "code",
   "execution_count": null,
   "metadata": {
    "scrolled": true
   },
   "outputs": [],
   "source": [
    "dias_especiales"
   ]
  },
  {
   "cell_type": "markdown",
   "metadata": {},
   "source": [
    "Para incluir este DataFrame **dias_especiales** en el cálculo de nuestro modelo, simplemente le pasamos como valor del parámetro **holidays** el nombre de nuestro DataFrame al crear la instancia del modelo Prophet."
   ]
  },
  {
   "cell_type": "code",
   "execution_count": null,
   "metadata": {
    "scrolled": true
   },
   "outputs": [],
   "source": [
    "## https://github.com/facebook/prophet/issues/821\n",
    "dias_especiales = dias_especiales.reset_index()  # THE FIX\n",
    "modelo2 = Prophet(holidays=dias_especiales)\n",
    "prevision2 = modelo2.fit(df_datos).predict(futuro)"
   ]
  },
  {
   "cell_type": "markdown",
   "metadata": {},
   "source": [
    "Si graficamos el resultado de nuestro modelo podemos ver, como hemos explicado, varios datos atípicos en nuestras previsiones que en el anterior modelo no se explicaban."
   ]
  },
  {
   "cell_type": "code",
   "execution_count": null,
   "metadata": {},
   "outputs": [],
   "source": [
    "modelo2.plot(prevision2);"
   ]
  },
  {
   "cell_type": "code",
   "execution_count": null,
   "metadata": {},
   "outputs": [],
   "source": [
    "# Modelo anterior\n",
    "modelo.plot(prevision);"
   ]
  },
  {
   "cell_type": "markdown",
   "metadata": {},
   "source": [
    "El efecto en el modelo, lo podemos ver en el dataFrame de previsión, seleccionando aquellas filas en las que en las columnas superbowl y playoff tengan un valor mayor que 0."
   ]
  },
  {
   "cell_type": "code",
   "execution_count": null,
   "metadata": {},
   "outputs": [],
   "source": [
    "prevision2[prevision2['superbowl']>0]"
   ]
  },
  {
   "cell_type": "code",
   "execution_count": null,
   "metadata": {},
   "outputs": [],
   "source": [
    "prevision2[(prevision2['playoff'] + prevision2['superbowl']) > 0][\n",
    "        ['ds', 'playoff', 'superbowl']]"
   ]
  },
  {
   "cell_type": "markdown",
   "metadata": {},
   "source": [
    "También podemos ver el efecto de nuestros días especiales graficando los componentes de nuestro modelos."
   ]
  },
  {
   "cell_type": "code",
   "execution_count": null,
   "metadata": {},
   "outputs": [],
   "source": [
    "modelo2.plot_components(prevision2, weekly_start=1);"
   ]
  },
  {
   "cell_type": "markdown",
   "metadata": {},
   "source": [
    "**P: ¿Se os ocurre cómo podríamos mejorar nuestro modelo?**"
   ]
  },
  {
   "cell_type": "code",
   "execution_count": null,
   "metadata": {},
   "outputs": [],
   "source": []
  },
  {
   "cell_type": "code",
   "execution_count": null,
   "metadata": {},
   "outputs": [],
   "source": []
  },
  {
   "cell_type": "markdown",
   "metadata": {},
   "source": [
    "## Otro caso práctico: Ventas en retail"
   ]
  },
  {
   "cell_type": "code",
   "execution_count": null,
   "metadata": {},
   "outputs": [],
   "source": [
    "pd.plotting.register_matplotlib_converters()"
   ]
  },
  {
   "cell_type": "code",
   "execution_count": null,
   "metadata": {},
   "outputs": [],
   "source": [
    "ventas_df = pd.read_csv('retail_sales.csv')"
   ]
  },
  {
   "cell_type": "code",
   "execution_count": null,
   "metadata": {},
   "outputs": [],
   "source": [
    "ventas_df.head()"
   ]
  },
  {
   "cell_type": "code",
   "execution_count": null,
   "metadata": {},
   "outputs": [],
   "source": [
    "ventas_df.info()"
   ]
  },
  {
   "cell_type": "code",
   "execution_count": null,
   "metadata": {},
   "outputs": [],
   "source": [
    "## Representamos nuestra serie temporal\n",
    "ventas_df['date']=pd.to_datetime(ventas_df['date'])\n",
    "ax = ventas_df.set_index('date').plot(figsize = (12, 8),\n",
    "                                      title = 'Ventas \\n')\n",
    "ax.set_ylabel('Ventas en $')\n",
    "ax.set_xlabel('Fecha')\n",
    "\n",
    "plt.show()"
   ]
  },
  {
   "cell_type": "code",
   "execution_count": null,
   "metadata": {},
   "outputs": [],
   "source": [
    "ventas_df=ventas_df.rename(columns={'date': 'ds', 'sales': 'y'})"
   ]
  },
  {
   "cell_type": "code",
   "execution_count": null,
   "metadata": {},
   "outputs": [],
   "source": [
    "ventas_df.head()"
   ]
  },
  {
   "cell_type": "code",
   "execution_count": null,
   "metadata": {},
   "outputs": [],
   "source": [
    "#ventas_df.set_index('ds').y.plot()\n",
    "modelo3 = Prophet()\n",
    "modelo3.fit(ventas_df)"
   ]
  },
  {
   "cell_type": "code",
   "execution_count": null,
   "metadata": {},
   "outputs": [],
   "source": [
    "futuro3 = modelo3.make_future_dataframe(periods=24, freq='m')"
   ]
  },
  {
   "cell_type": "code",
   "execution_count": null,
   "metadata": {},
   "outputs": [],
   "source": [
    "futuro3.tail()"
   ]
  },
  {
   "cell_type": "code",
   "execution_count": null,
   "metadata": {},
   "outputs": [],
   "source": [
    "prevision3 = modelo3.predict(futuro3)"
   ]
  },
  {
   "cell_type": "code",
   "execution_count": null,
   "metadata": {},
   "outputs": [],
   "source": [
    "prevision3.tail()"
   ]
  },
  {
   "cell_type": "code",
   "execution_count": null,
   "metadata": {},
   "outputs": [],
   "source": [
    "modelo3.plot(prevision3)"
   ]
  },
  {
   "cell_type": "code",
   "execution_count": null,
   "metadata": {},
   "outputs": [],
   "source": [
    "modelo3.plot_components(prevision3);"
   ]
  },
  {
   "cell_type": "code",
   "execution_count": null,
   "metadata": {},
   "outputs": [],
   "source": []
  }
 ],
 "metadata": {
  "anaconda-cloud": {},
  "kernelspec": {
   "display_name": "Python 3",
   "language": "python",
   "name": "python3"
  },
  "language_info": {
   "codemirror_mode": {
    "name": "ipython",
    "version": 3
   },
   "file_extension": ".py",
   "mimetype": "text/x-python",
   "name": "python",
   "nbconvert_exporter": "python",
   "pygments_lexer": "ipython3",
   "version": "3.6.5"
  },
  "widgets": {
   "state": {},
   "version": "1.1.2"
  }
 },
 "nbformat": 4,
 "nbformat_minor": 2
}

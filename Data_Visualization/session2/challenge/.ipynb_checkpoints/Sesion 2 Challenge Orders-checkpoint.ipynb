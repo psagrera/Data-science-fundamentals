{
 "cells": [
  {
   "cell_type": "markdown",
   "metadata": {},
   "source": [
    "<img src=\"mioti.png\" style=\"height: 100px\">\n",
    "<center style=\"color:#888\">Módulo Data Science in IoT<br/>Asignatura Data Visualization</center>\n",
    "\n",
    "# Challenge: Tipos de Gráficos\n",
    "\n",
    "## Caso : Sample Orders \n"
   ]
  },
  {
   "cell_type": "markdown",
   "metadata": {},
   "source": [
    "# 0. Objetivo\n",
    "\n",
    "El objetivo de este worksheet es prácticar sobre los principiales tipos de gráficos que podemos utilizar en Data Science para **analizar la relación entre nuestros datos**  y **responder preguntas** . \n",
    "\n",
    "No nos olvidemos que en Data Visualization vamos a buscar:\n",
    "\n",
    "* **Explorar**\n",
    "* **Explicar**\n",
    "\n",
    "nuestros datos\n",
    "\n",
    "Las relaciones sobre las que vamos a trabajar son:\n",
    "\n",
    "* Relaciones Temporales\n",
    "* Ranking\n",
    "* Parte de un Todo\n",
    "* Desviación\n",
    "* Correlación\n",
    "* Comparación\n",
    "\n",
    "Y dejaremos para la sesión 3 y 4:\n",
    "\n",
    "* Flujos\n",
    "* Relaciones Geográficas\n",
    "\n"
   ]
  },
  {
   "cell_type": "markdown",
   "metadata": {},
   "source": [
    "Para ello vamos a utilizar la librería de python matplotlib.\n"
   ]
  },
  {
   "cell_type": "markdown",
   "metadata": {},
   "source": [
    "En la página web https://matplotlib.org/ tenéis un completo tutorial con ejemplos y manuales donde podréis profundizar y convertiros en auténticos master en matplotlib."
   ]
  },
  {
   "cell_type": "markdown",
   "metadata": {},
   "source": [
    "Podemos hacer tantos gráficos que lo mejor es tener a mano la galería y lo que podemos hacer."
   ]
  },
  {
   "cell_type": "code",
   "execution_count": 2,
   "metadata": {},
   "outputs": [],
   "source": [
    "#from IPython.display import HTML\n",
    "# HTML('<iframe src=\"http://matplotlib.org/gallery.html#pylab_examples\" width=\"800\" height=\"600\"></iframe>')"
   ]
  },
  {
   "cell_type": "markdown",
   "metadata": {},
   "source": [
    "# 1. Visión general del problema.\n",
    "\n",
    "Nuestra empresa ACME, nos ha proporcionado las ordenes de ventas de nuestros productos \n",
    "\n"
   ]
  },
  {
   "cell_type": "code",
   "execution_count": 1,
   "metadata": {},
   "outputs": [],
   "source": [
    "## importing the necessary packages\n",
    "import numpy as np\n",
    "import pandas as pd\n",
    "import matplotlib.pyplot as plt\n",
    "%matplotlib inline"
   ]
  },
  {
   "cell_type": "markdown",
   "metadata": {},
   "source": [
    "# 2.Obtención de los datos\n",
    "\n",
    "Antes de importar los datos vamos a definir una serie de parámetros que aplicaremos a todos los gráficos. \n",
    "\n",
    "Estos pueden ser reescritos en cada gráfico. \n",
    "\n"
   ]
  },
  {
   "cell_type": "code",
   "execution_count": 2,
   "metadata": {},
   "outputs": [],
   "source": [
    "# Set some parameters to apply to all plots. These can be overridden\n",
    "# in each plot if desired\n",
    "\n",
    "# Plot size to 14\" x 7\"\n",
    "plt.rc('figure', figsize = (8, 5))\n",
    "# Font size to 14\n",
    "plt.rc('font', size = 14)\n",
    "# Do not display top and right frame lines\n",
    "plt.rc('axes.spines', top = False, right = False)\n",
    "# Remove grid lines\n",
    "plt.rc('axes', grid = False)\n",
    "# Set backgound color to white\n",
    "plt.rc('axes', facecolor = 'white')"
   ]
  },
  {
   "cell_type": "markdown",
   "metadata": {},
   "source": [
    "\n",
    "Esta vez va a ser fácil, vamos a importar los datos de un fichero csv, utilizaremos la función read_csv que nos proporciona la libreria de pandas.\n"
   ]
  },
  {
   "cell_type": "code",
   "execution_count": 3,
   "metadata": {},
   "outputs": [],
   "source": [
    "data_path = 'orders.csv'\n",
    "df_datos = pd.read_csv(data_path)\n",
    "\n",
    "df_datos['order_Dte'] = pd.to_datetime(df_datos['order_Dte']) # Tratamiento para fechas\n",
    "\n",
    "df_datos.index = df_datos['order_Dte']   # set the dataframe index with your date\n",
    "\n",
    "\n"
   ]
  },
  {
   "cell_type": "markdown",
   "metadata": {},
   "source": [
    "Vamos a responder a nuestra primera pregunta \n",
    "## P.0 ¿hemos cargado bien los datos?"
   ]
  },
  {
   "cell_type": "markdown",
   "metadata": {},
   "source": [
    "Completa los pasos necesarios para visualizar y familiarizarte con el dataframe \n",
    "\n",
    "¿Qué información puedes sacar de esta primera aproximación ? N registros, dimensiones, métricas ..."
   ]
  },
  {
   "cell_type": "code",
   "execution_count": null,
   "metadata": {},
   "outputs": [],
   "source": []
  },
  {
   "cell_type": "markdown",
   "metadata": {},
   "source": [
    "## C1 -RELACIONES TEMPORALES\n",
    "\n",
    "¿Cómo son las ventas las últimas 20 semanas?\n",
    "\n",
    "Selecciona los gráficos me mejor expliquen la tendencia de ventas, tanto general como por alguna dimensión "
   ]
  },
  {
   "cell_type": "markdown",
   "metadata": {},
   "source": [
    "## C2 - PARTES DE UN TODO\n",
    "\n",
    "¿Qué categoría de producto es la más vendida?   \n",
    "¿En qué porcentaje?  \n",
    "¿Cuales son los gráficos que mejor nos muestran esa información ?  \n",
    "\n"
   ]
  },
  {
   "cell_type": "markdown",
   "metadata": {},
   "source": [
    "## C3 - COMPARATIVAS\n",
    "\n",
    "¿Cómo evoluciona cada categoría de producto en estos **dos** ultimos años?"
   ]
  },
  {
   "cell_type": "markdown",
   "metadata": {},
   "source": [
    "## C4 - ELIJE TU PROPIA VISUALIZACIÓN \n",
    "\n",
    "Seguro que ya has visto alguna información que creas interesante mostrar.   \n",
    "\n",
    "En este apartado puedes explorar por los gráficos que mejor interpreten el dataframe. \n"
   ]
  },
  {
   "cell_type": "code",
   "execution_count": null,
   "metadata": {},
   "outputs": [],
   "source": []
  }
 ],
 "metadata": {
  "anaconda-cloud": {},
  "kernelspec": {
   "display_name": "Python 3",
   "language": "python",
   "name": "python3"
  },
  "language_info": {
   "codemirror_mode": {
    "name": "ipython",
    "version": 3
   },
   "file_extension": ".py",
   "mimetype": "text/x-python",
   "name": "python",
   "nbconvert_exporter": "python",
   "pygments_lexer": "ipython3",
   "version": "3.7.6"
  },
  "widgets": {
   "state": {},
   "version": "1.1.2"
  }
 },
 "nbformat": 4,
 "nbformat_minor": 2
}

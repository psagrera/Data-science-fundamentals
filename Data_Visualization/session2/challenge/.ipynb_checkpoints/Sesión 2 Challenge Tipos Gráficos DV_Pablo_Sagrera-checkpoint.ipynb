{
 "cells": [
  {
   "cell_type": "markdown",
   "metadata": {},
   "source": [
    "<img src=\"mioti.png\" style=\"height: 100px\">\n",
    "<center style=\"color:#888\">Módulo Data Science in IoT<br/>Asignatura Data Visualization</center>\n",
    "\n",
    "# Worksheet S2: Tipos de Gráficos\n",
    "## Caso Estaciones de Alquileres de Bicicletas Chicago\n"
   ]
  },
  {
   "cell_type": "markdown",
   "metadata": {},
   "source": [
    "# 0. Objetivo\n",
    "\n",
    "El objetivo de este worksheet es prácticar sobre los principiales tipos de gráficos que podemos utilizar en Data Science para **analizar la relación entre nuestros datos**  y **responder preguntas** . \n",
    "\n",
    "No nos olvidemos que en Data Visualization vamos a buscar:\n",
    "\n",
    "* **Explorar**\n",
    "* **Explicar**\n",
    "\n",
    "nuestros datos\n",
    "\n",
    "Las relaciones sobre las que vamos a trabajar son:\n",
    "\n",
    "* Relaciones Temporales\n",
    "* Ranking\n",
    "* Parte de un Todo\n",
    "* Desviación\n",
    "* Correlación\n",
    "* Comparación\n",
    "\n",
    "\n"
   ]
  },
  {
   "cell_type": "markdown",
   "metadata": {},
   "source": [
    "En la página web https://matplotlib.org/ tenéis un completo tutorial con ejemplos y manuales donde podréis profundizar y convertiros en auténticos master en matplotlib."
   ]
  },
  {
   "cell_type": "markdown",
   "metadata": {},
   "source": [
    "Podemos hacer tantos gráficos que lo mejor es tener a mano la galería y lo que podemos hacer."
   ]
  },
  {
   "cell_type": "code",
   "execution_count": 1,
   "metadata": {},
   "outputs": [
    {
     "data": {
      "text/html": [
       "<iframe src=\"http://matplotlib.org/gallery.html#pylab_examples\" width=\"800\" height=\"600\"></iframe>"
      ],
      "text/plain": [
       "<IPython.core.display.HTML object>"
      ]
     },
     "execution_count": 1,
     "metadata": {},
     "output_type": "execute_result"
    }
   ],
   "source": [
    "import warnings\n",
    "warnings.filterwarnings(\"ignore\")\n",
    "from IPython.display import HTML\n",
    "HTML('<iframe src=\"http://matplotlib.org/gallery.html#pylab_examples\" width=\"800\" height=\"600\"></iframe>')"
   ]
  },
  {
   "cell_type": "markdown",
   "metadata": {},
   "source": [
    "# 1. Visión general del problema.\n",
    "\n",
    "\n",
    "La ciudad de Chicago tiene un problema con su servicio de alquileres de bicicleta mas de un **20%** de las estaciones \n",
    "se encuentra sin bicicletas cuando un consumidor se acerca a alquilar una bicicleta.\n",
    "\n",
    "Nuestro objetivo es explorar y entender la demanda de bicicletas para conociendo el problema intentar solucionarlo.\n",
    "\n"
   ]
  },
  {
   "cell_type": "code",
   "execution_count": 3,
   "metadata": {},
   "outputs": [],
   "source": [
    "## importing the necessary packages\n",
    "import numpy as np\n",
    "import pandas as pd\n",
    "import matplotlib.pyplot as plt\n",
    "from matplotlib.pyplot import subplot, scatter, plot, axis\n",
    "%matplotlib inline\n"
   ]
  },
  {
   "cell_type": "markdown",
   "metadata": {},
   "source": [
    "## 2.Obtención de los datos\n",
    "\n",
    "Antes de importar los datos vamos a definir una serie de parámetros que aplicaremos a todos los gráficos. \n",
    "\n",
    "Estos pueden ser reescritos en cada gráfico. \n",
    "\n"
   ]
  },
  {
   "cell_type": "code",
   "execution_count": 4,
   "metadata": {},
   "outputs": [],
   "source": [
    "# Set some parameters to apply to all plots. These can be overridden\n",
    "# in each plot if desired\n",
    "\n",
    "# Plot size to 14\" x 7\"\n",
    "plt.rc('figure', figsize = (8, 5))\n",
    "# Font size to 14\n",
    "plt.rc('font', size = 14)\n",
    "# Do not display top and right frame lines\n",
    "plt.rc('axes.spines', top = False, right = False)\n",
    "# Remove grid lines\n",
    "plt.rc('axes', grid = False)\n",
    "# Set backgound color to white\n",
    "plt.rc('axes', facecolor = 'white')"
   ]
  },
  {
   "cell_type": "markdown",
   "metadata": {},
   "source": [
    "\n",
    "Esta vez va a ser fácil, vamos a importar los datos de un fichero csv, utilizaremos la función read_csv que nos proporciona la libreria de pandas.\n"
   ]
  },
  {
   "cell_type": "code",
   "execution_count": 5,
   "metadata": {},
   "outputs": [
    {
     "data": {
      "text/html": [
       "<div>\n",
       "<style scoped>\n",
       "    .dataframe tbody tr th:only-of-type {\n",
       "        vertical-align: middle;\n",
       "    }\n",
       "\n",
       "    .dataframe tbody tr th {\n",
       "        vertical-align: top;\n",
       "    }\n",
       "\n",
       "    .dataframe thead th {\n",
       "        text-align: right;\n",
       "    }\n",
       "</style>\n",
       "<table border=\"1\" class=\"dataframe\">\n",
       "  <thead>\n",
       "    <tr style=\"text-align: right;\">\n",
       "      <th></th>\n",
       "      <th>instant</th>\n",
       "      <th>dteday</th>\n",
       "      <th>season</th>\n",
       "      <th>yr</th>\n",
       "      <th>mnth</th>\n",
       "      <th>hr</th>\n",
       "      <th>holiday</th>\n",
       "      <th>weekday</th>\n",
       "      <th>workingday</th>\n",
       "      <th>temp</th>\n",
       "      <th>hum</th>\n",
       "      <th>windspeed</th>\n",
       "      <th>casual</th>\n",
       "      <th>registered</th>\n",
       "      <th>cnt</th>\n",
       "    </tr>\n",
       "  </thead>\n",
       "  <tbody>\n",
       "    <tr>\n",
       "      <th>0</th>\n",
       "      <td>0</td>\n",
       "      <td>1/1/2016</td>\n",
       "      <td>1</td>\n",
       "      <td>2016</td>\n",
       "      <td>1</td>\n",
       "      <td>0</td>\n",
       "      <td>0</td>\n",
       "      <td>6.Sábado</td>\n",
       "      <td>0</td>\n",
       "      <td>0.24</td>\n",
       "      <td>0.81</td>\n",
       "      <td>0.0000</td>\n",
       "      <td>3</td>\n",
       "      <td>13</td>\n",
       "      <td>16</td>\n",
       "    </tr>\n",
       "    <tr>\n",
       "      <th>1</th>\n",
       "      <td>1</td>\n",
       "      <td>1/1/2016</td>\n",
       "      <td>1</td>\n",
       "      <td>2016</td>\n",
       "      <td>1</td>\n",
       "      <td>1</td>\n",
       "      <td>0</td>\n",
       "      <td>6.Sábado</td>\n",
       "      <td>0</td>\n",
       "      <td>0.22</td>\n",
       "      <td>0.80</td>\n",
       "      <td>0.0000</td>\n",
       "      <td>8</td>\n",
       "      <td>32</td>\n",
       "      <td>40</td>\n",
       "    </tr>\n",
       "    <tr>\n",
       "      <th>2</th>\n",
       "      <td>2</td>\n",
       "      <td>1/1/2016</td>\n",
       "      <td>1</td>\n",
       "      <td>2016</td>\n",
       "      <td>1</td>\n",
       "      <td>2</td>\n",
       "      <td>0</td>\n",
       "      <td>6.Sábado</td>\n",
       "      <td>0</td>\n",
       "      <td>0.22</td>\n",
       "      <td>0.80</td>\n",
       "      <td>0.0000</td>\n",
       "      <td>5</td>\n",
       "      <td>27</td>\n",
       "      <td>32</td>\n",
       "    </tr>\n",
       "    <tr>\n",
       "      <th>3</th>\n",
       "      <td>3</td>\n",
       "      <td>1/1/2016</td>\n",
       "      <td>1</td>\n",
       "      <td>2016</td>\n",
       "      <td>1</td>\n",
       "      <td>3</td>\n",
       "      <td>0</td>\n",
       "      <td>6.Sábado</td>\n",
       "      <td>0</td>\n",
       "      <td>0.24</td>\n",
       "      <td>0.75</td>\n",
       "      <td>0.0000</td>\n",
       "      <td>3</td>\n",
       "      <td>10</td>\n",
       "      <td>13</td>\n",
       "    </tr>\n",
       "    <tr>\n",
       "      <th>4</th>\n",
       "      <td>4</td>\n",
       "      <td>1/1/2016</td>\n",
       "      <td>1</td>\n",
       "      <td>2016</td>\n",
       "      <td>1</td>\n",
       "      <td>4</td>\n",
       "      <td>0</td>\n",
       "      <td>6.Sábado</td>\n",
       "      <td>0</td>\n",
       "      <td>0.24</td>\n",
       "      <td>0.75</td>\n",
       "      <td>0.0000</td>\n",
       "      <td>0</td>\n",
       "      <td>1</td>\n",
       "      <td>1</td>\n",
       "    </tr>\n",
       "    <tr>\n",
       "      <th>...</th>\n",
       "      <td>...</td>\n",
       "      <td>...</td>\n",
       "      <td>...</td>\n",
       "      <td>...</td>\n",
       "      <td>...</td>\n",
       "      <td>...</td>\n",
       "      <td>...</td>\n",
       "      <td>...</td>\n",
       "      <td>...</td>\n",
       "      <td>...</td>\n",
       "      <td>...</td>\n",
       "      <td>...</td>\n",
       "      <td>...</td>\n",
       "      <td>...</td>\n",
       "      <td>...</td>\n",
       "    </tr>\n",
       "    <tr>\n",
       "      <th>17374</th>\n",
       "      <td>17374</td>\n",
       "      <td>12/31/2017</td>\n",
       "      <td>1</td>\n",
       "      <td>2017</td>\n",
       "      <td>12</td>\n",
       "      <td>19</td>\n",
       "      <td>0</td>\n",
       "      <td>1.Lunes</td>\n",
       "      <td>1</td>\n",
       "      <td>0.26</td>\n",
       "      <td>0.60</td>\n",
       "      <td>0.1642</td>\n",
       "      <td>11</td>\n",
       "      <td>108</td>\n",
       "      <td>119</td>\n",
       "    </tr>\n",
       "    <tr>\n",
       "      <th>17375</th>\n",
       "      <td>17375</td>\n",
       "      <td>12/31/2017</td>\n",
       "      <td>1</td>\n",
       "      <td>2017</td>\n",
       "      <td>12</td>\n",
       "      <td>20</td>\n",
       "      <td>0</td>\n",
       "      <td>1.Lunes</td>\n",
       "      <td>1</td>\n",
       "      <td>0.26</td>\n",
       "      <td>0.60</td>\n",
       "      <td>0.1642</td>\n",
       "      <td>8</td>\n",
       "      <td>81</td>\n",
       "      <td>89</td>\n",
       "    </tr>\n",
       "    <tr>\n",
       "      <th>17376</th>\n",
       "      <td>17376</td>\n",
       "      <td>12/31/2017</td>\n",
       "      <td>1</td>\n",
       "      <td>2017</td>\n",
       "      <td>12</td>\n",
       "      <td>21</td>\n",
       "      <td>0</td>\n",
       "      <td>1.Lunes</td>\n",
       "      <td>1</td>\n",
       "      <td>0.26</td>\n",
       "      <td>0.60</td>\n",
       "      <td>0.1642</td>\n",
       "      <td>7</td>\n",
       "      <td>83</td>\n",
       "      <td>90</td>\n",
       "    </tr>\n",
       "    <tr>\n",
       "      <th>17377</th>\n",
       "      <td>17377</td>\n",
       "      <td>12/31/2017</td>\n",
       "      <td>1</td>\n",
       "      <td>2017</td>\n",
       "      <td>12</td>\n",
       "      <td>22</td>\n",
       "      <td>0</td>\n",
       "      <td>1.Lunes</td>\n",
       "      <td>1</td>\n",
       "      <td>0.26</td>\n",
       "      <td>0.56</td>\n",
       "      <td>0.1343</td>\n",
       "      <td>13</td>\n",
       "      <td>48</td>\n",
       "      <td>61</td>\n",
       "    </tr>\n",
       "    <tr>\n",
       "      <th>17378</th>\n",
       "      <td>17378</td>\n",
       "      <td>12/31/2017</td>\n",
       "      <td>1</td>\n",
       "      <td>2017</td>\n",
       "      <td>12</td>\n",
       "      <td>23</td>\n",
       "      <td>0</td>\n",
       "      <td>1.Lunes</td>\n",
       "      <td>1</td>\n",
       "      <td>0.26</td>\n",
       "      <td>0.65</td>\n",
       "      <td>0.1343</td>\n",
       "      <td>12</td>\n",
       "      <td>37</td>\n",
       "      <td>49</td>\n",
       "    </tr>\n",
       "  </tbody>\n",
       "</table>\n",
       "<p>17379 rows × 15 columns</p>\n",
       "</div>"
      ],
      "text/plain": [
       "       instant      dteday  season    yr  mnth  hr  holiday   weekday  \\\n",
       "0            0    1/1/2016       1  2016     1   0        0  6.Sábado   \n",
       "1            1    1/1/2016       1  2016     1   1        0  6.Sábado   \n",
       "2            2    1/1/2016       1  2016     1   2        0  6.Sábado   \n",
       "3            3    1/1/2016       1  2016     1   3        0  6.Sábado   \n",
       "4            4    1/1/2016       1  2016     1   4        0  6.Sábado   \n",
       "...        ...         ...     ...   ...   ...  ..      ...       ...   \n",
       "17374    17374  12/31/2017       1  2017    12  19        0   1.Lunes   \n",
       "17375    17375  12/31/2017       1  2017    12  20        0   1.Lunes   \n",
       "17376    17376  12/31/2017       1  2017    12  21        0   1.Lunes   \n",
       "17377    17377  12/31/2017       1  2017    12  22        0   1.Lunes   \n",
       "17378    17378  12/31/2017       1  2017    12  23        0   1.Lunes   \n",
       "\n",
       "       workingday  temp   hum  windspeed  casual  registered  cnt  \n",
       "0               0  0.24  0.81     0.0000       3          13   16  \n",
       "1               0  0.22  0.80     0.0000       8          32   40  \n",
       "2               0  0.22  0.80     0.0000       5          27   32  \n",
       "3               0  0.24  0.75     0.0000       3          10   13  \n",
       "4               0  0.24  0.75     0.0000       0           1    1  \n",
       "...           ...   ...   ...        ...     ...         ...  ...  \n",
       "17374           1  0.26  0.60     0.1642      11         108  119  \n",
       "17375           1  0.26  0.60     0.1642       8          81   89  \n",
       "17376           1  0.26  0.60     0.1642       7          83   90  \n",
       "17377           1  0.26  0.56     0.1343      13          48   61  \n",
       "17378           1  0.26  0.65     0.1343      12          37   49  \n",
       "\n",
       "[17379 rows x 15 columns]"
      ]
     },
     "execution_count": 5,
     "metadata": {},
     "output_type": "execute_result"
    }
   ],
   "source": [
    "data_path = 'hour_chicago.csv'\n",
    "\n",
    "df_datos = pd.read_csv(data_path)\n",
    "\n",
    "df_datos"
   ]
  },
  {
   "cell_type": "markdown",
   "metadata": {},
   "source": [
    "En caso que quisieramos quitamos una serie de columnas. Ejecutaríamos el siguiente paso.  \n",
    "Este paso no lo ejecutamos porque puede que las columnas nos interesen en un futuro. "
   ]
  },
  {
   "cell_type": "code",
   "execution_count": 5,
   "metadata": {},
   "outputs": [],
   "source": [
    "#drop_list = ['season', 'yr', 'mnth', 'holiday', 'workingday', 'hum']\n",
    "#df_datos.drop(drop_list, inplace = True, axis = 1)\n"
   ]
  },
  {
   "cell_type": "markdown",
   "metadata": {},
   "source": [
    "Vemos como se han cargado las columnas, en especial nos interesa la columna **dteday** ya que es una columna tipo fecha"
   ]
  },
  {
   "cell_type": "code",
   "execution_count": 6,
   "metadata": {},
   "outputs": [
    {
     "name": "stdout",
     "output_type": "stream",
     "text": [
      "<class 'pandas.core.frame.DataFrame'>\n",
      "RangeIndex: 17379 entries, 0 to 17378\n",
      "Data columns (total 15 columns):\n",
      " #   Column      Non-Null Count  Dtype  \n",
      "---  ------      --------------  -----  \n",
      " 0   instant     17379 non-null  int64  \n",
      " 1   dteday      17379 non-null  object \n",
      " 2   season      17379 non-null  int64  \n",
      " 3   yr          17379 non-null  int64  \n",
      " 4   mnth        17379 non-null  int64  \n",
      " 5   hr          17379 non-null  int64  \n",
      " 6   holiday     17379 non-null  int64  \n",
      " 7   weekday     17379 non-null  object \n",
      " 8   workingday  17379 non-null  int64  \n",
      " 9   temp        17379 non-null  float64\n",
      " 10  hum         17379 non-null  float64\n",
      " 11  windspeed   17379 non-null  float64\n",
      " 12  casual      17379 non-null  int64  \n",
      " 13  registered  17379 non-null  int64  \n",
      " 14  cnt         17379 non-null  int64  \n",
      "dtypes: float64(3), int64(10), object(2)\n",
      "memory usage: 2.0+ MB\n"
     ]
    }
   ],
   "source": [
    "df_datos.info()"
   ]
  },
  {
   "cell_type": "markdown",
   "metadata": {},
   "source": [
    "Vamos a convertir la columna **dteday** en *fecha*, así podremos trabajar con la jerarquia que una fecha lleva asociada."
   ]
  },
  {
   "cell_type": "code",
   "execution_count": 39,
   "metadata": {},
   "outputs": [
    {
     "name": "stdout",
     "output_type": "stream",
     "text": [
      "<class 'pandas.core.frame.DataFrame'>\n",
      "DatetimeIndex: 17379 entries, 2016-01-01 to 2017-12-31\n",
      "Data columns (total 15 columns):\n",
      " #   Column      Non-Null Count  Dtype         \n",
      "---  ------      --------------  -----         \n",
      " 0   instant     17379 non-null  int64         \n",
      " 1   dteday      17379 non-null  datetime64[ns]\n",
      " 2   season      17379 non-null  int64         \n",
      " 3   yr          17379 non-null  int64         \n",
      " 4   mnth        17379 non-null  int64         \n",
      " 5   hr          17379 non-null  int64         \n",
      " 6   holiday     17379 non-null  int64         \n",
      " 7   weekday     17379 non-null  object        \n",
      " 8   workingday  17379 non-null  int64         \n",
      " 9   temp        17379 non-null  float64       \n",
      " 10  hum         17379 non-null  float64       \n",
      " 11  windspeed   17379 non-null  float64       \n",
      " 12  casual      17379 non-null  int64         \n",
      " 13  registered  17379 non-null  int64         \n",
      " 14  cnt         17379 non-null  int64         \n",
      "dtypes: datetime64[ns](1), float64(3), int64(10), object(1)\n",
      "memory usage: 2.1+ MB\n"
     ]
    }
   ],
   "source": [
    "df_datos['dteday'] = pd.to_datetime(df_datos['dteday']) # Tratamiento para fechas\n",
    "df_datos.info()"
   ]
  },
  {
   "cell_type": "markdown",
   "metadata": {},
   "source": [
    "Este data set tiene el número de bicicletas alquiladas por día y hora desde el 1 de Enero del 2016 y el 31 de Diciembre 2017.  \n",
    "\n",
    "El número de bicicletas alquiladas ('cnt') es la suma de  'registered' y 'causal' (usuarios registrados y esporádicos)."
   ]
  },
  {
   "cell_type": "markdown",
   "metadata": {},
   "source": [
    "Vamos a responder a nuestra primera pregunta \n",
    "## P.0 ¿Hemos cargado bien los datos?"
   ]
  },
  {
   "cell_type": "markdown",
   "metadata": {},
   "source": [
    "Vamos a responder con una tabla"
   ]
  },
  {
   "cell_type": "code",
   "execution_count": 8,
   "metadata": {},
   "outputs": [
    {
     "data": {
      "text/html": [
       "<div>\n",
       "<style scoped>\n",
       "    .dataframe tbody tr th:only-of-type {\n",
       "        vertical-align: middle;\n",
       "    }\n",
       "\n",
       "    .dataframe tbody tr th {\n",
       "        vertical-align: top;\n",
       "    }\n",
       "\n",
       "    .dataframe thead th {\n",
       "        text-align: right;\n",
       "    }\n",
       "</style>\n",
       "<table border=\"1\" class=\"dataframe\">\n",
       "  <thead>\n",
       "    <tr style=\"text-align: right;\">\n",
       "      <th></th>\n",
       "      <th>instant</th>\n",
       "      <th>dteday</th>\n",
       "      <th>season</th>\n",
       "      <th>yr</th>\n",
       "      <th>mnth</th>\n",
       "      <th>hr</th>\n",
       "      <th>holiday</th>\n",
       "      <th>weekday</th>\n",
       "      <th>workingday</th>\n",
       "      <th>temp</th>\n",
       "      <th>hum</th>\n",
       "      <th>windspeed</th>\n",
       "      <th>casual</th>\n",
       "      <th>registered</th>\n",
       "      <th>cnt</th>\n",
       "    </tr>\n",
       "  </thead>\n",
       "  <tbody>\n",
       "    <tr>\n",
       "      <th>0</th>\n",
       "      <td>0</td>\n",
       "      <td>2016-01-01</td>\n",
       "      <td>1</td>\n",
       "      <td>2016</td>\n",
       "      <td>1</td>\n",
       "      <td>0</td>\n",
       "      <td>0</td>\n",
       "      <td>6.Sábado</td>\n",
       "      <td>0</td>\n",
       "      <td>0.24</td>\n",
       "      <td>0.81</td>\n",
       "      <td>0.0</td>\n",
       "      <td>3</td>\n",
       "      <td>13</td>\n",
       "      <td>16</td>\n",
       "    </tr>\n",
       "    <tr>\n",
       "      <th>1</th>\n",
       "      <td>1</td>\n",
       "      <td>2016-01-01</td>\n",
       "      <td>1</td>\n",
       "      <td>2016</td>\n",
       "      <td>1</td>\n",
       "      <td>1</td>\n",
       "      <td>0</td>\n",
       "      <td>6.Sábado</td>\n",
       "      <td>0</td>\n",
       "      <td>0.22</td>\n",
       "      <td>0.80</td>\n",
       "      <td>0.0</td>\n",
       "      <td>8</td>\n",
       "      <td>32</td>\n",
       "      <td>40</td>\n",
       "    </tr>\n",
       "    <tr>\n",
       "      <th>2</th>\n",
       "      <td>2</td>\n",
       "      <td>2016-01-01</td>\n",
       "      <td>1</td>\n",
       "      <td>2016</td>\n",
       "      <td>1</td>\n",
       "      <td>2</td>\n",
       "      <td>0</td>\n",
       "      <td>6.Sábado</td>\n",
       "      <td>0</td>\n",
       "      <td>0.22</td>\n",
       "      <td>0.80</td>\n",
       "      <td>0.0</td>\n",
       "      <td>5</td>\n",
       "      <td>27</td>\n",
       "      <td>32</td>\n",
       "    </tr>\n",
       "    <tr>\n",
       "      <th>3</th>\n",
       "      <td>3</td>\n",
       "      <td>2016-01-01</td>\n",
       "      <td>1</td>\n",
       "      <td>2016</td>\n",
       "      <td>1</td>\n",
       "      <td>3</td>\n",
       "      <td>0</td>\n",
       "      <td>6.Sábado</td>\n",
       "      <td>0</td>\n",
       "      <td>0.24</td>\n",
       "      <td>0.75</td>\n",
       "      <td>0.0</td>\n",
       "      <td>3</td>\n",
       "      <td>10</td>\n",
       "      <td>13</td>\n",
       "    </tr>\n",
       "    <tr>\n",
       "      <th>4</th>\n",
       "      <td>4</td>\n",
       "      <td>2016-01-01</td>\n",
       "      <td>1</td>\n",
       "      <td>2016</td>\n",
       "      <td>1</td>\n",
       "      <td>4</td>\n",
       "      <td>0</td>\n",
       "      <td>6.Sábado</td>\n",
       "      <td>0</td>\n",
       "      <td>0.24</td>\n",
       "      <td>0.75</td>\n",
       "      <td>0.0</td>\n",
       "      <td>0</td>\n",
       "      <td>1</td>\n",
       "      <td>1</td>\n",
       "    </tr>\n",
       "  </tbody>\n",
       "</table>\n",
       "</div>"
      ],
      "text/plain": [
       "   instant     dteday  season    yr  mnth  hr  holiday   weekday  workingday  \\\n",
       "0        0 2016-01-01       1  2016     1   0        0  6.Sábado           0   \n",
       "1        1 2016-01-01       1  2016     1   1        0  6.Sábado           0   \n",
       "2        2 2016-01-01       1  2016     1   2        0  6.Sábado           0   \n",
       "3        3 2016-01-01       1  2016     1   3        0  6.Sábado           0   \n",
       "4        4 2016-01-01       1  2016     1   4        0  6.Sábado           0   \n",
       "\n",
       "   temp   hum  windspeed  casual  registered  cnt  \n",
       "0  0.24  0.81        0.0       3          13   16  \n",
       "1  0.22  0.80        0.0       8          32   40  \n",
       "2  0.22  0.80        0.0       5          27   32  \n",
       "3  0.24  0.75        0.0       3          10   13  \n",
       "4  0.24  0.75        0.0       0           1    1  "
      ]
     },
     "execution_count": 8,
     "metadata": {},
     "output_type": "execute_result"
    }
   ],
   "source": [
    "df_datos.head(5)"
   ]
  },
  {
   "cell_type": "code",
   "execution_count": 9,
   "metadata": {},
   "outputs": [
    {
     "data": {
      "text/html": [
       "<div>\n",
       "<style scoped>\n",
       "    .dataframe tbody tr th:only-of-type {\n",
       "        vertical-align: middle;\n",
       "    }\n",
       "\n",
       "    .dataframe tbody tr th {\n",
       "        vertical-align: top;\n",
       "    }\n",
       "\n",
       "    .dataframe thead th {\n",
       "        text-align: right;\n",
       "    }\n",
       "</style>\n",
       "<table border=\"1\" class=\"dataframe\">\n",
       "  <thead>\n",
       "    <tr style=\"text-align: right;\">\n",
       "      <th></th>\n",
       "      <th>instant</th>\n",
       "      <th>season</th>\n",
       "      <th>yr</th>\n",
       "      <th>mnth</th>\n",
       "      <th>hr</th>\n",
       "      <th>holiday</th>\n",
       "      <th>workingday</th>\n",
       "      <th>temp</th>\n",
       "      <th>hum</th>\n",
       "      <th>windspeed</th>\n",
       "      <th>casual</th>\n",
       "      <th>registered</th>\n",
       "      <th>cnt</th>\n",
       "    </tr>\n",
       "  </thead>\n",
       "  <tbody>\n",
       "    <tr>\n",
       "      <th>count</th>\n",
       "      <td>17379.0000</td>\n",
       "      <td>17379.000000</td>\n",
       "      <td>17379.000000</td>\n",
       "      <td>17379.000000</td>\n",
       "      <td>17379.000000</td>\n",
       "      <td>17379.000000</td>\n",
       "      <td>17379.000000</td>\n",
       "      <td>17379.000000</td>\n",
       "      <td>17379.000000</td>\n",
       "      <td>17379.000000</td>\n",
       "      <td>17379.000000</td>\n",
       "      <td>17379.000000</td>\n",
       "      <td>17379.000000</td>\n",
       "    </tr>\n",
       "    <tr>\n",
       "      <th>mean</th>\n",
       "      <td>8689.0000</td>\n",
       "      <td>2.501640</td>\n",
       "      <td>2016.502561</td>\n",
       "      <td>6.537775</td>\n",
       "      <td>11.546752</td>\n",
       "      <td>0.028770</td>\n",
       "      <td>0.682721</td>\n",
       "      <td>0.496987</td>\n",
       "      <td>0.627229</td>\n",
       "      <td>0.190098</td>\n",
       "      <td>35.676218</td>\n",
       "      <td>153.786869</td>\n",
       "      <td>189.463088</td>\n",
       "    </tr>\n",
       "    <tr>\n",
       "      <th>std</th>\n",
       "      <td>5017.0295</td>\n",
       "      <td>1.106918</td>\n",
       "      <td>0.500008</td>\n",
       "      <td>3.438776</td>\n",
       "      <td>6.914405</td>\n",
       "      <td>0.167165</td>\n",
       "      <td>0.465431</td>\n",
       "      <td>0.192556</td>\n",
       "      <td>0.192930</td>\n",
       "      <td>0.122340</td>\n",
       "      <td>49.305030</td>\n",
       "      <td>151.357286</td>\n",
       "      <td>181.387599</td>\n",
       "    </tr>\n",
       "    <tr>\n",
       "      <th>min</th>\n",
       "      <td>0.0000</td>\n",
       "      <td>1.000000</td>\n",
       "      <td>2016.000000</td>\n",
       "      <td>1.000000</td>\n",
       "      <td>0.000000</td>\n",
       "      <td>0.000000</td>\n",
       "      <td>0.000000</td>\n",
       "      <td>0.020000</td>\n",
       "      <td>0.000000</td>\n",
       "      <td>0.000000</td>\n",
       "      <td>0.000000</td>\n",
       "      <td>0.000000</td>\n",
       "      <td>1.000000</td>\n",
       "    </tr>\n",
       "    <tr>\n",
       "      <th>25%</th>\n",
       "      <td>4344.5000</td>\n",
       "      <td>2.000000</td>\n",
       "      <td>2016.000000</td>\n",
       "      <td>4.000000</td>\n",
       "      <td>6.000000</td>\n",
       "      <td>0.000000</td>\n",
       "      <td>0.000000</td>\n",
       "      <td>0.340000</td>\n",
       "      <td>0.480000</td>\n",
       "      <td>0.104500</td>\n",
       "      <td>4.000000</td>\n",
       "      <td>34.000000</td>\n",
       "      <td>40.000000</td>\n",
       "    </tr>\n",
       "    <tr>\n",
       "      <th>50%</th>\n",
       "      <td>8689.0000</td>\n",
       "      <td>3.000000</td>\n",
       "      <td>2017.000000</td>\n",
       "      <td>7.000000</td>\n",
       "      <td>12.000000</td>\n",
       "      <td>0.000000</td>\n",
       "      <td>1.000000</td>\n",
       "      <td>0.500000</td>\n",
       "      <td>0.630000</td>\n",
       "      <td>0.194000</td>\n",
       "      <td>17.000000</td>\n",
       "      <td>115.000000</td>\n",
       "      <td>142.000000</td>\n",
       "    </tr>\n",
       "    <tr>\n",
       "      <th>75%</th>\n",
       "      <td>13033.5000</td>\n",
       "      <td>3.000000</td>\n",
       "      <td>2017.000000</td>\n",
       "      <td>10.000000</td>\n",
       "      <td>18.000000</td>\n",
       "      <td>0.000000</td>\n",
       "      <td>1.000000</td>\n",
       "      <td>0.660000</td>\n",
       "      <td>0.780000</td>\n",
       "      <td>0.253700</td>\n",
       "      <td>48.000000</td>\n",
       "      <td>220.000000</td>\n",
       "      <td>281.000000</td>\n",
       "    </tr>\n",
       "    <tr>\n",
       "      <th>max</th>\n",
       "      <td>17378.0000</td>\n",
       "      <td>4.000000</td>\n",
       "      <td>2017.000000</td>\n",
       "      <td>12.000000</td>\n",
       "      <td>23.000000</td>\n",
       "      <td>1.000000</td>\n",
       "      <td>1.000000</td>\n",
       "      <td>1.000000</td>\n",
       "      <td>1.000000</td>\n",
       "      <td>0.850700</td>\n",
       "      <td>367.000000</td>\n",
       "      <td>886.000000</td>\n",
       "      <td>977.000000</td>\n",
       "    </tr>\n",
       "  </tbody>\n",
       "</table>\n",
       "</div>"
      ],
      "text/plain": [
       "          instant        season            yr          mnth            hr  \\\n",
       "count  17379.0000  17379.000000  17379.000000  17379.000000  17379.000000   \n",
       "mean    8689.0000      2.501640   2016.502561      6.537775     11.546752   \n",
       "std     5017.0295      1.106918      0.500008      3.438776      6.914405   \n",
       "min        0.0000      1.000000   2016.000000      1.000000      0.000000   \n",
       "25%     4344.5000      2.000000   2016.000000      4.000000      6.000000   \n",
       "50%     8689.0000      3.000000   2017.000000      7.000000     12.000000   \n",
       "75%    13033.5000      3.000000   2017.000000     10.000000     18.000000   \n",
       "max    17378.0000      4.000000   2017.000000     12.000000     23.000000   \n",
       "\n",
       "            holiday    workingday          temp           hum     windspeed  \\\n",
       "count  17379.000000  17379.000000  17379.000000  17379.000000  17379.000000   \n",
       "mean       0.028770      0.682721      0.496987      0.627229      0.190098   \n",
       "std        0.167165      0.465431      0.192556      0.192930      0.122340   \n",
       "min        0.000000      0.000000      0.020000      0.000000      0.000000   \n",
       "25%        0.000000      0.000000      0.340000      0.480000      0.104500   \n",
       "50%        0.000000      1.000000      0.500000      0.630000      0.194000   \n",
       "75%        0.000000      1.000000      0.660000      0.780000      0.253700   \n",
       "max        1.000000      1.000000      1.000000      1.000000      0.850700   \n",
       "\n",
       "             casual    registered           cnt  \n",
       "count  17379.000000  17379.000000  17379.000000  \n",
       "mean      35.676218    153.786869    189.463088  \n",
       "std       49.305030    151.357286    181.387599  \n",
       "min        0.000000      0.000000      1.000000  \n",
       "25%        4.000000     34.000000     40.000000  \n",
       "50%       17.000000    115.000000    142.000000  \n",
       "75%       48.000000    220.000000    281.000000  \n",
       "max      367.000000    886.000000    977.000000  "
      ]
     },
     "execution_count": 9,
     "metadata": {},
     "output_type": "execute_result"
    }
   ],
   "source": [
    "df_datos.describe()"
   ]
  },
  {
   "cell_type": "markdown",
   "metadata": {},
   "source": [
    "## P1 -RELACIONES TEMPORALES\n",
    "\n"
   ]
  },
  {
   "cell_type": "markdown",
   "metadata": {},
   "source": [
    "###  Función Grouper\n",
    "\n",
    "Agrupamos la variable **dteday** que está en formato tiempo segun la jerarquía que queramos ( D,W,M,Y...) \n",
    "Esta agrupación la llamamos fecha, para ello definimos **dteday** como indice"
   ]
  },
  {
   "cell_type": "code",
   "execution_count": 38,
   "metadata": {},
   "outputs": [],
   "source": [
    "from datetime import timedelta\n",
    "\n",
    "df_datos.index = df_datos['dteday']\n"
   ]
  },
  {
   "cell_type": "code",
   "execution_count": 11,
   "metadata": {},
   "outputs": [
    {
     "name": "stdout",
     "output_type": "stream",
     "text": [
      "TimeGrouper(key='dteday', freq=<Day>, axis=0, sort=True, closed='left', label='left', how='mean', convention='e', base=0)\n"
     ]
    }
   ],
   "source": [
    "fecha=pd.Grouper(key='dteday', freq='D')\n",
    "print(fecha)"
   ]
  },
  {
   "cell_type": "markdown",
   "metadata": {},
   "source": [
    "### Selección de valores de fecha"
   ]
  },
  {
   "cell_type": "code",
   "execution_count": 11,
   "metadata": {},
   "outputs": [
    {
     "data": {
      "text/plain": [
       "<matplotlib.axes._subplots.AxesSubplot at 0x121264950>"
      ]
     },
     "execution_count": 11,
     "metadata": {},
     "output_type": "execute_result"
    },
    {
     "data": {
      "image/png": "[encoded data removed]",
      "text/plain": [
       "<Figure size 576x360 with 1 Axes>"
      ]
     },
     "metadata": {
      "needs_background": "light"
     },
     "output_type": "display_data"
    }
   ],
   "source": [
    "from datetime import timedelta\n",
    "df_datos.index = df_datos['dteday']\n",
    "fecha=pd.Grouper(key='dteday', freq='D')\n",
    "\n",
    "maxfecha=df_datos.index.max()\n",
    "#maxfecha\n",
    "minfecha= maxfecha - timedelta(weeks=52)\n",
    "#minfecha\n",
    "df_alquileres_dia=df_datos.groupby(fecha)['cnt'].sum()[minfecha:maxfecha]\n",
    "df_alquileres_dia.plot()\n"
   ]
  },
  {
   "cell_type": "markdown",
   "metadata": {},
   "source": [
    "Hay tres formas comunes de visualizaciones en Python:\n",
    "* Si no necesita un control en profundidad del área de trazado y trazados avanzados, puede utilizar las capacidades de trazado construidas de **Pandas**.\n",
    "* Si desea tener un mayor control sobre sus gráficos pero no necesita una configuración avanzada, puede usar Matplotlib a través de **pyplot**\n",
    "* Finalmente, si quieres tener un control total sobre tu gráfico, puedes usar Matplotlib **orientado a objetos**\n"
   ]
  },
  {
   "cell_type": "markdown",
   "metadata": {},
   "source": [
    "Ya hemos utilizado los comandos de Pandas con los dataframe para : \n",
    "\n",
    "* dataframe.$describe()$ \n",
    "* dataframe.$head()$ \n",
    "* dataframe.$plot()$\n",
    "    \n",
    "Utilizando  *plot()*  podemos enriquecer el gráfico"
   ]
  },
  {
   "cell_type": "code",
   "execution_count": 12,
   "metadata": {},
   "outputs": [
    {
     "data": {
      "text/plain": [
       "<matplotlib.axes._subplots.AxesSubplot at 0x121d3ce10>"
      ]
     },
     "execution_count": 12,
     "metadata": {},
     "output_type": "execute_result"
    },
    {
     "data": {
      "image/png": "[encoded data removed]",
      "text/plain": [
       "<Figure size 576x360 with 1 Axes>"
      ]
     },
     "metadata": {
      "needs_background": "light"
     },
     "output_type": "display_data"
    }
   ],
   "source": [
    "#En clase\n",
    "# Creamos nuestro primer .plot() \n",
    "# Mayúscula tabulador dentro de Plot()\n",
    "\n",
    "fecha=pd.Grouper(key='dteday', freq='M')\n",
    "df_alquileres_dia=df_datos.groupby(fecha)['cnt'].sum()\n",
    "df_alquileres_dia.plot()"
   ]
  },
  {
   "cell_type": "markdown",
   "metadata": {},
   "source": [
    "* ¿Os resulta claro este gráfico? \n",
    "* ¿Qué ocurre si cambiamos la frecuencia de D a M o a Q o aY? \n",
    "* ¿Cual es la mejor según tu opinion opción según tu opinion ? \n",
    "Para ello ejecuta el gráfico cambiando las frecuencias\n"
   ]
  },
  {
   "cell_type": "markdown",
   "metadata": {},
   "source": [
    "### Pandas Pivot Table"
   ]
  },
  {
   "cell_type": "markdown",
   "metadata": {},
   "source": [
    "Para poder crear nuestro gráficos, lo primero es tener la información agregada .\n",
    "\n",
    "Para ello utilizaremos tablas pivotadas.  \n",
    "http://pbpython.com/pandas-pivot-table-explained.html\n",
    "\n",
    "Las tablas pivotadas constan de $filas$ ( en formato indice) , $columnas$ , $métricas$ ( valores que se pueden agregar) y tipo de $agregado$ ( media, suma, conteo...) .  \n",
    "\n",
    "**tip**: En caso de tener sólo una métrica hay varias formas de escribirlo.  \n",
    "Veamos or ejemplo suma de ventas, (cnt).  \n",
    "    * Opcion 1  \n",
    "        campo_valores=['cnt']  \n",
    "        agregados={np.sum}    \n",
    "    * Opcion 2  \n",
    "        (no utilizamos campo_valores)   \n",
    "        agregados={cnt:np.sum}  "
   ]
  },
  {
   "cell_type": "markdown",
   "metadata": {},
   "source": [
    "### 1. Alquiler por fecha "
   ]
  },
  {
   "cell_type": "code",
   "execution_count": 13,
   "metadata": {},
   "outputs": [],
   "source": [
    "# Repetimos en este código la funcion grouper para verlo mejor, veamos como agrupa los alquileres por fecha\n",
    "# cambiando la fecha a D,M,Q,Y ...\n",
    "fecha=pd.Grouper(key='dteday', freq='Q')\n",
    "\n",
    "campos_filas=[fecha]\n",
    "#campos_columnas=['yr']\n",
    "#Opcion1 \n",
    "campos_valores=['cnt']\n",
    "agregados={np.sum}\n",
    "#Opcion 2\n",
    "#agregados={'cnt':[np.sum]}\n",
    "\n",
    "alquileres_por_fecha=pd.pivot_table(df_datos,\n",
    "                                    index=campos_filas,\n",
    "#                                    columns=campos_columnas,\n",
    "                                    values=campos_valores, # en caso de utilizar la opción 2 asterisca esta linea\n",
    "                                    aggfunc=agregados)\n"
   ]
  },
  {
   "cell_type": "code",
   "execution_count": 14,
   "metadata": {},
   "outputs": [
    {
     "data": {
      "text/html": [
       "<div>\n",
       "<style scoped>\n",
       "    .dataframe tbody tr th:only-of-type {\n",
       "        vertical-align: middle;\n",
       "    }\n",
       "\n",
       "    .dataframe tbody tr th {\n",
       "        vertical-align: top;\n",
       "    }\n",
       "\n",
       "    .dataframe thead tr th {\n",
       "        text-align: left;\n",
       "    }\n",
       "\n",
       "    .dataframe thead tr:last-of-type th {\n",
       "        text-align: right;\n",
       "    }\n",
       "</style>\n",
       "<table border=\"1\" class=\"dataframe\">\n",
       "  <thead>\n",
       "    <tr>\n",
       "      <th></th>\n",
       "      <th>cnt</th>\n",
       "    </tr>\n",
       "    <tr>\n",
       "      <th></th>\n",
       "      <th>sum</th>\n",
       "    </tr>\n",
       "    <tr>\n",
       "      <th>dteday</th>\n",
       "      <th></th>\n",
       "    </tr>\n",
       "  </thead>\n",
       "  <tbody>\n",
       "    <tr>\n",
       "      <th>2016-03-31</th>\n",
       "      <td>152283</td>\n",
       "    </tr>\n",
       "    <tr>\n",
       "      <th>2016-06-30</th>\n",
       "      <td>374203</td>\n",
       "    </tr>\n",
       "    <tr>\n",
       "      <th>2016-09-30</th>\n",
       "      <td>405450</td>\n",
       "    </tr>\n",
       "    <tr>\n",
       "      <th>2016-12-31</th>\n",
       "      <td>313001</td>\n",
       "    </tr>\n",
       "    <tr>\n",
       "      <th>2017-03-31</th>\n",
       "      <td>362922</td>\n",
       "    </tr>\n",
       "    <tr>\n",
       "      <th>2017-06-30</th>\n",
       "      <td>572919</td>\n",
       "    </tr>\n",
       "    <tr>\n",
       "      <th>2017-09-30</th>\n",
       "      <td>636683</td>\n",
       "    </tr>\n",
       "    <tr>\n",
       "      <th>2017-12-31</th>\n",
       "      <td>475218</td>\n",
       "    </tr>\n",
       "  </tbody>\n",
       "</table>\n",
       "</div>"
      ],
      "text/plain": [
       "               cnt\n",
       "               sum\n",
       "dteday            \n",
       "2016-03-31  152283\n",
       "2016-06-30  374203\n",
       "2016-09-30  405450\n",
       "2016-12-31  313001\n",
       "2017-03-31  362922\n",
       "2017-06-30  572919\n",
       "2017-09-30  636683\n",
       "2017-12-31  475218"
      ]
     },
     "execution_count": 14,
     "metadata": {},
     "output_type": "execute_result"
    }
   ],
   "source": [
    "alquileres_por_fecha"
   ]
  },
  {
   "cell_type": "markdown",
   "metadata": {},
   "source": [
    "En este caso alquiler fecha se verá por **Cuatrimestre** ( Q) , en caso que cambiemos freq a otra agregación tendremos la información agregada de distinta forma. \n"
   ]
  },
  {
   "cell_type": "code",
   "execution_count": 15,
   "metadata": {},
   "outputs": [
    {
     "data": {
      "text/html": [
       "<div>\n",
       "<style scoped>\n",
       "    .dataframe tbody tr th:only-of-type {\n",
       "        vertical-align: middle;\n",
       "    }\n",
       "\n",
       "    .dataframe tbody tr th {\n",
       "        vertical-align: top;\n",
       "    }\n",
       "\n",
       "    .dataframe thead tr th {\n",
       "        text-align: left;\n",
       "    }\n",
       "\n",
       "    .dataframe thead tr:last-of-type th {\n",
       "        text-align: right;\n",
       "    }\n",
       "</style>\n",
       "<table border=\"1\" class=\"dataframe\">\n",
       "  <thead>\n",
       "    <tr>\n",
       "      <th></th>\n",
       "      <th>cnt</th>\n",
       "    </tr>\n",
       "    <tr>\n",
       "      <th></th>\n",
       "      <th>sum</th>\n",
       "    </tr>\n",
       "    <tr>\n",
       "      <th>dteday</th>\n",
       "      <th></th>\n",
       "    </tr>\n",
       "  </thead>\n",
       "  <tbody>\n",
       "    <tr>\n",
       "      <th>2016-03-31</th>\n",
       "      <td>152283</td>\n",
       "    </tr>\n",
       "    <tr>\n",
       "      <th>2016-06-30</th>\n",
       "      <td>374203</td>\n",
       "    </tr>\n",
       "    <tr>\n",
       "      <th>2016-09-30</th>\n",
       "      <td>405450</td>\n",
       "    </tr>\n",
       "    <tr>\n",
       "      <th>2016-12-31</th>\n",
       "      <td>313001</td>\n",
       "    </tr>\n",
       "    <tr>\n",
       "      <th>2017-03-31</th>\n",
       "      <td>362922</td>\n",
       "    </tr>\n",
       "    <tr>\n",
       "      <th>2017-06-30</th>\n",
       "      <td>572919</td>\n",
       "    </tr>\n",
       "    <tr>\n",
       "      <th>2017-09-30</th>\n",
       "      <td>636683</td>\n",
       "    </tr>\n",
       "    <tr>\n",
       "      <th>2017-12-31</th>\n",
       "      <td>475218</td>\n",
       "    </tr>\n",
       "  </tbody>\n",
       "</table>\n",
       "</div>"
      ],
      "text/plain": [
       "               cnt\n",
       "               sum\n",
       "dteday            \n",
       "2016-03-31  152283\n",
       "2016-06-30  374203\n",
       "2016-09-30  405450\n",
       "2016-12-31  313001\n",
       "2017-03-31  362922\n",
       "2017-06-30  572919\n",
       "2017-09-30  636683\n",
       "2017-12-31  475218"
      ]
     },
     "execution_count": 15,
     "metadata": {},
     "output_type": "execute_result"
    }
   ],
   "source": [
    "alquileres_por_fecha"
   ]
  },
  {
   "cell_type": "markdown",
   "metadata": {},
   "source": [
    "Creamos una visualización"
   ]
  },
  {
   "cell_type": "code",
   "execution_count": 16,
   "metadata": {},
   "outputs": [
    {
     "data": {
      "text/plain": [
       "<matplotlib.axes._subplots.AxesSubplot at 0x121eee910>"
      ]
     },
     "execution_count": 16,
     "metadata": {},
     "output_type": "execute_result"
    },
    {
     "data": {
      "image/png": "[encoded data removed]",
      "text/plain": [
       "<Figure size 576x360 with 1 Axes>"
      ]
     },
     "metadata": {
      "needs_background": "light"
     },
     "output_type": "display_data"
    }
   ],
   "source": [
    "# Creamos la visualizacion de alquileres por fecha\n",
    "# Elegimos qué agregado nos la representa mejor\n",
    "\n",
    "alquileres_por_fecha.plot() "
   ]
  },
  {
   "cell_type": "markdown",
   "metadata": {},
   "source": [
    "Posicionándonos dentro de plot(), Flecha arriba+tabulador nos aparecen los parámetros que podemos incluir. \n",
    "\n",
    "Veamos algún ejemplo:"
   ]
  },
  {
   "cell_type": "code",
   "execution_count": 17,
   "metadata": {
    "scrolled": true
   },
   "outputs": [
    {
     "name": "stdout",
     "output_type": "stream",
     "text": [
      "<class 'pandas.core.frame.DataFrame'>\n",
      "DatetimeIndex: 17379 entries, 2016-01-01 to 2017-12-31\n",
      "Data columns (total 15 columns):\n",
      " #   Column      Non-Null Count  Dtype         \n",
      "---  ------      --------------  -----         \n",
      " 0   instant     17379 non-null  int64         \n",
      " 1   dteday      17379 non-null  datetime64[ns]\n",
      " 2   season      17379 non-null  int64         \n",
      " 3   yr          17379 non-null  int64         \n",
      " 4   mnth        17379 non-null  int64         \n",
      " 5   hr          17379 non-null  int64         \n",
      " 6   holiday     17379 non-null  int64         \n",
      " 7   weekday     17379 non-null  object        \n",
      " 8   workingday  17379 non-null  int64         \n",
      " 9   temp        17379 non-null  float64       \n",
      " 10  hum         17379 non-null  float64       \n",
      " 11  windspeed   17379 non-null  float64       \n",
      " 12  casual      17379 non-null  int64         \n",
      " 13  registered  17379 non-null  int64         \n",
      " 14  cnt         17379 non-null  int64         \n",
      "dtypes: datetime64[ns](1), float64(3), int64(10), object(1)\n",
      "memory usage: 2.7+ MB\n"
     ]
    }
   ],
   "source": [
    "df_datos.info()"
   ]
  },
  {
   "cell_type": "markdown",
   "metadata": {},
   "source": [
    "### 2. Alquiler por  hora"
   ]
  },
  {
   "cell_type": "markdown",
   "metadata": {},
   "source": [
    "¿Coomo evoluciona la demanda de *alquileres* de bicicleta a lo largo de los dos años por las distintas *horas*? \n",
    "\n",
    "Crea la $pivot table$ y el mejor gráfico asociado"
   ]
  },
  {
   "cell_type": "code",
   "execution_count": 18,
   "metadata": {},
   "outputs": [],
   "source": [
    "# Selecciona las variables correctas para crear la tabla pivotada que mejor contesta esta pregunta\n",
    "fecha=pd.Grouper(key='dteday', freq='H')\n",
    "\n",
    "campos_filas=['hr']\n",
    "\n",
    "campos_columnas=['yr']\n",
    "campos_valores=['cnt']\n",
    "\n",
    "#Opcion1 \n",
    "\n",
    "#agregados={np.sum}\n",
    "#Opcion 2\n",
    "agregados={'cnt':[np.sum]}\n",
    "\n",
    "alquileres_por_horas=pd.pivot_table(df_datos,\n",
    "                                    index=campos_filas,\n",
    "                                    columns=campos_columnas,\n",
    "                                    values=campos_valores, # en caso de utilizar la opción 2 asterisca esta linea\n",
    "                                    aggfunc=agregados)\n"
   ]
  },
  {
   "cell_type": "code",
   "execution_count": 103,
   "metadata": {},
   "outputs": [
    {
     "data": {
      "text/html": [
       "<div>\n",
       "<style scoped>\n",
       "    .dataframe tbody tr th:only-of-type {\n",
       "        vertical-align: middle;\n",
       "    }\n",
       "\n",
       "    .dataframe tbody tr th {\n",
       "        vertical-align: top;\n",
       "    }\n",
       "\n",
       "    .dataframe thead tr th {\n",
       "        text-align: left;\n",
       "    }\n",
       "\n",
       "    .dataframe thead tr:last-of-type th {\n",
       "        text-align: right;\n",
       "    }\n",
       "</style>\n",
       "<table border=\"1\" class=\"dataframe\">\n",
       "  <thead>\n",
       "    <tr>\n",
       "      <th></th>\n",
       "      <th colspan=\"2\" halign=\"left\">cnt</th>\n",
       "    </tr>\n",
       "    <tr>\n",
       "      <th></th>\n",
       "      <th colspan=\"2\" halign=\"left\">sum</th>\n",
       "    </tr>\n",
       "    <tr>\n",
       "      <th>yr</th>\n",
       "      <th>2016</th>\n",
       "      <th>2017</th>\n",
       "    </tr>\n",
       "    <tr>\n",
       "      <th>hr</th>\n",
       "      <th></th>\n",
       "      <th></th>\n",
       "    </tr>\n",
       "  </thead>\n",
       "  <tbody>\n",
       "    <tr>\n",
       "      <th>0</th>\n",
       "      <td>15540</td>\n",
       "      <td>23590</td>\n",
       "    </tr>\n",
       "    <tr>\n",
       "      <th>1</th>\n",
       "      <td>9558</td>\n",
       "      <td>14606</td>\n",
       "    </tr>\n",
       "    <tr>\n",
       "      <th>2</th>\n",
       "      <td>6661</td>\n",
       "      <td>9691</td>\n",
       "    </tr>\n",
       "    <tr>\n",
       "      <th>3</th>\n",
       "      <td>3441</td>\n",
       "      <td>4733</td>\n",
       "    </tr>\n",
       "    <tr>\n",
       "      <th>4</th>\n",
       "      <td>1817</td>\n",
       "      <td>2611</td>\n",
       "    </tr>\n",
       "    <tr>\n",
       "      <th>5</th>\n",
       "      <td>5157</td>\n",
       "      <td>9104</td>\n",
       "    </tr>\n",
       "    <tr>\n",
       "      <th>6</th>\n",
       "      <td>20801</td>\n",
       "      <td>34331</td>\n",
       "    </tr>\n",
       "    <tr>\n",
       "      <th>7</th>\n",
       "      <td>56930</td>\n",
       "      <td>97241</td>\n",
       "    </tr>\n",
       "    <tr>\n",
       "      <th>8</th>\n",
       "      <td>95467</td>\n",
       "      <td>165534</td>\n",
       "    </tr>\n",
       "    <tr>\n",
       "      <th>9</th>\n",
       "      <td>59486</td>\n",
       "      <td>99952</td>\n",
       "    </tr>\n",
       "    <tr>\n",
       "      <th>10</th>\n",
       "      <td>47511</td>\n",
       "      <td>78746</td>\n",
       "    </tr>\n",
       "    <tr>\n",
       "      <th>11</th>\n",
       "      <td>56598</td>\n",
       "      <td>94722</td>\n",
       "    </tr>\n",
       "    <tr>\n",
       "      <th>12</th>\n",
       "      <td>69198</td>\n",
       "      <td>115216</td>\n",
       "    </tr>\n",
       "    <tr>\n",
       "      <th>13</th>\n",
       "      <td>69339</td>\n",
       "      <td>115580</td>\n",
       "    </tr>\n",
       "    <tr>\n",
       "      <th>14</th>\n",
       "      <td>66482</td>\n",
       "      <td>109170</td>\n",
       "    </tr>\n",
       "    <tr>\n",
       "      <th>15</th>\n",
       "      <td>68590</td>\n",
       "      <td>114559</td>\n",
       "    </tr>\n",
       "    <tr>\n",
       "      <th>16</th>\n",
       "      <td>85622</td>\n",
       "      <td>142126</td>\n",
       "    </tr>\n",
       "    <tr>\n",
       "      <th>17</th>\n",
       "      <td>127632</td>\n",
       "      <td>209228</td>\n",
       "    </tr>\n",
       "    <tr>\n",
       "      <th>18</th>\n",
       "      <td>116985</td>\n",
       "      <td>192787</td>\n",
       "    </tr>\n",
       "    <tr>\n",
       "      <th>19</th>\n",
       "      <td>85802</td>\n",
       "      <td>140987</td>\n",
       "    </tr>\n",
       "    <tr>\n",
       "      <th>20</th>\n",
       "      <td>62818</td>\n",
       "      <td>101732</td>\n",
       "    </tr>\n",
       "    <tr>\n",
       "      <th>21</th>\n",
       "      <td>48875</td>\n",
       "      <td>76570</td>\n",
       "    </tr>\n",
       "    <tr>\n",
       "      <th>22</th>\n",
       "      <td>37677</td>\n",
       "      <td>57935</td>\n",
       "    </tr>\n",
       "    <tr>\n",
       "      <th>23</th>\n",
       "      <td>25116</td>\n",
       "      <td>38825</td>\n",
       "    </tr>\n",
       "  </tbody>\n",
       "</table>\n",
       "</div>"
      ],
      "text/plain": [
       "       cnt        \n",
       "       sum        \n",
       "yr    2016    2017\n",
       "hr                \n",
       "0    15540   23590\n",
       "1     9558   14606\n",
       "2     6661    9691\n",
       "3     3441    4733\n",
       "4     1817    2611\n",
       "5     5157    9104\n",
       "6    20801   34331\n",
       "7    56930   97241\n",
       "8    95467  165534\n",
       "9    59486   99952\n",
       "10   47511   78746\n",
       "11   56598   94722\n",
       "12   69198  115216\n",
       "13   69339  115580\n",
       "14   66482  109170\n",
       "15   68590  114559\n",
       "16   85622  142126\n",
       "17  127632  209228\n",
       "18  116985  192787\n",
       "19   85802  140987\n",
       "20   62818  101732\n",
       "21   48875   76570\n",
       "22   37677   57935\n",
       "23   25116   38825"
      ]
     },
     "execution_count": 103,
     "metadata": {},
     "output_type": "execute_result"
    },
    {
     "data": {
      "image/png": "[encoded data removed]",
      "text/plain": [
       "<Figure size 576x360 with 1 Axes>"
      ]
     },
     "metadata": {
      "needs_background": "light"
     },
     "output_type": "display_data"
    }
   ],
   "source": [
    "alquileres_por_horas.plot()\n",
    "alquileres_por_horas"
   ]
  },
  {
   "cell_type": "code",
   "execution_count": 19,
   "metadata": {},
   "outputs": [
    {
     "data": {
      "text/plain": [
       "Text(0, 0.5, 'Bicicletas alquiladas')"
      ]
     },
     "execution_count": 19,
     "metadata": {},
     "output_type": "execute_result"
    },
    {
     "data": {
      "image/png": "[encoded data removed]",
      "text/plain": [
       "<Figure size 720x288 with 1 Axes>"
      ]
     },
     "metadata": {
      "needs_background": "light"
     },
     "output_type": "display_data"
    }
   ],
   "source": [
    "from matplotlib.dates import DateFormatter\n",
    "import matplotlib.dates as mdates\n",
    "\n",
    "\n",
    "fig, ax = plt.subplots(figsize=(10, 4))\n",
    "\n",
    "alquileres_por_horas.plot(kind='bar', stacked=True ,ax=ax)\n",
    "\n",
    "#plt.legend(loc='best', bbox_to_anchor=(1, 1), prop={'size': 12})\n",
    "ax.legend(loc='best', bbox_to_anchor=(1, 1), prop={'size': 12})\n",
    "\n",
    "\n",
    "ax.set_yticks([0, 100000, 150000, 200000,250000,300.000,350000])\n",
    "ax.set_ylabel(\"Bicicletas alquiladas\")\n",
    "\n"
   ]
  },
  {
   "cell_type": "markdown",
   "metadata": {},
   "source": [
    "Vemos cómo podemos personalizar mucho más"
   ]
  },
  {
   "cell_type": "code",
   "execution_count": 20,
   "metadata": {},
   "outputs": [
    {
     "data": {
      "text/plain": [
       "<matplotlib.legend.Legend at 0x12286fb10>"
      ]
     },
     "execution_count": 20,
     "metadata": {},
     "output_type": "execute_result"
    },
    {
     "data": {
      "image/png": "[encoded data removed]",
      "text/plain": [
       "<Figure size 576x360 with 1 Axes>"
      ]
     },
     "metadata": {
      "needs_background": "light"
     },
     "output_type": "display_data"
    }
   ],
   "source": [
    "\n",
    "plt.plot(alquileres_por_fecha,'ro--',label='Alquileres')\n",
    "plt.title(\"Alquileres por fecha\")\n",
    "# Ejemplo de los parámetros que podemos aplicar a la legenda. \n",
    "plt.legend(loc='best', bbox_to_anchor=(1, 1), prop={'size': 12})\n",
    "\n",
    "# Aquí una url donde dan ejemplos de cómo personalizar una leyenda\n",
    "#https://jakevdp.github.io/PythonDataScienceHandbook/04.06-customizing-legends.html"
   ]
  },
  {
   "cell_type": "markdown",
   "metadata": {},
   "source": [
    "### Q1 ¿En qué agregado de fecha queda más intuitiva la información?"
   ]
  },
  {
   "cell_type": "markdown",
   "metadata": {},
   "source": [
    "Cambia freq=**'Q'** Por freq=**'M'** y repite los gráficos para ver cual es mejor. "
   ]
  },
  {
   "cell_type": "code",
   "execution_count": 21,
   "metadata": {},
   "outputs": [],
   "source": [
    "#Haz un gráfico con el agregado de fecha en dia , mes , trimestre que consideres más intuitivo.\n",
    "# Repetimos en este código la funcion grouper para verlo mejor, veamos como agrupa los alquileres por fecha\n",
    "# cambiando la fecha a D,M,Q,Y ...\n",
    "\n",
    "fecha=pd.Grouper(key='dteday', freq='M')\n",
    "\n",
    "campos_filas=[fecha]\n",
    "#campos_columnas=['yr']\n",
    "campos_valores=['cnt']\n",
    "agregados={'cnt': np.sum}\n",
    "\n",
    "alquileres_por_fecha=pd.pivot_table(df_datos,\n",
    "                                    index=campos_filas,\n",
    "#                                    columns=campos_columnas,\n",
    "                                    values=campos_valores,\n",
    "                                    aggfunc=agregados)\n",
    "\n"
   ]
  },
  {
   "cell_type": "code",
   "execution_count": 22,
   "metadata": {},
   "outputs": [
    {
     "data": {
      "text/html": [
       "<div>\n",
       "<style scoped>\n",
       "    .dataframe tbody tr th:only-of-type {\n",
       "        vertical-align: middle;\n",
       "    }\n",
       "\n",
       "    .dataframe tbody tr th {\n",
       "        vertical-align: top;\n",
       "    }\n",
       "\n",
       "    .dataframe thead th {\n",
       "        text-align: right;\n",
       "    }\n",
       "</style>\n",
       "<table border=\"1\" class=\"dataframe\">\n",
       "  <thead>\n",
       "    <tr style=\"text-align: right;\">\n",
       "      <th></th>\n",
       "      <th>cnt</th>\n",
       "    </tr>\n",
       "    <tr>\n",
       "      <th>dteday</th>\n",
       "      <th></th>\n",
       "    </tr>\n",
       "  </thead>\n",
       "  <tbody>\n",
       "    <tr>\n",
       "      <th>2016-01-31</th>\n",
       "      <td>38189</td>\n",
       "    </tr>\n",
       "    <tr>\n",
       "      <th>2016-02-29</th>\n",
       "      <td>50049</td>\n",
       "    </tr>\n",
       "    <tr>\n",
       "      <th>2016-03-31</th>\n",
       "      <td>64045</td>\n",
       "    </tr>\n",
       "    <tr>\n",
       "      <th>2016-04-30</th>\n",
       "      <td>94870</td>\n",
       "    </tr>\n",
       "    <tr>\n",
       "      <th>2016-05-31</th>\n",
       "      <td>135821</td>\n",
       "    </tr>\n",
       "    <tr>\n",
       "      <th>2016-06-30</th>\n",
       "      <td>143512</td>\n",
       "    </tr>\n",
       "    <tr>\n",
       "      <th>2016-07-31</th>\n",
       "      <td>141341</td>\n",
       "    </tr>\n",
       "    <tr>\n",
       "      <th>2016-08-31</th>\n",
       "      <td>136691</td>\n",
       "    </tr>\n",
       "    <tr>\n",
       "      <th>2016-09-30</th>\n",
       "      <td>127418</td>\n",
       "    </tr>\n",
       "    <tr>\n",
       "      <th>2016-10-31</th>\n",
       "      <td>123511</td>\n",
       "    </tr>\n",
       "    <tr>\n",
       "      <th>2016-11-30</th>\n",
       "      <td>102167</td>\n",
       "    </tr>\n",
       "    <tr>\n",
       "      <th>2016-12-31</th>\n",
       "      <td>87323</td>\n",
       "    </tr>\n",
       "    <tr>\n",
       "      <th>2017-01-31</th>\n",
       "      <td>96744</td>\n",
       "    </tr>\n",
       "    <tr>\n",
       "      <th>2017-02-28</th>\n",
       "      <td>101303</td>\n",
       "    </tr>\n",
       "    <tr>\n",
       "      <th>2017-03-31</th>\n",
       "      <td>164875</td>\n",
       "    </tr>\n",
       "    <tr>\n",
       "      <th>2017-04-30</th>\n",
       "      <td>174224</td>\n",
       "    </tr>\n",
       "    <tr>\n",
       "      <th>2017-05-31</th>\n",
       "      <td>195865</td>\n",
       "    </tr>\n",
       "    <tr>\n",
       "      <th>2017-06-30</th>\n",
       "      <td>202830</td>\n",
       "    </tr>\n",
       "    <tr>\n",
       "      <th>2017-07-31</th>\n",
       "      <td>203607</td>\n",
       "    </tr>\n",
       "    <tr>\n",
       "      <th>2017-08-31</th>\n",
       "      <td>214503</td>\n",
       "    </tr>\n",
       "    <tr>\n",
       "      <th>2017-09-30</th>\n",
       "      <td>218573</td>\n",
       "    </tr>\n",
       "    <tr>\n",
       "      <th>2017-10-31</th>\n",
       "      <td>198841</td>\n",
       "    </tr>\n",
       "    <tr>\n",
       "      <th>2017-11-30</th>\n",
       "      <td>152664</td>\n",
       "    </tr>\n",
       "    <tr>\n",
       "      <th>2017-12-31</th>\n",
       "      <td>123713</td>\n",
       "    </tr>\n",
       "  </tbody>\n",
       "</table>\n",
       "</div>"
      ],
      "text/plain": [
       "               cnt\n",
       "dteday            \n",
       "2016-01-31   38189\n",
       "2016-02-29   50049\n",
       "2016-03-31   64045\n",
       "2016-04-30   94870\n",
       "2016-05-31  135821\n",
       "2016-06-30  143512\n",
       "2016-07-31  141341\n",
       "2016-08-31  136691\n",
       "2016-09-30  127418\n",
       "2016-10-31  123511\n",
       "2016-11-30  102167\n",
       "2016-12-31   87323\n",
       "2017-01-31   96744\n",
       "2017-02-28  101303\n",
       "2017-03-31  164875\n",
       "2017-04-30  174224\n",
       "2017-05-31  195865\n",
       "2017-06-30  202830\n",
       "2017-07-31  203607\n",
       "2017-08-31  214503\n",
       "2017-09-30  218573\n",
       "2017-10-31  198841\n",
       "2017-11-30  152664\n",
       "2017-12-31  123713"
      ]
     },
     "execution_count": 22,
     "metadata": {},
     "output_type": "execute_result"
    }
   ],
   "source": [
    "alquileres_por_fecha"
   ]
  },
  {
   "cell_type": "code",
   "execution_count": 23,
   "metadata": {},
   "outputs": [
    {
     "data": {
      "text/plain": [
       "array([<matplotlib.axes._subplots.AxesSubplot object at 0x12268bc10>],\n",
       "      dtype=object)"
      ]
     },
     "execution_count": 23,
     "metadata": {},
     "output_type": "execute_result"
    },
    {
     "data": {
      "image/png": "[encoded data removed]",
      "text/plain": [
       "<Figure size 504x216 with 1 Axes>"
      ]
     },
     "metadata": {
      "needs_background": "light"
     },
     "output_type": "display_data"
    }
   ],
   "source": [
    "alquileres_por_fecha.plot(kind='line',\n",
    "     subplots=True,\n",
    "     figsize=(7,3),\n",
    "     style=['b:','ro--'],\n",
    "     alpha=0.9, \n",
    "    title='Alquileres por fecha')\n",
    "\n",
    " "
   ]
  },
  {
   "cell_type": "markdown",
   "metadata": {},
   "source": [
    "Si queremos utilizar más de una forma de agregar, añadimos separados por comas.  \n",
    "* Opcion1   \n",
    "    agregados={np.sum, np.mean}\n",
    "    \n",
    "* Opcion2  \n",
    "    agregados={'cnt':[np.sum,np.mean]}"
   ]
  },
  {
   "cell_type": "markdown",
   "metadata": {},
   "source": [
    "## P2 - COMPARATIVAS\n",
    "###  Comparar : Alquileres de Año 2016  con Año 2017  por meses\n",
    "\n",
    "Continuamos con la funcion pivot_table, veamos la funcionalidad de las columnas"
   ]
  },
  {
   "cell_type": "code",
   "execution_count": 24,
   "metadata": {},
   "outputs": [],
   "source": [
    "fecha=pd.Grouper(key='dteday', freq='M')\n",
    "\n",
    "campos_filas=['mnth']\n",
    "campos_columnas=['yr']\n",
    "campos_valores==['cnt']\n",
    "agregados={'cnt': np.sum}\n",
    "df_anno_mes=pd.pivot_table(df_datos,\n",
    "                                    index=campos_filas,\n",
    "                                    columns=campos_columnas,\n",
    "                                    values=campos_valores,\n",
    "                                    aggfunc=agregados)\n"
   ]
  },
  {
   "cell_type": "code",
   "execution_count": 25,
   "metadata": {
    "scrolled": true
   },
   "outputs": [
    {
     "data": {
      "text/html": [
       "<div>\n",
       "<style scoped>\n",
       "    .dataframe tbody tr th:only-of-type {\n",
       "        vertical-align: middle;\n",
       "    }\n",
       "\n",
       "    .dataframe tbody tr th {\n",
       "        vertical-align: top;\n",
       "    }\n",
       "\n",
       "    .dataframe thead tr th {\n",
       "        text-align: left;\n",
       "    }\n",
       "\n",
       "    .dataframe thead tr:last-of-type th {\n",
       "        text-align: right;\n",
       "    }\n",
       "</style>\n",
       "<table border=\"1\" class=\"dataframe\">\n",
       "  <thead>\n",
       "    <tr>\n",
       "      <th></th>\n",
       "      <th colspan=\"2\" halign=\"left\">cnt</th>\n",
       "    </tr>\n",
       "    <tr>\n",
       "      <th>yr</th>\n",
       "      <th>2016</th>\n",
       "      <th>2017</th>\n",
       "    </tr>\n",
       "    <tr>\n",
       "      <th>mnth</th>\n",
       "      <th></th>\n",
       "      <th></th>\n",
       "    </tr>\n",
       "  </thead>\n",
       "  <tbody>\n",
       "    <tr>\n",
       "      <th>1</th>\n",
       "      <td>38189</td>\n",
       "      <td>96744</td>\n",
       "    </tr>\n",
       "    <tr>\n",
       "      <th>2</th>\n",
       "      <td>48215</td>\n",
       "      <td>103137</td>\n",
       "    </tr>\n",
       "    <tr>\n",
       "      <th>3</th>\n",
       "      <td>64045</td>\n",
       "      <td>164875</td>\n",
       "    </tr>\n",
       "    <tr>\n",
       "      <th>4</th>\n",
       "      <td>94870</td>\n",
       "      <td>174224</td>\n",
       "    </tr>\n",
       "    <tr>\n",
       "      <th>5</th>\n",
       "      <td>135821</td>\n",
       "      <td>195865</td>\n",
       "    </tr>\n",
       "    <tr>\n",
       "      <th>6</th>\n",
       "      <td>143512</td>\n",
       "      <td>202830</td>\n",
       "    </tr>\n",
       "    <tr>\n",
       "      <th>7</th>\n",
       "      <td>141341</td>\n",
       "      <td>203607</td>\n",
       "    </tr>\n",
       "    <tr>\n",
       "      <th>8</th>\n",
       "      <td>136691</td>\n",
       "      <td>214503</td>\n",
       "    </tr>\n",
       "    <tr>\n",
       "      <th>9</th>\n",
       "      <td>127418</td>\n",
       "      <td>218573</td>\n",
       "    </tr>\n",
       "    <tr>\n",
       "      <th>10</th>\n",
       "      <td>123511</td>\n",
       "      <td>198841</td>\n",
       "    </tr>\n",
       "    <tr>\n",
       "      <th>11</th>\n",
       "      <td>102167</td>\n",
       "      <td>152664</td>\n",
       "    </tr>\n",
       "    <tr>\n",
       "      <th>12</th>\n",
       "      <td>87323</td>\n",
       "      <td>123713</td>\n",
       "    </tr>\n",
       "  </tbody>\n",
       "</table>\n",
       "</div>"
      ],
      "text/plain": [
       "         cnt        \n",
       "yr      2016    2017\n",
       "mnth                \n",
       "1      38189   96744\n",
       "2      48215  103137\n",
       "3      64045  164875\n",
       "4      94870  174224\n",
       "5     135821  195865\n",
       "6     143512  202830\n",
       "7     141341  203607\n",
       "8     136691  214503\n",
       "9     127418  218573\n",
       "10    123511  198841\n",
       "11    102167  152664\n",
       "12     87323  123713"
      ]
     },
     "execution_count": 25,
     "metadata": {},
     "output_type": "execute_result"
    }
   ],
   "source": [
    "df_anno_mes"
   ]
  },
  {
   "cell_type": "markdown",
   "metadata": {},
   "source": [
    "###  P2.1 ¿Cómo están evolucionando los alquileres de bicicletas?')"
   ]
  },
  {
   "cell_type": "markdown",
   "metadata": {},
   "source": [
    "¿Cual es el gráfico que mejor se adapta a esta pregunta?"
   ]
  },
  {
   "cell_type": "code",
   "execution_count": 26,
   "metadata": {},
   "outputs": [
    {
     "data": {
      "text/plain": [
       "<matplotlib.axes._subplots.AxesSubplot at 0x122adb890>"
      ]
     },
     "execution_count": 26,
     "metadata": {},
     "output_type": "execute_result"
    },
    {
     "data": {
      "image/png": "[encoded data removed]",
      "text/plain": [
       "<Figure size 576x360 with 1 Axes>"
      ]
     },
     "metadata": {
      "needs_background": "light"
     },
     "output_type": "display_data"
    }
   ],
   "source": [
    "df_anno_mes.plot(kind='bar',stacked=True,title=\"Evolucion del alquiler de bicicletas\")"
   ]
  },
  {
   "cell_type": "markdown",
   "metadata": {},
   "source": [
    "Vamos a comparar la evolución en un gráfico cada uno. \n",
    "Para ello ¿Es mejor que ambos gráficos estén a la misma escala?"
   ]
  },
  {
   "cell_type": "markdown",
   "metadata": {},
   "source": [
    "Antes de empezar con los siguientes gráficos explicamos el concepto de *figure* y *axes*"
   ]
  },
  {
   "cell_type": "code",
   "execution_count": 27,
   "metadata": {},
   "outputs": [
    {
     "data": {
      "text/plain": [
       "Text(0.5, 1.0, 'Títutlo gráfico 4')"
      ]
     },
     "execution_count": 27,
     "metadata": {},
     "output_type": "execute_result"
    },
    {
     "data": {
      "image/png": "[encoded data removed]",
      "text/plain": [
       "<Figure size 720x720 with 4 Axes>"
      ]
     },
     "metadata": {
      "needs_background": "light"
     },
     "output_type": "display_data"
    }
   ],
   "source": [
    "# Lo primero creamos una figura con n_filas y n_columnas\n",
    "fig,axes = plt.subplots(nrows=2,ncols=2,figsize=(10, 10))\n",
    "\n",
    "# aquí escribimos código relativo al grafico posicion 00\n",
    "ax1 = axes[0][0]\n",
    "ax1.set_title(\"Títutlo gráfico 1\")\n",
    "\n",
    "# aquí escribimos código relativo al grafico posicion 01\n",
    "\n",
    "ax2 = axes[0][1]\n",
    "ax2.set_title(\"Títutlo gráfico 2\")\n",
    "\n",
    "\n",
    "# aquí escribimos código relativo al grafico posicion 10\n",
    "ax3 = axes[1][0]\n",
    "ax3.set_title(\"Títutlo gráfico 3\")\n",
    "\n",
    "\n",
    "# aquí escribimos código relativo al grafico posicion 00\n",
    "ax4 = axes[1][1]\n",
    "ax4.set_title(\"Títutlo gráfico 4\")\n"
   ]
  },
  {
   "cell_type": "markdown",
   "metadata": {},
   "source": [
    "Como queremos ver la información de la tabla pivotada utilizamos $info()$"
   ]
  },
  {
   "cell_type": "code",
   "execution_count": 116,
   "metadata": {},
   "outputs": [
    {
     "name": "stdout",
     "output_type": "stream",
     "text": [
      "<class 'pandas.core.frame.DataFrame'>\n",
      "Int64Index: 12 entries, 1 to 12\n",
      "Data columns (total 2 columns):\n",
      " #   Column       Non-Null Count  Dtype\n",
      "---  ------       --------------  -----\n",
      " 0   (cnt, 2016)  12 non-null     int64\n",
      " 1   (cnt, 2017)  12 non-null     int64\n",
      "dtypes: int64(2)\n",
      "memory usage: 288.0 bytes\n"
     ]
    }
   ],
   "source": [
    "df_anno_mes.info()"
   ]
  },
  {
   "cell_type": "markdown",
   "metadata": {},
   "source": [
    "Mirar apartado **Estilos de lineas y marcador de DV Matplotlib**"
   ]
  },
  {
   "cell_type": "markdown",
   "metadata": {},
   "source": [
    "Si queremos el detalle de una unica columna lo especificamos "
   ]
  },
  {
   "cell_type": "markdown",
   "metadata": {},
   "source": [
    "$Cnt$ tiene 2017 y 2016, para visualizarlos añadimos [2017]"
   ]
  },
  {
   "cell_type": "code",
   "execution_count": 28,
   "metadata": {},
   "outputs": [
    {
     "data": {
      "text/plain": [
       "mnth\n",
       "1      38189\n",
       "2      48215\n",
       "3      64045\n",
       "4      94870\n",
       "5     135821\n",
       "6     143512\n",
       "7     141341\n",
       "8     136691\n",
       "9     127418\n",
       "10    123511\n",
       "11    102167\n",
       "12     87323\n",
       "Name: 2016, dtype: int64"
      ]
     },
     "execution_count": 28,
     "metadata": {},
     "output_type": "execute_result"
    }
   ],
   "source": [
    "df_anno_mes.cnt[2016]"
   ]
  },
  {
   "cell_type": "code",
   "execution_count": 29,
   "metadata": {},
   "outputs": [
    {
     "data": {
      "text/plain": [
       "(0.0, 240000.0)"
      ]
     },
     "execution_count": 29,
     "metadata": {},
     "output_type": "execute_result"
    },
    {
     "data": {
      "image/png": "[encoded data removed]",
      "text/plain": [
       "<Figure size 1080x504 with 2 Axes>"
      ]
     },
     "metadata": {
      "needs_background": "light"
     },
     "output_type": "display_data"
    }
   ],
   "source": [
    "fig,axes = plt.subplots(nrows=1, ncols=2,figsize=(15, 7))\n",
    "# cada celda de la matriz la podemos \n",
    "ax0 = axes[0]\n",
    "ax0.plot(df_anno_mes.cnt[2016],'ro')\n",
    "# si queremos que los os gráficos tengan la misma escala fijamos la escala del primero como la del segundo\n",
    "ax0.set_ylim([0, 240000])\n",
    "ax1 = axes[1]\n",
    "ax1.plot(df_anno_mes.cnt[2017],color=\"purple\", lw=1, ls='-', marker='o', markersize=2)\n",
    "ax1.set_ylim([0, 240000])\n"
   ]
  },
  {
   "cell_type": "markdown",
   "metadata": {},
   "source": [
    "¿Qué comparativa resulata más interesante?"
   ]
  },
  {
   "cell_type": "code",
   "execution_count": 30,
   "metadata": {},
   "outputs": [
    {
     "data": {
      "text/plain": [
       "[<matplotlib.lines.Line2D at 0x122b02bd0>,\n",
       " <matplotlib.lines.Line2D at 0x1234edd90>]"
      ]
     },
     "execution_count": 30,
     "metadata": {},
     "output_type": "execute_result"
    },
    {
     "data": {
      "image/png": "[encoded data removed]",
      "text/plain": [
       "<Figure size 720x504 with 1 Axes>"
      ]
     },
     "metadata": {
      "needs_background": "light"
     },
     "output_type": "display_data"
    }
   ],
   "source": [
    "fig,axes = plt.subplots(nrows=1, ncols=1,figsize=(10, 7))\n",
    "ax0 = axes\n",
    "ax0.plot(df_anno_mes)\n"
   ]
  },
  {
   "cell_type": "code",
   "execution_count": 31,
   "metadata": {},
   "outputs": [
    {
     "data": {
      "text/html": [
       "<div>\n",
       "<style scoped>\n",
       "    .dataframe tbody tr th:only-of-type {\n",
       "        vertical-align: middle;\n",
       "    }\n",
       "\n",
       "    .dataframe tbody tr th {\n",
       "        vertical-align: top;\n",
       "    }\n",
       "\n",
       "    .dataframe thead tr th {\n",
       "        text-align: left;\n",
       "    }\n",
       "\n",
       "    .dataframe thead tr:last-of-type th {\n",
       "        text-align: right;\n",
       "    }\n",
       "</style>\n",
       "<table border=\"1\" class=\"dataframe\">\n",
       "  <thead>\n",
       "    <tr>\n",
       "      <th></th>\n",
       "      <th colspan=\"2\" halign=\"left\">cnt</th>\n",
       "    </tr>\n",
       "    <tr>\n",
       "      <th>yr</th>\n",
       "      <th>2016</th>\n",
       "      <th>2017</th>\n",
       "    </tr>\n",
       "    <tr>\n",
       "      <th>mnth</th>\n",
       "      <th></th>\n",
       "      <th></th>\n",
       "    </tr>\n",
       "  </thead>\n",
       "  <tbody>\n",
       "    <tr>\n",
       "      <th>1</th>\n",
       "      <td>38189</td>\n",
       "      <td>96744</td>\n",
       "    </tr>\n",
       "    <tr>\n",
       "      <th>2</th>\n",
       "      <td>48215</td>\n",
       "      <td>103137</td>\n",
       "    </tr>\n",
       "    <tr>\n",
       "      <th>3</th>\n",
       "      <td>64045</td>\n",
       "      <td>164875</td>\n",
       "    </tr>\n",
       "    <tr>\n",
       "      <th>4</th>\n",
       "      <td>94870</td>\n",
       "      <td>174224</td>\n",
       "    </tr>\n",
       "    <tr>\n",
       "      <th>5</th>\n",
       "      <td>135821</td>\n",
       "      <td>195865</td>\n",
       "    </tr>\n",
       "    <tr>\n",
       "      <th>6</th>\n",
       "      <td>143512</td>\n",
       "      <td>202830</td>\n",
       "    </tr>\n",
       "    <tr>\n",
       "      <th>7</th>\n",
       "      <td>141341</td>\n",
       "      <td>203607</td>\n",
       "    </tr>\n",
       "    <tr>\n",
       "      <th>8</th>\n",
       "      <td>136691</td>\n",
       "      <td>214503</td>\n",
       "    </tr>\n",
       "    <tr>\n",
       "      <th>9</th>\n",
       "      <td>127418</td>\n",
       "      <td>218573</td>\n",
       "    </tr>\n",
       "    <tr>\n",
       "      <th>10</th>\n",
       "      <td>123511</td>\n",
       "      <td>198841</td>\n",
       "    </tr>\n",
       "    <tr>\n",
       "      <th>11</th>\n",
       "      <td>102167</td>\n",
       "      <td>152664</td>\n",
       "    </tr>\n",
       "    <tr>\n",
       "      <th>12</th>\n",
       "      <td>87323</td>\n",
       "      <td>123713</td>\n",
       "    </tr>\n",
       "  </tbody>\n",
       "</table>\n",
       "</div>"
      ],
      "text/plain": [
       "         cnt        \n",
       "yr      2016    2017\n",
       "mnth                \n",
       "1      38189   96744\n",
       "2      48215  103137\n",
       "3      64045  164875\n",
       "4      94870  174224\n",
       "5     135821  195865\n",
       "6     143512  202830\n",
       "7     141341  203607\n",
       "8     136691  214503\n",
       "9     127418  218573\n",
       "10    123511  198841\n",
       "11    102167  152664\n",
       "12     87323  123713"
      ]
     },
     "execution_count": 31,
     "metadata": {},
     "output_type": "execute_result"
    }
   ],
   "source": [
    "df_anno_mes"
   ]
  },
  {
   "cell_type": "markdown",
   "metadata": {},
   "source": [
    "De esta forma podemos crear una métrica nueva que sea la variación entre un año y el otro. "
   ]
  },
  {
   "cell_type": "code",
   "execution_count": 32,
   "metadata": {},
   "outputs": [
    {
     "data": {
      "text/html": [
       "<div>\n",
       "<style scoped>\n",
       "    .dataframe tbody tr th:only-of-type {\n",
       "        vertical-align: middle;\n",
       "    }\n",
       "\n",
       "    .dataframe tbody tr th {\n",
       "        vertical-align: top;\n",
       "    }\n",
       "\n",
       "    .dataframe thead tr th {\n",
       "        text-align: left;\n",
       "    }\n",
       "\n",
       "    .dataframe thead tr:last-of-type th {\n",
       "        text-align: right;\n",
       "    }\n",
       "</style>\n",
       "<table border=\"1\" class=\"dataframe\">\n",
       "  <thead>\n",
       "    <tr>\n",
       "      <th></th>\n",
       "      <th colspan=\"2\" halign=\"left\">cnt</th>\n",
       "      <th>variacion</th>\n",
       "    </tr>\n",
       "    <tr>\n",
       "      <th>yr</th>\n",
       "      <th>2016</th>\n",
       "      <th>2017</th>\n",
       "      <th></th>\n",
       "    </tr>\n",
       "    <tr>\n",
       "      <th>mnth</th>\n",
       "      <th></th>\n",
       "      <th></th>\n",
       "      <th></th>\n",
       "    </tr>\n",
       "  </thead>\n",
       "  <tbody>\n",
       "    <tr>\n",
       "      <th>1</th>\n",
       "      <td>38189</td>\n",
       "      <td>96744</td>\n",
       "      <td>1.533295</td>\n",
       "    </tr>\n",
       "    <tr>\n",
       "      <th>2</th>\n",
       "      <td>48215</td>\n",
       "      <td>103137</td>\n",
       "      <td>1.139106</td>\n",
       "    </tr>\n",
       "    <tr>\n",
       "      <th>3</th>\n",
       "      <td>64045</td>\n",
       "      <td>164875</td>\n",
       "      <td>1.574362</td>\n",
       "    </tr>\n",
       "    <tr>\n",
       "      <th>4</th>\n",
       "      <td>94870</td>\n",
       "      <td>174224</td>\n",
       "      <td>0.836450</td>\n",
       "    </tr>\n",
       "    <tr>\n",
       "      <th>5</th>\n",
       "      <td>135821</td>\n",
       "      <td>195865</td>\n",
       "      <td>0.442082</td>\n",
       "    </tr>\n",
       "    <tr>\n",
       "      <th>6</th>\n",
       "      <td>143512</td>\n",
       "      <td>202830</td>\n",
       "      <td>0.413331</td>\n",
       "    </tr>\n",
       "    <tr>\n",
       "      <th>7</th>\n",
       "      <td>141341</td>\n",
       "      <td>203607</td>\n",
       "      <td>0.440537</td>\n",
       "    </tr>\n",
       "    <tr>\n",
       "      <th>8</th>\n",
       "      <td>136691</td>\n",
       "      <td>214503</td>\n",
       "      <td>0.569255</td>\n",
       "    </tr>\n",
       "    <tr>\n",
       "      <th>9</th>\n",
       "      <td>127418</td>\n",
       "      <td>218573</td>\n",
       "      <td>0.715401</td>\n",
       "    </tr>\n",
       "    <tr>\n",
       "      <th>10</th>\n",
       "      <td>123511</td>\n",
       "      <td>198841</td>\n",
       "      <td>0.609905</td>\n",
       "    </tr>\n",
       "    <tr>\n",
       "      <th>11</th>\n",
       "      <td>102167</td>\n",
       "      <td>152664</td>\n",
       "      <td>0.494259</td>\n",
       "    </tr>\n",
       "    <tr>\n",
       "      <th>12</th>\n",
       "      <td>87323</td>\n",
       "      <td>123713</td>\n",
       "      <td>0.416729</td>\n",
       "    </tr>\n",
       "  </tbody>\n",
       "</table>\n",
       "</div>"
      ],
      "text/plain": [
       "         cnt         variacion\n",
       "yr      2016    2017          \n",
       "mnth                          \n",
       "1      38189   96744  1.533295\n",
       "2      48215  103137  1.139106\n",
       "3      64045  164875  1.574362\n",
       "4      94870  174224  0.836450\n",
       "5     135821  195865  0.442082\n",
       "6     143512  202830  0.413331\n",
       "7     141341  203607  0.440537\n",
       "8     136691  214503  0.569255\n",
       "9     127418  218573  0.715401\n",
       "10    123511  198841  0.609905\n",
       "11    102167  152664  0.494259\n",
       "12     87323  123713  0.416729"
      ]
     },
     "execution_count": 32,
     "metadata": {},
     "output_type": "execute_result"
    }
   ],
   "source": [
    "#Creamos una métrica nueva\n",
    "df_anno_mes['variacion']=(df_anno_mes.cnt[2017]-df_anno_mes.cnt[2016])/df_anno_mes.cnt[2016]\n",
    "df_anno_mes"
   ]
  },
  {
   "cell_type": "code",
   "execution_count": 33,
   "metadata": {
    "scrolled": true
   },
   "outputs": [
    {
     "data": {
      "text/plain": [
       "[<matplotlib.lines.Line2D at 0x12288c910>]"
      ]
     },
     "execution_count": 33,
     "metadata": {},
     "output_type": "execute_result"
    },
    {
     "data": {
      "image/png": "[encoded data removed]",
      "text/plain": [
       "<Figure size 1080x288 with 2 Axes>"
      ]
     },
     "metadata": {
      "needs_background": "light"
     },
     "output_type": "display_data"
    }
   ],
   "source": [
    "fig,axes = plt.subplots(nrows=1, ncols=2,figsize=(15, 4))\n",
    "# cada celda de la matriz la podemos \n",
    "ax0 = axes[0]\n",
    "ax0.plot(df_anno_mes.cnt[2016])\n",
    "ax0.plot(df_anno_mes.cnt[2017])\n",
    "\n",
    "ax1 = axes[1]\n",
    "ax1.plot(df_anno_mes.variacion,'g--')\n",
    "\n"
   ]
  },
  {
   "cell_type": "markdown",
   "metadata": {},
   "source": [
    "Si lo queremos comparar en el mismo gráfico, utilizamos dos ejes numéricos para y. "
   ]
  },
  {
   "cell_type": "code",
   "execution_count": 34,
   "metadata": {},
   "outputs": [
    {
     "data": {
      "text/plain": [
       "[<matplotlib.lines.Line2D at 0x12377a250>]"
      ]
     },
     "execution_count": 34,
     "metadata": {},
     "output_type": "execute_result"
    },
    {
     "data": {
      "image/png": "[encoded data removed]",
      "text/plain": [
       "<Figure size 1080x288 with 2 Axes>"
      ]
     },
     "metadata": {
      "needs_background": "light"
     },
     "output_type": "display_data"
    }
   ],
   "source": [
    "fig,axes = plt.subplots(figsize=(15, 4))\n",
    "\n",
    "# cada celda de la matriz la podemos \n",
    "ax0 = axes\n",
    "\n",
    "df_anno_mes.cnt.plot(kind='bar',ax=ax0)\n",
    "\n",
    "ax1 = ax0.twinx()\n",
    "ax1.plot(df_anno_mes.variacion,'g--')"
   ]
  },
  {
   "cell_type": "markdown",
   "metadata": {},
   "source": [
    "#### Queremos ver la evolución por meses"
   ]
  },
  {
   "cell_type": "markdown",
   "metadata": {},
   "source": [
    "Las tablas pivotadas nos ayudan a ver la informacón con el detalle y la agrupación  que necesitamos.  \n",
    "En este caso que queremos comparar un año con otro con el detall de meses ¿Cúal es la tabla pivotada más conveniente?"
   ]
  },
  {
   "cell_type": "code",
   "execution_count": 35,
   "metadata": {},
   "outputs": [],
   "source": [
    "#campos_filas=[<elegir columna>]\n",
    "#campos_columnas=[<elegir columna>]\n",
    "#campos_valores=[<elegir columna>]\n",
    "#agregados={'cnt': np.sum}\n",
    "#df_mes_anno=pd.pivot_table(df_datos,\n",
    "#                                    index=campos_filas,\n",
    "#                                    columns=campos_columnas,\n",
    "#                                    values=campos_valores,\n",
    "#                                    aggfunc=agregados)\n",
    "\n",
    "df_mes_anno_tr = df_anno_mes.transpose()"
   ]
  },
  {
   "cell_type": "code",
   "execution_count": 122,
   "metadata": {},
   "outputs": [
    {
     "data": {
      "text/html": [
       "<div>\n",
       "<style scoped>\n",
       "    .dataframe tbody tr th:only-of-type {\n",
       "        vertical-align: middle;\n",
       "    }\n",
       "\n",
       "    .dataframe tbody tr th {\n",
       "        vertical-align: top;\n",
       "    }\n",
       "\n",
       "    .dataframe thead th {\n",
       "        text-align: right;\n",
       "    }\n",
       "</style>\n",
       "<table border=\"1\" class=\"dataframe\">\n",
       "  <thead>\n",
       "    <tr style=\"text-align: right;\">\n",
       "      <th></th>\n",
       "      <th>mnth</th>\n",
       "      <th>1</th>\n",
       "      <th>2</th>\n",
       "      <th>3</th>\n",
       "      <th>4</th>\n",
       "      <th>5</th>\n",
       "      <th>6</th>\n",
       "      <th>7</th>\n",
       "      <th>8</th>\n",
       "      <th>9</th>\n",
       "      <th>10</th>\n",
       "      <th>11</th>\n",
       "      <th>12</th>\n",
       "    </tr>\n",
       "    <tr>\n",
       "      <th></th>\n",
       "      <th>yr</th>\n",
       "      <th></th>\n",
       "      <th></th>\n",
       "      <th></th>\n",
       "      <th></th>\n",
       "      <th></th>\n",
       "      <th></th>\n",
       "      <th></th>\n",
       "      <th></th>\n",
       "      <th></th>\n",
       "      <th></th>\n",
       "      <th></th>\n",
       "      <th></th>\n",
       "    </tr>\n",
       "  </thead>\n",
       "  <tbody>\n",
       "    <tr>\n",
       "      <th rowspan=\"2\" valign=\"top\">cnt</th>\n",
       "      <th>2016</th>\n",
       "      <td>38189.000000</td>\n",
       "      <td>48215.000000</td>\n",
       "      <td>64045.000000</td>\n",
       "      <td>94870.00000</td>\n",
       "      <td>135821.000000</td>\n",
       "      <td>143512.000000</td>\n",
       "      <td>141341.000000</td>\n",
       "      <td>136691.000000</td>\n",
       "      <td>127418.000000</td>\n",
       "      <td>123511.000000</td>\n",
       "      <td>102167.000000</td>\n",
       "      <td>87323.000000</td>\n",
       "    </tr>\n",
       "    <tr>\n",
       "      <th>2017</th>\n",
       "      <td>96744.000000</td>\n",
       "      <td>103137.000000</td>\n",
       "      <td>164875.000000</td>\n",
       "      <td>174224.00000</td>\n",
       "      <td>195865.000000</td>\n",
       "      <td>202830.000000</td>\n",
       "      <td>203607.000000</td>\n",
       "      <td>214503.000000</td>\n",
       "      <td>218573.000000</td>\n",
       "      <td>198841.000000</td>\n",
       "      <td>152664.000000</td>\n",
       "      <td>123713.000000</td>\n",
       "    </tr>\n",
       "    <tr>\n",
       "      <th>variacion</th>\n",
       "      <th></th>\n",
       "      <td>1.533295</td>\n",
       "      <td>1.139106</td>\n",
       "      <td>1.574362</td>\n",
       "      <td>0.83645</td>\n",
       "      <td>0.442082</td>\n",
       "      <td>0.413331</td>\n",
       "      <td>0.440537</td>\n",
       "      <td>0.569255</td>\n",
       "      <td>0.715401</td>\n",
       "      <td>0.609905</td>\n",
       "      <td>0.494259</td>\n",
       "      <td>0.416729</td>\n",
       "    </tr>\n",
       "  </tbody>\n",
       "</table>\n",
       "</div>"
      ],
      "text/plain": [
       "mnth                      1              2              3             4   \\\n",
       "          yr                                                               \n",
       "cnt       2016  38189.000000   48215.000000   64045.000000   94870.00000   \n",
       "          2017  96744.000000  103137.000000  164875.000000  174224.00000   \n",
       "variacion           1.533295       1.139106       1.574362       0.83645   \n",
       "\n",
       "mnth                       5              6              7              8   \\\n",
       "          yr                                                                 \n",
       "cnt       2016  135821.000000  143512.000000  141341.000000  136691.000000   \n",
       "          2017  195865.000000  202830.000000  203607.000000  214503.000000   \n",
       "variacion            0.442082       0.413331       0.440537       0.569255   \n",
       "\n",
       "mnth                       9              10             11             12  \n",
       "          yr                                                                \n",
       "cnt       2016  127418.000000  123511.000000  102167.000000   87323.000000  \n",
       "          2017  218573.000000  198841.000000  152664.000000  123713.000000  \n",
       "variacion            0.715401       0.609905       0.494259       0.416729  "
      ]
     },
     "execution_count": 122,
     "metadata": {},
     "output_type": "execute_result"
    }
   ],
   "source": [
    "df_mes_anno_tr"
   ]
  },
  {
   "cell_type": "markdown",
   "metadata": {},
   "source": [
    "Q2 ¿Cómo mejoramos la visualización del gráfico utilizando matplotlib?"
   ]
  },
  {
   "cell_type": "code",
   "execution_count": 97,
   "metadata": {},
   "outputs": [
    {
     "data": {
      "text/plain": [
       "<matplotlib.axes._subplots.AxesSubplot at 0x1244e9910>"
      ]
     },
     "execution_count": 97,
     "metadata": {},
     "output_type": "execute_result"
    },
    {
     "data": {
      "image/png": "[encoded data removed]",
      "text/plain": [
       "<Figure size 1080x504 with 1 Axes>"
      ]
     },
     "metadata": {
      "needs_background": "light"
     },
     "output_type": "display_data"
    }
   ],
   "source": [
    "#UTILIZANDO matplotlib.pyplot.plot() \n",
    "\n",
    "fig, ax = plt.subplots(figsize=(15,7))\n",
    "df_mes_anno_tr.plot(kind='bar',\n",
    "                          title='Comparativa',\n",
    "                          color=['b'], \n",
    "                          #subplots=True, \n",
    "                           stacked=False, # Asterisca subplot o Stacked y ve las diferencias\n",
    "                           ax=ax  )\n",
    "                                 "
   ]
  },
  {
   "cell_type": "markdown",
   "metadata": {},
   "source": [
    "## P2. ¿Existe pico de alquileres por día de la semana?"
   ]
  },
  {
   "cell_type": "markdown",
   "metadata": {},
   "source": [
    "Para contestar esta pregunta nos interesa analizar la información por día de la semana y por hora "
   ]
  },
  {
   "cell_type": "code",
   "execution_count": 47,
   "metadata": {},
   "outputs": [],
   "source": [
    "campos_filas=['hr']\n",
    "campos_columnas=['weekday']\n",
    "valores=['cnt']\n",
    "aggregate={'cnt':'mean'}\n",
    "df_horas_diasemana=pd.pivot_table(df_datos,\n",
    "                                    index=campos_filas,\n",
    "                                    columns=campos_columnas,\n",
    "                                    values=valores,\n",
    "                                    aggfunc=aggregate)\n",
    "\n"
   ]
  },
  {
   "cell_type": "code",
   "execution_count": 48,
   "metadata": {
    "scrolled": true
   },
   "outputs": [
    {
     "data": {
      "text/html": [
       "<div>\n",
       "<style scoped>\n",
       "    .dataframe tbody tr th:only-of-type {\n",
       "        vertical-align: middle;\n",
       "    }\n",
       "\n",
       "    .dataframe tbody tr th {\n",
       "        vertical-align: top;\n",
       "    }\n",
       "\n",
       "    .dataframe thead tr th {\n",
       "        text-align: left;\n",
       "    }\n",
       "\n",
       "    .dataframe thead tr:last-of-type th {\n",
       "        text-align: right;\n",
       "    }\n",
       "</style>\n",
       "<table border=\"1\" class=\"dataframe\">\n",
       "  <thead>\n",
       "    <tr>\n",
       "      <th></th>\n",
       "      <th colspan=\"7\" halign=\"left\">cnt</th>\n",
       "    </tr>\n",
       "    <tr>\n",
       "      <th>weekday</th>\n",
       "      <th>0.Domingo</th>\n",
       "      <th>1.Lunes</th>\n",
       "      <th>2.Martes</th>\n",
       "      <th>3.Miércoles</th>\n",
       "      <th>4.Jueves</th>\n",
       "      <th>5.Viernes</th>\n",
       "      <th>6.Sábado</th>\n",
       "    </tr>\n",
       "    <tr>\n",
       "      <th>hr</th>\n",
       "      <th></th>\n",
       "      <th></th>\n",
       "      <th></th>\n",
       "      <th></th>\n",
       "      <th></th>\n",
       "      <th></th>\n",
       "      <th></th>\n",
       "    </tr>\n",
       "  </thead>\n",
       "  <tbody>\n",
       "    <tr>\n",
       "      <th>0</th>\n",
       "      <td>93.990385</td>\n",
       "      <td>34.009524</td>\n",
       "      <td>27.623762</td>\n",
       "      <td>34.557692</td>\n",
       "      <td>39.271845</td>\n",
       "      <td>52.432692</td>\n",
       "      <td>94.304762</td>\n",
       "    </tr>\n",
       "    <tr>\n",
       "      <th>1</th>\n",
       "      <td>77.432692</td>\n",
       "      <td>17.307692</td>\n",
       "      <td>12.540000</td>\n",
       "      <td>15.336538</td>\n",
       "      <td>17.223301</td>\n",
       "      <td>24.721154</td>\n",
       "      <td>67.780952</td>\n",
       "    </tr>\n",
       "    <tr>\n",
       "      <th>2</th>\n",
       "      <td>61.627451</td>\n",
       "      <td>10.313131</td>\n",
       "      <td>6.801980</td>\n",
       "      <td>7.813725</td>\n",
       "      <td>9.156863</td>\n",
       "      <td>12.740385</td>\n",
       "      <td>50.495238</td>\n",
       "    </tr>\n",
       "    <tr>\n",
       "      <th>3</th>\n",
       "      <td>31.144231</td>\n",
       "      <td>5.113402</td>\n",
       "      <td>4.152174</td>\n",
       "      <td>4.888889</td>\n",
       "      <td>5.071429</td>\n",
       "      <td>6.598039</td>\n",
       "      <td>22.885714</td>\n",
       "    </tr>\n",
       "    <tr>\n",
       "      <th>4</th>\n",
       "      <td>9.362745</td>\n",
       "      <td>5.785714</td>\n",
       "      <td>5.131313</td>\n",
       "      <td>4.968750</td>\n",
       "      <td>5.280000</td>\n",
       "      <td>6.072165</td>\n",
       "      <td>7.657143</td>\n",
       "    </tr>\n",
       "    <tr>\n",
       "      <th>5</th>\n",
       "      <td>8.693878</td>\n",
       "      <td>21.653846</td>\n",
       "      <td>24.455446</td>\n",
       "      <td>25.750000</td>\n",
       "      <td>25.912621</td>\n",
       "      <td>23.903846</td>\n",
       "      <td>8.291262</td>\n",
       "    </tr>\n",
       "    <tr>\n",
       "      <th>6</th>\n",
       "      <td>14.495146</td>\n",
       "      <td>85.865385</td>\n",
       "      <td>106.500000</td>\n",
       "      <td>107.807692</td>\n",
       "      <td>107.436893</td>\n",
       "      <td>90.028846</td>\n",
       "      <td>21.000000</td>\n",
       "    </tr>\n",
       "    <tr>\n",
       "      <th>7</th>\n",
       "      <td>33.104762</td>\n",
       "      <td>248.538462</td>\n",
       "      <td>299.696078</td>\n",
       "      <td>303.980769</td>\n",
       "      <td>304.737864</td>\n",
       "      <td>254.326923</td>\n",
       "      <td>45.961905</td>\n",
       "    </tr>\n",
       "    <tr>\n",
       "      <th>8</th>\n",
       "      <td>83.857143</td>\n",
       "      <td>412.192308</td>\n",
       "      <td>471.784314</td>\n",
       "      <td>488.326923</td>\n",
       "      <td>488.572816</td>\n",
       "      <td>462.278846</td>\n",
       "      <td>114.476190</td>\n",
       "    </tr>\n",
       "    <tr>\n",
       "      <th>9</th>\n",
       "      <td>156.542857</td>\n",
       "      <td>218.442308</td>\n",
       "      <td>236.450980</td>\n",
       "      <td>238.528846</td>\n",
       "      <td>240.873786</td>\n",
       "      <td>258.990385</td>\n",
       "      <td>186.790476</td>\n",
       "    </tr>\n",
       "    <tr>\n",
       "      <th>10</th>\n",
       "      <td>258.580952</td>\n",
       "      <td>139.028846</td>\n",
       "      <td>129.225490</td>\n",
       "      <td>131.894231</td>\n",
       "      <td>132.563107</td>\n",
       "      <td>157.730769</td>\n",
       "      <td>263.723810</td>\n",
       "    </tr>\n",
       "    <tr>\n",
       "      <th>11</th>\n",
       "      <td>315.380952</td>\n",
       "      <td>163.692308</td>\n",
       "      <td>146.313725</td>\n",
       "      <td>152.201923</td>\n",
       "      <td>158.834951</td>\n",
       "      <td>188.115385</td>\n",
       "      <td>328.609524</td>\n",
       "    </tr>\n",
       "    <tr>\n",
       "      <th>12</th>\n",
       "      <td>372.961905</td>\n",
       "      <td>207.509615</td>\n",
       "      <td>182.776699</td>\n",
       "      <td>193.903846</td>\n",
       "      <td>199.514563</td>\n",
       "      <td>237.644231</td>\n",
       "      <td>375.380952</td>\n",
       "    </tr>\n",
       "    <tr>\n",
       "      <th>13</th>\n",
       "      <td>374.933333</td>\n",
       "      <td>205.615385</td>\n",
       "      <td>182.990385</td>\n",
       "      <td>185.826923</td>\n",
       "      <td>196.436893</td>\n",
       "      <td>241.471154</td>\n",
       "      <td>385.371429</td>\n",
       "    </tr>\n",
       "    <tr>\n",
       "      <th>14</th>\n",
       "      <td>363.628571</td>\n",
       "      <td>192.701923</td>\n",
       "      <td>168.365385</td>\n",
       "      <td>170.548077</td>\n",
       "      <td>177.563107</td>\n",
       "      <td>229.365385</td>\n",
       "      <td>381.333333</td>\n",
       "    </tr>\n",
       "    <tr>\n",
       "      <th>15</th>\n",
       "      <td>353.933333</td>\n",
       "      <td>202.365385</td>\n",
       "      <td>186.903846</td>\n",
       "      <td>181.288462</td>\n",
       "      <td>196.475728</td>\n",
       "      <td>252.461538</td>\n",
       "      <td>382.428571</td>\n",
       "    </tr>\n",
       "    <tr>\n",
       "      <th>16</th>\n",
       "      <td>355.400000</td>\n",
       "      <td>284.451923</td>\n",
       "      <td>286.701923</td>\n",
       "      <td>272.961538</td>\n",
       "      <td>286.298077</td>\n",
       "      <td>330.990385</td>\n",
       "      <td>366.142857</td>\n",
       "    </tr>\n",
       "    <tr>\n",
       "      <th>17</th>\n",
       "      <td>318.771429</td>\n",
       "      <td>502.394231</td>\n",
       "      <td>544.278846</td>\n",
       "      <td>513.144231</td>\n",
       "      <td>527.346154</td>\n",
       "      <td>492.413462</td>\n",
       "      <td>334.409524</td>\n",
       "    </tr>\n",
       "    <tr>\n",
       "      <th>18</th>\n",
       "      <td>272.628571</td>\n",
       "      <td>481.346154</td>\n",
       "      <td>517.567308</td>\n",
       "      <td>494.029126</td>\n",
       "      <td>502.096154</td>\n",
       "      <td>420.990385</td>\n",
       "      <td>292.048077</td>\n",
       "    </tr>\n",
       "    <tr>\n",
       "      <th>19</th>\n",
       "      <td>225.476190</td>\n",
       "      <td>344.576923</td>\n",
       "      <td>353.923077</td>\n",
       "      <td>357.504854</td>\n",
       "      <td>358.451923</td>\n",
       "      <td>302.067308</td>\n",
       "      <td>239.932692</td>\n",
       "    </tr>\n",
       "    <tr>\n",
       "      <th>20</th>\n",
       "      <td>168.028571</td>\n",
       "      <td>242.076923</td>\n",
       "      <td>253.192308</td>\n",
       "      <td>256.660194</td>\n",
       "      <td>268.913462</td>\n",
       "      <td>213.326923</td>\n",
       "      <td>180.865385</td>\n",
       "    </tr>\n",
       "    <tr>\n",
       "      <th>21</th>\n",
       "      <td>127.647619</td>\n",
       "      <td>174.538462</td>\n",
       "      <td>186.230769</td>\n",
       "      <td>194.669903</td>\n",
       "      <td>197.884615</td>\n",
       "      <td>169.875000</td>\n",
       "      <td>156.000000</td>\n",
       "    </tr>\n",
       "    <tr>\n",
       "      <th>22</th>\n",
       "      <td>94.123810</td>\n",
       "      <td>115.759615</td>\n",
       "      <td>132.278846</td>\n",
       "      <td>143.689320</td>\n",
       "      <td>147.240385</td>\n",
       "      <td>147.067308</td>\n",
       "      <td>139.663462</td>\n",
       "    </tr>\n",
       "    <tr>\n",
       "      <th>23</th>\n",
       "      <td>61.895238</td>\n",
       "      <td>65.403846</td>\n",
       "      <td>76.173077</td>\n",
       "      <td>83.737864</td>\n",
       "      <td>96.750000</td>\n",
       "      <td>115.211538</td>\n",
       "      <td>115.855769</td>\n",
       "    </tr>\n",
       "  </tbody>\n",
       "</table>\n",
       "</div>"
      ],
      "text/plain": [
       "                cnt                                                  \\\n",
       "weekday   0.Domingo     1.Lunes    2.Martes 3.Miércoles    4.Jueves   \n",
       "hr                                                                    \n",
       "0         93.990385   34.009524   27.623762   34.557692   39.271845   \n",
       "1         77.432692   17.307692   12.540000   15.336538   17.223301   \n",
       "2         61.627451   10.313131    6.801980    7.813725    9.156863   \n",
       "3         31.144231    5.113402    4.152174    4.888889    5.071429   \n",
       "4          9.362745    5.785714    5.131313    4.968750    5.280000   \n",
       "5          8.693878   21.653846   24.455446   25.750000   25.912621   \n",
       "6         14.495146   85.865385  106.500000  107.807692  107.436893   \n",
       "7         33.104762  248.538462  299.696078  303.980769  304.737864   \n",
       "8         83.857143  412.192308  471.784314  488.326923  488.572816   \n",
       "9        156.542857  218.442308  236.450980  238.528846  240.873786   \n",
       "10       258.580952  139.028846  129.225490  131.894231  132.563107   \n",
       "11       315.380952  163.692308  146.313725  152.201923  158.834951   \n",
       "12       372.961905  207.509615  182.776699  193.903846  199.514563   \n",
       "13       374.933333  205.615385  182.990385  185.826923  196.436893   \n",
       "14       363.628571  192.701923  168.365385  170.548077  177.563107   \n",
       "15       353.933333  202.365385  186.903846  181.288462  196.475728   \n",
       "16       355.400000  284.451923  286.701923  272.961538  286.298077   \n",
       "17       318.771429  502.394231  544.278846  513.144231  527.346154   \n",
       "18       272.628571  481.346154  517.567308  494.029126  502.096154   \n",
       "19       225.476190  344.576923  353.923077  357.504854  358.451923   \n",
       "20       168.028571  242.076923  253.192308  256.660194  268.913462   \n",
       "21       127.647619  174.538462  186.230769  194.669903  197.884615   \n",
       "22        94.123810  115.759615  132.278846  143.689320  147.240385   \n",
       "23        61.895238   65.403846   76.173077   83.737864   96.750000   \n",
       "\n",
       "                                 \n",
       "weekday   5.Viernes    6.Sábado  \n",
       "hr                               \n",
       "0         52.432692   94.304762  \n",
       "1         24.721154   67.780952  \n",
       "2         12.740385   50.495238  \n",
       "3          6.598039   22.885714  \n",
       "4          6.072165    7.657143  \n",
       "5         23.903846    8.291262  \n",
       "6         90.028846   21.000000  \n",
       "7        254.326923   45.961905  \n",
       "8        462.278846  114.476190  \n",
       "9        258.990385  186.790476  \n",
       "10       157.730769  263.723810  \n",
       "11       188.115385  328.609524  \n",
       "12       237.644231  375.380952  \n",
       "13       241.471154  385.371429  \n",
       "14       229.365385  381.333333  \n",
       "15       252.461538  382.428571  \n",
       "16       330.990385  366.142857  \n",
       "17       492.413462  334.409524  \n",
       "18       420.990385  292.048077  \n",
       "19       302.067308  239.932692  \n",
       "20       213.326923  180.865385  \n",
       "21       169.875000  156.000000  \n",
       "22       147.067308  139.663462  \n",
       "23       115.211538  115.855769  "
      ]
     },
     "execution_count": 48,
     "metadata": {},
     "output_type": "execute_result"
    }
   ],
   "source": [
    "df_horas_diasemana"
   ]
  },
  {
   "cell_type": "code",
   "execution_count": 49,
   "metadata": {},
   "outputs": [
    {
     "data": {
      "text/plain": [
       "<matplotlib.axes._subplots.AxesSubplot at 0x12434dcd0>"
      ]
     },
     "execution_count": 49,
     "metadata": {},
     "output_type": "execute_result"
    },
    {
     "data": {
      "image/png": "[encoded data removed]",
      "text/plain": [
       "<Figure size 576x360 with 1 Axes>"
      ]
     },
     "metadata": {
      "needs_background": "light"
     },
     "output_type": "display_data"
    }
   ],
   "source": [
    "# Grafica la respuesta\n",
    "df_horas_diasemana.plot()\n",
    "# Existen dos picos en los dias laborables sobre las 8 am y a las 17:00 pm"
   ]
  },
  {
   "cell_type": "markdown",
   "metadata": {},
   "source": [
    "## P3 HISTOGRAMAS "
   ]
  },
  {
   "cell_type": "markdown",
   "metadata": {},
   "source": [
    "Creamos un histograma para los alquilres y otro para ver la temperatura"
   ]
  },
  {
   "cell_type": "code",
   "execution_count": 130,
   "metadata": {},
   "outputs": [],
   "source": [
    "# Repetimos en este código la funcion grouper para verlo mejor, veamos como agrupa los alquileres por fecha\n",
    "# cambiando la fecha a D,M,Q,Y ...\n",
    "fecha=pd.Grouper(key='dteday', freq='M')\n",
    "\n",
    "campos_filas=[fecha]\n",
    "#campos_columnas=['yr']\n",
    "campos_valores=['temp','cnt']\n",
    "agregados={'temp': np.sum,'cnt':np.sum}\n",
    "\n",
    "alquiler_temperatura=pd.pivot_table(df_datos,\n",
    "                                    index=campos_filas,\n",
    "#                                    columns=campos_columnas,\n",
    "                                    values=campos_valores,\n",
    "                                    aggfunc=agregados)\n",
    "#df_datos"
   ]
  },
  {
   "cell_type": "code",
   "execution_count": 131,
   "metadata": {},
   "outputs": [
    {
     "data": {
      "text/html": [
       "<div>\n",
       "<style scoped>\n",
       "    .dataframe tbody tr th:only-of-type {\n",
       "        vertical-align: middle;\n",
       "    }\n",
       "\n",
       "    .dataframe tbody tr th {\n",
       "        vertical-align: top;\n",
       "    }\n",
       "\n",
       "    .dataframe thead th {\n",
       "        text-align: right;\n",
       "    }\n",
       "</style>\n",
       "<table border=\"1\" class=\"dataframe\">\n",
       "  <thead>\n",
       "    <tr style=\"text-align: right;\">\n",
       "      <th></th>\n",
       "      <th>cnt</th>\n",
       "      <th>temp</th>\n",
       "    </tr>\n",
       "    <tr>\n",
       "      <th>dteday</th>\n",
       "      <th></th>\n",
       "      <th></th>\n",
       "    </tr>\n",
       "  </thead>\n",
       "  <tbody>\n",
       "    <tr>\n",
       "      <th>2016-01-31</th>\n",
       "      <td>38189</td>\n",
       "      <td>135.82</td>\n",
       "    </tr>\n",
       "    <tr>\n",
       "      <th>2016-02-29</th>\n",
       "      <td>50049</td>\n",
       "      <td>192.22</td>\n",
       "    </tr>\n",
       "    <tr>\n",
       "      <th>2016-03-31</th>\n",
       "      <td>64045</td>\n",
       "      <td>241.80</td>\n",
       "    </tr>\n",
       "    <tr>\n",
       "      <th>2016-04-30</th>\n",
       "      <td>94870</td>\n",
       "      <td>338.66</td>\n",
       "    </tr>\n",
       "    <tr>\n",
       "      <th>2016-05-31</th>\n",
       "      <td>135821</td>\n",
       "      <td>429.46</td>\n",
       "    </tr>\n",
       "  </tbody>\n",
       "</table>\n",
       "</div>"
      ],
      "text/plain": [
       "               cnt    temp\n",
       "dteday                    \n",
       "2016-01-31   38189  135.82\n",
       "2016-02-29   50049  192.22\n",
       "2016-03-31   64045  241.80\n",
       "2016-04-30   94870  338.66\n",
       "2016-05-31  135821  429.46"
      ]
     },
     "execution_count": 131,
     "metadata": {},
     "output_type": "execute_result"
    }
   ],
   "source": [
    "alquiler_temperatura.head()"
   ]
  },
  {
   "cell_type": "code",
   "execution_count": 132,
   "metadata": {},
   "outputs": [],
   "source": [
    "# Repetimos en este código la funcion grouper para verlo mejor, veamos como agrupa los alquileres por fecha\n",
    "# cambiando la fecha a D,M,Q,Y ...\n",
    "fecha=pd.Grouper(key='dteday', freq='M')\n",
    "\n",
    "campos_filas=[fecha]\n",
    "#campos_columnas=['yr']\n",
    "campos_valores=['cnt']\n",
    "agregados={'cnt': np.sum}\n",
    "\n",
    "alquileres=pd.pivot_table(df_datos,\n",
    "                                    index=campos_filas,\n",
    "#                                    columns=campos_columnas,\n",
    "                                    values=campos_valores,\n",
    "                                    aggfunc=agregados)\n",
    "#df_datos"
   ]
  },
  {
   "cell_type": "code",
   "execution_count": 133,
   "metadata": {},
   "outputs": [
    {
     "data": {
      "text/html": [
       "<div>\n",
       "<style scoped>\n",
       "    .dataframe tbody tr th:only-of-type {\n",
       "        vertical-align: middle;\n",
       "    }\n",
       "\n",
       "    .dataframe tbody tr th {\n",
       "        vertical-align: top;\n",
       "    }\n",
       "\n",
       "    .dataframe thead th {\n",
       "        text-align: right;\n",
       "    }\n",
       "</style>\n",
       "<table border=\"1\" class=\"dataframe\">\n",
       "  <thead>\n",
       "    <tr style=\"text-align: right;\">\n",
       "      <th></th>\n",
       "      <th>cnt</th>\n",
       "    </tr>\n",
       "    <tr>\n",
       "      <th>dteday</th>\n",
       "      <th></th>\n",
       "    </tr>\n",
       "  </thead>\n",
       "  <tbody>\n",
       "    <tr>\n",
       "      <th>2016-01-31</th>\n",
       "      <td>38189</td>\n",
       "    </tr>\n",
       "    <tr>\n",
       "      <th>2016-02-29</th>\n",
       "      <td>50049</td>\n",
       "    </tr>\n",
       "    <tr>\n",
       "      <th>2016-03-31</th>\n",
       "      <td>64045</td>\n",
       "    </tr>\n",
       "    <tr>\n",
       "      <th>2016-04-30</th>\n",
       "      <td>94870</td>\n",
       "    </tr>\n",
       "    <tr>\n",
       "      <th>2016-05-31</th>\n",
       "      <td>135821</td>\n",
       "    </tr>\n",
       "  </tbody>\n",
       "</table>\n",
       "</div>"
      ],
      "text/plain": [
       "               cnt\n",
       "dteday            \n",
       "2016-01-31   38189\n",
       "2016-02-29   50049\n",
       "2016-03-31   64045\n",
       "2016-04-30   94870\n",
       "2016-05-31  135821"
      ]
     },
     "execution_count": 133,
     "metadata": {},
     "output_type": "execute_result"
    }
   ],
   "source": [
    "alquileres.head()"
   ]
  },
  {
   "cell_type": "code",
   "execution_count": 179,
   "metadata": {
    "scrolled": true
   },
   "outputs": [
    {
     "data": {
      "text/plain": [
       "<matplotlib.axes._subplots.AxesSubplot at 0x1286bbf10>"
      ]
     },
     "execution_count": 179,
     "metadata": {},
     "output_type": "execute_result"
    },
    {
     "data": {
      "image/png": "[encoded data removed]",
      "text/plain": [
       "<Figure size 1080x504 with 2 Axes>"
      ]
     },
     "metadata": {
      "needs_background": "light"
     },
     "output_type": "display_data"
    }
   ],
   "source": [
    "fig,axes = plt.subplots(nrows=1, ncols=2,figsize=(15, 7))\n",
    "ax0 = axes[0]\n",
    "alquiler_temperatura.temp.plot(kind='bar',ax=ax0,title='Temperatura')\n",
    "# si queremos que los os gráficos tengan la misma escala fijamos la escala del primero como la del segundo\n",
    "ax1 = axes[1]\n",
    "alquileres.cnt.plot(kind='bar',ax=ax1,title='Alquieres')"
   ]
  },
  {
   "cell_type": "markdown",
   "metadata": {},
   "source": [
    "## P4 CORRELACIONES"
   ]
  },
  {
   "cell_type": "markdown",
   "metadata": {},
   "source": [
    "Veamos la relación entre temperatura, alquileres y meses ( indepenientemente si ha sido un mes del primer mes o del segundo)\n",
    "\n",
    "El detalle de la correlación analizaremos si es mejor a nivel día, mes , trimestre.."
   ]
  },
  {
   "cell_type": "code",
   "execution_count": 189,
   "metadata": {},
   "outputs": [],
   "source": [
    "fecha=pd.Grouper(key='dteday', freq='D')\n",
    "campos_filas=[fecha]\n",
    "#campos_columnas=['yr']\n",
    "campos_valores=['temp','cnt']\n",
    "agregados={np.mean}\n",
    "#agregados={'cnt':[np.sum,np.mean] }\n",
    "relacion_mes=pd.pivot_table(df_datos,\n",
    "                                    index=campos_filas,\n",
    "#                                    columns=campos_columnas,\n",
    "                                    values=campos_valores,\n",
    "                                    aggfunc=agregados)"
   ]
  },
  {
   "cell_type": "code",
   "execution_count": 191,
   "metadata": {},
   "outputs": [
    {
     "data": {
      "text/plain": [
       "<matplotlib.collections.PathCollection at 0x1298bea50>"
      ]
     },
     "execution_count": 191,
     "metadata": {},
     "output_type": "execute_result"
    },
    {
     "data": {
      "image/png": "[encoded data removed]",
      "text/plain": [
       "<Figure size 576x360 with 1 Axes>"
      ]
     },
     "metadata": {
      "needs_background": "light"
     },
     "output_type": "display_data"
    }
   ],
   "source": [
    "# Normalizamos para comparar de manera rapida y se ve que hay linelidad\n",
    "X = relacion_mes.cnt/731\n",
    "Y = relacion_mes.temp/731\n",
    "plt.scatter(X, Y)\n"
   ]
  },
  {
   "cell_type": "markdown",
   "metadata": {},
   "source": [
    "### Opcional: Regresion lineal\n",
    "¿Sabemos calcular una regresion lineal ?  \n",
    "\n",
    "Utilizamos la funcion np polifit, nos busca el poligono ( en este caso de grado1) que mejor se adapta a estos puntos. el primer valor es la x el segundo la constante. "
   ]
  },
  {
   "cell_type": "code",
   "execution_count": 137,
   "metadata": {},
   "outputs": [],
   "source": [
    "#Con las variables temperatura ( temp) y alquileres creamos un array \n",
    "#( utilizamos .:,0 para quitar los dobles corchetes)\n",
    "# ya que sino lo traduce como un array de dos dimensiones. \n",
    "\n",
    "x1 =np.array(relacion_mes.temp)[:,0]\n",
    "y1 =np.array(relacion_mes.cnt)[:,0]\n"
   ]
  },
  {
   "cell_type": "code",
   "execution_count": 138,
   "metadata": {},
   "outputs": [
    {
     "data": {
      "text/plain": [
       "array([273.96973878,  52.69879975])"
      ]
     },
     "execution_count": 138,
     "metadata": {},
     "output_type": "execute_result"
    }
   ],
   "source": [
    "l_model1 = np.polyfit(x1,y1, 1)\n",
    "# l_model1, para un grado, nos devuelve dos valores, la inclinación y la constante Y=mx+c \n",
    "# m es el primer valor que nos devuelve y c el segudon\n",
    "l_model1"
   ]
  },
  {
   "cell_type": "markdown",
   "metadata": {},
   "source": [
    "¿Que valores devuelve l_model1 si utilizamos 2 grados?"
   ]
  },
  {
   "cell_type": "code",
   "execution_count": 181,
   "metadata": {},
   "outputs": [
    {
     "data": {
      "text/plain": [
       "array([-616.97688862,  879.11104294,  -75.02393836])"
      ]
     },
     "execution_count": 181,
     "metadata": {},
     "output_type": "execute_result"
    }
   ],
   "source": [
    "l_model2 = np.polyfit(x1,y1, 2)\n",
    "l_model2"
   ]
  },
  {
   "cell_type": "markdown",
   "metadata": {},
   "source": [
    "La función zip() toma como argumento dos o más objetos iterables (idealmente cada uno de ellos con la misma cantidad de elementos) y retorna un nuevo iterable cuyos elementos son tuplas que contienen un elemento de cada uno de los iteradores originales.\n",
    "* **Ejemplo**  \n",
    ">>> paises = [\"China\", \"India\", \"Estados Unidos\", \"Indonesia\"]  \n",
    ">>> poblaciones = [1391, 1364, 327, 264]  \n",
    ">>> list(zip(paises, poblaciones)) \n",
    "[('China', 1391), ('India', 1364), ('Estados Unidos', 327), ('Indonesia', 264)]"
   ]
  },
  {
   "cell_type": "code",
   "execution_count": 139,
   "metadata": {},
   "outputs": [],
   "source": [
    "r_x, r_y1 =zip(*((i, i*l_model1[0] + l_model1[1]) for i in x1))"
   ]
  },
  {
   "cell_type": "code",
   "execution_count": 128,
   "metadata": {},
   "outputs": [],
   "source": [
    "#r_x,r_y1"
   ]
  },
  {
   "cell_type": "code",
   "execution_count": null,
   "metadata": {},
   "outputs": [],
   "source": [
    "#A continuación un ejemplo de una correlación y su recta de regresión. \n",
    "#Completa el código para que a tí también te salga el resultado"
   ]
  },
  {
   "cell_type": "code",
   "execution_count": 140,
   "metadata": {},
   "outputs": [
    {
     "data": {
      "text/plain": [
       "[<matplotlib.lines.Line2D at 0x127f87690>]"
      ]
     },
     "execution_count": 140,
     "metadata": {},
     "output_type": "execute_result"
    },
    {
     "data": {
      "image/png": "[encoded data removed]",
      "text/plain": [
       "<Figure size 360x360 with 1 Axes>"
      ]
     },
     "metadata": {
      "needs_background": "light"
     },
     "output_type": "display_data"
    }
   ],
   "source": [
    "relacion_mes.plot(kind='scatter',\n",
    "                     x='temp',\n",
    "                     y='cnt',\n",
    "                     title='¿Cuál es la relación entre la temperatura y los alquileres?',\n",
    "                     color='g',\n",
    "                     grid=True,\n",
    "                     alpha=0.50,\n",
    "                     figsize=(5,5),\n",
    "                     fontsize=11)\n",
    "plot(r_x,r_y1)\n",
    "#UTILIZANDO matplotlib.pyplot.plot() \n",
    "#plt.scatter(relacion_mes.temp,relacion_mes.cnt)"
   ]
  },
  {
   "cell_type": "code",
   "execution_count": 142,
   "metadata": {},
   "outputs": [
    {
     "data": {
      "text/plain": [
       "<matplotlib.axes._subplots.AxesSubplot at 0x1280aa050>"
      ]
     },
     "execution_count": 142,
     "metadata": {},
     "output_type": "execute_result"
    },
    {
     "data": {
      "image/png": "[encoded data removed]",
      "text/plain": [
       "<Figure size 576x360 with 1 Axes>"
      ]
     },
     "metadata": {
      "needs_background": "light"
     },
     "output_type": "display_data"
    }
   ],
   "source": [
    "# UTILIZANDO pandas.DataFrame.plot() \n",
    "alquiler_temperatura.plot(kind='scatter',\n",
    "                     x='temp',\n",
    "                     y='cnt',\n",
    "                     title='Relación temperatura y alquileres a nivel diario')\n"
   ]
  },
  {
   "cell_type": "code",
   "execution_count": 148,
   "metadata": {},
   "outputs": [
    {
     "data": {
      "text/plain": [
       "<matplotlib.collections.PathCollection at 0x12481ead0>"
      ]
     },
     "execution_count": 148,
     "metadata": {},
     "output_type": "execute_result"
    },
    {
     "data": {
      "image/png": "[encoded data removed]",
      "text/plain": [
       "<Figure size 576x360 with 1 Axes>"
      ]
     },
     "metadata": {
      "needs_background": "light"
     },
     "output_type": "display_data"
    }
   ],
   "source": [
    "#UTILIZANDO matplotlib.pyplot.plot() \n",
    "plt.scatter(alquiler_temperatura.temp,alquiler_temperatura.cnt)"
   ]
  },
  {
   "cell_type": "markdown",
   "metadata": {},
   "source": [
    "¿Vemos relación entre el alquiler diario y la temperatura?\n",
    "¿Que pasa si agrupamos por alquiler mensual? ¿Cómo agrupamos?"
   ]
  },
  {
   "cell_type": "code",
   "execution_count": 254,
   "metadata": {},
   "outputs": [],
   "source": [
    "# Repetimos en este código la funcion grouper para verlo mejor, veamos como agrupa los alquileres por fecha\n",
    "# cambiando la fecha a D,M,Q,Y ...\n",
    "fecha=pd.Grouper(key='dteday', freq='D')\n",
    "\n",
    "campos_filas=[fecha]\n",
    "#campos_columnas=['yr']\n",
    "campos_valores=['temp','cnt','yr']\n",
    "agregados={'cnt':np.mean,'temp':np.mean,'yr':np.mean}\n",
    "\n",
    "\n",
    "alquiler_temperatura=pd.pivot_table(df_datos,\n",
    "                                    index=campos_filas,\n",
    "#                                    columns=campos_columnas,\n",
    "                                    values=campos_valores,\n",
    "                                    aggfunc=agregados)"
   ]
  },
  {
   "cell_type": "code",
   "execution_count": 255,
   "metadata": {},
   "outputs": [
    {
     "data": {
      "text/html": [
       "<div>\n",
       "<style scoped>\n",
       "    .dataframe tbody tr th:only-of-type {\n",
       "        vertical-align: middle;\n",
       "    }\n",
       "\n",
       "    .dataframe tbody tr th {\n",
       "        vertical-align: top;\n",
       "    }\n",
       "\n",
       "    .dataframe thead th {\n",
       "        text-align: right;\n",
       "    }\n",
       "</style>\n",
       "<table border=\"1\" class=\"dataframe\">\n",
       "  <thead>\n",
       "    <tr style=\"text-align: right;\">\n",
       "      <th></th>\n",
       "      <th>cnt</th>\n",
       "      <th>temp</th>\n",
       "      <th>yr</th>\n",
       "    </tr>\n",
       "    <tr>\n",
       "      <th>dteday</th>\n",
       "      <th></th>\n",
       "      <th></th>\n",
       "      <th></th>\n",
       "    </tr>\n",
       "  </thead>\n",
       "  <tbody>\n",
       "    <tr>\n",
       "      <th>2016-01-01</th>\n",
       "      <td>41.041667</td>\n",
       "      <td>0.344167</td>\n",
       "      <td>2016</td>\n",
       "    </tr>\n",
       "    <tr>\n",
       "      <th>2016-01-02</th>\n",
       "      <td>34.826087</td>\n",
       "      <td>0.363478</td>\n",
       "      <td>2016</td>\n",
       "    </tr>\n",
       "    <tr>\n",
       "      <th>2016-01-03</th>\n",
       "      <td>61.318182</td>\n",
       "      <td>0.196364</td>\n",
       "      <td>2016</td>\n",
       "    </tr>\n",
       "    <tr>\n",
       "      <th>2016-01-04</th>\n",
       "      <td>67.913043</td>\n",
       "      <td>0.200000</td>\n",
       "      <td>2016</td>\n",
       "    </tr>\n",
       "    <tr>\n",
       "      <th>2016-01-05</th>\n",
       "      <td>69.565217</td>\n",
       "      <td>0.226957</td>\n",
       "      <td>2016</td>\n",
       "    </tr>\n",
       "  </tbody>\n",
       "</table>\n",
       "</div>"
      ],
      "text/plain": [
       "                  cnt      temp    yr\n",
       "dteday                               \n",
       "2016-01-01  41.041667  0.344167  2016\n",
       "2016-01-02  34.826087  0.363478  2016\n",
       "2016-01-03  61.318182  0.196364  2016\n",
       "2016-01-04  67.913043  0.200000  2016\n",
       "2016-01-05  69.565217  0.226957  2016"
      ]
     },
     "execution_count": 255,
     "metadata": {},
     "output_type": "execute_result"
    }
   ],
   "source": [
    "alquiler_temperatura.head()"
   ]
  },
  {
   "cell_type": "code",
   "execution_count": 256,
   "metadata": {},
   "outputs": [
    {
     "data": {
      "text/plain": [
       "<matplotlib.axes._subplots.AxesSubplot at 0x12adc0350>"
      ]
     },
     "execution_count": 256,
     "metadata": {},
     "output_type": "execute_result"
    },
    {
     "data": {
      "image/png": "[encoded data removed]",
      "text/plain": [
       "<Figure size 576x360 with 1 Axes>"
      ]
     },
     "metadata": {
      "needs_background": "light"
     },
     "output_type": "display_data"
    }
   ],
   "source": [
    "# UTILIZANDO pandas.DataFrame.plot() \n",
    "alquiler_temperatura.plot(kind='scatter',\n",
    "                     x='temp',\n",
    "                     y='cnt',\n",
    "                     title='¿Cuál es la relación entre la temperatura y los alquileres?')"
   ]
  },
  {
   "cell_type": "markdown",
   "metadata": {},
   "source": [
    "A continuación vamos a pensar como diferenciamos cada año de un color para que el gráfico sea mas visual. "
   ]
  },
  {
   "cell_type": "code",
   "execution_count": 265,
   "metadata": {},
   "outputs": [
    {
     "data": {
      "image/png": "[encoded data removed]",
      "text/plain": [
       "<Figure size 576x360 with 1 Axes>"
      ]
     },
     "metadata": {
      "needs_background": "light"
     },
     "output_type": "display_data"
    }
   ],
   "source": [
    "#Nos interesaa tener el año para poder utilizarlo de colores\n",
    "\n",
    "fig, ax = plt.subplots()\n",
    "scatter = ax.scatter(alquiler_temperatura.temp, alquiler_temperatura.cnt, c=alquiler_temperatura.yr)\n",
    "#plt.scatter(alquiler_temperatura.temp,alquiler_temperatura.cnt,c=alquiler_temperatura.yr)\n",
    "legend1 = ax.legend(*scatter.legend_elements(),\n",
    "                    loc=\"upper left\", title=\"Years\")\n",
    "ax.add_artist(legend1)\n",
    "\n",
    "plt.show()"
   ]
  },
  {
   "cell_type": "markdown",
   "metadata": {},
   "source": [
    "Completa :   \n",
    "* ¿Podríamos añadir más información ?\n",
    "* ¿Cual ?\n",
    " "
   ]
  },
  {
   "cell_type": "code",
   "execution_count": null,
   "metadata": {},
   "outputs": [],
   "source": [
    "Una legenda con el año por ejemplo"
   ]
  },
  {
   "cell_type": "markdown",
   "metadata": {},
   "source": [
    "## ANEXO \n",
    "###  ¿La evolución del alquiler de los usuarios registrados y de los esporádicos es la misma?"
   ]
  },
  {
   "cell_type": "code",
   "execution_count": 170,
   "metadata": {},
   "outputs": [],
   "source": [
    "fecha=pd.Grouper(key='dteday', freq='Q')\n",
    "campos_filas=[fecha]\n",
    "#campos_columnas=['yr']\n",
    "campos_valores=['casual','registered']\n",
    "agregados={np.mean}\n",
    "#agregados={'cnt':[np.sum,np.mean] }\n",
    "\n",
    "evolucion_casual_registered=pd.pivot_table(df_datos,\n",
    "                                    index=campos_filas,\n",
    "#                                    columns=campos_columnas,\n",
    "                                    values=campos_valores,\n",
    "                                    aggfunc=agregados)"
   ]
  },
  {
   "cell_type": "code",
   "execution_count": 171,
   "metadata": {},
   "outputs": [
    {
     "data": {
      "text/html": [
       "<div>\n",
       "<style scoped>\n",
       "    .dataframe tbody tr th:only-of-type {\n",
       "        vertical-align: middle;\n",
       "    }\n",
       "\n",
       "    .dataframe tbody tr th {\n",
       "        vertical-align: top;\n",
       "    }\n",
       "\n",
       "    .dataframe thead tr th {\n",
       "        text-align: left;\n",
       "    }\n",
       "\n",
       "    .dataframe thead tr:last-of-type th {\n",
       "        text-align: right;\n",
       "    }\n",
       "</style>\n",
       "<table border=\"1\" class=\"dataframe\">\n",
       "  <thead>\n",
       "    <tr>\n",
       "      <th></th>\n",
       "      <th>casual</th>\n",
       "      <th>registered</th>\n",
       "    </tr>\n",
       "    <tr>\n",
       "      <th></th>\n",
       "      <th>mean</th>\n",
       "      <th>mean</th>\n",
       "    </tr>\n",
       "    <tr>\n",
       "      <th>dteday</th>\n",
       "      <th></th>\n",
       "      <th></th>\n",
       "    </tr>\n",
       "  </thead>\n",
       "  <tbody>\n",
       "    <tr>\n",
       "      <th>2016-03-31</th>\n",
       "      <td>10.624880</td>\n",
       "      <td>62.237799</td>\n",
       "    </tr>\n",
       "    <tr>\n",
       "      <th>2016-06-30</th>\n",
       "      <td>38.482822</td>\n",
       "      <td>132.934036</td>\n",
       "    </tr>\n",
       "    <tr>\n",
       "      <th>2016-09-30</th>\n",
       "      <td>41.897354</td>\n",
       "      <td>143.070712</td>\n",
       "    </tr>\n",
       "    <tr>\n",
       "      <th>2016-12-31</th>\n",
       "      <td>22.362233</td>\n",
       "      <td>119.717204</td>\n",
       "    </tr>\n",
       "    <tr>\n",
       "      <th>2017-03-31</th>\n",
       "      <td>22.871807</td>\n",
       "      <td>145.693915</td>\n",
       "    </tr>\n",
       "  </tbody>\n",
       "</table>\n",
       "</div>"
      ],
      "text/plain": [
       "               casual  registered\n",
       "                 mean        mean\n",
       "dteday                           \n",
       "2016-03-31  10.624880   62.237799\n",
       "2016-06-30  38.482822  132.934036\n",
       "2016-09-30  41.897354  143.070712\n",
       "2016-12-31  22.362233  119.717204\n",
       "2017-03-31  22.871807  145.693915"
      ]
     },
     "execution_count": 171,
     "metadata": {},
     "output_type": "execute_result"
    }
   ],
   "source": [
    "evolucion_casual_registered.head()"
   ]
  },
  {
   "cell_type": "code",
   "execution_count": 172,
   "metadata": {},
   "outputs": [
    {
     "name": "stdout",
     "output_type": "stream",
     "text": [
      "<class 'pandas.core.frame.DataFrame'>\n",
      "DatetimeIndex: 8 entries, 2016-03-31 to 2017-12-31\n",
      "Freq: Q-DEC\n",
      "Data columns (total 2 columns):\n",
      " #   Column              Non-Null Count  Dtype  \n",
      "---  ------              --------------  -----  \n",
      " 0   (casual, mean)      8 non-null      float64\n",
      " 1   (registered, mean)  8 non-null      float64\n",
      "dtypes: float64(2)\n",
      "memory usage: 192.0 bytes\n"
     ]
    }
   ],
   "source": [
    "evolucion_casual_registered.info()"
   ]
  },
  {
   "cell_type": "markdown",
   "metadata": {},
   "source": [
    "Cuando queremos formatear las fechas utilizamos el formato del indice."
   ]
  },
  {
   "cell_type": "code",
   "execution_count": 173,
   "metadata": {},
   "outputs": [],
   "source": [
    "#evolucion_casual_registered.index = evolucion_casual_registered.index.strftime('%d/%m/%Y')\n",
    "evolucion_casual_registered.index = evolucion_casual_registered.index.strftime('%m/%Y')"
   ]
  },
  {
   "cell_type": "markdown",
   "metadata": {},
   "source": [
    "Si queremos cambiar el formato, lo pasamos a fecha y luego le aplicamos el nuevo formato\n",
    "\n",
    "En caso contrario , ejecutando otra vez el mismo comando **da error**"
   ]
  },
  {
   "cell_type": "code",
   "execution_count": 174,
   "metadata": {},
   "outputs": [],
   "source": [
    "evolucion_casual_registered.index = pd.to_datetime(evolucion_casual_registered.index) # Tratamiento para fechas"
   ]
  },
  {
   "cell_type": "code",
   "execution_count": 175,
   "metadata": {},
   "outputs": [],
   "source": [
    "evolucion_casual_registered.index = evolucion_casual_registered.index.strftime('%m-%Y')"
   ]
  },
  {
   "cell_type": "code",
   "execution_count": 176,
   "metadata": {},
   "outputs": [
    {
     "data": {
      "text/html": [
       "<div>\n",
       "<style scoped>\n",
       "    .dataframe tbody tr th:only-of-type {\n",
       "        vertical-align: middle;\n",
       "    }\n",
       "\n",
       "    .dataframe tbody tr th {\n",
       "        vertical-align: top;\n",
       "    }\n",
       "\n",
       "    .dataframe thead tr th {\n",
       "        text-align: left;\n",
       "    }\n",
       "\n",
       "    .dataframe thead tr:last-of-type th {\n",
       "        text-align: right;\n",
       "    }\n",
       "</style>\n",
       "<table border=\"1\" class=\"dataframe\">\n",
       "  <thead>\n",
       "    <tr>\n",
       "      <th></th>\n",
       "      <th>casual</th>\n",
       "      <th>registered</th>\n",
       "    </tr>\n",
       "    <tr>\n",
       "      <th></th>\n",
       "      <th>mean</th>\n",
       "      <th>mean</th>\n",
       "    </tr>\n",
       "    <tr>\n",
       "      <th>dteday</th>\n",
       "      <th></th>\n",
       "      <th></th>\n",
       "    </tr>\n",
       "  </thead>\n",
       "  <tbody>\n",
       "    <tr>\n",
       "      <th>03-2016</th>\n",
       "      <td>10.624880</td>\n",
       "      <td>62.237799</td>\n",
       "    </tr>\n",
       "    <tr>\n",
       "      <th>06-2016</th>\n",
       "      <td>38.482822</td>\n",
       "      <td>132.934036</td>\n",
       "    </tr>\n",
       "    <tr>\n",
       "      <th>09-2016</th>\n",
       "      <td>41.897354</td>\n",
       "      <td>143.070712</td>\n",
       "    </tr>\n",
       "    <tr>\n",
       "      <th>12-2016</th>\n",
       "      <td>22.362233</td>\n",
       "      <td>119.717204</td>\n",
       "    </tr>\n",
       "    <tr>\n",
       "      <th>03-2017</th>\n",
       "      <td>22.871807</td>\n",
       "      <td>145.693915</td>\n",
       "    </tr>\n",
       "    <tr>\n",
       "      <th>06-2017</th>\n",
       "      <td>57.738313</td>\n",
       "      <td>204.827681</td>\n",
       "    </tr>\n",
       "    <tr>\n",
       "      <th>09-2017</th>\n",
       "      <td>58.278986</td>\n",
       "      <td>230.073822</td>\n",
       "    </tr>\n",
       "    <tr>\n",
       "      <th>12-2017</th>\n",
       "      <td>31.730627</td>\n",
       "      <td>187.465867</td>\n",
       "    </tr>\n",
       "  </tbody>\n",
       "</table>\n",
       "</div>"
      ],
      "text/plain": [
       "            casual  registered\n",
       "              mean        mean\n",
       "dteday                        \n",
       "03-2016  10.624880   62.237799\n",
       "06-2016  38.482822  132.934036\n",
       "09-2016  41.897354  143.070712\n",
       "12-2016  22.362233  119.717204\n",
       "03-2017  22.871807  145.693915\n",
       "06-2017  57.738313  204.827681\n",
       "09-2017  58.278986  230.073822\n",
       "12-2017  31.730627  187.465867"
      ]
     },
     "execution_count": 176,
     "metadata": {},
     "output_type": "execute_result"
    }
   ],
   "source": [
    "evolucion_casual_registered"
   ]
  },
  {
   "cell_type": "code",
   "execution_count": 177,
   "metadata": {},
   "outputs": [
    {
     "data": {
      "text/plain": [
       "<matplotlib.axes._subplots.AxesSubplot at 0x128834ad0>"
      ]
     },
     "execution_count": 177,
     "metadata": {},
     "output_type": "execute_result"
    },
    {
     "data": {
      "image/png": "[encoded data removed]",
      "text/plain": [
       "<Figure size 1080x504 with 1 Axes>"
      ]
     },
     "metadata": {
      "needs_background": "light"
     },
     "output_type": "display_data"
    }
   ],
   "source": [
    "#UTILIZANDO matplotlib.pyplot.plot() \n",
    "\n",
    "fig, ax = plt.subplots(figsize=(15,7))\n",
    "ax.legend(['Casual','Registered'],loc='best')\n",
    "evolucion_casual_registered.plot(kind='bar',\n",
    "                          title='¿Cómo están evolucionando los alquileres de bicicletas?',\n",
    "                          color=['g','b'], \n",
    "                          #subplots=True, \n",
    "                           stacked=True, # Asterisca subplot o Stacked y ve las diferencias\n",
    "                           ax=ax  )\n",
    "                                 \n",
    "\n"
   ]
  },
  {
   "cell_type": "code",
   "execution_count": 182,
   "metadata": {},
   "outputs": [
    {
     "data": {
      "text/html": [
       "<div>\n",
       "<style scoped>\n",
       "    .dataframe tbody tr th:only-of-type {\n",
       "        vertical-align: middle;\n",
       "    }\n",
       "\n",
       "    .dataframe tbody tr th {\n",
       "        vertical-align: top;\n",
       "    }\n",
       "\n",
       "    .dataframe thead tr th {\n",
       "        text-align: left;\n",
       "    }\n",
       "</style>\n",
       "<table border=\"1\" class=\"dataframe\">\n",
       "  <thead>\n",
       "    <tr>\n",
       "      <th></th>\n",
       "      <th>dteday</th>\n",
       "      <th>cnt</th>\n",
       "      <th>temp</th>\n",
       "      <th>yr</th>\n",
       "    </tr>\n",
       "    <tr>\n",
       "      <th></th>\n",
       "      <th></th>\n",
       "      <th>mean</th>\n",
       "      <th>mean</th>\n",
       "      <th>mean</th>\n",
       "    </tr>\n",
       "  </thead>\n",
       "  <tbody>\n",
       "    <tr>\n",
       "      <th>0</th>\n",
       "      <td>2016-01-31</td>\n",
       "      <td>55.507267</td>\n",
       "      <td>0.197413</td>\n",
       "      <td>2016.000000</td>\n",
       "    </tr>\n",
       "    <tr>\n",
       "      <th>1</th>\n",
       "      <td>2016-02-29</td>\n",
       "      <td>74.477679</td>\n",
       "      <td>0.286042</td>\n",
       "      <td>2016.034226</td>\n",
       "    </tr>\n",
       "    <tr>\n",
       "      <th>2</th>\n",
       "      <td>2016-03-31</td>\n",
       "      <td>87.732877</td>\n",
       "      <td>0.331233</td>\n",
       "      <td>2016.000000</td>\n",
       "    </tr>\n",
       "    <tr>\n",
       "      <th>3</th>\n",
       "      <td>2016-04-30</td>\n",
       "      <td>131.947149</td>\n",
       "      <td>0.471015</td>\n",
       "      <td>2016.000000</td>\n",
       "    </tr>\n",
       "    <tr>\n",
       "      <th>4</th>\n",
       "      <td>2016-05-31</td>\n",
       "      <td>182.555108</td>\n",
       "      <td>0.577231</td>\n",
       "      <td>2016.000000</td>\n",
       "    </tr>\n",
       "    <tr>\n",
       "      <th>5</th>\n",
       "      <td>2016-06-30</td>\n",
       "      <td>199.322222</td>\n",
       "      <td>0.693083</td>\n",
       "      <td>2016.000000</td>\n",
       "    </tr>\n",
       "    <tr>\n",
       "      <th>6</th>\n",
       "      <td>2016-07-31</td>\n",
       "      <td>189.974462</td>\n",
       "      <td>0.758575</td>\n",
       "      <td>2016.000000</td>\n",
       "    </tr>\n",
       "    <tr>\n",
       "      <th>7</th>\n",
       "      <td>2016-08-31</td>\n",
       "      <td>186.991792</td>\n",
       "      <td>0.705554</td>\n",
       "      <td>2016.000000</td>\n",
       "    </tr>\n",
       "    <tr>\n",
       "      <th>8</th>\n",
       "      <td>2016-09-30</td>\n",
       "      <td>177.709902</td>\n",
       "      <td>0.612915</td>\n",
       "      <td>2016.000000</td>\n",
       "    </tr>\n",
       "    <tr>\n",
       "      <th>9</th>\n",
       "      <td>2016-10-31</td>\n",
       "      <td>166.232840</td>\n",
       "      <td>0.469879</td>\n",
       "      <td>2016.000000</td>\n",
       "    </tr>\n",
       "    <tr>\n",
       "      <th>10</th>\n",
       "      <td>2016-11-30</td>\n",
       "      <td>142.095967</td>\n",
       "      <td>0.402197</td>\n",
       "      <td>2016.000000</td>\n",
       "    </tr>\n",
       "    <tr>\n",
       "      <th>11</th>\n",
       "      <td>2016-12-31</td>\n",
       "      <td>117.844804</td>\n",
       "      <td>0.325290</td>\n",
       "      <td>2016.000000</td>\n",
       "    </tr>\n",
       "    <tr>\n",
       "      <th>12</th>\n",
       "      <td>2017-01-31</td>\n",
       "      <td>130.558704</td>\n",
       "      <td>0.275007</td>\n",
       "      <td>2017.000000</td>\n",
       "    </tr>\n",
       "    <tr>\n",
       "      <th>13</th>\n",
       "      <td>2017-02-28</td>\n",
       "      <td>151.424514</td>\n",
       "      <td>0.314439</td>\n",
       "      <td>2017.000000</td>\n",
       "    </tr>\n",
       "    <tr>\n",
       "      <th>14</th>\n",
       "      <td>2017-03-31</td>\n",
       "      <td>221.904441</td>\n",
       "      <td>0.449529</td>\n",
       "      <td>2017.000000</td>\n",
       "    </tr>\n",
       "    <tr>\n",
       "      <th>15</th>\n",
       "      <td>2017-04-30</td>\n",
       "      <td>242.651811</td>\n",
       "      <td>0.469025</td>\n",
       "      <td>2017.000000</td>\n",
       "    </tr>\n",
       "    <tr>\n",
       "      <th>16</th>\n",
       "      <td>2017-05-31</td>\n",
       "      <td>263.259409</td>\n",
       "      <td>0.612366</td>\n",
       "      <td>2017.000000</td>\n",
       "    </tr>\n",
       "    <tr>\n",
       "      <th>17</th>\n",
       "      <td>2017-06-30</td>\n",
       "      <td>281.708333</td>\n",
       "      <td>0.675111</td>\n",
       "      <td>2017.000000</td>\n",
       "    </tr>\n",
       "    <tr>\n",
       "      <th>18</th>\n",
       "      <td>2017-07-31</td>\n",
       "      <td>273.665323</td>\n",
       "      <td>0.752366</td>\n",
       "      <td>2017.000000</td>\n",
       "    </tr>\n",
       "    <tr>\n",
       "      <th>19</th>\n",
       "      <td>2017-08-31</td>\n",
       "      <td>288.310484</td>\n",
       "      <td>0.711801</td>\n",
       "      <td>2017.000000</td>\n",
       "    </tr>\n",
       "    <tr>\n",
       "      <th>20</th>\n",
       "      <td>2017-09-30</td>\n",
       "      <td>303.573611</td>\n",
       "      <td>0.620083</td>\n",
       "      <td>2017.000000</td>\n",
       "    </tr>\n",
       "    <tr>\n",
       "      <th>21</th>\n",
       "      <td>2017-10-31</td>\n",
       "      <td>280.848870</td>\n",
       "      <td>0.505339</td>\n",
       "      <td>2017.000000</td>\n",
       "    </tr>\n",
       "    <tr>\n",
       "      <th>22</th>\n",
       "      <td>2017-11-30</td>\n",
       "      <td>212.623955</td>\n",
       "      <td>0.336156</td>\n",
       "      <td>2017.000000</td>\n",
       "    </tr>\n",
       "    <tr>\n",
       "      <th>23</th>\n",
       "      <td>2017-12-31</td>\n",
       "      <td>166.729111</td>\n",
       "      <td>0.323046</td>\n",
       "      <td>2017.000000</td>\n",
       "    </tr>\n",
       "  </tbody>\n",
       "</table>\n",
       "</div>"
      ],
      "text/plain": [
       "       dteday         cnt      temp           yr\n",
       "                     mean      mean         mean\n",
       "0  2016-01-31   55.507267  0.197413  2016.000000\n",
       "1  2016-02-29   74.477679  0.286042  2016.034226\n",
       "2  2016-03-31   87.732877  0.331233  2016.000000\n",
       "3  2016-04-30  131.947149  0.471015  2016.000000\n",
       "4  2016-05-31  182.555108  0.577231  2016.000000\n",
       "5  2016-06-30  199.322222  0.693083  2016.000000\n",
       "6  2016-07-31  189.974462  0.758575  2016.000000\n",
       "7  2016-08-31  186.991792  0.705554  2016.000000\n",
       "8  2016-09-30  177.709902  0.612915  2016.000000\n",
       "9  2016-10-31  166.232840  0.469879  2016.000000\n",
       "10 2016-11-30  142.095967  0.402197  2016.000000\n",
       "11 2016-12-31  117.844804  0.325290  2016.000000\n",
       "12 2017-01-31  130.558704  0.275007  2017.000000\n",
       "13 2017-02-28  151.424514  0.314439  2017.000000\n",
       "14 2017-03-31  221.904441  0.449529  2017.000000\n",
       "15 2017-04-30  242.651811  0.469025  2017.000000\n",
       "16 2017-05-31  263.259409  0.612366  2017.000000\n",
       "17 2017-06-30  281.708333  0.675111  2017.000000\n",
       "18 2017-07-31  273.665323  0.752366  2017.000000\n",
       "19 2017-08-31  288.310484  0.711801  2017.000000\n",
       "20 2017-09-30  303.573611  0.620083  2017.000000\n",
       "21 2017-10-31  280.848870  0.505339  2017.000000\n",
       "22 2017-11-30  212.623955  0.336156  2017.000000\n",
       "23 2017-12-31  166.729111  0.323046  2017.000000"
      ]
     },
     "execution_count": 182,
     "metadata": {},
     "output_type": "execute_result"
    }
   ],
   "source": [
    "# Repetimos en este código la funcion grouper para verlo mejor, veamos como agrupa los alquileres por fecha\n",
    "# cambiando la fecha a D,M,Q,Y ...\n",
    "fecha=pd.Grouper(key='dteday', freq='M')\n",
    "\n",
    "campos_filas=[fecha]\n",
    "#campos_columnas=['yr']\n",
    "campos_valores=['cnt','temp','yr']\n",
    "agregados={np.mean}\n",
    "alquiler_temperatura=pd.pivot_table(df_datos,\n",
    "                                    index=campos_filas,\n",
    "#                                    columns=campos_columnas,\n",
    "                                    values=campos_valores,\n",
    "                                    aggfunc=agregados)\n",
    "alquiler_temperatura.reset_index(inplace=True)\n",
    "c=alquiler_temperatura.yr.mean\n",
    "alquiler_temperatura"
   ]
  }
 ],
 "metadata": {
  "anaconda-cloud": {},
  "kernelspec": {
   "display_name": "Python 3",
   "language": "python",
   "name": "python3"
  },
  "language_info": {
   "codemirror_mode": {
    "name": "ipython",
    "version": 3
   },
   "file_extension": ".py",
   "mimetype": "text/x-python",
   "name": "python",
   "nbconvert_exporter": "python",
   "pygments_lexer": "ipython3",
   "version": "3.7.4"
  },
  "widgets": {
   "state": {},
   "version": "1.1.2"
  }
 },
 "nbformat": 4,
 "nbformat_minor": 4
}

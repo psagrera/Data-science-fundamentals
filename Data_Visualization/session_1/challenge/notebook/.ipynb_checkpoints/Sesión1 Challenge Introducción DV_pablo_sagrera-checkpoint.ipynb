{
 "cells": [
  {
   "cell_type": "markdown",
   "metadata": {},
   "source": [
    "<img src=\"mioti.png\" style=\"height: 100px\">\n",
    "<center style=\"color:#888\">Módulo Data Science in IoT<br/>Asignatura Data Visualization</center>\n",
    "\n",
    "# Challenge S1: Data Visualization\n",
    "## Introduccion a la Visualización\n"
   ]
  },
  {
   "cell_type": "markdown",
   "metadata": {},
   "source": [
    "# 1. Estadística Descriptiva.\n",
    "\n",
    "\n",
    "La estadística descriptiva es la rama de las Matemáticas que recolecta, presenta y caracteriza un\n",
    "conjunto de datos (por ejemplo, edad de una población, altura de los estudiantes de una escuela,\n",
    "temperatura en los meses de verano, etc.) con el fin de describir apropiadamente las diversas\n",
    "características de ese conjunto.\n",
    "\n"
   ]
  },
  {
   "cell_type": "code",
   "execution_count": 1,
   "metadata": {},
   "outputs": [],
   "source": [
    "## importamos los paquetes necesarios\n",
    "\n",
    "%matplotlib inline\n",
    "import warnings\n",
    "warnings.filterwarnings(\"ignore\")\n",
    "import numpy as np\n",
    "import pandas as pd\n",
    "import matplotlib.pyplot as plt\n",
    "from matplotlib.pyplot import subplot, scatter, plot, axis\n",
    "from statistics import mode"
   ]
  },
  {
   "cell_type": "markdown",
   "metadata": {},
   "source": [
    "## Media Moda y Mediana\n",
    "\n",
    "* **Media ** Promedio, Suma de daots dividido entre la cantidad de los mismos. \n",
    "* **Moda ** Dato que más se repite. Si son dos es bimodal , si son tres es trimodal. \n",
    "* **Mediana ** Dato Central. Si son dos se saca la dedia de estos.\n"
   ]
  },
  {
   "cell_type": "markdown",
   "metadata": {},
   "source": [
    "Para nuestro primer ejemplo nos creamos una **lista** en python, las listas pueden tener cualquier número de elementos y pueden ser de diferentes tipos (entero, flotante, cadena, etc.)."
   ]
  },
  {
   "cell_type": "code",
   "execution_count": 2,
   "metadata": {},
   "outputs": [
    {
     "data": {
      "text/plain": [
       "[2, 3, 3, 5, 7, 10]"
      ]
     },
     "execution_count": 2,
     "metadata": {},
     "output_type": "execute_result"
    }
   ],
   "source": [
    "data =[2,3,3,5,7,10]\n",
    "data"
   ]
  },
  {
   "cell_type": "markdown",
   "metadata": {},
   "source": [
    "¿Cual es la media , la moda y la mediana?  \n",
    "Para ello utilizamos NumPy , paquete de Python con biblioteca de funciones matemáticas de alto nivel. "
   ]
  },
  {
   "cell_type": "code",
   "execution_count": 3,
   "metadata": {
    "scrolled": true
   },
   "outputs": [
    {
     "data": {
      "text/plain": [
       "5.0"
      ]
     },
     "execution_count": 3,
     "metadata": {},
     "output_type": "execute_result"
    }
   ],
   "source": [
    "np.mean(data)"
   ]
  },
  {
   "cell_type": "code",
   "execution_count": 4,
   "metadata": {},
   "outputs": [
    {
     "data": {
      "text/plain": [
       "4.0"
      ]
     },
     "execution_count": 4,
     "metadata": {},
     "output_type": "execute_result"
    }
   ],
   "source": [
    "np.median(data)"
   ]
  },
  {
   "cell_type": "code",
   "execution_count": 5,
   "metadata": {},
   "outputs": [
    {
     "data": {
      "text/plain": [
       "3"
      ]
     },
     "execution_count": 5,
     "metadata": {},
     "output_type": "execute_result"
    }
   ],
   "source": [
    "mode(data)"
   ]
  },
  {
   "cell_type": "markdown",
   "metadata": {},
   "source": [
    "¿Cuando se puede utilizar más la moda que la mediana o la media?"
   ]
  },
  {
   "cell_type": "code",
   "execution_count": null,
   "metadata": {},
   "outputs": [],
   "source": []
  },
  {
   "cell_type": "markdown",
   "metadata": {},
   "source": [
    "\n",
    "## Histogramas y Desviacion Estandar\n",
    "\n",
    "La desviación estándar es una medida de la dispersión de los datos\n",
    "\n",
    "* Aproximandamente el 68% estña comprendida entre µ ±σ\n",
    "* Aproximandamente el 95% estña comprendida entre µ ±2σ\n",
    "* Aproximandamente el 99.7% estña comprendida entre µ ±3σ\n",
    "\n",
    "<img src=\"ds.png\">"
   ]
  },
  {
   "cell_type": "markdown",
   "metadata": {},
   "source": [
    "Para graficar el histograma utilizamos la libreria de Matplotlib "
   ]
  },
  {
   "cell_type": "code",
   "execution_count": 6,
   "metadata": {
    "scrolled": true
   },
   "outputs": [
    {
     "data": {
      "text/plain": [
       "Text(0, 0.5, 'Frequency')"
      ]
     },
     "execution_count": 6,
     "metadata": {},
     "output_type": "execute_result"
    },
    {
     "data": {
      "image/png": "[encoded data removed]",
      "text/plain": [
       "<Figure size 432x288 with 1 Axes>"
      ]
     },
     "metadata": {
      "needs_background": "light"
     },
     "output_type": "display_data"
    }
   ],
   "source": [
    "#Graficamos el histograma\n",
    "plt.hist(data)\n",
    "#Añadimos título\n",
    "plt.title(\"Gaussian Histogram\")\n",
    "# Añadimos etiquetas en el eje X y en el eje Y\n",
    "plt.xlabel(\"Value\")\n",
    "plt.ylabel(\"Frequency\")\n"
   ]
  },
  {
   "cell_type": "markdown",
   "metadata": {},
   "source": [
    "## Kurtosis y sesgo \n",
    "\n",
    "<img src=\"kurtosis.png\">\n",
    "<img src=\"sesgo.png\">\n"
   ]
  },
  {
   "cell_type": "markdown",
   "metadata": {},
   "source": [
    "Trabajaremos ahora con **matrices**"
   ]
  },
  {
   "cell_type": "code",
   "execution_count": 7,
   "metadata": {},
   "outputs": [
    {
     "data": {
      "text/plain": [
       "[[0, 0, 6], [0, 6, 6], [14, 8, 8], [14, 14, 8]]"
      ]
     },
     "execution_count": 7,
     "metadata": {},
     "output_type": "execute_result"
    }
   ],
   "source": [
    "\n",
    "data = [[0,0,6],[0,6,6],[14,8,8],[14,14,8]]\n",
    "data"
   ]
  },
  {
   "cell_type": "markdown",
   "metadata": {},
   "source": [
    "Podemos convertir las matrices en **dataframes**"
   ]
  },
  {
   "cell_type": "code",
   "execution_count": 8,
   "metadata": {},
   "outputs": [
    {
     "data": {
      "text/html": [
       "<div>\n",
       "<style scoped>\n",
       "    .dataframe tbody tr th:only-of-type {\n",
       "        vertical-align: middle;\n",
       "    }\n",
       "\n",
       "    .dataframe tbody tr th {\n",
       "        vertical-align: top;\n",
       "    }\n",
       "\n",
       "    .dataframe thead th {\n",
       "        text-align: right;\n",
       "    }\n",
       "</style>\n",
       "<table border=\"1\" class=\"dataframe\">\n",
       "  <thead>\n",
       "    <tr style=\"text-align: right;\">\n",
       "      <th></th>\n",
       "      <th>dato1</th>\n",
       "      <th>dato2</th>\n",
       "      <th>dato3</th>\n",
       "    </tr>\n",
       "  </thead>\n",
       "  <tbody>\n",
       "    <tr>\n",
       "      <th>0</th>\n",
       "      <td>0</td>\n",
       "      <td>0</td>\n",
       "      <td>6</td>\n",
       "    </tr>\n",
       "    <tr>\n",
       "      <th>1</th>\n",
       "      <td>0</td>\n",
       "      <td>6</td>\n",
       "      <td>6</td>\n",
       "    </tr>\n",
       "    <tr>\n",
       "      <th>2</th>\n",
       "      <td>14</td>\n",
       "      <td>8</td>\n",
       "      <td>8</td>\n",
       "    </tr>\n",
       "    <tr>\n",
       "      <th>3</th>\n",
       "      <td>14</td>\n",
       "      <td>14</td>\n",
       "      <td>8</td>\n",
       "    </tr>\n",
       "  </tbody>\n",
       "</table>\n",
       "</div>"
      ],
      "text/plain": [
       "   dato1  dato2  dato3\n",
       "0      0      0      6\n",
       "1      0      6      6\n",
       "2     14      8      8\n",
       "3     14     14      8"
      ]
     },
     "execution_count": 8,
     "metadata": {},
     "output_type": "execute_result"
    }
   ],
   "source": [
    "# Creamos un dataframe y a cada columna le asignamos un nombre\n",
    "df = pd.DataFrame(data,columns=['dato1','dato2','dato3'])\n",
    "# Visualizamos el dataframe\n",
    "df.head()"
   ]
  },
  {
   "cell_type": "code",
   "execution_count": 9,
   "metadata": {},
   "outputs": [
    {
     "data": {
      "text/html": [
       "<div>\n",
       "<style scoped>\n",
       "    .dataframe tbody tr th:only-of-type {\n",
       "        vertical-align: middle;\n",
       "    }\n",
       "\n",
       "    .dataframe tbody tr th {\n",
       "        vertical-align: top;\n",
       "    }\n",
       "\n",
       "    .dataframe thead th {\n",
       "        text-align: right;\n",
       "    }\n",
       "</style>\n",
       "<table border=\"1\" class=\"dataframe\">\n",
       "  <thead>\n",
       "    <tr style=\"text-align: right;\">\n",
       "      <th></th>\n",
       "      <th>dato1</th>\n",
       "      <th>dato2</th>\n",
       "      <th>dato3</th>\n",
       "    </tr>\n",
       "  </thead>\n",
       "  <tbody>\n",
       "    <tr>\n",
       "      <th>count</th>\n",
       "      <td>4.000000</td>\n",
       "      <td>4.000000</td>\n",
       "      <td>4.000000</td>\n",
       "    </tr>\n",
       "    <tr>\n",
       "      <th>mean</th>\n",
       "      <td>7.000000</td>\n",
       "      <td>7.000000</td>\n",
       "      <td>7.000000</td>\n",
       "    </tr>\n",
       "    <tr>\n",
       "      <th>std</th>\n",
       "      <td>8.082904</td>\n",
       "      <td>5.773503</td>\n",
       "      <td>1.154701</td>\n",
       "    </tr>\n",
       "    <tr>\n",
       "      <th>min</th>\n",
       "      <td>0.000000</td>\n",
       "      <td>0.000000</td>\n",
       "      <td>6.000000</td>\n",
       "    </tr>\n",
       "    <tr>\n",
       "      <th>25%</th>\n",
       "      <td>0.000000</td>\n",
       "      <td>4.500000</td>\n",
       "      <td>6.000000</td>\n",
       "    </tr>\n",
       "    <tr>\n",
       "      <th>50%</th>\n",
       "      <td>7.000000</td>\n",
       "      <td>7.000000</td>\n",
       "      <td>7.000000</td>\n",
       "    </tr>\n",
       "    <tr>\n",
       "      <th>75%</th>\n",
       "      <td>14.000000</td>\n",
       "      <td>9.500000</td>\n",
       "      <td>8.000000</td>\n",
       "    </tr>\n",
       "    <tr>\n",
       "      <th>max</th>\n",
       "      <td>14.000000</td>\n",
       "      <td>14.000000</td>\n",
       "      <td>8.000000</td>\n",
       "    </tr>\n",
       "  </tbody>\n",
       "</table>\n",
       "</div>"
      ],
      "text/plain": [
       "           dato1      dato2     dato3\n",
       "count   4.000000   4.000000  4.000000\n",
       "mean    7.000000   7.000000  7.000000\n",
       "std     8.082904   5.773503  1.154701\n",
       "min     0.000000   0.000000  6.000000\n",
       "25%     0.000000   4.500000  6.000000\n",
       "50%     7.000000   7.000000  7.000000\n",
       "75%    14.000000   9.500000  8.000000\n",
       "max    14.000000  14.000000  8.000000"
      ]
     },
     "execution_count": 9,
     "metadata": {},
     "output_type": "execute_result"
    }
   ],
   "source": [
    "# Sacamos estadísticas del dataframe\n",
    "df.describe()"
   ]
  },
  {
   "cell_type": "markdown",
   "metadata": {},
   "source": [
    "Vamos a responder con un gráfico"
   ]
  },
  {
   "cell_type": "code",
   "execution_count": 10,
   "metadata": {},
   "outputs": [
    {
     "data": {
      "text/plain": [
       "(array([2., 0., 0., 0., 0., 0., 0., 0., 0., 2.]),\n",
       " array([6. , 6.2, 6.4, 6.6, 6.8, 7. , 7.2, 7.4, 7.6, 7.8, 8. ]),\n",
       " <a list of 10 Patch objects>)"
      ]
     },
     "execution_count": 10,
     "metadata": {},
     "output_type": "execute_result"
    },
    {
     "data": {
      "image/png": "[encoded data removed]",
      "text/plain": [
       "<Figure size 432x288 with 3 Axes>"
      ]
     },
     "metadata": {
      "needs_background": "light"
     },
     "output_type": "display_data"
    }
   ],
   "source": [
    "fig, axes = plt.subplots(nrows=3, ncols=1)\n",
    "ax = axes[0]\n",
    "ax.hist(df.dato1)\n",
    "ax = axes[1]\n",
    "ax.hist(df.dato2)\n",
    "ax = axes[2]\n",
    "ax.hist(df.dato3)"
   ]
  },
  {
   "cell_type": "code",
   "execution_count": 11,
   "metadata": {},
   "outputs": [
    {
     "data": {
      "text/plain": [
       "array([<matplotlib.axes._subplots.AxesSubplot object at 0x120b505d0>,\n",
       "       <matplotlib.axes._subplots.AxesSubplot object at 0x120ccbd10>,\n",
       "       <matplotlib.axes._subplots.AxesSubplot object at 0x120d8f110>],\n",
       "      dtype=object)"
      ]
     },
     "execution_count": 11,
     "metadata": {},
     "output_type": "execute_result"
    },
    {
     "data": {
      "image/png": "[encoded data removed]",
      "text/plain": [
       "<Figure size 504x720 with 3 Axes>"
      ]
     },
     "metadata": {
      "needs_background": "light"
     },
     "output_type": "display_data"
    }
   ],
   "source": [
    "#esta es otra forma más de visualizar <nombre dataframe>.plot()\n",
    "df.plot(kind='hist',bins=14,subplots=True,  figsize=(7,10),\n",
    "                              color=['r','b','g'],\n",
    "                         alpha=0.5)"
   ]
  },
  {
   "cell_type": "markdown",
   "metadata": {},
   "source": [
    "## Ejercicio 1\n",
    "* Crear estadistica descriptiva de los datos\n",
    "* Compararlos\n",
    "* Crear una regresión para cada máquina\n",
    "* Compararla\n",
    "* ¿Son todos iguales?\n",
    "* ¿Podríamos decir que son datos parecidos?\n",
    "\n"
   ]
  },
  {
   "cell_type": "markdown",
   "metadata": {},
   "source": [
    "###  Estadística descriptiva de los datos\n",
    "\n",
    "Utilizamos los datos ascombe, para ello creamos una matriz con las horas trabajadas y el volumen sacado y lo pasamos a dataframe. \n",
    "\n",
    "Como las horas trabajadas para la máquina 1,2 y 3 son las mismas , repetimos horas_m123 . "
   ]
  },
  {
   "cell_type": "code",
   "execution_count": 12,
   "metadata": {
    "scrolled": true
   },
   "outputs": [
    {
     "data": {
      "text/html": [
       "<div>\n",
       "<style scoped>\n",
       "    .dataframe tbody tr th:only-of-type {\n",
       "        vertical-align: middle;\n",
       "    }\n",
       "\n",
       "    .dataframe tbody tr th {\n",
       "        vertical-align: top;\n",
       "    }\n",
       "\n",
       "    .dataframe thead th {\n",
       "        text-align: right;\n",
       "    }\n",
       "</style>\n",
       "<table border=\"1\" class=\"dataframe\">\n",
       "  <thead>\n",
       "    <tr style=\"text-align: right;\">\n",
       "      <th></th>\n",
       "      <th>horas_m123</th>\n",
       "      <th>m3_m1</th>\n",
       "      <th>m3_m2</th>\n",
       "      <th>m3_m3</th>\n",
       "      <th>horas_m4</th>\n",
       "      <th>m3_m4</th>\n",
       "    </tr>\n",
       "  </thead>\n",
       "  <tbody>\n",
       "    <tr>\n",
       "      <th>0</th>\n",
       "      <td>10</td>\n",
       "      <td>8.04</td>\n",
       "      <td>9.14</td>\n",
       "      <td>7.46</td>\n",
       "      <td>8</td>\n",
       "      <td>6.58</td>\n",
       "    </tr>\n",
       "    <tr>\n",
       "      <th>1</th>\n",
       "      <td>8</td>\n",
       "      <td>6.95</td>\n",
       "      <td>8.14</td>\n",
       "      <td>6.77</td>\n",
       "      <td>8</td>\n",
       "      <td>5.76</td>\n",
       "    </tr>\n",
       "    <tr>\n",
       "      <th>2</th>\n",
       "      <td>13</td>\n",
       "      <td>7.58</td>\n",
       "      <td>8.74</td>\n",
       "      <td>12.74</td>\n",
       "      <td>8</td>\n",
       "      <td>7.71</td>\n",
       "    </tr>\n",
       "    <tr>\n",
       "      <th>3</th>\n",
       "      <td>9</td>\n",
       "      <td>8.81</td>\n",
       "      <td>8.77</td>\n",
       "      <td>7.11</td>\n",
       "      <td>8</td>\n",
       "      <td>8.84</td>\n",
       "    </tr>\n",
       "    <tr>\n",
       "      <th>4</th>\n",
       "      <td>11</td>\n",
       "      <td>8.33</td>\n",
       "      <td>9.26</td>\n",
       "      <td>7.81</td>\n",
       "      <td>8</td>\n",
       "      <td>8.47</td>\n",
       "    </tr>\n",
       "    <tr>\n",
       "      <th>5</th>\n",
       "      <td>14</td>\n",
       "      <td>9.96</td>\n",
       "      <td>8.10</td>\n",
       "      <td>8.84</td>\n",
       "      <td>8</td>\n",
       "      <td>7.04</td>\n",
       "    </tr>\n",
       "    <tr>\n",
       "      <th>6</th>\n",
       "      <td>6</td>\n",
       "      <td>7.24</td>\n",
       "      <td>6.13</td>\n",
       "      <td>6.08</td>\n",
       "      <td>8</td>\n",
       "      <td>5.25</td>\n",
       "    </tr>\n",
       "    <tr>\n",
       "      <th>7</th>\n",
       "      <td>4</td>\n",
       "      <td>4.26</td>\n",
       "      <td>3.10</td>\n",
       "      <td>5.39</td>\n",
       "      <td>19</td>\n",
       "      <td>12.50</td>\n",
       "    </tr>\n",
       "    <tr>\n",
       "      <th>8</th>\n",
       "      <td>12</td>\n",
       "      <td>10.84</td>\n",
       "      <td>9.13</td>\n",
       "      <td>8.15</td>\n",
       "      <td>8</td>\n",
       "      <td>5.56</td>\n",
       "    </tr>\n",
       "    <tr>\n",
       "      <th>9</th>\n",
       "      <td>7</td>\n",
       "      <td>4.82</td>\n",
       "      <td>7.26</td>\n",
       "      <td>6.42</td>\n",
       "      <td>8</td>\n",
       "      <td>7.91</td>\n",
       "    </tr>\n",
       "  </tbody>\n",
       "</table>\n",
       "</div>"
      ],
      "text/plain": [
       "   horas_m123  m3_m1  m3_m2  m3_m3  horas_m4  m3_m4\n",
       "0          10   8.04   9.14   7.46         8   6.58\n",
       "1           8   6.95   8.14   6.77         8   5.76\n",
       "2          13   7.58   8.74  12.74         8   7.71\n",
       "3           9   8.81   8.77   7.11         8   8.84\n",
       "4          11   8.33   9.26   7.81         8   8.47\n",
       "5          14   9.96   8.10   8.84         8   7.04\n",
       "6           6   7.24   6.13   6.08         8   5.25\n",
       "7           4   4.26   3.10   5.39        19  12.50\n",
       "8          12  10.84   9.13   8.15         8   5.56\n",
       "9           7   4.82   7.26   6.42         8   7.91"
      ]
     },
     "execution_count": 12,
     "metadata": {},
     "output_type": "execute_result"
    }
   ],
   "source": [
    "ascombe=[[10,8.04,9.14,7.46,8,6.58],\n",
    "[8,6.95,8.14,6.77,8,5.76],\n",
    "[13,7.58,8.74,12.74,8,7.71],\n",
    "[9,8.81,8.77,7.11,8,8.84],\n",
    "[11,8.33,9.26,7.81,8,8.47],\n",
    "[14,9.96,8.1,8.84,8,7.04],\n",
    "[6,7.24,6.13,6.08,8,5.25],\n",
    "[4,4.26,3.1,5.39,19,12.5],\n",
    "[12,10.84,9.13,8.15,8,5.56],\n",
    "[7,4.82,7.26,6.42,8,7.91],\n",
    "[5,5.68,4.74,5.73,8,6.89]]\n",
    "\n",
    "\n",
    "dascombe = pd.DataFrame(ascombe,columns=['horas_m123','m3_m1','m3_m2','m3_m3','horas_m4','m3_m4',])\n",
    "\n",
    "dascombe.head(10)"
   ]
  },
  {
   "cell_type": "code",
   "execution_count": 13,
   "metadata": {
    "scrolled": true
   },
   "outputs": [
    {
     "data": {
      "text/html": [
       "<div>\n",
       "<style scoped>\n",
       "    .dataframe tbody tr th:only-of-type {\n",
       "        vertical-align: middle;\n",
       "    }\n",
       "\n",
       "    .dataframe tbody tr th {\n",
       "        vertical-align: top;\n",
       "    }\n",
       "\n",
       "    .dataframe thead th {\n",
       "        text-align: right;\n",
       "    }\n",
       "</style>\n",
       "<table border=\"1\" class=\"dataframe\">\n",
       "  <thead>\n",
       "    <tr style=\"text-align: right;\">\n",
       "      <th></th>\n",
       "      <th>horas_m123</th>\n",
       "      <th>m3_m1</th>\n",
       "      <th>m3_m2</th>\n",
       "      <th>m3_m3</th>\n",
       "      <th>horas_m4</th>\n",
       "      <th>m3_m4</th>\n",
       "    </tr>\n",
       "  </thead>\n",
       "  <tbody>\n",
       "    <tr>\n",
       "      <th>count</th>\n",
       "      <td>11.000000</td>\n",
       "      <td>11.000000</td>\n",
       "      <td>11.000000</td>\n",
       "      <td>11.000000</td>\n",
       "      <td>11.000000</td>\n",
       "      <td>11.000000</td>\n",
       "    </tr>\n",
       "    <tr>\n",
       "      <th>mean</th>\n",
       "      <td>9.000000</td>\n",
       "      <td>7.500909</td>\n",
       "      <td>7.500909</td>\n",
       "      <td>7.500000</td>\n",
       "      <td>9.000000</td>\n",
       "      <td>7.500909</td>\n",
       "    </tr>\n",
       "    <tr>\n",
       "      <th>std</th>\n",
       "      <td>3.316625</td>\n",
       "      <td>2.031568</td>\n",
       "      <td>2.031657</td>\n",
       "      <td>2.030424</td>\n",
       "      <td>3.316625</td>\n",
       "      <td>2.030579</td>\n",
       "    </tr>\n",
       "    <tr>\n",
       "      <th>min</th>\n",
       "      <td>4.000000</td>\n",
       "      <td>4.260000</td>\n",
       "      <td>3.100000</td>\n",
       "      <td>5.390000</td>\n",
       "      <td>8.000000</td>\n",
       "      <td>5.250000</td>\n",
       "    </tr>\n",
       "    <tr>\n",
       "      <th>25%</th>\n",
       "      <td>6.500000</td>\n",
       "      <td>6.315000</td>\n",
       "      <td>6.695000</td>\n",
       "      <td>6.250000</td>\n",
       "      <td>8.000000</td>\n",
       "      <td>6.170000</td>\n",
       "    </tr>\n",
       "    <tr>\n",
       "      <th>50%</th>\n",
       "      <td>9.000000</td>\n",
       "      <td>7.580000</td>\n",
       "      <td>8.140000</td>\n",
       "      <td>7.110000</td>\n",
       "      <td>8.000000</td>\n",
       "      <td>7.040000</td>\n",
       "    </tr>\n",
       "    <tr>\n",
       "      <th>75%</th>\n",
       "      <td>11.500000</td>\n",
       "      <td>8.570000</td>\n",
       "      <td>8.950000</td>\n",
       "      <td>7.980000</td>\n",
       "      <td>8.000000</td>\n",
       "      <td>8.190000</td>\n",
       "    </tr>\n",
       "    <tr>\n",
       "      <th>max</th>\n",
       "      <td>14.000000</td>\n",
       "      <td>10.840000</td>\n",
       "      <td>9.260000</td>\n",
       "      <td>12.740000</td>\n",
       "      <td>19.000000</td>\n",
       "      <td>12.500000</td>\n",
       "    </tr>\n",
       "  </tbody>\n",
       "</table>\n",
       "</div>"
      ],
      "text/plain": [
       "       horas_m123      m3_m1      m3_m2      m3_m3   horas_m4      m3_m4\n",
       "count   11.000000  11.000000  11.000000  11.000000  11.000000  11.000000\n",
       "mean     9.000000   7.500909   7.500909   7.500000   9.000000   7.500909\n",
       "std      3.316625   2.031568   2.031657   2.030424   3.316625   2.030579\n",
       "min      4.000000   4.260000   3.100000   5.390000   8.000000   5.250000\n",
       "25%      6.500000   6.315000   6.695000   6.250000   8.000000   6.170000\n",
       "50%      9.000000   7.580000   8.140000   7.110000   8.000000   7.040000\n",
       "75%     11.500000   8.570000   8.950000   7.980000   8.000000   8.190000\n",
       "max     14.000000  10.840000   9.260000  12.740000  19.000000  12.500000"
      ]
     },
     "execution_count": 13,
     "metadata": {},
     "output_type": "execute_result"
    }
   ],
   "source": [
    "dascombe.describe()"
   ]
  },
  {
   "cell_type": "code",
   "execution_count": 14,
   "metadata": {},
   "outputs": [
    {
     "name": "stdout",
     "output_type": "stream",
     "text": [
      "0     10\n",
      "1      8\n",
      "2     13\n",
      "3      9\n",
      "4     11\n",
      "5     14\n",
      "6      6\n",
      "7      4\n",
      "8     12\n",
      "9      7\n",
      "10     5\n",
      "Name: horas_m123, dtype: int64 0      8.04\n",
      "1      6.95\n",
      "2      7.58\n",
      "3      8.81\n",
      "4      8.33\n",
      "5      9.96\n",
      "6      7.24\n",
      "7      4.26\n",
      "8     10.84\n",
      "9      4.82\n",
      "10     5.68\n",
      "Name: m3_m1, dtype: float64\n"
     ]
    }
   ],
   "source": [
    "print(dascombe.horas_m123,dascombe.m3_m1)"
   ]
  },
  {
   "cell_type": "markdown",
   "metadata": {},
   "source": [
    "Vamos a visualizar las la relación entre las horas que están las máquinas trabajando con el volumen que sacana. "
   ]
  },
  {
   "cell_type": "code",
   "execution_count": 15,
   "metadata": {},
   "outputs": [
    {
     "data": {
      "text/plain": [
       "Text(0.5, 1.0, 'Maquina4')"
      ]
     },
     "execution_count": 15,
     "metadata": {},
     "output_type": "execute_result"
    },
    {
     "data": {
      "image/png": "[encoded data removed]",
      "text/plain": [
       "<Figure size 720x720 with 4 Axes>"
      ]
     },
     "metadata": {
      "needs_background": "light"
     },
     "output_type": "display_data"
    }
   ],
   "source": [
    "# Lo primero creamos una figura con n_filas y n_columnas\n",
    "fig,axes = plt.subplots(nrows=2, ncols=2,figsize=(10, 10))\n",
    "# cada celda de la matriz la podemos \n",
    "ax1 = axes[0][0]\n",
    "ax1.scatter(dascombe.horas_m123,dascombe.m3_m1)\n",
    "ax1.set_title(\"Maquina1\")\n",
    "ax2 = axes[0][1]\n",
    "ax2.scatter(dascombe.horas_m123,dascombe.m3_m2)\n",
    "ax2.set_title(\"Maquina2\")\n",
    "\n",
    "ax3 = axes[1][0]\n",
    "ax3.scatter(dascombe.horas_m123,dascombe.m3_m3)\n",
    "ax3.set_title(\"Maquina3\")\n",
    "\n",
    "ax4 = axes[1][1]\n",
    "ax4.scatter(dascombe.horas_m4,dascombe.m3_m4)\n",
    "ax4.set_title(\"Maquina4\")\n",
    "\n"
   ]
  },
  {
   "cell_type": "markdown",
   "metadata": {},
   "source": [
    "\n",
    "### Regresion lineal\n",
    "Utilizamos la funcion np polifit, nos busca el poligono ( en este caso de grado1) que mejor se adapta a estos puntos. el primer valor es la x el segundo la constante. "
   ]
  },
  {
   "cell_type": "code",
   "execution_count": 16,
   "metadata": {},
   "outputs": [
    {
     "name": "stdout",
     "output_type": "stream",
     "text": [
      "[0.50009091 3.00009091]\n"
     ]
    }
   ],
   "source": [
    "# Modelo linea para horas_m1,m3_m123\n",
    "l_model1 = np.polyfit(dascombe.horas_m123, dascombe.m3_m1, 1)\n",
    "\n",
    "print(l_model1) \n"
   ]
  },
  {
   "cell_type": "markdown",
   "metadata": {},
   "source": [
    "### 1 Pregunta 1 ¿Qué valores nos está devolviendo l_model1? "
   ]
  },
  {
   "cell_type": "markdown",
   "metadata": {},
   "source": [
    "La función zip() toma como argumento dos o más objetos iterables (idealmente cada uno de ellos con la misma cantidad de elementos) y retorna un nuevo iterable cuyos elementos son tuplas que contienen un elemento de cada uno de los iteradores originales.\n",
    "* **Ejemplo**  \n",
    ">>> paises = [\"China\", \"India\", \"Estados Unidos\", \"Indonesia\"]  \n",
    ">>> poblaciones = [1391, 1364, 327, 264]  \n",
    ">>> list(zip(paises, poblaciones)) \n",
    "[('China', 1391), ('India', 1364), ('Estados Unidos', 327), ('Indonesia', 264)]\n"
   ]
  },
  {
   "cell_type": "code",
   "execution_count": 17,
   "metadata": {},
   "outputs": [
    {
     "data": {
      "text/plain": [
       "(10, 8, 13, 9, 11, 14, 6, 4, 12, 7, 5)"
      ]
     },
     "execution_count": 17,
     "metadata": {},
     "output_type": "execute_result"
    }
   ],
   "source": [
    "# calculammos los valores x e y segun los coeficientes\n",
    "r_x, r_y1 =zip(*((i, i*l_model1[0] + l_model1[1]) for i in dascombe.horas_m123))\n",
    "\n",
    "r_x\n"
   ]
  },
  {
   "cell_type": "code",
   "execution_count": 18,
   "metadata": {},
   "outputs": [
    {
     "data": {
      "text/plain": [
       "(8.001000000000001,\n",
       " 7.000818181818183,\n",
       " 9.501272727272731,\n",
       " 7.500909090909093,\n",
       " 8.501090909090912,\n",
       " 10.00136363636364,\n",
       " 6.000636363636365,\n",
       " 5.000454545454545,\n",
       " 9.001181818181822,\n",
       " 6.500727272727274,\n",
       " 5.500545454545454)"
      ]
     },
     "execution_count": 18,
     "metadata": {},
     "output_type": "execute_result"
    }
   ],
   "source": [
    "r_y1"
   ]
  },
  {
   "cell_type": "code",
   "execution_count": 19,
   "metadata": {
    "scrolled": true
   },
   "outputs": [
    {
     "name": "stdout",
     "output_type": "stream",
     "text": [
      "[0.50009091 3.00009091]\n"
     ]
    },
    {
     "data": {
      "image/png": "[encoded data removed]",
      "text/plain": [
       "<Figure size 432x288 with 1 Axes>"
      ]
     },
     "metadata": {
      "needs_background": "light"
     },
     "output_type": "display_data"
    }
   ],
   "source": [
    "# ========================\n",
    "# Dibujamos las graficas\n",
    "# ========================\n",
    "# Plot the original data and model\n",
    "\n",
    "dascombe.plot(kind='scatter', color='Blue',x='horas_m123',y='m3_m1',title='Original Values')\n",
    "plot(r_x,r_y1)\n",
    "print(l_model1) \n"
   ]
  },
  {
   "cell_type": "code",
   "execution_count": 20,
   "metadata": {},
   "outputs": [],
   "source": [
    "#Ahora repetimos los pasos para las máquinas 2,3 y 4 "
   ]
  },
  {
   "cell_type": "code",
   "execution_count": 21,
   "metadata": {},
   "outputs": [
    {
     "name": "stdout",
     "output_type": "stream",
     "text": [
      "[0.5        3.00090909]\n"
     ]
    },
    {
     "data": {
      "image/png": "[encoded data removed]",
      "text/plain": [
       "<Figure size 432x288 with 1 Axes>"
      ]
     },
     "metadata": {
      "needs_background": "light"
     },
     "output_type": "display_data"
    }
   ],
   "source": [
    "# Modelo linea para la máquina 2 \n",
    "l_model2 = np.polyfit(dascombe.horas_m123, dascombe.m3_m2, 1)\n",
    "r_x, r_y2 =zip(*((i, i*l_model2[0] + l_model2[1]) for i in dascombe.horas_m123))\n",
    "dascombe.plot(kind='scatter', color='Blue',x='horas_m123',y='m3_m2',title='Original Values')\n",
    "plot(r_x,r_y2)\n",
    "print(l_model2)"
   ]
  },
  {
   "cell_type": "markdown",
   "metadata": {},
   "source": [
    "### Pregunta 2: Modelo linea para la máquina 3 : ¿Como sería este modelo ?"
   ]
  },
  {
   "cell_type": "code",
   "execution_count": 49,
   "metadata": {},
   "outputs": [
    {
     "name": "stdout",
     "output_type": "stream",
     "text": [
      "[-0.19227273  9.23136364]\n"
     ]
    },
    {
     "data": {
      "image/png": "[encoded data removed]",
      "text/plain": [
       "<Figure size 432x288 with 1 Axes>"
      ]
     },
     "metadata": {
      "needs_background": "light"
     },
     "output_type": "display_data"
    }
   ],
   "source": [
    "# Modelo linea para la máquina 3 \n",
    "#m3_m4\n",
    "l_model4 = np.polyfit(dascombe.horas_m123, dascombe.m3_m4, 1)\n",
    "r_x, r_y2 =zip(*((i, i*l_model4[0] + l_model4[1]) for i in dascombe.horas_m123))\n",
    "dascombe.plot(kind='scatter', color='Blue',x='horas_m123',y='m3_m4',title='Original Values')\n",
    "plot(r_x,r_y2)\n",
    "print(l_model4)"
   ]
  },
  {
   "cell_type": "code",
   "execution_count": null,
   "metadata": {},
   "outputs": [],
   "source": []
  },
  {
   "cell_type": "markdown",
   "metadata": {},
   "source": [
    "### Pincipios para presentar la información adecuadamente:\n",
    "\n",
    "1. **Simplificar**: presentar la cantidad de variables adecuadas.\n",
    "2. **Comparar**: para facilitar la comprensión y evitar errores de memoria, es importante poder visualizar todos los datos en una imagen.\n",
    "3. Dónde y **cómo** mostrar la información que se quiere destacar para captar la atención.\n",
    "4. **Diversificar**: diferentes representaciones de los mismos datos pueden llevar a nuevas conclusiones\n",
    "5. *Buscar* el por qué: la meta del Data Visualization no es encontrar qué ocurre, si no dar una forma visual fácilmente interpretable a la miríada de datos de los que dispone una compañía\n"
   ]
  },
  {
   "cell_type": "markdown",
   "metadata": {},
   "source": [
    "### Ejercicio 2: Tendencia Temporal"
   ]
  },
  {
   "cell_type": "code",
   "execution_count": 36,
   "metadata": {},
   "outputs": [],
   "source": [
    "año=[2001,2002,2003,2004,2005,2006,2007,2008,2009,2010,2011,2012,2013,2014,2015,2016,2017]\n",
    "ventas=[36,129.678359,190.0199496,160.0662013,121.0056243,152.0620643,211.9553051,143.1361545,\n",
    "197.9499767,124.17582,181.269529,255.7101698,164.3957041,238.9548432,134.2507348,179.243239259,200.0279889]"
   ]
  },
  {
   "cell_type": "code",
   "execution_count": 37,
   "metadata": {},
   "outputs": [
    {
     "data": {
      "text/plain": [
       "0     2001\n",
       "1     2002\n",
       "2     2003\n",
       "3     2004\n",
       "4     2005\n",
       "5     2006\n",
       "6     2007\n",
       "7     2008\n",
       "8     2009\n",
       "9     2010\n",
       "10    2011\n",
       "11    2012\n",
       "12    2013\n",
       "13    2014\n",
       "14    2015\n",
       "15    2016\n",
       "16    2017\n",
       "Name: anio, dtype: int64"
      ]
     },
     "execution_count": 37,
     "metadata": {},
     "output_type": "execute_result"
    }
   ],
   "source": [
    "#Grafico Lineas por Año y Ventas\n",
    "data = {'anio':año,'ventas':ventas}\n",
    "test = pd.DataFrame(data)\n",
    "test['anio']"
   ]
  },
  {
   "cell_type": "code",
   "execution_count": 40,
   "metadata": {},
   "outputs": [
    {
     "data": {
      "image/png": "[encoded data removed]",
      "text/plain": [
       "<Figure size 432x288 with 1 Axes>"
      ]
     },
     "metadata": {
      "needs_background": "light"
     },
     "output_type": "display_data"
    },
    {
     "data": {
      "text/plain": [
       "[<matplotlib.lines.Line2D at 0x1221015d0>]"
      ]
     },
     "execution_count": 40,
     "metadata": {},
     "output_type": "execute_result"
    },
    {
     "data": {
      "image/png": "[encoded data removed]",
      "text/plain": [
       "<Figure size 432x288 with 1 Axes>"
      ]
     },
     "metadata": {
      "needs_background": "light"
     },
     "output_type": "display_data"
    }
   ],
   "source": [
    "#creamos modelo para año y ventas y lo dibujamos \n",
    "# utilizamos np.polify\n",
    "model1 = np.polyfit(test.anio, test.ventas, 1)\n",
    "# utilizamos zip\n",
    "r_x, r_y1 =zip(*((i, i*model1[0] + model1[1]) for i in test.anio))\n",
    "# dibujamos el grafico de lineas de  año y ventas\n",
    "ax = plt.gca()\n",
    "\n",
    "test.plot(kind='line',x='anio',y='ventas',ax=ax)\n",
    "plt.show()\n",
    "\n",
    "# dibujamos el grafico de lineas de  r_x r_y\n",
    "test.plot(kind='scatter', color='Blue',x='anio',y='ventas',title='Original Values')\n",
    "plot(r_x,r_y1)\n",
    "\n",
    " "
   ]
  },
  {
   "cell_type": "markdown",
   "metadata": {},
   "source": [
    "### Ejercicio 3 Ranking - ¿Qué camión es el que más corre?\n"
   ]
  },
  {
   "cell_type": "code",
   "execution_count": 27,
   "metadata": {},
   "outputs": [],
   "source": [
    "data=[['Camion 3',193],['Camion 2',153],['Camion 5',187],['Camion 15',244],['Camion 1',436],['Camion 4',127],['Camion 16',119],['Camion 17',106],['Camion 14',99],['Camion 6',98]]\n",
    "df = pd.DataFrame(data,columns=['camion','km'])\n"
   ]
  },
  {
   "cell_type": "code",
   "execution_count": 28,
   "metadata": {},
   "outputs": [
    {
     "data": {
      "text/html": [
       "<div>\n",
       "<style scoped>\n",
       "    .dataframe tbody tr th:only-of-type {\n",
       "        vertical-align: middle;\n",
       "    }\n",
       "\n",
       "    .dataframe tbody tr th {\n",
       "        vertical-align: top;\n",
       "    }\n",
       "\n",
       "    .dataframe thead th {\n",
       "        text-align: right;\n",
       "    }\n",
       "</style>\n",
       "<table border=\"1\" class=\"dataframe\">\n",
       "  <thead>\n",
       "    <tr style=\"text-align: right;\">\n",
       "      <th></th>\n",
       "      <th>camion</th>\n",
       "      <th>km</th>\n",
       "    </tr>\n",
       "  </thead>\n",
       "  <tbody>\n",
       "    <tr>\n",
       "      <th>4</th>\n",
       "      <td>Camion 1</td>\n",
       "      <td>436</td>\n",
       "    </tr>\n",
       "    <tr>\n",
       "      <th>3</th>\n",
       "      <td>Camion 15</td>\n",
       "      <td>244</td>\n",
       "    </tr>\n",
       "    <tr>\n",
       "      <th>0</th>\n",
       "      <td>Camion 3</td>\n",
       "      <td>193</td>\n",
       "    </tr>\n",
       "    <tr>\n",
       "      <th>2</th>\n",
       "      <td>Camion 5</td>\n",
       "      <td>187</td>\n",
       "    </tr>\n",
       "    <tr>\n",
       "      <th>1</th>\n",
       "      <td>Camion 2</td>\n",
       "      <td>153</td>\n",
       "    </tr>\n",
       "  </tbody>\n",
       "</table>\n",
       "</div>"
      ],
      "text/plain": [
       "      camion   km\n",
       "4   Camion 1  436\n",
       "3  Camion 15  244\n",
       "0   Camion 3  193\n",
       "2   Camion 5  187\n",
       "1   Camion 2  153"
      ]
     },
     "execution_count": 28,
     "metadata": {},
     "output_type": "execute_result"
    }
   ],
   "source": [
    "#Chequeamos los datos\n",
    "df[:5].sort_values(by=['km'],ascending=False)\n"
   ]
  },
  {
   "cell_type": "markdown",
   "metadata": {},
   "source": [
    "#### Pregunta 3.1: ¿que visualización es la mas adecuada?\n",
    "* Dibujala"
   ]
  },
  {
   "cell_type": "code",
   "execution_count": 45,
   "metadata": {},
   "outputs": [
    {
     "data": {
      "text/plain": [
       "<matplotlib.axes._subplots.AxesSubplot at 0x1224e0410>"
      ]
     },
     "execution_count": 45,
     "metadata": {},
     "output_type": "execute_result"
    },
    {
     "data": {
      "image/png": "[encoded data removed]",
      "text/plain": [
       "<Figure size 432x288 with 1 Axes>"
      ]
     },
     "metadata": {
      "needs_background": "light"
     },
     "output_type": "display_data"
    }
   ],
   "source": [
    "# Gráfico de con los camiones y los kilometros \n",
    "ax = plt.gca()\n",
    "df.plot(kind='barh',x='camion',y='km',ax=ax)"
   ]
  },
  {
   "cell_type": "markdown",
   "metadata": {},
   "source": [
    "### Ejercicio 4 Parte de un todo - ¿Cuántas entregas realizamos tarde?\n"
   ]
  },
  {
   "cell_type": "code",
   "execution_count": 47,
   "metadata": {
    "scrolled": true
   },
   "outputs": [
    {
     "data": {
      "text/html": [
       "<div>\n",
       "<style scoped>\n",
       "    .dataframe tbody tr th:only-of-type {\n",
       "        vertical-align: middle;\n",
       "    }\n",
       "\n",
       "    .dataframe tbody tr th {\n",
       "        vertical-align: top;\n",
       "    }\n",
       "\n",
       "    .dataframe thead th {\n",
       "        text-align: right;\n",
       "    }\n",
       "</style>\n",
       "<table border=\"1\" class=\"dataframe\">\n",
       "  <thead>\n",
       "    <tr style=\"text-align: right;\">\n",
       "      <th></th>\n",
       "      <th>Camion</th>\n",
       "      <th>Entregas a tiempo</th>\n",
       "      <th>Entregas Tarde</th>\n",
       "    </tr>\n",
       "  </thead>\n",
       "  <tbody>\n",
       "    <tr>\n",
       "      <th>0</th>\n",
       "      <td>camion1</td>\n",
       "      <td>79</td>\n",
       "      <td>21</td>\n",
       "    </tr>\n",
       "    <tr>\n",
       "      <th>1</th>\n",
       "      <td>camion2</td>\n",
       "      <td>59</td>\n",
       "      <td>41</td>\n",
       "    </tr>\n",
       "    <tr>\n",
       "      <th>2</th>\n",
       "      <td>camion3</td>\n",
       "      <td>87</td>\n",
       "      <td>13</td>\n",
       "    </tr>\n",
       "  </tbody>\n",
       "</table>\n",
       "</div>"
      ],
      "text/plain": [
       "    Camion  Entregas a tiempo  Entregas Tarde\n",
       "0  camion1                 79              21\n",
       "1  camion2                 59              41\n",
       "2  camion3                 87              13"
      ]
     },
     "execution_count": 47,
     "metadata": {},
     "output_type": "execute_result"
    }
   ],
   "source": [
    "entregas=[['camion1',79,21],['camion2',59,41],['camion3',87,13]]\n",
    "df_entregas = pd.DataFrame(entregas,columns=['Camion','Entregas a tiempo','Entregas Tarde'])\n",
    "df_entregas.head()"
   ]
  },
  {
   "cell_type": "code",
   "execution_count": 48,
   "metadata": {
    "scrolled": true
   },
   "outputs": [
    {
     "data": {
      "text/plain": [
       "<matplotlib.axes._subplots.AxesSubplot at 0x1225f2b50>"
      ]
     },
     "execution_count": 48,
     "metadata": {},
     "output_type": "execute_result"
    },
    {
     "data": {
      "image/png": "[encoded data removed]",
      "text/plain": [
       "<Figure size 432x288 with 1 Axes>"
      ]
     },
     "metadata": {
      "needs_background": "light"
     },
     "output_type": "display_data"
    }
   ],
   "source": [
    "### grafico\n",
    "df_entregas.plot(kind='barh',stacked=True)"
   ]
  },
  {
   "cell_type": "markdown",
   "metadata": {},
   "source": [
    "## Resumen\n",
    "\n",
    "* La visualización de los datos debe considerarse como un complemento de las estadísticas \n",
    "\n",
    "\n",
    "* Hacer uno sin el otro le dejará una visión incompleta y potencialmente engañosa de sus datos. Del mismo modo que elegir el estadístico correcto para la situación en cuestión es fundamental, también lo es seleccionar el tipo de gráfico adecuado para sus propósitos. \n",
    "    \n",
    "    * Al comparar variables **cuantitativas** entre sí, considere gráficos de dispersión y de línea. \n",
    "    * Si está interesado en cómo se **distribuye** una variable, gire a histogramas y gráficas de densidad. \n",
    "    * Para las **comparaciones** que involucran variables categóricas, los gráficos de barras y cajas son buenos puntos de partida"
   ]
  },
  {
   "cell_type": "code",
   "execution_count": null,
   "metadata": {},
   "outputs": [],
   "source": []
  },
  {
   "cell_type": "code",
   "execution_count": null,
   "metadata": {},
   "outputs": [],
   "source": []
  }
 ],
 "metadata": {
  "anaconda-cloud": {},
  "kernelspec": {
   "display_name": "Python 3",
   "language": "python",
   "name": "python3"
  },
  "language_info": {
   "codemirror_mode": {
    "name": "ipython",
    "version": 3
   },
   "file_extension": ".py",
   "mimetype": "text/x-python",
   "name": "python",
   "nbconvert_exporter": "python",
   "pygments_lexer": "ipython3",
   "version": "3.7.4"
  },
  "widgets": {
   "state": {},
   "version": "1.1.2"
  }
 },
 "nbformat": 4,
 "nbformat_minor": 4
}

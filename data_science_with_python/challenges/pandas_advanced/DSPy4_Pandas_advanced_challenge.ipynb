{
 "cells": [
  {
   "cell_type": "markdown",
   "metadata": {
    "toc": true
   },
   "source": [
    "<h1>Table of Contents<span class=\"tocSkip\"></span></h1>\n",
    "<div class=\"toc\"><ul class=\"toc-item\"></ul></div>"
   ]
  },
  {
   "cell_type": "markdown",
   "metadata": {},
   "source": [
    "<img src=\"mioti.png\" style=\"height: 100px\">\n",
    "<center style=\"color:#888\">Data Science with Python</center>\n",
    "\n",
    "# DSPy4 Pandas \"advanced\". Challenge"
   ]
  },
  {
   "cell_type": "markdown",
   "metadata": {},
   "source": [
    "<img src=\"movie_slashers.jpg\" style=\"width:800px\">"
   ]
  },
  {
   "cell_type": "markdown",
   "metadata": {},
   "source": [
    "**Inicialización**"
   ]
  },
  {
   "cell_type": "code",
   "execution_count": 2,
   "metadata": {
    "collapsed": true
   },
   "outputs": [],
   "source": [
    "%matplotlib inline\n",
    "import numpy as np\n",
    "import pandas as pd\n",
    "import matplotlib.pyplot as plt\n",
    "from matplotlib import rcParams\n",
    "rcParams['figure.figsize'] = (16, 9)"
   ]
  },
  {
   "cell_type": "markdown",
   "metadata": {},
   "source": [
    "Continuamos con el dataset `filmdeathcounts.csv`, del que vamos a intentar aprender algunas cosas más:"
   ]
  },
  {
   "cell_type": "markdown",
   "metadata": {},
   "source": [
    "**Ejercicio 1:** ¿Nos estamos volviendo más violentos con el tiempo en lo que a cine se refiere? ¿Cuánta evidencia tienes de tu respuesta? _Hint: Para poder responder bien a este ejercicio, serían interesantes dos gráficos: violencia por año y películas por año..._"
   ]
  },
  {
   "cell_type": "code",
   "execution_count": null,
   "metadata": {
    "collapsed": true
   },
   "outputs": [],
   "source": []
  },
  {
   "cell_type": "markdown",
   "metadata": {},
   "source": [
    "**Ejercicio 2:** ¿Cuáles la violencia media por cada calificación de la MPAA? _Hint: los ratings de la MPAA han cambiado con el tiempo. Hay que agrupar aquellos que significan lo mismo..._"
   ]
  },
  {
   "cell_type": "code",
   "execution_count": null,
   "metadata": {
    "collapsed": true
   },
   "outputs": [],
   "source": []
  },
  {
   "cell_type": "markdown",
   "metadata": {},
   "source": [
    "**Ejercicio 3 [Hard mode]**: Muestra la violencia promedio por director y género: ¿cuál es el director y género más violentos?\n",
    "<img src=\"ZackSnyder.jpg\" style=\"height: 500px\">"
   ]
  },
  {
   "cell_type": "markdown",
   "metadata": {},
   "source": [
    "Esta es la operación más compleja de todo el challenge:"
   ]
  },
  {
   "cell_type": "code",
   "execution_count": null,
   "metadata": {
    "collapsed": true
   },
   "outputs": [],
   "source": [
    "# ToDo: Convertir los valores de \"director\" y \"género\" en listas de directores y géneros. Hint: apply\n",
    "\n",
    "\n",
    "# Creamos una columna donde cada fila es un director de la película, con el mismo índice que el dataframe original. \n",
    "# Si la película tiene más de un director, tendremos entonces varias filas con el mismo índice.\n",
    "director = df.apply(lambda row: pd.Series(row['Director']),axis=1).stack().reset_index(level=1, drop=True)\n",
    "director.name = 'Director'\n",
    "\n",
    "# Hacemos lo mismo con el género\n",
    "genre = df.apply(lambda row: pd.Series(row['Genre']),axis=1).stack().reset_index(level=1, drop=True)\n",
    "genre.name = 'Genre'\n",
    "\n",
    "# Eliminamos las columnas antiguas\n",
    "df = df.drop('Director', axis=1)\n",
    "df = df.drop('Genre', axis=1)\n",
    "\n",
    "# Unimos las columnas nuevas al dataframe original haciendo match con el índice: como tenemos índices repetidos \n",
    "# tanto en la nueva columna director como en género, el dataframe resultante tendrá filas con todos los valores\n",
    "# repetidos menos director y género.\n",
    "df = df.join(director)\n",
    "df = df.join(genre)\n",
    "\n",
    "# ToDo: ... y ahora¿"
   ]
  },
  {
   "cell_type": "markdown",
   "metadata": {},
   "source": [
    "***"
   ]
  },
  {
   "cell_type": "markdown",
   "metadata": {},
   "source": [
    "Para los siguientes ejercicios recuperamos de nuevo \"tmdb_5000_movies.csv\", con más películas y más información sobre las mismas."
   ]
  },
  {
   "cell_type": "markdown",
   "metadata": {
    "collapsed": true
   },
   "source": [
    "**Ejercicio 4 [Hard mode]:** ¿Cómo afecta el presupuesto de las películas al número de muertes?"
   ]
  },
  {
   "cell_type": "code",
   "execution_count": null,
   "metadata": {},
   "outputs": [],
   "source": []
  }
 ],
 "metadata": {
  "kernelspec": {
   "display_name": "Python 3",
   "language": "python",
   "name": "python3"
  },
  "language_info": {
   "codemirror_mode": {
    "name": "ipython",
    "version": 3
   },
   "file_extension": ".py",
   "mimetype": "text/x-python",
   "name": "python",
   "nbconvert_exporter": "python",
   "pygments_lexer": "ipython3",
   "version": "3.7.3"
  },
  "toc": {
   "base_numbering": 1,
   "nav_menu": {},
   "number_sections": true,
   "sideBar": true,
   "skip_h1_title": true,
   "title_cell": "Table of Contents",
   "title_sidebar": "Contents",
   "toc_cell": true,
   "toc_position": {
    "height": "calc(100% - 180px)",
    "left": "10px",
    "top": "150px",
    "width": "183px"
   },
   "toc_section_display": true,
   "toc_window_display": true
  },
  "varInspector": {
   "cols": {
    "lenName": 16,
    "lenType": 16,
    "lenVar": 40
   },
   "kernels_config": {
    "python": {
     "delete_cmd_postfix": "",
     "delete_cmd_prefix": "del ",
     "library": "var_list.py",
     "varRefreshCmd": "print(var_dic_list())"
    },
    "r": {
     "delete_cmd_postfix": ") ",
     "delete_cmd_prefix": "rm(",
     "library": "var_list.r",
     "varRefreshCmd": "cat(var_dic_list()) "
    }
   },
   "types_to_exclude": [
    "module",
    "function",
    "builtin_function_or_method",
    "instance",
    "_Feature"
   ],
   "window_display": false
  }
 },
 "nbformat": 4,
 "nbformat_minor": 2
}

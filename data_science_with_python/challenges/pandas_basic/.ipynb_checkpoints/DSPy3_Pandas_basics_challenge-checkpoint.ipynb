{
 "cells": [
  {
   "cell_type": "markdown",
   "metadata": {
    "toc": true
   },
   "source": [
    "<h1>Table of Contents<span class=\"tocSkip\"></span></h1>\n",
    "<div class=\"toc\"><ul class=\"toc-item\"></ul></div>"
   ]
  },
  {
   "cell_type": "markdown",
   "metadata": {},
   "source": [
    "<img src=\"mioti.png\" style=\"height: 100px\">\n",
    "<center style=\"color:#888\">Data Science with Python</center>\n",
    "\n",
    "# DSPy3 Pandas basics. Challenge."
   ]
  },
  {
   "cell_type": "markdown",
   "metadata": {},
   "source": [
    "**Inicialización**"
   ]
  },
  {
   "cell_type": "markdown",
   "metadata": {},
   "source": [
    "Vamos a trabajar con un dataset que contiene una lista de películas con, entre otros atributos, el número de muertes visibles en ellas. Se encuentra en el fichero `filmdeathcounts.csv`."
   ]
  },
  {
   "cell_type": "markdown",
   "metadata": {},
   "source": [
    "<img src=\"killer_body_count.jpg\" style=\"width:800px\">"
   ]
  },
  {
   "cell_type": "code",
   "execution_count": 3,
   "metadata": {
    "scrolled": true
   },
   "outputs": [
    {
     "name": "stdout",
     "output_type": "stream",
     "text": [
      "<class 'pandas.core.frame.DataFrame'>\n",
      "RangeIndex: 545 entries, 0 to 544\n",
      "Data columns (total 8 columns):\n",
      "Film              545 non-null object\n",
      "Year              545 non-null int64\n",
      "Body_Count        545 non-null int64\n",
      "MPAA_Rating       545 non-null object\n",
      "Genre             545 non-null object\n",
      "Director          545 non-null object\n",
      "Length_Minutes    545 non-null int64\n",
      "IMDB_Rating       545 non-null float64\n",
      "dtypes: float64(1), int64(3), object(4)\n",
      "memory usage: 34.2+ KB\n"
     ]
    },
    {
     "data": {
      "text/html": [
       "<div>\n",
       "<style scoped>\n",
       "    .dataframe tbody tr th:only-of-type {\n",
       "        vertical-align: middle;\n",
       "    }\n",
       "\n",
       "    .dataframe tbody tr th {\n",
       "        vertical-align: top;\n",
       "    }\n",
       "\n",
       "    .dataframe thead th {\n",
       "        text-align: right;\n",
       "    }\n",
       "</style>\n",
       "<table border=\"1\" class=\"dataframe\">\n",
       "  <thead>\n",
       "    <tr style=\"text-align: right;\">\n",
       "      <th></th>\n",
       "      <th>Film</th>\n",
       "      <th>Year</th>\n",
       "      <th>Body_Count</th>\n",
       "      <th>MPAA_Rating</th>\n",
       "      <th>Genre</th>\n",
       "      <th>Director</th>\n",
       "      <th>Length_Minutes</th>\n",
       "      <th>IMDB_Rating</th>\n",
       "    </tr>\n",
       "  </thead>\n",
       "  <tbody>\n",
       "    <tr>\n",
       "      <td>0</td>\n",
       "      <td>24 Hour Party People</td>\n",
       "      <td>2002</td>\n",
       "      <td>7</td>\n",
       "      <td>R</td>\n",
       "      <td>Biography|Comedy|Drama|Music</td>\n",
       "      <td>Michael Winterbottom</td>\n",
       "      <td>117</td>\n",
       "      <td>7.3</td>\n",
       "    </tr>\n",
       "    <tr>\n",
       "      <td>1</td>\n",
       "      <td>28 Days Later</td>\n",
       "      <td>2002</td>\n",
       "      <td>53</td>\n",
       "      <td>R</td>\n",
       "      <td>Horror|Sci-Fi|Thriller</td>\n",
       "      <td>Danny Boyle</td>\n",
       "      <td>113</td>\n",
       "      <td>7.6</td>\n",
       "    </tr>\n",
       "    <tr>\n",
       "      <td>2</td>\n",
       "      <td>28 Weeks Later</td>\n",
       "      <td>2007</td>\n",
       "      <td>212</td>\n",
       "      <td>R</td>\n",
       "      <td>Horror|Sci-Fi|Thriller</td>\n",
       "      <td>Juan Carlos Fresnadillo</td>\n",
       "      <td>100</td>\n",
       "      <td>7.0</td>\n",
       "    </tr>\n",
       "    <tr>\n",
       "      <td>3</td>\n",
       "      <td>30 Days of Night</td>\n",
       "      <td>2007</td>\n",
       "      <td>67</td>\n",
       "      <td>R</td>\n",
       "      <td>Horror|Thriller</td>\n",
       "      <td>David Slade</td>\n",
       "      <td>113</td>\n",
       "      <td>6.6</td>\n",
       "    </tr>\n",
       "    <tr>\n",
       "      <td>4</td>\n",
       "      <td>300</td>\n",
       "      <td>2007</td>\n",
       "      <td>600</td>\n",
       "      <td>R</td>\n",
       "      <td>Action|Fantasy|History|War</td>\n",
       "      <td>Zack Snyder</td>\n",
       "      <td>117</td>\n",
       "      <td>7.7</td>\n",
       "    </tr>\n",
       "  </tbody>\n",
       "</table>\n",
       "</div>"
      ],
      "text/plain": [
       "                   Film  Year  Body_Count MPAA_Rating  \\\n",
       "0  24 Hour Party People  2002           7           R   \n",
       "1         28 Days Later  2002          53           R   \n",
       "2        28 Weeks Later  2007         212           R   \n",
       "3      30 Days of Night  2007          67           R   \n",
       "4                   300  2007         600           R   \n",
       "\n",
       "                          Genre                 Director  Length_Minutes  \\\n",
       "0  Biography|Comedy|Drama|Music     Michael Winterbottom             117   \n",
       "1        Horror|Sci-Fi|Thriller              Danny Boyle             113   \n",
       "2        Horror|Sci-Fi|Thriller  Juan Carlos Fresnadillo             100   \n",
       "3               Horror|Thriller              David Slade             113   \n",
       "4    Action|Fantasy|History|War              Zack Snyder             117   \n",
       "\n",
       "   IMDB_Rating  \n",
       "0          7.3  \n",
       "1          7.6  \n",
       "2          7.0  \n",
       "3          6.6  \n",
       "4          7.7  "
      ]
     },
     "execution_count": 3,
     "metadata": {},
     "output_type": "execute_result"
    }
   ],
   "source": [
    "df = pd.read_csv(\"filmdeathcounts.csv\")\n",
    "df.info()\n",
    "df.head()"
   ]
  },
  {
   "cell_type": "markdown",
   "metadata": {},
   "source": [
    "**Ejercicio 1:** Muestra un dataframe con los 10 films con menos muertes, y su número de muertes, ordenados de menos a más."
   ]
  },
  {
   "cell_type": "code",
   "execution_count": null,
   "metadata": {
    "collapsed": true
   },
   "outputs": [],
   "source": [
    " "
   ]
  },
  {
   "cell_type": "markdown",
   "metadata": {},
   "source": [
    "**Ejercicio 2:** Encuentra el film con el mayor número de muertes."
   ]
  },
  {
   "cell_type": "code",
   "execution_count": null,
   "metadata": {
    "collapsed": true
   },
   "outputs": [],
   "source": []
  },
  {
   "cell_type": "markdown",
   "metadata": {},
   "source": [
    "**Ejercicio 3:** Esta pregunta equivaldría a \"¿cuál es el film más violento?\". Si no, ¿cuál es? "
   ]
  },
  {
   "cell_type": "code",
   "execution_count": null,
   "metadata": {
    "collapsed": true
   },
   "outputs": [],
   "source": []
  },
  {
   "cell_type": "markdown",
   "metadata": {},
   "source": [
    "Para los siguientes ejercicios contamos con otro CSV, `tmdb_5000_movies.csv`, con más películas y más información sobre las mismas."
   ]
  },
  {
   "cell_type": "markdown",
   "metadata": {},
   "source": [
    "**Ejercicio 4:** Usando el anterior dataset, ¿qué porcentaje de películas está por encima de la media global en términos de beneficio? Redondea a dos decimales."
   ]
  },
  {
   "cell_type": "code",
   "execution_count": null,
   "metadata": {},
   "outputs": [],
   "source": []
  }
 ],
 "metadata": {
  "kernelspec": {
   "display_name": "Python 3",
   "language": "python",
   "name": "python3"
  },
  "language_info": {
   "codemirror_mode": {
    "name": "ipython",
    "version": 3
   },
   "file_extension": ".py",
   "mimetype": "text/x-python",
   "name": "python",
   "nbconvert_exporter": "python",
   "pygments_lexer": "ipython3",
   "version": "3.7.4"
  },
  "toc": {
   "base_numbering": 1,
   "nav_menu": {},
   "number_sections": true,
   "sideBar": true,
   "skip_h1_title": true,
   "title_cell": "Table of Contents",
   "title_sidebar": "Contents",
   "toc_cell": true,
   "toc_position": {
    "height": "calc(100% - 180px)",
    "left": "10px",
    "top": "150px",
    "width": "165px"
   },
   "toc_section_display": true,
   "toc_window_display": true
  },
  "varInspector": {
   "cols": {
    "lenName": 16,
    "lenType": 16,
    "lenVar": 40
   },
   "kernels_config": {
    "python": {
     "delete_cmd_postfix": "",
     "delete_cmd_prefix": "del ",
     "library": "var_list.py",
     "varRefreshCmd": "print(var_dic_list())"
    },
    "r": {
     "delete_cmd_postfix": ") ",
     "delete_cmd_prefix": "rm(",
     "library": "var_list.r",
     "varRefreshCmd": "cat(var_dic_list()) "
    }
   },
   "types_to_exclude": [
    "module",
    "function",
    "builtin_function_or_method",
    "instance",
    "_Feature"
   ],
   "window_display": false
  }
 },
 "nbformat": 4,
 "nbformat_minor": 2
}

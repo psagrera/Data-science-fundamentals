{
 "cells": [
  {
   "cell_type": "markdown",
   "metadata": {},
   "source": [
    "##### <img src=\"mioti.png\" style=\"height: 100px\">\n",
    "<center style=\"color:#888\">Módulo Data Science in IoT<br/>Asignatura Data preprocessing</center>\n",
    "\n",
    "# Challenge S5: Liga de Fútbol Profesional"
   ]
  },
  {
   "cell_type": "markdown",
   "metadata": {},
   "source": [
    "## Objetivos\n",
    "\n",
    "El objetivo de este challenge es simular mediante el método de montecarlo el resultado de la liga.\n",
    "\n",
    "Para ello, utilizando las distribuciones de probabilidad, y todos los conceptos previos que hemos aprendido realizaremos una simulación lo más realista posible."
   ]
  },
  {
   "cell_type": "markdown",
   "metadata": {},
   "source": [
    "## Configuración del entorno"
   ]
  },
  {
   "cell_type": "code",
   "execution_count": 1,
   "metadata": {},
   "outputs": [],
   "source": [
    "%matplotlib inline\n",
    "\n",
    "import numpy as np\n",
    "import pandas as pd\n",
    "import matplotlib.pyplot as plt\n",
    "import math"
   ]
  },
  {
   "cell_type": "markdown",
   "metadata": {},
   "source": [
    "## Carga de datos\n",
    "\n",
    "Para este challenge dispones de varias fuentes de datos que puedes utilizar:\n",
    "\n",
    "* `equipos_liga_2019-20.txt` Fichero TXT con los equipos que han disputado la temporada 2019 - 2020 en la primera división de Liga de Fútbol profesional en España.\n",
    "* `clasificacion_historica.csv` Fichero con resultados acumulados de todos los equipos que han jugado alguna vez en primera division.\n",
    "* Cualquier otra fuente de datos que quieras añadir o información tuya si sabes mucho de fútbol 😄."
   ]
  },
  {
   "cell_type": "markdown",
   "metadata": {},
   "source": [
    "El primer paso será la carga de datos a partir del fichero `TXT`. Como sólo contiene el nombre de los equipos meteremos los valores en una lista."
   ]
  },
  {
   "cell_type": "code",
   "execution_count": 2,
   "metadata": {},
   "outputs": [
    {
     "data": {
      "text/plain": [
       "['D. Alavés',\n",
       " 'Athletic Club',\n",
       " 'Atlético de Madrid',\n",
       " 'FC Barcelona',\n",
       " 'Real Betis',\n",
       " 'RC Celta',\n",
       " 'SD Eibar',\n",
       " 'RCD Espanyol',\n",
       " 'Getafe CF',\n",
       " 'Granada CF',\n",
       " 'CD Leganés',\n",
       " 'Levante UD',\n",
       " 'RCD Mallorca',\n",
       " 'C.A. Osasuna',\n",
       " 'Real Madrid',\n",
       " 'Real Sociedad',\n",
       " 'R. Valladolid CF',\n",
       " 'Sevilla FC',\n",
       " 'Valencia CF',\n",
       " 'Villarreal CF']"
      ]
     },
     "execution_count": 2,
     "metadata": {},
     "output_type": "execute_result"
    }
   ],
   "source": [
    "with open('equipos_liga_2019-20.txt', encoding='utf-8') as f:\n",
    "    equipos = f.readlines()\n",
    "    equipos = [x.strip() for x in equipos] \n",
    "\n",
    "equipos"
   ]
  },
  {
   "cell_type": "markdown",
   "metadata": {},
   "source": [
    "## Simulador de partidos\n",
    "\n",
    "El primer paso para realizar un análisis de montecarlo es definir la función que nos permita simular cada caso individual, en nuestro casos son los partidos. Puedes implementar esta función como quieras.\n",
    "\n",
    "Tip: puedes usar `clasificacion_historica.csv` que contiene datos históricos de los distintos equipos, usar una fuente que busques por internet, o puedes hacer una función con tu \"conocimiento futbolístico\"."
   ]
  },
  {
   "cell_type": "code",
   "execution_count": 3,
   "metadata": {},
   "outputs": [
    {
     "data": {
      "text/html": [
       "<div>\n",
       "<style scoped>\n",
       "    .dataframe tbody tr th:only-of-type {\n",
       "        vertical-align: middle;\n",
       "    }\n",
       "\n",
       "    .dataframe tbody tr th {\n",
       "        vertical-align: top;\n",
       "    }\n",
       "\n",
       "    .dataframe thead th {\n",
       "        text-align: right;\n",
       "    }\n",
       "</style>\n",
       "<table border=\"1\" class=\"dataframe\">\n",
       "  <thead>\n",
       "    <tr style=\"text-align: right;\">\n",
       "      <th></th>\n",
       "      <th>Pos</th>\n",
       "      <th>Equipo</th>\n",
       "      <th>Ptos</th>\n",
       "      <th>PJ</th>\n",
       "      <th>PG</th>\n",
       "      <th>PE</th>\n",
       "      <th>PP</th>\n",
       "      <th>GF</th>\n",
       "      <th>GC</th>\n",
       "      <th>DG</th>\n",
       "    </tr>\n",
       "  </thead>\n",
       "  <tbody>\n",
       "    <tr>\n",
       "      <th>0</th>\n",
       "      <td>1º</td>\n",
       "      <td>Real Madrid</td>\n",
       "      <td>4529</td>\n",
       "      <td>2838</td>\n",
       "      <td>1690</td>\n",
       "      <td>567</td>\n",
       "      <td>581</td>\n",
       "      <td>6104</td>\n",
       "      <td>3230</td>\n",
       "      <td>2874</td>\n",
       "    </tr>\n",
       "    <tr>\n",
       "      <th>1</th>\n",
       "      <td>2º</td>\n",
       "      <td>FC Barcelona</td>\n",
       "      <td>4442</td>\n",
       "      <td>2838</td>\n",
       "      <td>1635</td>\n",
       "      <td>578</td>\n",
       "      <td>625</td>\n",
       "      <td>6089</td>\n",
       "      <td>3179</td>\n",
       "      <td>2910</td>\n",
       "    </tr>\n",
       "    <tr>\n",
       "      <th>2</th>\n",
       "      <td>3º</td>\n",
       "      <td>Atlético de Madrid</td>\n",
       "      <td>3597</td>\n",
       "      <td>2690</td>\n",
       "      <td>1286</td>\n",
       "      <td>618</td>\n",
       "      <td>786</td>\n",
       "      <td>4647</td>\n",
       "      <td>3360</td>\n",
       "      <td>1287</td>\n",
       "    </tr>\n",
       "    <tr>\n",
       "      <th>3</th>\n",
       "      <td>4º</td>\n",
       "      <td>Valencia CF</td>\n",
       "      <td>3520</td>\n",
       "      <td>2740</td>\n",
       "      <td>1224</td>\n",
       "      <td>639</td>\n",
       "      <td>877</td>\n",
       "      <td>4514</td>\n",
       "      <td>3542</td>\n",
       "      <td>972</td>\n",
       "    </tr>\n",
       "    <tr>\n",
       "      <th>4</th>\n",
       "      <td>5º</td>\n",
       "      <td>Athletic Club</td>\n",
       "      <td>3464</td>\n",
       "      <td>2838</td>\n",
       "      <td>1232</td>\n",
       "      <td>660</td>\n",
       "      <td>946</td>\n",
       "      <td>4713</td>\n",
       "      <td>3794</td>\n",
       "      <td>919</td>\n",
       "    </tr>\n",
       "  </tbody>\n",
       "</table>\n",
       "</div>"
      ],
      "text/plain": [
       "  Pos              Equipo  Ptos    PJ    PG   PE   PP    GF    GC    DG\n",
       "0  1º         Real Madrid  4529  2838  1690  567  581  6104  3230  2874\n",
       "1  2º        FC Barcelona  4442  2838  1635  578  625  6089  3179  2910\n",
       "2  3º  Atlético de Madrid  3597  2690  1286  618  786  4647  3360  1287\n",
       "3  4º         Valencia CF  3520  2740  1224  639  877  4514  3542   972\n",
       "4  5º       Athletic Club  3464  2838  1232  660  946  4713  3794   919"
      ]
     },
     "execution_count": 3,
     "metadata": {},
     "output_type": "execute_result"
    }
   ],
   "source": [
    "df_clasificacion_historica = pd.read_csv('clasificacion_historica.csv', encoding='utf-8', sep='\\t')\n",
    "df_clasificacion_historica.head()"
   ]
  },
  {
   "cell_type": "code",
   "execution_count": 4,
   "metadata": {},
   "outputs": [],
   "source": [
    "def get_puntos(equipo):\n",
    "    return df_clasificacion_historica[df_clasificacion_historica[\"Equipo\"] == equipo]['Ptos'].tolist()[0]"
   ]
  },
  {
   "cell_type": "code",
   "execution_count": 5,
   "metadata": {},
   "outputs": [],
   "source": [
    "def simular_partido(equipo_local, equipo_visitante):\n",
    "    '''Simula un partido, devuelve una entero: 0 gana el equipo local, 1 empate, 2 gana el equipo visitante'''\n",
    "    \n",
    "    puntos_local = 1.15 * get_puntos(equipo_local)\n",
    "    puntos_visitante = 1.0 * get_puntos(equipo_visitante)        \n",
    "    puntos_totales = puntos_local + puntos_visitante\n",
    "    \n",
    "    puntos_local_norm = float(puntos_local) / puntos_totales\n",
    "    \n",
    "    dado = np.random.random_sample()\n",
    "    '''\n",
    "    print(\"dado: \" + str(dado))\n",
    "    print(\"puntos_local: \" + str(puntos_local))\n",
    "    print(\"puntos_local_norm: \" + str(puntos_local_norm))\n",
    "    print(\"puntos_visitante: \" + str(puntos_visitante))\n",
    "    '''\n",
    "    \n",
    "    if math.fabs(puntos_local_norm - dado) < 0.1:\n",
    "        # Empate\n",
    "        return 1\n",
    "    elif dado > puntos_local_norm:\n",
    "        # Gana local\n",
    "        return 2\n",
    "    else:\n",
    "        # Gana visitante\n",
    "        return 0        "
   ]
  },
  {
   "cell_type": "code",
   "execution_count": 6,
   "metadata": {
    "scrolled": true
   },
   "outputs": [
    {
     "data": {
      "text/plain": [
       "2"
      ]
     },
     "execution_count": 6,
     "metadata": {},
     "output_type": "execute_result"
    }
   ],
   "source": [
    "simular_partido('Real Madrid', 'Valencia CF')"
   ]
  },
  {
   "cell_type": "markdown",
   "metadata": {},
   "source": [
    "## Simulador de temporadas\n",
    "\n",
    "Una vez que tenemos una función que nos simula un partido, vamos a hacer una función que nos simule una temporada completa `simular_temporada`:"
   ]
  },
  {
   "cell_type": "code",
   "execution_count": 7,
   "metadata": {},
   "outputs": [],
   "source": [
    "def simular_temporada():\n",
    "    '''Simula una temporada completa, y devuelve un diccionario con el resultado en puntos obtenido por cada equipo'''\n",
    "    \n",
    "    # Creo una clasificación vacía (diccionario con puntos)\n",
    "    clasificacion = {}\n",
    "    for e in equipos:\n",
    "        clasificacion[e] = 0 \n",
    "\n",
    "    for equipo_local in equipos:\n",
    "        for equipo_visitante in equipos:\n",
    "            if equipo_local == equipo_visitante:\n",
    "                pass\n",
    "            resultado = simular_partido(equipo_local, equipo_visitante)\n",
    "            \n",
    "            if resultado == 0: \n",
    "                # Gana el equipo local\n",
    "                clasificacion[equipo_local] += 3\n",
    "            elif resultado == 1: \n",
    "                # Empate\n",
    "                clasificacion[equipo_local] += 1\n",
    "                clasificacion[equipo_visitante] += 1\n",
    "            elif resultado == 2:\n",
    "                # Gana el equipo visitante\n",
    "                clasificacion[equipo_visitante] += 3\n",
    "                \n",
    "    return clasificacion"
   ]
  },
  {
   "cell_type": "code",
   "execution_count": 8,
   "metadata": {},
   "outputs": [
    {
     "data": {
      "text/plain": [
       "{'D. Alavés': 46,\n",
       " 'Athletic Club': 79,\n",
       " 'Atlético de Madrid': 74,\n",
       " 'FC Barcelona': 84,\n",
       " 'Real Betis': 48,\n",
       " 'RC Celta': 62,\n",
       " 'SD Eibar': 16,\n",
       " 'RCD Espanyol': 68,\n",
       " 'Getafe CF': 34,\n",
       " 'Granada CF': 32,\n",
       " 'CD Leganés': 8,\n",
       " 'Levante UD': 30,\n",
       " 'RCD Mallorca': 63,\n",
       " 'C.A. Osasuna': 52,\n",
       " 'Real Madrid': 91,\n",
       " 'Real Sociedad': 77,\n",
       " 'R. Valladolid CF': 50,\n",
       " 'Sevilla FC': 73,\n",
       " 'Valencia CF': 91,\n",
       " 'Villarreal CF': 49}"
      ]
     },
     "execution_count": 8,
     "metadata": {},
     "output_type": "execute_result"
    }
   ],
   "source": [
    "simular_temporada()"
   ]
  },
  {
   "cell_type": "markdown",
   "metadata": {},
   "source": [
    "## Agregador de resultados\n",
    "Por último necesitamos una función (`simular_lfp`) que nos genere los distintos casos de prueba a evaluar (temporadas) y por cada una de ella nos agrege los resultados"
   ]
  },
  {
   "cell_type": "code",
   "execution_count": 9,
   "metadata": {},
   "outputs": [],
   "source": [
    "def simular_lfp(num_iteraciones):\n",
    "    '''\n",
    "    Realiza la simulación de montecarlo\n",
    "    Devuelve un dataframe que tiene por columnas los distintos equipos y por cada fila la posición\n",
    "    de cada equipo en la simulación.\n",
    "    '''\n",
    "    # Creo una clasificación global vacía\n",
    "    clasificacion_global = pd.DataFrame(columns=equipos)\n",
    "\n",
    "    num_intentos = 0\n",
    "    for intento in range(0, num_iteraciones):\n",
    "        if intento % 5 == 0:\n",
    "            print(\"Simulando temporada \" + str(intento) + \"...\")\n",
    "\n",
    "        # Obtenemos los resultados de puntos de la temporada\n",
    "        temporada_i = simular_temporada()     \n",
    "        #print(\"Resultados: \" + str(temporada_i))\n",
    "\n",
    "        # Convertimos los puntos en clasificacion\n",
    "        clasificacion = {}\n",
    "        posicion = 1\n",
    "        for equipo in sorted(temporada_i, key=temporada_i.get, reverse=True):\n",
    "            clasificacion[equipo] = posicion\n",
    "            posicion += 1\n",
    "\n",
    "        #print(\"Clasificación: \" + str(clasificacion))\n",
    "\n",
    "        # Obtengo el equipo ganador\n",
    "        clasificacion_global.loc[intento] = clasificacion\n",
    "\n",
    "        num_intentos += 1\n",
    "\n",
    "    #print(clasificacion_global)\n",
    "    print(\"Fin de la simulación.\")\n",
    "    return clasificacion_global"
   ]
  },
  {
   "cell_type": "markdown",
   "metadata": {},
   "source": [
    "## Ejecución del análisis"
   ]
  },
  {
   "cell_type": "code",
   "execution_count": 10,
   "metadata": {},
   "outputs": [
    {
     "name": "stdout",
     "output_type": "stream",
     "text": [
      "Simulando temporada 0...\n",
      "Simulando temporada 5...\n",
      "Simulando temporada 10...\n",
      "Simulando temporada 15...\n",
      "Simulando temporada 20...\n",
      "Simulando temporada 25...\n",
      "Fin de la simulación.\n"
     ]
    }
   ],
   "source": [
    "clasificacion_global = simular_lfp(30)"
   ]
  },
  {
   "cell_type": "code",
   "execution_count": 11,
   "metadata": {},
   "outputs": [
    {
     "data": {
      "text/html": [
       "<div>\n",
       "<style scoped>\n",
       "    .dataframe tbody tr th:only-of-type {\n",
       "        vertical-align: middle;\n",
       "    }\n",
       "\n",
       "    .dataframe tbody tr th {\n",
       "        vertical-align: top;\n",
       "    }\n",
       "\n",
       "    .dataframe thead th {\n",
       "        text-align: right;\n",
       "    }\n",
       "</style>\n",
       "<table border=\"1\" class=\"dataframe\">\n",
       "  <thead>\n",
       "    <tr style=\"text-align: right;\">\n",
       "      <th></th>\n",
       "      <th>D. Alavés</th>\n",
       "      <th>Athletic Club</th>\n",
       "      <th>Atlético de Madrid</th>\n",
       "      <th>FC Barcelona</th>\n",
       "      <th>Real Betis</th>\n",
       "      <th>RC Celta</th>\n",
       "      <th>SD Eibar</th>\n",
       "      <th>RCD Espanyol</th>\n",
       "      <th>Getafe CF</th>\n",
       "      <th>Granada CF</th>\n",
       "      <th>CD Leganés</th>\n",
       "      <th>Levante UD</th>\n",
       "      <th>RCD Mallorca</th>\n",
       "      <th>C.A. Osasuna</th>\n",
       "      <th>Real Madrid</th>\n",
       "      <th>Real Sociedad</th>\n",
       "      <th>R. Valladolid CF</th>\n",
       "      <th>Sevilla FC</th>\n",
       "      <th>Valencia CF</th>\n",
       "      <th>Villarreal CF</th>\n",
       "    </tr>\n",
       "  </thead>\n",
       "  <tbody>\n",
       "    <tr>\n",
       "      <th>0</th>\n",
       "      <td>18</td>\n",
       "      <td>1</td>\n",
       "      <td>3</td>\n",
       "      <td>6</td>\n",
       "      <td>11</td>\n",
       "      <td>9</td>\n",
       "      <td>19</td>\n",
       "      <td>4</td>\n",
       "      <td>16</td>\n",
       "      <td>12</td>\n",
       "      <td>20</td>\n",
       "      <td>17</td>\n",
       "      <td>15</td>\n",
       "      <td>10</td>\n",
       "      <td>5</td>\n",
       "      <td>7</td>\n",
       "      <td>14</td>\n",
       "      <td>8</td>\n",
       "      <td>2</td>\n",
       "      <td>13</td>\n",
       "    </tr>\n",
       "    <tr>\n",
       "      <th>1</th>\n",
       "      <td>18</td>\n",
       "      <td>2</td>\n",
       "      <td>4</td>\n",
       "      <td>3</td>\n",
       "      <td>11</td>\n",
       "      <td>9</td>\n",
       "      <td>19</td>\n",
       "      <td>8</td>\n",
       "      <td>13</td>\n",
       "      <td>14</td>\n",
       "      <td>20</td>\n",
       "      <td>17</td>\n",
       "      <td>12</td>\n",
       "      <td>15</td>\n",
       "      <td>1</td>\n",
       "      <td>10</td>\n",
       "      <td>7</td>\n",
       "      <td>6</td>\n",
       "      <td>5</td>\n",
       "      <td>16</td>\n",
       "    </tr>\n",
       "    <tr>\n",
       "      <th>2</th>\n",
       "      <td>18</td>\n",
       "      <td>2</td>\n",
       "      <td>1</td>\n",
       "      <td>4</td>\n",
       "      <td>9</td>\n",
       "      <td>10</td>\n",
       "      <td>19</td>\n",
       "      <td>7</td>\n",
       "      <td>16</td>\n",
       "      <td>15</td>\n",
       "      <td>20</td>\n",
       "      <td>17</td>\n",
       "      <td>11</td>\n",
       "      <td>12</td>\n",
       "      <td>5</td>\n",
       "      <td>6</td>\n",
       "      <td>13</td>\n",
       "      <td>8</td>\n",
       "      <td>3</td>\n",
       "      <td>14</td>\n",
       "    </tr>\n",
       "    <tr>\n",
       "      <th>3</th>\n",
       "      <td>18</td>\n",
       "      <td>4</td>\n",
       "      <td>1</td>\n",
       "      <td>3</td>\n",
       "      <td>8</td>\n",
       "      <td>11</td>\n",
       "      <td>19</td>\n",
       "      <td>7</td>\n",
       "      <td>14</td>\n",
       "      <td>16</td>\n",
       "      <td>20</td>\n",
       "      <td>17</td>\n",
       "      <td>13</td>\n",
       "      <td>9</td>\n",
       "      <td>6</td>\n",
       "      <td>5</td>\n",
       "      <td>15</td>\n",
       "      <td>10</td>\n",
       "      <td>2</td>\n",
       "      <td>12</td>\n",
       "    </tr>\n",
       "    <tr>\n",
       "      <th>4</th>\n",
       "      <td>17</td>\n",
       "      <td>4</td>\n",
       "      <td>8</td>\n",
       "      <td>1</td>\n",
       "      <td>6</td>\n",
       "      <td>10</td>\n",
       "      <td>19</td>\n",
       "      <td>9</td>\n",
       "      <td>12</td>\n",
       "      <td>15</td>\n",
       "      <td>20</td>\n",
       "      <td>18</td>\n",
       "      <td>13</td>\n",
       "      <td>14</td>\n",
       "      <td>3</td>\n",
       "      <td>5</td>\n",
       "      <td>11</td>\n",
       "      <td>7</td>\n",
       "      <td>2</td>\n",
       "      <td>16</td>\n",
       "    </tr>\n",
       "  </tbody>\n",
       "</table>\n",
       "</div>"
      ],
      "text/plain": [
       "  D. Alavés Athletic Club Atlético de Madrid FC Barcelona Real Betis RC Celta  \\\n",
       "0        18             1                  3            6         11        9   \n",
       "1        18             2                  4            3         11        9   \n",
       "2        18             2                  1            4          9       10   \n",
       "3        18             4                  1            3          8       11   \n",
       "4        17             4                  8            1          6       10   \n",
       "\n",
       "  SD Eibar RCD Espanyol Getafe CF Granada CF CD Leganés Levante UD  \\\n",
       "0       19            4        16         12         20         17   \n",
       "1       19            8        13         14         20         17   \n",
       "2       19            7        16         15         20         17   \n",
       "3       19            7        14         16         20         17   \n",
       "4       19            9        12         15         20         18   \n",
       "\n",
       "  RCD Mallorca C.A. Osasuna Real Madrid Real Sociedad R. Valladolid CF  \\\n",
       "0           15           10           5             7               14   \n",
       "1           12           15           1            10                7   \n",
       "2           11           12           5             6               13   \n",
       "3           13            9           6             5               15   \n",
       "4           13           14           3             5               11   \n",
       "\n",
       "  Sevilla FC Valencia CF Villarreal CF  \n",
       "0          8           2            13  \n",
       "1          6           5            16  \n",
       "2          8           3            14  \n",
       "3         10           2            12  \n",
       "4          7           2            16  "
      ]
     },
     "execution_count": 11,
     "metadata": {},
     "output_type": "execute_result"
    }
   ],
   "source": [
    "clasificacion_global.head()"
   ]
  },
  {
   "cell_type": "markdown",
   "metadata": {},
   "source": [
    "## Análisis de resultados\n",
    "\n",
    "Ahora, con los resultados obtenidos, vamos a plantearnos algunas preguntas:\n",
    "\n",
    "### ¿Cuál es la posición media de cada equipo en la simulación?"
   ]
  },
  {
   "cell_type": "code",
   "execution_count": 12,
   "metadata": {},
   "outputs": [
    {
     "data": {
      "text/plain": [
       "FC Barcelona           3.400000\n",
       "Real Madrid            3.633333\n",
       "Atlético de Madrid     3.966667\n",
       "Athletic Club          4.033333\n",
       "Valencia CF            4.033333\n",
       "Sevilla FC             6.000000\n",
       "RCD Espanyol           6.633333\n",
       "Real Sociedad          7.200000\n",
       "Real Betis             8.466667\n",
       "RC Celta               9.700000\n",
       "R. Valladolid CF      11.266667\n",
       "C.A. Osasuna          11.733333\n",
       "RCD Mallorca          12.900000\n",
       "Villarreal CF         13.100000\n",
       "Granada CF            15.533333\n",
       "Getafe CF             15.633333\n",
       "D. Alavés             16.866667\n",
       "Levante UD            17.033333\n",
       "SD Eibar              19.066667\n",
       "CD Leganés            19.800000\n",
       "dtype: float64"
      ]
     },
     "execution_count": 12,
     "metadata": {},
     "output_type": "execute_result"
    }
   ],
   "source": [
    "clasificacion_global.mean().sort_values()"
   ]
  },
  {
   "cell_type": "markdown",
   "metadata": {},
   "source": [
    "### ¿Ha ganado UD Las Palmas alguna vez la liga?"
   ]
  },
  {
   "cell_type": "code",
   "execution_count": 13,
   "metadata": {},
   "outputs": [
    {
     "data": {
      "text/plain": [
       "Athletic Club          1.0\n",
       "Atlético de Madrid     1.0\n",
       "FC Barcelona           1.0\n",
       "Sevilla FC             1.0\n",
       "Valencia CF            1.0\n",
       "Real Madrid            1.0\n",
       "Real Betis             2.0\n",
       "RCD Espanyol           2.0\n",
       "RC Celta               3.0\n",
       "Real Sociedad          3.0\n",
       "R. Valladolid CF       6.0\n",
       "C.A. Osasuna           7.0\n",
       "RCD Mallorca           8.0\n",
       "Villarreal CF         10.0\n",
       "Granada CF            12.0\n",
       "Getafe CF             12.0\n",
       "D. Alavés             13.0\n",
       "Levante UD            14.0\n",
       "CD Leganés            18.0\n",
       "SD Eibar              18.0\n",
       "dtype: float64"
      ]
     },
     "execution_count": 13,
     "metadata": {},
     "output_type": "execute_result"
    }
   ],
   "source": [
    "clasificacion_global.min().sort_values()"
   ]
  },
  {
   "cell_type": "markdown",
   "metadata": {
    "collapsed": true
   },
   "source": [
    "### ¿Cual es la distribución de los resultados del Madrid, Barcelona y del Granada?"
   ]
  },
  {
   "cell_type": "code",
   "execution_count": 14,
   "metadata": {},
   "outputs": [
    {
     "data": {
      "text/plain": [
       "<matplotlib.axes._subplots.AxesSubplot at 0x14fcbcdbc88>"
      ]
     },
     "execution_count": 14,
     "metadata": {},
     "output_type": "execute_result"
    },
    {
     "data": {
      "image/png": "[encoded data removed]",
      "text/plain": [
       "<Figure size 432x288 with 1 Axes>"
      ]
     },
     "metadata": {
      "needs_background": "light"
     },
     "output_type": "display_data"
    }
   ],
   "source": [
    "clasificacion_global['Real Madrid'].plot.hist()"
   ]
  },
  {
   "cell_type": "code",
   "execution_count": 15,
   "metadata": {},
   "outputs": [
    {
     "data": {
      "text/plain": [
       "<matplotlib.axes._subplots.AxesSubplot at 0x14fcdde5860>"
      ]
     },
     "execution_count": 15,
     "metadata": {},
     "output_type": "execute_result"
    },
    {
     "data": {
      "image/png": "[encoded data removed]",
      "text/plain": [
       "<Figure size 432x288 with 1 Axes>"
      ]
     },
     "metadata": {
      "needs_background": "light"
     },
     "output_type": "display_data"
    }
   ],
   "source": [
    "clasificacion_global['FC Barcelona'].plot.hist()"
   ]
  },
  {
   "cell_type": "code",
   "execution_count": 16,
   "metadata": {},
   "outputs": [
    {
     "data": {
      "text/plain": [
       "<matplotlib.axes._subplots.AxesSubplot at 0x14fcde84940>"
      ]
     },
     "execution_count": 16,
     "metadata": {},
     "output_type": "execute_result"
    },
    {
     "data": {
      "image/png": "[encoded data removed]",
      "text/plain": [
       "<Figure size 432x288 with 1 Axes>"
      ]
     },
     "metadata": {
      "needs_background": "light"
     },
     "output_type": "display_data"
    }
   ],
   "source": [
    "clasificacion_global['Granada CF'].plot.hist()"
   ]
  },
  {
   "cell_type": "markdown",
   "metadata": {
    "collapsed": true
   },
   "source": [
    "## Reflexiones\n",
    "\n",
    "* ¿Qué información se te ocurre que puede ser interesante incorporar en esta simulación?\n",
    "* ¿Puede el método de montecarlo ayudarnos a ganar una quiniela?"
   ]
  },
  {
   "cell_type": "code",
   "execution_count": null,
   "metadata": {},
   "outputs": [],
   "source": []
  }
 ],
 "metadata": {
  "anaconda-cloud": {},
  "kernelspec": {
   "display_name": "Python 3",
   "language": "python",
   "name": "python3"
  },
  "language_info": {
   "codemirror_mode": {
    "name": "ipython",
    "version": 3
   },
   "file_extension": ".py",
   "mimetype": "text/x-python",
   "name": "python",
   "nbconvert_exporter": "python",
   "pygments_lexer": "ipython3",
   "version": "3.7.1"
  },
  "toc": {
   "base_numbering": 1,
   "nav_menu": {},
   "number_sections": true,
   "sideBar": true,
   "skip_h1_title": false,
   "title_cell": "Table of Contents",
   "title_sidebar": "Contents",
   "toc_cell": false,
   "toc_position": {},
   "toc_section_display": true,
   "toc_window_display": false
  },
  "varInspector": {
   "cols": {
    "lenName": 16,
    "lenType": 16,
    "lenVar": 40
   },
   "kernels_config": {
    "python": {
     "delete_cmd_postfix": "",
     "delete_cmd_prefix": "del ",
     "library": "var_list.py",
     "varRefreshCmd": "print(var_dic_list())"
    },
    "r": {
     "delete_cmd_postfix": ") ",
     "delete_cmd_prefix": "rm(",
     "library": "var_list.r",
     "varRefreshCmd": "cat(var_dic_list()) "
    }
   },
   "types_to_exclude": [
    "module",
    "function",
    "builtin_function_or_method",
    "instance",
    "_Feature"
   ],
   "window_display": false
  }
 },
 "nbformat": 4,
 "nbformat_minor": 2
}

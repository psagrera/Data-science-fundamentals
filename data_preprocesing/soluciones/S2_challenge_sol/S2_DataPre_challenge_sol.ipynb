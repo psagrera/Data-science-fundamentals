{
 "cells": [
  {
   "cell_type": "markdown",
   "metadata": {},
   "source": [
    "<img src=\"mioti.png\" style=\"height: 100px\">\n",
    "<center style=\"color:#888\">Módulo Data Science in IoT<br/>Asignatura: Data preprocessing</center>\n",
    "# Challenge S2: Anonimización AirBnbMadrid"
   ]
  },
  {
   "cell_type": "markdown",
   "metadata": {},
   "source": [
    "## Objetivos\n",
    "\n",
    "En este challenge nos enfrentaremos a un dataset real, que contiene los datos de los alojamientos disponibles de Airbnb para la comunidad de Madrid. Nuestro objetivo en el challenge es anonimizarlo y convertir el dataset de AirBnBMadrid a AirBnBValladolid."
   ]
  },
  {
   "cell_type": "markdown",
   "metadata": {},
   "source": [
    "## Configuración del entorno"
   ]
  },
  {
   "cell_type": "code",
   "execution_count": 1,
   "metadata": {
    "collapsed": true
   },
   "outputs": [],
   "source": [
    "%matplotlib inline\n",
    "\n",
    "import numpy as np\n",
    "import pandas as pd\n",
    "import matplotlib.pyplot as plt\n",
    "\n",
    "from faker import Faker\n",
    "fake = Faker('es_ES')"
   ]
  },
  {
   "cell_type": "markdown",
   "metadata": {},
   "source": [
    "## Carga de los datos\n",
    "Esta vez va a ser fácil, vamos a importar los datos de un fichero csv, utilizaremos la función read_csv que nos proporciona la libreria de pandas."
   ]
  },
  {
   "cell_type": "code",
   "execution_count": 2,
   "metadata": {
    "collapsed": true
   },
   "outputs": [],
   "source": [
    "df = pd.read_csv('dataset_airbnb_madrid.csv')"
   ]
  },
  {
   "cell_type": "markdown",
   "metadata": {},
   "source": [
    "Como este dataset es muy complejo, vamos a quedarnos con un subconjunto de columnas para este challenge:"
   ]
  },
  {
   "cell_type": "code",
   "execution_count": 3,
   "metadata": {
    "collapsed": true
   },
   "outputs": [],
   "source": [
    "df = df[['id', 'listing_url', 'name', 'summary', 'price', 'weekly_price', 'zipcode', 'country', 'latitude', 'longitude']]"
   ]
  },
  {
   "cell_type": "markdown",
   "metadata": {},
   "source": [
    "## Comprensión del dataset\n",
    "\n",
    "Una vez cargados los datos debemos inspeccionarlos, y entender que datos contiene cada una de las columnas:\n",
    "\n",
    "Describe por cada columna:\n",
    "\n",
    "* ¿Qué contiene?\n",
    "* ¿Cual es el rango de los datos?\n",
    "* ¿Contiene datos sensibles?\n",
    "* ¿Depende de otras?"
   ]
  },
  {
   "cell_type": "code",
   "execution_count": 4,
   "metadata": {},
   "outputs": [
    {
     "name": "stdout",
     "output_type": "stream",
     "text": [
      "<class 'pandas.core.frame.DataFrame'>\n",
      "RangeIndex: 13335 entries, 0 to 13334\n",
      "Data columns (total 10 columns):\n",
      "id              13335 non-null int64\n",
      "listing_url     13335 non-null object\n",
      "name            13335 non-null object\n",
      "summary         12846 non-null object\n",
      "price           13335 non-null object\n",
      "weekly_price    3512 non-null object\n",
      "zipcode         12896 non-null object\n",
      "country         13334 non-null object\n",
      "latitude        13335 non-null float64\n",
      "longitude       13335 non-null float64\n",
      "dtypes: float64(2), int64(1), object(7)\n",
      "memory usage: 1.0+ MB\n"
     ]
    }
   ],
   "source": [
    "df.info()"
   ]
  },
  {
   "cell_type": "code",
   "execution_count": 5,
   "metadata": {},
   "outputs": [
    {
     "data": {
      "text/html": [
       "<div>\n",
       "<style>\n",
       "    .dataframe thead tr:only-child th {\n",
       "        text-align: right;\n",
       "    }\n",
       "\n",
       "    .dataframe thead th {\n",
       "        text-align: left;\n",
       "    }\n",
       "\n",
       "    .dataframe tbody tr th {\n",
       "        vertical-align: top;\n",
       "    }\n",
       "</style>\n",
       "<table border=\"1\" class=\"dataframe\">\n",
       "  <thead>\n",
       "    <tr style=\"text-align: right;\">\n",
       "      <th></th>\n",
       "      <th>id</th>\n",
       "      <th>listing_url</th>\n",
       "      <th>name</th>\n",
       "      <th>summary</th>\n",
       "      <th>price</th>\n",
       "      <th>weekly_price</th>\n",
       "      <th>zipcode</th>\n",
       "      <th>country</th>\n",
       "      <th>latitude</th>\n",
       "      <th>longitude</th>\n",
       "    </tr>\n",
       "  </thead>\n",
       "  <tbody>\n",
       "    <tr>\n",
       "      <th>0</th>\n",
       "      <td>7830063</td>\n",
       "      <td>https://www.airbnb.com/rooms/7830063</td>\n",
       "      <td>Quiet room in Plaza Mayor</td>\n",
       "      <td>Room in magnificent property in the historic c...</td>\n",
       "      <td>$42.00</td>\n",
       "      <td>$300.00</td>\n",
       "      <td>28005</td>\n",
       "      <td>Spain</td>\n",
       "      <td>40.412275</td>\n",
       "      <td>-3.708718</td>\n",
       "    </tr>\n",
       "    <tr>\n",
       "      <th>1</th>\n",
       "      <td>9898596</td>\n",
       "      <td>https://www.airbnb.com/rooms/9898596</td>\n",
       "      <td>Homely apartment in the heart of Madrid</td>\n",
       "      <td>Spacious apartment for up to 10 people, with a...</td>\n",
       "      <td>$135.00</td>\n",
       "      <td>NaN</td>\n",
       "      <td>28005</td>\n",
       "      <td>Spain</td>\n",
       "      <td>40.411093</td>\n",
       "      <td>-3.708985</td>\n",
       "    </tr>\n",
       "    <tr>\n",
       "      <th>2</th>\n",
       "      <td>15334645</td>\n",
       "      <td>https://www.airbnb.com/rooms/15334645</td>\n",
       "      <td>Piso Muy Luminoso en pleno centro de Madrid</td>\n",
       "      <td>Lugares de interés: Casa Lucio, Cine Doré, Cal...</td>\n",
       "      <td>$81.00</td>\n",
       "      <td>NaN</td>\n",
       "      <td>28005</td>\n",
       "      <td>Spain</td>\n",
       "      <td>40.413587</td>\n",
       "      <td>-3.708945</td>\n",
       "    </tr>\n",
       "    <tr>\n",
       "      <th>3</th>\n",
       "      <td>1307795</td>\n",
       "      <td>https://www.airbnb.com/rooms/1307795</td>\n",
       "      <td>Rent room in the heart of Madrid</td>\n",
       "      <td>NaN</td>\n",
       "      <td>$43.00</td>\n",
       "      <td>$240.00</td>\n",
       "      <td>28013</td>\n",
       "      <td>Spain</td>\n",
       "      <td>40.419936</td>\n",
       "      <td>-3.709180</td>\n",
       "    </tr>\n",
       "    <tr>\n",
       "      <th>4</th>\n",
       "      <td>17410608</td>\n",
       "      <td>https://www.airbnb.com/rooms/17410608</td>\n",
       "      <td>Luxury duplex penthouse in historic building</td>\n",
       "      <td>Amazing duplex penthouse in a historic buildin...</td>\n",
       "      <td>$50.00</td>\n",
       "      <td>NaN</td>\n",
       "      <td>28005</td>\n",
       "      <td>Spain</td>\n",
       "      <td>40.410894</td>\n",
       "      <td>-3.712537</td>\n",
       "    </tr>\n",
       "  </tbody>\n",
       "</table>\n",
       "</div>"
      ],
      "text/plain": [
       "         id                            listing_url  \\\n",
       "0   7830063   https://www.airbnb.com/rooms/7830063   \n",
       "1   9898596   https://www.airbnb.com/rooms/9898596   \n",
       "2  15334645  https://www.airbnb.com/rooms/15334645   \n",
       "3   1307795   https://www.airbnb.com/rooms/1307795   \n",
       "4  17410608  https://www.airbnb.com/rooms/17410608   \n",
       "\n",
       "                                           name  \\\n",
       "0                     Quiet room in Plaza Mayor   \n",
       "1       Homely apartment in the heart of Madrid   \n",
       "2   Piso Muy Luminoso en pleno centro de Madrid   \n",
       "3              Rent room in the heart of Madrid   \n",
       "4  Luxury duplex penthouse in historic building   \n",
       "\n",
       "                                             summary    price weekly_price  \\\n",
       "0  Room in magnificent property in the historic c...   $42.00      $300.00   \n",
       "1  Spacious apartment for up to 10 people, with a...  $135.00          NaN   \n",
       "2  Lugares de interés: Casa Lucio, Cine Doré, Cal...   $81.00          NaN   \n",
       "3                                                NaN   $43.00      $240.00   \n",
       "4  Amazing duplex penthouse in a historic buildin...   $50.00          NaN   \n",
       "\n",
       "  zipcode country   latitude  longitude  \n",
       "0   28005   Spain  40.412275  -3.708718  \n",
       "1   28005   Spain  40.411093  -3.708985  \n",
       "2   28005   Spain  40.413587  -3.708945  \n",
       "3   28013   Spain  40.419936  -3.709180  \n",
       "4   28005   Spain  40.410894  -3.712537  "
      ]
     },
     "execution_count": 5,
     "metadata": {},
     "output_type": "execute_result"
    }
   ],
   "source": [
    "df.head()"
   ]
  },
  {
   "cell_type": "markdown",
   "metadata": {},
   "source": [
    "### id"
   ]
  },
  {
   "cell_type": "code",
   "execution_count": 6,
   "metadata": {},
   "outputs": [
    {
     "data": {
      "text/plain": [
       "0     7830063\n",
       "1     9898596\n",
       "2    15334645\n",
       "3     1307795\n",
       "4    17410608\n",
       "Name: id, dtype: int64"
      ]
     },
     "execution_count": 6,
     "metadata": {},
     "output_type": "execute_result"
    }
   ],
   "source": [
    "df['id'].head()"
   ]
  },
  {
   "cell_type": "code",
   "execution_count": 7,
   "metadata": {},
   "outputs": [
    {
     "data": {
      "text/plain": [
       "0"
      ]
     },
     "execution_count": 7,
     "metadata": {},
     "output_type": "execute_result"
    }
   ],
   "source": [
    "df['id'].isnull().sum()"
   ]
  },
  {
   "cell_type": "markdown",
   "metadata": {},
   "source": [
    "* contiene un identificador único (entero positivo) por cada usuario.\n",
    "* No puede haber valores nulos\n",
    "* Es sensible porque se puede inferir la url del domicilio a partir de su url."
   ]
  },
  {
   "cell_type": "markdown",
   "metadata": {},
   "source": [
    "### listing_url"
   ]
  },
  {
   "cell_type": "code",
   "execution_count": 8,
   "metadata": {},
   "outputs": [
    {
     "data": {
      "text/plain": [
       "0     https://www.airbnb.com/rooms/7830063\n",
       "1     https://www.airbnb.com/rooms/9898596\n",
       "2    https://www.airbnb.com/rooms/15334645\n",
       "3     https://www.airbnb.com/rooms/1307795\n",
       "4    https://www.airbnb.com/rooms/17410608\n",
       "Name: listing_url, dtype: object"
      ]
     },
     "execution_count": 8,
     "metadata": {},
     "output_type": "execute_result"
    }
   ],
   "source": [
    "df['listing_url'].head()"
   ]
  },
  {
   "cell_type": "code",
   "execution_count": 9,
   "metadata": {},
   "outputs": [
    {
     "data": {
      "text/plain": [
       "0"
      ]
     },
     "execution_count": 9,
     "metadata": {},
     "output_type": "execute_result"
    }
   ],
   "source": [
    "df['listing_url'].isnull().sum()"
   ]
  },
  {
   "cell_type": "markdown",
   "metadata": {},
   "source": [
    "* Url donde está descrito el item a alquilar.\n",
    "* En sensible porque a partir de él se puede conocer todos los datos del item\n",
    "* Se puede generar a partir del id"
   ]
  },
  {
   "cell_type": "markdown",
   "metadata": {},
   "source": [
    "### name"
   ]
  },
  {
   "cell_type": "code",
   "execution_count": 10,
   "metadata": {},
   "outputs": [
    {
     "data": {
      "text/plain": [
       "0                       Quiet room in Plaza Mayor\n",
       "1         Homely apartment in the heart of Madrid\n",
       "2     Piso Muy Luminoso en pleno centro de Madrid\n",
       "3                Rent room in the heart of Madrid\n",
       "4    Luxury duplex penthouse in historic building\n",
       "Name: name, dtype: object"
      ]
     },
     "execution_count": 10,
     "metadata": {},
     "output_type": "execute_result"
    }
   ],
   "source": [
    "df['name'].head()"
   ]
  },
  {
   "cell_type": "markdown",
   "metadata": {},
   "source": [
    "* Cadena de texto donde se describe el activo\n",
    "* Aparece información de la ciudad."
   ]
  },
  {
   "cell_type": "markdown",
   "metadata": {},
   "source": [
    "### summary"
   ]
  },
  {
   "cell_type": "code",
   "execution_count": 11,
   "metadata": {},
   "outputs": [
    {
     "data": {
      "text/plain": [
       "0    Room in magnificent property in the historic c...\n",
       "1    Spacious apartment for up to 10 people, with a...\n",
       "2    Lugares de interés: Casa Lucio, Cine Doré, Cal...\n",
       "3                                                  NaN\n",
       "4    Amazing duplex penthouse in a historic buildin...\n",
       "5    Apartament exceptionally located, next to the ...\n",
       "6    Illuminated, very functional, great location (...\n",
       "7    Un hogar para disfrutar, rodeado de zonas verd...\n",
       "8    Lugares de interés: el apartamento esta situad...\n",
       "9    BONITO APARTAESTUDIO UBICADO EN EL CORAZON DE ...\n",
       "Name: summary, dtype: object"
      ]
     },
     "execution_count": 11,
     "metadata": {},
     "output_type": "execute_result"
    }
   ],
   "source": [
    "df['summary'].head(10)"
   ]
  },
  {
   "cell_type": "markdown",
   "metadata": {},
   "source": [
    "* Cadena de texto donde se describe el activo\n",
    "* Aparece información de la ciudad."
   ]
  },
  {
   "cell_type": "markdown",
   "metadata": {},
   "source": [
    "### price"
   ]
  },
  {
   "cell_type": "code",
   "execution_count": 12,
   "metadata": {},
   "outputs": [
    {
     "data": {
      "text/plain": [
       "0     $42.00\n",
       "1    $135.00\n",
       "2     $81.00\n",
       "3     $43.00\n",
       "4     $50.00\n",
       "Name: price, dtype: object"
      ]
     },
     "execution_count": 12,
     "metadata": {},
     "output_type": "execute_result"
    }
   ],
   "source": [
    "df['price'].head()"
   ]
  },
  {
   "cell_type": "code",
   "execution_count": 9,
   "metadata": {},
   "outputs": [
    {
     "data": {
      "text/plain": [
       "'$99.00'"
      ]
     },
     "execution_count": 9,
     "metadata": {},
     "output_type": "execute_result"
    }
   ],
   "source": [
    "df['price'].max()"
   ]
  },
  {
   "cell_type": "code",
   "execution_count": 13,
   "metadata": {},
   "outputs": [
    {
     "data": {
      "text/plain": [
       "0"
      ]
     },
     "execution_count": 13,
     "metadata": {},
     "output_type": "execute_result"
    }
   ],
   "source": [
    "df['price'].isnull().sum()"
   ]
  },
  {
   "cell_type": "markdown",
   "metadata": {},
   "source": [
    "* Cadena de texto donde se describe el precio de la habitación en dólares.\n",
    "* Aparece información de la ciudad.\n"
   ]
  },
  {
   "cell_type": "code",
   "execution_count": 14,
   "metadata": {
    "collapsed": true
   },
   "outputs": [],
   "source": [
    "# Convertimos la cantidad a un numero\n",
    "df['price'] = df['price'].str.replace('$','')\n",
    "df['price'] = df['price'].str.replace(',','')\n",
    "\n",
    "df['price'] = pd.to_numeric(df['price'])"
   ]
  },
  {
   "cell_type": "code",
   "execution_count": 15,
   "metadata": {},
   "outputs": [
    {
     "data": {
      "text/plain": [
       "0     42.0\n",
       "1    135.0\n",
       "2     81.0\n",
       "3     43.0\n",
       "4     50.0\n",
       "Name: price, dtype: float64"
      ]
     },
     "execution_count": 15,
     "metadata": {},
     "output_type": "execute_result"
    }
   ],
   "source": [
    "df['price'].head(5)"
   ]
  },
  {
   "cell_type": "markdown",
   "metadata": {},
   "source": [
    "### weekly_price"
   ]
  },
  {
   "cell_type": "code",
   "execution_count": 16,
   "metadata": {},
   "outputs": [
    {
     "data": {
      "text/plain": [
       "0    $300.00\n",
       "1        NaN\n",
       "2        NaN\n",
       "3    $240.00\n",
       "4        NaN\n",
       "Name: weekly_price, dtype: object"
      ]
     },
     "execution_count": 16,
     "metadata": {},
     "output_type": "execute_result"
    }
   ],
   "source": [
    "df['weekly_price'].head()"
   ]
  },
  {
   "cell_type": "code",
   "execution_count": 17,
   "metadata": {},
   "outputs": [
    {
     "data": {
      "text/plain": [
       "0.73663292088488941"
      ]
     },
     "execution_count": 17,
     "metadata": {},
     "output_type": "execute_result"
    }
   ],
   "source": [
    "df['weekly_price'].isnull().sum() / len(df['weekly_price'])"
   ]
  },
  {
   "cell_type": "code",
   "execution_count": 18,
   "metadata": {
    "collapsed": true
   },
   "outputs": [],
   "source": [
    "# Convertimos la cantidad a un numero\n",
    "df['weekly_price'] = df['weekly_price'].str.replace('$','')\n",
    "df['weekly_price'] = df['weekly_price'].str.replace(',','')\n",
    "\n",
    "df['weekly_price'] = pd.to_numeric(df['weekly_price'])"
   ]
  },
  {
   "cell_type": "code",
   "execution_count": 19,
   "metadata": {},
   "outputs": [
    {
     "data": {
      "text/plain": [
       "count    3512.000000\n",
       "mean        6.613983\n",
       "std         2.128982\n",
       "min         0.303333\n",
       "25%         5.714286\n",
       "50%         6.318182\n",
       "75%         7.000000\n",
       "max        58.333333\n",
       "dtype: float64"
      ]
     },
     "execution_count": 19,
     "metadata": {},
     "output_type": "execute_result"
    }
   ],
   "source": [
    "(df['weekly_price'] / df['price']).describe()"
   ]
  },
  {
   "cell_type": "markdown",
   "metadata": {},
   "source": [
    "* Cadena de texto donde se describe el precio de la habitación para una semana en dólares.\n",
    "* Tiene valores nulos, el 73% de las muestras\n",
    "* De los valores no nulos está es entre 5.7x y 7x el valor del precio diario."
   ]
  },
  {
   "cell_type": "markdown",
   "metadata": {},
   "source": [
    "### zipcode"
   ]
  },
  {
   "cell_type": "code",
   "execution_count": 20,
   "metadata": {},
   "outputs": [
    {
     "data": {
      "text/plain": [
       "28012           2065\n",
       "28004           1803\n",
       "28005           1195\n",
       "28013           1019\n",
       "28014            633\n",
       "28015            601\n",
       "28045            500\n",
       "28010            384\n",
       "28008            338\n",
       "28028            264\n",
       "28011            252\n",
       "28001            231\n",
       "28006            219\n",
       "28009            217\n",
       "28007            206\n",
       "28019            202\n",
       "28020            196\n",
       "28003            186\n",
       "28002            172\n",
       "28039            162\n",
       "28027            124\n",
       "28025            124\n",
       "28029            112\n",
       "28017            111\n",
       "28043            105\n",
       "28026             93\n",
       "28042             91\n",
       "28033             90\n",
       "28053             87\n",
       "28038             79\n",
       "                ... \n",
       "28                 1\n",
       "-                  1\n",
       "28730              1\n",
       "28058              1\n",
       "2805               1\n",
       "28052              1\n",
       "2804               1\n",
       "20013              1\n",
       "28056              1\n",
       "28060              1\n",
       "27004              1\n",
       "84084              1\n",
       "28105              1\n",
       "28290              1\n",
       "25008              1\n",
       "28048              1\n",
       "20126              1\n",
       "28660              1\n",
       "28850              1\n",
       "03430              1\n",
       "08015              1\n",
       "                   1\n",
       "28002\\n28002       1\n",
       "10100              1\n",
       "2015               1\n",
       "2815               1\n",
       "27013              1\n",
       "2802\\n28012        1\n",
       "280013             1\n",
       "Madrid 28004       1\n",
       "Name: zipcode, Length: 91, dtype: int64"
      ]
     },
     "execution_count": 20,
     "metadata": {},
     "output_type": "execute_result"
    }
   ],
   "source": [
    "df['zipcode'].value_counts()"
   ]
  },
  {
   "cell_type": "code",
   "execution_count": 21,
   "metadata": {},
   "outputs": [
    {
     "data": {
      "text/plain": [
       "439"
      ]
     },
     "execution_count": 21,
     "metadata": {},
     "output_type": "execute_result"
    }
   ],
   "source": [
    "df['zipcode'].isnull().sum()"
   ]
  },
  {
   "cell_type": "markdown",
   "metadata": {},
   "source": [
    "* Código postal de la ciudad donde está el municipio\n",
    "* Hay algunos valores nulos\n",
    "* Hay valores erróneos y algunos no corresponden a Madrid"
   ]
  },
  {
   "cell_type": "markdown",
   "metadata": {},
   "source": [
    "### Country"
   ]
  },
  {
   "cell_type": "code",
   "execution_count": 22,
   "metadata": {},
   "outputs": [
    {
     "data": {
      "text/plain": [
       "Spain    13333\n",
       "Cuba         1\n",
       "Name: country, dtype: int64"
      ]
     },
     "execution_count": 22,
     "metadata": {},
     "output_type": "execute_result"
    }
   ],
   "source": [
    "df['country'].value_counts()"
   ]
  },
  {
   "cell_type": "markdown",
   "metadata": {},
   "source": [
    "* Pais donde está el alojamiento\n",
    "* Hay un outlier (Cuba)"
   ]
  },
  {
   "cell_type": "markdown",
   "metadata": {},
   "source": [
    "### latitude y longitude"
   ]
  },
  {
   "cell_type": "code",
   "execution_count": 23,
   "metadata": {},
   "outputs": [
    {
     "data": {
      "text/html": [
       "<div>\n",
       "<style>\n",
       "    .dataframe thead tr:only-child th {\n",
       "        text-align: right;\n",
       "    }\n",
       "\n",
       "    .dataframe thead th {\n",
       "        text-align: left;\n",
       "    }\n",
       "\n",
       "    .dataframe tbody tr th {\n",
       "        vertical-align: top;\n",
       "    }\n",
       "</style>\n",
       "<table border=\"1\" class=\"dataframe\">\n",
       "  <thead>\n",
       "    <tr style=\"text-align: right;\">\n",
       "      <th></th>\n",
       "      <th>latitude</th>\n",
       "      <th>longitude</th>\n",
       "    </tr>\n",
       "  </thead>\n",
       "  <tbody>\n",
       "    <tr>\n",
       "      <th>count</th>\n",
       "      <td>13335.000000</td>\n",
       "      <td>13335.000000</td>\n",
       "    </tr>\n",
       "    <tr>\n",
       "      <th>mean</th>\n",
       "      <td>40.420731</td>\n",
       "      <td>-3.697255</td>\n",
       "    </tr>\n",
       "    <tr>\n",
       "      <th>std</th>\n",
       "      <td>0.020343</td>\n",
       "      <td>0.023837</td>\n",
       "    </tr>\n",
       "    <tr>\n",
       "      <th>min</th>\n",
       "      <td>40.331888</td>\n",
       "      <td>-3.863907</td>\n",
       "    </tr>\n",
       "    <tr>\n",
       "      <th>25%</th>\n",
       "      <td>40.410090</td>\n",
       "      <td>-3.707852</td>\n",
       "    </tr>\n",
       "    <tr>\n",
       "      <th>50%</th>\n",
       "      <td>40.418725</td>\n",
       "      <td>-3.701596</td>\n",
       "    </tr>\n",
       "    <tr>\n",
       "      <th>75%</th>\n",
       "      <td>40.427997</td>\n",
       "      <td>-3.693810</td>\n",
       "    </tr>\n",
       "    <tr>\n",
       "      <th>max</th>\n",
       "      <td>40.562736</td>\n",
       "      <td>-3.526821</td>\n",
       "    </tr>\n",
       "  </tbody>\n",
       "</table>\n",
       "</div>"
      ],
      "text/plain": [
       "           latitude     longitude\n",
       "count  13335.000000  13335.000000\n",
       "mean      40.420731     -3.697255\n",
       "std        0.020343      0.023837\n",
       "min       40.331888     -3.863907\n",
       "25%       40.410090     -3.707852\n",
       "50%       40.418725     -3.701596\n",
       "75%       40.427997     -3.693810\n",
       "max       40.562736     -3.526821"
      ]
     },
     "execution_count": 23,
     "metadata": {},
     "output_type": "execute_result"
    }
   ],
   "source": [
    "df[['latitude', 'longitude']].describe()"
   ]
  },
  {
   "cell_type": "code",
   "execution_count": 24,
   "metadata": {},
   "outputs": [
    {
     "data": {
      "text/plain": [
       "latitude     0\n",
       "longitude    0\n",
       "dtype: int64"
      ]
     },
     "execution_count": 24,
     "metadata": {},
     "output_type": "execute_result"
    }
   ],
   "source": [
    "df[['latitude', 'longitude']].isnull().sum()"
   ]
  },
  {
   "cell_type": "markdown",
   "metadata": {},
   "source": [
    "* Coordenadas GPS donde está el alojamiento\n",
    "* No hay valores nulos\n",
    "* La longitud está entre 40.41 +- 0.0203\n",
    "* La latitud está entre -3.70 +- 0.0238"
   ]
  },
  {
   "cell_type": "markdown",
   "metadata": {},
   "source": [
    "## Dependencias entre variables\n",
    "A continuación os propongo hacer una matriz de dependencias para analizar que variables dependen entre sí y analizar que grupos de variables existen.\n",
    "\n",
    "| Depende de   | id | listing_url | name | summary | price | weekly_price | zipcode | country | lat y long |\n",
    "|---           |--- |---          |---   |---      |---    |---           |---      |---      |---         | \n",
    "| id           |  X |      X      |      |         |       |              |         |         |            | \n",
    "| listing_url  |  X |      X      |      |         |       |              |         |         |            | \n",
    "| name         |    |             |  X   |         |       |              |         |         |            | \n",
    "| summary      |    |             |      |    X    |       |              |         |         |            | \n",
    "| price        |    |             |      |         |   X   |        X     |         |         |            | \n",
    "| weekly_price |    |             |      |         |   X   |        X     |         |         |            | \n",
    "| zipcode      |    |             |      |         |       |              | X       | X       | X          | \n",
    "| country      |    |             |      |         |       |              | X       | X       | X          | \n",
    "| lat y long   |    |             |      |         |       |              | X       | X       | X          | \n",
    "\n"
   ]
  },
  {
   "cell_type": "markdown",
   "metadata": {},
   "source": [
    "## Estrategia de anonimización\n",
    "\n",
    "A partir de aquí por cada grupo de variables determinaremos cual es la estrategia de anonimización y la aplicaremos."
   ]
  },
  {
   "cell_type": "markdown",
   "metadata": {},
   "source": [
    "### id y listing_url\n",
    "\n",
    "Para el id generaremos un id aleatorio, dentro del rango de datos que manejamos, y la url supone concatenar un prefijo a ese id."
   ]
  },
  {
   "cell_type": "code",
   "execution_count": 25,
   "metadata": {},
   "outputs": [
    {
     "data": {
      "text/html": [
       "<div>\n",
       "<style>\n",
       "    .dataframe thead tr:only-child th {\n",
       "        text-align: right;\n",
       "    }\n",
       "\n",
       "    .dataframe thead th {\n",
       "        text-align: left;\n",
       "    }\n",
       "\n",
       "    .dataframe tbody tr th {\n",
       "        vertical-align: top;\n",
       "    }\n",
       "</style>\n",
       "<table border=\"1\" class=\"dataframe\">\n",
       "  <thead>\n",
       "    <tr style=\"text-align: right;\">\n",
       "      <th></th>\n",
       "      <th>id</th>\n",
       "      <th>listing_url</th>\n",
       "    </tr>\n",
       "  </thead>\n",
       "  <tbody>\n",
       "    <tr>\n",
       "      <th>0</th>\n",
       "      <td>7830063</td>\n",
       "      <td>https://www.airbnb.com/rooms/7830063</td>\n",
       "    </tr>\n",
       "    <tr>\n",
       "      <th>1</th>\n",
       "      <td>9898596</td>\n",
       "      <td>https://www.airbnb.com/rooms/9898596</td>\n",
       "    </tr>\n",
       "    <tr>\n",
       "      <th>2</th>\n",
       "      <td>15334645</td>\n",
       "      <td>https://www.airbnb.com/rooms/15334645</td>\n",
       "    </tr>\n",
       "    <tr>\n",
       "      <th>3</th>\n",
       "      <td>1307795</td>\n",
       "      <td>https://www.airbnb.com/rooms/1307795</td>\n",
       "    </tr>\n",
       "    <tr>\n",
       "      <th>4</th>\n",
       "      <td>17410608</td>\n",
       "      <td>https://www.airbnb.com/rooms/17410608</td>\n",
       "    </tr>\n",
       "  </tbody>\n",
       "</table>\n",
       "</div>"
      ],
      "text/plain": [
       "         id                            listing_url\n",
       "0   7830063   https://www.airbnb.com/rooms/7830063\n",
       "1   9898596   https://www.airbnb.com/rooms/9898596\n",
       "2  15334645  https://www.airbnb.com/rooms/15334645\n",
       "3   1307795   https://www.airbnb.com/rooms/1307795\n",
       "4  17410608  https://www.airbnb.com/rooms/17410608"
      ]
     },
     "execution_count": 25,
     "metadata": {},
     "output_type": "execute_result"
    }
   ],
   "source": [
    "df[['id', 'listing_url']].head()"
   ]
  },
  {
   "cell_type": "code",
   "execution_count": 26,
   "metadata": {
    "collapsed": true
   },
   "outputs": [],
   "source": [
    "def anonimiza_id(row):\n",
    "    id_aleatorio = fake.random_int(min=1000000, max=99999999)\n",
    "    row['id'] = id_aleatorio\n",
    "    row['listing_url'] = \"https://www.airbnb.com/rooms/\" + str(id_aleatorio)\n",
    "    return row\n",
    "    \n",
    "df = df.apply(anonimiza_id, axis=1)"
   ]
  },
  {
   "cell_type": "code",
   "execution_count": 27,
   "metadata": {},
   "outputs": [
    {
     "data": {
      "text/html": [
       "<div>\n",
       "<style>\n",
       "    .dataframe thead tr:only-child th {\n",
       "        text-align: right;\n",
       "    }\n",
       "\n",
       "    .dataframe thead th {\n",
       "        text-align: left;\n",
       "    }\n",
       "\n",
       "    .dataframe tbody tr th {\n",
       "        vertical-align: top;\n",
       "    }\n",
       "</style>\n",
       "<table border=\"1\" class=\"dataframe\">\n",
       "  <thead>\n",
       "    <tr style=\"text-align: right;\">\n",
       "      <th></th>\n",
       "      <th>id</th>\n",
       "      <th>listing_url</th>\n",
       "    </tr>\n",
       "  </thead>\n",
       "  <tbody>\n",
       "    <tr>\n",
       "      <th>0</th>\n",
       "      <td>67922077</td>\n",
       "      <td>https://www.airbnb.com/rooms/67922077</td>\n",
       "    </tr>\n",
       "    <tr>\n",
       "      <th>1</th>\n",
       "      <td>60891667</td>\n",
       "      <td>https://www.airbnb.com/rooms/60891667</td>\n",
       "    </tr>\n",
       "    <tr>\n",
       "      <th>2</th>\n",
       "      <td>45308864</td>\n",
       "      <td>https://www.airbnb.com/rooms/45308864</td>\n",
       "    </tr>\n",
       "    <tr>\n",
       "      <th>3</th>\n",
       "      <td>96393370</td>\n",
       "      <td>https://www.airbnb.com/rooms/96393370</td>\n",
       "    </tr>\n",
       "    <tr>\n",
       "      <th>4</th>\n",
       "      <td>98409096</td>\n",
       "      <td>https://www.airbnb.com/rooms/98409096</td>\n",
       "    </tr>\n",
       "  </tbody>\n",
       "</table>\n",
       "</div>"
      ],
      "text/plain": [
       "         id                            listing_url\n",
       "0  67922077  https://www.airbnb.com/rooms/67922077\n",
       "1  60891667  https://www.airbnb.com/rooms/60891667\n",
       "2  45308864  https://www.airbnb.com/rooms/45308864\n",
       "3  96393370  https://www.airbnb.com/rooms/96393370\n",
       "4  98409096  https://www.airbnb.com/rooms/98409096"
      ]
     },
     "execution_count": 27,
     "metadata": {},
     "output_type": "execute_result"
    }
   ],
   "source": [
    "df[['id', 'listing_url']].head()"
   ]
  },
  {
   "cell_type": "markdown",
   "metadata": {
    "collapsed": true
   },
   "source": [
    "### name y summary\n",
    "\n",
    "Como estos campos son cadenas de texto, buscaremos palabras clave, por ej: Madrid y la sustituiremos por valladolid. Además reodenaremos los campos para anonimizar más los datos:"
   ]
  },
  {
   "cell_type": "code",
   "execution_count": 28,
   "metadata": {},
   "outputs": [
    {
     "data": {
      "text/html": [
       "<div>\n",
       "<style>\n",
       "    .dataframe thead tr:only-child th {\n",
       "        text-align: right;\n",
       "    }\n",
       "\n",
       "    .dataframe thead th {\n",
       "        text-align: left;\n",
       "    }\n",
       "\n",
       "    .dataframe tbody tr th {\n",
       "        vertical-align: top;\n",
       "    }\n",
       "</style>\n",
       "<table border=\"1\" class=\"dataframe\">\n",
       "  <thead>\n",
       "    <tr style=\"text-align: right;\">\n",
       "      <th></th>\n",
       "      <th>name</th>\n",
       "      <th>summary</th>\n",
       "    </tr>\n",
       "  </thead>\n",
       "  <tbody>\n",
       "    <tr>\n",
       "      <th>0</th>\n",
       "      <td>Quiet room in Plaza Mayor</td>\n",
       "      <td>Room in magnificent property in the historic c...</td>\n",
       "    </tr>\n",
       "    <tr>\n",
       "      <th>1</th>\n",
       "      <td>Homely apartment in the heart of Madrid</td>\n",
       "      <td>Spacious apartment for up to 10 people, with a...</td>\n",
       "    </tr>\n",
       "    <tr>\n",
       "      <th>2</th>\n",
       "      <td>Piso Muy Luminoso en pleno centro de Madrid</td>\n",
       "      <td>Lugares de interés: Casa Lucio, Cine Doré, Cal...</td>\n",
       "    </tr>\n",
       "    <tr>\n",
       "      <th>3</th>\n",
       "      <td>Rent room in the heart of Madrid</td>\n",
       "      <td>NaN</td>\n",
       "    </tr>\n",
       "    <tr>\n",
       "      <th>4</th>\n",
       "      <td>Luxury duplex penthouse in historic building</td>\n",
       "      <td>Amazing duplex penthouse in a historic buildin...</td>\n",
       "    </tr>\n",
       "  </tbody>\n",
       "</table>\n",
       "</div>"
      ],
      "text/plain": [
       "                                           name  \\\n",
       "0                     Quiet room in Plaza Mayor   \n",
       "1       Homely apartment in the heart of Madrid   \n",
       "2   Piso Muy Luminoso en pleno centro de Madrid   \n",
       "3              Rent room in the heart of Madrid   \n",
       "4  Luxury duplex penthouse in historic building   \n",
       "\n",
       "                                             summary  \n",
       "0  Room in magnificent property in the historic c...  \n",
       "1  Spacious apartment for up to 10 people, with a...  \n",
       "2  Lugares de interés: Casa Lucio, Cine Doré, Cal...  \n",
       "3                                                NaN  \n",
       "4  Amazing duplex penthouse in a historic buildin...  "
      ]
     },
     "execution_count": 28,
     "metadata": {},
     "output_type": "execute_result"
    }
   ],
   "source": [
    "df[['name', 'summary']].head()"
   ]
  },
  {
   "cell_type": "markdown",
   "metadata": {},
   "source": [
    "Reemplazamos las palabras clave:"
   ]
  },
  {
   "cell_type": "code",
   "execution_count": 29,
   "metadata": {
    "collapsed": true
   },
   "outputs": [],
   "source": [
    "def anonimiza_texto(row):\n",
    "    row['name'] = row['name'].lower().replace('madrid', 'valladolid')\n",
    "    if type(row['summary']) != float:\n",
    "        row['summary'] = row['summary'].lower().replace('madrid', 'valladolid')\n",
    "    return row\n",
    "    \n",
    "df = df.apply(anonimiza_texto, axis=1)"
   ]
  },
  {
   "cell_type": "code",
   "execution_count": 30,
   "metadata": {},
   "outputs": [
    {
     "data": {
      "text/html": [
       "<div>\n",
       "<style>\n",
       "    .dataframe thead tr:only-child th {\n",
       "        text-align: right;\n",
       "    }\n",
       "\n",
       "    .dataframe thead th {\n",
       "        text-align: left;\n",
       "    }\n",
       "\n",
       "    .dataframe tbody tr th {\n",
       "        vertical-align: top;\n",
       "    }\n",
       "</style>\n",
       "<table border=\"1\" class=\"dataframe\">\n",
       "  <thead>\n",
       "    <tr style=\"text-align: right;\">\n",
       "      <th></th>\n",
       "      <th>name</th>\n",
       "      <th>summary</th>\n",
       "    </tr>\n",
       "  </thead>\n",
       "  <tbody>\n",
       "    <tr>\n",
       "      <th>0</th>\n",
       "      <td>quiet room in plaza mayor</td>\n",
       "      <td>room in magnificent property in the historic c...</td>\n",
       "    </tr>\n",
       "    <tr>\n",
       "      <th>1</th>\n",
       "      <td>homely apartment in the heart of valladolid</td>\n",
       "      <td>spacious apartment for up to 10 people, with a...</td>\n",
       "    </tr>\n",
       "    <tr>\n",
       "      <th>2</th>\n",
       "      <td>piso muy luminoso en pleno centro de valladolid</td>\n",
       "      <td>lugares de interés: casa lucio, cine doré, cal...</td>\n",
       "    </tr>\n",
       "    <tr>\n",
       "      <th>3</th>\n",
       "      <td>rent room in the heart of valladolid</td>\n",
       "      <td>NaN</td>\n",
       "    </tr>\n",
       "    <tr>\n",
       "      <th>4</th>\n",
       "      <td>luxury duplex penthouse in historic building</td>\n",
       "      <td>amazing duplex penthouse in a historic buildin...</td>\n",
       "    </tr>\n",
       "  </tbody>\n",
       "</table>\n",
       "</div>"
      ],
      "text/plain": [
       "                                              name  \\\n",
       "0                        quiet room in plaza mayor   \n",
       "1      homely apartment in the heart of valladolid   \n",
       "2  piso muy luminoso en pleno centro de valladolid   \n",
       "3             rent room in the heart of valladolid   \n",
       "4     luxury duplex penthouse in historic building   \n",
       "\n",
       "                                             summary  \n",
       "0  room in magnificent property in the historic c...  \n",
       "1  spacious apartment for up to 10 people, with a...  \n",
       "2  lugares de interés: casa lucio, cine doré, cal...  \n",
       "3                                                NaN  \n",
       "4  amazing duplex penthouse in a historic buildin...  "
      ]
     },
     "execution_count": 30,
     "metadata": {},
     "output_type": "execute_result"
    }
   ],
   "source": [
    "df[['name', 'summary']].head()"
   ]
  },
  {
   "cell_type": "markdown",
   "metadata": {},
   "source": [
    "Reordenamos mediante el método 'np.random.shuffle'. Es importante destacar que este método, realiza modificaciones `in place` sobre los datos. Por lo que tendremos que convertir a lista nuestros datos de forma intermedia."
   ]
  },
  {
   "cell_type": "code",
   "execution_count": 31,
   "metadata": {
    "collapsed": true
   },
   "outputs": [],
   "source": [
    "def baraja_columna(df, nombre_columna):\n",
    "    temp = list(df[nombre_columna])\n",
    "    np.random.shuffle(temp)\n",
    "    df[nombre_columna] = temp\n",
    "    return df"
   ]
  },
  {
   "cell_type": "code",
   "execution_count": 32,
   "metadata": {
    "collapsed": true
   },
   "outputs": [],
   "source": [
    "df = baraja_columna(df, 'name')"
   ]
  },
  {
   "cell_type": "code",
   "execution_count": 33,
   "metadata": {
    "collapsed": true
   },
   "outputs": [],
   "source": [
    "df = baraja_columna(df, 'summary')"
   ]
  },
  {
   "cell_type": "code",
   "execution_count": 34,
   "metadata": {},
   "outputs": [
    {
     "data": {
      "text/html": [
       "<div>\n",
       "<style>\n",
       "    .dataframe thead tr:only-child th {\n",
       "        text-align: right;\n",
       "    }\n",
       "\n",
       "    .dataframe thead th {\n",
       "        text-align: left;\n",
       "    }\n",
       "\n",
       "    .dataframe tbody tr th {\n",
       "        vertical-align: top;\n",
       "    }\n",
       "</style>\n",
       "<table border=\"1\" class=\"dataframe\">\n",
       "  <thead>\n",
       "    <tr style=\"text-align: right;\">\n",
       "      <th></th>\n",
       "      <th>name</th>\n",
       "      <th>summary</th>\n",
       "    </tr>\n",
       "  </thead>\n",
       "  <tbody>\n",
       "    <tr>\n",
       "      <th>0</th>\n",
       "      <td>bright and spacious flat in the heart of valla...</td>\n",
       "      <td>lugares de interés: plaza mayor, plaza del sol...</td>\n",
       "    </tr>\n",
       "    <tr>\n",
       "      <th>1</th>\n",
       "      <td>double room close to gran via!</td>\n",
       "      <td>downtown at 500m puerta del sol, royal palace ...</td>\n",
       "    </tr>\n",
       "    <tr>\n",
       "      <th>2</th>\n",
       "      <td>spacious room/</td>\n",
       "      <td>renovated apartment with pleasure in december ...</td>\n",
       "    </tr>\n",
       "    <tr>\n",
       "      <th>3</th>\n",
       "      <td>nomad la latina i,valladolid,friendly rentals</td>\n",
       "      <td>habitación de 20m2 en piso de 150m2 en el barr...</td>\n",
       "    </tr>\n",
       "    <tr>\n",
       "      <th>4</th>\n",
       "      <td>habitación  con baño privado, ideal</td>\n",
       "      <td>te va a encantar mi alojamiento por la ubicaci...</td>\n",
       "    </tr>\n",
       "  </tbody>\n",
       "</table>\n",
       "</div>"
      ],
      "text/plain": [
       "                                                name  \\\n",
       "0  bright and spacious flat in the heart of valla...   \n",
       "1                     double room close to gran via!   \n",
       "2                                     spacious room/   \n",
       "3      nomad la latina i,valladolid,friendly rentals   \n",
       "4                habitación  con baño privado, ideal   \n",
       "\n",
       "                                             summary  \n",
       "0  lugares de interés: plaza mayor, plaza del sol...  \n",
       "1  downtown at 500m puerta del sol, royal palace ...  \n",
       "2  renovated apartment with pleasure in december ...  \n",
       "3  habitación de 20m2 en piso de 150m2 en el barr...  \n",
       "4  te va a encantar mi alojamiento por la ubicaci...  "
      ]
     },
     "execution_count": 34,
     "metadata": {},
     "output_type": "execute_result"
    }
   ],
   "source": [
    "df[['name', 'summary']].head()"
   ]
  },
  {
   "cell_type": "markdown",
   "metadata": {},
   "source": [
    "### price y weekly_price\n",
    "\n",
    "Aplicaremos una política parecida al grupo anterior. En este caso reodenaremos los elementos de la columna `price` y generaremos `weekly_price` ficticios multiplicando este valor por 6."
   ]
  },
  {
   "cell_type": "code",
   "execution_count": 35,
   "metadata": {},
   "outputs": [
    {
     "data": {
      "text/html": [
       "<div>\n",
       "<style>\n",
       "    .dataframe thead tr:only-child th {\n",
       "        text-align: right;\n",
       "    }\n",
       "\n",
       "    .dataframe thead th {\n",
       "        text-align: left;\n",
       "    }\n",
       "\n",
       "    .dataframe tbody tr th {\n",
       "        vertical-align: top;\n",
       "    }\n",
       "</style>\n",
       "<table border=\"1\" class=\"dataframe\">\n",
       "  <thead>\n",
       "    <tr style=\"text-align: right;\">\n",
       "      <th></th>\n",
       "      <th>price</th>\n",
       "      <th>weekly_price</th>\n",
       "    </tr>\n",
       "  </thead>\n",
       "  <tbody>\n",
       "    <tr>\n",
       "      <th>0</th>\n",
       "      <td>42.0</td>\n",
       "      <td>300.0</td>\n",
       "    </tr>\n",
       "    <tr>\n",
       "      <th>1</th>\n",
       "      <td>135.0</td>\n",
       "      <td>NaN</td>\n",
       "    </tr>\n",
       "    <tr>\n",
       "      <th>2</th>\n",
       "      <td>81.0</td>\n",
       "      <td>NaN</td>\n",
       "    </tr>\n",
       "    <tr>\n",
       "      <th>3</th>\n",
       "      <td>43.0</td>\n",
       "      <td>240.0</td>\n",
       "    </tr>\n",
       "    <tr>\n",
       "      <th>4</th>\n",
       "      <td>50.0</td>\n",
       "      <td>NaN</td>\n",
       "    </tr>\n",
       "  </tbody>\n",
       "</table>\n",
       "</div>"
      ],
      "text/plain": [
       "   price  weekly_price\n",
       "0   42.0         300.0\n",
       "1  135.0           NaN\n",
       "2   81.0           NaN\n",
       "3   43.0         240.0\n",
       "4   50.0           NaN"
      ]
     },
     "execution_count": 35,
     "metadata": {},
     "output_type": "execute_result"
    }
   ],
   "source": [
    "df[['price', 'weekly_price']].head()"
   ]
  },
  {
   "cell_type": "code",
   "execution_count": 36,
   "metadata": {
    "collapsed": true
   },
   "outputs": [],
   "source": [
    "df = baraja_columna(df, 'price')"
   ]
  },
  {
   "cell_type": "code",
   "execution_count": 37,
   "metadata": {
    "collapsed": true
   },
   "outputs": [],
   "source": [
    "df['weekly_price'] = 6.0 * df['price']"
   ]
  },
  {
   "cell_type": "code",
   "execution_count": 38,
   "metadata": {},
   "outputs": [
    {
     "data": {
      "text/html": [
       "<div>\n",
       "<style>\n",
       "    .dataframe thead tr:only-child th {\n",
       "        text-align: right;\n",
       "    }\n",
       "\n",
       "    .dataframe thead th {\n",
       "        text-align: left;\n",
       "    }\n",
       "\n",
       "    .dataframe tbody tr th {\n",
       "        vertical-align: top;\n",
       "    }\n",
       "</style>\n",
       "<table border=\"1\" class=\"dataframe\">\n",
       "  <thead>\n",
       "    <tr style=\"text-align: right;\">\n",
       "      <th></th>\n",
       "      <th>price</th>\n",
       "      <th>weekly_price</th>\n",
       "    </tr>\n",
       "  </thead>\n",
       "  <tbody>\n",
       "    <tr>\n",
       "      <th>0</th>\n",
       "      <td>69.0</td>\n",
       "      <td>414.0</td>\n",
       "    </tr>\n",
       "    <tr>\n",
       "      <th>1</th>\n",
       "      <td>75.0</td>\n",
       "      <td>450.0</td>\n",
       "    </tr>\n",
       "    <tr>\n",
       "      <th>2</th>\n",
       "      <td>48.0</td>\n",
       "      <td>288.0</td>\n",
       "    </tr>\n",
       "    <tr>\n",
       "      <th>3</th>\n",
       "      <td>76.0</td>\n",
       "      <td>456.0</td>\n",
       "    </tr>\n",
       "    <tr>\n",
       "      <th>4</th>\n",
       "      <td>45.0</td>\n",
       "      <td>270.0</td>\n",
       "    </tr>\n",
       "  </tbody>\n",
       "</table>\n",
       "</div>"
      ],
      "text/plain": [
       "   price  weekly_price\n",
       "0   69.0         414.0\n",
       "1   75.0         450.0\n",
       "2   48.0         288.0\n",
       "3   76.0         456.0\n",
       "4   45.0         270.0"
      ]
     },
     "execution_count": 38,
     "metadata": {},
     "output_type": "execute_result"
    }
   ],
   "source": [
    "df[['price', 'weekly_price']].head()"
   ]
  },
  {
   "cell_type": "markdown",
   "metadata": {},
   "source": [
    "### zipcode\n",
    "\n",
    "Para el código postal, generaremos códigos postales de Valladolid. Para ello utilizaremos faker. Podríamos estar tentados de usar la función `fake.postcode()` no obstante, esa función devuelve códigos postales aleatorios en toda España."
   ]
  },
  {
   "cell_type": "code",
   "execution_count": 39,
   "metadata": {},
   "outputs": [
    {
     "data": {
      "text/plain": [
       "'10972'"
      ]
     },
     "execution_count": 39,
     "metadata": {},
     "output_type": "execute_result"
    }
   ],
   "source": [
    "fake.postcode()  "
   ]
  },
  {
   "cell_type": "markdown",
   "metadata": {},
   "source": [
    "Como queremos restringir nuestro espectro a Valladolid utilizaremos la función `random_int` de faker indicándola un rango aceptable de códigos postales de Valladolid."
   ]
  },
  {
   "cell_type": "code",
   "execution_count": 40,
   "metadata": {
    "collapsed": true
   },
   "outputs": [],
   "source": [
    "def anonimiza_zipcode(row):\n",
    "    row['zipcode'] = fake.random_int(min=47001, max=47050)\n",
    "    return row\n",
    "    \n",
    "df = df.apply(anonimiza_zipcode, axis=1)"
   ]
  },
  {
   "cell_type": "code",
   "execution_count": 41,
   "metadata": {},
   "outputs": [
    {
     "data": {
      "text/plain": [
       "0    47021\n",
       "1    47001\n",
       "2    47017\n",
       "3    47034\n",
       "4    47002\n",
       "Name: zipcode, dtype: int64"
      ]
     },
     "execution_count": 41,
     "metadata": {},
     "output_type": "execute_result"
    }
   ],
   "source": [
    "df['zipcode'].head()"
   ]
  },
  {
   "cell_type": "markdown",
   "metadata": {},
   "source": [
    "### Country\n",
    "\n",
    "En este caso, este campo tiene un valor adecuado, así que no tenemos que hacer nada con él."
   ]
  },
  {
   "cell_type": "code",
   "execution_count": 42,
   "metadata": {},
   "outputs": [
    {
     "data": {
      "text/plain": [
       "0    Spain\n",
       "1    Spain\n",
       "2    Spain\n",
       "3    Spain\n",
       "4    Spain\n",
       "Name: country, dtype: object"
      ]
     },
     "execution_count": 42,
     "metadata": {},
     "output_type": "execute_result"
    }
   ],
   "source": [
    "df['country'].head()"
   ]
  },
  {
   "cell_type": "markdown",
   "metadata": {},
   "source": [
    "### lat y long\n",
    "\n",
    "En este caso usaremos coordenadas aleatorias, respecto a la posición GPS de valladolid centro. Para ello usaremos la función `fake.geo_coordinate`."
   ]
  },
  {
   "cell_type": "code",
   "execution_count": 43,
   "metadata": {
    "collapsed": true
   },
   "outputs": [],
   "source": [
    "def anonimiza_gps(row):\n",
    "    row['lat'] = fake.geo_coordinate(center=41.65, radius=0.01)\n",
    "    row['long'] = fake.geo_coordinate(center=-4.72, radius=0.01)\n",
    "    return row\n",
    "    \n",
    "df = df.apply(anonimiza_gps, axis=1)"
   ]
  },
  {
   "cell_type": "code",
   "execution_count": 44,
   "metadata": {},
   "outputs": [
    {
     "data": {
      "text/html": [
       "<div>\n",
       "<style>\n",
       "    .dataframe thead tr:only-child th {\n",
       "        text-align: right;\n",
       "    }\n",
       "\n",
       "    .dataframe thead th {\n",
       "        text-align: left;\n",
       "    }\n",
       "\n",
       "    .dataframe tbody tr th {\n",
       "        vertical-align: top;\n",
       "    }\n",
       "</style>\n",
       "<table border=\"1\" class=\"dataframe\">\n",
       "  <thead>\n",
       "    <tr style=\"text-align: right;\">\n",
       "      <th></th>\n",
       "      <th>lat</th>\n",
       "      <th>long</th>\n",
       "    </tr>\n",
       "  </thead>\n",
       "  <tbody>\n",
       "    <tr>\n",
       "      <th>0</th>\n",
       "      <td>41.646241</td>\n",
       "      <td>-4.729352</td>\n",
       "    </tr>\n",
       "    <tr>\n",
       "      <th>1</th>\n",
       "      <td>41.645657</td>\n",
       "      <td>-4.726789</td>\n",
       "    </tr>\n",
       "    <tr>\n",
       "      <th>2</th>\n",
       "      <td>41.656589</td>\n",
       "      <td>-4.729296</td>\n",
       "    </tr>\n",
       "    <tr>\n",
       "      <th>3</th>\n",
       "      <td>41.655040</td>\n",
       "      <td>-4.712933</td>\n",
       "    </tr>\n",
       "    <tr>\n",
       "      <th>4</th>\n",
       "      <td>41.642338</td>\n",
       "      <td>-4.721854</td>\n",
       "    </tr>\n",
       "  </tbody>\n",
       "</table>\n",
       "</div>"
      ],
      "text/plain": [
       "         lat       long\n",
       "0  41.646241  -4.729352\n",
       "1  41.645657  -4.726789\n",
       "2  41.656589  -4.729296\n",
       "3  41.655040  -4.712933\n",
       "4  41.642338  -4.721854"
      ]
     },
     "execution_count": 44,
     "metadata": {},
     "output_type": "execute_result"
    }
   ],
   "source": [
    "df[['lat', 'long']].head()"
   ]
  },
  {
   "cell_type": "markdown",
   "metadata": {},
   "source": [
    "## Conclusiones\n",
    "\n",
    "* ¿Qué ventajas / inconvenientes le ves a esta manera de anonimizar?\n",
    "* ¿Cómo podríamos mejorar los algoritmos?\n",
    "* ¿Cómo podríamos evaluar que una anonimización es buena?"
   ]
  },
  {
   "cell_type": "code",
   "execution_count": null,
   "metadata": {
    "collapsed": true
   },
   "outputs": [],
   "source": []
  }
 ],
 "metadata": {
  "anaconda-cloud": {},
  "kernelspec": {
   "display_name": "Python 3",
   "language": "python",
   "name": "python3"
  },
  "language_info": {
   "codemirror_mode": {
    "name": "ipython",
    "version": 3
   },
   "file_extension": ".py",
   "mimetype": "text/x-python",
   "name": "python",
   "nbconvert_exporter": "python",
   "pygments_lexer": "ipython3",
   "version": "3.7.1"
  },
  "toc": {
   "base_numbering": 1,
   "nav_menu": {},
   "number_sections": true,
   "sideBar": true,
   "skip_h1_title": false,
   "title_cell": "Table of Contents",
   "title_sidebar": "Contents",
   "toc_cell": false,
   "toc_position": {},
   "toc_section_display": true,
   "toc_window_display": false
  },
  "varInspector": {
   "cols": {
    "lenName": 16,
    "lenType": 16,
    "lenVar": 40
   },
   "kernels_config": {
    "python": {
     "delete_cmd_postfix": "",
     "delete_cmd_prefix": "del ",
     "library": "var_list.py",
     "varRefreshCmd": "print(var_dic_list())"
    },
    "r": {
     "delete_cmd_postfix": ") ",
     "delete_cmd_prefix": "rm(",
     "library": "var_list.r",
     "varRefreshCmd": "cat(var_dic_list()) "
    }
   },
   "types_to_exclude": [
    "module",
    "function",
    "builtin_function_or_method",
    "instance",
    "_Feature"
   ],
   "window_display": false
  }
 },
 "nbformat": 4,
 "nbformat_minor": 2
}

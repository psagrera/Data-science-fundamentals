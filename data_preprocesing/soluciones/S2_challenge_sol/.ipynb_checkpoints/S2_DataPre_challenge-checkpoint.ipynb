{
 "cells": [
  {
   "cell_type": "markdown",
   "metadata": {},
   "source": [
    "<img src=\"mioti.png\" style=\"height: 100px\">\n",
    "<center style=\"color:#888\">Módulo Data Science in IoT<br/>Asignatura: Data preprocessing</center>\n",
    "\n",
    "# Challenge S2: Anonimización AirBnbMadrid"
   ]
  },
  {
   "cell_type": "markdown",
   "metadata": {},
   "source": [
    "## Objetivos\n",
    "\n",
    "En este challenge nos enfrentaremos a un dataset real, que contiene los datos de los alojamientos disponibles de Airbnb para la comunidad de Madrid. Nuestro objetivo en el challenge es anonimizarlo y convertir el dataset de AirBnBMadrid a AirBnBValladolid."
   ]
  },
  {
   "cell_type": "markdown",
   "metadata": {},
   "source": [
    "## Configuración del entorno"
   ]
  },
  {
   "cell_type": "code",
   "execution_count": 1,
   "metadata": {
    "ExecuteTime": {
     "end_time": "2019-11-06T18:14:53.310314Z",
     "start_time": "2019-11-06T18:14:52.945847Z"
    }
   },
   "outputs": [],
   "source": [
    "%matplotlib inline\n",
    "\n",
    "import numpy as np\n",
    "import pandas as pd\n",
    "import matplotlib.pyplot as plt\n",
    "\n",
    "from faker import Faker\n",
    "fake = Faker('es_ES')"
   ]
  },
  {
   "cell_type": "markdown",
   "metadata": {},
   "source": [
    "## Carga de los datos\n",
    "Esta vez va a ser fácil, vamos a importar los datos de un fichero csv, utilizaremos la función read_csv que nos proporciona la libreria de pandas."
   ]
  },
  {
   "cell_type": "code",
   "execution_count": 2,
   "metadata": {
    "ExecuteTime": {
     "end_time": "2019-11-06T18:14:54.589087Z",
     "start_time": "2019-11-06T18:14:53.921491Z"
    }
   },
   "outputs": [],
   "source": [
    "df = pd.read_csv('dataset_airbnb_madrid.csv')"
   ]
  },
  {
   "cell_type": "markdown",
   "metadata": {},
   "source": [
    "Como este dataset es muy complejo, vamos a quedarnos con un subconjunto de columnas para este challenge:"
   ]
  },
  {
   "cell_type": "code",
   "execution_count": 3,
   "metadata": {
    "ExecuteTime": {
     "end_time": "2019-11-06T18:14:56.481251Z",
     "start_time": "2019-11-06T18:14:56.455895Z"
    }
   },
   "outputs": [],
   "source": [
    "df = df[['id', 'listing_url', 'name', 'summary', 'price', 'weekly_price', 'zipcode', 'country', 'latitude', 'longitude']]"
   ]
  },
  {
   "cell_type": "markdown",
   "metadata": {},
   "source": [
    "## Comprensión del dataset\n",
    "\n",
    "Una vez cargados los datos debemos inspeccionarlos, y entender que datos contiene cada una de las columnas:\n",
    "\n",
    "Describe por cada columna:\n",
    "\n",
    "* ¿Qué contiene?\n",
    "* ¿Cual es el rango de los datos?\n",
    "* ¿Contiene datos sensibles?\n",
    "* ¿Depende de otras?"
   ]
  },
  {
   "cell_type": "code",
   "execution_count": 4,
   "metadata": {
    "ExecuteTime": {
     "end_time": "2019-11-02T17:21:10.252338Z",
     "start_time": "2019-11-02T17:21:10.239110Z"
    }
   },
   "outputs": [
    {
     "name": "stdout",
     "output_type": "stream",
     "text": [
      "<class 'pandas.core.frame.DataFrame'>\n",
      "RangeIndex: 13335 entries, 0 to 13334\n",
      "Data columns (total 10 columns):\n",
      "id              13335 non-null int64\n",
      "listing_url     13335 non-null object\n",
      "name            13335 non-null object\n",
      "summary         12846 non-null object\n",
      "price           13335 non-null object\n",
      "weekly_price    3512 non-null object\n",
      "zipcode         12896 non-null object\n",
      "country         13334 non-null object\n",
      "latitude        13335 non-null float64\n",
      "longitude       13335 non-null float64\n",
      "dtypes: float64(2), int64(1), object(7)\n",
      "memory usage: 1.0+ MB\n"
     ]
    }
   ],
   "source": [
    "df.info()"
   ]
  },
  {
   "cell_type": "code",
   "execution_count": 5,
   "metadata": {
    "ExecuteTime": {
     "end_time": "2019-11-02T17:21:16.709134Z",
     "start_time": "2019-11-02T17:21:16.695586Z"
    }
   },
   "outputs": [
    {
     "data": {
      "text/html": [
       "<div>\n",
       "<style scoped>\n",
       "    .dataframe tbody tr th:only-of-type {\n",
       "        vertical-align: middle;\n",
       "    }\n",
       "\n",
       "    .dataframe tbody tr th {\n",
       "        vertical-align: top;\n",
       "    }\n",
       "\n",
       "    .dataframe thead th {\n",
       "        text-align: right;\n",
       "    }\n",
       "</style>\n",
       "<table border=\"1\" class=\"dataframe\">\n",
       "  <thead>\n",
       "    <tr style=\"text-align: right;\">\n",
       "      <th></th>\n",
       "      <th>id</th>\n",
       "      <th>listing_url</th>\n",
       "      <th>name</th>\n",
       "      <th>summary</th>\n",
       "      <th>price</th>\n",
       "      <th>weekly_price</th>\n",
       "      <th>zipcode</th>\n",
       "      <th>country</th>\n",
       "      <th>latitude</th>\n",
       "      <th>longitude</th>\n",
       "    </tr>\n",
       "  </thead>\n",
       "  <tbody>\n",
       "    <tr>\n",
       "      <th>0</th>\n",
       "      <td>7830063</td>\n",
       "      <td>https://www.airbnb.com/rooms/7830063</td>\n",
       "      <td>Quiet room in Plaza Mayor</td>\n",
       "      <td>Room in magnificent property in the historic c...</td>\n",
       "      <td>$42.00</td>\n",
       "      <td>$300.00</td>\n",
       "      <td>28005</td>\n",
       "      <td>Spain</td>\n",
       "      <td>40.412275</td>\n",
       "      <td>-3.708718</td>\n",
       "    </tr>\n",
       "    <tr>\n",
       "      <th>1</th>\n",
       "      <td>9898596</td>\n",
       "      <td>https://www.airbnb.com/rooms/9898596</td>\n",
       "      <td>Homely apartment in the heart of Madrid</td>\n",
       "      <td>Spacious apartment for up to 10 people, with a...</td>\n",
       "      <td>$135.00</td>\n",
       "      <td>NaN</td>\n",
       "      <td>28005</td>\n",
       "      <td>Spain</td>\n",
       "      <td>40.411093</td>\n",
       "      <td>-3.708985</td>\n",
       "    </tr>\n",
       "    <tr>\n",
       "      <th>2</th>\n",
       "      <td>15334645</td>\n",
       "      <td>https://www.airbnb.com/rooms/15334645</td>\n",
       "      <td>Piso Muy Luminoso en pleno centro de Madrid</td>\n",
       "      <td>Lugares de interés: Casa Lucio, Cine Doré, Cal...</td>\n",
       "      <td>$81.00</td>\n",
       "      <td>NaN</td>\n",
       "      <td>28005</td>\n",
       "      <td>Spain</td>\n",
       "      <td>40.413587</td>\n",
       "      <td>-3.708945</td>\n",
       "    </tr>\n",
       "    <tr>\n",
       "      <th>3</th>\n",
       "      <td>1307795</td>\n",
       "      <td>https://www.airbnb.com/rooms/1307795</td>\n",
       "      <td>Rent room in the heart of Madrid</td>\n",
       "      <td>NaN</td>\n",
       "      <td>$43.00</td>\n",
       "      <td>$240.00</td>\n",
       "      <td>28013</td>\n",
       "      <td>Spain</td>\n",
       "      <td>40.419936</td>\n",
       "      <td>-3.709180</td>\n",
       "    </tr>\n",
       "    <tr>\n",
       "      <th>4</th>\n",
       "      <td>17410608</td>\n",
       "      <td>https://www.airbnb.com/rooms/17410608</td>\n",
       "      <td>Luxury duplex penthouse in historic building</td>\n",
       "      <td>Amazing duplex penthouse in a historic buildin...</td>\n",
       "      <td>$50.00</td>\n",
       "      <td>NaN</td>\n",
       "      <td>28005</td>\n",
       "      <td>Spain</td>\n",
       "      <td>40.410894</td>\n",
       "      <td>-3.712537</td>\n",
       "    </tr>\n",
       "  </tbody>\n",
       "</table>\n",
       "</div>"
      ],
      "text/plain": [
       "         id                            listing_url  \\\n",
       "0   7830063   https://www.airbnb.com/rooms/7830063   \n",
       "1   9898596   https://www.airbnb.com/rooms/9898596   \n",
       "2  15334645  https://www.airbnb.com/rooms/15334645   \n",
       "3   1307795   https://www.airbnb.com/rooms/1307795   \n",
       "4  17410608  https://www.airbnb.com/rooms/17410608   \n",
       "\n",
       "                                           name  \\\n",
       "0                     Quiet room in Plaza Mayor   \n",
       "1       Homely apartment in the heart of Madrid   \n",
       "2   Piso Muy Luminoso en pleno centro de Madrid   \n",
       "3              Rent room in the heart of Madrid   \n",
       "4  Luxury duplex penthouse in historic building   \n",
       "\n",
       "                                             summary    price weekly_price  \\\n",
       "0  Room in magnificent property in the historic c...   $42.00      $300.00   \n",
       "1  Spacious apartment for up to 10 people, with a...  $135.00          NaN   \n",
       "2  Lugares de interés: Casa Lucio, Cine Doré, Cal...   $81.00          NaN   \n",
       "3                                                NaN   $43.00      $240.00   \n",
       "4  Amazing duplex penthouse in a historic buildin...   $50.00          NaN   \n",
       "\n",
       "  zipcode country   latitude  longitude  \n",
       "0   28005   Spain  40.412275  -3.708718  \n",
       "1   28005   Spain  40.411093  -3.708985  \n",
       "2   28005   Spain  40.413587  -3.708945  \n",
       "3   28013   Spain  40.419936  -3.709180  \n",
       "4   28005   Spain  40.410894  -3.712537  "
      ]
     },
     "execution_count": 5,
     "metadata": {},
     "output_type": "execute_result"
    }
   ],
   "source": [
    "df.head()"
   ]
  },
  {
   "cell_type": "markdown",
   "metadata": {},
   "source": [
    "### id"
   ]
  },
  {
   "cell_type": "code",
   "execution_count": null,
   "metadata": {
    "collapsed": true
   },
   "outputs": [],
   "source": []
  },
  {
   "cell_type": "markdown",
   "metadata": {},
   "source": [
    "### listing_url"
   ]
  },
  {
   "cell_type": "code",
   "execution_count": null,
   "metadata": {
    "collapsed": true
   },
   "outputs": [],
   "source": []
  },
  {
   "cell_type": "markdown",
   "metadata": {},
   "source": [
    "### name"
   ]
  },
  {
   "cell_type": "code",
   "execution_count": null,
   "metadata": {
    "collapsed": true
   },
   "outputs": [],
   "source": []
  },
  {
   "cell_type": "markdown",
   "metadata": {},
   "source": [
    "### summary"
   ]
  },
  {
   "cell_type": "code",
   "execution_count": null,
   "metadata": {
    "collapsed": true
   },
   "outputs": [],
   "source": []
  },
  {
   "cell_type": "markdown",
   "metadata": {},
   "source": [
    "### price"
   ]
  },
  {
   "cell_type": "code",
   "execution_count": null,
   "metadata": {
    "collapsed": true
   },
   "outputs": [],
   "source": []
  },
  {
   "cell_type": "markdown",
   "metadata": {},
   "source": [
    "### weekly_price"
   ]
  },
  {
   "cell_type": "code",
   "execution_count": null,
   "metadata": {
    "collapsed": true
   },
   "outputs": [],
   "source": []
  },
  {
   "cell_type": "markdown",
   "metadata": {},
   "source": [
    "### zipcode"
   ]
  },
  {
   "cell_type": "code",
   "execution_count": null,
   "metadata": {
    "collapsed": true
   },
   "outputs": [],
   "source": []
  },
  {
   "cell_type": "markdown",
   "metadata": {},
   "source": [
    "### Country"
   ]
  },
  {
   "cell_type": "code",
   "execution_count": null,
   "metadata": {
    "collapsed": true
   },
   "outputs": [],
   "source": []
  },
  {
   "cell_type": "markdown",
   "metadata": {},
   "source": [
    "### latitude y longitude"
   ]
  },
  {
   "cell_type": "code",
   "execution_count": null,
   "metadata": {
    "collapsed": true
   },
   "outputs": [],
   "source": []
  },
  {
   "cell_type": "markdown",
   "metadata": {},
   "source": [
    "## Dependencias entre variables\n",
    "A continuación os propongo hacer una matriz de dependencias para analizar que variables dependen entre sí y analizar que grupos de variables existen. Esto es importante de cara a la anonimización del dataset, puesto que dejar una de estas variables dependientes sin anonimizar, podría llevar a \"deshacer\" este proceso a personas malintencionadas. \n",
    "\n",
    "En esta matriz podéis marcar con una _X_ qué variables dependen entre sí. Si creéis que existen varios grupos de dependencia, asignar una marca diferente a cada uno de los grupos que consideréis. Por ejemplo, variables que dependen entre sí, podrían ser la dirección de la calle y el código postal.\n",
    "\n",
    "| Depende de   | id | listing_url | name | summary | price | weekly_price | zipcode | country | lat y long |\n",
    "|---           |--- |---          |---   |---      |---    |---           |---      |---      |---         | \n",
    "| **id**           |    |             |      |         |       |              |         |         |            | \n",
    "| **listing_url**  |    |             |      |         |       |              |         |         |            | \n",
    "| **name**         |    |             |      |         |       |              |         |         |            | \n",
    "| **summary**      |    |             |      |         |       |              |         |         |            | \n",
    "| **price**        |    |             |      |         |       |              |         |         |            | \n",
    "| **weekly_price** |    |             |      |         |       |              |         |         |            | \n",
    "| **zipcode**      |    |             |      |         |       |              |         |         |            | \n",
    "| **country**      |    |             |      |         |       |              |         |         |            | \n",
    "| **lat y long**   |    |             |      |         |       |              |         |         |            | \n",
    "\n"
   ]
  },
  {
   "cell_type": "markdown",
   "metadata": {},
   "source": [
    "## Estrategia de anonimización\n",
    "\n",
    "A partir de aquí por cada grupo de variables dependientes determina cual es la estrategia de anonimización más adecuada y aplícala teniendo en cuenta las dependencias encontradas en el paso anterior."
   ]
  },
  {
   "cell_type": "code",
   "execution_count": null,
   "metadata": {
    "collapsed": true
   },
   "outputs": [],
   "source": []
  },
  {
   "cell_type": "markdown",
   "metadata": {},
   "source": [
    "## Feature Engineering\n",
    "\n",
    "Conociendo el concepto de Feature Engineering, ¿qué variables se te ocurren a partir del dataset? ¿por qué crees que serían importantes?\n",
    "\n",
    "Describe e implenta dos variables que consideres importantes a partir de nuestro dataset original y razónalas."
   ]
  },
  {
   "cell_type": "code",
   "execution_count": null,
   "metadata": {},
   "outputs": [],
   "source": []
  },
  {
   "cell_type": "code",
   "execution_count": null,
   "metadata": {},
   "outputs": [],
   "source": []
  },
  {
   "cell_type": "markdown",
   "metadata": {},
   "source": [
    "## Conclusiones\n",
    "\n",
    "* ¿Qué ventajas / inconvenientes le ves a esta manera de anonimizar?\n",
    "* ¿Cómo podríamos mejorar los algoritmos?\n",
    "* ¿Cómo podríamos evaluar que una anonimización es buena?"
   ]
  },
  {
   "cell_type": "code",
   "execution_count": null,
   "metadata": {
    "collapsed": true
   },
   "outputs": [],
   "source": []
  }
 ],
 "metadata": {
  "anaconda-cloud": {},
  "kernelspec": {
   "display_name": "Python 3",
   "language": "python",
   "name": "python3"
  },
  "language_info": {
   "codemirror_mode": {
    "name": "ipython",
    "version": 3
   },
   "file_extension": ".py",
   "mimetype": "text/x-python",
   "name": "python",
   "nbconvert_exporter": "python",
   "pygments_lexer": "ipython3",
   "version": "3.7.1"
  },
  "toc": {
   "base_numbering": 1,
   "nav_menu": {},
   "number_sections": true,
   "sideBar": true,
   "skip_h1_title": false,
   "title_cell": "Table of Contents",
   "title_sidebar": "Contents",
   "toc_cell": false,
   "toc_position": {},
   "toc_section_display": true,
   "toc_window_display": false
  },
  "varInspector": {
   "cols": {
    "lenName": 16,
    "lenType": 16,
    "lenVar": 40
   },
   "kernels_config": {
    "python": {
     "delete_cmd_postfix": "",
     "delete_cmd_prefix": "del ",
     "library": "var_list.py",
     "varRefreshCmd": "print(var_dic_list())"
    },
    "r": {
     "delete_cmd_postfix": ") ",
     "delete_cmd_prefix": "rm(",
     "library": "var_list.r",
     "varRefreshCmd": "cat(var_dic_list()) "
    }
   },
   "types_to_exclude": [
    "module",
    "function",
    "builtin_function_or_method",
    "instance",
    "_Feature"
   ],
   "window_display": false
  }
 },
 "nbformat": 4,
 "nbformat_minor": 2
}

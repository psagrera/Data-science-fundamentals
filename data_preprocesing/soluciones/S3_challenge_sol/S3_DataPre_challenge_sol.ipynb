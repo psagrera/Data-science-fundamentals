{
 "cells": [
  {
   "cell_type": "markdown",
   "metadata": {},
   "source": [
    "<img src=\"mioti.png\" style=\"height: 100px\">\n",
    "<center style=\"color:#888\">Módulo Data Science in IoT<br/>Asignatura: Data preprocessing</center>\n",
    "\n",
    "# Challenge S3: Preguntas sobre AirBnB"
   ]
  },
  {
   "cell_type": "markdown",
   "metadata": {},
   "source": [
    "## Objetivos\n",
    "\n",
    "El objetivo de este challenge es reponder algunas preguntas sobre un dataset real de AirBnb."
   ]
  },
  {
   "cell_type": "markdown",
   "metadata": {},
   "source": [
    "## Configuración del entorno"
   ]
  },
  {
   "cell_type": "code",
   "execution_count": 1,
   "metadata": {},
   "outputs": [],
   "source": [
    "%matplotlib inline\n",
    "\n",
    "import numpy as np\n",
    "import pandas as pd\n",
    "import matplotlib.pyplot as plt"
   ]
  },
  {
   "cell_type": "markdown",
   "metadata": {},
   "source": [
    "## Carga de los datos\n",
    "Como en otras ocasiones cargaremos los datos de un fichero csv."
   ]
  },
  {
   "cell_type": "code",
   "execution_count": 2,
   "metadata": {},
   "outputs": [],
   "source": [
    "df = pd.read_csv('dataset_airbnb_madrid.csv')"
   ]
  },
  {
   "cell_type": "markdown",
   "metadata": {},
   "source": [
    "Una vez cargados los datos debemos inspeccionarlos, antes de empezar nuestro análisis."
   ]
  },
  {
   "cell_type": "code",
   "execution_count": 3,
   "metadata": {},
   "outputs": [
    {
     "name": "stdout",
     "output_type": "stream",
     "text": [
      "<class 'pandas.core.frame.DataFrame'>\n",
      "RangeIndex: 13335 entries, 0 to 13334\n",
      "Data columns (total 95 columns):\n",
      "id                                  13335 non-null int64\n",
      "listing_url                         13335 non-null object\n",
      "scrape_id                           13335 non-null int64\n",
      "last_scraped                        13335 non-null object\n",
      "name                                13335 non-null object\n",
      "summary                             12846 non-null object\n",
      "space                               9700 non-null object\n",
      "description                         13329 non-null object\n",
      "experiences_offered                 13335 non-null object\n",
      "neighborhood_overview               8308 non-null object\n",
      "notes                               5037 non-null object\n",
      "transit                             8264 non-null object\n",
      "access                              7546 non-null object\n",
      "interaction                         7523 non-null object\n",
      "house_rules                         8666 non-null object\n",
      "thumbnail_url                       10847 non-null object\n",
      "medium_url                          10847 non-null object\n",
      "picture_url                         13335 non-null object\n",
      "xl_picture_url                      10847 non-null object\n",
      "host_id                             13335 non-null int64\n",
      "host_url                            13335 non-null object\n",
      "host_name                           13332 non-null object\n",
      "host_since                          13332 non-null object\n",
      "host_location                       13293 non-null object\n",
      "host_about                          8282 non-null object\n",
      "host_response_time                  11622 non-null object\n",
      "host_response_rate                  11622 non-null object\n",
      "host_acceptance_rate                0 non-null float64\n",
      "host_is_superhost                   13332 non-null object\n",
      "host_thumbnail_url                  13332 non-null object\n",
      "host_picture_url                    13332 non-null object\n",
      "host_neighbourhood                  9983 non-null object\n",
      "host_listings_count                 13332 non-null float64\n",
      "host_total_listings_count           13332 non-null float64\n",
      "host_verifications                  13335 non-null object\n",
      "host_has_profile_pic                13332 non-null object\n",
      "host_identity_verified              13332 non-null object\n",
      "street                              13335 non-null object\n",
      "neighbourhood                       8772 non-null object\n",
      "neighbourhood_cleansed              13335 non-null object\n",
      "neighbourhood_group_cleansed        13335 non-null object\n",
      "city                                13333 non-null object\n",
      "state                               13292 non-null object\n",
      "zipcode                             12896 non-null object\n",
      "market                              13285 non-null object\n",
      "smart_location                      13335 non-null object\n",
      "country_code                        13335 non-null object\n",
      "country                             13334 non-null object\n",
      "latitude                            13335 non-null float64\n",
      "longitude                           13335 non-null float64\n",
      "is_location_exact                   13335 non-null object\n",
      "property_type                       13335 non-null object\n",
      "room_type                           13335 non-null object\n",
      "accommodates                        13335 non-null int64\n",
      "bathrooms                           13285 non-null float64\n",
      "bedrooms                            13312 non-null float64\n",
      "beds                                13286 non-null float64\n",
      "bed_type                            13335 non-null object\n",
      "amenities                           13335 non-null object\n",
      "square_feet                         522 non-null float64\n",
      "price                               13335 non-null object\n",
      "weekly_price                        3512 non-null object\n",
      "monthly_price                       3324 non-null object\n",
      "security_deposit                    5731 non-null object\n",
      "cleaning_fee                        7851 non-null object\n",
      "guests_included                     13335 non-null int64\n",
      "extra_people                        13335 non-null object\n",
      "minimum_nights                      13335 non-null int64\n",
      "maximum_nights                      13335 non-null int64\n",
      "calendar_updated                    13335 non-null object\n",
      "has_availability                    0 non-null float64\n",
      "availability_30                     13335 non-null int64\n",
      "availability_60                     13335 non-null int64\n",
      "availability_90                     13335 non-null int64\n",
      "availability_365                    13335 non-null int64\n",
      "calendar_last_scraped               13335 non-null object\n",
      "number_of_reviews                   13335 non-null int64\n",
      "first_review                        10542 non-null object\n",
      "last_review                         10541 non-null object\n",
      "review_scores_rating                10417 non-null float64\n",
      "review_scores_accuracy              10399 non-null float64\n",
      "review_scores_cleanliness           10405 non-null float64\n",
      "review_scores_checkin               10389 non-null float64\n",
      "review_scores_communication         10405 non-null float64\n",
      "review_scores_location              10387 non-null float64\n",
      "review_scores_value                 10387 non-null float64\n",
      "requires_license                    13335 non-null object\n",
      "license                             249 non-null object\n",
      "jurisdiction_names                  0 non-null float64\n",
      "instant_bookable                    13335 non-null object\n",
      "cancellation_policy                 13335 non-null object\n",
      "require_guest_profile_picture       13335 non-null object\n",
      "require_guest_phone_verification    13335 non-null object\n",
      "calculated_host_listings_count      13335 non-null int64\n",
      "reviews_per_month                   10542 non-null float64\n",
      "dtypes: float64(19), int64(13), object(63)\n",
      "memory usage: 9.7+ MB\n"
     ]
    }
   ],
   "source": [
    "df.info()"
   ]
  },
  {
   "cell_type": "markdown",
   "metadata": {},
   "source": [
    "## ¿Cuántos alojamientos tienen fotos?"
   ]
  },
  {
   "cell_type": "code",
   "execution_count": 4,
   "metadata": {},
   "outputs": [
    {
     "data": {
      "text/plain": [
       "False    13335\n",
       "Name: picture_url, dtype: int64"
      ]
     },
     "execution_count": 4,
     "metadata": {},
     "output_type": "execute_result"
    }
   ],
   "source": [
    "df.picture_url.isnull().value_counts()"
   ]
  },
  {
   "cell_type": "code",
   "execution_count": 5,
   "metadata": {},
   "outputs": [
    {
     "name": "stdout",
     "output_type": "stream",
     "text": [
      "<class 'pandas.core.frame.DataFrame'>\n",
      "RangeIndex: 13335 entries, 0 to 13334\n",
      "Data columns (total 95 columns):\n",
      "id                                  13335 non-null int64\n",
      "listing_url                         13335 non-null object\n",
      "scrape_id                           13335 non-null int64\n",
      "last_scraped                        13335 non-null object\n",
      "name                                13335 non-null object\n",
      "summary                             12846 non-null object\n",
      "space                               9700 non-null object\n",
      "description                         13329 non-null object\n",
      "experiences_offered                 13335 non-null object\n",
      "neighborhood_overview               8308 non-null object\n",
      "notes                               5037 non-null object\n",
      "transit                             8264 non-null object\n",
      "access                              7546 non-null object\n",
      "interaction                         7523 non-null object\n",
      "house_rules                         8666 non-null object\n",
      "thumbnail_url                       10847 non-null object\n",
      "medium_url                          10847 non-null object\n",
      "picture_url                         13335 non-null object\n",
      "xl_picture_url                      10847 non-null object\n",
      "host_id                             13335 non-null int64\n",
      "host_url                            13335 non-null object\n",
      "host_name                           13332 non-null object\n",
      "host_since                          13332 non-null object\n",
      "host_location                       13293 non-null object\n",
      "host_about                          8282 non-null object\n",
      "host_response_time                  11622 non-null object\n",
      "host_response_rate                  11622 non-null object\n",
      "host_acceptance_rate                0 non-null float64\n",
      "host_is_superhost                   13332 non-null object\n",
      "host_thumbnail_url                  13332 non-null object\n",
      "host_picture_url                    13332 non-null object\n",
      "host_neighbourhood                  9983 non-null object\n",
      "host_listings_count                 13332 non-null float64\n",
      "host_total_listings_count           13332 non-null float64\n",
      "host_verifications                  13335 non-null object\n",
      "host_has_profile_pic                13332 non-null object\n",
      "host_identity_verified              13332 non-null object\n",
      "street                              13335 non-null object\n",
      "neighbourhood                       8772 non-null object\n",
      "neighbourhood_cleansed              13335 non-null object\n",
      "neighbourhood_group_cleansed        13335 non-null object\n",
      "city                                13333 non-null object\n",
      "state                               13292 non-null object\n",
      "zipcode                             12896 non-null object\n",
      "market                              13285 non-null object\n",
      "smart_location                      13335 non-null object\n",
      "country_code                        13335 non-null object\n",
      "country                             13334 non-null object\n",
      "latitude                            13335 non-null float64\n",
      "longitude                           13335 non-null float64\n",
      "is_location_exact                   13335 non-null object\n",
      "property_type                       13335 non-null object\n",
      "room_type                           13335 non-null object\n",
      "accommodates                        13335 non-null int64\n",
      "bathrooms                           13285 non-null float64\n",
      "bedrooms                            13312 non-null float64\n",
      "beds                                13286 non-null float64\n",
      "bed_type                            13335 non-null object\n",
      "amenities                           13335 non-null object\n",
      "square_feet                         522 non-null float64\n",
      "price                               13335 non-null object\n",
      "weekly_price                        3512 non-null object\n",
      "monthly_price                       3324 non-null object\n",
      "security_deposit                    5731 non-null object\n",
      "cleaning_fee                        7851 non-null object\n",
      "guests_included                     13335 non-null int64\n",
      "extra_people                        13335 non-null object\n",
      "minimum_nights                      13335 non-null int64\n",
      "maximum_nights                      13335 non-null int64\n",
      "calendar_updated                    13335 non-null object\n",
      "has_availability                    0 non-null float64\n",
      "availability_30                     13335 non-null int64\n",
      "availability_60                     13335 non-null int64\n",
      "availability_90                     13335 non-null int64\n",
      "availability_365                    13335 non-null int64\n",
      "calendar_last_scraped               13335 non-null object\n",
      "number_of_reviews                   13335 non-null int64\n",
      "first_review                        10542 non-null object\n",
      "last_review                         10541 non-null object\n",
      "review_scores_rating                10417 non-null float64\n",
      "review_scores_accuracy              10399 non-null float64\n",
      "review_scores_cleanliness           10405 non-null float64\n",
      "review_scores_checkin               10389 non-null float64\n",
      "review_scores_communication         10405 non-null float64\n",
      "review_scores_location              10387 non-null float64\n",
      "review_scores_value                 10387 non-null float64\n",
      "requires_license                    13335 non-null object\n",
      "license                             249 non-null object\n",
      "jurisdiction_names                  0 non-null float64\n",
      "instant_bookable                    13335 non-null object\n",
      "cancellation_policy                 13335 non-null object\n",
      "require_guest_profile_picture       13335 non-null object\n",
      "require_guest_phone_verification    13335 non-null object\n",
      "calculated_host_listings_count      13335 non-null int64\n",
      "reviews_per_month                   10542 non-null float64\n",
      "dtypes: float64(19), int64(13), object(63)\n",
      "memory usage: 9.7+ MB\n"
     ]
    }
   ],
   "source": [
    "df.info()"
   ]
  },
  {
   "cell_type": "markdown",
   "metadata": {},
   "source": [
    "## ¿Cuál es el porcentaje de originalidad de las descripciones?."
   ]
  },
  {
   "cell_type": "code",
   "execution_count": 6,
   "metadata": {},
   "outputs": [
    {
     "data": {
      "text/plain": [
       "0.9654293213348332"
      ]
     },
     "execution_count": 6,
     "metadata": {},
     "output_type": "execute_result"
    }
   ],
   "source": [
    "len(df[~df['description'].duplicated()]) / len(df)"
   ]
  },
  {
   "cell_type": "markdown",
   "metadata": {},
   "source": [
    "## ¿Cuántos alojamientos tiene de media cada dueño?"
   ]
  },
  {
   "cell_type": "code",
   "execution_count": 7,
   "metadata": {
    "scrolled": true
   },
   "outputs": [
    {
     "name": "stdout",
     "output_type": "stream",
     "text": [
      "13335\n",
      "8187\n"
     ]
    }
   ],
   "source": [
    "len(df['host_url']) / len(df['host_url'].unique()) \n",
    "print(len(df['host_url']))\n",
    "print(len(df['host_url'].unique()))"
   ]
  },
  {
   "cell_type": "markdown",
   "metadata": {},
   "source": [
    "## ¿Cuáles son los 10 dueños que más alojamientos tienen?"
   ]
  },
  {
   "cell_type": "code",
   "execution_count": 8,
   "metadata": {
    "scrolled": true
   },
   "outputs": [
    {
     "data": {
      "text/plain": [
       "https://www.airbnb.com/users/show/21514948    145\n",
       "https://www.airbnb.com/users/show/15258781     97\n",
       "https://www.airbnb.com/users/show/3566146      77\n",
       "https://www.airbnb.com/users/show/54310958     67\n",
       "https://www.airbnb.com/users/show/1408525      51\n",
       "https://www.airbnb.com/users/show/27526991     48\n",
       "https://www.airbnb.com/users/show/5542111      46\n",
       "https://www.airbnb.com/users/show/21485458     44\n",
       "https://www.airbnb.com/users/show/1650712      40\n",
       "https://www.airbnb.com/users/show/32046323     39\n",
       "Name: host_url, dtype: int64"
      ]
     },
     "execution_count": 8,
     "metadata": {},
     "output_type": "execute_result"
    }
   ],
   "source": [
    "df['host_url'].value_counts().head(10)"
   ]
  },
  {
   "cell_type": "markdown",
   "metadata": {},
   "source": [
    "Alternativamente:"
   ]
  },
  {
   "cell_type": "code",
   "execution_count": 9,
   "metadata": {},
   "outputs": [
    {
     "data": {
      "text/plain": [
       "host_url\n",
       "https://www.airbnb.com/users/show/21514948    145\n",
       "https://www.airbnb.com/users/show/15258781     97\n",
       "https://www.airbnb.com/users/show/3566146      77\n",
       "https://www.airbnb.com/users/show/54310958     67\n",
       "https://www.airbnb.com/users/show/1408525      51\n",
       "https://www.airbnb.com/users/show/27526991     48\n",
       "https://www.airbnb.com/users/show/5542111      46\n",
       "https://www.airbnb.com/users/show/21485458     44\n",
       "https://www.airbnb.com/users/show/1650712      40\n",
       "https://www.airbnb.com/users/show/32046323     39\n",
       "dtype: int64"
      ]
     },
     "execution_count": 9,
     "metadata": {},
     "output_type": "execute_result"
    }
   ],
   "source": [
    "df.groupby('host_url').size().sort_values(ascending=False).head(10)"
   ]
  },
  {
   "cell_type": "markdown",
   "metadata": {},
   "source": [
    "Alternativamente un poco más complicado:"
   ]
  },
  {
   "cell_type": "code",
   "execution_count": 10,
   "metadata": {},
   "outputs": [
    {
     "data": {
      "text/plain": [
       "host_url\n",
       "https://www.airbnb.com/users/show/21514948    145\n",
       "https://www.airbnb.com/users/show/15258781     97\n",
       "https://www.airbnb.com/users/show/3566146      77\n",
       "https://www.airbnb.com/users/show/54310958     67\n",
       "https://www.airbnb.com/users/show/1408525      51\n",
       "https://www.airbnb.com/users/show/27526991     48\n",
       "https://www.airbnb.com/users/show/5542111      46\n",
       "https://www.airbnb.com/users/show/21485458     44\n",
       "https://www.airbnb.com/users/show/1650712      40\n",
       "https://www.airbnb.com/users/show/32046323     39\n",
       "dtype: int64"
      ]
     },
     "execution_count": 10,
     "metadata": {},
     "output_type": "execute_result"
    }
   ],
   "source": [
    "df.groupby('host_url').apply(len).sort_values(ascending=False).head(10)"
   ]
  },
  {
   "cell_type": "markdown",
   "metadata": {},
   "source": [
    "## ¿Cuántos alojamientos tiene Airbnb en Madrid?\n",
    "Tip: te recomiento que borres todos los alojamientos que no estén en Madrid y luego los cuentes."
   ]
  },
  {
   "cell_type": "code",
   "execution_count": 11,
   "metadata": {},
   "outputs": [
    {
     "data": {
      "text/plain": [
       "RangeIndex(start=0, stop=13335, step=1)"
      ]
     },
     "execution_count": 11,
     "metadata": {},
     "output_type": "execute_result"
    }
   ],
   "source": [
    "df.index"
   ]
  },
  {
   "cell_type": "code",
   "execution_count": 12,
   "metadata": {},
   "outputs": [
    {
     "data": {
      "text/plain": [
       "Spain    13333\n",
       "Cuba         1\n",
       "Name: country, dtype: int64"
      ]
     },
     "execution_count": 12,
     "metadata": {},
     "output_type": "execute_result"
    }
   ],
   "source": [
    "df.country.value_counts()"
   ]
  },
  {
   "cell_type": "code",
   "execution_count": 13,
   "metadata": {},
   "outputs": [],
   "source": [
    "mask_country = df['country'] == 'Spain'"
   ]
  },
  {
   "cell_type": "code",
   "execution_count": 14,
   "metadata": {
    "scrolled": true
   },
   "outputs": [
    {
     "data": {
      "text/plain": [
       "array(['28005', '28013', '28008', '28012', '280013', nan, '28015',\n",
       "       '28004', '28011', '28018', '28014', '28045', '2802\\n28012',\n",
       "       '28033', 'Madrid 28004', '28001', '28056', '2805', '28094',\n",
       "       '28007', '28003', '28010', '2015', '2804', '27004', '28034',\n",
       "       '29230', '20013', '28016', '25008', '27013', '28019', '28047',\n",
       "       '28053', '28028', '28009', '28006', '-', '28002', '28020', '28027',\n",
       "       '28046', '28036', '28002\\n28002', '28030', '28039', '28040',\n",
       "       '28060', '28029', '28290', '28105', '2815', '28035', ' ', '28730',\n",
       "       '28050', '03430', '28049', '28024', '46370', '29012', '10100',\n",
       "       '08015', '  ', '28038', '28023', '28025', '28660', '28044',\n",
       "       '28054', '28026', '28041', '20126', '28058', '28048', '28031',\n",
       "       '28017', '28850', '28', '28043', '28042', '28021', '28055',\n",
       "       '28051', '28051\\n28051', '28032', '28052', '28037', '28022',\n",
       "       '84084', '28830', '28224'], dtype=object)"
      ]
     },
     "execution_count": 14,
     "metadata": {},
     "output_type": "execute_result"
    }
   ],
   "source": [
    "df.zipcode.unique()"
   ]
  },
  {
   "cell_type": "code",
   "execution_count": 15,
   "metadata": {},
   "outputs": [],
   "source": [
    "mask_zipcode = df.zipcode.str.startswith('28') & df.zipcode.str.isdigit() & (df.zipcode.str.len() == 5)"
   ]
  },
  {
   "cell_type": "code",
   "execution_count": 16,
   "metadata": {
    "scrolled": true
   },
   "outputs": [],
   "source": [
    "df = df[mask_country & mask_zipcode]"
   ]
  },
  {
   "cell_type": "code",
   "execution_count": 17,
   "metadata": {},
   "outputs": [
    {
     "data": {
      "text/plain": [
       "array(['Spain'], dtype=object)"
      ]
     },
     "execution_count": 17,
     "metadata": {},
     "output_type": "execute_result"
    }
   ],
   "source": [
    "df.country.unique()"
   ]
  },
  {
   "cell_type": "code",
   "execution_count": 18,
   "metadata": {
    "scrolled": true
   },
   "outputs": [
    {
     "data": {
      "text/plain": [
       "array(['28005', '28013', '28008', '28012', '28015', '28004', '28011',\n",
       "       '28018', '28014', '28045', '28033', '28001', '28056', '28094',\n",
       "       '28007', '28003', '28010', '28034', '28016', '28019', '28047',\n",
       "       '28053', '28028', '28009', '28006', '28002', '28020', '28027',\n",
       "       '28046', '28036', '28030', '28039', '28040', '28060', '28029',\n",
       "       '28290', '28105', '28035', '28730', '28050', '28049', '28024',\n",
       "       '28038', '28023', '28025', '28660', '28044', '28054', '28026',\n",
       "       '28041', '28058', '28048', '28031', '28017', '28850', '28043',\n",
       "       '28042', '28021', '28055', '28051', '28032', '28052', '28037',\n",
       "       '28022', '28830', '28224'], dtype=object)"
      ]
     },
     "execution_count": 18,
     "metadata": {},
     "output_type": "execute_result"
    }
   ],
   "source": [
    "df.zipcode.unique()"
   ]
  },
  {
   "cell_type": "code",
   "execution_count": 19,
   "metadata": {},
   "outputs": [
    {
     "data": {
      "text/plain": [
       "Int64Index([    0,     1,     2,     3,     4,     5,     6,     7,     8,\n",
       "                9,\n",
       "            ...\n",
       "            13325, 13326, 13327, 13328, 13329, 13330, 13331, 13332, 13333,\n",
       "            13334],\n",
       "           dtype='int64', length=12868)"
      ]
     },
     "execution_count": 19,
     "metadata": {},
     "output_type": "execute_result"
    }
   ],
   "source": [
    "df.index"
   ]
  },
  {
   "cell_type": "markdown",
   "metadata": {},
   "source": [
    "## ¿Cuántos alojamientos requieren licencia?"
   ]
  },
  {
   "cell_type": "code",
   "execution_count": 20,
   "metadata": {},
   "outputs": [
    {
     "data": {
      "text/plain": [
       "12868"
      ]
     },
     "execution_count": 20,
     "metadata": {},
     "output_type": "execute_result"
    }
   ],
   "source": [
    "len(df[(df['requires_license'] == 't')])"
   ]
  },
  {
   "cell_type": "markdown",
   "metadata": {},
   "source": [
    "## ¿Cuántos alojamientos que requieren licencia realmente la tienen?"
   ]
  },
  {
   "cell_type": "code",
   "execution_count": 21,
   "metadata": {},
   "outputs": [
    {
     "data": {
      "text/plain": [
       "243"
      ]
     },
     "execution_count": 21,
     "metadata": {},
     "output_type": "execute_result"
    }
   ],
   "source": [
    "len(df[(df['requires_license'] == 't') & df['license']])"
   ]
  },
  {
   "cell_type": "markdown",
   "metadata": {},
   "source": [
    "## ¿Cuántos alojamientos que requieren licencia realmente no la tienen?"
   ]
  },
  {
   "cell_type": "code",
   "execution_count": 22,
   "metadata": {},
   "outputs": [
    {
     "data": {
      "text/plain": [
       "12625"
      ]
     },
     "execution_count": 22,
     "metadata": {},
     "output_type": "execute_result"
    }
   ],
   "source": [
    "len(df[(df['requires_license'] == 't') & pd.isnull(df['license'])])"
   ]
  },
  {
   "cell_type": "markdown",
   "metadata": {},
   "source": [
    "## ¿Cual es el código postal con precio medio más caro de madrid?\n",
    "Tip: excluye zipcodes atípicos"
   ]
  },
  {
   "cell_type": "code",
   "execution_count": 23,
   "metadata": {},
   "outputs": [],
   "source": [
    "# Convertimos la cantidad a un numero\n",
    "df['price'] = df['price'].str.replace('$','')\n",
    "df['price'] = df['price'].str.replace(',','')\n",
    "\n",
    "df['price'] = pd.to_numeric(df['price'])"
   ]
  },
  {
   "cell_type": "code",
   "execution_count": 24,
   "metadata": {},
   "outputs": [],
   "source": [
    "df_analisis_zipcodes = df.groupby('zipcode').agg({'price': ['mean', 'min', 'max', 'std'], 'id' : 'count'})"
   ]
  },
  {
   "cell_type": "code",
   "execution_count": 25,
   "metadata": {},
   "outputs": [
    {
     "data": {
      "text/html": [
       "<div>\n",
       "<style scoped>\n",
       "    .dataframe tbody tr th:only-of-type {\n",
       "        vertical-align: middle;\n",
       "    }\n",
       "\n",
       "    .dataframe tbody tr th {\n",
       "        vertical-align: top;\n",
       "    }\n",
       "\n",
       "    .dataframe thead tr th {\n",
       "        text-align: left;\n",
       "    }\n",
       "\n",
       "    .dataframe thead tr:last-of-type th {\n",
       "        text-align: right;\n",
       "    }\n",
       "</style>\n",
       "<table border=\"1\" class=\"dataframe\">\n",
       "  <thead>\n",
       "    <tr>\n",
       "      <th></th>\n",
       "      <th colspan=\"4\" halign=\"left\">price</th>\n",
       "      <th>id</th>\n",
       "    </tr>\n",
       "    <tr>\n",
       "      <th></th>\n",
       "      <th>mean</th>\n",
       "      <th>min</th>\n",
       "      <th>max</th>\n",
       "      <th>std</th>\n",
       "      <th>count</th>\n",
       "    </tr>\n",
       "    <tr>\n",
       "      <th>zipcode</th>\n",
       "      <th></th>\n",
       "      <th></th>\n",
       "      <th></th>\n",
       "      <th></th>\n",
       "      <th></th>\n",
       "    </tr>\n",
       "  </thead>\n",
       "  <tbody>\n",
       "    <tr>\n",
       "      <th>28001</th>\n",
       "      <td>124.878788</td>\n",
       "      <td>14.0</td>\n",
       "      <td>700.0</td>\n",
       "      <td>116.897514</td>\n",
       "      <td>231</td>\n",
       "    </tr>\n",
       "    <tr>\n",
       "      <th>28002</th>\n",
       "      <td>63.465116</td>\n",
       "      <td>15.0</td>\n",
       "      <td>404.0</td>\n",
       "      <td>48.614656</td>\n",
       "      <td>172</td>\n",
       "    </tr>\n",
       "    <tr>\n",
       "      <th>28003</th>\n",
       "      <td>80.129032</td>\n",
       "      <td>13.0</td>\n",
       "      <td>1000.0</td>\n",
       "      <td>100.764078</td>\n",
       "      <td>186</td>\n",
       "    </tr>\n",
       "    <tr>\n",
       "      <th>28004</th>\n",
       "      <td>73.566278</td>\n",
       "      <td>10.0</td>\n",
       "      <td>595.0</td>\n",
       "      <td>57.347418</td>\n",
       "      <td>1803</td>\n",
       "    </tr>\n",
       "    <tr>\n",
       "      <th>28005</th>\n",
       "      <td>68.709623</td>\n",
       "      <td>13.0</td>\n",
       "      <td>1200.0</td>\n",
       "      <td>55.724047</td>\n",
       "      <td>1195</td>\n",
       "    </tr>\n",
       "  </tbody>\n",
       "</table>\n",
       "</div>"
      ],
      "text/plain": [
       "              price                              id\n",
       "               mean   min     max         std count\n",
       "zipcode                                            \n",
       "28001    124.878788  14.0   700.0  116.897514   231\n",
       "28002     63.465116  15.0   404.0   48.614656   172\n",
       "28003     80.129032  13.0  1000.0  100.764078   186\n",
       "28004     73.566278  10.0   595.0   57.347418  1803\n",
       "28005     68.709623  13.0  1200.0   55.724047  1195"
      ]
     },
     "execution_count": 25,
     "metadata": {},
     "output_type": "execute_result"
    }
   ],
   "source": [
    "df_analisis_zipcodes.head()"
   ]
  },
  {
   "cell_type": "code",
   "execution_count": 26,
   "metadata": {},
   "outputs": [
    {
     "data": {
      "text/plain": [
       "zipcode\n",
       "28001    124.878788\n",
       "28002     63.465116\n",
       "28003     80.129032\n",
       "28004     73.566278\n",
       "28005     68.709623\n",
       "28006     94.474886\n",
       "28007     87.121359\n",
       "28008     88.068047\n",
       "28009     79.119816\n",
       "28010     76.239583\n",
       "28011     38.642857\n",
       "28012     67.055206\n",
       "28013     84.522080\n",
       "28014     83.401264\n",
       "28015     61.051581\n",
       "28016    109.141026\n",
       "28017     38.612613\n",
       "28018     29.837209\n",
       "28019     39.658416\n",
       "28020     64.117347\n",
       "28021     28.918033\n",
       "28022     47.266667\n",
       "28023    147.945946\n",
       "28024     30.818182\n",
       "28025     39.411290\n",
       "28026     37.516129\n",
       "28027     39.258065\n",
       "28028     51.428030\n",
       "28029     46.839286\n",
       "28030     36.369863\n",
       "            ...    \n",
       "28037     40.666667\n",
       "28038     42.329114\n",
       "28039     50.234568\n",
       "28040    132.450000\n",
       "28041     45.876923\n",
       "28042     69.538462\n",
       "28043     54.076190\n",
       "28044     29.700000\n",
       "28045     45.704000\n",
       "28046     85.812500\n",
       "28047     32.119403\n",
       "28048     33.000000\n",
       "28049    213.000000\n",
       "28050     53.155172\n",
       "28051     90.444444\n",
       "28052    188.000000\n",
       "28053     36.333333\n",
       "28054     42.615385\n",
       "28055     68.500000\n",
       "28056     70.000000\n",
       "28058     18.000000\n",
       "28060     45.000000\n",
       "28094    120.000000\n",
       "28105     25.000000\n",
       "28224     45.000000\n",
       "28290     35.000000\n",
       "28660     79.000000\n",
       "28730    100.000000\n",
       "28830     20.000000\n",
       "28850    250.000000\n",
       "Name: (price, mean), Length: 66, dtype: float64"
      ]
     },
     "execution_count": 26,
     "metadata": {},
     "output_type": "execute_result"
    }
   ],
   "source": [
    "df_analisis_zipcodes[('price','mean')]"
   ]
  },
  {
   "cell_type": "code",
   "execution_count": 27,
   "metadata": {},
   "outputs": [],
   "source": [
    "df_analisis_zipcodes.columns = df_analisis_zipcodes.columns.droplevel()"
   ]
  },
  {
   "cell_type": "code",
   "execution_count": 28,
   "metadata": {},
   "outputs": [
    {
     "data": {
      "text/html": [
       "<div>\n",
       "<style scoped>\n",
       "    .dataframe tbody tr th:only-of-type {\n",
       "        vertical-align: middle;\n",
       "    }\n",
       "\n",
       "    .dataframe tbody tr th {\n",
       "        vertical-align: top;\n",
       "    }\n",
       "\n",
       "    .dataframe thead th {\n",
       "        text-align: right;\n",
       "    }\n",
       "</style>\n",
       "<table border=\"1\" class=\"dataframe\">\n",
       "  <thead>\n",
       "    <tr style=\"text-align: right;\">\n",
       "      <th></th>\n",
       "      <th>mean</th>\n",
       "      <th>min</th>\n",
       "      <th>max</th>\n",
       "      <th>std</th>\n",
       "      <th>count</th>\n",
       "    </tr>\n",
       "    <tr>\n",
       "      <th>zipcode</th>\n",
       "      <th></th>\n",
       "      <th></th>\n",
       "      <th></th>\n",
       "      <th></th>\n",
       "      <th></th>\n",
       "    </tr>\n",
       "  </thead>\n",
       "  <tbody>\n",
       "    <tr>\n",
       "      <th>28001</th>\n",
       "      <td>124.878788</td>\n",
       "      <td>14.0</td>\n",
       "      <td>700.0</td>\n",
       "      <td>116.897514</td>\n",
       "      <td>231</td>\n",
       "    </tr>\n",
       "    <tr>\n",
       "      <th>28002</th>\n",
       "      <td>63.465116</td>\n",
       "      <td>15.0</td>\n",
       "      <td>404.0</td>\n",
       "      <td>48.614656</td>\n",
       "      <td>172</td>\n",
       "    </tr>\n",
       "    <tr>\n",
       "      <th>28003</th>\n",
       "      <td>80.129032</td>\n",
       "      <td>13.0</td>\n",
       "      <td>1000.0</td>\n",
       "      <td>100.764078</td>\n",
       "      <td>186</td>\n",
       "    </tr>\n",
       "    <tr>\n",
       "      <th>28004</th>\n",
       "      <td>73.566278</td>\n",
       "      <td>10.0</td>\n",
       "      <td>595.0</td>\n",
       "      <td>57.347418</td>\n",
       "      <td>1803</td>\n",
       "    </tr>\n",
       "    <tr>\n",
       "      <th>28005</th>\n",
       "      <td>68.709623</td>\n",
       "      <td>13.0</td>\n",
       "      <td>1200.0</td>\n",
       "      <td>55.724047</td>\n",
       "      <td>1195</td>\n",
       "    </tr>\n",
       "  </tbody>\n",
       "</table>\n",
       "</div>"
      ],
      "text/plain": [
       "               mean   min     max         std  count\n",
       "zipcode                                             \n",
       "28001    124.878788  14.0   700.0  116.897514    231\n",
       "28002     63.465116  15.0   404.0   48.614656    172\n",
       "28003     80.129032  13.0  1000.0  100.764078    186\n",
       "28004     73.566278  10.0   595.0   57.347418   1803\n",
       "28005     68.709623  13.0  1200.0   55.724047   1195"
      ]
     },
     "execution_count": 28,
     "metadata": {},
     "output_type": "execute_result"
    }
   ],
   "source": [
    "df_analisis_zipcodes.head()"
   ]
  },
  {
   "cell_type": "code",
   "execution_count": 29,
   "metadata": {},
   "outputs": [
    {
     "data": {
      "text/html": [
       "<div>\n",
       "<style scoped>\n",
       "    .dataframe tbody tr th:only-of-type {\n",
       "        vertical-align: middle;\n",
       "    }\n",
       "\n",
       "    .dataframe tbody tr th {\n",
       "        vertical-align: top;\n",
       "    }\n",
       "\n",
       "    .dataframe thead th {\n",
       "        text-align: right;\n",
       "    }\n",
       "</style>\n",
       "<table border=\"1\" class=\"dataframe\">\n",
       "  <thead>\n",
       "    <tr style=\"text-align: right;\">\n",
       "      <th></th>\n",
       "      <th>mean</th>\n",
       "      <th>min</th>\n",
       "      <th>max</th>\n",
       "      <th>std</th>\n",
       "      <th>count</th>\n",
       "    </tr>\n",
       "    <tr>\n",
       "      <th>zipcode</th>\n",
       "      <th></th>\n",
       "      <th></th>\n",
       "      <th></th>\n",
       "      <th></th>\n",
       "      <th></th>\n",
       "    </tr>\n",
       "  </thead>\n",
       "  <tbody>\n",
       "    <tr>\n",
       "      <th>28850</th>\n",
       "      <td>250.000000</td>\n",
       "      <td>250.0</td>\n",
       "      <td>250.0</td>\n",
       "      <td>NaN</td>\n",
       "      <td>1</td>\n",
       "    </tr>\n",
       "    <tr>\n",
       "      <th>28049</th>\n",
       "      <td>213.000000</td>\n",
       "      <td>35.0</td>\n",
       "      <td>706.0</td>\n",
       "      <td>328.993414</td>\n",
       "      <td>4</td>\n",
       "    </tr>\n",
       "    <tr>\n",
       "      <th>28052</th>\n",
       "      <td>188.000000</td>\n",
       "      <td>188.0</td>\n",
       "      <td>188.0</td>\n",
       "      <td>NaN</td>\n",
       "      <td>1</td>\n",
       "    </tr>\n",
       "    <tr>\n",
       "      <th>28023</th>\n",
       "      <td>147.945946</td>\n",
       "      <td>25.0</td>\n",
       "      <td>712.0</td>\n",
       "      <td>183.096202</td>\n",
       "      <td>37</td>\n",
       "    </tr>\n",
       "    <tr>\n",
       "      <th>28035</th>\n",
       "      <td>147.710526</td>\n",
       "      <td>15.0</td>\n",
       "      <td>750.0</td>\n",
       "      <td>179.645860</td>\n",
       "      <td>76</td>\n",
       "    </tr>\n",
       "    <tr>\n",
       "      <th>28040</th>\n",
       "      <td>132.450000</td>\n",
       "      <td>20.0</td>\n",
       "      <td>716.0</td>\n",
       "      <td>191.625862</td>\n",
       "      <td>20</td>\n",
       "    </tr>\n",
       "    <tr>\n",
       "      <th>28001</th>\n",
       "      <td>124.878788</td>\n",
       "      <td>14.0</td>\n",
       "      <td>700.0</td>\n",
       "      <td>116.897514</td>\n",
       "      <td>231</td>\n",
       "    </tr>\n",
       "    <tr>\n",
       "      <th>28094</th>\n",
       "      <td>120.000000</td>\n",
       "      <td>120.0</td>\n",
       "      <td>120.0</td>\n",
       "      <td>NaN</td>\n",
       "      <td>1</td>\n",
       "    </tr>\n",
       "    <tr>\n",
       "      <th>28016</th>\n",
       "      <td>109.141026</td>\n",
       "      <td>20.0</td>\n",
       "      <td>875.0</td>\n",
       "      <td>147.061761</td>\n",
       "      <td>78</td>\n",
       "    </tr>\n",
       "    <tr>\n",
       "      <th>28730</th>\n",
       "      <td>100.000000</td>\n",
       "      <td>100.0</td>\n",
       "      <td>100.0</td>\n",
       "      <td>NaN</td>\n",
       "      <td>1</td>\n",
       "    </tr>\n",
       "  </tbody>\n",
       "</table>\n",
       "</div>"
      ],
      "text/plain": [
       "               mean    min    max         std  count\n",
       "zipcode                                             \n",
       "28850    250.000000  250.0  250.0         NaN      1\n",
       "28049    213.000000   35.0  706.0  328.993414      4\n",
       "28052    188.000000  188.0  188.0         NaN      1\n",
       "28023    147.945946   25.0  712.0  183.096202     37\n",
       "28035    147.710526   15.0  750.0  179.645860     76\n",
       "28040    132.450000   20.0  716.0  191.625862     20\n",
       "28001    124.878788   14.0  700.0  116.897514    231\n",
       "28094    120.000000  120.0  120.0         NaN      1\n",
       "28016    109.141026   20.0  875.0  147.061761     78\n",
       "28730    100.000000  100.0  100.0         NaN      1"
      ]
     },
     "execution_count": 29,
     "metadata": {},
     "output_type": "execute_result"
    }
   ],
   "source": [
    "df_analisis_zipcodes.sort_values('mean', ascending=False).head(10)"
   ]
  },
  {
   "cell_type": "code",
   "execution_count": 30,
   "metadata": {},
   "outputs": [
    {
     "data": {
      "text/html": [
       "<div>\n",
       "<style scoped>\n",
       "    .dataframe tbody tr th:only-of-type {\n",
       "        vertical-align: middle;\n",
       "    }\n",
       "\n",
       "    .dataframe tbody tr th {\n",
       "        vertical-align: top;\n",
       "    }\n",
       "\n",
       "    .dataframe thead th {\n",
       "        text-align: right;\n",
       "    }\n",
       "</style>\n",
       "<table border=\"1\" class=\"dataframe\">\n",
       "  <thead>\n",
       "    <tr style=\"text-align: right;\">\n",
       "      <th></th>\n",
       "      <th>mean</th>\n",
       "      <th>min</th>\n",
       "      <th>max</th>\n",
       "      <th>std</th>\n",
       "      <th>count</th>\n",
       "    </tr>\n",
       "    <tr>\n",
       "      <th>zipcode</th>\n",
       "      <th></th>\n",
       "      <th></th>\n",
       "      <th></th>\n",
       "      <th></th>\n",
       "      <th></th>\n",
       "    </tr>\n",
       "  </thead>\n",
       "  <tbody>\n",
       "    <tr>\n",
       "      <th>28023</th>\n",
       "      <td>147.945946</td>\n",
       "      <td>25.0</td>\n",
       "      <td>712.0</td>\n",
       "      <td>183.096202</td>\n",
       "      <td>37</td>\n",
       "    </tr>\n",
       "    <tr>\n",
       "      <th>28035</th>\n",
       "      <td>147.710526</td>\n",
       "      <td>15.0</td>\n",
       "      <td>750.0</td>\n",
       "      <td>179.645860</td>\n",
       "      <td>76</td>\n",
       "    </tr>\n",
       "    <tr>\n",
       "      <th>28040</th>\n",
       "      <td>132.450000</td>\n",
       "      <td>20.0</td>\n",
       "      <td>716.0</td>\n",
       "      <td>191.625862</td>\n",
       "      <td>20</td>\n",
       "    </tr>\n",
       "    <tr>\n",
       "      <th>28001</th>\n",
       "      <td>124.878788</td>\n",
       "      <td>14.0</td>\n",
       "      <td>700.0</td>\n",
       "      <td>116.897514</td>\n",
       "      <td>231</td>\n",
       "    </tr>\n",
       "    <tr>\n",
       "      <th>28016</th>\n",
       "      <td>109.141026</td>\n",
       "      <td>20.0</td>\n",
       "      <td>875.0</td>\n",
       "      <td>147.061761</td>\n",
       "      <td>78</td>\n",
       "    </tr>\n",
       "  </tbody>\n",
       "</table>\n",
       "</div>"
      ],
      "text/plain": [
       "               mean   min    max         std  count\n",
       "zipcode                                            \n",
       "28023    147.945946  25.0  712.0  183.096202     37\n",
       "28035    147.710526  15.0  750.0  179.645860     76\n",
       "28040    132.450000  20.0  716.0  191.625862     20\n",
       "28001    124.878788  14.0  700.0  116.897514    231\n",
       "28016    109.141026  20.0  875.0  147.061761     78"
      ]
     },
     "execution_count": 30,
     "metadata": {},
     "output_type": "execute_result"
    }
   ],
   "source": [
    "df_analisis_zipcodes[df_analisis_zipcodes['count'] > 10].sort_values('mean', ascending=False).head(5)"
   ]
  },
  {
   "cell_type": "markdown",
   "metadata": {},
   "source": [
    "## ¿En que rango se mueven los precios de los alojamientos en madrid?"
   ]
  },
  {
   "cell_type": "code",
   "execution_count": 31,
   "metadata": {},
   "outputs": [],
   "source": [
    "def filtrar_outlier_tukey(x):\n",
    "    q1 = np.percentile(x, 25)\n",
    "    q3 = np.percentile(x, 75)\n",
    "    iqr = q3 - q1 \n",
    "    #print(\"[q1=%f, q3=%f, iqr=%f]\" % (q1, q3, iqr))\n",
    "    \n",
    "    floor = q1 - 1.5*iqr\n",
    "    ceiling = q3 + 1.5*iqr\n",
    "    #print(\"[floor=%f, ceiling=%f]\" % (floor, ceiling))\n",
    "    \n",
    "    outlier_indices = list(x.index[(x < floor)|(x > ceiling)])\n",
    "    outlier_values = list(x[outlier_indices])\n",
    "\n",
    "    return outlier_indices, outlier_values"
   ]
  },
  {
   "cell_type": "code",
   "execution_count": 32,
   "metadata": {},
   "outputs": [],
   "source": [
    "outlier_indices, outlier_values = filtrar_outlier_tukey(df.price)"
   ]
  },
  {
   "cell_type": "code",
   "execution_count": 33,
   "metadata": {},
   "outputs": [],
   "source": [
    "for index in outlier_indices:\n",
    "    df.at[index, 'price']= np.nan"
   ]
  },
  {
   "cell_type": "code",
   "execution_count": 34,
   "metadata": {},
   "outputs": [
    {
     "data": {
      "text/plain": [
       "<matplotlib.axes._subplots.AxesSubplot at 0x1bdf3679d30>"
      ]
     },
     "execution_count": 34,
     "metadata": {},
     "output_type": "execute_result"
    },
    {
     "data": {
      "image/png": "[encoded data removed]",
      "text/plain": [
       "<Figure size 1296x288 with 1 Axes>"
      ]
     },
     "metadata": {
      "needs_background": "light"
     },
     "output_type": "display_data"
    }
   ],
   "source": [
    "df['price'].plot.hist(bins=10, figsize=[18,4])"
   ]
  },
  {
   "cell_type": "markdown",
   "metadata": {},
   "source": [
    "## (extra) ¿Cuales son los factores que más afectan al precio?"
   ]
  },
  {
   "cell_type": "code",
   "execution_count": null,
   "metadata": {},
   "outputs": [],
   "source": []
  },
  {
   "cell_type": "markdown",
   "metadata": {
    "collapsed": true
   },
   "source": [
    "## Conclusiones\n",
    "\n",
    "* ¿Qué opinas de AirBnB en Madrid?"
   ]
  },
  {
   "cell_type": "code",
   "execution_count": null,
   "metadata": {},
   "outputs": [],
   "source": []
  }
 ],
 "metadata": {
  "anaconda-cloud": {},
  "kernelspec": {
   "display_name": "Python 3",
   "language": "python",
   "name": "python3"
  },
  "language_info": {
   "codemirror_mode": {
    "name": "ipython",
    "version": 3
   },
   "file_extension": ".py",
   "mimetype": "text/x-python",
   "name": "python",
   "nbconvert_exporter": "python",
   "pygments_lexer": "ipython3",
   "version": "3.7.1"
  },
  "toc": {
   "base_numbering": 1,
   "nav_menu": {},
   "number_sections": true,
   "sideBar": true,
   "skip_h1_title": false,
   "title_cell": "Table of Contents",
   "title_sidebar": "Contents",
   "toc_cell": false,
   "toc_position": {},
   "toc_section_display": true,
   "toc_window_display": false
  },
  "varInspector": {
   "cols": {
    "lenName": 16,
    "lenType": 16,
    "lenVar": 40
   },
   "kernels_config": {
    "python": {
     "delete_cmd_postfix": "",
     "delete_cmd_prefix": "del ",
     "library": "var_list.py",
     "varRefreshCmd": "print(var_dic_list())"
    },
    "r": {
     "delete_cmd_postfix": ") ",
     "delete_cmd_prefix": "rm(",
     "library": "var_list.r",
     "varRefreshCmd": "cat(var_dic_list()) "
    }
   },
   "types_to_exclude": [
    "module",
    "function",
    "builtin_function_or_method",
    "instance",
    "_Feature"
   ],
   "window_display": false
  }
 },
 "nbformat": 4,
 "nbformat_minor": 2
}

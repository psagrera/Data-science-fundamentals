{
 "cells": [
  {
   "cell_type": "markdown",
   "metadata": {},
   "source": [
    "<img src=\"mioti.png\" style=\"height: 100px\">\n",
    "<center style=\"color:#888\">Módulo Data Science in IoT<br/>Asignatura: Data preprocessing</center>\n",
    "\n",
    "# Challenge S3: Preguntas sobre AirBnB"
   ]
  },
  {
   "cell_type": "markdown",
   "metadata": {},
   "source": [
    "## Objetivos\n",
    "\n",
    "El objetivo de este challenge es reponder algunas preguntas sobre un dataset real de AirBnb."
   ]
  },
  {
   "cell_type": "markdown",
   "metadata": {},
   "source": [
    "## Configuración del entorno"
   ]
  },
  {
   "cell_type": "code",
   "execution_count": 1,
   "metadata": {
    "ExecuteTime": {
     "end_time": "2019-11-10T12:01:30.955739Z",
     "start_time": "2019-11-10T12:01:30.621113Z"
    }
   },
   "outputs": [],
   "source": [
    "%matplotlib inline\n",
    "\n",
    "import numpy as np\n",
    "import pandas as pd\n",
    "import matplotlib.pyplot as plt"
   ]
  },
  {
   "cell_type": "markdown",
   "metadata": {},
   "source": [
    "## Carga de los datos\n",
    "Como en otras ocasiones cargaremos los datos de un fichero csv."
   ]
  },
  {
   "cell_type": "code",
   "execution_count": 2,
   "metadata": {
    "ExecuteTime": {
     "end_time": "2019-11-10T12:01:31.977578Z",
     "start_time": "2019-11-10T12:01:31.329838Z"
    }
   },
   "outputs": [],
   "source": [
    "df = pd.read_csv('dataset_airbnb_madrid.csv')"
   ]
  },
  {
   "cell_type": "markdown",
   "metadata": {},
   "source": [
    "Una vez cargados los datos debemos inspeccionarlos, antes de empezar nuestro análisis."
   ]
  },
  {
   "cell_type": "code",
   "execution_count": 3,
   "metadata": {
    "ExecuteTime": {
     "end_time": "2019-11-10T12:01:32.405564Z",
     "start_time": "2019-11-10T12:01:32.341759Z"
    },
    "scrolled": true
   },
   "outputs": [
    {
     "name": "stdout",
     "output_type": "stream",
     "text": [
      "<class 'pandas.core.frame.DataFrame'>\n",
      "RangeIndex: 13335 entries, 0 to 13334\n",
      "Data columns (total 95 columns):\n",
      "id                                  13335 non-null int64\n",
      "listing_url                         13335 non-null object\n",
      "scrape_id                           13335 non-null int64\n",
      "last_scraped                        13335 non-null object\n",
      "name                                13335 non-null object\n",
      "summary                             12846 non-null object\n",
      "space                               9700 non-null object\n",
      "description                         13329 non-null object\n",
      "experiences_offered                 13335 non-null object\n",
      "neighborhood_overview               8308 non-null object\n",
      "notes                               5037 non-null object\n",
      "transit                             8264 non-null object\n",
      "access                              7546 non-null object\n",
      "interaction                         7523 non-null object\n",
      "house_rules                         8666 non-null object\n",
      "thumbnail_url                       10847 non-null object\n",
      "medium_url                          10847 non-null object\n",
      "picture_url                         13335 non-null object\n",
      "xl_picture_url                      10847 non-null object\n",
      "host_id                             13335 non-null int64\n",
      "host_url                            13335 non-null object\n",
      "host_name                           13332 non-null object\n",
      "host_since                          13332 non-null object\n",
      "host_location                       13293 non-null object\n",
      "host_about                          8282 non-null object\n",
      "host_response_time                  11622 non-null object\n",
      "host_response_rate                  11622 non-null object\n",
      "host_acceptance_rate                0 non-null float64\n",
      "host_is_superhost                   13332 non-null object\n",
      "host_thumbnail_url                  13332 non-null object\n",
      "host_picture_url                    13332 non-null object\n",
      "host_neighbourhood                  9983 non-null object\n",
      "host_listings_count                 13332 non-null float64\n",
      "host_total_listings_count           13332 non-null float64\n",
      "host_verifications                  13335 non-null object\n",
      "host_has_profile_pic                13332 non-null object\n",
      "host_identity_verified              13332 non-null object\n",
      "street                              13335 non-null object\n",
      "neighbourhood                       8772 non-null object\n",
      "neighbourhood_cleansed              13335 non-null object\n",
      "neighbourhood_group_cleansed        13335 non-null object\n",
      "city                                13333 non-null object\n",
      "state                               13292 non-null object\n",
      "zipcode                             12896 non-null object\n",
      "market                              13285 non-null object\n",
      "smart_location                      13335 non-null object\n",
      "country_code                        13335 non-null object\n",
      "country                             13334 non-null object\n",
      "latitude                            13335 non-null float64\n",
      "longitude                           13335 non-null float64\n",
      "is_location_exact                   13335 non-null object\n",
      "property_type                       13335 non-null object\n",
      "room_type                           13335 non-null object\n",
      "accommodates                        13335 non-null int64\n",
      "bathrooms                           13285 non-null float64\n",
      "bedrooms                            13312 non-null float64\n",
      "beds                                13286 non-null float64\n",
      "bed_type                            13335 non-null object\n",
      "amenities                           13335 non-null object\n",
      "square_feet                         522 non-null float64\n",
      "price                               13335 non-null object\n",
      "weekly_price                        3512 non-null object\n",
      "monthly_price                       3324 non-null object\n",
      "security_deposit                    5731 non-null object\n",
      "cleaning_fee                        7851 non-null object\n",
      "guests_included                     13335 non-null int64\n",
      "extra_people                        13335 non-null object\n",
      "minimum_nights                      13335 non-null int64\n",
      "maximum_nights                      13335 non-null int64\n",
      "calendar_updated                    13335 non-null object\n",
      "has_availability                    0 non-null float64\n",
      "availability_30                     13335 non-null int64\n",
      "availability_60                     13335 non-null int64\n",
      "availability_90                     13335 non-null int64\n",
      "availability_365                    13335 non-null int64\n",
      "calendar_last_scraped               13335 non-null object\n",
      "number_of_reviews                   13335 non-null int64\n",
      "first_review                        10542 non-null object\n",
      "last_review                         10541 non-null object\n",
      "review_scores_rating                10417 non-null float64\n",
      "review_scores_accuracy              10399 non-null float64\n",
      "review_scores_cleanliness           10405 non-null float64\n",
      "review_scores_checkin               10389 non-null float64\n",
      "review_scores_communication         10405 non-null float64\n",
      "review_scores_location              10387 non-null float64\n",
      "review_scores_value                 10387 non-null float64\n",
      "requires_license                    13335 non-null object\n",
      "license                             249 non-null object\n",
      "jurisdiction_names                  0 non-null float64\n",
      "instant_bookable                    13335 non-null object\n",
      "cancellation_policy                 13335 non-null object\n",
      "require_guest_profile_picture       13335 non-null object\n",
      "require_guest_phone_verification    13335 non-null object\n",
      "calculated_host_listings_count      13335 non-null int64\n",
      "reviews_per_month                   10542 non-null float64\n",
      "dtypes: float64(19), int64(13), object(63)\n",
      "memory usage: 9.7+ MB\n"
     ]
    }
   ],
   "source": [
    "df.info()"
   ]
  },
  {
   "cell_type": "code",
   "execution_count": 4,
   "metadata": {
    "ExecuteTime": {
     "end_time": "2019-11-10T12:02:16.303558Z",
     "start_time": "2019-11-10T12:02:16.260968Z"
    }
   },
   "outputs": [
    {
     "data": {
      "text/html": [
       "<div>\n",
       "<style scoped>\n",
       "    .dataframe tbody tr th:only-of-type {\n",
       "        vertical-align: middle;\n",
       "    }\n",
       "\n",
       "    .dataframe tbody tr th {\n",
       "        vertical-align: top;\n",
       "    }\n",
       "\n",
       "    .dataframe thead th {\n",
       "        text-align: right;\n",
       "    }\n",
       "</style>\n",
       "<table border=\"1\" class=\"dataframe\">\n",
       "  <thead>\n",
       "    <tr style=\"text-align: right;\">\n",
       "      <th></th>\n",
       "      <th>id</th>\n",
       "      <th>listing_url</th>\n",
       "      <th>scrape_id</th>\n",
       "      <th>last_scraped</th>\n",
       "      <th>name</th>\n",
       "      <th>summary</th>\n",
       "      <th>space</th>\n",
       "      <th>description</th>\n",
       "      <th>experiences_offered</th>\n",
       "      <th>neighborhood_overview</th>\n",
       "      <th>...</th>\n",
       "      <th>review_scores_value</th>\n",
       "      <th>requires_license</th>\n",
       "      <th>license</th>\n",
       "      <th>jurisdiction_names</th>\n",
       "      <th>instant_bookable</th>\n",
       "      <th>cancellation_policy</th>\n",
       "      <th>require_guest_profile_picture</th>\n",
       "      <th>require_guest_phone_verification</th>\n",
       "      <th>calculated_host_listings_count</th>\n",
       "      <th>reviews_per_month</th>\n",
       "    </tr>\n",
       "  </thead>\n",
       "  <tbody>\n",
       "    <tr>\n",
       "      <th>0</th>\n",
       "      <td>7830063</td>\n",
       "      <td>https://www.airbnb.com/rooms/7830063</td>\n",
       "      <td>20170407214119</td>\n",
       "      <td>2017-04-08</td>\n",
       "      <td>Quiet room in Plaza Mayor</td>\n",
       "      <td>Room in magnificent property in the historic c...</td>\n",
       "      <td>Based in the historic center of Madrid, to 1 m...</td>\n",
       "      <td>Room in magnificent property in the historic c...</td>\n",
       "      <td>none</td>\n",
       "      <td>In the historic heart of Madrid, near the Plaz...</td>\n",
       "      <td>...</td>\n",
       "      <td>9.0</td>\n",
       "      <td>t</td>\n",
       "      <td>NaN</td>\n",
       "      <td>NaN</td>\n",
       "      <td>t</td>\n",
       "      <td>moderate</td>\n",
       "      <td>f</td>\n",
       "      <td>f</td>\n",
       "      <td>7</td>\n",
       "      <td>5.04</td>\n",
       "    </tr>\n",
       "    <tr>\n",
       "      <th>1</th>\n",
       "      <td>9898596</td>\n",
       "      <td>https://www.airbnb.com/rooms/9898596</td>\n",
       "      <td>20170407214119</td>\n",
       "      <td>2017-04-08</td>\n",
       "      <td>Homely apartment in the heart of Madrid</td>\n",
       "      <td>Spacious apartment for up to 10 people, with a...</td>\n",
       "      <td>This spacious apartment is located in the cent...</td>\n",
       "      <td>Spacious apartment for up to 10 people, with a...</td>\n",
       "      <td>none</td>\n",
       "      <td>The Living Santa Ana Apartments are located in...</td>\n",
       "      <td>...</td>\n",
       "      <td>9.0</td>\n",
       "      <td>t</td>\n",
       "      <td>NaN</td>\n",
       "      <td>NaN</td>\n",
       "      <td>t</td>\n",
       "      <td>moderate</td>\n",
       "      <td>f</td>\n",
       "      <td>f</td>\n",
       "      <td>1</td>\n",
       "      <td>4.39</td>\n",
       "    </tr>\n",
       "    <tr>\n",
       "      <th>2</th>\n",
       "      <td>15334645</td>\n",
       "      <td>https://www.airbnb.com/rooms/15334645</td>\n",
       "      <td>20170407214119</td>\n",
       "      <td>2017-04-08</td>\n",
       "      <td>Piso Muy Luminoso en pleno centro de Madrid</td>\n",
       "      <td>Lugares de interés: Casa Lucio, Cine Doré, Cal...</td>\n",
       "      <td>Lo mejor es su ubicación en pleno centro de Ma...</td>\n",
       "      <td>Lugares de interés: Casa Lucio, Cine Doré, Cal...</td>\n",
       "      <td>none</td>\n",
       "      <td>La zona de la Latina es un área cultural y un ...</td>\n",
       "      <td>...</td>\n",
       "      <td>9.0</td>\n",
       "      <td>t</td>\n",
       "      <td>NaN</td>\n",
       "      <td>NaN</td>\n",
       "      <td>t</td>\n",
       "      <td>strict</td>\n",
       "      <td>f</td>\n",
       "      <td>f</td>\n",
       "      <td>1</td>\n",
       "      <td>5.57</td>\n",
       "    </tr>\n",
       "    <tr>\n",
       "      <th>3</th>\n",
       "      <td>1307795</td>\n",
       "      <td>https://www.airbnb.com/rooms/1307795</td>\n",
       "      <td>20170407214119</td>\n",
       "      <td>2017-04-08</td>\n",
       "      <td>Rent room in the heart of Madrid</td>\n",
       "      <td>NaN</td>\n",
       "      <td>Very nice room , whith private bath , in a bea...</td>\n",
       "      <td>Very nice room , whith private bath , in a bea...</td>\n",
       "      <td>none</td>\n",
       "      <td>NaN</td>\n",
       "      <td>...</td>\n",
       "      <td>10.0</td>\n",
       "      <td>t</td>\n",
       "      <td>NaN</td>\n",
       "      <td>NaN</td>\n",
       "      <td>f</td>\n",
       "      <td>strict</td>\n",
       "      <td>f</td>\n",
       "      <td>f</td>\n",
       "      <td>1</td>\n",
       "      <td>0.24</td>\n",
       "    </tr>\n",
       "    <tr>\n",
       "      <th>4</th>\n",
       "      <td>17410608</td>\n",
       "      <td>https://www.airbnb.com/rooms/17410608</td>\n",
       "      <td>20170407214119</td>\n",
       "      <td>2017-04-08</td>\n",
       "      <td>Luxury duplex penthouse in historic building</td>\n",
       "      <td>Amazing duplex penthouse in a historic buildin...</td>\n",
       "      <td>It is located in an emblematic building with e...</td>\n",
       "      <td>Amazing duplex penthouse in a historic buildin...</td>\n",
       "      <td>none</td>\n",
       "      <td>\"Madrid de los Austrias \"is a beautiful neighb...</td>\n",
       "      <td>...</td>\n",
       "      <td>10.0</td>\n",
       "      <td>t</td>\n",
       "      <td>NaN</td>\n",
       "      <td>NaN</td>\n",
       "      <td>f</td>\n",
       "      <td>strict</td>\n",
       "      <td>f</td>\n",
       "      <td>f</td>\n",
       "      <td>13</td>\n",
       "      <td>4.29</td>\n",
       "    </tr>\n",
       "  </tbody>\n",
       "</table>\n",
       "<p>5 rows × 95 columns</p>\n",
       "</div>"
      ],
      "text/plain": [
       "         id                            listing_url       scrape_id  \\\n",
       "0   7830063   https://www.airbnb.com/rooms/7830063  20170407214119   \n",
       "1   9898596   https://www.airbnb.com/rooms/9898596  20170407214119   \n",
       "2  15334645  https://www.airbnb.com/rooms/15334645  20170407214119   \n",
       "3   1307795   https://www.airbnb.com/rooms/1307795  20170407214119   \n",
       "4  17410608  https://www.airbnb.com/rooms/17410608  20170407214119   \n",
       "\n",
       "  last_scraped                                          name  \\\n",
       "0   2017-04-08                     Quiet room in Plaza Mayor   \n",
       "1   2017-04-08       Homely apartment in the heart of Madrid   \n",
       "2   2017-04-08   Piso Muy Luminoso en pleno centro de Madrid   \n",
       "3   2017-04-08              Rent room in the heart of Madrid   \n",
       "4   2017-04-08  Luxury duplex penthouse in historic building   \n",
       "\n",
       "                                             summary  \\\n",
       "0  Room in magnificent property in the historic c...   \n",
       "1  Spacious apartment for up to 10 people, with a...   \n",
       "2  Lugares de interés: Casa Lucio, Cine Doré, Cal...   \n",
       "3                                                NaN   \n",
       "4  Amazing duplex penthouse in a historic buildin...   \n",
       "\n",
       "                                               space  \\\n",
       "0  Based in the historic center of Madrid, to 1 m...   \n",
       "1  This spacious apartment is located in the cent...   \n",
       "2  Lo mejor es su ubicación en pleno centro de Ma...   \n",
       "3  Very nice room , whith private bath , in a bea...   \n",
       "4  It is located in an emblematic building with e...   \n",
       "\n",
       "                                         description experiences_offered  \\\n",
       "0  Room in magnificent property in the historic c...                none   \n",
       "1  Spacious apartment for up to 10 people, with a...                none   \n",
       "2  Lugares de interés: Casa Lucio, Cine Doré, Cal...                none   \n",
       "3  Very nice room , whith private bath , in a bea...                none   \n",
       "4  Amazing duplex penthouse in a historic buildin...                none   \n",
       "\n",
       "                               neighborhood_overview  ... review_scores_value  \\\n",
       "0  In the historic heart of Madrid, near the Plaz...  ...                 9.0   \n",
       "1  The Living Santa Ana Apartments are located in...  ...                 9.0   \n",
       "2  La zona de la Latina es un área cultural y un ...  ...                 9.0   \n",
       "3                                                NaN  ...                10.0   \n",
       "4  \"Madrid de los Austrias \"is a beautiful neighb...  ...                10.0   \n",
       "\n",
       "  requires_license license jurisdiction_names instant_bookable  \\\n",
       "0                t     NaN                NaN                t   \n",
       "1                t     NaN                NaN                t   \n",
       "2                t     NaN                NaN                t   \n",
       "3                t     NaN                NaN                f   \n",
       "4                t     NaN                NaN                f   \n",
       "\n",
       "  cancellation_policy require_guest_profile_picture  \\\n",
       "0            moderate                             f   \n",
       "1            moderate                             f   \n",
       "2              strict                             f   \n",
       "3              strict                             f   \n",
       "4              strict                             f   \n",
       "\n",
       "  require_guest_phone_verification calculated_host_listings_count  \\\n",
       "0                                f                              7   \n",
       "1                                f                              1   \n",
       "2                                f                              1   \n",
       "3                                f                              1   \n",
       "4                                f                             13   \n",
       "\n",
       "   reviews_per_month  \n",
       "0               5.04  \n",
       "1               4.39  \n",
       "2               5.57  \n",
       "3               0.24  \n",
       "4               4.29  \n",
       "\n",
       "[5 rows x 95 columns]"
      ]
     },
     "execution_count": 4,
     "metadata": {},
     "output_type": "execute_result"
    }
   ],
   "source": [
    "df.head()"
   ]
  },
  {
   "cell_type": "markdown",
   "metadata": {},
   "source": [
    "## ¿Cuántos alojamientos tienen fotos?"
   ]
  },
  {
   "cell_type": "code",
   "execution_count": null,
   "metadata": {
    "collapsed": true
   },
   "outputs": [],
   "source": []
  },
  {
   "cell_type": "markdown",
   "metadata": {},
   "source": [
    "## ¿Cuál es el porcentaje de originalidad de las descripciones?."
   ]
  },
  {
   "cell_type": "code",
   "execution_count": null,
   "metadata": {
    "collapsed": true
   },
   "outputs": [],
   "source": []
  },
  {
   "cell_type": "markdown",
   "metadata": {},
   "source": [
    "## ¿Cuántos alojamientos tiene de media cada dueño?"
   ]
  },
  {
   "cell_type": "code",
   "execution_count": null,
   "metadata": {
    "collapsed": true
   },
   "outputs": [],
   "source": []
  },
  {
   "cell_type": "markdown",
   "metadata": {},
   "source": [
    "## ¿Cuáles son los 10 dueños que más alojamientos tienen?"
   ]
  },
  {
   "cell_type": "code",
   "execution_count": null,
   "metadata": {
    "collapsed": true
   },
   "outputs": [],
   "source": []
  },
  {
   "cell_type": "markdown",
   "metadata": {},
   "source": [
    "## ¿Cuántos alojamientos tiene Airbnb en Madrid?\n",
    "Tip: te recomiento que borres todos los alojamientos que no estén en Madrid y luego los cuentes."
   ]
  },
  {
   "cell_type": "code",
   "execution_count": null,
   "metadata": {
    "collapsed": true
   },
   "outputs": [],
   "source": []
  },
  {
   "cell_type": "markdown",
   "metadata": {},
   "source": [
    "## ¿Cuántos alojamientos requieren licencia?"
   ]
  },
  {
   "cell_type": "code",
   "execution_count": null,
   "metadata": {
    "collapsed": true
   },
   "outputs": [],
   "source": []
  },
  {
   "cell_type": "markdown",
   "metadata": {},
   "source": [
    "## ¿Cuántos alojamientos que requieren licencia realmente la tienen?"
   ]
  },
  {
   "cell_type": "code",
   "execution_count": null,
   "metadata": {
    "collapsed": true
   },
   "outputs": [],
   "source": []
  },
  {
   "cell_type": "markdown",
   "metadata": {},
   "source": [
    "## ¿Cuántos alojamientos que requieren licencia realmente no la tienen?"
   ]
  },
  {
   "cell_type": "code",
   "execution_count": null,
   "metadata": {
    "collapsed": true
   },
   "outputs": [],
   "source": []
  },
  {
   "cell_type": "markdown",
   "metadata": {},
   "source": [
    "## ¿Cual es el código postal con precio medio más caro de madrid?\n",
    "Tip: excluye zipcodes atípicos"
   ]
  },
  {
   "cell_type": "code",
   "execution_count": null,
   "metadata": {
    "collapsed": true
   },
   "outputs": [],
   "source": []
  },
  {
   "cell_type": "markdown",
   "metadata": {},
   "source": [
    "## ¿En que rango se mueven los precios de los alojamientos en madrid?"
   ]
  },
  {
   "cell_type": "code",
   "execution_count": null,
   "metadata": {
    "collapsed": true
   },
   "outputs": [],
   "source": []
  },
  {
   "cell_type": "markdown",
   "metadata": {},
   "source": [
    "## (extra) ¿Cuales son los factores que más afectan al precio?"
   ]
  },
  {
   "cell_type": "code",
   "execution_count": null,
   "metadata": {
    "collapsed": true
   },
   "outputs": [],
   "source": []
  },
  {
   "cell_type": "markdown",
   "metadata": {},
   "source": [
    "## Conclusiones\n",
    "\n",
    "* ¿Qué opinas de AirBnB en Madrid?"
   ]
  },
  {
   "cell_type": "code",
   "execution_count": null,
   "metadata": {
    "collapsed": true
   },
   "outputs": [],
   "source": []
  }
 ],
 "metadata": {
  "anaconda-cloud": {},
  "kernelspec": {
   "display_name": "Python 3",
   "language": "python",
   "name": "python3"
  },
  "language_info": {
   "codemirror_mode": {
    "name": "ipython",
    "version": 3
   },
   "file_extension": ".py",
   "mimetype": "text/x-python",
   "name": "python",
   "nbconvert_exporter": "python",
   "pygments_lexer": "ipython3",
   "version": "3.7.1"
  },
  "toc": {
   "base_numbering": 1,
   "nav_menu": {},
   "number_sections": true,
   "sideBar": true,
   "skip_h1_title": false,
   "title_cell": "Table of Contents",
   "title_sidebar": "Contents",
   "toc_cell": false,
   "toc_position": {},
   "toc_section_display": true,
   "toc_window_display": false
  }
 },
 "nbformat": 4,
 "nbformat_minor": 2
}

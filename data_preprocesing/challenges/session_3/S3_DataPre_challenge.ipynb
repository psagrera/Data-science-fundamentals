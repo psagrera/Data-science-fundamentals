{
 "cells": [
  {
   "cell_type": "markdown",
   "metadata": {},
   "source": [
    "<img src=\"mioti.png\" style=\"height: 100px\">\n",
    "<center style=\"color:#888\">Módulo Data Science in IoT<br/>Asignatura: Data preprocessing</center>\n",
    "# Challenge S3: Preguntas sobre AirBnB"
   ]
  },
  {
   "cell_type": "markdown",
   "metadata": {},
   "source": [
    "## Objetivos\n",
    "\n",
    "El objetivo de este challenge es reponder algunas preguntas sobre un dataset real de AirBnb."
   ]
  },
  {
   "cell_type": "markdown",
   "metadata": {},
   "source": [
    "## Configuración del entorno"
   ]
  },
  {
   "cell_type": "code",
   "execution_count": 1,
   "metadata": {
    "ExecuteTime": {
     "end_time": "2019-11-10T12:01:30.955739Z",
     "start_time": "2019-11-10T12:01:30.621113Z"
    }
   },
   "outputs": [],
   "source": [
    "%matplotlib inline\n",
    "\n",
    "import numpy as np\n",
    "import pandas as pd\n",
    "import matplotlib.pyplot as plt"
   ]
  },
  {
   "cell_type": "markdown",
   "metadata": {},
   "source": [
    "## Carga de los datos\n",
    "Como en otras ocasiones cargaremos los datos de un fichero csv."
   ]
  },
  {
   "cell_type": "code",
   "execution_count": 2,
   "metadata": {
    "ExecuteTime": {
     "end_time": "2019-11-10T12:01:31.977578Z",
     "start_time": "2019-11-10T12:01:31.329838Z"
    }
   },
   "outputs": [],
   "source": [
    "df = pd.read_csv('dataset_airbnb_madrid.csv')"
   ]
  },
  {
   "cell_type": "markdown",
   "metadata": {},
   "source": [
    "Una vez cargados los datos debemos inspeccionarlos, antes de empezar nuestro análisis."
   ]
  },
  {
   "cell_type": "code",
   "execution_count": 3,
   "metadata": {
    "ExecuteTime": {
     "end_time": "2019-11-10T12:01:32.405564Z",
     "start_time": "2019-11-10T12:01:32.341759Z"
    },
    "scrolled": true
   },
   "outputs": [
    {
     "name": "stdout",
     "output_type": "stream",
     "text": [
      "<class 'pandas.core.frame.DataFrame'>\n",
      "RangeIndex: 13335 entries, 0 to 13334\n",
      "Data columns (total 95 columns):\n",
      "id                                  13335 non-null int64\n",
      "listing_url                         13335 non-null object\n",
      "scrape_id                           13335 non-null int64\n",
      "last_scraped                        13335 non-null object\n",
      "name                                13335 non-null object\n",
      "summary                             12846 non-null object\n",
      "space                               9700 non-null object\n",
      "description                         13329 non-null object\n",
      "experiences_offered                 13335 non-null object\n",
      "neighborhood_overview               8308 non-null object\n",
      "notes                               5037 non-null object\n",
      "transit                             8264 non-null object\n",
      "access                              7546 non-null object\n",
      "interaction                         7523 non-null object\n",
      "house_rules                         8666 non-null object\n",
      "thumbnail_url                       10847 non-null object\n",
      "medium_url                          10847 non-null object\n",
      "picture_url                         13335 non-null object\n",
      "xl_picture_url                      10847 non-null object\n",
      "host_id                             13335 non-null int64\n",
      "host_url                            13335 non-null object\n",
      "host_name                           13332 non-null object\n",
      "host_since                          13332 non-null object\n",
      "host_location                       13293 non-null object\n",
      "host_about                          8282 non-null object\n",
      "host_response_time                  11622 non-null object\n",
      "host_response_rate                  11622 non-null object\n",
      "host_acceptance_rate                0 non-null float64\n",
      "host_is_superhost                   13332 non-null object\n",
      "host_thumbnail_url                  13332 non-null object\n",
      "host_picture_url                    13332 non-null object\n",
      "host_neighbourhood                  9983 non-null object\n",
      "host_listings_count                 13332 non-null float64\n",
      "host_total_listings_count           13332 non-null float64\n",
      "host_verifications                  13335 non-null object\n",
      "host_has_profile_pic                13332 non-null object\n",
      "host_identity_verified              13332 non-null object\n",
      "street                              13335 non-null object\n",
      "neighbourhood                       8772 non-null object\n",
      "neighbourhood_cleansed              13335 non-null object\n",
      "neighbourhood_group_cleansed        13335 non-null object\n",
      "city                                13333 non-null object\n",
      "state                               13292 non-null object\n",
      "zipcode                             12896 non-null object\n",
      "market                              13285 non-null object\n",
      "smart_location                      13335 non-null object\n",
      "country_code                        13335 non-null object\n",
      "country                             13334 non-null object\n",
      "latitude                            13335 non-null float64\n",
      "longitude                           13335 non-null float64\n",
      "is_location_exact                   13335 non-null object\n",
      "property_type                       13335 non-null object\n",
      "room_type                           13335 non-null object\n",
      "accommodates                        13335 non-null int64\n",
      "bathrooms                           13285 non-null float64\n",
      "bedrooms                            13312 non-null float64\n",
      "beds                                13286 non-null float64\n",
      "bed_type                            13335 non-null object\n",
      "amenities                           13335 non-null object\n",
      "square_feet                         522 non-null float64\n",
      "price                               13335 non-null object\n",
      "weekly_price                        3512 non-null object\n",
      "monthly_price                       3324 non-null object\n",
      "security_deposit                    5731 non-null object\n",
      "cleaning_fee                        7851 non-null object\n",
      "guests_included                     13335 non-null int64\n",
      "extra_people                        13335 non-null object\n",
      "minimum_nights                      13335 non-null int64\n",
      "maximum_nights                      13335 non-null int64\n",
      "calendar_updated                    13335 non-null object\n",
      "has_availability                    0 non-null float64\n",
      "availability_30                     13335 non-null int64\n",
      "availability_60                     13335 non-null int64\n",
      "availability_90                     13335 non-null int64\n",
      "availability_365                    13335 non-null int64\n",
      "calendar_last_scraped               13335 non-null object\n",
      "number_of_reviews                   13335 non-null int64\n",
      "first_review                        10542 non-null object\n",
      "last_review                         10541 non-null object\n",
      "review_scores_rating                10417 non-null float64\n",
      "review_scores_accuracy              10399 non-null float64\n",
      "review_scores_cleanliness           10405 non-null float64\n",
      "review_scores_checkin               10389 non-null float64\n",
      "review_scores_communication         10405 non-null float64\n",
      "review_scores_location              10387 non-null float64\n",
      "review_scores_value                 10387 non-null float64\n",
      "requires_license                    13335 non-null object\n",
      "license                             249 non-null object\n",
      "jurisdiction_names                  0 non-null float64\n",
      "instant_bookable                    13335 non-null object\n",
      "cancellation_policy                 13335 non-null object\n",
      "require_guest_profile_picture       13335 non-null object\n",
      "require_guest_phone_verification    13335 non-null object\n",
      "calculated_host_listings_count      13335 non-null int64\n",
      "reviews_per_month                   10542 non-null float64\n",
      "dtypes: float64(19), int64(13), object(63)\n",
      "memory usage: 9.7+ MB\n"
     ]
    }
   ],
   "source": [
    "df.info()"
   ]
  },
  {
   "cell_type": "code",
   "execution_count": 4,
   "metadata": {
    "ExecuteTime": {
     "end_time": "2019-11-10T12:02:16.303558Z",
     "start_time": "2019-11-10T12:02:16.260968Z"
    }
   },
   "outputs": [
    {
     "data": {
      "text/html": [
       "<div>\n",
       "<style scoped>\n",
       "    .dataframe tbody tr th:only-of-type {\n",
       "        vertical-align: middle;\n",
       "    }\n",
       "\n",
       "    .dataframe tbody tr th {\n",
       "        vertical-align: top;\n",
       "    }\n",
       "\n",
       "    .dataframe thead th {\n",
       "        text-align: right;\n",
       "    }\n",
       "</style>\n",
       "<table border=\"1\" class=\"dataframe\">\n",
       "  <thead>\n",
       "    <tr style=\"text-align: right;\">\n",
       "      <th></th>\n",
       "      <th>id</th>\n",
       "      <th>listing_url</th>\n",
       "      <th>scrape_id</th>\n",
       "      <th>last_scraped</th>\n",
       "      <th>name</th>\n",
       "      <th>summary</th>\n",
       "      <th>space</th>\n",
       "      <th>description</th>\n",
       "      <th>experiences_offered</th>\n",
       "      <th>neighborhood_overview</th>\n",
       "      <th>...</th>\n",
       "      <th>review_scores_value</th>\n",
       "      <th>requires_license</th>\n",
       "      <th>license</th>\n",
       "      <th>jurisdiction_names</th>\n",
       "      <th>instant_bookable</th>\n",
       "      <th>cancellation_policy</th>\n",
       "      <th>require_guest_profile_picture</th>\n",
       "      <th>require_guest_phone_verification</th>\n",
       "      <th>calculated_host_listings_count</th>\n",
       "      <th>reviews_per_month</th>\n",
       "    </tr>\n",
       "  </thead>\n",
       "  <tbody>\n",
       "    <tr>\n",
       "      <td>0</td>\n",
       "      <td>7830063</td>\n",
       "      <td>https://www.airbnb.com/rooms/7830063</td>\n",
       "      <td>20170407214119</td>\n",
       "      <td>2017-04-08</td>\n",
       "      <td>Quiet room in Plaza Mayor</td>\n",
       "      <td>Room in magnificent property in the historic c...</td>\n",
       "      <td>Based in the historic center of Madrid, to 1 m...</td>\n",
       "      <td>Room in magnificent property in the historic c...</td>\n",
       "      <td>none</td>\n",
       "      <td>In the historic heart of Madrid, near the Plaz...</td>\n",
       "      <td>...</td>\n",
       "      <td>9.0</td>\n",
       "      <td>t</td>\n",
       "      <td>NaN</td>\n",
       "      <td>NaN</td>\n",
       "      <td>t</td>\n",
       "      <td>moderate</td>\n",
       "      <td>f</td>\n",
       "      <td>f</td>\n",
       "      <td>7</td>\n",
       "      <td>5.04</td>\n",
       "    </tr>\n",
       "    <tr>\n",
       "      <td>1</td>\n",
       "      <td>9898596</td>\n",
       "      <td>https://www.airbnb.com/rooms/9898596</td>\n",
       "      <td>20170407214119</td>\n",
       "      <td>2017-04-08</td>\n",
       "      <td>Homely apartment in the heart of Madrid</td>\n",
       "      <td>Spacious apartment for up to 10 people, with a...</td>\n",
       "      <td>This spacious apartment is located in the cent...</td>\n",
       "      <td>Spacious apartment for up to 10 people, with a...</td>\n",
       "      <td>none</td>\n",
       "      <td>The Living Santa Ana Apartments are located in...</td>\n",
       "      <td>...</td>\n",
       "      <td>9.0</td>\n",
       "      <td>t</td>\n",
       "      <td>NaN</td>\n",
       "      <td>NaN</td>\n",
       "      <td>t</td>\n",
       "      <td>moderate</td>\n",
       "      <td>f</td>\n",
       "      <td>f</td>\n",
       "      <td>1</td>\n",
       "      <td>4.39</td>\n",
       "    </tr>\n",
       "    <tr>\n",
       "      <td>2</td>\n",
       "      <td>15334645</td>\n",
       "      <td>https://www.airbnb.com/rooms/15334645</td>\n",
       "      <td>20170407214119</td>\n",
       "      <td>2017-04-08</td>\n",
       "      <td>Piso Muy Luminoso en pleno centro de Madrid</td>\n",
       "      <td>Lugares de interés: Casa Lucio, Cine Doré, Cal...</td>\n",
       "      <td>Lo mejor es su ubicación en pleno centro de Ma...</td>\n",
       "      <td>Lugares de interés: Casa Lucio, Cine Doré, Cal...</td>\n",
       "      <td>none</td>\n",
       "      <td>La zona de la Latina es un área cultural y un ...</td>\n",
       "      <td>...</td>\n",
       "      <td>9.0</td>\n",
       "      <td>t</td>\n",
       "      <td>NaN</td>\n",
       "      <td>NaN</td>\n",
       "      <td>t</td>\n",
       "      <td>strict</td>\n",
       "      <td>f</td>\n",
       "      <td>f</td>\n",
       "      <td>1</td>\n",
       "      <td>5.57</td>\n",
       "    </tr>\n",
       "    <tr>\n",
       "      <td>3</td>\n",
       "      <td>1307795</td>\n",
       "      <td>https://www.airbnb.com/rooms/1307795</td>\n",
       "      <td>20170407214119</td>\n",
       "      <td>2017-04-08</td>\n",
       "      <td>Rent room in the heart of Madrid</td>\n",
       "      <td>NaN</td>\n",
       "      <td>Very nice room , whith private bath , in a bea...</td>\n",
       "      <td>Very nice room , whith private bath , in a bea...</td>\n",
       "      <td>none</td>\n",
       "      <td>NaN</td>\n",
       "      <td>...</td>\n",
       "      <td>10.0</td>\n",
       "      <td>t</td>\n",
       "      <td>NaN</td>\n",
       "      <td>NaN</td>\n",
       "      <td>f</td>\n",
       "      <td>strict</td>\n",
       "      <td>f</td>\n",
       "      <td>f</td>\n",
       "      <td>1</td>\n",
       "      <td>0.24</td>\n",
       "    </tr>\n",
       "    <tr>\n",
       "      <td>4</td>\n",
       "      <td>17410608</td>\n",
       "      <td>https://www.airbnb.com/rooms/17410608</td>\n",
       "      <td>20170407214119</td>\n",
       "      <td>2017-04-08</td>\n",
       "      <td>Luxury duplex penthouse in historic building</td>\n",
       "      <td>Amazing duplex penthouse in a historic buildin...</td>\n",
       "      <td>It is located in an emblematic building with e...</td>\n",
       "      <td>Amazing duplex penthouse in a historic buildin...</td>\n",
       "      <td>none</td>\n",
       "      <td>\"Madrid de los Austrias \"is a beautiful neighb...</td>\n",
       "      <td>...</td>\n",
       "      <td>10.0</td>\n",
       "      <td>t</td>\n",
       "      <td>NaN</td>\n",
       "      <td>NaN</td>\n",
       "      <td>f</td>\n",
       "      <td>strict</td>\n",
       "      <td>f</td>\n",
       "      <td>f</td>\n",
       "      <td>13</td>\n",
       "      <td>4.29</td>\n",
       "    </tr>\n",
       "  </tbody>\n",
       "</table>\n",
       "<p>5 rows × 95 columns</p>\n",
       "</div>"
      ],
      "text/plain": [
       "         id                            listing_url       scrape_id  \\\n",
       "0   7830063   https://www.airbnb.com/rooms/7830063  20170407214119   \n",
       "1   9898596   https://www.airbnb.com/rooms/9898596  20170407214119   \n",
       "2  15334645  https://www.airbnb.com/rooms/15334645  20170407214119   \n",
       "3   1307795   https://www.airbnb.com/rooms/1307795  20170407214119   \n",
       "4  17410608  https://www.airbnb.com/rooms/17410608  20170407214119   \n",
       "\n",
       "  last_scraped                                          name  \\\n",
       "0   2017-04-08                     Quiet room in Plaza Mayor   \n",
       "1   2017-04-08       Homely apartment in the heart of Madrid   \n",
       "2   2017-04-08   Piso Muy Luminoso en pleno centro de Madrid   \n",
       "3   2017-04-08              Rent room in the heart of Madrid   \n",
       "4   2017-04-08  Luxury duplex penthouse in historic building   \n",
       "\n",
       "                                             summary  \\\n",
       "0  Room in magnificent property in the historic c...   \n",
       "1  Spacious apartment for up to 10 people, with a...   \n",
       "2  Lugares de interés: Casa Lucio, Cine Doré, Cal...   \n",
       "3                                                NaN   \n",
       "4  Amazing duplex penthouse in a historic buildin...   \n",
       "\n",
       "                                               space  \\\n",
       "0  Based in the historic center of Madrid, to 1 m...   \n",
       "1  This spacious apartment is located in the cent...   \n",
       "2  Lo mejor es su ubicación en pleno centro de Ma...   \n",
       "3  Very nice room , whith private bath , in a bea...   \n",
       "4  It is located in an emblematic building with e...   \n",
       "\n",
       "                                         description experiences_offered  \\\n",
       "0  Room in magnificent property in the historic c...                none   \n",
       "1  Spacious apartment for up to 10 people, with a...                none   \n",
       "2  Lugares de interés: Casa Lucio, Cine Doré, Cal...                none   \n",
       "3  Very nice room , whith private bath , in a bea...                none   \n",
       "4  Amazing duplex penthouse in a historic buildin...                none   \n",
       "\n",
       "                               neighborhood_overview  ... review_scores_value  \\\n",
       "0  In the historic heart of Madrid, near the Plaz...  ...                 9.0   \n",
       "1  The Living Santa Ana Apartments are located in...  ...                 9.0   \n",
       "2  La zona de la Latina es un área cultural y un ...  ...                 9.0   \n",
       "3                                                NaN  ...                10.0   \n",
       "4  \"Madrid de los Austrias \"is a beautiful neighb...  ...                10.0   \n",
       "\n",
       "  requires_license license jurisdiction_names instant_bookable  \\\n",
       "0                t     NaN                NaN                t   \n",
       "1                t     NaN                NaN                t   \n",
       "2                t     NaN                NaN                t   \n",
       "3                t     NaN                NaN                f   \n",
       "4                t     NaN                NaN                f   \n",
       "\n",
       "  cancellation_policy require_guest_profile_picture  \\\n",
       "0            moderate                             f   \n",
       "1            moderate                             f   \n",
       "2              strict                             f   \n",
       "3              strict                             f   \n",
       "4              strict                             f   \n",
       "\n",
       "  require_guest_phone_verification calculated_host_listings_count  \\\n",
       "0                                f                              7   \n",
       "1                                f                              1   \n",
       "2                                f                              1   \n",
       "3                                f                              1   \n",
       "4                                f                             13   \n",
       "\n",
       "   reviews_per_month  \n",
       "0               5.04  \n",
       "1               4.39  \n",
       "2               5.57  \n",
       "3               0.24  \n",
       "4               4.29  \n",
       "\n",
       "[5 rows x 95 columns]"
      ]
     },
     "execution_count": 4,
     "metadata": {},
     "output_type": "execute_result"
    }
   ],
   "source": [
    "df.head()"
   ]
  },
  {
   "cell_type": "markdown",
   "metadata": {},
   "source": [
    "## ¿Cuántos alojamientos tienen fotos?"
   ]
  },
  {
   "cell_type": "code",
   "execution_count": 48,
   "metadata": {},
   "outputs": [
    {
     "data": {
      "text/plain": [
       "False    13327\n",
       "True         3\n",
       "Name: host_picture_url, dtype: int64"
      ]
     },
     "execution_count": 48,
     "metadata": {},
     "output_type": "execute_result"
    }
   ],
   "source": [
    "df.host_picture_url.isnull().value_counts()"
   ]
  },
  {
   "cell_type": "markdown",
   "metadata": {},
   "source": [
    "## ¿Cuál es el porcentaje de originalidad de las descripciones?."
   ]
  },
  {
   "cell_type": "code",
   "execution_count": 6,
   "metadata": {},
   "outputs": [
    {
     "data": {
      "text/plain": [
       "97.08"
      ]
     },
     "execution_count": 6,
     "metadata": {},
     "output_type": "execute_result"
    }
   ],
   "source": [
    "originales = len(df['name'].unique())\n",
    "\n",
    "total = len(df.index)\n",
    "\n",
    "round(originales*100/total,2)\n"
   ]
  },
  {
   "cell_type": "markdown",
   "metadata": {},
   "source": [
    "## ¿Cuántos alojamientos tiene de media cada dueño?"
   ]
  },
  {
   "cell_type": "code",
   "execution_count": 7,
   "metadata": {},
   "outputs": [
    {
     "data": {
      "text/html": [
       "<div>\n",
       "<style scoped>\n",
       "    .dataframe tbody tr th:only-of-type {\n",
       "        vertical-align: middle;\n",
       "    }\n",
       "\n",
       "    .dataframe tbody tr th {\n",
       "        vertical-align: top;\n",
       "    }\n",
       "\n",
       "    .dataframe thead th {\n",
       "        text-align: right;\n",
       "    }\n",
       "</style>\n",
       "<table border=\"1\" class=\"dataframe\">\n",
       "  <thead>\n",
       "    <tr style=\"text-align: right;\">\n",
       "      <th></th>\n",
       "      <th>host_listings_count</th>\n",
       "    </tr>\n",
       "    <tr>\n",
       "      <th>host_id</th>\n",
       "      <th></th>\n",
       "    </tr>\n",
       "  </thead>\n",
       "  <tbody>\n",
       "    <tr>\n",
       "      <td>17453</td>\n",
       "      <td>1.0</td>\n",
       "    </tr>\n",
       "    <tr>\n",
       "      <td>19854</td>\n",
       "      <td>4.0</td>\n",
       "    </tr>\n",
       "    <tr>\n",
       "      <td>31622</td>\n",
       "      <td>1.0</td>\n",
       "    </tr>\n",
       "    <tr>\n",
       "      <td>53526</td>\n",
       "      <td>3.0</td>\n",
       "    </tr>\n",
       "    <tr>\n",
       "      <td>70273</td>\n",
       "      <td>3.0</td>\n",
       "    </tr>\n",
       "    <tr>\n",
       "      <td>...</td>\n",
       "      <td>...</td>\n",
       "    </tr>\n",
       "    <tr>\n",
       "      <td>124713283</td>\n",
       "      <td>1.0</td>\n",
       "    </tr>\n",
       "    <tr>\n",
       "      <td>124717208</td>\n",
       "      <td>1.0</td>\n",
       "    </tr>\n",
       "    <tr>\n",
       "      <td>124730023</td>\n",
       "      <td>1.0</td>\n",
       "    </tr>\n",
       "    <tr>\n",
       "      <td>124738790</td>\n",
       "      <td>1.0</td>\n",
       "    </tr>\n",
       "    <tr>\n",
       "      <td>124753355</td>\n",
       "      <td>1.0</td>\n",
       "    </tr>\n",
       "  </tbody>\n",
       "</table>\n",
       "<p>8184 rows × 1 columns</p>\n",
       "</div>"
      ],
      "text/plain": [
       "           host_listings_count\n",
       "host_id                       \n",
       "17453                      1.0\n",
       "19854                      4.0\n",
       "31622                      1.0\n",
       "53526                      3.0\n",
       "70273                      3.0\n",
       "...                        ...\n",
       "124713283                  1.0\n",
       "124717208                  1.0\n",
       "124730023                  1.0\n",
       "124738790                  1.0\n",
       "124753355                  1.0\n",
       "\n",
       "[8184 rows x 1 columns]"
      ]
     },
     "execution_count": 7,
     "metadata": {},
     "output_type": "execute_result"
    }
   ],
   "source": [
    "df1 = df.groupby('host_id').agg({'host_listings_count': 'mean'})\n",
    "df1 = df1.dropna()\n",
    "df1"
   ]
  },
  {
   "cell_type": "markdown",
   "metadata": {},
   "source": [
    "## ¿Cuáles son los 10 dueños que más alojamientos tienen?"
   ]
  },
  {
   "cell_type": "code",
   "execution_count": 8,
   "metadata": {},
   "outputs": [
    {
     "data": {
      "text/html": [
       "<div>\n",
       "<style scoped>\n",
       "    .dataframe tbody tr th:only-of-type {\n",
       "        vertical-align: middle;\n",
       "    }\n",
       "\n",
       "    .dataframe tbody tr th {\n",
       "        vertical-align: top;\n",
       "    }\n",
       "\n",
       "    .dataframe thead th {\n",
       "        text-align: right;\n",
       "    }\n",
       "</style>\n",
       "<table border=\"1\" class=\"dataframe\">\n",
       "  <thead>\n",
       "    <tr style=\"text-align: right;\">\n",
       "      <th></th>\n",
       "      <th>host_listings_count</th>\n",
       "    </tr>\n",
       "    <tr>\n",
       "      <th>host_id</th>\n",
       "      <th></th>\n",
       "    </tr>\n",
       "  </thead>\n",
       "  <tbody>\n",
       "    <tr>\n",
       "      <td>21514948</td>\n",
       "      <td>145</td>\n",
       "    </tr>\n",
       "    <tr>\n",
       "      <td>15258781</td>\n",
       "      <td>97</td>\n",
       "    </tr>\n",
       "    <tr>\n",
       "      <td>3566146</td>\n",
       "      <td>77</td>\n",
       "    </tr>\n",
       "    <tr>\n",
       "      <td>54310958</td>\n",
       "      <td>67</td>\n",
       "    </tr>\n",
       "    <tr>\n",
       "      <td>1408525</td>\n",
       "      <td>51</td>\n",
       "    </tr>\n",
       "    <tr>\n",
       "      <td>27526991</td>\n",
       "      <td>48</td>\n",
       "    </tr>\n",
       "    <tr>\n",
       "      <td>5542111</td>\n",
       "      <td>46</td>\n",
       "    </tr>\n",
       "    <tr>\n",
       "      <td>21485458</td>\n",
       "      <td>44</td>\n",
       "    </tr>\n",
       "    <tr>\n",
       "      <td>1650712</td>\n",
       "      <td>40</td>\n",
       "    </tr>\n",
       "    <tr>\n",
       "      <td>32046323</td>\n",
       "      <td>39</td>\n",
       "    </tr>\n",
       "  </tbody>\n",
       "</table>\n",
       "</div>"
      ],
      "text/plain": [
       "          host_listings_count\n",
       "host_id                      \n",
       "21514948                  145\n",
       "15258781                   97\n",
       "3566146                    77\n",
       "54310958                   67\n",
       "1408525                    51\n",
       "27526991                   48\n",
       "5542111                    46\n",
       "21485458                   44\n",
       "1650712                    40\n",
       "32046323                   39"
      ]
     },
     "execution_count": 8,
     "metadata": {},
     "output_type": "execute_result"
    }
   ],
   "source": [
    "df2 = df.groupby('host_id').agg({'host_listings_count': 'count'})\n",
    "df2.sort_values(by='host_listings_count',ascending=False).head(10)\n"
   ]
  },
  {
   "cell_type": "markdown",
   "metadata": {},
   "source": [
    "## ¿Cuántos alojamientos tiene Airbnb en Madrid?\n",
    "Tip: te recomiento que borres todos los alojamientos que no estén en Madrid y luego los cuentes."
   ]
  },
  {
   "cell_type": "code",
   "execution_count": 9,
   "metadata": {},
   "outputs": [
    {
     "data": {
      "text/plain": [
       "True     12868\n",
       "False      462\n",
       "Name: zipcode, dtype: int64"
      ]
     },
     "execution_count": 9,
     "metadata": {},
     "output_type": "execute_result"
    }
   ],
   "source": [
    "# Remove all zipcodes > 5\n",
    "indexNames = df[ df['zipcode'].str.len() > 5 ].index\n",
    "indexNames\n",
    "df.drop(indexNames , inplace=True)\n",
    "# Generate a regex to select only those which matches with madrid zipcode (28XXX)\n",
    "zipcode_madrid = df['zipcode'].str.match('^28\\d{3}',na=False)\n",
    "# Count \n",
    "zipcode_madrid.value_counts()\n",
    "# En Madrid hay 12868 Alojamientos\n"
   ]
  },
  {
   "cell_type": "markdown",
   "metadata": {},
   "source": [
    "## ¿Cuántos alojamientos requieren licencia?"
   ]
  },
  {
   "cell_type": "code",
   "execution_count": 10,
   "metadata": {},
   "outputs": [
    {
     "data": {
      "text/plain": [
       "requires_license\n",
       "f        2\n",
       "t    13328\n",
       "dtype: int64"
      ]
     },
     "execution_count": 10,
     "metadata": {},
     "output_type": "execute_result"
    }
   ],
   "source": [
    "df.groupby('requires_license').size()\n",
    "# 13328 requires license"
   ]
  },
  {
   "cell_type": "markdown",
   "metadata": {},
   "source": [
    "## ¿Cuántos alojamientos que requieren licencia realmente la tienen?"
   ]
  },
  {
   "cell_type": "code",
   "execution_count": 11,
   "metadata": {},
   "outputs": [
    {
     "data": {
      "text/plain": [
       "218"
      ]
     },
     "execution_count": 11,
     "metadata": {},
     "output_type": "execute_result"
    }
   ],
   "source": [
    "df[df['license'].str.contains(\"VT\",na=False)].license.count()"
   ]
  },
  {
   "cell_type": "markdown",
   "metadata": {},
   "source": [
    "## ¿Cuántos alojamientos que requieren licencia realmente no la tienen?"
   ]
  },
  {
   "cell_type": "code",
   "execution_count": 12,
   "metadata": {},
   "outputs": [
    {
     "data": {
      "text/plain": [
       "13110"
      ]
     },
     "execution_count": 12,
     "metadata": {},
     "output_type": "execute_result"
    }
   ],
   "source": [
    "# CASE 1 - REMOVING NAN --> 31\n",
    "\n",
    "# CASE 1.1 31 properties using inverse masking removing NAN \n",
    "df[~df['license'].str.contains(\"VT\",na=False)].license.count()\n",
    "\n",
    "# CASE 1.2 31 properties using logical AND with  masking\n",
    "df[~df['license'].str.contains(\"VT\",na=False)&df['license'].notnull()].license.count()\n",
    "\n",
    "# CASE 2 -  Taking into account NAN -> 13328 - 218 = 13110\n",
    "required = df[df['requires_license'] == 't'].requires_license.count()\n",
    "required - df[df['license'].str.contains(\"VT\",na=False)].license.count()"
   ]
  },
  {
   "cell_type": "markdown",
   "metadata": {},
   "source": [
    "## ¿Cual es el código postal con precio medio más caro de madrid?\n",
    "Tip: excluye zipcodes atípicos"
   ]
  },
  {
   "cell_type": "code",
   "execution_count": 13,
   "metadata": {},
   "outputs": [
    {
     "data": {
      "text/html": [
       "<div>\n",
       "<style scoped>\n",
       "    .dataframe tbody tr th:only-of-type {\n",
       "        vertical-align: middle;\n",
       "    }\n",
       "\n",
       "    .dataframe tbody tr th {\n",
       "        vertical-align: top;\n",
       "    }\n",
       "\n",
       "    .dataframe thead th {\n",
       "        text-align: right;\n",
       "    }\n",
       "</style>\n",
       "<table border=\"1\" class=\"dataframe\">\n",
       "  <thead>\n",
       "    <tr style=\"text-align: right;\">\n",
       "      <th></th>\n",
       "      <th>price</th>\n",
       "    </tr>\n",
       "    <tr>\n",
       "      <th>zipcode</th>\n",
       "      <th></th>\n",
       "    </tr>\n",
       "  </thead>\n",
       "  <tbody>\n",
       "    <tr>\n",
       "      <td>28850</td>\n",
       "      <td>250.000000</td>\n",
       "    </tr>\n",
       "    <tr>\n",
       "      <td>28049</td>\n",
       "      <td>213.000000</td>\n",
       "    </tr>\n",
       "    <tr>\n",
       "      <td>28052</td>\n",
       "      <td>188.000000</td>\n",
       "    </tr>\n",
       "    <tr>\n",
       "      <td>28023</td>\n",
       "      <td>147.945946</td>\n",
       "    </tr>\n",
       "    <tr>\n",
       "      <td>28035</td>\n",
       "      <td>147.710526</td>\n",
       "    </tr>\n",
       "  </tbody>\n",
       "</table>\n",
       "</div>"
      ],
      "text/plain": [
       "              price\n",
       "zipcode            \n",
       "28850    250.000000\n",
       "28049    213.000000\n",
       "28052    188.000000\n",
       "28023    147.945946\n",
       "28035    147.710526"
      ]
     },
     "execution_count": 13,
     "metadata": {},
     "output_type": "execute_result"
    }
   ],
   "source": [
    "# remove $ and , symbol and converting to float\n",
    "df['price'] = (df['price']\n",
    "                 .apply(lambda x: x.strip('$'))\n",
    "                 .apply(lambda y: y.replace(',',''))\n",
    "                 .astype(float)\n",
    "              )\n",
    "             \n",
    "# Exclude zipcodes outside of Madrid.\n",
    "valid_sip_codes_format = df['zipcode'].str.match('^28\\d{3}',na=False)\n",
    "\n",
    "# Group by the above zipcodes\n",
    "tmp = df.groupby(df[valid_sip_codes_format].zipcode).agg({'price':'mean'})\n",
    "tmp.sort_values('price',ascending=False).head(5)"
   ]
  },
  {
   "cell_type": "markdown",
   "metadata": {},
   "source": [
    "## ¿En que rango se mueven los precios de los alojamientos en madrid?"
   ]
  },
  {
   "cell_type": "code",
   "execution_count": 14,
   "metadata": {},
   "outputs": [
    {
     "name": "stdout",
     "output_type": "stream",
     "text": [
      "Min: 9.0 Max: 7700.0\n"
     ]
    }
   ],
   "source": [
    "df[valid_sip_codes_format].price.describe()\n",
    "# Between 9 - 7700 euros\n",
    "max_price, min_price = df[valid_sip_codes_format].price.max(),df[valid_sip_codes_format].price.min()\n",
    "print(\"Min:\",min_price,\"Max:\",max_price)"
   ]
  },
  {
   "cell_type": "markdown",
   "metadata": {},
   "source": [
    "## (extra) ¿Cuales son los factores que más afectan al precio?"
   ]
  },
  {
   "cell_type": "code",
   "execution_count": 44,
   "metadata": {},
   "outputs": [
    {
     "data": {
      "text/html": [
       "<div>\n",
       "<style scoped>\n",
       "    .dataframe tbody tr th:only-of-type {\n",
       "        vertical-align: middle;\n",
       "    }\n",
       "\n",
       "    .dataframe tbody tr th {\n",
       "        vertical-align: top;\n",
       "    }\n",
       "\n",
       "    .dataframe thead th {\n",
       "        text-align: right;\n",
       "    }\n",
       "</style>\n",
       "<table border=\"1\" class=\"dataframe\">\n",
       "  <thead>\n",
       "    <tr style=\"text-align: right;\">\n",
       "      <th></th>\n",
       "      <th>bedrooms</th>\n",
       "      <th>accommodates</th>\n",
       "      <th>minimum_nights</th>\n",
       "      <th>maximum_nights</th>\n",
       "      <th>number_of_reviews</th>\n",
       "      <th>price</th>\n",
       "      <th>review_scores_rating</th>\n",
       "    </tr>\n",
       "  </thead>\n",
       "  <tbody>\n",
       "    <tr>\n",
       "      <td>bedrooms</td>\n",
       "      <td>1.000000</td>\n",
       "      <td>0.691240</td>\n",
       "      <td>0.009634</td>\n",
       "      <td>-0.002291</td>\n",
       "      <td>-0.042659</td>\n",
       "      <td>0.539817</td>\n",
       "      <td>0.010456</td>\n",
       "    </tr>\n",
       "    <tr>\n",
       "      <td>accommodates</td>\n",
       "      <td>0.691240</td>\n",
       "      <td>1.000000</td>\n",
       "      <td>0.006732</td>\n",
       "      <td>-0.002416</td>\n",
       "      <td>0.052288</td>\n",
       "      <td>0.606888</td>\n",
       "      <td>-0.060565</td>\n",
       "    </tr>\n",
       "    <tr>\n",
       "      <td>minimum_nights</td>\n",
       "      <td>0.009634</td>\n",
       "      <td>0.006732</td>\n",
       "      <td>1.000000</td>\n",
       "      <td>-0.000886</td>\n",
       "      <td>-0.031033</td>\n",
       "      <td>0.011151</td>\n",
       "      <td>-0.002344</td>\n",
       "    </tr>\n",
       "    <tr>\n",
       "      <td>maximum_nights</td>\n",
       "      <td>-0.002291</td>\n",
       "      <td>-0.002416</td>\n",
       "      <td>-0.000886</td>\n",
       "      <td>1.000000</td>\n",
       "      <td>-0.002951</td>\n",
       "      <td>0.002241</td>\n",
       "      <td>0.001089</td>\n",
       "    </tr>\n",
       "    <tr>\n",
       "      <td>number_of_reviews</td>\n",
       "      <td>-0.042659</td>\n",
       "      <td>0.052288</td>\n",
       "      <td>-0.031033</td>\n",
       "      <td>-0.002951</td>\n",
       "      <td>1.000000</td>\n",
       "      <td>-0.027302</td>\n",
       "      <td>0.045719</td>\n",
       "    </tr>\n",
       "    <tr>\n",
       "      <td>price</td>\n",
       "      <td>0.539817</td>\n",
       "      <td>0.606888</td>\n",
       "      <td>0.011151</td>\n",
       "      <td>0.002241</td>\n",
       "      <td>-0.027302</td>\n",
       "      <td>1.000000</td>\n",
       "      <td>0.052939</td>\n",
       "    </tr>\n",
       "    <tr>\n",
       "      <td>review_scores_rating</td>\n",
       "      <td>0.010456</td>\n",
       "      <td>-0.060565</td>\n",
       "      <td>-0.002344</td>\n",
       "      <td>0.001089</td>\n",
       "      <td>0.045719</td>\n",
       "      <td>0.052939</td>\n",
       "      <td>1.000000</td>\n",
       "    </tr>\n",
       "  </tbody>\n",
       "</table>\n",
       "</div>"
      ],
      "text/plain": [
       "                      bedrooms  accommodates  minimum_nights  maximum_nights  \\\n",
       "bedrooms              1.000000      0.691240        0.009634       -0.002291   \n",
       "accommodates          0.691240      1.000000        0.006732       -0.002416   \n",
       "minimum_nights        0.009634      0.006732        1.000000       -0.000886   \n",
       "maximum_nights       -0.002291     -0.002416       -0.000886        1.000000   \n",
       "number_of_reviews    -0.042659      0.052288       -0.031033       -0.002951   \n",
       "price                 0.539817      0.606888        0.011151        0.002241   \n",
       "review_scores_rating  0.010456     -0.060565       -0.002344        0.001089   \n",
       "\n",
       "                      number_of_reviews     price  review_scores_rating  \n",
       "bedrooms                      -0.042659  0.539817              0.010456  \n",
       "accommodates                   0.052288  0.606888             -0.060565  \n",
       "minimum_nights                -0.031033  0.011151             -0.002344  \n",
       "maximum_nights                -0.002951  0.002241              0.001089  \n",
       "number_of_reviews              1.000000 -0.027302              0.045719  \n",
       "price                         -0.027302  1.000000              0.052939  \n",
       "review_scores_rating           0.045719  0.052939              1.000000  "
      ]
     },
     "execution_count": 44,
     "metadata": {},
     "output_type": "execute_result"
    }
   ],
   "source": [
    "#Preparing the candidate variables to be the most influential / Using .corr function (The farthest value of 1 is in this case the most influential)\n",
    "df_filter = df[['bedrooms','bed_type','room_type','property_type','accommodates','minimum_nights','maximum_nights','number_of_reviews','price','review_scores_rating']]\n",
    "df_filter = df_filter.dropna()\n",
    "df_filter.corr()\n",
    "\n"
   ]
  },
  {
   "cell_type": "code",
   "execution_count": 46,
   "metadata": {},
   "outputs": [
    {
     "data": {
      "text/plain": [
       "<matplotlib.axes._subplots.AxesSubplot at 0x12306bd50>"
      ]
     },
     "execution_count": 46,
     "metadata": {},
     "output_type": "execute_result"
    },
    {
     "data": {
      "image/png": "[encoded data removed]",
      "text/plain": [
       "<Figure size 1080x1080 with 2 Axes>"
      ]
     },
     "metadata": {
      "needs_background": "light"
     },
     "output_type": "display_data"
    }
   ],
   "source": [
    "import seaborn as sns\n",
    "%matplotlib inline\n",
    "plt.rcParams['figure.figsize'] = (15.0,15.0)\n",
    "sns.heatmap(df_filter.corr(),square=True,annot=True,linewidths=.5)\n",
    "# According to that , number of reviews os the most influential "
   ]
  },
  {
   "cell_type": "markdown",
   "metadata": {},
   "source": [
    "## Conclusiones\n",
    "\n",
    "* ¿Qué opinas de AirBnB en Madrid?"
   ]
  },
  {
   "cell_type": "markdown",
   "metadata": {},
   "source": [
    "En primer lugar que el numero de alojamientos con licencia es irrisorio, al menos en base a los datos que se disponen.\n",
    "\n",
    "El precio medio mas caro no esta dentro de Madrid Capital sino que esta en Torrejon de Ardoz\n",
    "\n",
    "El rating de valoraciones influye en el precio de manera considerable\n"
   ]
  },
  {
   "cell_type": "code",
   "execution_count": null,
   "metadata": {},
   "outputs": [],
   "source": []
  }
 ],
 "metadata": {
  "anaconda-cloud": {},
  "kernelspec": {
   "display_name": "Python 3",
   "language": "python",
   "name": "python3"
  },
  "language_info": {
   "codemirror_mode": {
    "name": "ipython",
    "version": 3
   },
   "file_extension": ".py",
   "mimetype": "text/x-python",
   "name": "python",
   "nbconvert_exporter": "python",
   "pygments_lexer": "ipython3",
   "version": "3.7.4"
  },
  "toc": {
   "base_numbering": 1,
   "nav_menu": {},
   "number_sections": true,
   "sideBar": true,
   "skip_h1_title": false,
   "title_cell": "Table of Contents",
   "title_sidebar": "Contents",
   "toc_cell": false,
   "toc_position": {},
   "toc_section_display": true,
   "toc_window_display": false
  }
 },
 "nbformat": 4,
 "nbformat_minor": 4
}

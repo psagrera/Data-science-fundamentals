{
 "cells": [
  {
   "cell_type": "markdown",
   "metadata": {},
   "source": [
    "<img src=\"imgs/mioti.png\" style=\"height: 100px\">\n",
    "<center style=\"color:#888\">Módulo Data Science in IoT<br/>Asignatura Data preprocessing</center>\n",
    "\n",
    "# Challenge S8: Contaminación en Madrid"
   ]
  },
  {
   "cell_type": "markdown",
   "metadata": {},
   "source": [
    "## Objetivos:\n",
    "\n",
    "* Experimentar con datos de Open Data Madrid.\n",
    "* Trabajar con datos de localización.\n",
    "* Representar la contaminación en Madrid del mes de septiembre de 2018."
   ]
  },
  {
   "cell_type": "markdown",
   "metadata": {},
   "source": [
    "**NOTA:** Actualmente Google Chrome tiene un problema al renderizar gráficos complejos con folium. Por eso **se recomienda encarecidamente** el realizar esta sesión con __[Mozilla Firefox](https://www.mozilla.org/es-ES/firefox/new/)__. Si nuestro navegador por defecto no es Firefox, podremos acceder al servidor de Jupyter Notebook una vez lo hayamos lanzado, copiando la url que contiene el token en el navegador Firefox.\n",
    "\n",
    "<img src=\"imgs/notebookrun.png\"/>"
   ]
  },
  {
   "cell_type": "markdown",
   "metadata": {},
   "source": [
    "## Inicializamos entorno"
   ]
  },
  {
   "cell_type": "code",
   "execution_count": 1,
   "metadata": {},
   "outputs": [],
   "source": [
    "import numpy as np\n",
    "import pandas as pd\n",
    "import re\n",
    "import folium\n",
    "import random\n",
    "\n",
    "%matplotlib inline\n",
    "import matplotlib.pyplot as plt \n",
    "\n",
    "estaciones = pd.read_csv(\"data/madrid_estaciones_cont.csv\")\n",
    "contamina = pd.read_csv('data/contamina_2018_09_diario.csv')\n",
    "\n",
    "random.seed(1234)"
   ]
  },
  {
   "cell_type": "markdown",
   "metadata": {},
   "source": [
    "Empezaremos a trabajar con los puestos de medida de la contaminación de Madrid. "
   ]
  },
  {
   "cell_type": "code",
   "execution_count": 2,
   "metadata": {},
   "outputs": [
    {
     "name": "stdout",
     "output_type": "stream",
     "text": [
      "<class 'pandas.core.frame.DataFrame'>\n",
      "RangeIndex: 41 entries, 0 to 40\n",
      "Data columns (total 24 columns):\n",
      " #   Column           Non-Null Count  Dtype  \n",
      "---  ------           --------------  -----  \n",
      " 0   Unnamed: 0       0 non-null      float64\n",
      " 1   NÚMERO           38 non-null     object \n",
      " 2   ESTACIÓN         40 non-null     object \n",
      " 3   DIRECCIÓN        40 non-null     object \n",
      " 4   LONGITUD         37 non-null     object \n",
      " 5   LATITUD          37 non-null     object \n",
      " 6   ALTITUD          37 non-null     float64\n",
      " 7   TIPO ESTACION *  37 non-null     object \n",
      " 8   NO2              37 non-null     object \n",
      " 9   SO2              12 non-null     object \n",
      " 10  CO               17 non-null     object \n",
      " 11  PM10             14 non-null     object \n",
      " 12  PM2,5            7 non-null      object \n",
      " 13  O3               23 non-null     object \n",
      " 14  BTX              8 non-null      object \n",
      " 15  HC               4 non-null      object \n",
      " 16  UV               3 non-null      object \n",
      " 17  VV               6 non-null      object \n",
      " 18  DV               6 non-null      object \n",
      " 19  TMP              11 non-null     object \n",
      " 20  HR               5 non-null      object \n",
      " 21  PRB              3 non-null      object \n",
      " 22  RS               2 non-null      object \n",
      " 23  LL               21 non-null     object \n",
      "dtypes: float64(2), object(22)\n",
      "memory usage: 7.8+ KB\n"
     ]
    }
   ],
   "source": [
    "estaciones.info()"
   ]
  },
  {
   "cell_type": "markdown",
   "metadata": {},
   "source": [
    "Haremos uso de la función proporcionada en el worksheet para transformar las coordenadas de grados, minutos y segundos a meridiano."
   ]
  },
  {
   "cell_type": "code",
   "execution_count": 3,
   "metadata": {},
   "outputs": [],
   "source": [
    "def convertir_coords(s):\n",
    "    # https://pythex.org/\n",
    "    import re\n",
    "    if s is np.nan:\n",
    "        return np.nan\n",
    "    \n",
    "    degrees, minutes, seconds, direction = re.split('[º \\' \"]+', s)\n",
    "    seconds = seconds.replace(\",\", \".\")\n",
    "    dd = float(degrees) + float(minutes)/60 + float(seconds)/(60*60);\n",
    "    if direction in ('S','O'):\n",
    "        dd*= -1\n",
    "    \n",
    "    return dd"
   ]
  },
  {
   "cell_type": "markdown",
   "metadata": {},
   "source": [
    "## Preprocesamiento y exploración de los datos de sensores\n",
    "\n",
    "Aplica las transformaciones necesarias y construye un mapa de los datos de exploración de sensores de contaminación."
   ]
  },
  {
   "cell_type": "code",
   "execution_count": 4,
   "metadata": {},
   "outputs": [
    {
     "data": {
      "text/html": [
       "<div>\n",
       "<style scoped>\n",
       "    .dataframe tbody tr th:only-of-type {\n",
       "        vertical-align: middle;\n",
       "    }\n",
       "\n",
       "    .dataframe tbody tr th {\n",
       "        vertical-align: top;\n",
       "    }\n",
       "\n",
       "    .dataframe thead th {\n",
       "        text-align: right;\n",
       "    }\n",
       "</style>\n",
       "<table border=\"1\" class=\"dataframe\">\n",
       "  <thead>\n",
       "    <tr style=\"text-align: right;\">\n",
       "      <th></th>\n",
       "      <th>ESTACIÓN</th>\n",
       "      <th>LATITUD</th>\n",
       "      <th>LONGITUD</th>\n",
       "      <th>Lat</th>\n",
       "      <th>Lon</th>\n",
       "    </tr>\n",
       "  </thead>\n",
       "  <tbody>\n",
       "    <tr>\n",
       "      <th>0</th>\n",
       "      <td>Pza. de España</td>\n",
       "      <td>40º 25' 25,87''N</td>\n",
       "      <td>3º 42' 44,09''O</td>\n",
       "      <td>40.423853</td>\n",
       "      <td>-3.712247</td>\n",
       "    </tr>\n",
       "    <tr>\n",
       "      <th>1</th>\n",
       "      <td>Escuelas Aguirre</td>\n",
       "      <td>40º 25' 17,63''N</td>\n",
       "      <td>3º 40' 56,35''O</td>\n",
       "      <td>40.421564</td>\n",
       "      <td>-3.682319</td>\n",
       "    </tr>\n",
       "    <tr>\n",
       "      <th>2</th>\n",
       "      <td>Avda. Ramón y Cajal</td>\n",
       "      <td>40º 27' 05,31''N</td>\n",
       "      <td>3º 40' 38,48''O</td>\n",
       "      <td>40.451475</td>\n",
       "      <td>-3.677356</td>\n",
       "    </tr>\n",
       "    <tr>\n",
       "      <th>3</th>\n",
       "      <td>Arturo Soria</td>\n",
       "      <td>40º 26' 24,17''N</td>\n",
       "      <td>3º 38' 21,24''O</td>\n",
       "      <td>40.440047</td>\n",
       "      <td>-3.639233</td>\n",
       "    </tr>\n",
       "    <tr>\n",
       "      <th>4</th>\n",
       "      <td>Villaverde</td>\n",
       "      <td>40º 20' 49,70''N</td>\n",
       "      <td>3º 42' 47,96''O</td>\n",
       "      <td>40.347139</td>\n",
       "      <td>-3.713322</td>\n",
       "    </tr>\n",
       "  </tbody>\n",
       "</table>\n",
       "</div>"
      ],
      "text/plain": [
       "              ESTACIÓN           LATITUD         LONGITUD        Lat       Lon\n",
       "0       Pza. de España  40º 25' 25,87''N  3º 42' 44,09''O  40.423853 -3.712247\n",
       "1     Escuelas Aguirre  40º 25' 17,63''N  3º 40' 56,35''O  40.421564 -3.682319\n",
       "2  Avda. Ramón y Cajal  40º 27' 05,31''N  3º 40' 38,48''O  40.451475 -3.677356\n",
       "3         Arturo Soria  40º 26' 24,17''N  3º 38' 21,24''O  40.440047 -3.639233\n",
       "4           Villaverde  40º 20' 49,70''N  3º 42' 47,96''O  40.347139 -3.713322"
      ]
     },
     "execution_count": 4,
     "metadata": {},
     "output_type": "execute_result"
    }
   ],
   "source": [
    "# TU CÓDIGO AQUÍ\n",
    "estaciones['Lon'] = estaciones['LONGITUD'].apply(convertir_coords)\n",
    "estaciones['Lat'] = estaciones['LATITUD'].apply(convertir_coords)\n",
    "estaciones[['ESTACIÓN', 'LATITUD', 'LONGITUD', 'Lat', 'Lon']].head()"
   ]
  },
  {
   "cell_type": "code",
   "execution_count": 5,
   "metadata": {},
   "outputs": [
    {
     "data": {
      "text/html": [
       "<div>\n",
       "<style scoped>\n",
       "    .dataframe tbody tr th:only-of-type {\n",
       "        vertical-align: middle;\n",
       "    }\n",
       "\n",
       "    .dataframe tbody tr th {\n",
       "        vertical-align: top;\n",
       "    }\n",
       "\n",
       "    .dataframe thead th {\n",
       "        text-align: right;\n",
       "    }\n",
       "</style>\n",
       "<table border=\"1\" class=\"dataframe\">\n",
       "  <thead>\n",
       "    <tr style=\"text-align: right;\">\n",
       "      <th></th>\n",
       "      <th>Unnamed: 0</th>\n",
       "      <th>NÚMERO</th>\n",
       "      <th>ESTACIÓN</th>\n",
       "      <th>DIRECCIÓN</th>\n",
       "      <th>LONGITUD</th>\n",
       "      <th>LATITUD</th>\n",
       "      <th>ALTITUD</th>\n",
       "      <th>TIPO ESTACION *</th>\n",
       "      <th>NO2</th>\n",
       "      <th>SO2</th>\n",
       "      <th>...</th>\n",
       "      <th>UV</th>\n",
       "      <th>VV</th>\n",
       "      <th>DV</th>\n",
       "      <th>TMP</th>\n",
       "      <th>HR</th>\n",
       "      <th>PRB</th>\n",
       "      <th>RS</th>\n",
       "      <th>LL</th>\n",
       "      <th>Lon</th>\n",
       "      <th>Lat</th>\n",
       "    </tr>\n",
       "  </thead>\n",
       "  <tbody>\n",
       "    <tr>\n",
       "      <th>24</th>\n",
       "      <td>NaN</td>\n",
       "      <td>NaN</td>\n",
       "      <td>NaN</td>\n",
       "      <td>NaN</td>\n",
       "      <td>NaN</td>\n",
       "      <td>NaN</td>\n",
       "      <td>NaN</td>\n",
       "      <td>NaN</td>\n",
       "      <td>NaN</td>\n",
       "      <td>NaN</td>\n",
       "      <td>...</td>\n",
       "      <td>NaN</td>\n",
       "      <td>NaN</td>\n",
       "      <td>NaN</td>\n",
       "      <td>NaN</td>\n",
       "      <td>NaN</td>\n",
       "      <td>NaN</td>\n",
       "      <td>NaN</td>\n",
       "      <td>NaN</td>\n",
       "      <td>NaN</td>\n",
       "      <td>NaN</td>\n",
       "    </tr>\n",
       "    <tr>\n",
       "      <th>25</th>\n",
       "      <td>NaN</td>\n",
       "      <td>*</td>\n",
       "      <td>UT</td>\n",
       "      <td>Urbana de tráfico</td>\n",
       "      <td>NaN</td>\n",
       "      <td>NaN</td>\n",
       "      <td>NaN</td>\n",
       "      <td>NaN</td>\n",
       "      <td>NaN</td>\n",
       "      <td>NaN</td>\n",
       "      <td>...</td>\n",
       "      <td>NaN</td>\n",
       "      <td>NaN</td>\n",
       "      <td>NaN</td>\n",
       "      <td>NaN</td>\n",
       "      <td>NaN</td>\n",
       "      <td>NaN</td>\n",
       "      <td>NaN</td>\n",
       "      <td>NaN</td>\n",
       "      <td>NaN</td>\n",
       "      <td>NaN</td>\n",
       "    </tr>\n",
       "    <tr>\n",
       "      <th>26</th>\n",
       "      <td>NaN</td>\n",
       "      <td>NaN</td>\n",
       "      <td>UF</td>\n",
       "      <td>Urbana de fondo</td>\n",
       "      <td>NaN</td>\n",
       "      <td>NaN</td>\n",
       "      <td>NaN</td>\n",
       "      <td>NaN</td>\n",
       "      <td>NaN</td>\n",
       "      <td>NaN</td>\n",
       "      <td>...</td>\n",
       "      <td>NaN</td>\n",
       "      <td>NaN</td>\n",
       "      <td>NaN</td>\n",
       "      <td>NaN</td>\n",
       "      <td>NaN</td>\n",
       "      <td>NaN</td>\n",
       "      <td>NaN</td>\n",
       "      <td>NaN</td>\n",
       "      <td>NaN</td>\n",
       "      <td>NaN</td>\n",
       "    </tr>\n",
       "    <tr>\n",
       "      <th>27</th>\n",
       "      <td>NaN</td>\n",
       "      <td>NaN</td>\n",
       "      <td>S</td>\n",
       "      <td>Suburbana</td>\n",
       "      <td>NaN</td>\n",
       "      <td>NaN</td>\n",
       "      <td>NaN</td>\n",
       "      <td>NaN</td>\n",
       "      <td>NaN</td>\n",
       "      <td>NaN</td>\n",
       "      <td>...</td>\n",
       "      <td>NaN</td>\n",
       "      <td>NaN</td>\n",
       "      <td>NaN</td>\n",
       "      <td>NaN</td>\n",
       "      <td>NaN</td>\n",
       "      <td>NaN</td>\n",
       "      <td>NaN</td>\n",
       "      <td>NaN</td>\n",
       "      <td>NaN</td>\n",
       "      <td>NaN</td>\n",
       "    </tr>\n",
       "  </tbody>\n",
       "</table>\n",
       "<p>4 rows × 26 columns</p>\n",
       "</div>"
      ],
      "text/plain": [
       "    Unnamed: 0 NÚMERO ESTACIÓN          DIRECCIÓN LONGITUD LATITUD  ALTITUD  \\\n",
       "24         NaN    NaN      NaN                NaN      NaN     NaN      NaN   \n",
       "25         NaN      *       UT  Urbana de tráfico      NaN     NaN      NaN   \n",
       "26         NaN    NaN       UF    Urbana de fondo      NaN     NaN      NaN   \n",
       "27         NaN    NaN        S          Suburbana      NaN     NaN      NaN   \n",
       "\n",
       "   TIPO ESTACION *  NO2  SO2  ...   UV   VV   DV  TMP   HR  PRB   RS   LL Lon  \\\n",
       "24             NaN  NaN  NaN  ...  NaN  NaN  NaN  NaN  NaN  NaN  NaN  NaN NaN   \n",
       "25             NaN  NaN  NaN  ...  NaN  NaN  NaN  NaN  NaN  NaN  NaN  NaN NaN   \n",
       "26             NaN  NaN  NaN  ...  NaN  NaN  NaN  NaN  NaN  NaN  NaN  NaN NaN   \n",
       "27             NaN  NaN  NaN  ...  NaN  NaN  NaN  NaN  NaN  NaN  NaN  NaN NaN   \n",
       "\n",
       "   Lat  \n",
       "24 NaN  \n",
       "25 NaN  \n",
       "26 NaN  \n",
       "27 NaN  \n",
       "\n",
       "[4 rows x 26 columns]"
      ]
     },
     "execution_count": 5,
     "metadata": {},
     "output_type": "execute_result"
    }
   ],
   "source": [
    "# Eliminamos los nulos \n",
    "estaciones[estaciones['Lat'].isna()]"
   ]
  },
  {
   "cell_type": "code",
   "execution_count": 6,
   "metadata": {},
   "outputs": [
    {
     "data": {
      "text/html": [
       "<div>\n",
       "<style scoped>\n",
       "    .dataframe tbody tr th:only-of-type {\n",
       "        vertical-align: middle;\n",
       "    }\n",
       "\n",
       "    .dataframe tbody tr th {\n",
       "        vertical-align: top;\n",
       "    }\n",
       "\n",
       "    .dataframe thead th {\n",
       "        text-align: right;\n",
       "    }\n",
       "</style>\n",
       "<table border=\"1\" class=\"dataframe\">\n",
       "  <thead>\n",
       "    <tr style=\"text-align: right;\">\n",
       "      <th></th>\n",
       "      <th>Unnamed: 0</th>\n",
       "      <th>NÚMERO</th>\n",
       "      <th>ESTACIÓN</th>\n",
       "      <th>DIRECCIÓN</th>\n",
       "      <th>LONGITUD</th>\n",
       "      <th>LATITUD</th>\n",
       "      <th>ALTITUD</th>\n",
       "      <th>TIPO ESTACION *</th>\n",
       "      <th>NO2</th>\n",
       "      <th>SO2</th>\n",
       "      <th>...</th>\n",
       "      <th>UV</th>\n",
       "      <th>VV</th>\n",
       "      <th>DV</th>\n",
       "      <th>TMP</th>\n",
       "      <th>HR</th>\n",
       "      <th>PRB</th>\n",
       "      <th>RS</th>\n",
       "      <th>LL</th>\n",
       "      <th>Lon</th>\n",
       "      <th>Lat</th>\n",
       "    </tr>\n",
       "  </thead>\n",
       "  <tbody>\n",
       "    <tr>\n",
       "      <th>24</th>\n",
       "      <td>NaN</td>\n",
       "      <td>NaN</td>\n",
       "      <td>NaN</td>\n",
       "      <td>NaN</td>\n",
       "      <td>NaN</td>\n",
       "      <td>NaN</td>\n",
       "      <td>NaN</td>\n",
       "      <td>NaN</td>\n",
       "      <td>NaN</td>\n",
       "      <td>NaN</td>\n",
       "      <td>...</td>\n",
       "      <td>NaN</td>\n",
       "      <td>NaN</td>\n",
       "      <td>NaN</td>\n",
       "      <td>NaN</td>\n",
       "      <td>NaN</td>\n",
       "      <td>NaN</td>\n",
       "      <td>NaN</td>\n",
       "      <td>NaN</td>\n",
       "      <td>NaN</td>\n",
       "      <td>NaN</td>\n",
       "    </tr>\n",
       "    <tr>\n",
       "      <th>25</th>\n",
       "      <td>NaN</td>\n",
       "      <td>*</td>\n",
       "      <td>UT</td>\n",
       "      <td>Urbana de tráfico</td>\n",
       "      <td>NaN</td>\n",
       "      <td>NaN</td>\n",
       "      <td>NaN</td>\n",
       "      <td>NaN</td>\n",
       "      <td>NaN</td>\n",
       "      <td>NaN</td>\n",
       "      <td>...</td>\n",
       "      <td>NaN</td>\n",
       "      <td>NaN</td>\n",
       "      <td>NaN</td>\n",
       "      <td>NaN</td>\n",
       "      <td>NaN</td>\n",
       "      <td>NaN</td>\n",
       "      <td>NaN</td>\n",
       "      <td>NaN</td>\n",
       "      <td>NaN</td>\n",
       "      <td>NaN</td>\n",
       "    </tr>\n",
       "    <tr>\n",
       "      <th>26</th>\n",
       "      <td>NaN</td>\n",
       "      <td>NaN</td>\n",
       "      <td>UF</td>\n",
       "      <td>Urbana de fondo</td>\n",
       "      <td>NaN</td>\n",
       "      <td>NaN</td>\n",
       "      <td>NaN</td>\n",
       "      <td>NaN</td>\n",
       "      <td>NaN</td>\n",
       "      <td>NaN</td>\n",
       "      <td>...</td>\n",
       "      <td>NaN</td>\n",
       "      <td>NaN</td>\n",
       "      <td>NaN</td>\n",
       "      <td>NaN</td>\n",
       "      <td>NaN</td>\n",
       "      <td>NaN</td>\n",
       "      <td>NaN</td>\n",
       "      <td>NaN</td>\n",
       "      <td>NaN</td>\n",
       "      <td>NaN</td>\n",
       "    </tr>\n",
       "    <tr>\n",
       "      <th>27</th>\n",
       "      <td>NaN</td>\n",
       "      <td>NaN</td>\n",
       "      <td>S</td>\n",
       "      <td>Suburbana</td>\n",
       "      <td>NaN</td>\n",
       "      <td>NaN</td>\n",
       "      <td>NaN</td>\n",
       "      <td>NaN</td>\n",
       "      <td>NaN</td>\n",
       "      <td>NaN</td>\n",
       "      <td>...</td>\n",
       "      <td>NaN</td>\n",
       "      <td>NaN</td>\n",
       "      <td>NaN</td>\n",
       "      <td>NaN</td>\n",
       "      <td>NaN</td>\n",
       "      <td>NaN</td>\n",
       "      <td>NaN</td>\n",
       "      <td>NaN</td>\n",
       "      <td>NaN</td>\n",
       "      <td>NaN</td>\n",
       "    </tr>\n",
       "  </tbody>\n",
       "</table>\n",
       "<p>4 rows × 26 columns</p>\n",
       "</div>"
      ],
      "text/plain": [
       "    Unnamed: 0 NÚMERO ESTACIÓN          DIRECCIÓN LONGITUD LATITUD  ALTITUD  \\\n",
       "24         NaN    NaN      NaN                NaN      NaN     NaN      NaN   \n",
       "25         NaN      *       UT  Urbana de tráfico      NaN     NaN      NaN   \n",
       "26         NaN    NaN       UF    Urbana de fondo      NaN     NaN      NaN   \n",
       "27         NaN    NaN        S          Suburbana      NaN     NaN      NaN   \n",
       "\n",
       "   TIPO ESTACION *  NO2  SO2  ...   UV   VV   DV  TMP   HR  PRB   RS   LL Lon  \\\n",
       "24             NaN  NaN  NaN  ...  NaN  NaN  NaN  NaN  NaN  NaN  NaN  NaN NaN   \n",
       "25             NaN  NaN  NaN  ...  NaN  NaN  NaN  NaN  NaN  NaN  NaN  NaN NaN   \n",
       "26             NaN  NaN  NaN  ...  NaN  NaN  NaN  NaN  NaN  NaN  NaN  NaN NaN   \n",
       "27             NaN  NaN  NaN  ...  NaN  NaN  NaN  NaN  NaN  NaN  NaN  NaN NaN   \n",
       "\n",
       "   Lat  \n",
       "24 NaN  \n",
       "25 NaN  \n",
       "26 NaN  \n",
       "27 NaN  \n",
       "\n",
       "[4 rows x 26 columns]"
      ]
     },
     "execution_count": 6,
     "metadata": {},
     "output_type": "execute_result"
    }
   ],
   "source": [
    "estaciones[estaciones['Lon'].isna()]"
   ]
  },
  {
   "cell_type": "code",
   "execution_count": 7,
   "metadata": {},
   "outputs": [
    {
     "data": {
      "text/html": [
       "<div>\n",
       "<style scoped>\n",
       "    .dataframe tbody tr th:only-of-type {\n",
       "        vertical-align: middle;\n",
       "    }\n",
       "\n",
       "    .dataframe tbody tr th {\n",
       "        vertical-align: top;\n",
       "    }\n",
       "\n",
       "    .dataframe thead th {\n",
       "        text-align: right;\n",
       "    }\n",
       "</style>\n",
       "<table border=\"1\" class=\"dataframe\">\n",
       "  <thead>\n",
       "    <tr style=\"text-align: right;\">\n",
       "      <th></th>\n",
       "      <th>Unnamed: 0</th>\n",
       "      <th>NÚMERO</th>\n",
       "      <th>ESTACIÓN</th>\n",
       "      <th>DIRECCIÓN</th>\n",
       "      <th>LONGITUD</th>\n",
       "      <th>LATITUD</th>\n",
       "      <th>ALTITUD</th>\n",
       "      <th>TIPO ESTACION *</th>\n",
       "      <th>NO2</th>\n",
       "      <th>SO2</th>\n",
       "      <th>...</th>\n",
       "      <th>UV</th>\n",
       "      <th>VV</th>\n",
       "      <th>DV</th>\n",
       "      <th>TMP</th>\n",
       "      <th>HR</th>\n",
       "      <th>PRB</th>\n",
       "      <th>RS</th>\n",
       "      <th>LL</th>\n",
       "      <th>Lon</th>\n",
       "      <th>Lat</th>\n",
       "    </tr>\n",
       "  </thead>\n",
       "  <tbody>\n",
       "  </tbody>\n",
       "</table>\n",
       "<p>0 rows × 26 columns</p>\n",
       "</div>"
      ],
      "text/plain": [
       "Empty DataFrame\n",
       "Columns: [Unnamed: 0, NÚMERO, ESTACIÓN, DIRECCIÓN, LONGITUD, LATITUD, ALTITUD, TIPO ESTACION *, NO2, SO2, CO, PM10, PM2,5, O3, BTX, HC, UV, VV, DV, TMP, HR, PRB, RS, LL, Lon, Lat]\n",
       "Index: []\n",
       "\n",
       "[0 rows x 26 columns]"
      ]
     },
     "execution_count": 7,
     "metadata": {},
     "output_type": "execute_result"
    }
   ],
   "source": [
    "estaciones = estaciones[~estaciones['Lat'].isna()]\n",
    "estaciones[estaciones['Lat'].isna()]"
   ]
  },
  {
   "cell_type": "code",
   "execution_count": 8,
   "metadata": {},
   "outputs": [
    {
     "data": {
      "text/html": [
       "<div style=\"width:100%;\"><div style=\"position:relative;width:100%;height:0;padding-bottom:60%;\"><iframe src=\"about:blank\" style=\"position:absolute;width:100%;height:100%;left:0;top:0;border:none !important;\" data-html=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 onload=\"this.contentDocument.open();this.contentDocument.write(atob(this.getAttribute('data-html')));this.contentDocument.close();\" allowfullscreen webkitallowfullscreen mozallowfullscreen></iframe></div></div>"
      ],
      "text/plain": [
       "<folium.folium.Map at 0x109b32cd0>"
      ]
     },
     "execution_count": 8,
     "metadata": {},
     "output_type": "execute_result"
    }
   ],
   "source": [
    "#MADRID_COORDS = [40.4167,  -3.70325]\n",
    "MADRID_COORDS = [estaciones['Lat'].mean(), estaciones['Lon'].mean()]\n",
    "\n",
    "m = folium.Map(MADRID_COORDS, zoom_start=11)\n",
    "\n",
    "for index, row in estaciones.iterrows():\n",
    "    if row['Lat'] != np.nan and row['Lon'] != np.nan: \n",
    "        folium.CircleMarker([row['Lat'], row['Lon']],\n",
    "                            radius=2,\n",
    "                            popup=row['NÚMERO'] +\": \"+ row['DIRECCIÓN'],\n",
    "                            fill_color=\"#3db7e4\",\n",
    "                           ).add_to(m)\n",
    "m"
   ]
  },
  {
   "cell_type": "code",
   "execution_count": 9,
   "metadata": {},
   "outputs": [
    {
     "data": {
      "text/plain": [
       "<matplotlib.axes._subplots.AxesSubplot at 0x11ba11bd0>"
      ]
     },
     "execution_count": 9,
     "metadata": {},
     "output_type": "execute_result"
    },
    {
     "data": {
      "image/png": "[encoded data removed]",
      "text/plain": [
       "<Figure size 432x288 with 1 Axes>"
      ]
     },
     "metadata": {
      "needs_background": "light"
     },
     "output_type": "display_data"
    }
   ],
   "source": [
    "estaciones['Lon'].plot(kind = \"hist\")"
   ]
  },
  {
   "cell_type": "code",
   "execution_count": 10,
   "metadata": {},
   "outputs": [
    {
     "data": {
      "text/plain": [
       "<matplotlib.axes._subplots.AxesSubplot at 0x11c1aca50>"
      ]
     },
     "execution_count": 10,
     "metadata": {},
     "output_type": "execute_result"
    },
    {
     "data": {
      "image/png": "[encoded data removed]",
      "text/plain": [
       "<Figure size 432x288 with 1 Axes>"
      ]
     },
     "metadata": {
      "needs_background": "light"
     },
     "output_type": "display_data"
    }
   ],
   "source": [
    "estaciones['Lat'].plot(kind = \"hist\")"
   ]
  },
  {
   "cell_type": "code",
   "execution_count": 11,
   "metadata": {},
   "outputs": [],
   "source": [
    "estaciones = estaciones[estaciones['Lat'] > 35.]"
   ]
  },
  {
   "cell_type": "code",
   "execution_count": 12,
   "metadata": {},
   "outputs": [
    {
     "data": {
      "text/html": [
       "<div style=\"width:100%;\"><div style=\"position:relative;width:100%;height:0;padding-bottom:60%;\"><iframe src=\"about:blank\" style=\"position:absolute;width:100%;height:100%;left:0;top:0;border:none !important;\" data-html=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 onload=\"this.contentDocument.open();this.contentDocument.write(atob(this.getAttribute('data-html')));this.contentDocument.close();\" allowfullscreen webkitallowfullscreen mozallowfullscreen></iframe></div></div>"
      ],
      "text/plain": [
       "<folium.folium.Map at 0x11c316050>"
      ]
     },
     "execution_count": 12,
     "metadata": {},
     "output_type": "execute_result"
    }
   ],
   "source": [
    "#MADRID_COORDS = [40.4167,  -3.70325]\n",
    "MADRID_COORDS = [estaciones['Lat'].mean(), estaciones['Lon'].mean()]\n",
    "\n",
    "m = folium.Map(MADRID_COORDS, zoom_start=11)\n",
    "\n",
    "for index, row in estaciones.iterrows():\n",
    "    if row['Lat'] != np.nan and row['Lon'] != np.nan: \n",
    "        folium.CircleMarker([row['Lat'], row['Lon']],\n",
    "                            radius=2,\n",
    "                            popup=row['NÚMERO'] +\": \"+ row['DIRECCIÓN'],\n",
    "                            fill_color=\"#3db7e4\",\n",
    "                           ).add_to(m)\n",
    "m"
   ]
  },
  {
   "cell_type": "markdown",
   "metadata": {},
   "source": [
    "## Representación de contaminación durante el mes de septiembre\n",
    "\n",
    "Preprocesa y representa los datos de contaminación en Madrid para el mes de septiembre. Tienes los datos cargados en la variable `contamina`."
   ]
  },
  {
   "cell_type": "code",
   "execution_count": 13,
   "metadata": {},
   "outputs": [],
   "source": [
    "# TU CÓDIGO AQUÍ\n",
    "contamina\n",
    "contamina['datestr'] = contamina['ANO'].astype(str) +\"-\"+ contamina['MES'].astype(str) +\"-\"+ contamina['DIA'].astype(str)\n",
    "contamina['date'] = contamina.apply(lambda x: pd.to_datetime(x['datestr']), axis=1)\n",
    "#contamina.head()\n",
    "\n"
   ]
  },
  {
   "cell_type": "markdown",
   "metadata": {},
   "source": [
    "## Optimización de rutas\n",
    "\n",
    "En el worksheet hemos hablado de optimización de rutas como un problema recurrente sobretodo para operaciones logísticas. Lamentablemente, no somos capaces de hacerlo por fuerza bruta en problemas grandes y tampoco sin distancias de ruta por carretera reales. Sin embargo, sí que tenemos la distancia haversine.\n",
    "\n",
    "Imagina que después de una tormenta eléctrica, todos los dispositivos de medición de contaminación en Madrid se han estropeado y que eres el técnico encargado de repararlos. Si la central del técnico está situada en el punto origen propuesto, construye un algoritmo que calcule la ruta óptima, siendo esta la que más sensores permita reparar en menor tiempo posible y obtén la distancia total recorrida.\n",
    "\n",
    "Estructura del algoritmo propuesta:\n",
    "* Establecer punto de origen\n",
    "* Repetir hasta que no queden puntos por visitar:\n",
    "    * Calcular desde el punto actual la distancia a todos los puntos restantes.\n",
    "    * Escoger el punto más cercano.\n",
    "    * Marcar ese punto como punto ya visitado. No queremos visitar un mismo punto varias veces.\n",
    "    * Establecer como nuevo punto de origen el seleccionado como más cercano.\n",
    "* Una vez no queden más puntos por visitar, calcula la distancia de vuelta directamente a la central del técnico.\n",
    "\n",
    "¿Serías capaz de pintar esta ruta en un mapa de folium?"
   ]
  },
  {
   "cell_type": "code",
   "execution_count": 14,
   "metadata": {},
   "outputs": [],
   "source": [
    "ORIGEN_COORDS = [40.398113888888886, -3.6868250000000002]\n",
    "\n",
    "def haversine(lon1, lat1, lon2, lat2):\n",
    "    from math import radians, cos, sin, asin, sqrt\n",
    "    \n",
    "    # convert decimal degrees to radians \n",
    "    lon1, lat1, lon2, lat2 = map(radians, [lon1, lat1, lon2, lat2])\n",
    "\n",
    "    # haversine formula \n",
    "    dlon = lon2 - lon1 \n",
    "    dlat = lat2 - lat1 \n",
    "    a = sin(dlat/2)**2 + cos(lat1) * cos(lat2) * sin(dlon/2)**2\n",
    "    c = 2 * asin(sqrt(a)) \n",
    "    r = 6371 # Radio de la tierra en km.\n",
    "    \n",
    "    return c * r"
   ]
  },
  {
   "cell_type": "code",
   "execution_count": 15,
   "metadata": {},
   "outputs": [],
   "source": [
    "# TU ALGORITMO DE RUTA AQUÍ"
   ]
  },
  {
   "cell_type": "markdown",
   "metadata": {},
   "source": [
    "Compara ahora tu resultado con el resultado de OR-Tools. Recuerda que necesitas llamar a la función ```optimize``` de la clase ```HaversineRouteOptimizer``` que requiere los siguientes parámetros:\n",
    "* Lista de localizaciones en coordenadas GPS.\n",
    "* Lista de nombres de las localizaciones en el mismo orden.\n",
    "* Localización de salida de los vehículos. Es el índice de uno de los puntos de localización. Siendo 0 el primer elemento, 1 el segundo, etc...\n",
    "* Número de vehículos, en este caso sólo uno."
   ]
  },
  {
   "cell_type": "code",
   "execution_count": 16,
   "metadata": {},
   "outputs": [
    {
     "name": "stdout",
     "output_type": "stream",
     "text": [
      "Computing distance matrix...\n"
     ]
    },
    {
     "ename": "TypeError",
     "evalue": "object of type 'NoneType' has no len()",
     "output_type": "error",
     "traceback": [
      "\u001b[0;31m---------------------------------------------------------------------------\u001b[0m",
      "\u001b[0;31mTypeError\u001b[0m                                 Traceback (most recent call last)",
      "\u001b[0;32m<ipython-input-16-a7bb798ff751>\u001b[0m in \u001b[0;36m<module>\u001b[0;34m\u001b[0m\n\u001b[1;32m      9\u001b[0m \u001b[0;34m\u001b[0m\u001b[0m\n\u001b[1;32m     10\u001b[0m \u001b[0mhro\u001b[0m \u001b[0;34m=\u001b[0m \u001b[0mHaversineRouteOptimizer\u001b[0m\u001b[0;34m(\u001b[0m\u001b[0;34m)\u001b[0m\u001b[0;34m\u001b[0m\u001b[0;34m\u001b[0m\u001b[0m\n\u001b[0;32m---> 11\u001b[0;31m \u001b[0mhro\u001b[0m\u001b[0;34m.\u001b[0m\u001b[0moptimize\u001b[0m\u001b[0;34m(\u001b[0m\u001b[0mlocations\u001b[0m\u001b[0;34m,\u001b[0m \u001b[0mnames\u001b[0m\u001b[0;34m,\u001b[0m \u001b[0morigin\u001b[0m\u001b[0;34m,\u001b[0m \u001b[0mn_vehicles\u001b[0m \u001b[0;34m=\u001b[0m \u001b[0;36m1\u001b[0m\u001b[0;34m)\u001b[0m\u001b[0;34m\u001b[0m\u001b[0;34m\u001b[0m\u001b[0m\n\u001b[0m",
      "\u001b[0;32m~/MIOTI/data_preprocesing/challenges/session_8/optimizer.py\u001b[0m in \u001b[0;36moptimize\u001b[0;34m(self, locations, names, origin, n_vehicles)\u001b[0m\n\u001b[1;32m    115\u001b[0m     \u001b[0;32mdef\u001b[0m \u001b[0moptimize\u001b[0m\u001b[0;34m(\u001b[0m\u001b[0mself\u001b[0m\u001b[0;34m,\u001b[0m \u001b[0mlocations\u001b[0m\u001b[0;34m,\u001b[0m \u001b[0mnames\u001b[0m\u001b[0;34m,\u001b[0m \u001b[0morigin\u001b[0m\u001b[0;34m,\u001b[0m \u001b[0mn_vehicles\u001b[0m\u001b[0;34m)\u001b[0m\u001b[0;34m:\u001b[0m\u001b[0;34m\u001b[0m\u001b[0;34m\u001b[0m\u001b[0m\n\u001b[1;32m    116\u001b[0m         \u001b[0mprint\u001b[0m\u001b[0;34m(\u001b[0m\u001b[0;34m\"Computing distance matrix...\"\u001b[0m\u001b[0;34m)\u001b[0m\u001b[0;34m\u001b[0m\u001b[0;34m\u001b[0m\u001b[0m\n\u001b[0;32m--> 117\u001b[0;31m         \u001b[0mdistances\u001b[0m \u001b[0;34m=\u001b[0m \u001b[0mself\u001b[0m\u001b[0;34m.\u001b[0m\u001b[0m__build_distance_matrix\u001b[0m\u001b[0;34m(\u001b[0m\u001b[0mlocations\u001b[0m\u001b[0;34m)\u001b[0m\u001b[0;34m\u001b[0m\u001b[0;34m\u001b[0m\u001b[0m\n\u001b[0m\u001b[1;32m    118\u001b[0m \u001b[0;34m\u001b[0m\u001b[0m\n\u001b[1;32m    119\u001b[0m         \u001b[0mprint\u001b[0m\u001b[0;34m(\u001b[0m\u001b[0;34m\"Creating data model...\"\u001b[0m\u001b[0;34m)\u001b[0m\u001b[0;34m\u001b[0m\u001b[0;34m\u001b[0m\u001b[0m\n",
      "\u001b[0;32m~/MIOTI/data_preprocesing/challenges/session_8/optimizer.py\u001b[0m in \u001b[0;36m__build_distance_matrix\u001b[0;34m(self, locations)\u001b[0m\n\u001b[1;32m     23\u001b[0m \u001b[0;34m\u001b[0m\u001b[0m\n\u001b[1;32m     24\u001b[0m     \u001b[0;32mdef\u001b[0m \u001b[0m__build_distance_matrix\u001b[0m\u001b[0;34m(\u001b[0m\u001b[0mself\u001b[0m\u001b[0;34m,\u001b[0m \u001b[0mlocations\u001b[0m\u001b[0;34m:\u001b[0m \u001b[0mlist\u001b[0m\u001b[0;34m)\u001b[0m\u001b[0;34m:\u001b[0m\u001b[0;34m\u001b[0m\u001b[0;34m\u001b[0m\u001b[0m\n\u001b[0;32m---> 25\u001b[0;31m         \u001b[0mnum_locations\u001b[0m \u001b[0;34m=\u001b[0m \u001b[0mlen\u001b[0m\u001b[0;34m(\u001b[0m\u001b[0mlocations\u001b[0m\u001b[0;34m)\u001b[0m\u001b[0;34m\u001b[0m\u001b[0;34m\u001b[0m\u001b[0m\n\u001b[0m\u001b[1;32m     26\u001b[0m         \u001b[0mdistances\u001b[0m \u001b[0;34m=\u001b[0m \u001b[0mnp\u001b[0m\u001b[0;34m.\u001b[0m\u001b[0mzeros\u001b[0m\u001b[0;34m(\u001b[0m\u001b[0;34m(\u001b[0m\u001b[0mnum_locations\u001b[0m\u001b[0;34m,\u001b[0m \u001b[0mnum_locations\u001b[0m\u001b[0;34m)\u001b[0m\u001b[0;34m)\u001b[0m\u001b[0;34m\u001b[0m\u001b[0;34m\u001b[0m\u001b[0m\n\u001b[1;32m     27\u001b[0m         \u001b[0;32mfor\u001b[0m \u001b[0midx1\u001b[0m\u001b[0;34m,\u001b[0m \u001b[0ml1\u001b[0m \u001b[0;32min\u001b[0m \u001b[0menumerate\u001b[0m\u001b[0;34m(\u001b[0m\u001b[0mlocations\u001b[0m\u001b[0;34m)\u001b[0m\u001b[0;34m:\u001b[0m\u001b[0;34m\u001b[0m\u001b[0;34m\u001b[0m\u001b[0m\n",
      "\u001b[0;31mTypeError\u001b[0m: object of type 'NoneType' has no len()"
     ]
    }
   ],
   "source": [
    "from optimizer import HaversineRouteOptimizer\n",
    "\n",
    "ORIGEN_COORDS = [40.398113888888886, -3.6868250000000002]\n",
    "\n",
    "# TU CÓDIGO AQUÍ\n",
    "locations = None\n",
    "origin = None\n",
    "names = None\n",
    "\n",
    "hro = HaversineRouteOptimizer()\n",
    "hro.optimize(locations, names, origin, n_vehicles = 1)"
   ]
  },
  {
   "cell_type": "markdown",
   "metadata": {},
   "source": [
    "¿Serías capaz de mostrarla en folium para comparar?"
   ]
  },
  {
   "cell_type": "code",
   "execution_count": null,
   "metadata": {},
   "outputs": [],
   "source": [
    "# TU CÓDIGO AQUÍ"
   ]
  }
 ],
 "metadata": {
  "kernelspec": {
   "display_name": "Python 3",
   "language": "python",
   "name": "python3"
  },
  "language_info": {
   "codemirror_mode": {
    "name": "ipython",
    "version": 3
   },
   "file_extension": ".py",
   "mimetype": "text/x-python",
   "name": "python",
   "nbconvert_exporter": "python",
   "pygments_lexer": "ipython3",
   "version": "3.7.4"
  }
 },
 "nbformat": 4,
 "nbformat_minor": 2
}

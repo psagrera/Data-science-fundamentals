{
 "cells": [
  {
   "cell_type": "markdown",
   "metadata": {},
   "source": [
    "<img src=\"imgs/mioti.png\" style=\"height: 100px\">\n",
    "<center style=\"color:#888\">Módulo Data Science in IoT<br/>Asignatura Data preprocessing</center>\n",
    "\n",
    "# Challenge S8: Contaminación en Madrid"
   ]
  },
  {
   "cell_type": "markdown",
   "metadata": {},
   "source": [
    "## Objetivos:\n",
    "\n",
    "* Experimentar con datos de Open Data Madrid.\n",
    "* Trabajar con datos de localización.\n",
    "* Representar la contaminación en Madrid del mes de septiembre de 2018."
   ]
  },
  {
   "cell_type": "markdown",
   "metadata": {},
   "source": [
    "**NOTA:** Actualmente Google Chrome tiene un problema al renderizar gráficos complejos con folium. Por eso **se recomienda encarecidamente** el realizar esta sesión con __[Mozilla Firefox](https://www.mozilla.org/es-ES/firefox/new/)__. Si nuestro navegador por defecto no es Firefox, podremos acceder al servidor de Jupyter Notebook una vez lo hayamos lanzado, copiando la url que contiene el token en el navegador Firefox.\n",
    "\n",
    "<img src=\"imgs/notebookrun.png\"/>"
   ]
  },
  {
   "cell_type": "markdown",
   "metadata": {},
   "source": [
    "## Inicializamos entorno"
   ]
  },
  {
   "cell_type": "code",
   "execution_count": 1,
   "metadata": {},
   "outputs": [],
   "source": [
    "import numpy as np\n",
    "import pandas as pd\n",
    "import re\n",
    "import folium\n",
    "import random\n",
    "\n",
    "%matplotlib inline\n",
    "import matplotlib.pyplot as plt \n",
    "\n",
    "estaciones = pd.read_csv(\"data/madrid_estaciones_cont.csv\")\n",
    "contamina = pd.read_csv('data/contamina_2018_09_diario.csv')\n",
    "\n",
    "random.seed(1234)"
   ]
  },
  {
   "cell_type": "markdown",
   "metadata": {},
   "source": [
    "Empezaremos a trabajar con los puestos de medida de la contaminación de Madrid. "
   ]
  },
  {
   "cell_type": "code",
   "execution_count": 2,
   "metadata": {},
   "outputs": [
    {
     "name": "stdout",
     "output_type": "stream",
     "text": [
      "<class 'pandas.core.frame.DataFrame'>\n",
      "RangeIndex: 41 entries, 0 to 40\n",
      "Data columns (total 24 columns):\n",
      " #   Column           Non-Null Count  Dtype  \n",
      "---  ------           --------------  -----  \n",
      " 0   Unnamed: 0       0 non-null      float64\n",
      " 1   NÚMERO           38 non-null     object \n",
      " 2   ESTACIÓN         40 non-null     object \n",
      " 3   DIRECCIÓN        40 non-null     object \n",
      " 4   LONGITUD         37 non-null     object \n",
      " 5   LATITUD          37 non-null     object \n",
      " 6   ALTITUD          37 non-null     float64\n",
      " 7   TIPO ESTACION *  37 non-null     object \n",
      " 8   NO2              37 non-null     object \n",
      " 9   SO2              12 non-null     object \n",
      " 10  CO               17 non-null     object \n",
      " 11  PM10             14 non-null     object \n",
      " 12  PM2,5            7 non-null      object \n",
      " 13  O3               23 non-null     object \n",
      " 14  BTX              8 non-null      object \n",
      " 15  HC               4 non-null      object \n",
      " 16  UV               3 non-null      object \n",
      " 17  VV               6 non-null      object \n",
      " 18  DV               6 non-null      object \n",
      " 19  TMP              11 non-null     object \n",
      " 20  HR               5 non-null      object \n",
      " 21  PRB              3 non-null      object \n",
      " 22  RS               2 non-null      object \n",
      " 23  LL               21 non-null     object \n",
      "dtypes: float64(2), object(22)\n",
      "memory usage: 7.8+ KB\n"
     ]
    }
   ],
   "source": [
    "estaciones.info()"
   ]
  },
  {
   "cell_type": "markdown",
   "metadata": {},
   "source": [
    "Haremos uso de la función proporcionada en el worksheet para transformar las coordenadas de grados, minutos y segundos a meridiano."
   ]
  },
  {
   "cell_type": "code",
   "execution_count": 3,
   "metadata": {},
   "outputs": [],
   "source": [
    "def convertir_coords(s):\n",
    "    # https://pythex.org/\n",
    "    import re\n",
    "    if s is np.nan:\n",
    "        return np.nan\n",
    "    \n",
    "    degrees, minutes, seconds, direction = re.split('[º \\' \"]+', s)\n",
    "    seconds = seconds.replace(\",\", \".\")\n",
    "    dd = float(degrees) + float(minutes)/60 + float(seconds)/(60*60);\n",
    "    if direction in ('S','O'):\n",
    "        dd*= -1\n",
    "    \n",
    "    return dd"
   ]
  },
  {
   "cell_type": "markdown",
   "metadata": {},
   "source": [
    "## Preprocesamiento y exploración de los datos de sensores\n",
    "\n",
    "Aplica las transformaciones necesarias y construye un mapa de los datos de exploración de sensores de contaminación."
   ]
  },
  {
   "cell_type": "code",
   "execution_count": null,
   "metadata": {},
   "outputs": [],
   "source": [
    "# TU CÓDIGO AQUÍ"
   ]
  },
  {
   "cell_type": "markdown",
   "metadata": {},
   "source": [
    "## Representación de contaminación durante el mes de septiembre\n",
    "\n",
    "Preprocesa y representa los datos de contaminación en Madrid para el mes de septiembre. Tienes los datos cargados en la variable `contamina`."
   ]
  },
  {
   "cell_type": "code",
   "execution_count": null,
   "metadata": {},
   "outputs": [],
   "source": [
    "# TU CÓDIGO AQUÍ"
   ]
  },
  {
   "cell_type": "markdown",
   "metadata": {},
   "source": [
    "## Optimización de rutas\n",
    "\n",
    "En el worksheet hemos hablado de optimización de rutas como un problema recurrente sobretodo para operaciones logísticas. Lamentablemente, no somos capaces de hacerlo por fuerza bruta en problemas grandes y tampoco sin distancias de ruta por carretera reales. Sin embargo, sí que tenemos la distancia haversine.\n",
    "\n",
    "Imagina que después de una tormenta eléctrica, todos los dispositivos de medición de contaminación en Madrid se han estropeado y que eres el técnico encargado de repararlos. Si la central del técnico está situada en el punto origen propuesto, construye un algoritmo que calcule la ruta óptima, siendo esta la que más sensores permita reparar en menor tiempo posible y obtén la distancia total recorrida.\n",
    "\n",
    "Estructura del algoritmo propuesta:\n",
    "* Establecer punto de origen\n",
    "* Repetir hasta que no queden puntos por visitar:\n",
    "    * Calcular desde el punto actual la distancia a todos los puntos restantes.\n",
    "    * Escoger el punto más cercano.\n",
    "    * Marcar ese punto como punto ya visitado. No queremos visitar un mismo punto varias veces.\n",
    "    * Establecer como nuevo punto de origen el seleccionado como más cercano.\n",
    "* Una vez no queden más puntos por visitar, calcula la distancia de vuelta directamente a la central del técnico.\n",
    "\n",
    "¿Serías capaz de pintar esta ruta en un mapa de folium?"
   ]
  },
  {
   "cell_type": "code",
   "execution_count": null,
   "metadata": {},
   "outputs": [],
   "source": [
    "ORIGEN_COORDS = [40.398113888888886, -3.6868250000000002]\n",
    "\n",
    "def haversine(lon1, lat1, lon2, lat2):\n",
    "    from math import radians, cos, sin, asin, sqrt\n",
    "    \n",
    "    # convert decimal degrees to radians \n",
    "    lon1, lat1, lon2, lat2 = map(radians, [lon1, lat1, lon2, lat2])\n",
    "\n",
    "    # haversine formula \n",
    "    dlon = lon2 - lon1 \n",
    "    dlat = lat2 - lat1 \n",
    "    a = sin(dlat/2)**2 + cos(lat1) * cos(lat2) * sin(dlon/2)**2\n",
    "    c = 2 * asin(sqrt(a)) \n",
    "    r = 6371 # Radio de la tierra en km.\n",
    "    \n",
    "    return c * r"
   ]
  },
  {
   "cell_type": "code",
   "execution_count": null,
   "metadata": {},
   "outputs": [],
   "source": [
    "# TU ALGORITMO DE RUTA AQUÍ"
   ]
  },
  {
   "cell_type": "markdown",
   "metadata": {},
   "source": [
    "Compara ahora tu resultado con el resultado de OR-Tools. Recuerda que necesitas llamar a la función ```optimize``` de la clase ```HaversineRouteOptimizer``` que requiere los siguientes parámetros:\n",
    "* Lista de localizaciones en coordenadas GPS.\n",
    "* Lista de nombres de las localizaciones en el mismo orden.\n",
    "* Localización de salida de los vehículos. Es el índice de uno de los puntos de localización. Siendo 0 el primer elemento, 1 el segundo, etc...\n",
    "* Número de vehículos, en este caso sólo uno."
   ]
  },
  {
   "cell_type": "code",
   "execution_count": null,
   "metadata": {},
   "outputs": [],
   "source": [
    "from optimizer import HaversineRouteOptimizer\n",
    "\n",
    "ORIGEN_COORDS = [40.398113888888886, -3.6868250000000002]\n",
    "\n",
    "# TU CÓDIGO AQUÍ\n",
    "locations = None\n",
    "origin = None\n",
    "names = None\n",
    "\n",
    "hro = HaversineRouteOptimizer()\n",
    "hro.optimize(locations, names, origin, n_vehicles = 1)"
   ]
  },
  {
   "cell_type": "markdown",
   "metadata": {},
   "source": [
    "¿Serías capaz de mostrarla en folium para comparar?"
   ]
  },
  {
   "cell_type": "code",
   "execution_count": null,
   "metadata": {},
   "outputs": [],
   "source": [
    "# TU CÓDIGO AQUÍ"
   ]
  }
 ],
 "metadata": {
  "kernelspec": {
   "display_name": "Python 3",
   "language": "python",
   "name": "python3"
  },
  "language_info": {
   "codemirror_mode": {
    "name": "ipython",
    "version": 3
   },
   "file_extension": ".py",
   "mimetype": "text/x-python",
   "name": "python",
   "nbconvert_exporter": "python",
   "pygments_lexer": "ipython3",
   "version": "3.7.4"
  }
 },
 "nbformat": 4,
 "nbformat_minor": 2
}

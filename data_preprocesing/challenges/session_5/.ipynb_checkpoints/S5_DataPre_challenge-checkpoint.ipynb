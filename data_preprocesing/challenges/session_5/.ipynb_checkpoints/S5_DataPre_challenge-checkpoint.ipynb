{
 "cells": [
  {
   "cell_type": "markdown",
   "metadata": {},
   "source": [
    "##### <img src=\"mioti.png\" style=\"height: 100px\">\n",
    "<center style=\"color:#888\">Módulo Data Science in IoT<br/>Asignatura Data preprocessing</center>\n",
    "# Challenge S5: Liga de Fútbol Profesional"
   ]
  },
  {
   "cell_type": "markdown",
   "metadata": {},
   "source": [
    "## Objetivos\n",
    "\n",
    "El objetivo de este challenge es simular mediante el método de montecarlo el resultado de la próxima liga 2019-2020.\n",
    "\n",
    "Para ello, utilizando las distribuciones de probabilidad, y todos los conceptos previos que hemos aprendido realizaremos una simulación lo más realista posible."
   ]
  },
  {
   "cell_type": "markdown",
   "metadata": {},
   "source": [
    "## Configuración del entorno"
   ]
  },
  {
   "cell_type": "code",
   "execution_count": null,
   "metadata": {},
   "outputs": [],
   "source": [
    "%matplotlib inline\n",
    "\n",
    "import numpy as np\n",
    "import pandas as pd\n",
    "import matplotlib.pyplot as plt\n",
    "import math"
   ]
  },
  {
   "cell_type": "markdown",
   "metadata": {},
   "source": [
    "## Carga de datos\n",
    "\n",
    "Para este challenge dispones de varias fuentes de datos que puedes utilizar:\n",
    "\n",
    "* `equipos_liga_2019-20.txt` Fichero TXT con los equipos que disputarán la temporada 2010 - 2020 en la primera división de Liga de Fútbol profesional en España.\n",
    "* `clasificacion_historica.csv` Fichero con resultados acumulados de todos los equipos que han jugado alguna vez en primera division.\n",
    "* Cualquier otra fuente de datos que quieras añadir o información tuya si sabes mucho de fútbol 😄."
   ]
  },
  {
   "cell_type": "markdown",
   "metadata": {},
   "source": [
    "El primer paso será la carga de datos a partir del fichero `TXT`. Como sólo contiene el nombre de los equipos meteremos los valores en una lista."
   ]
  },
  {
   "cell_type": "code",
   "execution_count": null,
   "metadata": {},
   "outputs": [],
   "source": [
    "with open('equipos_liga_2019-20.txt', encoding='utf-8') as f:\n",
    "    equipos = f.readlines()\n",
    "    equipos = [x.strip() for x in equipos] \n",
    "\n",
    "equipos"
   ]
  },
  {
   "cell_type": "markdown",
   "metadata": {},
   "source": [
    "## Simulador de partidos\n",
    "\n",
    "El primer paso para realizar un análisis de montecarlo es definir la función que nos permita simular cada caso individual, en nuestro casos son los partidos. Puedes implementar esta función como quieras.\n",
    "\n",
    "Tip: puedes usar `clasificacion_historica.csv` que contiene datos históricos de los distintos equipos, usar una fuente que busques por internet, o puedes hacer una función con tu \"conocimiento futbolístico\"."
   ]
  },
  {
   "cell_type": "code",
   "execution_count": null,
   "metadata": {},
   "outputs": [],
   "source": [
    "clashist=pd.read_csv(\"clasificacion_historica.csv\",sep='\\t')"
   ]
  },
  {
   "cell_type": "markdown",
   "metadata": {},
   "source": [
    "Podemos ver los datos de clasificación histórica de los equipos que jugarán la liga la próxima temporada"
   ]
  },
  {
   "cell_type": "code",
   "execution_count": null,
   "metadata": {},
   "outputs": [],
   "source": [
    "clashist[clashist.Equipo.isin(equipos)]"
   ]
  },
  {
   "cell_type": "markdown",
   "metadata": {},
   "source": [
    "Lo primero es simular un partido entre 2 equipos"
   ]
  },
  {
   "cell_type": "code",
   "execution_count": null,
   "metadata": {},
   "outputs": [],
   "source": [
    "def simular_partido(equipo_local, equipo_visitante):\n",
    "    '''Simula un partido, devuelve una entero: 0 gana el equipo local, 1 empate, 2 gana el equipo visitante'''\n",
    "    resultado = 1\n",
    "    \n",
    "    return resultado       "
   ]
  },
  {
   "cell_type": "code",
   "execution_count": null,
   "metadata": {},
   "outputs": [],
   "source": [
    "simular_partido('Real Madrid', 'Valencia CF')"
   ]
  },
  {
   "cell_type": "markdown",
   "metadata": {},
   "source": [
    "## Simulador de temporadas\n",
    "\n",
    "Una vez que tenemos una función que nos simula un partido, vamos a hacer una función que nos simule una temporada completa `simular_temporada`:"
   ]
  },
  {
   "cell_type": "code",
   "execution_count": null,
   "metadata": {},
   "outputs": [],
   "source": [
    "def simular_temporada():\n",
    "    '''Simula una temporada completa, y devuelve un diccionario con el resultado en puntos obtenido por cada equipo'''\n",
    "    \n",
    "    # Creo una clasificación vacía (diccionario con puntos)\n",
    "    clasificacion = {}\n",
    "    for e in equipos:\n",
    "        clasificacion[e] = 0 \n",
    "\n",
    "    for equipo_local in equipos:\n",
    "        for equipo_visitante in equipos:\n",
    "            if equipo_local == equipo_visitante:\n",
    "                pass\n",
    "            resultado = simular_partido(equipo_local, equipo_visitante)\n",
    "            \n",
    "            if resultado == 0: \n",
    "                # Gana el equipo local\n",
    "                clasificacion[equipo_local] += 3\n",
    "            elif resultado == 1: \n",
    "                # Empate\n",
    "                clasificacion[equipo_local] += 1\n",
    "                clasificacion[equipo_visitante] += 1\n",
    "            elif resultado == 2:\n",
    "                # Gana el equipo visitante\n",
    "                clasificacion[equipo_visitante] += 3\n",
    "                \n",
    "    return clasificacion"
   ]
  },
  {
   "cell_type": "markdown",
   "metadata": {},
   "source": [
    "## Agregador de resultados\n",
    "Por último necesitamos una función (`simular_lfp`) que nos genere los distintos casos de prueba a evaluar (temporadas) y por cada una de ella nos agrege los resultados"
   ]
  },
  {
   "cell_type": "code",
   "execution_count": null,
   "metadata": {},
   "outputs": [],
   "source": [
    "def simular_lfp(num_iteraciones):\n",
    "    '''\n",
    "    Realiza la simulación de montecarlo\n",
    "    Devuelve un dataframe que tiene por columnas los distintos equipos y por cada fila la posición\n",
    "    de cada equipo en la simulación.\n",
    "    '''\n",
    "    # Creo una clasificación global vacía\n",
    "    clasificacion_global = pd.DataFrame(columns=equipos)\n",
    "\n",
    "    num_intentos = 0\n",
    "    for intento in range(0, num_iteraciones):\n",
    "        if intento % 5 == 0:\n",
    "            print(\"Simulando temporada \" + str(intento) + \"...\")\n",
    "\n",
    "        # Obtenemos los resultados de puntos de la temporada\n",
    "        temporada_i = simular_temporada()     \n",
    "        #print(\"Resultados: \" + str(temporada_i))\n",
    "\n",
    "        # Convertimos los puntos en clasificacion\n",
    "        clasificacion = {}\n",
    "        posicion = 1\n",
    "        for equipo in sorted(temporada_i, key=temporada_i.get, reverse=True):\n",
    "            clasificacion[equipo] = posicion\n",
    "            posicion += 1\n",
    "\n",
    "        #print(\"Clasificación: \" + str(clasificacion))\n",
    "\n",
    "        # Obtengo el equipo ganador\n",
    "        clasificacion_global.loc[intento] = clasificacion\n",
    "\n",
    "        num_intentos += 1\n",
    "\n",
    "    #print(clasificacion_global)\n",
    "    print(\"Fin de la simulación.\")\n",
    "    return clasificacion_global"
   ]
  },
  {
   "cell_type": "markdown",
   "metadata": {},
   "source": [
    "## Ejecución del análisis"
   ]
  },
  {
   "cell_type": "code",
   "execution_count": null,
   "metadata": {},
   "outputs": [],
   "source": [
    "clasificacion_global = simular_lfp(110)"
   ]
  },
  {
   "cell_type": "code",
   "execution_count": null,
   "metadata": {},
   "outputs": [],
   "source": [
    "clasificacion_global.head()"
   ]
  },
  {
   "cell_type": "markdown",
   "metadata": {},
   "source": [
    "## Análisis de resultados\n",
    "\n",
    "Ahora, con los resultados obtenidos, vamos a plantearnos algunas preguntas:\n",
    "\n",
    "### ¿Cuál es la posición media de cada equipo en la simulación?"
   ]
  },
  {
   "cell_type": "code",
   "execution_count": null,
   "metadata": {},
   "outputs": [],
   "source": []
  },
  {
   "cell_type": "markdown",
   "metadata": {},
   "source": [
    "### ¿Ha ganado R. Valladolid CF alguna vez la liga?"
   ]
  },
  {
   "cell_type": "code",
   "execution_count": null,
   "metadata": {},
   "outputs": [],
   "source": []
  },
  {
   "cell_type": "markdown",
   "metadata": {
    "collapsed": true
   },
   "source": [
    "### ¿Cual es la distribución de los resultados del Madrid, Barcelona y del SD Eibar?"
   ]
  },
  {
   "cell_type": "code",
   "execution_count": null,
   "metadata": {},
   "outputs": [],
   "source": []
  },
  {
   "cell_type": "markdown",
   "metadata": {
    "collapsed": true
   },
   "source": [
    "## Reflexiones\n",
    "\n",
    "* ¿Qué información se te ocurre que puede ser interesante incorporar en esta simulación?\n",
    "* ¿Puede el método de montecarlo ayudarnos a ganar una quiniela?"
   ]
  },
  {
   "cell_type": "code",
   "execution_count": null,
   "metadata": {},
   "outputs": [],
   "source": []
  }
 ],
 "metadata": {
  "anaconda-cloud": {},
  "kernelspec": {
   "display_name": "Python 3",
   "language": "python",
   "name": "python3"
  },
  "language_info": {
   "codemirror_mode": {
    "name": "ipython",
    "version": 3
   },
   "file_extension": ".py",
   "mimetype": "text/x-python",
   "name": "python",
   "nbconvert_exporter": "python",
   "pygments_lexer": "ipython3",
   "version": "3.6.8"
  },
  "toc": {
   "base_numbering": 1,
   "nav_menu": {},
   "number_sections": true,
   "sideBar": true,
   "skip_h1_title": false,
   "title_cell": "Table of Contents",
   "title_sidebar": "Contents",
   "toc_cell": false,
   "toc_position": {},
   "toc_section_display": true,
   "toc_window_display": false
  },
  "varInspector": {
   "cols": {
    "lenName": 16,
    "lenType": 16,
    "lenVar": 40
   },
   "kernels_config": {
    "python": {
     "delete_cmd_postfix": "",
     "delete_cmd_prefix": "del ",
     "library": "var_list.py",
     "varRefreshCmd": "print(var_dic_list())"
    },
    "r": {
     "delete_cmd_postfix": ") ",
     "delete_cmd_prefix": "rm(",
     "library": "var_list.r",
     "varRefreshCmd": "cat(var_dic_list()) "
    }
   },
   "types_to_exclude": [
    "module",
    "function",
    "builtin_function_or_method",
    "instance",
    "_Feature"
   ],
   "window_display": false
  }
 },
 "nbformat": 4,
 "nbformat_minor": 2
}

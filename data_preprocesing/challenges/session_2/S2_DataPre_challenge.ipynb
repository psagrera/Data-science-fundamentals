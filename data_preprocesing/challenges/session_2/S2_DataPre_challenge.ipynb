{
 "cells": [
  {
   "cell_type": "markdown",
   "metadata": {},
   "source": [
    "<img src=\"mioti.png\" style=\"height: 100px\">\n",
    "<center style=\"color:#888\">Módulo Data Science in IoT<br/>Asignatura: Data preprocessing</center>\n",
    "\n",
    "# Challenge S2: Anonimización AirBnbMadrid"
   ]
  },
  {
   "cell_type": "markdown",
   "metadata": {},
   "source": [
    "## Objetivos\n",
    "\n",
    "En este challenge nos enfrentaremos a un dataset real, que contiene los datos de los alojamientos disponibles de Airbnb para la comunidad de Madrid. Nuestro objetivo en el challenge es anonimizarlo y convertir el dataset de AirBnBMadrid a AirBnBValladolid."
   ]
  },
  {
   "cell_type": "markdown",
   "metadata": {},
   "source": [
    "## Configuración del entorno"
   ]
  },
  {
   "cell_type": "code",
   "execution_count": 1,
   "metadata": {
    "ExecuteTime": {
     "end_time": "2019-11-06T18:14:53.310314Z",
     "start_time": "2019-11-06T18:14:52.945847Z"
    }
   },
   "outputs": [],
   "source": [
    "%matplotlib inline\n",
    "\n",
    "import numpy as np\n",
    "import pandas as pd\n",
    "import matplotlib.pyplot as plt\n",
    "\n",
    "from faker import Faker\n",
    "fake = Faker('es_ES')"
   ]
  },
  {
   "cell_type": "markdown",
   "metadata": {},
   "source": [
    "## Carga de los datos\n",
    "Esta vez va a ser fácil, vamos a importar los datos de un fichero csv, utilizaremos la función read_csv que nos proporciona la libreria de pandas."
   ]
  },
  {
   "cell_type": "code",
   "execution_count": 2,
   "metadata": {
    "ExecuteTime": {
     "end_time": "2019-11-06T18:14:54.589087Z",
     "start_time": "2019-11-06T18:14:53.921491Z"
    }
   },
   "outputs": [],
   "source": [
    "df = pd.read_csv('dataset_airbnb_madrid.csv')"
   ]
  },
  {
   "cell_type": "markdown",
   "metadata": {},
   "source": [
    "Como este dataset es muy complejo, vamos a quedarnos con un subconjunto de columnas para este challenge:"
   ]
  },
  {
   "cell_type": "code",
   "execution_count": 3,
   "metadata": {
    "ExecuteTime": {
     "end_time": "2019-11-06T18:14:56.481251Z",
     "start_time": "2019-11-06T18:14:56.455895Z"
    }
   },
   "outputs": [],
   "source": [
    "df = df[['id', 'listing_url', 'name', 'summary', 'price', 'weekly_price', 'zipcode', 'country', 'latitude', 'longitude']]"
   ]
  },
  {
   "cell_type": "markdown",
   "metadata": {},
   "source": [
    "## Comprensión del dataset\n",
    "\n",
    "Una vez cargados los datos debemos inspeccionarlos, y entender que datos contiene cada una de las columnas:\n",
    "\n",
    "Describe por cada columna:\n",
    "\n",
    "* ¿Qué contiene?\n",
    "* ¿Cual es el rango de los datos?\n",
    "* ¿Contiene datos sensibles?\n",
    "* ¿Depende de otras?"
   ]
  },
  {
   "cell_type": "code",
   "execution_count": 4,
   "metadata": {
    "ExecuteTime": {
     "end_time": "2019-11-02T17:21:10.252338Z",
     "start_time": "2019-11-02T17:21:10.239110Z"
    }
   },
   "outputs": [
    {
     "name": "stdout",
     "output_type": "stream",
     "text": [
      "<class 'pandas.core.frame.DataFrame'>\n",
      "RangeIndex: 13335 entries, 0 to 13334\n",
      "Data columns (total 10 columns):\n",
      "id              13335 non-null int64\n",
      "listing_url     13335 non-null object\n",
      "name            13335 non-null object\n",
      "summary         12846 non-null object\n",
      "price           13335 non-null object\n",
      "weekly_price    3512 non-null object\n",
      "zipcode         12896 non-null object\n",
      "country         13334 non-null object\n",
      "latitude        13335 non-null float64\n",
      "longitude       13335 non-null float64\n",
      "dtypes: float64(2), int64(1), object(7)\n",
      "memory usage: 1.0+ MB\n"
     ]
    }
   ],
   "source": [
    "df.info()"
   ]
  },
  {
   "cell_type": "code",
   "execution_count": 5,
   "metadata": {
    "ExecuteTime": {
     "end_time": "2019-11-02T17:21:16.709134Z",
     "start_time": "2019-11-02T17:21:16.695586Z"
    }
   },
   "outputs": [
    {
     "data": {
      "text/html": [
       "<div>\n",
       "<style scoped>\n",
       "    .dataframe tbody tr th:only-of-type {\n",
       "        vertical-align: middle;\n",
       "    }\n",
       "\n",
       "    .dataframe tbody tr th {\n",
       "        vertical-align: top;\n",
       "    }\n",
       "\n",
       "    .dataframe thead th {\n",
       "        text-align: right;\n",
       "    }\n",
       "</style>\n",
       "<table border=\"1\" class=\"dataframe\">\n",
       "  <thead>\n",
       "    <tr style=\"text-align: right;\">\n",
       "      <th></th>\n",
       "      <th>id</th>\n",
       "      <th>listing_url</th>\n",
       "      <th>name</th>\n",
       "      <th>summary</th>\n",
       "      <th>price</th>\n",
       "      <th>weekly_price</th>\n",
       "      <th>zipcode</th>\n",
       "      <th>country</th>\n",
       "      <th>latitude</th>\n",
       "      <th>longitude</th>\n",
       "    </tr>\n",
       "  </thead>\n",
       "  <tbody>\n",
       "    <tr>\n",
       "      <td>0</td>\n",
       "      <td>7830063</td>\n",
       "      <td>https://www.airbnb.com/rooms/7830063</td>\n",
       "      <td>Quiet room in Plaza Mayor</td>\n",
       "      <td>Room in magnificent property in the historic c...</td>\n",
       "      <td>$42.00</td>\n",
       "      <td>$300.00</td>\n",
       "      <td>28005</td>\n",
       "      <td>Spain</td>\n",
       "      <td>40.412275</td>\n",
       "      <td>-3.708718</td>\n",
       "    </tr>\n",
       "    <tr>\n",
       "      <td>1</td>\n",
       "      <td>9898596</td>\n",
       "      <td>https://www.airbnb.com/rooms/9898596</td>\n",
       "      <td>Homely apartment in the heart of Madrid</td>\n",
       "      <td>Spacious apartment for up to 10 people, with a...</td>\n",
       "      <td>$135.00</td>\n",
       "      <td>NaN</td>\n",
       "      <td>28005</td>\n",
       "      <td>Spain</td>\n",
       "      <td>40.411093</td>\n",
       "      <td>-3.708985</td>\n",
       "    </tr>\n",
       "    <tr>\n",
       "      <td>2</td>\n",
       "      <td>15334645</td>\n",
       "      <td>https://www.airbnb.com/rooms/15334645</td>\n",
       "      <td>Piso Muy Luminoso en pleno centro de Madrid</td>\n",
       "      <td>Lugares de interés: Casa Lucio, Cine Doré, Cal...</td>\n",
       "      <td>$81.00</td>\n",
       "      <td>NaN</td>\n",
       "      <td>28005</td>\n",
       "      <td>Spain</td>\n",
       "      <td>40.413587</td>\n",
       "      <td>-3.708945</td>\n",
       "    </tr>\n",
       "    <tr>\n",
       "      <td>3</td>\n",
       "      <td>1307795</td>\n",
       "      <td>https://www.airbnb.com/rooms/1307795</td>\n",
       "      <td>Rent room in the heart of Madrid</td>\n",
       "      <td>NaN</td>\n",
       "      <td>$43.00</td>\n",
       "      <td>$240.00</td>\n",
       "      <td>28013</td>\n",
       "      <td>Spain</td>\n",
       "      <td>40.419936</td>\n",
       "      <td>-3.709180</td>\n",
       "    </tr>\n",
       "    <tr>\n",
       "      <td>4</td>\n",
       "      <td>17410608</td>\n",
       "      <td>https://www.airbnb.com/rooms/17410608</td>\n",
       "      <td>Luxury duplex penthouse in historic building</td>\n",
       "      <td>Amazing duplex penthouse in a historic buildin...</td>\n",
       "      <td>$50.00</td>\n",
       "      <td>NaN</td>\n",
       "      <td>28005</td>\n",
       "      <td>Spain</td>\n",
       "      <td>40.410894</td>\n",
       "      <td>-3.712537</td>\n",
       "    </tr>\n",
       "    <tr>\n",
       "      <td>5</td>\n",
       "      <td>9141653</td>\n",
       "      <td>https://www.airbnb.com/rooms/9141653</td>\n",
       "      <td>Center/Gran via apartment exclusive</td>\n",
       "      <td>Apartament exceptionally located, next to the ...</td>\n",
       "      <td>$144.00</td>\n",
       "      <td>NaN</td>\n",
       "      <td>28013</td>\n",
       "      <td>Spain</td>\n",
       "      <td>40.419378</td>\n",
       "      <td>-3.708383</td>\n",
       "    </tr>\n",
       "    <tr>\n",
       "      <td>6</td>\n",
       "      <td>1320674</td>\n",
       "      <td>https://www.airbnb.com/rooms/1320674</td>\n",
       "      <td>City center! Opera-Sol-Plaza Mayor</td>\n",
       "      <td>Illuminated, very functional, great location (...</td>\n",
       "      <td>$60.00</td>\n",
       "      <td>NaN</td>\n",
       "      <td>28013</td>\n",
       "      <td>Spain</td>\n",
       "      <td>40.416376</td>\n",
       "      <td>-3.710314</td>\n",
       "    </tr>\n",
       "    <tr>\n",
       "      <td>7</td>\n",
       "      <td>15118056</td>\n",
       "      <td>https://www.airbnb.com/rooms/15118056</td>\n",
       "      <td>COCOBOLO CENTER HOUSE WITH FREE PARKING</td>\n",
       "      <td>Un hogar para disfrutar, rodeado de zonas verd...</td>\n",
       "      <td>$68.00</td>\n",
       "      <td>NaN</td>\n",
       "      <td>28005</td>\n",
       "      <td>Spain</td>\n",
       "      <td>40.414209</td>\n",
       "      <td>-3.716072</td>\n",
       "    </tr>\n",
       "    <tr>\n",
       "      <td>8</td>\n",
       "      <td>14870504</td>\n",
       "      <td>https://www.airbnb.com/rooms/14870504</td>\n",
       "      <td>Habitacion 1 en el Madrid de los Austrias</td>\n",
       "      <td>Lugares de interés: el apartamento esta situad...</td>\n",
       "      <td>$29.00</td>\n",
       "      <td>NaN</td>\n",
       "      <td>28005</td>\n",
       "      <td>Spain</td>\n",
       "      <td>40.415185</td>\n",
       "      <td>-3.713099</td>\n",
       "    </tr>\n",
       "    <tr>\n",
       "      <td>9</td>\n",
       "      <td>17049729</td>\n",
       "      <td>https://www.airbnb.com/rooms/17049729</td>\n",
       "      <td>APARTAMENTO GRAN VIA</td>\n",
       "      <td>BONITO APARTAESTUDIO UBICADO EN EL CORAZON DE ...</td>\n",
       "      <td>$60.00</td>\n",
       "      <td>NaN</td>\n",
       "      <td>28013</td>\n",
       "      <td>Spain</td>\n",
       "      <td>40.421408</td>\n",
       "      <td>-3.707650</td>\n",
       "    </tr>\n",
       "    <tr>\n",
       "      <td>10</td>\n",
       "      <td>16153065</td>\n",
       "      <td>https://www.airbnb.com/rooms/16153065</td>\n",
       "      <td>Habitación grande y céntrica, con su baño privado</td>\n",
       "      <td>Te va a encantar mi espacio por los techos alt...</td>\n",
       "      <td>$30.00</td>\n",
       "      <td>NaN</td>\n",
       "      <td>28005</td>\n",
       "      <td>Spain</td>\n",
       "      <td>40.413394</td>\n",
       "      <td>-3.712970</td>\n",
       "    </tr>\n",
       "    <tr>\n",
       "      <td>11</td>\n",
       "      <td>7233222</td>\n",
       "      <td>https://www.airbnb.com/rooms/7233222</td>\n",
       "      <td>Great room with amazing terrace</td>\n",
       "      <td>Bright and comfy room, at an excelent location...</td>\n",
       "      <td>$33.00</td>\n",
       "      <td>$170.00</td>\n",
       "      <td>28013</td>\n",
       "      <td>Spain</td>\n",
       "      <td>40.416321</td>\n",
       "      <td>-3.709355</td>\n",
       "    </tr>\n",
       "    <tr>\n",
       "      <td>12</td>\n",
       "      <td>11697470</td>\n",
       "      <td>https://www.airbnb.com/rooms/11697470</td>\n",
       "      <td>Big Flat 4BD - OPERA area - City Center!!</td>\n",
       "      <td>Large flat in the fourth floor of a classic Ma...</td>\n",
       "      <td>$79.00</td>\n",
       "      <td>NaN</td>\n",
       "      <td>28013</td>\n",
       "      <td>Spain</td>\n",
       "      <td>40.419746</td>\n",
       "      <td>-3.708193</td>\n",
       "    </tr>\n",
       "    <tr>\n",
       "      <td>13</td>\n",
       "      <td>10935260</td>\n",
       "      <td>https://www.airbnb.com/rooms/10935260</td>\n",
       "      <td>Great Room, best location!</td>\n",
       "      <td>Spacious Double bedroom in a fully equipped an...</td>\n",
       "      <td>$25.00</td>\n",
       "      <td>$140.00</td>\n",
       "      <td>28013</td>\n",
       "      <td>Spain</td>\n",
       "      <td>40.419539</td>\n",
       "      <td>-3.711774</td>\n",
       "    </tr>\n",
       "    <tr>\n",
       "      <td>14</td>\n",
       "      <td>15053735</td>\n",
       "      <td>https://www.airbnb.com/rooms/15053735</td>\n",
       "      <td>LOFT NEXT TO OPERA AND PUERTA DEL SOL IN MADRID</td>\n",
       "      <td>Set 300 metres from Plaza Mayor and 400 metres...</td>\n",
       "      <td>$60.00</td>\n",
       "      <td>NaN</td>\n",
       "      <td>28013</td>\n",
       "      <td>Spain</td>\n",
       "      <td>40.417109</td>\n",
       "      <td>-3.710009</td>\n",
       "    </tr>\n",
       "    <tr>\n",
       "      <td>15</td>\n",
       "      <td>16818439</td>\n",
       "      <td>https://www.airbnb.com/rooms/16818439</td>\n",
       "      <td>Appartment Centro Madrid</td>\n",
       "      <td>Center</td>\n",
       "      <td>$80.00</td>\n",
       "      <td>NaN</td>\n",
       "      <td>28008</td>\n",
       "      <td>Spain</td>\n",
       "      <td>40.417820</td>\n",
       "      <td>-3.719798</td>\n",
       "    </tr>\n",
       "    <tr>\n",
       "      <td>16</td>\n",
       "      <td>6483900</td>\n",
       "      <td>https://www.airbnb.com/rooms/6483900</td>\n",
       "      <td>BUHARDILLA EN GRAN VIA Y PZA ESPAÑA</td>\n",
       "      <td>Beautiful and cozy loft in the center of Madri...</td>\n",
       "      <td>$65.00</td>\n",
       "      <td>$410.00</td>\n",
       "      <td>28013</td>\n",
       "      <td>Spain</td>\n",
       "      <td>40.422730</td>\n",
       "      <td>-3.710024</td>\n",
       "    </tr>\n",
       "    <tr>\n",
       "      <td>17</td>\n",
       "      <td>10079445</td>\n",
       "      <td>https://www.airbnb.com/rooms/10079445</td>\n",
       "      <td>Smart Room en LATINA</td>\n",
       "      <td>Preciosa habitación exterior en Latina con bañ...</td>\n",
       "      <td>$39.00</td>\n",
       "      <td>NaN</td>\n",
       "      <td>28005</td>\n",
       "      <td>Spain</td>\n",
       "      <td>40.409554</td>\n",
       "      <td>-3.711375</td>\n",
       "    </tr>\n",
       "    <tr>\n",
       "      <td>18</td>\n",
       "      <td>4711892</td>\n",
       "      <td>https://www.airbnb.com/rooms/4711892</td>\n",
       "      <td>camera centro Madrid</td>\n",
       "      <td>Camera matrimoniale con terrazzo in centro Mad...</td>\n",
       "      <td>$60.00</td>\n",
       "      <td>$500.00</td>\n",
       "      <td>28013</td>\n",
       "      <td>Spain</td>\n",
       "      <td>40.420179</td>\n",
       "      <td>-3.708718</td>\n",
       "    </tr>\n",
       "    <tr>\n",
       "      <td>19</td>\n",
       "      <td>6617552</td>\n",
       "      <td>https://www.airbnb.com/rooms/6617552</td>\n",
       "      <td>Special Room in the heart of Madrid</td>\n",
       "      <td>Room in La Latina , Palace Quarter. few steps ...</td>\n",
       "      <td>$30.00</td>\n",
       "      <td>NaN</td>\n",
       "      <td>28005</td>\n",
       "      <td>Spain</td>\n",
       "      <td>40.412348</td>\n",
       "      <td>-3.708316</td>\n",
       "    </tr>\n",
       "  </tbody>\n",
       "</table>\n",
       "</div>"
      ],
      "text/plain": [
       "          id                            listing_url  \\\n",
       "0    7830063   https://www.airbnb.com/rooms/7830063   \n",
       "1    9898596   https://www.airbnb.com/rooms/9898596   \n",
       "2   15334645  https://www.airbnb.com/rooms/15334645   \n",
       "3    1307795   https://www.airbnb.com/rooms/1307795   \n",
       "4   17410608  https://www.airbnb.com/rooms/17410608   \n",
       "5    9141653   https://www.airbnb.com/rooms/9141653   \n",
       "6    1320674   https://www.airbnb.com/rooms/1320674   \n",
       "7   15118056  https://www.airbnb.com/rooms/15118056   \n",
       "8   14870504  https://www.airbnb.com/rooms/14870504   \n",
       "9   17049729  https://www.airbnb.com/rooms/17049729   \n",
       "10  16153065  https://www.airbnb.com/rooms/16153065   \n",
       "11   7233222   https://www.airbnb.com/rooms/7233222   \n",
       "12  11697470  https://www.airbnb.com/rooms/11697470   \n",
       "13  10935260  https://www.airbnb.com/rooms/10935260   \n",
       "14  15053735  https://www.airbnb.com/rooms/15053735   \n",
       "15  16818439  https://www.airbnb.com/rooms/16818439   \n",
       "16   6483900   https://www.airbnb.com/rooms/6483900   \n",
       "17  10079445  https://www.airbnb.com/rooms/10079445   \n",
       "18   4711892   https://www.airbnb.com/rooms/4711892   \n",
       "19   6617552   https://www.airbnb.com/rooms/6617552   \n",
       "\n",
       "                                                 name  \\\n",
       "0                           Quiet room in Plaza Mayor   \n",
       "1             Homely apartment in the heart of Madrid   \n",
       "2         Piso Muy Luminoso en pleno centro de Madrid   \n",
       "3                    Rent room in the heart of Madrid   \n",
       "4        Luxury duplex penthouse in historic building   \n",
       "5                 Center/Gran via apartment exclusive   \n",
       "6                  City center! Opera-Sol-Plaza Mayor   \n",
       "7             COCOBOLO CENTER HOUSE WITH FREE PARKING   \n",
       "8           Habitacion 1 en el Madrid de los Austrias   \n",
       "9                                APARTAMENTO GRAN VIA   \n",
       "10  Habitación grande y céntrica, con su baño privado   \n",
       "11                    Great room with amazing terrace   \n",
       "12          Big Flat 4BD - OPERA area - City Center!!   \n",
       "13                         Great Room, best location!   \n",
       "14    LOFT NEXT TO OPERA AND PUERTA DEL SOL IN MADRID   \n",
       "15                           Appartment Centro Madrid   \n",
       "16                BUHARDILLA EN GRAN VIA Y PZA ESPAÑA   \n",
       "17                               Smart Room en LATINA   \n",
       "18                               camera centro Madrid   \n",
       "19                Special Room in the heart of Madrid   \n",
       "\n",
       "                                              summary    price weekly_price  \\\n",
       "0   Room in magnificent property in the historic c...   $42.00      $300.00   \n",
       "1   Spacious apartment for up to 10 people, with a...  $135.00          NaN   \n",
       "2   Lugares de interés: Casa Lucio, Cine Doré, Cal...   $81.00          NaN   \n",
       "3                                                 NaN   $43.00      $240.00   \n",
       "4   Amazing duplex penthouse in a historic buildin...   $50.00          NaN   \n",
       "5   Apartament exceptionally located, next to the ...  $144.00          NaN   \n",
       "6   Illuminated, very functional, great location (...   $60.00          NaN   \n",
       "7   Un hogar para disfrutar, rodeado de zonas verd...   $68.00          NaN   \n",
       "8   Lugares de interés: el apartamento esta situad...   $29.00          NaN   \n",
       "9   BONITO APARTAESTUDIO UBICADO EN EL CORAZON DE ...   $60.00          NaN   \n",
       "10  Te va a encantar mi espacio por los techos alt...   $30.00          NaN   \n",
       "11  Bright and comfy room, at an excelent location...   $33.00      $170.00   \n",
       "12  Large flat in the fourth floor of a classic Ma...   $79.00          NaN   \n",
       "13  Spacious Double bedroom in a fully equipped an...   $25.00      $140.00   \n",
       "14  Set 300 metres from Plaza Mayor and 400 metres...   $60.00          NaN   \n",
       "15                                             Center   $80.00          NaN   \n",
       "16  Beautiful and cozy loft in the center of Madri...   $65.00      $410.00   \n",
       "17  Preciosa habitación exterior en Latina con bañ...   $39.00          NaN   \n",
       "18  Camera matrimoniale con terrazzo in centro Mad...   $60.00      $500.00   \n",
       "19  Room in La Latina , Palace Quarter. few steps ...   $30.00          NaN   \n",
       "\n",
       "   zipcode country   latitude  longitude  \n",
       "0    28005   Spain  40.412275  -3.708718  \n",
       "1    28005   Spain  40.411093  -3.708985  \n",
       "2    28005   Spain  40.413587  -3.708945  \n",
       "3    28013   Spain  40.419936  -3.709180  \n",
       "4    28005   Spain  40.410894  -3.712537  \n",
       "5    28013   Spain  40.419378  -3.708383  \n",
       "6    28013   Spain  40.416376  -3.710314  \n",
       "7    28005   Spain  40.414209  -3.716072  \n",
       "8    28005   Spain  40.415185  -3.713099  \n",
       "9    28013   Spain  40.421408  -3.707650  \n",
       "10   28005   Spain  40.413394  -3.712970  \n",
       "11   28013   Spain  40.416321  -3.709355  \n",
       "12   28013   Spain  40.419746  -3.708193  \n",
       "13   28013   Spain  40.419539  -3.711774  \n",
       "14   28013   Spain  40.417109  -3.710009  \n",
       "15   28008   Spain  40.417820  -3.719798  \n",
       "16   28013   Spain  40.422730  -3.710024  \n",
       "17   28005   Spain  40.409554  -3.711375  \n",
       "18   28013   Spain  40.420179  -3.708718  \n",
       "19   28005   Spain  40.412348  -3.708316  "
      ]
     },
     "execution_count": 5,
     "metadata": {},
     "output_type": "execute_result"
    }
   ],
   "source": [
    "df.head(20)"
   ]
  },
  {
   "cell_type": "code",
   "execution_count": null,
   "metadata": {},
   "outputs": [],
   "source": []
  },
  {
   "cell_type": "markdown",
   "metadata": {},
   "source": [
    "identificador entero de 64 bits\n",
    "rango (18628---18109842)\n",
    "No contiene datos sensibles\n",
    "tiene dependencia con listing_url"
   ]
  },
  {
   "cell_type": "markdown",
   "metadata": {},
   "source": [
    "### listing_url"
   ]
  },
  {
   "cell_type": "markdown",
   "metadata": {},
   "source": [
    "tipo objeto\n",
    "rango -- NA\n",
    "tiene dependencia con id\n",
    "No contiene datos sensibles"
   ]
  },
  {
   "cell_type": "markdown",
   "metadata": {},
   "source": [
    "### name"
   ]
  },
  {
   "cell_type": "markdown",
   "metadata": {},
   "source": [
    "tipo objeto\n",
    "rango -- NA\n",
    "Si contiene datos sensibles\n",
    "Tiene dependencia con zip code,country,latitude,longitude"
   ]
  },
  {
   "cell_type": "markdown",
   "metadata": {},
   "source": [
    "### summary"
   ]
  },
  {
   "cell_type": "code",
   "execution_count": null,
   "metadata": {},
   "outputs": [],
   "source": [
    "tipo objeto\n",
    "rango -- NA\n",
    "Si contiene datos sensibles\n",
    "Tiene dependencia con zip code,country,latitude,longitude"
   ]
  },
  {
   "cell_type": "markdown",
   "metadata": {},
   "source": [
    "### price"
   ]
  },
  {
   "cell_type": "code",
   "execution_count": null,
   "metadata": {},
   "outputs": [],
   "source": [
    "tipo objeto\n",
    "rango (99 --- 1.000)\n",
    "Si contiene datos sensibles\n",
    "Tiene dependencia con name,latitude,longitude,weekly_price"
   ]
  },
  {
   "cell_type": "markdown",
   "metadata": {},
   "source": [
    "### weekly_price"
   ]
  },
  {
   "cell_type": "code",
   "execution_count": null,
   "metadata": {},
   "outputs": [],
   "source": [
    "tipo objeto\n",
    "rango - NA\n",
    "Si contiene datos sensibles\n",
    "Tiene dependenca con price,name,latitude,longitude"
   ]
  },
  {
   "cell_type": "markdown",
   "metadata": {},
   "source": [
    "### zipcode"
   ]
  },
  {
   "cell_type": "code",
   "execution_count": null,
   "metadata": {},
   "outputs": [],
   "source": [
    "tipo object\n",
    "rango - NA\n",
    "Si contiene datos sensibles\n",
    "Tiene dependencia con country,name,longitude,latitude"
   ]
  },
  {
   "cell_type": "markdown",
   "metadata": {},
   "source": [
    "### Country"
   ]
  },
  {
   "cell_type": "code",
   "execution_count": null,
   "metadata": {},
   "outputs": [],
   "source": [
    "tipo object\n",
    "rango - NA\n",
    "No contiene datos sensibles\n",
    "Tiene dependencia con name,longitude,latitude,zipcode"
   ]
  },
  {
   "cell_type": "markdown",
   "metadata": {},
   "source": [
    "### latitude y longitude"
   ]
  },
  {
   "cell_type": "code",
   "execution_count": null,
   "metadata": {},
   "outputs": [],
   "source": [
    "tipo flotante 64\n",
    "rango (40.33188827449475 -- 40.562736291267576 ) - latitude\n",
    "rango (-3.5268214016469366 -- -3.863907266766836) - longitude\n",
    "Contiene datos sensibles\n",
    "Tiene dependencia con country,name"
   ]
  },
  {
   "cell_type": "markdown",
   "metadata": {},
   "source": [
    "## Dependencias entre variables\n",
    "A continuación os propongo hacer una matriz de dependencias para analizar que variables dependen entre sí y analizar que grupos de variables existen. Esto es importante de cara a la anonimización del dataset, puesto que dejar una de estas variables dependientes sin anonimizar, podría llevar a \"deshacer\" este proceso a personas malintencionadas. \n",
    "\n",
    "En esta matriz podéis marcar con una _X_ qué variables dependen entre sí. Si creéis que existen varios grupos de dependencia, asignar una marca diferente a cada uno de los grupos que consideréis. Por ejemplo, variables que dependen entre sí, podrían ser la dirección de la calle y el código postal.\n",
    "\n",
    "| Depende de   | id | listing_url | name | summary | price | weekly_price | zipcode | country | lat y long |\n",
    "|---           |--- |---          |---   |---      |---    |---           |---      |---      |---         | \n",
    "| **id**           |    |     X        |      |         |       |              |         |         |            | \n",
    "| **listing_url**  |  X  |             |      |         |       |              |         |         |            | \n",
    "| **name**         |    |             |      |       X  |       |              |     X     |     X     |     X        | \n",
    "| **summary**      |    |             |     X |         |       |              |        X |      X   |        X    | \n",
    "| **price**        |    |             |      |         |       |          X    |     X    |     X    |        X    | \n",
    "| **weekly_price** |    |             |      |         |      X |              |       X  |       X  |          X  | \n",
    "| **zipcode**      |    |             |      |         |       |              |         |        X |           X | \n",
    "| **country**      |    |             |    X  |         |       |              |      X   |     X   |         X   | \n",
    "| **lat y long**   |    |             |      |         |       |              |       X  |      X   |            | \n",
    "\n"
   ]
  },
  {
   "cell_type": "markdown",
   "metadata": {},
   "source": [
    "## Estrategia de anonimización\n",
    "\n",
    "A partir de aquí por cada grupo de variables dependientes determina cual es la estrategia de anonimización más adecuada y aplícala teniendo en cuenta las dependencias encontradas en el paso anterior."
   ]
  },
  {
   "cell_type": "code",
   "execution_count": null,
   "metadata": {},
   "outputs": [],
   "source": [
    "# Create a copy of the orignal dataframe\n",
    "df_anon = df.copy()\n",
    "\n",
    "# Generate zipcode of Malaga\n",
    "import random\n",
    "import re\n",
    "\n",
    "def zip_code():\n",
    "    return str(random.randint(29001, 29720))\n",
    "\n",
    "def add_zipcode(row):\n",
    "    row['zipcode'] = zip_code()\n",
    "    return row\n",
    "\n",
    "df_anon = df_anon.apply(add_zipcode,axis=1)\n",
    "\n",
    "def gen_word():\n",
    "    return fake.word()\n",
    "\n",
    "# Generate random ID \n",
    "def gen_id():\t\n",
    "    return fake.numerify(text=\"########\")\n",
    "# Replacing such values in the dataframe\n",
    "def set_id_anon(row):\n",
    "    row['id'] = gen_id()\n",
    "    return row\n",
    "\n",
    "df_anon = df_anon.apply(set_id_anon,axis=1)\n",
    "\n",
    "# Generate listing_url matching with ID\n",
    "# Replace digits and concatenate id from listing url using map function \n",
    "df_anon['listing_url'] = df_anon['listing_url'].str.replace('\\d+','').str.cat(df_anon['listing_url'].map(df_anon.set_index('listing_url')['id']))\n",
    "\n",
    "# Replace keywords related to MADRID with Malaga in name and summary\n",
    "df_anon['name'] = df_anon['name'].replace({'Madrid|IFEMA|Plaza Mayor': gen_word()},regex=True)\n",
    "df_anon['summary'] = df_anon['summary'].replace({'Madrid|IFEMA|Plaza Mayor': gen_word()},regex=True)\n",
    "\n",
    "# Generate random values for latitude/longitude\n",
    "def gen_lat():\n",
    "    return round(random.uniform(36.7188279, 36.7201614),7)\n",
    "def gen_long():\n",
    "    return round(random.uniform(-4.4190086,-4.4203401),7)\n",
    "# Replacing such values in the dataframe\n",
    "def replace_latitude(row):\n",
    "    row['latitude'] = gen_lat()\n",
    "    return row\n",
    "def replace_longitude(row):\n",
    "    row['longitude'] = gen_long()\n",
    "    return row\n",
    "\n",
    "df_anon = df_anon.apply(replace_longitude,axis=1)\n",
    "df_anon = df_anon.apply(replace_latitude,axis=1)\n",
    "\n",
    "# showing dataframe\n",
    "df_anon\n"
   ]
  },
  {
   "cell_type": "markdown",
   "metadata": {},
   "source": [
    "### Feature Engineering\n",
    "\n",
    "Conociendo el concepto de Feature Engineering, ¿qué variables se te ocurren a partir del dataset? ¿por qué crees que serían importantes?\n",
    "\n",
    "Describe e implenta dos variables que consideres importantes a partir de nuestro dataset original y razónalas."
   ]
  },
  {
   "cell_type": "code",
   "execution_count": null,
   "metadata": {},
   "outputs": [],
   "source": [
    "df2 = pd.read_csv('dataset_airbnb_madrid.csv')"
   ]
  },
  {
   "cell_type": "code",
   "execution_count": null,
   "metadata": {},
   "outputs": [],
   "source": [
    "# Reviews per month\n",
    "# if value is in range(1-5) --> Low\n",
    "# if value is range(6-11) --> Medium\n",
    "# If value is in range (12 -17) --> Top\n",
    "\n",
    "def columna_reviews_per_month(valor):\n",
    "    if np.isnan(valor):\n",
    "        return valor\n",
    "    \n",
    "    if valor <= 5.0:\n",
    "        return 'L'\n",
    "    elif valor >= 6.0 and valor <= 11.0:\n",
    "        return 'M'\n",
    "    else:\n",
    "        return 'T'\n",
    "\n",
    "df2['review_per_month_simplify'] = df2['reviews_per_month'].apply(columna_reviews_per_month)\n",
    "print(df2['review_per_month_simplify'].value_counts())\n",
    "\n",
    "# Review score values\n",
    "\n",
    "# < 5 --> C\n",
    "# > 5 < 8 --> A\n",
    "# > 8 --> A ++\n",
    "\n",
    "def review_scores_value(valor):\n",
    "    if np.isnan(valor):\n",
    "        return valor\n",
    "    \n",
    "    if valor <= 5.0:\n",
    "        return 'C'\n",
    "    elif valor > 5.0  and valor <= 8.0:\n",
    "        return 'A'\n",
    "    else:\n",
    "        return 'A++'\n",
    "\n",
    "df2['review_scores_value_simplify'] = df2['review_scores_value'].apply(review_scores_value)\n",
    "df2['review_scores_value_simplify'].value_counts()\n",
    "\n"
   ]
  },
  {
   "cell_type": "code",
   "execution_count": null,
   "metadata": {},
   "outputs": [],
   "source": [
    "## Conclusiones\n",
    "\n",
    "* ¿Qué ventajas / inconvenientes le ves a esta manera de anonimizar?\n",
    "* ¿Cómo podríamos mejorar los algoritmos?\n",
    "* ¿Cómo podríamos evaluar que una anonimización es buena?\n",
    "\n",
    "1) Teniendo en cuenta que la finalidad de la anonimizacion es evitar la reidentificacion manteniendo la veracidad de los datos, esta tecnica si bien permite \"anonimizar\",\n",
    "no mantiene del todo la veracidad de los datos, por ejemplo , la parte de la latitud,longitud con respecto a la ubicacion, no es veraz una vez anonimizados los mismos.\n",
    "\n",
    "2) Por ejemplo usando tecnicas de cifrado de datos (i.e hash + cifrado) que introducen pequeñas variaciones ('ruido') en los datos de usuario de manera que no sea posible identificarlos de nuevo.\n",
    "   En realidad esto es mas una pseudoanonimizacion, puesto que cifro los datos pero no los elimino. \n",
    "\n",
    "3) Tratando de revertir los datos originales a partir de los datos anonimizados.\n",
    "\n",
    "\n"
   ]
  },
  {
   "cell_type": "code",
   "execution_count": null,
   "metadata": {
    "collapsed": true,
    "jupyter": {
     "outputs_hidden": true
    }
   },
   "outputs": [],
   "source": []
  }
 ],
 "metadata": {
  "anaconda-cloud": {},
  "kernelspec": {
   "display_name": "Python 3",
   "language": "python",
   "name": "python3"
  },
  "language_info": {
   "codemirror_mode": {
    "name": "ipython",
    "version": 3
   },
   "file_extension": ".py",
   "mimetype": "text/x-python",
   "name": "python",
   "nbconvert_exporter": "python",
   "pygments_lexer": "ipython3",
   "version": "3.7.4"
  },
  "toc": {
   "base_numbering": 1,
   "nav_menu": {},
   "number_sections": true,
   "sideBar": true,
   "skip_h1_title": false,
   "title_cell": "Table of Contents",
   "title_sidebar": "Contents",
   "toc_cell": false,
   "toc_position": {},
   "toc_section_display": true,
   "toc_window_display": false
  },
  "varInspector": {
   "cols": {
    "lenName": 16,
    "lenType": 16,
    "lenVar": 40
   },
   "kernels_config": {
    "python": {
     "delete_cmd_postfix": "",
     "delete_cmd_prefix": "del ",
     "library": "var_list.py",
     "varRefreshCmd": "print(var_dic_list())"
    },
    "r": {
     "delete_cmd_postfix": ") ",
     "delete_cmd_prefix": "rm(",
     "library": "var_list.r",
     "varRefreshCmd": "cat(var_dic_list()) "
    }
   },
   "types_to_exclude": [
    "module",
    "function",
    "builtin_function_or_method",
    "instance",
    "_Feature"
   ],
   "window_display": false
  }
 },
 "nbformat": 4,
 "nbformat_minor": 4
}

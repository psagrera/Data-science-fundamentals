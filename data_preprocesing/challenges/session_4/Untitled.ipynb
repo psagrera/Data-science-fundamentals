{
 "cells": [
  {
   "cell_type": "code",
   "execution_count": 1,
   "metadata": {},
   "outputs": [],
   "source": [
    "import pandas as pd\n",
    "import numpy as np\n",
    "import matplotlib.pyplot as plt\n",
    "from sklearn.linear_model import LogisticRegression\n",
    "\n",
    "import warnings\n",
    "warnings.filterwarnings('ignore')\n",
    "\n",
    "import random\n",
    "random.seed(1234)\n",
    "\n",
    "tr = pd.read_csv(\"data/transmission_small.csv\")"
   ]
  },
  {
   "cell_type": "code",
   "execution_count": 2,
   "metadata": {},
   "outputs": [],
   "source": [
    "def evaluar_sistema(data_variables, class_variable):\n",
    "    # Recibe:\n",
    "    # - data_variables: dataframe con dos columnas siendo estas las variables de datos.\n",
    "    # - class_variable: dataframe con una columna siendo esta la clase de transmisión.\n",
    "    # Imprime:\n",
    "    # - puntuación de clasificación.\n",
    "    print(\"Evaluando...\")\n",
    "    clf = LogisticRegression().fit(data_variables, class_variable.values.ravel())\n",
    "    predicted = clf.predict(data_variables)\n",
    "    \n",
    "    puntos = 0\n",
    "    for ci, pi in zip(class_variable.values.ravel(), predicted):\n",
    "        if ci != pi:\n",
    "            n = 1 if ci == 0 else 50\n",
    "        else:\n",
    "            n = 0\n",
    "        puntos += n\n",
    "        \n",
    "    print(\"Puntuación obtenida: {} (más alta es peor)\".format(puntos))"
   ]
  },
  {
   "cell_type": "code",
   "execution_count": null,
   "metadata": {},
   "outputs": [
    {
     "name": "stderr",
     "output_type": "stream",
     "text": [
      "Using TensorFlow backend.\n"
     ]
    }
   ],
   "source": [
    "from imblearn.under_sampling import ClusterCentroids\n",
    "cc = ClusterCentroids()\n",
    "X_res, y_res = cc.fit_sample(tr[['V1', 'V2']], tr[['Class']])\n",
    "evaluar_sistema(X_res,y_res)"
   ]
  },
  {
   "cell_type": "code",
   "execution_count": null,
   "metadata": {},
   "outputs": [],
   "source": []
  }
 ],
 "metadata": {
  "kernelspec": {
   "display_name": "Python 3",
   "language": "python",
   "name": "python3"
  },
  "language_info": {
   "codemirror_mode": {
    "name": "ipython",
    "version": 3
   },
   "file_extension": ".py",
   "mimetype": "text/x-python",
   "name": "python",
   "nbconvert_exporter": "python",
   "pygments_lexer": "ipython3",
   "version": "3.7.4"
  }
 },
 "nbformat": 4,
 "nbformat_minor": 4
}

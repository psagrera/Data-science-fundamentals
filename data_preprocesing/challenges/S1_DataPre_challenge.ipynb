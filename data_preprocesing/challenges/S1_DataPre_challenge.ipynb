{
 "cells": [
  {
   "cell_type": "markdown",
   "metadata": {},
   "source": [
    "<img src=\"mioti.png\" style=\"height: 100px\">\n",
    "<center style=\"color:#888\">Módulo Data Science in IoT<br/>Asignatura: Data preprocessing</center>\n",
    "\n",
    "# Challenge S1: Introducción"
   ]
  },
  {
   "cell_type": "markdown",
   "metadata": {},
   "source": [
    "# Objetivos\n",
    "\n",
    "En este challenge nos enfrentaremos a un dataset con datos sobre inmuebles en California. Este dataset tiene la particularidad de poseer valores nulos/faltantes y outliers en algunas de sus variables. Por tanto, el objetivo es poner en práctica las técnicas que hemos visto en el worksheet para lidiar con estas situaciones."
   ]
  },
  {
   "cell_type": "markdown",
   "metadata": {},
   "source": [
    "# Configuración del entorno"
   ]
  },
  {
   "cell_type": "code",
   "execution_count": 1,
   "metadata": {
    "ExecuteTime": {
     "end_time": "2019-10-29T18:36:02.477456Z",
     "start_time": "2019-10-29T18:36:02.144436Z"
    }
   },
   "outputs": [],
   "source": [
    "%matplotlib inline\n",
    "import numpy as np\n",
    "import pandas as pd\n",
    "import matplotlib.pyplot as plt"
   ]
  },
  {
   "cell_type": "markdown",
   "metadata": {},
   "source": [
    "# Carga de datos\n",
    "Esta vez va a ser fácil, vamos a importar los datos de un fichero csv, utilizaremos la función read_csv que nos proporciona la libreria de pandas."
   ]
  },
  {
   "cell_type": "code",
   "execution_count": 2,
   "metadata": {
    "ExecuteTime": {
     "end_time": "2019-10-29T18:36:02.594287Z",
     "start_time": "2019-10-29T18:36:02.562946Z"
    }
   },
   "outputs": [],
   "source": [
    "df = pd.read_csv('housing.csv')"
   ]
  },
  {
   "cell_type": "code",
   "execution_count": 3,
   "metadata": {
    "ExecuteTime": {
     "end_time": "2019-10-29T18:36:02.789587Z",
     "start_time": "2019-10-29T18:36:02.772416Z"
    }
   },
   "outputs": [
    {
     "data": {
      "text/html": [
       "<div>\n",
       "<style scoped>\n",
       "    .dataframe tbody tr th:only-of-type {\n",
       "        vertical-align: middle;\n",
       "    }\n",
       "\n",
       "    .dataframe tbody tr th {\n",
       "        vertical-align: top;\n",
       "    }\n",
       "\n",
       "    .dataframe thead th {\n",
       "        text-align: right;\n",
       "    }\n",
       "</style>\n",
       "<table border=\"1\" class=\"dataframe\">\n",
       "  <thead>\n",
       "    <tr style=\"text-align: right;\">\n",
       "      <th></th>\n",
       "      <th>longitude</th>\n",
       "      <th>latitude</th>\n",
       "      <th>housing_median_age</th>\n",
       "      <th>total_rooms</th>\n",
       "      <th>total_bedrooms</th>\n",
       "      <th>population</th>\n",
       "      <th>households</th>\n",
       "      <th>median_income</th>\n",
       "      <th>median_house_value</th>\n",
       "      <th>ocean_proximity</th>\n",
       "    </tr>\n",
       "  </thead>\n",
       "  <tbody>\n",
       "    <tr>\n",
       "      <td>0</td>\n",
       "      <td>-122.23</td>\n",
       "      <td>37.88</td>\n",
       "      <td>41.0</td>\n",
       "      <td>880.0</td>\n",
       "      <td>129.0</td>\n",
       "      <td>322.0</td>\n",
       "      <td>126.0</td>\n",
       "      <td>8.3252</td>\n",
       "      <td>452600.0</td>\n",
       "      <td>NEAR BAY</td>\n",
       "    </tr>\n",
       "    <tr>\n",
       "      <td>1</td>\n",
       "      <td>-122.22</td>\n",
       "      <td>37.86</td>\n",
       "      <td>21.0</td>\n",
       "      <td>7099.0</td>\n",
       "      <td>1106.0</td>\n",
       "      <td>2401.0</td>\n",
       "      <td>1138.0</td>\n",
       "      <td>8.3014</td>\n",
       "      <td>358500.0</td>\n",
       "      <td>NEAR BAY</td>\n",
       "    </tr>\n",
       "    <tr>\n",
       "      <td>2</td>\n",
       "      <td>-122.24</td>\n",
       "      <td>37.85</td>\n",
       "      <td>52.0</td>\n",
       "      <td>1467.0</td>\n",
       "      <td>190.0</td>\n",
       "      <td>496.0</td>\n",
       "      <td>177.0</td>\n",
       "      <td>7.2574</td>\n",
       "      <td>352100.0</td>\n",
       "      <td>NEAR BAY</td>\n",
       "    </tr>\n",
       "    <tr>\n",
       "      <td>3</td>\n",
       "      <td>-122.25</td>\n",
       "      <td>37.85</td>\n",
       "      <td>52.0</td>\n",
       "      <td>1274.0</td>\n",
       "      <td>235.0</td>\n",
       "      <td>558.0</td>\n",
       "      <td>219.0</td>\n",
       "      <td>5.6431</td>\n",
       "      <td>341300.0</td>\n",
       "      <td>NEAR BAY</td>\n",
       "    </tr>\n",
       "    <tr>\n",
       "      <td>4</td>\n",
       "      <td>-122.25</td>\n",
       "      <td>37.85</td>\n",
       "      <td>52.0</td>\n",
       "      <td>1627.0</td>\n",
       "      <td>280.0</td>\n",
       "      <td>565.0</td>\n",
       "      <td>259.0</td>\n",
       "      <td>3.8462</td>\n",
       "      <td>342200.0</td>\n",
       "      <td>NEAR BAY</td>\n",
       "    </tr>\n",
       "    <tr>\n",
       "      <td>5</td>\n",
       "      <td>-122.25</td>\n",
       "      <td>37.85</td>\n",
       "      <td>52.0</td>\n",
       "      <td>919.0</td>\n",
       "      <td>213.0</td>\n",
       "      <td>413.0</td>\n",
       "      <td>193.0</td>\n",
       "      <td>4.0368</td>\n",
       "      <td>269700.0</td>\n",
       "      <td>NEAR BAY</td>\n",
       "    </tr>\n",
       "    <tr>\n",
       "      <td>6</td>\n",
       "      <td>-122.25</td>\n",
       "      <td>37.84</td>\n",
       "      <td>52.0</td>\n",
       "      <td>2535.0</td>\n",
       "      <td>489.0</td>\n",
       "      <td>1094.0</td>\n",
       "      <td>514.0</td>\n",
       "      <td>3.6591</td>\n",
       "      <td>299200.0</td>\n",
       "      <td>NEAR BAY</td>\n",
       "    </tr>\n",
       "    <tr>\n",
       "      <td>7</td>\n",
       "      <td>-122.25</td>\n",
       "      <td>37.84</td>\n",
       "      <td>52.0</td>\n",
       "      <td>3104.0</td>\n",
       "      <td>687.0</td>\n",
       "      <td>1157.0</td>\n",
       "      <td>647.0</td>\n",
       "      <td>3.1200</td>\n",
       "      <td>241400.0</td>\n",
       "      <td>NEAR BAY</td>\n",
       "    </tr>\n",
       "    <tr>\n",
       "      <td>8</td>\n",
       "      <td>-122.26</td>\n",
       "      <td>37.84</td>\n",
       "      <td>42.0</td>\n",
       "      <td>2555.0</td>\n",
       "      <td>665.0</td>\n",
       "      <td>1206.0</td>\n",
       "      <td>595.0</td>\n",
       "      <td>2.0804</td>\n",
       "      <td>226700.0</td>\n",
       "      <td>NEAR BAY</td>\n",
       "    </tr>\n",
       "    <tr>\n",
       "      <td>9</td>\n",
       "      <td>-122.25</td>\n",
       "      <td>37.84</td>\n",
       "      <td>52.0</td>\n",
       "      <td>3549.0</td>\n",
       "      <td>707.0</td>\n",
       "      <td>1551.0</td>\n",
       "      <td>714.0</td>\n",
       "      <td>3.6912</td>\n",
       "      <td>261100.0</td>\n",
       "      <td>NEAR BAY</td>\n",
       "    </tr>\n",
       "  </tbody>\n",
       "</table>\n",
       "</div>"
      ],
      "text/plain": [
       "   longitude  latitude  housing_median_age  total_rooms  total_bedrooms  \\\n",
       "0    -122.23     37.88                41.0        880.0           129.0   \n",
       "1    -122.22     37.86                21.0       7099.0          1106.0   \n",
       "2    -122.24     37.85                52.0       1467.0           190.0   \n",
       "3    -122.25     37.85                52.0       1274.0           235.0   \n",
       "4    -122.25     37.85                52.0       1627.0           280.0   \n",
       "5    -122.25     37.85                52.0        919.0           213.0   \n",
       "6    -122.25     37.84                52.0       2535.0           489.0   \n",
       "7    -122.25     37.84                52.0       3104.0           687.0   \n",
       "8    -122.26     37.84                42.0       2555.0           665.0   \n",
       "9    -122.25     37.84                52.0       3549.0           707.0   \n",
       "\n",
       "   population  households  median_income  median_house_value ocean_proximity  \n",
       "0       322.0       126.0         8.3252            452600.0        NEAR BAY  \n",
       "1      2401.0      1138.0         8.3014            358500.0        NEAR BAY  \n",
       "2       496.0       177.0         7.2574            352100.0        NEAR BAY  \n",
       "3       558.0       219.0         5.6431            341300.0        NEAR BAY  \n",
       "4       565.0       259.0         3.8462            342200.0        NEAR BAY  \n",
       "5       413.0       193.0         4.0368            269700.0        NEAR BAY  \n",
       "6      1094.0       514.0         3.6591            299200.0        NEAR BAY  \n",
       "7      1157.0       647.0         3.1200            241400.0        NEAR BAY  \n",
       "8      1206.0       595.0         2.0804            226700.0        NEAR BAY  \n",
       "9      1551.0       714.0         3.6912            261100.0        NEAR BAY  "
      ]
     },
     "execution_count": 3,
     "metadata": {},
     "output_type": "execute_result"
    }
   ],
   "source": [
    "df.head(10)"
   ]
  },
  {
   "cell_type": "code",
   "execution_count": 4,
   "metadata": {
    "ExecuteTime": {
     "end_time": "2019-10-29T18:36:03.020259Z",
     "start_time": "2019-10-29T18:36:02.991392Z"
    }
   },
   "outputs": [
    {
     "name": "stdout",
     "output_type": "stream",
     "text": [
      "<class 'pandas.core.frame.DataFrame'>\n",
      "RangeIndex: 20640 entries, 0 to 20639\n",
      "Data columns (total 10 columns):\n",
      "longitude             20640 non-null float64\n",
      "latitude              20640 non-null float64\n",
      "housing_median_age    20640 non-null float64\n",
      "total_rooms           20640 non-null float64\n",
      "total_bedrooms        20433 non-null float64\n",
      "population            20640 non-null float64\n",
      "households            20640 non-null float64\n",
      "median_income         20640 non-null float64\n",
      "median_house_value    20640 non-null float64\n",
      "ocean_proximity       20640 non-null object\n",
      "dtypes: float64(9), object(1)\n",
      "memory usage: 1.6+ MB\n"
     ]
    }
   ],
   "source": [
    "df.info()"
   ]
  },
  {
   "cell_type": "markdown",
   "metadata": {},
   "source": [
    "# Valores nulos"
   ]
  },
  {
   "cell_type": "markdown",
   "metadata": {},
   "source": [
    "En primer lugar, identifica aquellas columnas que tienen valores nulos/faltantes"
   ]
  },
  {
   "cell_type": "code",
   "execution_count": 5,
   "metadata": {},
   "outputs": [
    {
     "name": "stdout",
     "output_type": "stream",
     "text": [
      "longitude               0\n",
      "latitude                0\n",
      "housing_median_age      0\n",
      "total_rooms             0\n",
      "total_bedrooms        207\n",
      "population              0\n",
      "households              0\n",
      "median_income           0\n",
      "median_house_value      0\n",
      "ocean_proximity         0\n",
      "dtype: int64\n",
      "\n",
      "Porcentaje de datos faltantes por columna:\n",
      " longitude             0.000000\n",
      "latitude              0.000000\n",
      "housing_median_age    0.000000\n",
      "total_rooms           0.000000\n",
      "total_bedrooms        0.100291\n",
      "population            0.000000\n",
      "households            0.000000\n",
      "median_income         0.000000\n",
      "median_house_value    0.000000\n",
      "ocean_proximity       0.000000\n",
      "dtype: float64\n"
     ]
    }
   ],
   "source": [
    "print(df.isnull().sum())\n",
    "total_cells = np.product(df.shape)\n",
    "total_cells\n",
    "total_missing = df.isnull().sum()\n",
    "# Procentaje de datos que faltan por columnas\n",
    "print (\"\\nPorcentaje de datos faltantes por columna:\\n\",(total_missing/total_cells) * 100)"
   ]
  },
  {
   "cell_type": "code",
   "execution_count": 6,
   "metadata": {},
   "outputs": [
    {
     "data": {
      "text/plain": [
       "<matplotlib.axes._subplots.AxesSubplot at 0x1210e6c50>"
      ]
     },
     "execution_count": 6,
     "metadata": {},
     "output_type": "execute_result"
    },
    {
     "data": {
      "image/png": "[encoded data removed]",
      "text/plain": [
       "<Figure size 432x288 with 1 Axes>"
      ]
     },
     "metadata": {
      "needs_background": "light"
     },
     "output_type": "display_data"
    }
   ],
   "source": [
    "# grafica original con datos nulos (nan)\n",
    "df.total_bedrooms.plot.hist(bins=500)"
   ]
  },
  {
   "cell_type": "markdown",
   "metadata": {},
   "source": [
    "Elige una de estas columnas para probar diferentes estrategias de manejo de valores nulos.\n",
    "\n",
    "Primero, crea una copia de esta columna utilizando la estrategia de rellenado con la mediana."
   ]
  },
  {
   "cell_type": "code",
   "execution_count": 7,
   "metadata": {},
   "outputs": [
    {
     "name": "stdout",
     "output_type": "stream",
     "text": [
      "MEDIANA:  435.0\n"
     ]
    }
   ],
   "source": [
    "#### MEDIANA #####\n",
    "print (\"MEDIANA: \",df.total_bedrooms.median())\n",
    "df_tmp = df.copy()\n",
    "from sklearn.impute import SimpleImputer\n",
    "temp_values = df_tmp.total_bedrooms.values.reshape(-1,1)\n",
    "#temp_values\n",
    "imp_median = SimpleImputer(missing_values=np.nan, strategy='median')\n",
    "imp_median.fit(temp_values)\n",
    "transformed_values = imp_median.transform(temp_values)\n",
    "#transformed_values"
   ]
  },
  {
   "cell_type": "code",
   "execution_count": 8,
   "metadata": {},
   "outputs": [],
   "source": [
    "df_tmp.total_bedrooms = transformed_values\n",
    "#df_tmp.total_bedrooms"
   ]
  },
  {
   "cell_type": "code",
   "execution_count": 9,
   "metadata": {},
   "outputs": [
    {
     "data": {
      "text/plain": [
       "0"
      ]
     },
     "execution_count": 9,
     "metadata": {},
     "output_type": "execute_result"
    }
   ],
   "source": [
    "df_tmp.total_bedrooms.isnull().sum()"
   ]
  },
  {
   "cell_type": "code",
   "execution_count": 10,
   "metadata": {},
   "outputs": [
    {
     "data": {
      "text/plain": [
       "<matplotlib.axes._subplots.AxesSubplot at 0x1a24d25110>"
      ]
     },
     "execution_count": 10,
     "metadata": {},
     "output_type": "execute_result"
    },
    {
     "data": {
      "image/png": "[encoded data removed]",
      "text/plain": [
       "<Figure size 432x288 with 1 Axes>"
      ]
     },
     "metadata": {
      "needs_background": "light"
     },
     "output_type": "display_data"
    }
   ],
   "source": [
    "df_tmp['total_bedrooms'].plot.hist(bins=500)\n",
    "#df_tmp['total_bedrooms'].plot.line()"
   ]
  },
  {
   "cell_type": "markdown",
   "metadata": {},
   "source": [
    "Segundo, crea una copia de esta columna utilizando la estrategia de rellenado con media aritmética."
   ]
  },
  {
   "cell_type": "code",
   "execution_count": 11,
   "metadata": {},
   "outputs": [
    {
     "name": "stdout",
     "output_type": "stream",
     "text": [
      "MEDIA:  537.8705525375618\n"
     ]
    }
   ],
   "source": [
    "#### MEDIA ####\n",
    "print (\"MEDIA: \",df.total_bedrooms.mean())\n",
    "df_tmp2 = df.copy()\n",
    "temp2_values = df_tmp2.total_bedrooms.values.reshape(-1,1)\n",
    "imp_mean = SimpleImputer(missing_values=np.nan, strategy='mean')\n",
    "imp_mean.fit(temp2_values)\n",
    "transformed_values2 = imp_mean.transform(temp2_values)\n",
    "#transformed_values"
   ]
  },
  {
   "cell_type": "code",
   "execution_count": 12,
   "metadata": {},
   "outputs": [],
   "source": [
    "df_tmp2.total_bedrooms = transformed_values2"
   ]
  },
  {
   "cell_type": "code",
   "execution_count": 13,
   "metadata": {},
   "outputs": [
    {
     "data": {
      "text/plain": [
       "0"
      ]
     },
     "execution_count": 13,
     "metadata": {},
     "output_type": "execute_result"
    }
   ],
   "source": [
    "df_tmp2.total_bedrooms.isnull().sum()"
   ]
  },
  {
   "cell_type": "code",
   "execution_count": 14,
   "metadata": {},
   "outputs": [
    {
     "data": {
      "text/plain": [
       "<matplotlib.axes._subplots.AxesSubplot at 0x1a25416910>"
      ]
     },
     "execution_count": 14,
     "metadata": {},
     "output_type": "execute_result"
    },
    {
     "data": {
      "image/png": "[encoded data removed]",
      "text/plain": [
       "<Figure size 432x288 with 1 Axes>"
      ]
     },
     "metadata": {
      "needs_background": "light"
     },
     "output_type": "display_data"
    }
   ],
   "source": [
    "df_tmp2['total_bedrooms'].plot.hist(bins=500)\n",
    "#df_tmp2['total_bedrooms'].plot.line()"
   ]
  },
  {
   "cell_type": "markdown",
   "metadata": {},
   "source": [
    "Tercero, crea una copia de esta columna utilizando la estrategia de rellenado con valor fijo de 0."
   ]
  },
  {
   "cell_type": "code",
   "execution_count": 15,
   "metadata": {},
   "outputs": [],
   "source": [
    "#### NULOS ####\n",
    "df_tmp3 = df.copy()\n",
    "temp3_values = df_tmp3.total_bedrooms.values.reshape(-1,1)\n",
    "imp_zeros = SimpleImputer(missing_values=np.nan, strategy='constant',verbose=1)\n",
    "imp_zeros.fit(temp3_values)\n",
    "transformed_values3 = imp_mean.transform(temp3_values)\n",
    "#transformed_values3"
   ]
  },
  {
   "cell_type": "code",
   "execution_count": 16,
   "metadata": {},
   "outputs": [
    {
     "data": {
      "text/plain": [
       "0"
      ]
     },
     "execution_count": 16,
     "metadata": {},
     "output_type": "execute_result"
    }
   ],
   "source": [
    "df_tmp3.total_bedrooms = transformed_values3\n",
    "df_tmp3.total_bedrooms.isnull().sum()"
   ]
  },
  {
   "cell_type": "code",
   "execution_count": 17,
   "metadata": {},
   "outputs": [
    {
     "data": {
      "text/plain": [
       "<matplotlib.axes._subplots.AxesSubplot at 0x1a25c45f50>"
      ]
     },
     "execution_count": 17,
     "metadata": {},
     "output_type": "execute_result"
    },
    {
     "data": {
      "image/png": "[encoded data removed]",
      "text/plain": [
       "<Figure size 432x288 with 1 Axes>"
      ]
     },
     "metadata": {
      "needs_background": "light"
     },
     "output_type": "display_data"
    }
   ],
   "source": [
    "df_tmp3['total_bedrooms'].plot.hist(bins=500)\n",
    "#df_tmp3['total_bedrooms'].plot.line()"
   ]
  },
  {
   "cell_type": "markdown",
   "metadata": {},
   "source": [
    "Cuarto, crea una copia de esta columna utilizando una nueva estrategia de rellenado que tú quieras y **justifica el motivo**."
   ]
  },
  {
   "cell_type": "code",
   "execution_count": 18,
   "metadata": {},
   "outputs": [],
   "source": [
    "#### MAS FRECUENTE ####\n",
    "df_tmp4 = df.copy()\n",
    "temp4_values = df_tmp4.total_bedrooms.values.reshape(-1,1)\n",
    "imp_zeros = SimpleImputer(missing_values=np.nan, strategy='most_frequent')\n",
    "imp_zeros.fit(temp4_values)\n",
    "transformed_values4 = imp_mean.transform(temp4_values)"
   ]
  },
  {
   "cell_type": "code",
   "execution_count": 19,
   "metadata": {},
   "outputs": [
    {
     "data": {
      "text/plain": [
       "0"
      ]
     },
     "execution_count": 19,
     "metadata": {},
     "output_type": "execute_result"
    }
   ],
   "source": [
    "df_tmp4.total_bedrooms = transformed_values4\n",
    "df_tmp4.total_bedrooms.isnull().sum()"
   ]
  },
  {
   "cell_type": "code",
   "execution_count": 20,
   "metadata": {},
   "outputs": [
    {
     "data": {
      "text/plain": [
       "<matplotlib.axes._subplots.AxesSubplot at 0x1a265e30d0>"
      ]
     },
     "execution_count": 20,
     "metadata": {},
     "output_type": "execute_result"
    },
    {
     "data": {
      "image/png": "[encoded data removed]",
      "text/plain": [
       "<Figure size 432x288 with 1 Axes>"
      ]
     },
     "metadata": {
      "needs_background": "light"
     },
     "output_type": "display_data"
    }
   ],
   "source": [
    "df_tmp4['total_bedrooms'].plot.hist(bins=500)"
   ]
  },
  {
   "cell_type": "code",
   "execution_count": 21,
   "metadata": {},
   "outputs": [
    {
     "data": {
      "text/plain": [
       "0"
      ]
     },
     "execution_count": 21,
     "metadata": {},
     "output_type": "execute_result"
    }
   ],
   "source": [
    "##### METODO DE INTERPOLACION ######\n",
    "# Si tengo 3,4,NAN,5,6 ---> NAN = a la media del valor anterior y posterior\n",
    "df_tmp5 = df.copy()\n",
    "# Uso bfill() para que haga backwards filling, en caso de que el primer valor fuera NAN\n",
    "# i.e \n",
    "#s = pd.Series([NA,7,6,NA,7])\n",
    "#s.interpolate()\n",
    "#0    NaN\n",
    "#1    7.0\n",
    "#2    6.0\n",
    "#3    6.5\n",
    "#s.interpolate().bfill()\n",
    "#0    7.0\n",
    "#1    7.0\n",
    "#[...]\n",
    "interpolate = df_tmp5.total_bedrooms.interpolate().bfill()\n",
    "interpolate.isnull().sum()"
   ]
  },
  {
   "cell_type": "code",
   "execution_count": 22,
   "metadata": {},
   "outputs": [
    {
     "data": {
      "text/plain": [
       "<matplotlib.axes._subplots.AxesSubplot at 0x1a26e81590>"
      ]
     },
     "execution_count": 22,
     "metadata": {},
     "output_type": "execute_result"
    },
    {
     "data": {
      "image/png": "[encoded data removed]",
      "text/plain": [
       "<Figure size 432x288 with 1 Axes>"
      ]
     },
     "metadata": {
      "needs_background": "light"
     },
     "output_type": "display_data"
    }
   ],
   "source": [
    "df_tmp5['total_bedrooms'].plot.hist(bins=500)"
   ]
  },
  {
   "cell_type": "markdown",
   "metadata": {},
   "source": [
    "Analiza el efecto de estas cuatro estrategias de rellenado con respecto a la variable original con valores nulos:\n",
    "\n",
    "* ¿Qué diferencias observas en la distribución de valores de las variables rellenadas?\n",
    "* ¿Cómo crees que pueden afectar los nuevos a algún análisis posterior?\n",
    "* ¿Con qué estrategia te quedarías?"
   ]
  },
  {
   "cell_type": "markdown",
   "metadata": {},
   "source": [
    "Diferencias entre la media nulos y mas frecuente con respecto a la mediana \n",
    "* Con la estrategia de media,mediana,nulos y mas frecuente, vamos a tener outliers en los analisis posteriores,mientras que usando interpolacion no.\n",
    "* En vista de los resultados me quedo con el metodo de interpolacion. "
   ]
  },
  {
   "cell_type": "markdown",
   "metadata": {},
   "source": [
    "# Outliers\n",
    "\n",
    "Ahora, vamos a realizar un estudio de outliers sobre nuestro conjunto de datos. \n",
    "\n",
    "En primer lugar, ¿se te ocurre alguna forma sencilla de ver que variables pueden contener outliers?"
   ]
  },
  {
   "cell_type": "code",
   "execution_count": 26,
   "metadata": {},
   "outputs": [
    {
     "name": "stdout",
     "output_type": "stream",
     "text": [
      "longitude\n",
      " count    20640.000000\n",
      "mean      -119.569704\n",
      "std          2.003532\n",
      "min       -124.350000\n",
      "25%       -121.800000\n",
      "50%       -118.490000\n",
      "75%       -118.010000\n",
      "max       -114.310000\n",
      "Name: longitude, dtype: float64\n",
      "latitude\n",
      " count    20640.000000\n",
      "mean        35.631861\n",
      "std          2.135952\n",
      "min         32.540000\n",
      "25%         33.930000\n",
      "50%         34.260000\n",
      "75%         37.710000\n",
      "max         41.950000\n",
      "Name: latitude, dtype: float64\n",
      "housing_median_age\n",
      " count    20640.000000\n",
      "mean        28.639486\n",
      "std         12.585558\n",
      "min          1.000000\n",
      "25%         18.000000\n",
      "50%         29.000000\n",
      "75%         37.000000\n",
      "max         52.000000\n",
      "Name: housing_median_age, dtype: float64\n",
      "total_rooms\n",
      " count    20640.000000\n",
      "mean      2635.763081\n",
      "std       2181.615252\n",
      "min          2.000000\n",
      "25%       1447.750000\n",
      "50%       2127.000000\n",
      "75%       3148.000000\n",
      "max      39320.000000\n",
      "Name: total_rooms, dtype: float64\n",
      "total_bedrooms\n",
      " count    20433.000000\n",
      "mean       537.870553\n",
      "std        421.385070\n",
      "min          1.000000\n",
      "25%        296.000000\n",
      "50%        435.000000\n",
      "75%        647.000000\n",
      "max       6445.000000\n",
      "Name: total_bedrooms, dtype: float64\n",
      "population\n",
      " count    20640.000000\n",
      "mean      1425.476744\n",
      "std       1132.462122\n",
      "min          3.000000\n",
      "25%        787.000000\n",
      "50%       1166.000000\n",
      "75%       1725.000000\n",
      "max      35682.000000\n",
      "Name: population, dtype: float64\n",
      "households\n",
      " count    20640.000000\n",
      "mean       499.539680\n",
      "std        382.329753\n",
      "min          1.000000\n",
      "25%        280.000000\n",
      "50%        409.000000\n",
      "75%        605.000000\n",
      "max       6082.000000\n",
      "Name: households, dtype: float64\n",
      "median_income\n",
      " count    20640.000000\n",
      "mean         3.870671\n",
      "std          1.899822\n",
      "min          0.499900\n",
      "25%          2.563400\n",
      "50%          3.534800\n",
      "75%          4.743250\n",
      "max         15.000100\n",
      "Name: median_income, dtype: float64\n",
      "median_house_value\n",
      " count     20640.000000\n",
      "mean     206855.816909\n",
      "std      115395.615874\n",
      "min       14999.000000\n",
      "25%      119600.000000\n",
      "50%      179700.000000\n",
      "75%      264725.000000\n",
      "max      500001.000000\n",
      "Name: median_house_value, dtype: float64\n",
      "ocean_proximity\n",
      " count         20640\n",
      "unique            5\n",
      "top       <1H OCEAN\n",
      "freq           9136\n",
      "Name: ocean_proximity, dtype: object\n"
     ]
    }
   ],
   "source": [
    "for i in df.columns:\n",
    "    print (i + \"\\n\",df[i].describe())\n",
    "#dir(df)\n",
    "#df.info()\n",
    "#df.housing_median_age.plot.line()"
   ]
  },
  {
   "cell_type": "code",
   "execution_count": 30,
   "metadata": {},
   "outputs": [
    {
     "data": {
      "text/plain": [
       "<matplotlib.axes._subplots.AxesSubplot at 0x1a27677650>"
      ]
     },
     "execution_count": 30,
     "metadata": {},
     "output_type": "execute_result"
    },
    {
     "data": {
      "image/png": "[encoded data removed]",
      "text/plain": [
       "<Figure size 432x288 with 1 Axes>"
      ]
     },
     "metadata": {
      "needs_background": "light"
     },
     "output_type": "display_data"
    }
   ],
   "source": [
    "df.households.plot.line()"
   ]
  },
  {
   "cell_type": "markdown",
   "metadata": {},
   "source": [
    "Selecciona una de estas variables y muestra un gráfico en el que sea evidente la presencia del outlier"
   ]
  },
  {
   "cell_type": "code",
   "execution_count": null,
   "metadata": {},
   "outputs": [],
   "source": []
  },
  {
   "cell_type": "markdown",
   "metadata": {},
   "source": [
    "Aplica el método de tukey visto en el Worksheet para filtrar el outlier."
   ]
  },
  {
   "cell_type": "code",
   "execution_count": 31,
   "metadata": {},
   "outputs": [],
   "source": [
    "def filtrar_outlier_tukey(x):\n",
    "    q1 = np.percentile(x, 25)\n",
    "    q3 = np.percentile(x, 75)\n",
    "    iqr = q3 - q1 \n",
    "    print(\"[q1=%f, q3=%f, iqr=%f]\" % (q1, q3, iqr))\n",
    "    \n",
    "    floor = q1 - 1.5*iqr\n",
    "    ceiling = q3 + 1.5*iqr\n",
    "    print(\"[floor=%f, ceiling=%f]\" % (floor, ceiling))\n",
    "    \n",
    "    outlier_indices = list(x.index[(x < floor)|(x > ceiling)])\n",
    "    outlier_values = list(x[outlier_indices])\n",
    "\n",
    "    return outlier_indices, outlier_values\n",
    "\n"
   ]
  },
  {
   "cell_type": "markdown",
   "metadata": {},
   "source": [
    "Muestra el mismo gráfico de antes para tu variable sin esos outliers"
   ]
  },
  {
   "cell_type": "code",
   "execution_count": 33,
   "metadata": {},
   "outputs": [
    {
     "name": "stdout",
     "output_type": "stream",
     "text": [
      "[q1=787.000000, q3=1725.000000, iqr=938.000000]\n",
      "[floor=-620.000000, ceiling=3132.000000]\n"
     ]
    }
   ],
   "source": [
    "outlier_indices, outlier_values = filtrar_outlier_tukey(df.population)\n"
   ]
  },
  {
   "cell_type": "code",
   "execution_count": 34,
   "metadata": {},
   "outputs": [
    {
     "name": "stdout",
     "output_type": "stream",
     "text": [
      "1196\n"
     ]
    },
    {
     "data": {
      "text/plain": [
       "<matplotlib.axes._subplots.AxesSubplot at 0x1a278d5650>"
      ]
     },
     "execution_count": 34,
     "metadata": {},
     "output_type": "execute_result"
    },
    {
     "data": {
      "image/png": "[encoded data removed]",
      "text/plain": [
       "<Figure size 432x288 with 1 Axes>"
      ]
     },
     "metadata": {
      "needs_background": "light"
     },
     "output_type": "display_data"
    }
   ],
   "source": [
    "#print(outlier_indices)\n",
    "#print(outlier_values)\n",
    "print(len(outlier_values))\n",
    "#df.population.plot.line()\n",
    "df.boxplot('population')"
   ]
  },
  {
   "cell_type": "code",
   "execution_count": null,
   "metadata": {},
   "outputs": [],
   "source": [
    "df_no_outliers = df.copy()\n",
    "for index in outlier_indices:\n",
    "    df_no_outliers.population.at[index] = np.nan"
   ]
  },
  {
   "cell_type": "code",
   "execution_count": null,
   "metadata": {},
   "outputs": [],
   "source": [
    "df_no_outliers.boxplot('population')\n",
    "#df_no_outliers.households.plot.line()"
   ]
  },
  {
   "cell_type": "code",
   "execution_count": null,
   "metadata": {},
   "outputs": [],
   "source": [
    "df_no_outliers.population.describe()"
   ]
  },
  {
   "cell_type": "code",
   "execution_count": null,
   "metadata": {},
   "outputs": [],
   "source": [
    "_, _ = filtrar_outlier_tukey(df_no_outliers.drop(outlier_indices, axis=0).population)"
   ]
  },
  {
   "cell_type": "code",
   "execution_count": null,
   "metadata": {},
   "outputs": [],
   "source": [
    "def filtrar_outlier_tukey_iqr3(x):\n",
    "    q1 = np.percentile(x, 25)\n",
    "    q3 = np.percentile(x, 75)\n",
    "    iqr = q3 - q1 \n",
    "    print(\"[q1=%f, q3=%f, iqr=%f]\" % (q1, q3, iqr))\n",
    "    \n",
    "    floor = q1 - 3.0*iqr\n",
    "    ceiling = q3 + 3.0*iqr\n",
    "    print(\"[floor=%f, ceiling=%f]\" % (floor, ceiling))\n",
    "    \n",
    "    outlier_indices_iqr3 = list(x.index[(x < floor)|(x > ceiling)])\n",
    "    outlier_values_iqr3 = list(x[outlier_indices])\n",
    "\n",
    "    return outlier_indices_iqr3, outlier_values_iqr3"
   ]
  },
  {
   "cell_type": "code",
   "execution_count": null,
   "metadata": {},
   "outputs": [],
   "source": []
  },
  {
   "cell_type": "markdown",
   "metadata": {},
   "source": [
    "Ahora, prueba a ejectuar el mismo método de tukey pero relajando la zona de outlier a $Q_3 + 3 \\times IQR$."
   ]
  },
  {
   "cell_type": "code",
   "execution_count": null,
   "metadata": {},
   "outputs": [],
   "source": [
    "outlier_indices_iqr3, outlier_values_iqr3 = filtrar_outlier_tukey_iqr3(df.population)"
   ]
  },
  {
   "cell_type": "code",
   "execution_count": null,
   "metadata": {},
   "outputs": [],
   "source": [
    "print(len(outlier_values_iqr3))"
   ]
  },
  {
   "cell_type": "markdown",
   "metadata": {},
   "source": [
    "Y pinta el mismo gráfico de antes para tu variable sin outliers "
   ]
  },
  {
   "cell_type": "code",
   "execution_count": null,
   "metadata": {},
   "outputs": [],
   "source": [
    "#df.population.plot.line()"
   ]
  },
  {
   "cell_type": "markdown",
   "metadata": {},
   "source": [
    "¿Qué diferencias observas en los resultados para los dos umbrales de tukey? ¿A qué crees que se debe?"
   ]
  },
  {
   "cell_type": "code",
   "execution_count": null,
   "metadata": {},
   "outputs": [],
   "source": []
  },
  {
   "cell_type": "markdown",
   "metadata": {},
   "source": [
    "Prueba un nuevo método de detección de outliers que encuentres por Internet y compáralo con los anteriores."
   ]
  },
  {
   "cell_type": "code",
   "execution_count": null,
   "metadata": {},
   "outputs": [],
   "source": []
  }
 ],
 "metadata": {
  "anaconda-cloud": {},
  "kernelspec": {
   "display_name": "Python 3",
   "language": "python",
   "name": "python3"
  },
  "language_info": {
   "codemirror_mode": {
    "name": "ipython",
    "version": 3
   },
   "file_extension": ".py",
   "mimetype": "text/x-python",
   "name": "python",
   "nbconvert_exporter": "python",
   "pygments_lexer": "ipython3",
   "version": "3.7.4"
  },
  "toc": {
   "base_numbering": 1,
   "nav_menu": {},
   "number_sections": true,
   "sideBar": true,
   "skip_h1_title": false,
   "title_cell": "Table of Contents",
   "title_sidebar": "Contents",
   "toc_cell": false,
   "toc_position": {
    "height": "calc(100% - 180px)",
    "left": "10px",
    "top": "150px",
    "width": "287.8px"
   },
   "toc_section_display": true,
   "toc_window_display": true
  },
  "varInspector": {
   "cols": {
    "lenName": 16,
    "lenType": 16,
    "lenVar": 40
   },
   "kernels_config": {
    "python": {
     "delete_cmd_postfix": "",
     "delete_cmd_prefix": "del ",
     "library": "var_list.py",
     "varRefreshCmd": "print(var_dic_list())"
    },
    "r": {
     "delete_cmd_postfix": ") ",
     "delete_cmd_prefix": "rm(",
     "library": "var_list.r",
     "varRefreshCmd": "cat(var_dic_list()) "
    }
   },
   "types_to_exclude": [
    "module",
    "function",
    "builtin_function_or_method",
    "instance",
    "_Feature"
   ],
   "window_display": false
  }
 },
 "nbformat": 4,
 "nbformat_minor": 4
}

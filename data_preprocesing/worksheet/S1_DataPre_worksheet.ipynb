{
 "cells": [
  {
   "cell_type": "markdown",
   "metadata": {},
   "source": [
    "<img src=\"mioti.png\" style=\"height: 100px\">\n",
    "<center style=\"color:#888\">Módulo Data Science in IoT<br/>Asignatura Data preprocessing</center>\n",
    "\n",
    "# Worksheet S1: Introducción al preprocesamiento de datos"
   ]
  },
  {
   "cell_type": "markdown",
   "metadata": {},
   "source": [
    "## Objetivos\n",
    "\n",
    "El objetivo de este worksheet es que aprendas los métodos más comunes de preprocesamiento de datos.\n",
    "\n",
    "* Técnicas básicas de exploración de un dataset\n",
    "* Filtrado de datos\n",
    "* Visualización de datos\n",
    "* Tratamiento de outliers\n",
    "* Imputación de valores ausentes\n",
    "* Muestreo"
   ]
  },
  {
   "cell_type": "markdown",
   "metadata": {},
   "source": [
    "## Configuración del entorno\n",
    "\n",
    "Es recomendable declarar en un bloque al principio todos los paquetes que vamos a utilizar en este notebook:"
   ]
  },
  {
   "cell_type": "code",
   "execution_count": 1,
   "metadata": {
    "ExecuteTime": {
     "end_time": "2019-10-26T19:03:14.401450Z",
     "start_time": "2019-10-26T19:03:14.030255Z"
    }
   },
   "outputs": [],
   "source": [
    "%matplotlib inline\n",
    "\n",
    "import numpy as np\n",
    "import pandas as pd\n",
    "import matplotlib.pyplot as plt"
   ]
  },
  {
   "cell_type": "markdown",
   "metadata": {},
   "source": [
    "## Carga de los datos\n",
    "\n",
    "Para este worksheet vamos a hacer uso de un dataset público de temperaturas globales de la tierra disponible desde:\n",
    "\n",
    "https://datahub.io/core/global-temp\n",
    "\n",
    "Los datos corresponden a datos mensuales de la temperatura media de la tierra medida medidos con 2 sistemas distintos.\n",
    "\n",
    "La descripción de cada una de las columnas es la siguiente:\n",
    "\n",
    "<img src=\"global_temp_data.png\">\n",
    "\n",
    "Los datos se encuentran en un fichero `csv` llamado `monthly.csv`.\n",
    "\n",
    "Para cargar los datos utilizaremos la función read_csv que nos proporciona la libreria de pandas para cargar una base de datos de usuarios en un dataframe que llamaremos `df`."
   ]
  },
  {
   "cell_type": "code",
   "execution_count": 2,
   "metadata": {
    "ExecuteTime": {
     "end_time": "2019-10-26T19:03:14.411291Z",
     "start_time": "2019-10-26T19:03:14.402840Z"
    }
   },
   "outputs": [],
   "source": [
    "df = pd.read_csv('monthly.csv')"
   ]
  },
  {
   "cell_type": "markdown",
   "metadata": {},
   "source": [
    "Una vez cargados los datos debemos inspeccionarlos antes de empezar nuestro análisis."
   ]
  },
  {
   "cell_type": "code",
   "execution_count": 3,
   "metadata": {
    "ExecuteTime": {
     "end_time": "2019-10-26T19:03:14.418971Z",
     "start_time": "2019-10-26T19:03:14.412673Z"
    }
   },
   "outputs": [
    {
     "name": "stdout",
     "output_type": "stream",
     "text": [
      "<class 'pandas.core.frame.DataFrame'>\n",
      "RangeIndex: 3288 entries, 0 to 3287\n",
      "Data columns (total 3 columns):\n",
      "Source             3288 non-null object\n",
      "Date               3288 non-null object\n",
      "MeanTemperature    3288 non-null float64\n",
      "dtypes: float64(1), object(2)\n",
      "memory usage: 77.1+ KB\n"
     ]
    }
   ],
   "source": [
    "df.info()"
   ]
  },
  {
   "cell_type": "markdown",
   "metadata": {},
   "source": [
    "Podemos ver que este dataset contiene 3288 instancias, con 3 columnas.\n",
    "\n",
    "Por cada columna podemos ver el tipo que lo ha cargado."
   ]
  },
  {
   "cell_type": "markdown",
   "metadata": {},
   "source": [
    "## Navegación en el dataframe"
   ]
  },
  {
   "cell_type": "markdown",
   "metadata": {},
   "source": [
    "Antes de empezar a realizarnos preguntas o hacer transformaciones sobre los datos, debemos comprender que estructura tienen. Para ello podemos hacer uso de las funciones `head`, `index` y `columns` para ver la estructura del dataset."
   ]
  },
  {
   "cell_type": "code",
   "execution_count": 4,
   "metadata": {
    "ExecuteTime": {
     "end_time": "2019-10-26T19:03:14.428349Z",
     "start_time": "2019-10-26T19:03:14.420611Z"
    }
   },
   "outputs": [
    {
     "data": {
      "text/html": [
       "<div>\n",
       "<style scoped>\n",
       "    .dataframe tbody tr th:only-of-type {\n",
       "        vertical-align: middle;\n",
       "    }\n",
       "\n",
       "    .dataframe tbody tr th {\n",
       "        vertical-align: top;\n",
       "    }\n",
       "\n",
       "    .dataframe thead th {\n",
       "        text-align: right;\n",
       "    }\n",
       "</style>\n",
       "<table border=\"1\" class=\"dataframe\">\n",
       "  <thead>\n",
       "    <tr style=\"text-align: right;\">\n",
       "      <th></th>\n",
       "      <th>Source</th>\n",
       "      <th>Date</th>\n",
       "      <th>MeanTemperature</th>\n",
       "    </tr>\n",
       "  </thead>\n",
       "  <tbody>\n",
       "    <tr>\n",
       "      <th>0</th>\n",
       "      <td>GCAG</td>\n",
       "      <td>2016-12-26</td>\n",
       "      <td>0.7895</td>\n",
       "    </tr>\n",
       "    <tr>\n",
       "      <th>1</th>\n",
       "      <td>GISTEMP</td>\n",
       "      <td>2016-12-26</td>\n",
       "      <td>0.8100</td>\n",
       "    </tr>\n",
       "    <tr>\n",
       "      <th>2</th>\n",
       "      <td>GCAG</td>\n",
       "      <td>2016-11-26</td>\n",
       "      <td>0.7504</td>\n",
       "    </tr>\n",
       "    <tr>\n",
       "      <th>3</th>\n",
       "      <td>GISTEMP</td>\n",
       "      <td>2016-11-26</td>\n",
       "      <td>0.9300</td>\n",
       "    </tr>\n",
       "    <tr>\n",
       "      <th>4</th>\n",
       "      <td>GCAG</td>\n",
       "      <td>2016-10-26</td>\n",
       "      <td>0.7292</td>\n",
       "    </tr>\n",
       "  </tbody>\n",
       "</table>\n",
       "</div>"
      ],
      "text/plain": [
       "    Source        Date  MeanTemperature\n",
       "0     GCAG  2016-12-26           0.7895\n",
       "1  GISTEMP  2016-12-26           0.8100\n",
       "2     GCAG  2016-11-26           0.7504\n",
       "3  GISTEMP  2016-11-26           0.9300\n",
       "4     GCAG  2016-10-26           0.7292"
      ]
     },
     "execution_count": 4,
     "metadata": {},
     "output_type": "execute_result"
    }
   ],
   "source": [
    "df.head() # Nos devuelve los 5 primeros registros del df"
   ]
  },
  {
   "cell_type": "code",
   "execution_count": 5,
   "metadata": {
    "ExecuteTime": {
     "end_time": "2019-10-26T19:03:14.432584Z",
     "start_time": "2019-10-26T19:03:14.429579Z"
    }
   },
   "outputs": [
    {
     "data": {
      "text/plain": [
       "Index(['Source', 'Date', 'MeanTemperature'], dtype='object')"
      ]
     },
     "execution_count": 5,
     "metadata": {},
     "output_type": "execute_result"
    }
   ],
   "source": [
    "df.columns # Nos da información sobre las columnas"
   ]
  },
  {
   "cell_type": "code",
   "execution_count": 6,
   "metadata": {
    "ExecuteTime": {
     "end_time": "2019-10-26T19:03:14.451117Z",
     "start_time": "2019-10-26T19:03:14.433876Z"
    }
   },
   "outputs": [
    {
     "data": {
      "text/html": [
       "<div>\n",
       "<style scoped>\n",
       "    .dataframe tbody tr th:only-of-type {\n",
       "        vertical-align: middle;\n",
       "    }\n",
       "\n",
       "    .dataframe tbody tr th {\n",
       "        vertical-align: top;\n",
       "    }\n",
       "\n",
       "    .dataframe thead th {\n",
       "        text-align: right;\n",
       "    }\n",
       "</style>\n",
       "<table border=\"1\" class=\"dataframe\">\n",
       "  <thead>\n",
       "    <tr style=\"text-align: right;\">\n",
       "      <th></th>\n",
       "      <th>MeanTemperature</th>\n",
       "    </tr>\n",
       "  </thead>\n",
       "  <tbody>\n",
       "    <tr>\n",
       "      <th>count</th>\n",
       "      <td>3288.000000</td>\n",
       "    </tr>\n",
       "    <tr>\n",
       "      <th>mean</th>\n",
       "      <td>0.038610</td>\n",
       "    </tr>\n",
       "    <tr>\n",
       "      <th>std</th>\n",
       "      <td>0.439494</td>\n",
       "    </tr>\n",
       "    <tr>\n",
       "      <th>min</th>\n",
       "      <td>-10.677400</td>\n",
       "    </tr>\n",
       "    <tr>\n",
       "      <th>1%</th>\n",
       "      <td>-0.549552</td>\n",
       "    </tr>\n",
       "    <tr>\n",
       "      <th>5%</th>\n",
       "      <td>-0.410065</td>\n",
       "    </tr>\n",
       "    <tr>\n",
       "      <th>50%</th>\n",
       "      <td>-0.036650</td>\n",
       "    </tr>\n",
       "    <tr>\n",
       "      <th>95%</th>\n",
       "      <td>0.686350</td>\n",
       "    </tr>\n",
       "    <tr>\n",
       "      <th>99%</th>\n",
       "      <td>0.883552</td>\n",
       "    </tr>\n",
       "    <tr>\n",
       "      <th>max</th>\n",
       "      <td>10.521800</td>\n",
       "    </tr>\n",
       "  </tbody>\n",
       "</table>\n",
       "</div>"
      ],
      "text/plain": [
       "       MeanTemperature\n",
       "count      3288.000000\n",
       "mean          0.038610\n",
       "std           0.439494\n",
       "min         -10.677400\n",
       "1%           -0.549552\n",
       "5%           -0.410065\n",
       "50%          -0.036650\n",
       "95%           0.686350\n",
       "99%           0.883552\n",
       "max          10.521800"
      ]
     },
     "execution_count": 6,
     "metadata": {},
     "output_type": "execute_result"
    }
   ],
   "source": [
    "df.describe(percentiles=[.01, .05, .5, .95, .99])"
   ]
  },
  {
   "cell_type": "markdown",
   "metadata": {},
   "source": [
    "Podemos acceder a una columna individual mediante:"
   ]
  },
  {
   "cell_type": "code",
   "execution_count": 7,
   "metadata": {
    "ExecuteTime": {
     "end_time": "2019-10-26T19:03:14.457888Z",
     "start_time": "2019-10-26T19:03:14.452904Z"
    }
   },
   "outputs": [
    {
     "data": {
      "text/plain": [
       "0    0.7895\n",
       "1    0.8100\n",
       "2    0.7504\n",
       "3    0.9300\n",
       "4    0.7292\n",
       "Name: MeanTemperature, dtype: float64"
      ]
     },
     "execution_count": 7,
     "metadata": {},
     "output_type": "execute_result"
    }
   ],
   "source": [
    "df['MeanTemperature'].head()"
   ]
  },
  {
   "cell_type": "markdown",
   "metadata": {},
   "source": [
    "o también mediante:"
   ]
  },
  {
   "cell_type": "code",
   "execution_count": 8,
   "metadata": {
    "ExecuteTime": {
     "end_time": "2019-10-26T19:03:14.465107Z",
     "start_time": "2019-10-26T19:03:14.460565Z"
    }
   },
   "outputs": [
    {
     "data": {
      "text/plain": [
       "0    0.7895\n",
       "1    0.8100\n",
       "2    0.7504\n",
       "3    0.9300\n",
       "4    0.7292\n",
       "Name: MeanTemperature, dtype: float64"
      ]
     },
     "execution_count": 8,
     "metadata": {},
     "output_type": "execute_result"
    }
   ],
   "source": [
    "df.MeanTemperature.head()"
   ]
  },
  {
   "cell_type": "markdown",
   "metadata": {},
   "source": [
    "## Filtrado de datos\n",
    "Una particularidad de este dataset es que contiene información de dos fuentes distintas. Cada instancia del dataset viene identificada con el sistema de procedencia mediante la columna `Source`. Podemos consultar la distribución de las mismas así:"
   ]
  },
  {
   "cell_type": "code",
   "execution_count": 9,
   "metadata": {
    "ExecuteTime": {
     "end_time": "2019-10-26T19:03:14.476819Z",
     "start_time": "2019-10-26T19:03:14.467321Z"
    }
   },
   "outputs": [
    {
     "data": {
      "text/plain": [
       "GISTEMP    1644\n",
       "GCAG       1644\n",
       "Name: Source, dtype: int64"
      ]
     },
     "execution_count": 9,
     "metadata": {},
     "output_type": "execute_result"
    }
   ],
   "source": [
    "df.Source.value_counts()"
   ]
  },
  {
   "cell_type": "markdown",
   "metadata": {},
   "source": [
    "En este caso vamos a trabajar sólo con las mediciones de la fuente 'GCAG', para ello vamos a filtrar los datos. Lo podemos hacer de la siguiente manera:"
   ]
  },
  {
   "cell_type": "code",
   "execution_count": 10,
   "metadata": {
    "ExecuteTime": {
     "end_time": "2019-10-26T19:03:14.485346Z",
     "start_time": "2019-10-26T19:03:14.480737Z"
    }
   },
   "outputs": [],
   "source": [
    "df = df[df['Source'] == 'GCAG']"
   ]
  },
  {
   "cell_type": "markdown",
   "metadata": {},
   "source": [
    "De esta manera hemos filtrado los datos y podemos ver el resultado:"
   ]
  },
  {
   "cell_type": "code",
   "execution_count": 11,
   "metadata": {
    "ExecuteTime": {
     "end_time": "2019-10-26T19:03:14.499123Z",
     "start_time": "2019-10-26T19:03:14.486932Z"
    }
   },
   "outputs": [
    {
     "data": {
      "text/html": [
       "<div>\n",
       "<style scoped>\n",
       "    .dataframe tbody tr th:only-of-type {\n",
       "        vertical-align: middle;\n",
       "    }\n",
       "\n",
       "    .dataframe tbody tr th {\n",
       "        vertical-align: top;\n",
       "    }\n",
       "\n",
       "    .dataframe thead th {\n",
       "        text-align: right;\n",
       "    }\n",
       "</style>\n",
       "<table border=\"1\" class=\"dataframe\">\n",
       "  <thead>\n",
       "    <tr style=\"text-align: right;\">\n",
       "      <th></th>\n",
       "      <th>Source</th>\n",
       "      <th>Date</th>\n",
       "      <th>MeanTemperature</th>\n",
       "    </tr>\n",
       "  </thead>\n",
       "  <tbody>\n",
       "    <tr>\n",
       "      <th>0</th>\n",
       "      <td>GCAG</td>\n",
       "      <td>2016-12-26</td>\n",
       "      <td>0.7895</td>\n",
       "    </tr>\n",
       "    <tr>\n",
       "      <th>2</th>\n",
       "      <td>GCAG</td>\n",
       "      <td>2016-11-26</td>\n",
       "      <td>0.7504</td>\n",
       "    </tr>\n",
       "    <tr>\n",
       "      <th>4</th>\n",
       "      <td>GCAG</td>\n",
       "      <td>2016-10-26</td>\n",
       "      <td>0.7292</td>\n",
       "    </tr>\n",
       "    <tr>\n",
       "      <th>6</th>\n",
       "      <td>GCAG</td>\n",
       "      <td>2016-09-26</td>\n",
       "      <td>0.8767</td>\n",
       "    </tr>\n",
       "    <tr>\n",
       "      <th>8</th>\n",
       "      <td>GCAG</td>\n",
       "      <td>2016-08-26</td>\n",
       "      <td>0.8998</td>\n",
       "    </tr>\n",
       "  </tbody>\n",
       "</table>\n",
       "</div>"
      ],
      "text/plain": [
       "  Source        Date  MeanTemperature\n",
       "0   GCAG  2016-12-26           0.7895\n",
       "2   GCAG  2016-11-26           0.7504\n",
       "4   GCAG  2016-10-26           0.7292\n",
       "6   GCAG  2016-09-26           0.8767\n",
       "8   GCAG  2016-08-26           0.8998"
      ]
     },
     "execution_count": 11,
     "metadata": {},
     "output_type": "execute_result"
    }
   ],
   "source": [
    "df.head()"
   ]
  },
  {
   "cell_type": "markdown",
   "metadata": {
    "collapsed": true
   },
   "source": [
    "### Pregunta\n",
    "\n",
    "* ¿Por qué en la primera columna sólo aparecen números pares? ¿Qué es la primera columna?"
   ]
  },
  {
   "cell_type": "markdown",
   "metadata": {},
   "source": [
    "## Visualización de datos\n",
    "Una técnica que nos ayuda mucho a visualizar los datos es el uso de gráficos. Podemos dibujar gráficos con `pandas` de forma muy sencilla.\n",
    "\n",
    "Si queremos un gráfico de línea lo podemos hacer de la siguiente manera:"
   ]
  },
  {
   "cell_type": "code",
   "execution_count": 12,
   "metadata": {
    "ExecuteTime": {
     "end_time": "2019-10-26T19:03:14.705323Z",
     "start_time": "2019-10-26T19:03:14.500539Z"
    },
    "scrolled": true
   },
   "outputs": [
    {
     "data": {
      "text/plain": [
       "<matplotlib.axes._subplots.AxesSubplot at 0x1e45dac4940>"
      ]
     },
     "execution_count": 12,
     "metadata": {},
     "output_type": "execute_result"
    },
    {
     "data": {
      "image/png": "[encoded data removed]",
      "text/plain": [
       "<Figure size 432x288 with 1 Axes>"
      ]
     },
     "metadata": {
      "needs_background": "light"
     },
     "output_type": "display_data"
    }
   ],
   "source": [
    "df.plot.line()"
   ]
  },
  {
   "cell_type": "markdown",
   "metadata": {},
   "source": [
    "Si queremos hacer un histograma es igual de sencillo:"
   ]
  },
  {
   "cell_type": "code",
   "execution_count": 13,
   "metadata": {
    "ExecuteTime": {
     "end_time": "2019-10-26T19:03:14.894052Z",
     "start_time": "2019-10-26T19:03:14.706585Z"
    }
   },
   "outputs": [
    {
     "data": {
      "text/plain": [
       "<matplotlib.axes._subplots.AxesSubplot at 0x1e460a6d3c8>"
      ]
     },
     "execution_count": 13,
     "metadata": {},
     "output_type": "execute_result"
    },
    {
     "data": {
      "image/png": "[encoded data removed]",
      "text/plain": [
       "<Figure size 432x288 with 1 Axes>"
      ]
     },
     "metadata": {
      "needs_background": "light"
     },
     "output_type": "display_data"
    }
   ],
   "source": [
    "df.plot.hist()"
   ]
  },
  {
   "cell_type": "markdown",
   "metadata": {},
   "source": [
    "Por defecto `pandas` crea los histogramas con 10 bins. Si queremos ampliar el número es tan fácil como:"
   ]
  },
  {
   "cell_type": "code",
   "execution_count": 14,
   "metadata": {
    "ExecuteTime": {
     "end_time": "2019-10-26T19:03:16.975997Z",
     "start_time": "2019-10-26T19:03:14.895325Z"
    }
   },
   "outputs": [
    {
     "data": {
      "text/plain": [
       "<matplotlib.axes._subplots.AxesSubplot at 0x1e460aed0b8>"
      ]
     },
     "execution_count": 14,
     "metadata": {},
     "output_type": "execute_result"
    },
    {
     "data": {
      "image/png": "[encoded data removed]",
      "text/plain": [
       "<Figure size 432x288 with 1 Axes>"
      ]
     },
     "metadata": {
      "needs_background": "light"
     },
     "output_type": "display_data"
    }
   ],
   "source": [
    "df.plot.hist(bins=100)"
   ]
  },
  {
   "cell_type": "markdown",
   "metadata": {},
   "source": [
    "### Preguntas\n",
    "\n",
    "* ¿Podrías describir que es un histograma?\n",
    "* ¿Qué nos está diciendo estos dos gráficos sobre los datos?"
   ]
  },
  {
   "cell_type": "markdown",
   "metadata": {},
   "source": [
    "## Tratamiento de outliers\n",
    "\n",
    "Como hemos podido ver en los gráficos anteriores los datos contienen outliers que nos impiden visualizar los datos correctamente.\n",
    "\n",
    "### ¿Qué es un outlier?.\n",
    "\n",
    "Un outlier es un dato anómalo que está fuera de rango y sobresale de los demás. Generalmente los outliers están producidos por:\n",
    "\n",
    "* Situaciones atípicas\n",
    "* Errores de medición \n",
    "* Errrores de interpretación\n",
    "\n",
    "Es muy importante antes de realizar un análisis estadístico o de entrenar un modelo, identificar y neutralizar los outliers, porque hay muchos métodos muy sensibles a outliers y la presencia de estos puede distorsionar el resultado.\n",
    "\n",
    "Por ejemplo si hacemos una regresión lineal con un conjunto de datos con y sin outliers los resultados pueden ser muy distintos.\n",
    "\n",
    "<img src=\"outliers.jpg\">\n",
    "\n",
    "Uno de los métodos más clásicos de detección de outliers es el método de tukey. Éste consiste en identificar los outliers como aquellos puntos que se salgan de la \"normalidad\" de los datos.\n",
    "\n",
    "En este caso definimos un outlier como cualquier punto que sea inferior a $Q_1 - 1.5 \\times IQR$ o superior a $Q_3 + 1.5 \\times IQR$.\n",
    "\n",
    "* donde $IQR$ es el rango intercuartílico $Q_3 - Q_1$\n",
    "* y $Q_n$ es el cuartil $n$ de los datos.\n",
    "        \n",
    "<img src=\"boxplot.jpg\">"
   ]
  },
  {
   "cell_type": "code",
   "execution_count": 15,
   "metadata": {},
   "outputs": [
    {
     "data": {
      "text/plain": [
       "<matplotlib.axes._subplots.AxesSubplot at 0x1e460c2dac8>"
      ]
     },
     "execution_count": 15,
     "metadata": {},
     "output_type": "execute_result"
    },
    {
     "data": {
      "image/png": "[encoded data removed]",
      "text/plain": [
       "<Figure size 432x288 with 1 Axes>"
      ]
     },
     "metadata": {
      "needs_background": "light"
     },
     "output_type": "display_data"
    }
   ],
   "source": [
    "df.boxplot('MeanTemperature')"
   ]
  },
  {
   "cell_type": "markdown",
   "metadata": {},
   "source": [
    "Podemos implementar el método de tukey de la siguiente manera:"
   ]
  },
  {
   "cell_type": "code",
   "execution_count": 16,
   "metadata": {
    "ExecuteTime": {
     "end_time": "2019-10-26T19:03:16.981411Z",
     "start_time": "2019-10-26T19:03:16.977304Z"
    }
   },
   "outputs": [],
   "source": [
    "def filtrar_outlier_tukey(x):\n",
    "    q1 = np.percentile(x, 25)\n",
    "    q3 = np.percentile(x, 75)\n",
    "    iqr = q3 - q1 \n",
    "    print(\"[q1=%f, q3=%f, iqr=%f]\" % (q1, q3, iqr))\n",
    "    \n",
    "    floor = q1 - 1.5*iqr\n",
    "    ceiling = q3 + 1.5*iqr\n",
    "    print(\"[floor=%f, ceiling=%f]\" % (floor, ceiling))\n",
    "    \n",
    "    outlier_indices = list(x.index[(x < floor)|(x > ceiling)])\n",
    "    outlier_values = list(x[outlier_indices])\n",
    "\n",
    "    return outlier_indices, outlier_values"
   ]
  },
  {
   "cell_type": "markdown",
   "metadata": {},
   "source": [
    "Y podemos aplicarlo a la columna `MeanTemperature` así:"
   ]
  },
  {
   "cell_type": "code",
   "execution_count": 17,
   "metadata": {
    "ExecuteTime": {
     "end_time": "2019-10-26T19:03:16.997926Z",
     "start_time": "2019-10-26T19:03:16.982769Z"
    },
    "scrolled": true
   },
   "outputs": [
    {
     "name": "stdout",
     "output_type": "stream",
     "text": [
      "[q1=-0.191400, q3=0.251000, iqr=0.442400]\n",
      "[floor=-0.855000, ceiling=0.914600]\n"
     ]
    }
   ],
   "source": [
    "outlier_indices, outlier_values = filtrar_outlier_tukey(df.MeanTemperature)"
   ]
  },
  {
   "cell_type": "markdown",
   "metadata": {},
   "source": [
    "Esto nos devuelve dos listas:\n",
    "\n",
    "* `outlier_indices`: Una lista de las posiciones que ocupan los outliers.\n",
    "* `outlier_values`: Los valores de los elementos que se han clasificado como outliers."
   ]
  },
  {
   "cell_type": "code",
   "execution_count": 18,
   "metadata": {
    "ExecuteTime": {
     "end_time": "2019-10-26T19:03:17.004844Z",
     "start_time": "2019-10-26T19:03:16.999858Z"
    }
   },
   "outputs": [
    {
     "name": "stdout",
     "output_type": "stream",
     "text": [
      "[16, 18, 20, 22, 24, 26, 28, 30, 114, 244, 322, 532]\n",
      "[1.0733, 1.2245, 1.1921, 1.0569, 1.1219, 0.9655, 0.9913, 0.926, 10.5218, -10.6774, 5.5408, 3.4273]\n"
     ]
    }
   ],
   "source": [
    "print(outlier_indices)\n",
    "print(outlier_values)"
   ]
  },
  {
   "cell_type": "markdown",
   "metadata": {},
   "source": [
    "Una vez identificados los outliers podemos eliminarlos de la siguiente manera:"
   ]
  },
  {
   "cell_type": "code",
   "execution_count": 19,
   "metadata": {
    "ExecuteTime": {
     "end_time": "2019-10-26T19:03:17.013871Z",
     "start_time": "2019-10-26T19:03:17.008930Z"
    }
   },
   "outputs": [],
   "source": [
    "for index in outlier_indices:\n",
    "    df.MeanTemperature.at[index] = np.nan"
   ]
  },
  {
   "cell_type": "markdown",
   "metadata": {},
   "source": [
    "En este caso, lo que hemos hecho es poner un valor nulo `np.nan` en cada posición que contiene un outlier.\n",
    "\n",
    "Un vez eliminados los outliers podemos dibujar de nuevo el gráfico:"
   ]
  },
  {
   "cell_type": "code",
   "execution_count": 20,
   "metadata": {
    "ExecuteTime": {
     "end_time": "2019-10-26T19:03:17.285340Z",
     "start_time": "2019-10-26T19:03:17.015245Z"
    }
   },
   "outputs": [
    {
     "data": {
      "text/plain": [
       "<matplotlib.axes._subplots.AxesSubplot at 0x1e460c95dd8>"
      ]
     },
     "execution_count": 20,
     "metadata": {},
     "output_type": "execute_result"
    },
    {
     "data": {
      "image/png": "[encoded data removed]",
      "text/plain": [
       "<Figure size 1440x720 with 1 Axes>"
      ]
     },
     "metadata": {
      "needs_background": "light"
     },
     "output_type": "display_data"
    }
   ],
   "source": [
    "df.plot.line(figsize=[20,10])"
   ]
  },
  {
   "cell_type": "code",
   "execution_count": 21,
   "metadata": {
    "ExecuteTime": {
     "end_time": "2019-10-26T19:03:17.507026Z",
     "start_time": "2019-10-26T19:03:17.286792Z"
    }
   },
   "outputs": [
    {
     "data": {
      "text/plain": [
       "<matplotlib.axes._subplots.AxesSubplot at 0x1e460d08898>"
      ]
     },
     "execution_count": 21,
     "metadata": {},
     "output_type": "execute_result"
    },
    {
     "data": {
      "image/png": "[encoded data removed]",
      "text/plain": [
       "<Figure size 432x288 with 1 Axes>"
      ]
     },
     "metadata": {
      "needs_background": "light"
     },
     "output_type": "display_data"
    }
   ],
   "source": [
    "df.plot.hist()"
   ]
  },
  {
   "cell_type": "code",
   "execution_count": 22,
   "metadata": {},
   "outputs": [
    {
     "data": {
      "text/plain": [
       "<matplotlib.axes._subplots.AxesSubplot at 0x1e460d3bfd0>"
      ]
     },
     "execution_count": 22,
     "metadata": {},
     "output_type": "execute_result"
    },
    {
     "data": {
      "image/png": "[encoded data removed]",
      "text/plain": [
       "<Figure size 432x288 with 1 Axes>"
      ]
     },
     "metadata": {
      "needs_background": "light"
     },
     "output_type": "display_data"
    }
   ],
   "source": [
    "df.boxplot('MeanTemperature')"
   ]
  },
  {
   "cell_type": "code",
   "execution_count": 23,
   "metadata": {},
   "outputs": [
    {
     "name": "stdout",
     "output_type": "stream",
     "text": [
      "[q1=-0.191725, q3=0.243300, iqr=0.435025]\n",
      "[floor=-0.844263, ceiling=0.895837]\n"
     ]
    }
   ],
   "source": [
    "_, _ = filtrar_outlier_tukey(df.drop(outlier_indices, axis=0).MeanTemperature)"
   ]
  },
  {
   "cell_type": "code",
   "execution_count": 24,
   "metadata": {},
   "outputs": [
    {
     "data": {
      "text/plain": [
       "238    0.8839\n",
       "44     0.8843\n",
       "42     0.8969\n",
       "8      0.8998\n",
       "12     0.9006\n",
       "Name: MeanTemperature, dtype: float64"
      ]
     },
     "execution_count": 24,
     "metadata": {},
     "output_type": "execute_result"
    }
   ],
   "source": [
    "df.drop(outlier_indices, axis=0).MeanTemperature.sort_values().tail()"
   ]
  },
  {
   "cell_type": "markdown",
   "metadata": {},
   "source": [
    "### Preguntas\n",
    "\n",
    "* ¿Qué ha pasado en los gráficos después de eliminar outliers?\n",
    "* ¿Por qué aparecen outliers en el último box plot?\n",
    "* ¿Crees que es adecuado el método de eliminación de outliers con los datos que tenemos? ¿Qué podríamos hacer para mejorarlo?"
   ]
  },
  {
   "cell_type": "markdown",
   "metadata": {},
   "source": [
    "## Imputación de valores ausentes\n",
    "En los pasos anteriores hemos identificado los outliers y los hemos asignado a un valor nulo."
   ]
  },
  {
   "cell_type": "code",
   "execution_count": null,
   "metadata": {
    "ExecuteTime": {
     "end_time": "2019-10-26T19:03:17.514171Z",
     "start_time": "2019-10-26T19:03:17.508181Z"
    }
   },
   "outputs": [],
   "source": [
    "for index in outlier_indices:\n",
    "    print(\"[%s] %f\" % (index, df.loc[index].MeanTemperature))"
   ]
  },
  {
   "cell_type": "markdown",
   "metadata": {},
   "source": [
    "Otra forma de ver esta información agregada a nivel de columna es de la siguiente manera:"
   ]
  },
  {
   "cell_type": "code",
   "execution_count": null,
   "metadata": {
    "ExecuteTime": {
     "end_time": "2019-10-26T19:03:17.521529Z",
     "start_time": "2019-10-26T19:03:17.515511Z"
    }
   },
   "outputs": [],
   "source": [
    "df.isnull().sum()"
   ]
  },
  {
   "cell_type": "markdown",
   "metadata": {},
   "source": [
    "Ahora en este paso lo que vamos a hacer es darles un valor a los outliers para tener un dataset sin valores nulos. Una técnica bastante habitual con datos numéricos es asignar la **media aritmética** de la serie a los valores nulos.\n",
    "\n",
    "En este caso vamos a utilizar `sklearn` para hacerlo y vamos a utilizar una clase que nos facilita esta tarea que se denomina `Imputer`. Este método nos sustituirá todos los valores nulos por el valor de la mediana de la columna."
   ]
  },
  {
   "cell_type": "code",
   "execution_count": null,
   "metadata": {},
   "outputs": [],
   "source": [
    "from sklearn.impute import SimpleImputer\n",
    "\n",
    "# SimpleImputer nos pide un input 2D (una matriz)\n",
    "# así que tenemos que transformar nuestros valores primero.\n",
    "temp_values = df.MeanTemperature.values.reshape(-1,1)\n",
    "#temp_values = df.MeanTemperature.values\n",
    "\n",
    "imp_mean = SimpleImputer(missing_values=np.nan, strategy='median')\n",
    "imp_mean.fit(temp_values)\n",
    "transformed_values = imp_mean.transform(temp_values)"
   ]
  },
  {
   "cell_type": "markdown",
   "metadata": {
    "scrolled": true
   },
   "source": [
    "Una vez hecho esto, en `transformed_values` disponemos de los datos con los valores nulos rellenos."
   ]
  },
  {
   "cell_type": "code",
   "execution_count": null,
   "metadata": {
    "ExecuteTime": {
     "end_time": "2019-10-26T19:03:18.066195Z",
     "start_time": "2019-10-26T19:03:17.978869Z"
    }
   },
   "outputs": [],
   "source": [
    "df.MeanTemperature = transformed_values"
   ]
  },
  {
   "cell_type": "code",
   "execution_count": null,
   "metadata": {
    "ExecuteTime": {
     "end_time": "2019-10-26T19:03:18.085808Z",
     "start_time": "2019-10-26T19:03:18.068802Z"
    },
    "scrolled": true
   },
   "outputs": [],
   "source": [
    "for index in outlier_indices:\n",
    "    print(\"[%s] %f\" % (index, df.loc[index].MeanTemperature))"
   ]
  },
  {
   "cell_type": "code",
   "execution_count": null,
   "metadata": {
    "ExecuteTime": {
     "end_time": "2019-10-26T19:03:18.096704Z",
     "start_time": "2019-10-26T19:03:18.087810Z"
    }
   },
   "outputs": [],
   "source": [
    "df.MeanTemperature.median()"
   ]
  },
  {
   "cell_type": "code",
   "execution_count": null,
   "metadata": {
    "ExecuteTime": {
     "end_time": "2019-10-26T19:03:18.373899Z",
     "start_time": "2019-10-26T19:03:18.098346Z"
    }
   },
   "outputs": [],
   "source": [
    "df.plot.line(figsize=[20,10])"
   ]
  },
  {
   "cell_type": "markdown",
   "metadata": {},
   "source": [
    "### Preguntas\n",
    "\n",
    "* ¿Se te ocurre un método de imputación de datos mejor?\n",
    "* ¿Ves alguna relación entre el problema de imputación de valores nulos y la detección de outliers?"
   ]
  },
  {
   "cell_type": "markdown",
   "metadata": {},
   "source": [
    "## Muestreo\n",
    "\n",
    "Otra aplicación básica en tareas de proprocesado es la reducción de datos. Por ejemplo este dataset contiene una muestra con una frecuencia mensual. En este caso para evitar la estacionalidad anual nos podría interesar agrupar los datos a nivel anual, esto lo podemos hacer con la función `resample` de `pandas`\n",
    "\n",
    "Antes de aplicarla tenemos que hacer algo de preprocesado previo."
   ]
  },
  {
   "cell_type": "code",
   "execution_count": null,
   "metadata": {
    "ExecuteTime": {
     "end_time": "2019-10-26T19:03:18.383397Z",
     "start_time": "2019-10-26T19:03:18.375533Z"
    },
    "scrolled": true
   },
   "outputs": [],
   "source": [
    "df.info()"
   ]
  },
  {
   "cell_type": "markdown",
   "metadata": {},
   "source": [
    "Como podemos ver el indexado de este dataframe está basado en un entero ficticio que ha generado pandas automáticamente al cargar el dataframe.\n",
    "\n",
    "Además podemos ver que la columna `Date` pandas la ha cargado con tipo `object`, esto significa que a efectos prácticos se está tratando esa columna como una cadena de texto y no como una fecha.\n",
    "\n",
    "Podemos realizar la conversión de la columna de la siguiente manera:"
   ]
  },
  {
   "cell_type": "code",
   "execution_count": null,
   "metadata": {
    "ExecuteTime": {
     "end_time": "2019-10-26T19:03:18.389968Z",
     "start_time": "2019-10-26T19:03:18.385213Z"
    }
   },
   "outputs": [],
   "source": [
    "df.Date = pd.to_datetime(df.Date)"
   ]
  },
  {
   "cell_type": "code",
   "execution_count": null,
   "metadata": {
    "ExecuteTime": {
     "end_time": "2019-10-26T19:03:18.400171Z",
     "start_time": "2019-10-26T19:03:18.391784Z"
    }
   },
   "outputs": [],
   "source": [
    "df.info()"
   ]
  },
  {
   "cell_type": "markdown",
   "metadata": {},
   "source": [
    "Podemos ver ahora que `Date` ya se está interpretando como una columna de tipo `datetime` con precisión de 64 bits.\n",
    "\n",
    "El segundo requisito que necesita `pandas` para realizar resampling cómodamente es que el indexing de la columna sea de tipo datetime, esto lo podemos hacer de la siguiente manera:"
   ]
  },
  {
   "cell_type": "code",
   "execution_count": null,
   "metadata": {
    "ExecuteTime": {
     "end_time": "2019-10-26T19:03:18.415937Z",
     "start_time": "2019-10-26T19:03:18.402311Z"
    },
    "scrolled": true
   },
   "outputs": [],
   "source": [
    "df.index = df.Date\n",
    "df.head()"
   ]
  },
  {
   "cell_type": "markdown",
   "metadata": {
    "collapsed": true
   },
   "source": [
    "Ahora ya podemos utilizar la función resample. Podemos consultar sus parámetros en: https://stackoverflow.com/questions/17001389/pandas-resample-documentation"
   ]
  },
  {
   "cell_type": "code",
   "execution_count": null,
   "metadata": {
    "ExecuteTime": {
     "end_time": "2019-10-26T19:03:18.443438Z",
     "start_time": "2019-10-26T19:03:18.420272Z"
    }
   },
   "outputs": [],
   "source": [
    "df.resample('A').mean().head()"
   ]
  },
  {
   "cell_type": "code",
   "execution_count": null,
   "metadata": {
    "ExecuteTime": {
     "end_time": "2019-10-26T19:03:18.695526Z",
     "start_time": "2019-10-26T19:03:18.445252Z"
    }
   },
   "outputs": [],
   "source": [
    "df.resample('A').mean().plot.line()"
   ]
  },
  {
   "cell_type": "code",
   "execution_count": null,
   "metadata": {
    "ExecuteTime": {
     "end_time": "2019-10-26T19:03:18.919037Z",
     "start_time": "2019-10-26T19:03:18.696986Z"
    }
   },
   "outputs": [],
   "source": [
    "df.resample('3A').mean().plot.line()"
   ]
  },
  {
   "cell_type": "code",
   "execution_count": null,
   "metadata": {
    "ExecuteTime": {
     "end_time": "2019-10-26T19:03:19.230938Z",
     "start_time": "2019-10-26T19:03:18.920994Z"
    },
    "scrolled": true
   },
   "outputs": [],
   "source": [
    "df.resample('10A').mean().plot.line()"
   ]
  },
  {
   "cell_type": "markdown",
   "metadata": {},
   "source": [
    "## Quizz\n",
    "\n"
   ]
  },
  {
   "cell_type": "markdown",
   "metadata": {
    "collapsed": true
   },
   "source": [
    "* ¿Qué conclusiones sacas de estos datos?\n",
    "* Si tuvieras que hacer una _check list_ que revisar al cargar un dataset, ¿cual sería?"
   ]
  }
 ],
 "metadata": {
  "anaconda-cloud": {},
  "kernelspec": {
   "display_name": "Python 3",
   "language": "python",
   "name": "python3"
  },
  "language_info": {
   "codemirror_mode": {
    "name": "ipython",
    "version": 3
   },
   "file_extension": ".py",
   "mimetype": "text/x-python",
   "name": "python",
   "nbconvert_exporter": "python",
   "pygments_lexer": "ipython3",
   "version": "3.7.1"
  },
  "toc": {
   "base_numbering": 1,
   "nav_menu": {},
   "number_sections": true,
   "sideBar": true,
   "skip_h1_title": false,
   "title_cell": "Table of Contents",
   "title_sidebar": "Contents",
   "toc_cell": false,
   "toc_position": {},
   "toc_section_display": true,
   "toc_window_display": true
  },
  "varInspector": {
   "cols": {
    "lenName": 16,
    "lenType": 16,
    "lenVar": 40
   },
   "kernels_config": {
    "python": {
     "delete_cmd_postfix": "",
     "delete_cmd_prefix": "del ",
     "library": "var_list.py",
     "varRefreshCmd": "print(var_dic_list())"
    },
    "r": {
     "delete_cmd_postfix": ") ",
     "delete_cmd_prefix": "rm(",
     "library": "var_list.r",
     "varRefreshCmd": "cat(var_dic_list()) "
    }
   },
   "types_to_exclude": [
    "module",
    "function",
    "builtin_function_or_method",
    "instance",
    "_Feature"
   ],
   "window_display": false
  }
 },
 "nbformat": 4,
 "nbformat_minor": 2
}

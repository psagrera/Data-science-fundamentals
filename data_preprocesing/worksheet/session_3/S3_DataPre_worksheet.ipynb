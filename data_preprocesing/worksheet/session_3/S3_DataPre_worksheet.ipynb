{
 "cells": [
  {
   "cell_type": "markdown",
   "metadata": {},
   "source": [
    "<img src=\"mioti.png\" style=\"height: 100px\">\n",
    "<center style=\"color:#888\">Módulo Data Science in IoT<br/>Asignatura Data preprocessing</center>\n",
    "# Worksheet S3: Data cleaning"
   ]
  },
  {
   "cell_type": "markdown",
   "metadata": {},
   "source": [
    "# Objetivos\n",
    "\n",
    "El objetivo de este worksheet es que aprendas las operaciones más importantes de data cleaning:\n",
    "\n",
    "* Slicing, Splitting y Joining\n",
    "* Rellenar valores ausentes\n",
    "* Unir data frames\n",
    "* Eliminar duplicados\n",
    "* Asertos"
   ]
  },
  {
   "cell_type": "markdown",
   "metadata": {},
   "source": [
    "# Configuración del entorno\n",
    "\n",
    "Como siempre, es importante que definamos en un solo bloque los paquetes y constantes a utilizar."
   ]
  },
  {
   "cell_type": "code",
   "execution_count": 1,
   "metadata": {
    "ExecuteTime": {
     "end_time": "2019-11-10T12:00:25.708309Z",
     "start_time": "2019-11-10T12:00:25.357204Z"
    }
   },
   "outputs": [],
   "source": [
    "%matplotlib inline\n",
    "\n",
    "import numpy as np\n",
    "import pandas as pd\n",
    "import matplotlib.pyplot as plt"
   ]
  },
  {
   "cell_type": "markdown",
   "metadata": {},
   "source": [
    "# Obtención de los datos\n",
    "\n",
    "Esta vez va a ser fácil, vamos a importar los datos de un fichero csv, utilizaremos la función read_csv que nos proporciona la libreria de pandas para cargar una base de datos de usuarios."
   ]
  },
  {
   "cell_type": "code",
   "execution_count": 2,
   "metadata": {
    "ExecuteTime": {
     "end_time": "2019-11-10T12:00:25.717581Z",
     "start_time": "2019-11-10T12:00:25.709646Z"
    }
   },
   "outputs": [],
   "source": [
    "df = pd.read_csv('usuarios.csv')"
   ]
  },
  {
   "cell_type": "markdown",
   "metadata": {},
   "source": [
    "Una vez cargados los datos debemos inspeccionarlos, antes de empezar nuestro análisis."
   ]
  },
  {
   "cell_type": "code",
   "execution_count": 3,
   "metadata": {
    "ExecuteTime": {
     "end_time": "2019-11-10T12:00:25.725939Z",
     "start_time": "2019-11-10T12:00:25.718962Z"
    }
   },
   "outputs": [
    {
     "name": "stdout",
     "output_type": "stream",
     "text": [
      "<class 'pandas.core.frame.DataFrame'>\n",
      "RangeIndex: 101 entries, 0 to 100\n",
      "Data columns (total 11 columns):\n",
      "Unnamed: 0    101 non-null int64\n",
      "Nombre        101 non-null object\n",
      "Apellido 1    101 non-null object\n",
      "Apellido 2    101 non-null object\n",
      "Sexo          97 non-null object\n",
      "Municipio     100 non-null object\n",
      "Provincia     101 non-null object\n",
      "DNI           101 non-null int64\n",
      "NIF           100 non-null object\n",
      "Edad          101 non-null int64\n",
      "Hijos         101 non-null int64\n",
      "dtypes: int64(4), object(7)\n",
      "memory usage: 8.8+ KB\n"
     ]
    }
   ],
   "source": [
    "df.info()"
   ]
  },
  {
   "cell_type": "markdown",
   "metadata": {},
   "source": [
    "Antes de empezar a realizarnos preguntas sobre los datos, debemos comprender estructuran tienen. Para ello podemos hacer uso de las funciones `head`, `index` y `columns` para identificar la estructura del dataset."
   ]
  },
  {
   "cell_type": "code",
   "execution_count": 4,
   "metadata": {
    "ExecuteTime": {
     "end_time": "2019-11-10T12:00:25.739134Z",
     "start_time": "2019-11-10T12:00:25.727475Z"
    }
   },
   "outputs": [
    {
     "data": {
      "text/html": [
       "<div>\n",
       "<style scoped>\n",
       "    .dataframe tbody tr th:only-of-type {\n",
       "        vertical-align: middle;\n",
       "    }\n",
       "\n",
       "    .dataframe tbody tr th {\n",
       "        vertical-align: top;\n",
       "    }\n",
       "\n",
       "    .dataframe thead th {\n",
       "        text-align: right;\n",
       "    }\n",
       "</style>\n",
       "<table border=\"1\" class=\"dataframe\">\n",
       "  <thead>\n",
       "    <tr style=\"text-align: right;\">\n",
       "      <th></th>\n",
       "      <th>Unnamed: 0</th>\n",
       "      <th>Nombre</th>\n",
       "      <th>Apellido 1</th>\n",
       "      <th>Apellido 2</th>\n",
       "      <th>Sexo</th>\n",
       "      <th>Municipio</th>\n",
       "      <th>Provincia</th>\n",
       "      <th>DNI</th>\n",
       "      <th>NIF</th>\n",
       "      <th>Edad</th>\n",
       "      <th>Hijos</th>\n",
       "    </tr>\n",
       "  </thead>\n",
       "  <tbody>\n",
       "    <tr>\n",
       "      <th>0</th>\n",
       "      <td>0</td>\n",
       "      <td>Francisco</td>\n",
       "      <td>Castro</td>\n",
       "      <td>Cano</td>\n",
       "      <td>H</td>\n",
       "      <td>Lérida</td>\n",
       "      <td>Lérida</td>\n",
       "      <td>8805982</td>\n",
       "      <td>H</td>\n",
       "      <td>6</td>\n",
       "      <td>0</td>\n",
       "    </tr>\n",
       "    <tr>\n",
       "      <th>1</th>\n",
       "      <td>1</td>\n",
       "      <td>Xavier</td>\n",
       "      <td>Gómez</td>\n",
       "      <td>Rendón</td>\n",
       "      <td>H</td>\n",
       "      <td>Córdoba</td>\n",
       "      <td>Córdoba</td>\n",
       "      <td>26616576</td>\n",
       "      <td>X</td>\n",
       "      <td>77</td>\n",
       "      <td>3</td>\n",
       "    </tr>\n",
       "    <tr>\n",
       "      <th>2</th>\n",
       "      <td>2</td>\n",
       "      <td>Carmen</td>\n",
       "      <td>Vázquez</td>\n",
       "      <td>Trenado</td>\n",
       "      <td>M</td>\n",
       "      <td>Sabadell</td>\n",
       "      <td>Barcelona</td>\n",
       "      <td>47915145</td>\n",
       "      <td>NaN</td>\n",
       "      <td>1</td>\n",
       "      <td>0</td>\n",
       "    </tr>\n",
       "    <tr>\n",
       "      <th>3</th>\n",
       "      <td>3</td>\n",
       "      <td>Anna</td>\n",
       "      <td>Alonso</td>\n",
       "      <td>López</td>\n",
       "      <td>M</td>\n",
       "      <td>NaN</td>\n",
       "      <td>Zaragoza</td>\n",
       "      <td>23362379</td>\n",
       "      <td>Z</td>\n",
       "      <td>24</td>\n",
       "      <td>3</td>\n",
       "    </tr>\n",
       "    <tr>\n",
       "      <th>4</th>\n",
       "      <td>4</td>\n",
       "      <td>Manuel</td>\n",
       "      <td>López</td>\n",
       "      <td>Martínez</td>\n",
       "      <td>H</td>\n",
       "      <td>Palma de Mallorca</td>\n",
       "      <td>Islas Baleares</td>\n",
       "      <td>54999682</td>\n",
       "      <td>N</td>\n",
       "      <td>28</td>\n",
       "      <td>2</td>\n",
       "    </tr>\n",
       "  </tbody>\n",
       "</table>\n",
       "</div>"
      ],
      "text/plain": [
       "   Unnamed: 0     Nombre Apellido 1 Apellido 2 Sexo          Municipio  \\\n",
       "0           0  Francisco     Castro       Cano    H             Lérida   \n",
       "1           1     Xavier      Gómez     Rendón    H            Córdoba   \n",
       "2           2     Carmen    Vázquez    Trenado    M           Sabadell   \n",
       "3           3       Anna     Alonso      López    M                NaN   \n",
       "4           4     Manuel      López   Martínez    H  Palma de Mallorca   \n",
       "\n",
       "        Provincia       DNI  NIF  Edad  Hijos  \n",
       "0          Lérida   8805982    H     6      0  \n",
       "1         Córdoba  26616576    X    77      3  \n",
       "2       Barcelona  47915145  NaN     1      0  \n",
       "3        Zaragoza  23362379    Z    24      3  \n",
       "4  Islas Baleares  54999682    N    28      2  "
      ]
     },
     "execution_count": 4,
     "metadata": {},
     "output_type": "execute_result"
    }
   ],
   "source": [
    "df.head()"
   ]
  },
  {
   "cell_type": "code",
   "execution_count": 5,
   "metadata": {
    "ExecuteTime": {
     "end_time": "2019-11-10T12:00:25.745250Z",
     "start_time": "2019-11-10T12:00:25.741004Z"
    }
   },
   "outputs": [
    {
     "data": {
      "text/plain": [
       "RangeIndex(start=0, stop=101, step=1)"
      ]
     },
     "execution_count": 5,
     "metadata": {},
     "output_type": "execute_result"
    }
   ],
   "source": [
    "df.index"
   ]
  },
  {
   "cell_type": "code",
   "execution_count": 6,
   "metadata": {
    "ExecuteTime": {
     "end_time": "2019-11-10T12:00:25.750602Z",
     "start_time": "2019-11-10T12:00:25.746347Z"
    }
   },
   "outputs": [
    {
     "data": {
      "text/plain": [
       "Index(['Unnamed: 0', 'Nombre', 'Apellido 1', 'Apellido 2', 'Sexo', 'Municipio',\n",
       "       'Provincia', 'DNI', 'NIF', 'Edad', 'Hijos'],\n",
       "      dtype='object')"
      ]
     },
     "execution_count": 6,
     "metadata": {},
     "output_type": "execute_result"
    }
   ],
   "source": [
    "df.columns"
   ]
  },
  {
   "cell_type": "markdown",
   "metadata": {},
   "source": [
    "A partir de aquí, podemos analizar columnas especificas. Es especialmente útil la función `unique` que nos permite conocer los posibles valores que toma una columna."
   ]
  },
  {
   "cell_type": "code",
   "execution_count": 7,
   "metadata": {
    "ExecuteTime": {
     "end_time": "2019-11-10T12:00:25.757244Z",
     "start_time": "2019-11-10T12:00:25.751876Z"
    }
   },
   "outputs": [
    {
     "data": {
      "text/plain": [
       "array(['Lérida', 'Córdoba', 'Sabadell', nan, 'Palma de Mallorca',\n",
       "       'Alhaurín de la Torre', 'Lugo', 'Valladolid', 'Valencia',\n",
       "       'Zaragoza', 'Móstoles', 'Gandía', 'Zamora', 'Teruel', 'Murcia',\n",
       "       'Cabra', 'Albacete', 'Cádiz', 'Castellón de la Plana',\n",
       "       'Arganda del Rey', 'Bilbao', 'León', 'Vigo', 'Cieza', 'El Ejido',\n",
       "       'Barcelona', 'Orense', 'Lorca', 'Calatayud', 'Tudela', 'Arrecife',\n",
       "       'Catarroja', 'La Estrada', 'Algeciras', 'San Andrés de la Barca',\n",
       "       'Sevilla', 'Mataró', 'Basauri', 'Málaga', 'Totana', 'Vilaseca',\n",
       "       'Durango', 'Onteniente', 'Getafe', 'Burjasot', 'Gáldar',\n",
       "       'Pamplona', 'Santa Cruz de Tenerife', 'Fuengirola', 'Gijón',\n",
       "       'Collado Villalba', 'Vélez-Málaga', 'Jaén', 'Almuñécar', 'Gavá',\n",
       "       'Estepona', 'Salamanca', 'Azuqueca de Henares', 'Teguise', 'Adeje',\n",
       "       'Cáceres', 'Calafell', 'Las Palmas de G. C.',\n",
       "       'San Juan de Alicante', 'San Vicente del Raspeig', 'Fuenlabrada',\n",
       "       'Santander'], dtype=object)"
      ]
     },
     "execution_count": 7,
     "metadata": {},
     "output_type": "execute_result"
    }
   ],
   "source": [
    "df['Municipio'].unique()"
   ]
  },
  {
   "cell_type": "markdown",
   "metadata": {},
   "source": [
    "También es interesante la función `value_counts` que nos proporciona la misma información, y además nos proporciona el recuento de cada ocurrencia."
   ]
  },
  {
   "cell_type": "code",
   "execution_count": 8,
   "metadata": {
    "ExecuteTime": {
     "end_time": "2019-11-10T12:00:25.765745Z",
     "start_time": "2019-11-10T12:00:25.760318Z"
    },
    "scrolled": true
   },
   "outputs": [
    {
     "data": {
      "text/plain": [
       "Barcelona           10\n",
       "Valencia            10\n",
       "Málaga               8\n",
       "Murcia               7\n",
       "Zaragoza             6\n",
       "Islas Baleares       6\n",
       "Madrid               5\n",
       "Vizcaya              5\n",
       "Las Palmas           4\n",
       "Tarragona            3\n",
       "S.C. de Tenerife     3\n",
       "Pontevedra           3\n",
       "Alicante             2\n",
       "Teruel               2\n",
       "Orense               2\n",
       "Córdoba              2\n",
       "Cádiz                2\n",
       "Sevilla              2\n",
       "Navarra              2\n",
       "Albacete             2\n",
       "León                 2\n",
       "Castellón            1\n",
       "Cáceres              1\n",
       "Asturias             1\n",
       "Lérida               1\n",
       "Almería              1\n",
       "Granada              1\n",
       "Jaén                 1\n",
       "Guadalajara          1\n",
       "Valladolid           1\n",
       "Cantabria            1\n",
       "Lugo                 1\n",
       "Zamora               1\n",
       "Salamanca            1\n",
       "Name: Provincia, dtype: int64"
      ]
     },
     "execution_count": 8,
     "metadata": {},
     "output_type": "execute_result"
    }
   ],
   "source": [
    "df['Provincia'].value_counts()"
   ]
  },
  {
   "cell_type": "markdown",
   "metadata": {},
   "source": [
    "# Manejo de valores nulos\n",
    "\n",
    "Podemos con las funciones `isnull`, `notnull` filtrar o quedarnos con las filas que tienen o no tienen valores nulos. "
   ]
  },
  {
   "cell_type": "code",
   "execution_count": 9,
   "metadata": {
    "ExecuteTime": {
     "end_time": "2019-11-10T12:00:25.773319Z",
     "start_time": "2019-11-10T12:00:25.767475Z"
    }
   },
   "outputs": [
    {
     "data": {
      "text/plain": [
       "False    97\n",
       "True      4\n",
       "Name: Sexo, dtype: int64"
      ]
     },
     "execution_count": 9,
     "metadata": {},
     "output_type": "execute_result"
    }
   ],
   "source": [
    "df['Sexo'].isnull().value_counts()"
   ]
  },
  {
   "cell_type": "code",
   "execution_count": 10,
   "metadata": {
    "ExecuteTime": {
     "end_time": "2019-11-10T12:00:25.783037Z",
     "start_time": "2019-11-10T12:00:25.775206Z"
    }
   },
   "outputs": [
    {
     "data": {
      "text/plain": [
       "True     97\n",
       "False     4\n",
       "Name: Sexo, dtype: int64"
      ]
     },
     "execution_count": 10,
     "metadata": {},
     "output_type": "execute_result"
    }
   ],
   "source": [
    "df['Sexo'].notnull().value_counts()"
   ]
  },
  {
   "cell_type": "markdown",
   "metadata": {},
   "source": [
    "# Slicing, Splitting y Joining\n",
    "Estas operaciones nos permiten trocear, dividir y unir los datos frames.\n",
    "\n",
    "Podemos quedarnos, sólo con las mujeres de nuestro dataset y restarles 5 años:"
   ]
  },
  {
   "cell_type": "code",
   "execution_count": 4,
   "metadata": {
    "ExecuteTime": {
     "end_time": "2019-11-10T12:00:25.831724Z",
     "start_time": "2019-11-10T12:00:25.785616Z"
    }
   },
   "outputs": [
    {
     "name": "stderr",
     "output_type": "stream",
     "text": [
      "/opt/anaconda3/lib/python3.7/site-packages/ipykernel_launcher.py:2: SettingWithCopyWarning: \n",
      "A value is trying to be set on a copy of a slice from a DataFrame.\n",
      "Try using .loc[row_indexer,col_indexer] = value instead\n",
      "\n",
      "See the caveats in the documentation: http://pandas.pydata.org/pandas-docs/stable/user_guide/indexing.html#returning-a-view-versus-a-copy\n",
      "  \n"
     ]
    }
   ],
   "source": [
    "df_solo_mujeres = df[df['Sexo'].isin(['M'])]\n",
    "df_solo_mujeres['Edad'] -= 5"
   ]
  },
  {
   "cell_type": "markdown",
   "metadata": {},
   "source": [
    "Esto nos da un warning ya que estamos intentando modificar un dataframe que no hemos copiado previamente, sino que hemos creado una vista. Dependiendo del tipo de dataframe, esto podría suponer que estamos modificando el objeto `df` original a partir del cual obtuvimos la vista."
   ]
  },
  {
   "cell_type": "markdown",
   "metadata": {},
   "source": [
    "Para evitar este warning, haremos uso de la función `copy`. "
   ]
  },
  {
   "cell_type": "code",
   "execution_count": 5,
   "metadata": {
    "ExecuteTime": {
     "end_time": "2019-11-10T12:00:25.847931Z",
     "start_time": "2019-11-10T12:00:25.833352Z"
    }
   },
   "outputs": [
    {
     "data": {
      "text/html": [
       "<div>\n",
       "<style scoped>\n",
       "    .dataframe tbody tr th:only-of-type {\n",
       "        vertical-align: middle;\n",
       "    }\n",
       "\n",
       "    .dataframe tbody tr th {\n",
       "        vertical-align: top;\n",
       "    }\n",
       "\n",
       "    .dataframe thead th {\n",
       "        text-align: right;\n",
       "    }\n",
       "</style>\n",
       "<table border=\"1\" class=\"dataframe\">\n",
       "  <thead>\n",
       "    <tr style=\"text-align: right;\">\n",
       "      <th></th>\n",
       "      <th>Unnamed: 0</th>\n",
       "      <th>Nombre</th>\n",
       "      <th>Apellido 1</th>\n",
       "      <th>Apellido 2</th>\n",
       "      <th>Sexo</th>\n",
       "      <th>Municipio</th>\n",
       "      <th>Provincia</th>\n",
       "      <th>DNI</th>\n",
       "      <th>NIF</th>\n",
       "      <th>Edad</th>\n",
       "      <th>Hijos</th>\n",
       "    </tr>\n",
       "  </thead>\n",
       "  <tbody>\n",
       "    <tr>\n",
       "      <td>2</td>\n",
       "      <td>2</td>\n",
       "      <td>Carmen</td>\n",
       "      <td>Vázquez</td>\n",
       "      <td>Trenado</td>\n",
       "      <td>M</td>\n",
       "      <td>Sabadell</td>\n",
       "      <td>Barcelona</td>\n",
       "      <td>47915145</td>\n",
       "      <td>NaN</td>\n",
       "      <td>1</td>\n",
       "      <td>0</td>\n",
       "    </tr>\n",
       "    <tr>\n",
       "      <td>3</td>\n",
       "      <td>3</td>\n",
       "      <td>Anna</td>\n",
       "      <td>Alonso</td>\n",
       "      <td>López</td>\n",
       "      <td>M</td>\n",
       "      <td>NaN</td>\n",
       "      <td>Zaragoza</td>\n",
       "      <td>23362379</td>\n",
       "      <td>Z</td>\n",
       "      <td>24</td>\n",
       "      <td>3</td>\n",
       "    </tr>\n",
       "    <tr>\n",
       "      <td>13</td>\n",
       "      <td>13</td>\n",
       "      <td>Carmen</td>\n",
       "      <td>Altuna</td>\n",
       "      <td>Lozano</td>\n",
       "      <td>M</td>\n",
       "      <td>Gandía</td>\n",
       "      <td>Valencia</td>\n",
       "      <td>99852210</td>\n",
       "      <td>X</td>\n",
       "      <td>15</td>\n",
       "      <td>0</td>\n",
       "    </tr>\n",
       "    <tr>\n",
       "      <td>14</td>\n",
       "      <td>14</td>\n",
       "      <td>Paula</td>\n",
       "      <td>Arrese</td>\n",
       "      <td>López Pablo</td>\n",
       "      <td>M</td>\n",
       "      <td>Zamora</td>\n",
       "      <td>Zamora</td>\n",
       "      <td>78513802</td>\n",
       "      <td>J</td>\n",
       "      <td>18</td>\n",
       "      <td>0</td>\n",
       "    </tr>\n",
       "    <tr>\n",
       "      <td>18</td>\n",
       "      <td>18</td>\n",
       "      <td>Ana María</td>\n",
       "      <td>Ingelmo</td>\n",
       "      <td>Gómez</td>\n",
       "      <td>M</td>\n",
       "      <td>Cabra</td>\n",
       "      <td>Córdoba</td>\n",
       "      <td>4735830</td>\n",
       "      <td>S</td>\n",
       "      <td>34</td>\n",
       "      <td>2</td>\n",
       "    </tr>\n",
       "  </tbody>\n",
       "</table>\n",
       "</div>"
      ],
      "text/plain": [
       "    Unnamed: 0     Nombre Apellido 1   Apellido 2 Sexo Municipio  Provincia  \\\n",
       "2            2     Carmen    Vázquez      Trenado    M  Sabadell  Barcelona   \n",
       "3            3       Anna     Alonso        López    M       NaN   Zaragoza   \n",
       "13          13     Carmen     Altuna       Lozano    M    Gandía   Valencia   \n",
       "14          14      Paula     Arrese  López Pablo    M    Zamora     Zamora   \n",
       "18          18  Ana María    Ingelmo        Gómez    M     Cabra    Córdoba   \n",
       "\n",
       "         DNI  NIF  Edad  Hijos  \n",
       "2   47915145  NaN     1      0  \n",
       "3   23362379    Z    24      3  \n",
       "13  99852210    X    15      0  \n",
       "14  78513802    J    18      0  \n",
       "18   4735830    S    34      2  "
      ]
     },
     "execution_count": 5,
     "metadata": {},
     "output_type": "execute_result"
    }
   ],
   "source": [
    "df_solo_mujeres = df[df['Sexo'].isin(['M'])].copy()\n",
    "df_solo_mujeres.head()"
   ]
  },
  {
   "cell_type": "markdown",
   "metadata": {},
   "source": [
    "Una vez extraído el dataframe, podemos aplicar modificaciones específicas de cada columna:"
   ]
  },
  {
   "cell_type": "code",
   "execution_count": 6,
   "metadata": {
    "ExecuteTime": {
     "end_time": "2019-11-10T12:00:25.867543Z",
     "start_time": "2019-11-10T12:00:25.849527Z"
    }
   },
   "outputs": [
    {
     "data": {
      "text/html": [
       "<div>\n",
       "<style scoped>\n",
       "    .dataframe tbody tr th:only-of-type {\n",
       "        vertical-align: middle;\n",
       "    }\n",
       "\n",
       "    .dataframe tbody tr th {\n",
       "        vertical-align: top;\n",
       "    }\n",
       "\n",
       "    .dataframe thead th {\n",
       "        text-align: right;\n",
       "    }\n",
       "</style>\n",
       "<table border=\"1\" class=\"dataframe\">\n",
       "  <thead>\n",
       "    <tr style=\"text-align: right;\">\n",
       "      <th></th>\n",
       "      <th>Unnamed: 0</th>\n",
       "      <th>Nombre</th>\n",
       "      <th>Apellido 1</th>\n",
       "      <th>Apellido 2</th>\n",
       "      <th>Sexo</th>\n",
       "      <th>Municipio</th>\n",
       "      <th>Provincia</th>\n",
       "      <th>DNI</th>\n",
       "      <th>NIF</th>\n",
       "      <th>Edad</th>\n",
       "      <th>Hijos</th>\n",
       "    </tr>\n",
       "  </thead>\n",
       "  <tbody>\n",
       "    <tr>\n",
       "      <td>2</td>\n",
       "      <td>2</td>\n",
       "      <td>Carmen</td>\n",
       "      <td>Vázquez</td>\n",
       "      <td>Trenado</td>\n",
       "      <td>M</td>\n",
       "      <td>Sabadell</td>\n",
       "      <td>Barcelona</td>\n",
       "      <td>47915145</td>\n",
       "      <td>NaN</td>\n",
       "      <td>-4</td>\n",
       "      <td>0</td>\n",
       "    </tr>\n",
       "    <tr>\n",
       "      <td>3</td>\n",
       "      <td>3</td>\n",
       "      <td>Anna</td>\n",
       "      <td>Alonso</td>\n",
       "      <td>López</td>\n",
       "      <td>M</td>\n",
       "      <td>NaN</td>\n",
       "      <td>Zaragoza</td>\n",
       "      <td>23362379</td>\n",
       "      <td>Z</td>\n",
       "      <td>19</td>\n",
       "      <td>3</td>\n",
       "    </tr>\n",
       "    <tr>\n",
       "      <td>13</td>\n",
       "      <td>13</td>\n",
       "      <td>Carmen</td>\n",
       "      <td>Altuna</td>\n",
       "      <td>Lozano</td>\n",
       "      <td>M</td>\n",
       "      <td>Gandía</td>\n",
       "      <td>Valencia</td>\n",
       "      <td>99852210</td>\n",
       "      <td>X</td>\n",
       "      <td>10</td>\n",
       "      <td>0</td>\n",
       "    </tr>\n",
       "    <tr>\n",
       "      <td>14</td>\n",
       "      <td>14</td>\n",
       "      <td>Paula</td>\n",
       "      <td>Arrese</td>\n",
       "      <td>López Pablo</td>\n",
       "      <td>M</td>\n",
       "      <td>Zamora</td>\n",
       "      <td>Zamora</td>\n",
       "      <td>78513802</td>\n",
       "      <td>J</td>\n",
       "      <td>13</td>\n",
       "      <td>0</td>\n",
       "    </tr>\n",
       "    <tr>\n",
       "      <td>18</td>\n",
       "      <td>18</td>\n",
       "      <td>Ana María</td>\n",
       "      <td>Ingelmo</td>\n",
       "      <td>Gómez</td>\n",
       "      <td>M</td>\n",
       "      <td>Cabra</td>\n",
       "      <td>Córdoba</td>\n",
       "      <td>4735830</td>\n",
       "      <td>S</td>\n",
       "      <td>29</td>\n",
       "      <td>2</td>\n",
       "    </tr>\n",
       "  </tbody>\n",
       "</table>\n",
       "</div>"
      ],
      "text/plain": [
       "    Unnamed: 0     Nombre Apellido 1   Apellido 2 Sexo Municipio  Provincia  \\\n",
       "2            2     Carmen    Vázquez      Trenado    M  Sabadell  Barcelona   \n",
       "3            3       Anna     Alonso        López    M       NaN   Zaragoza   \n",
       "13          13     Carmen     Altuna       Lozano    M    Gandía   Valencia   \n",
       "14          14      Paula     Arrese  López Pablo    M    Zamora     Zamora   \n",
       "18          18  Ana María    Ingelmo        Gómez    M     Cabra    Córdoba   \n",
       "\n",
       "         DNI  NIF  Edad  Hijos  \n",
       "2   47915145  NaN    -4      0  \n",
       "3   23362379    Z    19      3  \n",
       "13  99852210    X    10      0  \n",
       "14  78513802    J    13      0  \n",
       "18   4735830    S    29      2  "
      ]
     },
     "execution_count": 6,
     "metadata": {},
     "output_type": "execute_result"
    }
   ],
   "source": [
    "df_solo_mujeres['Edad'] -= 5\n",
    "df_solo_mujeres.head()"
   ]
  },
  {
   "cell_type": "markdown",
   "metadata": {},
   "source": [
    "Y podemos concatenar los resultados actuales con los existentes"
   ]
  },
  {
   "cell_type": "code",
   "execution_count": 14,
   "metadata": {
    "ExecuteTime": {
     "end_time": "2019-11-10T12:00:25.890295Z",
     "start_time": "2019-11-10T12:00:25.869013Z"
    }
   },
   "outputs": [
    {
     "data": {
      "text/plain": [
       "M    76\n",
       "H    59\n",
       "Name: Sexo, dtype: int64"
      ]
     },
     "execution_count": 14,
     "metadata": {},
     "output_type": "execute_result"
    }
   ],
   "source": [
    "pd.concat([df, df_solo_mujeres])['Sexo'].value_counts()"
   ]
  },
  {
   "cell_type": "code",
   "execution_count": 15,
   "metadata": {
    "ExecuteTime": {
     "end_time": "2019-11-10T12:00:25.898323Z",
     "start_time": "2019-11-10T12:00:25.892052Z"
    }
   },
   "outputs": [
    {
     "data": {
      "text/plain": [
       "H    59\n",
       "M    38\n",
       "Name: Sexo, dtype: int64"
      ]
     },
     "execution_count": 15,
     "metadata": {},
     "output_type": "execute_result"
    }
   ],
   "source": [
    "df['Sexo'].value_counts()"
   ]
  },
  {
   "cell_type": "markdown",
   "metadata": {},
   "source": [
    "Puedes consultar la documentación del resto de operaciones sobre dataframes en: https://pandas.pydata.org/pandas-docs/stable/merging.html"
   ]
  },
  {
   "cell_type": "markdown",
   "metadata": {},
   "source": [
    "# Duplicados"
   ]
  },
  {
   "cell_type": "markdown",
   "metadata": {},
   "source": [
    "Otro de los problemas clásicos cuando preprocesamos los datos es detectar y tratar duplicados. Pandas para ello dispone de varias funciones: `duplicated` nos permite generar una máscara que indica todos que tienen los elementos que tienen al menos 1 repetición."
   ]
  },
  {
   "cell_type": "code",
   "execution_count": 16,
   "metadata": {
    "ExecuteTime": {
     "end_time": "2019-11-10T12:00:25.912554Z",
     "start_time": "2019-11-10T12:00:25.899766Z"
    }
   },
   "outputs": [
    {
     "data": {
      "text/html": [
       "<div>\n",
       "<style scoped>\n",
       "    .dataframe tbody tr th:only-of-type {\n",
       "        vertical-align: middle;\n",
       "    }\n",
       "\n",
       "    .dataframe tbody tr th {\n",
       "        vertical-align: top;\n",
       "    }\n",
       "\n",
       "    .dataframe thead th {\n",
       "        text-align: right;\n",
       "    }\n",
       "</style>\n",
       "<table border=\"1\" class=\"dataframe\">\n",
       "  <thead>\n",
       "    <tr style=\"text-align: right;\">\n",
       "      <th></th>\n",
       "      <th>Unnamed: 0</th>\n",
       "      <th>Nombre</th>\n",
       "      <th>Apellido 1</th>\n",
       "      <th>Apellido 2</th>\n",
       "      <th>Sexo</th>\n",
       "      <th>Municipio</th>\n",
       "      <th>Provincia</th>\n",
       "      <th>DNI</th>\n",
       "      <th>NIF</th>\n",
       "      <th>Edad</th>\n",
       "      <th>Hijos</th>\n",
       "    </tr>\n",
       "  </thead>\n",
       "  <tbody>\n",
       "    <tr>\n",
       "      <th>21</th>\n",
       "      <td>21</td>\n",
       "      <td>Antonio Miguel</td>\n",
       "      <td>Sánchez</td>\n",
       "      <td>Romero</td>\n",
       "      <td>H</td>\n",
       "      <td>Teruel</td>\n",
       "      <td>Teruel</td>\n",
       "      <td>55096995</td>\n",
       "      <td>N</td>\n",
       "      <td>33</td>\n",
       "      <td>0</td>\n",
       "    </tr>\n",
       "  </tbody>\n",
       "</table>\n",
       "</div>"
      ],
      "text/plain": [
       "    Unnamed: 0          Nombre Apellido 1 Apellido 2 Sexo Municipio Provincia  \\\n",
       "21          21  Antonio Miguel    Sánchez     Romero    H    Teruel    Teruel   \n",
       "\n",
       "         DNI NIF  Edad  Hijos  \n",
       "21  55096995   N    33      0  "
      ]
     },
     "execution_count": 16,
     "metadata": {},
     "output_type": "execute_result"
    }
   ],
   "source": [
    "df[df['DNI'].duplicated(keep='first')]"
   ]
  },
  {
   "cell_type": "code",
   "execution_count": 17,
   "metadata": {
    "ExecuteTime": {
     "end_time": "2019-11-10T12:00:25.925724Z",
     "start_time": "2019-11-10T12:00:25.913859Z"
    }
   },
   "outputs": [
    {
     "data": {
      "text/html": [
       "<div>\n",
       "<style scoped>\n",
       "    .dataframe tbody tr th:only-of-type {\n",
       "        vertical-align: middle;\n",
       "    }\n",
       "\n",
       "    .dataframe tbody tr th {\n",
       "        vertical-align: top;\n",
       "    }\n",
       "\n",
       "    .dataframe thead th {\n",
       "        text-align: right;\n",
       "    }\n",
       "</style>\n",
       "<table border=\"1\" class=\"dataframe\">\n",
       "  <thead>\n",
       "    <tr style=\"text-align: right;\">\n",
       "      <th></th>\n",
       "      <th>Unnamed: 0</th>\n",
       "      <th>Nombre</th>\n",
       "      <th>Apellido 1</th>\n",
       "      <th>Apellido 2</th>\n",
       "      <th>Sexo</th>\n",
       "      <th>Municipio</th>\n",
       "      <th>Provincia</th>\n",
       "      <th>DNI</th>\n",
       "      <th>NIF</th>\n",
       "      <th>Edad</th>\n",
       "      <th>Hijos</th>\n",
       "    </tr>\n",
       "  </thead>\n",
       "  <tbody>\n",
       "    <tr>\n",
       "      <th>15</th>\n",
       "      <td>15</td>\n",
       "      <td>Miguel</td>\n",
       "      <td>Sánchez</td>\n",
       "      <td>Romero</td>\n",
       "      <td>H</td>\n",
       "      <td>Teruel</td>\n",
       "      <td>Teruel</td>\n",
       "      <td>55096995</td>\n",
       "      <td>N</td>\n",
       "      <td>32</td>\n",
       "      <td>0</td>\n",
       "    </tr>\n",
       "  </tbody>\n",
       "</table>\n",
       "</div>"
      ],
      "text/plain": [
       "    Unnamed: 0  Nombre Apellido 1 Apellido 2 Sexo Municipio Provincia  \\\n",
       "15          15  Miguel    Sánchez     Romero    H    Teruel    Teruel   \n",
       "\n",
       "         DNI NIF  Edad  Hijos  \n",
       "15  55096995   N    32      0  "
      ]
     },
     "execution_count": 17,
     "metadata": {},
     "output_type": "execute_result"
    }
   ],
   "source": [
    "df[df['DNI'].duplicated(keep='last')]"
   ]
  },
  {
   "cell_type": "markdown",
   "metadata": {},
   "source": [
    "Adicionalmente, duplicated tiene un parámetro interesante `keep` que si lo marcamos a `False` nos incluye en la máscara la primera aparición."
   ]
  },
  {
   "cell_type": "code",
   "execution_count": 18,
   "metadata": {
    "ExecuteTime": {
     "end_time": "2019-11-10T12:00:25.938832Z",
     "start_time": "2019-11-10T12:00:25.927096Z"
    }
   },
   "outputs": [
    {
     "data": {
      "text/html": [
       "<div>\n",
       "<style scoped>\n",
       "    .dataframe tbody tr th:only-of-type {\n",
       "        vertical-align: middle;\n",
       "    }\n",
       "\n",
       "    .dataframe tbody tr th {\n",
       "        vertical-align: top;\n",
       "    }\n",
       "\n",
       "    .dataframe thead th {\n",
       "        text-align: right;\n",
       "    }\n",
       "</style>\n",
       "<table border=\"1\" class=\"dataframe\">\n",
       "  <thead>\n",
       "    <tr style=\"text-align: right;\">\n",
       "      <th></th>\n",
       "      <th>Unnamed: 0</th>\n",
       "      <th>Nombre</th>\n",
       "      <th>Apellido 1</th>\n",
       "      <th>Apellido 2</th>\n",
       "      <th>Sexo</th>\n",
       "      <th>Municipio</th>\n",
       "      <th>Provincia</th>\n",
       "      <th>DNI</th>\n",
       "      <th>NIF</th>\n",
       "      <th>Edad</th>\n",
       "      <th>Hijos</th>\n",
       "    </tr>\n",
       "  </thead>\n",
       "  <tbody>\n",
       "    <tr>\n",
       "      <th>15</th>\n",
       "      <td>15</td>\n",
       "      <td>Miguel</td>\n",
       "      <td>Sánchez</td>\n",
       "      <td>Romero</td>\n",
       "      <td>H</td>\n",
       "      <td>Teruel</td>\n",
       "      <td>Teruel</td>\n",
       "      <td>55096995</td>\n",
       "      <td>N</td>\n",
       "      <td>32</td>\n",
       "      <td>0</td>\n",
       "    </tr>\n",
       "    <tr>\n",
       "      <th>21</th>\n",
       "      <td>21</td>\n",
       "      <td>Antonio Miguel</td>\n",
       "      <td>Sánchez</td>\n",
       "      <td>Romero</td>\n",
       "      <td>H</td>\n",
       "      <td>Teruel</td>\n",
       "      <td>Teruel</td>\n",
       "      <td>55096995</td>\n",
       "      <td>N</td>\n",
       "      <td>33</td>\n",
       "      <td>0</td>\n",
       "    </tr>\n",
       "  </tbody>\n",
       "</table>\n",
       "</div>"
      ],
      "text/plain": [
       "    Unnamed: 0          Nombre Apellido 1 Apellido 2 Sexo Municipio Provincia  \\\n",
       "15          15          Miguel    Sánchez     Romero    H    Teruel    Teruel   \n",
       "21          21  Antonio Miguel    Sánchez     Romero    H    Teruel    Teruel   \n",
       "\n",
       "         DNI NIF  Edad  Hijos  \n",
       "15  55096995   N    32      0  \n",
       "21  55096995   N    33      0  "
      ]
     },
     "execution_count": 18,
     "metadata": {},
     "output_type": "execute_result"
    }
   ],
   "source": [
    "df[df['DNI'].duplicated(keep = False)]"
   ]
  },
  {
   "cell_type": "markdown",
   "metadata": {},
   "source": [
    "Y para droppear los duplicados y quedarnos con la primera repetición:"
   ]
  },
  {
   "cell_type": "code",
   "execution_count": 19,
   "metadata": {
    "ExecuteTime": {
     "end_time": "2019-11-10T12:00:25.943514Z",
     "start_time": "2019-11-10T12:00:25.940236Z"
    }
   },
   "outputs": [
    {
     "data": {
      "text/plain": [
       "101"
      ]
     },
     "execution_count": 19,
     "metadata": {},
     "output_type": "execute_result"
    }
   ],
   "source": [
    "len(df)"
   ]
  },
  {
   "cell_type": "code",
   "execution_count": 20,
   "metadata": {
    "ExecuteTime": {
     "end_time": "2019-11-10T12:00:25.949646Z",
     "start_time": "2019-11-10T12:00:25.945635Z"
    }
   },
   "outputs": [],
   "source": [
    "df = df.drop_duplicates(subset=['DNI'])"
   ]
  },
  {
   "cell_type": "code",
   "execution_count": 21,
   "metadata": {
    "ExecuteTime": {
     "end_time": "2019-11-10T12:00:25.954822Z",
     "start_time": "2019-11-10T12:00:25.950903Z"
    }
   },
   "outputs": [
    {
     "data": {
      "text/plain": [
       "100"
      ]
     },
     "execution_count": 21,
     "metadata": {},
     "output_type": "execute_result"
    }
   ],
   "source": [
    "len(df)"
   ]
  },
  {
   "cell_type": "markdown",
   "metadata": {},
   "source": [
    "# Agrupar datos\n",
    "\n",
    "Mediante la función `groupby` podemos agrupar los datos en función de una columna. Esta función al ejecutarla devuelve un objeto de tipo `DataFrameGroupBy` sobre el cual podemos aplicar funciones sobre cada grupo. Algunas de las más habituales son:"
   ]
  },
  {
   "cell_type": "code",
   "execution_count": 22,
   "metadata": {
    "ExecuteTime": {
     "end_time": "2019-11-10T12:00:25.961769Z",
     "start_time": "2019-11-10T12:00:25.956148Z"
    },
    "scrolled": true
   },
   "outputs": [
    {
     "data": {
      "text/plain": [
       "Sexo\n",
       "H    58\n",
       "M    38\n",
       "dtype: int64"
      ]
     },
     "execution_count": 22,
     "metadata": {},
     "output_type": "execute_result"
    }
   ],
   "source": [
    "df.groupby('Sexo').size() # devuelve el tamaño de cada grupo"
   ]
  },
  {
   "cell_type": "markdown",
   "metadata": {},
   "source": [
    "`agg` (http://devdocs.io/pandas~0.20/generated/pandas.core.groupby.dataframegroupby.agg) nos permite agregar los datos con una función de agregación. Por ejemplo:"
   ]
  },
  {
   "cell_type": "code",
   "execution_count": 23,
   "metadata": {
    "ExecuteTime": {
     "end_time": "2019-11-10T12:00:26.030576Z",
     "start_time": "2019-11-10T12:00:25.964921Z"
    }
   },
   "outputs": [
    {
     "data": {
      "text/html": [
       "<div>\n",
       "<style scoped>\n",
       "    .dataframe tbody tr th:only-of-type {\n",
       "        vertical-align: middle;\n",
       "    }\n",
       "\n",
       "    .dataframe tbody tr th {\n",
       "        vertical-align: top;\n",
       "    }\n",
       "\n",
       "    .dataframe thead th {\n",
       "        text-align: right;\n",
       "    }\n",
       "</style>\n",
       "<table border=\"1\" class=\"dataframe\">\n",
       "  <thead>\n",
       "    <tr style=\"text-align: right;\">\n",
       "      <th></th>\n",
       "      <th>Unnamed: 0</th>\n",
       "      <th>Nombre</th>\n",
       "      <th>Apellido 1</th>\n",
       "      <th>Apellido 2</th>\n",
       "      <th>Provincia</th>\n",
       "      <th>DNI</th>\n",
       "      <th>Edad</th>\n",
       "      <th>Hijos</th>\n",
       "    </tr>\n",
       "    <tr>\n",
       "      <th>Sexo</th>\n",
       "      <th></th>\n",
       "      <th></th>\n",
       "      <th></th>\n",
       "      <th></th>\n",
       "      <th></th>\n",
       "      <th></th>\n",
       "      <th></th>\n",
       "      <th></th>\n",
       "    </tr>\n",
       "  </thead>\n",
       "  <tbody>\n",
       "    <tr>\n",
       "      <th>H</th>\n",
       "      <td>0</td>\n",
       "      <td>Adrián</td>\n",
       "      <td>Almodóvar</td>\n",
       "      <td>Acosta</td>\n",
       "      <td>Albacete</td>\n",
       "      <td>563557</td>\n",
       "      <td>0</td>\n",
       "      <td>0</td>\n",
       "    </tr>\n",
       "    <tr>\n",
       "      <th>M</th>\n",
       "      <td>2</td>\n",
       "      <td>Ana</td>\n",
       "      <td>Agulló</td>\n",
       "      <td>Aguilar</td>\n",
       "      <td>Alicante</td>\n",
       "      <td>388588</td>\n",
       "      <td>0</td>\n",
       "      <td>0</td>\n",
       "    </tr>\n",
       "  </tbody>\n",
       "</table>\n",
       "</div>"
      ],
      "text/plain": [
       "      Unnamed: 0  Nombre Apellido 1 Apellido 2 Provincia     DNI  Edad  Hijos\n",
       "Sexo                                                                         \n",
       "H              0  Adrián  Almodóvar     Acosta  Albacete  563557     0      0\n",
       "M              2     Ana     Agulló    Aguilar  Alicante  388588     0      0"
      ]
     },
     "execution_count": 23,
     "metadata": {},
     "output_type": "execute_result"
    }
   ],
   "source": [
    "df.groupby('Sexo').agg('min')"
   ]
  },
  {
   "cell_type": "code",
   "execution_count": 24,
   "metadata": {
    "ExecuteTime": {
     "end_time": "2019-11-10T12:00:26.108786Z",
     "start_time": "2019-11-10T12:00:26.032113Z"
    }
   },
   "outputs": [
    {
     "data": {
      "text/html": [
       "<div>\n",
       "<style scoped>\n",
       "    .dataframe tbody tr th:only-of-type {\n",
       "        vertical-align: middle;\n",
       "    }\n",
       "\n",
       "    .dataframe tbody tr th {\n",
       "        vertical-align: top;\n",
       "    }\n",
       "\n",
       "    .dataframe thead tr th {\n",
       "        text-align: left;\n",
       "    }\n",
       "\n",
       "    .dataframe thead tr:last-of-type th {\n",
       "        text-align: right;\n",
       "    }\n",
       "</style>\n",
       "<table border=\"1\" class=\"dataframe\">\n",
       "  <thead>\n",
       "    <tr>\n",
       "      <th></th>\n",
       "      <th colspan=\"2\" halign=\"left\">Unnamed: 0</th>\n",
       "      <th colspan=\"2\" halign=\"left\">Nombre</th>\n",
       "      <th colspan=\"2\" halign=\"left\">Apellido 1</th>\n",
       "      <th colspan=\"2\" halign=\"left\">Apellido 2</th>\n",
       "      <th colspan=\"2\" halign=\"left\">Provincia</th>\n",
       "      <th colspan=\"2\" halign=\"left\">DNI</th>\n",
       "      <th colspan=\"2\" halign=\"left\">Edad</th>\n",
       "      <th colspan=\"2\" halign=\"left\">Hijos</th>\n",
       "    </tr>\n",
       "    <tr>\n",
       "      <th></th>\n",
       "      <th>min</th>\n",
       "      <th>max</th>\n",
       "      <th>min</th>\n",
       "      <th>max</th>\n",
       "      <th>min</th>\n",
       "      <th>max</th>\n",
       "      <th>min</th>\n",
       "      <th>max</th>\n",
       "      <th>min</th>\n",
       "      <th>max</th>\n",
       "      <th>min</th>\n",
       "      <th>max</th>\n",
       "      <th>min</th>\n",
       "      <th>max</th>\n",
       "      <th>min</th>\n",
       "      <th>max</th>\n",
       "    </tr>\n",
       "    <tr>\n",
       "      <th>Sexo</th>\n",
       "      <th></th>\n",
       "      <th></th>\n",
       "      <th></th>\n",
       "      <th></th>\n",
       "      <th></th>\n",
       "      <th></th>\n",
       "      <th></th>\n",
       "      <th></th>\n",
       "      <th></th>\n",
       "      <th></th>\n",
       "      <th></th>\n",
       "      <th></th>\n",
       "      <th></th>\n",
       "      <th></th>\n",
       "      <th></th>\n",
       "      <th></th>\n",
       "    </tr>\n",
       "  </thead>\n",
       "  <tbody>\n",
       "    <tr>\n",
       "      <th>H</th>\n",
       "      <td>0</td>\n",
       "      <td>99</td>\n",
       "      <td>Adrián</td>\n",
       "      <td>Ángel</td>\n",
       "      <td>Almodóvar</td>\n",
       "      <td>Ziani</td>\n",
       "      <td>Acosta</td>\n",
       "      <td>Yang</td>\n",
       "      <td>Albacete</td>\n",
       "      <td>Zaragoza</td>\n",
       "      <td>563557</td>\n",
       "      <td>97948259</td>\n",
       "      <td>0</td>\n",
       "      <td>80</td>\n",
       "      <td>0</td>\n",
       "      <td>3</td>\n",
       "    </tr>\n",
       "    <tr>\n",
       "      <th>M</th>\n",
       "      <td>2</td>\n",
       "      <td>100</td>\n",
       "      <td>Ana</td>\n",
       "      <td>Teresa</td>\n",
       "      <td>Agulló</td>\n",
       "      <td>Álvarez</td>\n",
       "      <td>Aguilar</td>\n",
       "      <td>Águila</td>\n",
       "      <td>Alicante</td>\n",
       "      <td>Zaragoza</td>\n",
       "      <td>388588</td>\n",
       "      <td>99852210</td>\n",
       "      <td>0</td>\n",
       "      <td>73</td>\n",
       "      <td>0</td>\n",
       "      <td>3</td>\n",
       "    </tr>\n",
       "  </tbody>\n",
       "</table>\n",
       "</div>"
      ],
      "text/plain": [
       "     Unnamed: 0       Nombre         Apellido 1          Apellido 2          \\\n",
       "            min  max     min     max        min      max        min     max   \n",
       "Sexo                                                                          \n",
       "H             0   99  Adrián   Ángel  Almodóvar    Ziani     Acosta    Yang   \n",
       "M             2  100     Ana  Teresa     Agulló  Álvarez    Aguilar  Águila   \n",
       "\n",
       "     Provincia               DNI           Edad     Hijos      \n",
       "           min       max     min       max  min max   min max  \n",
       "Sexo                                                           \n",
       "H     Albacete  Zaragoza  563557  97948259    0  80     0   3  \n",
       "M     Alicante  Zaragoza  388588  99852210    0  73     0   3  "
      ]
     },
     "execution_count": 24,
     "metadata": {},
     "output_type": "execute_result"
    }
   ],
   "source": [
    "df.groupby('Sexo').agg(['min', 'max'])"
   ]
  },
  {
   "cell_type": "code",
   "execution_count": 25,
   "metadata": {
    "ExecuteTime": {
     "end_time": "2019-11-10T12:00:26.124905Z",
     "start_time": "2019-11-10T12:00:26.110260Z"
    }
   },
   "outputs": [
    {
     "data": {
      "text/html": [
       "<div>\n",
       "<style scoped>\n",
       "    .dataframe tbody tr th:only-of-type {\n",
       "        vertical-align: middle;\n",
       "    }\n",
       "\n",
       "    .dataframe tbody tr th {\n",
       "        vertical-align: top;\n",
       "    }\n",
       "\n",
       "    .dataframe thead tr th {\n",
       "        text-align: left;\n",
       "    }\n",
       "\n",
       "    .dataframe thead tr:last-of-type th {\n",
       "        text-align: right;\n",
       "    }\n",
       "</style>\n",
       "<table border=\"1\" class=\"dataframe\">\n",
       "  <thead>\n",
       "    <tr>\n",
       "      <th></th>\n",
       "      <th colspan=\"2\" halign=\"left\">Edad</th>\n",
       "      <th>Hijos</th>\n",
       "    </tr>\n",
       "    <tr>\n",
       "      <th></th>\n",
       "      <th>min</th>\n",
       "      <th>max</th>\n",
       "      <th>sum</th>\n",
       "    </tr>\n",
       "    <tr>\n",
       "      <th>Sexo</th>\n",
       "      <th></th>\n",
       "      <th></th>\n",
       "      <th></th>\n",
       "    </tr>\n",
       "  </thead>\n",
       "  <tbody>\n",
       "    <tr>\n",
       "      <th>H</th>\n",
       "      <td>0</td>\n",
       "      <td>80</td>\n",
       "      <td>65</td>\n",
       "    </tr>\n",
       "    <tr>\n",
       "      <th>M</th>\n",
       "      <td>0</td>\n",
       "      <td>73</td>\n",
       "      <td>49</td>\n",
       "    </tr>\n",
       "  </tbody>\n",
       "</table>\n",
       "</div>"
      ],
      "text/plain": [
       "     Edad     Hijos\n",
       "      min max   sum\n",
       "Sexo               \n",
       "H       0  80    65\n",
       "M       0  73    49"
      ]
     },
     "execution_count": 25,
     "metadata": {},
     "output_type": "execute_result"
    }
   ],
   "source": [
    "df_grouped = df.groupby('Sexo').agg({'Edad': ['min', 'max'], 'Hijos': 'sum'})\n",
    "df_grouped"
   ]
  },
  {
   "cell_type": "markdown",
   "metadata": {},
   "source": [
    "E incluso combinarla con la función `apply` ya que podemos ejecutar un código específico por cada grupo de datos"
   ]
  },
  {
   "cell_type": "code",
   "execution_count": 26,
   "metadata": {
    "ExecuteTime": {
     "end_time": "2019-11-10T12:00:26.133093Z",
     "start_time": "2019-11-10T12:00:26.126563Z"
    }
   },
   "outputs": [
    {
     "data": {
      "text/plain": [
       "Sexo\n",
       "H    58\n",
       "M    38\n",
       "dtype: int64"
      ]
     },
     "execution_count": 26,
     "metadata": {},
     "output_type": "execute_result"
    }
   ],
   "source": [
    "def contar(df):\n",
    "    return len(df)\n",
    "\n",
    "df.groupby('Sexo').apply(contar)"
   ]
  },
  {
   "cell_type": "markdown",
   "metadata": {},
   "source": [
    "# Ordenar datos por valor de una columna\n",
    "Para ordenar por utilizaremos la función `sort_values`"
   ]
  },
  {
   "cell_type": "code",
   "execution_count": 27,
   "metadata": {
    "ExecuteTime": {
     "end_time": "2019-11-10T12:00:26.148046Z",
     "start_time": "2019-11-10T12:00:26.134636Z"
    }
   },
   "outputs": [
    {
     "data": {
      "text/html": [
       "<div>\n",
       "<style scoped>\n",
       "    .dataframe tbody tr th:only-of-type {\n",
       "        vertical-align: middle;\n",
       "    }\n",
       "\n",
       "    .dataframe tbody tr th {\n",
       "        vertical-align: top;\n",
       "    }\n",
       "\n",
       "    .dataframe thead th {\n",
       "        text-align: right;\n",
       "    }\n",
       "</style>\n",
       "<table border=\"1\" class=\"dataframe\">\n",
       "  <thead>\n",
       "    <tr style=\"text-align: right;\">\n",
       "      <th></th>\n",
       "      <th>Unnamed: 0</th>\n",
       "      <th>Nombre</th>\n",
       "      <th>Apellido 1</th>\n",
       "      <th>Apellido 2</th>\n",
       "      <th>Sexo</th>\n",
       "      <th>Municipio</th>\n",
       "      <th>Provincia</th>\n",
       "      <th>DNI</th>\n",
       "      <th>NIF</th>\n",
       "      <th>Edad</th>\n",
       "      <th>Hijos</th>\n",
       "    </tr>\n",
       "  </thead>\n",
       "  <tbody>\n",
       "    <tr>\n",
       "      <th>25</th>\n",
       "      <td>25</td>\n",
       "      <td>Ana Isabel</td>\n",
       "      <td>Herrera</td>\n",
       "      <td>Jorquera</td>\n",
       "      <td>M</td>\n",
       "      <td>Palma de Mallorca</td>\n",
       "      <td>Islas Baleares</td>\n",
       "      <td>53370157</td>\n",
       "      <td>Z</td>\n",
       "      <td>0</td>\n",
       "      <td>0</td>\n",
       "    </tr>\n",
       "    <tr>\n",
       "      <th>17</th>\n",
       "      <td>17</td>\n",
       "      <td>Jordi</td>\n",
       "      <td>Moreno</td>\n",
       "      <td>Márquez</td>\n",
       "      <td>H</td>\n",
       "      <td>Alhaurín de la Torre</td>\n",
       "      <td>Málaga</td>\n",
       "      <td>94561727</td>\n",
       "      <td>X</td>\n",
       "      <td>0</td>\n",
       "      <td>0</td>\n",
       "    </tr>\n",
       "    <tr>\n",
       "      <th>2</th>\n",
       "      <td>2</td>\n",
       "      <td>Carmen</td>\n",
       "      <td>Vázquez</td>\n",
       "      <td>Trenado</td>\n",
       "      <td>M</td>\n",
       "      <td>Sabadell</td>\n",
       "      <td>Barcelona</td>\n",
       "      <td>47915145</td>\n",
       "      <td>NaN</td>\n",
       "      <td>1</td>\n",
       "      <td>0</td>\n",
       "    </tr>\n",
       "    <tr>\n",
       "      <th>68</th>\n",
       "      <td>68</td>\n",
       "      <td>María Dolores</td>\n",
       "      <td>Ferreiros</td>\n",
       "      <td>Vila</td>\n",
       "      <td>M</td>\n",
       "      <td>Lorca</td>\n",
       "      <td>Murcia</td>\n",
       "      <td>87613343</td>\n",
       "      <td>H</td>\n",
       "      <td>2</td>\n",
       "      <td>0</td>\n",
       "    </tr>\n",
       "    <tr>\n",
       "      <th>74</th>\n",
       "      <td>74</td>\n",
       "      <td>José Luis</td>\n",
       "      <td>Molina</td>\n",
       "      <td>Carretero</td>\n",
       "      <td>H</td>\n",
       "      <td>Bilbao</td>\n",
       "      <td>Vizcaya</td>\n",
       "      <td>38663277</td>\n",
       "      <td>R</td>\n",
       "      <td>3</td>\n",
       "      <td>0</td>\n",
       "    </tr>\n",
       "    <tr>\n",
       "      <th>62</th>\n",
       "      <td>62</td>\n",
       "      <td>María</td>\n",
       "      <td>Álvarez</td>\n",
       "      <td>Hernández</td>\n",
       "      <td>M</td>\n",
       "      <td>Valencia</td>\n",
       "      <td>Valencia</td>\n",
       "      <td>26406576</td>\n",
       "      <td>T</td>\n",
       "      <td>3</td>\n",
       "      <td>0</td>\n",
       "    </tr>\n",
       "    <tr>\n",
       "      <th>57</th>\n",
       "      <td>57</td>\n",
       "      <td>José</td>\n",
       "      <td>Szekely</td>\n",
       "      <td>Tarrago</td>\n",
       "      <td>H</td>\n",
       "      <td>Onteniente</td>\n",
       "      <td>Valencia</td>\n",
       "      <td>92521252</td>\n",
       "      <td>A</td>\n",
       "      <td>4</td>\n",
       "      <td>0</td>\n",
       "    </tr>\n",
       "    <tr>\n",
       "      <th>93</th>\n",
       "      <td>93</td>\n",
       "      <td>Raquel</td>\n",
       "      <td>El Goual</td>\n",
       "      <td>Cimpeanu</td>\n",
       "      <td>M</td>\n",
       "      <td>San Juan de Alicante</td>\n",
       "      <td>Alicante</td>\n",
       "      <td>72558926</td>\n",
       "      <td>K</td>\n",
       "      <td>4</td>\n",
       "      <td>0</td>\n",
       "    </tr>\n",
       "    <tr>\n",
       "      <th>0</th>\n",
       "      <td>0</td>\n",
       "      <td>Francisco</td>\n",
       "      <td>Castro</td>\n",
       "      <td>Cano</td>\n",
       "      <td>H</td>\n",
       "      <td>Lérida</td>\n",
       "      <td>Lérida</td>\n",
       "      <td>8805982</td>\n",
       "      <td>H</td>\n",
       "      <td>6</td>\n",
       "      <td>0</td>\n",
       "    </tr>\n",
       "    <tr>\n",
       "      <th>96</th>\n",
       "      <td>96</td>\n",
       "      <td>Francisco José</td>\n",
       "      <td>Lecina</td>\n",
       "      <td>Diez</td>\n",
       "      <td>H</td>\n",
       "      <td>Valencia</td>\n",
       "      <td>Valencia</td>\n",
       "      <td>19283205</td>\n",
       "      <td>M</td>\n",
       "      <td>6</td>\n",
       "      <td>0</td>\n",
       "    </tr>\n",
       "  </tbody>\n",
       "</table>\n",
       "</div>"
      ],
      "text/plain": [
       "    Unnamed: 0          Nombre Apellido 1 Apellido 2 Sexo  \\\n",
       "25          25      Ana Isabel    Herrera   Jorquera    M   \n",
       "17          17           Jordi     Moreno    Márquez    H   \n",
       "2            2          Carmen    Vázquez    Trenado    M   \n",
       "68          68   María Dolores  Ferreiros       Vila    M   \n",
       "74          74       José Luis     Molina  Carretero    H   \n",
       "62          62           María    Álvarez  Hernández    M   \n",
       "57          57            José    Szekely    Tarrago    H   \n",
       "93          93          Raquel   El Goual   Cimpeanu    M   \n",
       "0            0       Francisco     Castro       Cano    H   \n",
       "96          96  Francisco José     Lecina       Diez    H   \n",
       "\n",
       "               Municipio       Provincia       DNI  NIF  Edad  Hijos  \n",
       "25     Palma de Mallorca  Islas Baleares  53370157    Z     0      0  \n",
       "17  Alhaurín de la Torre          Málaga  94561727    X     0      0  \n",
       "2               Sabadell       Barcelona  47915145  NaN     1      0  \n",
       "68                 Lorca          Murcia  87613343    H     2      0  \n",
       "74                Bilbao         Vizcaya  38663277    R     3      0  \n",
       "62              Valencia        Valencia  26406576    T     3      0  \n",
       "57            Onteniente        Valencia  92521252    A     4      0  \n",
       "93  San Juan de Alicante        Alicante  72558926    K     4      0  \n",
       "0                 Lérida          Lérida   8805982    H     6      0  \n",
       "96              Valencia        Valencia  19283205    M     6      0  "
      ]
     },
     "execution_count": 27,
     "metadata": {},
     "output_type": "execute_result"
    }
   ],
   "source": [
    "df.sort_values(by='Edad').head(10)"
   ]
  },
  {
   "cell_type": "markdown",
   "metadata": {},
   "source": [
    "Con el parámetro `ascending=False` podemos invertir el criterio de ordenación."
   ]
  },
  {
   "cell_type": "markdown",
   "metadata": {},
   "source": [
    "# Asertos\n",
    "\n",
    "Nos permiten realizar comprobaciones sobre los datos. Un aserto se define con `assert` y la prueba lógica a evaluar.\n"
   ]
  },
  {
   "cell_type": "code",
   "execution_count": 28,
   "metadata": {
    "ExecuteTime": {
     "end_time": "2019-11-10T12:00:26.151695Z",
     "start_time": "2019-11-10T12:00:26.149395Z"
    }
   },
   "outputs": [],
   "source": [
    "assert 1 == 1 # Es verdadero"
   ]
  },
  {
   "cell_type": "markdown",
   "metadata": {},
   "source": [
    "Si la excepcion no se cumple se lanzará una excepción del tipo `AssertionError`. Esta excepción es como cualquier excepción Python, podemos capturarla y procesarla."
   ]
  },
  {
   "cell_type": "code",
   "execution_count": 29,
   "metadata": {
    "ExecuteTime": {
     "end_time": "2019-11-10T12:00:26.156990Z",
     "start_time": "2019-11-10T12:00:26.152904Z"
    }
   },
   "outputs": [
    {
     "name": "stdout",
     "output_type": "stream",
     "text": [
      "ups\n"
     ]
    }
   ],
   "source": [
    "try:\n",
    "    assert 1 == 2 # Lanzará una excepción del tipo AssertionError\n",
    "except AssertionError:\n",
    "    print(\"ups\")"
   ]
  },
  {
   "cell_type": "markdown",
   "metadata": {},
   "source": [
    "Es una buena práctica, siempre que hagamos flujos de trabajo con datos implementar asertos que nos garanticen la correcta entrada de los datos."
   ]
  },
  {
   "cell_type": "code",
   "execution_count": 30,
   "metadata": {
    "ExecuteTime": {
     "end_time": "2019-11-10T12:00:26.165555Z",
     "start_time": "2019-11-10T12:00:26.158273Z"
    }
   },
   "outputs": [],
   "source": [
    "assert len(df[df['Hijos'] > 50]) == 0\n",
    "assert len(df[df['Hijos'] < 0]) == 0\n",
    "assert len(df[df['Edad'] > 150]) == 0\n",
    "assert len(df[df['Edad'] < 0]) == 0"
   ]
  },
  {
   "cell_type": "markdown",
   "metadata": {},
   "source": [
    "# Quizz\n",
    "\n",
    "* ¿Cuáles es para ti el flujo que se debe seguir para hacer data cleaning?\n",
    "* ¿Es posible tener un dataset \"perfecto\"?. _Entendiendo por perfecto, un dataset que no requiera data cleaning_."
   ]
  }
 ],
 "metadata": {
  "anaconda-cloud": {},
  "kernelspec": {
   "display_name": "Python 3",
   "language": "python",
   "name": "python3"
  },
  "language_info": {
   "codemirror_mode": {
    "name": "ipython",
    "version": 3
   },
   "file_extension": ".py",
   "mimetype": "text/x-python",
   "name": "python",
   "nbconvert_exporter": "python",
   "pygments_lexer": "ipython3",
   "version": "3.7.4"
  },
  "toc": {
   "base_numbering": 1,
   "nav_menu": {},
   "number_sections": true,
   "sideBar": true,
   "skip_h1_title": false,
   "title_cell": "Table of Contents",
   "title_sidebar": "Contents",
   "toc_cell": false,
   "toc_position": {},
   "toc_section_display": true,
   "toc_window_display": true
  }
 },
 "nbformat": 4,
 "nbformat_minor": 4
}

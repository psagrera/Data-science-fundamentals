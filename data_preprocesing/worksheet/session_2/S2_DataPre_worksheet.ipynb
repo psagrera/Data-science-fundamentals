{
 "cells": [
  {
   "cell_type": "markdown",
   "metadata": {},
   "source": [
    "<img src=\"mioti.png\" style=\"height: 100px\">\n",
    "<center style=\"color:#888\">Módulo Data Science in IoT<br/>Asignatura Data preprocessing</center>\n",
    "\n",
    "# Worksheet S2: Filtrado y Anomización"
   ]
  },
  {
   "cell_type": "markdown",
   "metadata": {},
   "source": [
    "## Objetivos\n",
    "\n",
    "El objetivo de este worksheet es que aprendas los métodos más comunes de anonimización y filtrado.\n",
    "\n",
    "* Filtrado con máscaras\n",
    "* Generación de datos ficticios\n",
    "* Anonimización"
   ]
  },
  {
   "cell_type": "markdown",
   "metadata": {},
   "source": [
    "## Configuración del entorno\n",
    "\n",
    "Como siempre, es importante que definamos en un solo bloque los paquetes y constantes a utilizar."
   ]
  },
  {
   "cell_type": "code",
   "execution_count": 2,
   "metadata": {},
   "outputs": [
    {
     "name": "stdout",
     "output_type": "stream",
     "text": [
      "Collecting faker\n",
      "\u001b[?25l  Downloading https://files.pythonhosted.org/packages/eb/c5/66be0c6b358de1a1a9abaaced916185599fa3d2ad465cfb3567085e64a1c/Faker-4.0.1-py3-none-any.whl (994kB)\n",
      "\u001b[K     |████████████████████████████████| 1.0MB 5.4MB/s eta 0:00:01\n",
      "\u001b[?25hCollecting text-unidecode==1.3 (from faker)\n",
      "\u001b[?25l  Downloading https://files.pythonhosted.org/packages/a6/a5/c0b6468d3824fe3fde30dbb5e1f687b291608f9473681bbf7dabbf5a87d7/text_unidecode-1.3-py2.py3-none-any.whl (78kB)\n",
      "\u001b[K     |████████████████████████████████| 81kB 23.1MB/s eta 0:00:01\n",
      "\u001b[?25hRequirement already satisfied: python-dateutil>=2.4 in /opt/anaconda3/lib/python3.7/site-packages (from faker) (2.8.0)\n",
      "Requirement already satisfied: six>=1.5 in /opt/anaconda3/lib/python3.7/site-packages (from python-dateutil>=2.4->faker) (1.12.0)\n",
      "Installing collected packages: text-unidecode, faker\n",
      "Successfully installed faker-4.0.1 text-unidecode-1.3\n"
     ]
    }
   ],
   "source": [
    "# instalar requisitos\n",
    "import sys\n",
    "!{sys.executable} -m pip install faker"
   ]
  },
  {
   "cell_type": "code",
   "execution_count": 1,
   "metadata": {
    "ExecuteTime": {
     "end_time": "2019-11-02T17:17:58.433305Z",
     "start_time": "2019-11-02T17:17:58.070577Z"
    }
   },
   "outputs": [],
   "source": [
    "%matplotlib inline\n",
    "\n",
    "import numpy as np\n",
    "import pandas as pd\n",
    "import matplotlib.pyplot as plt"
   ]
  },
  {
   "cell_type": "markdown",
   "metadata": {},
   "source": [
    "## Carga de los datos\n",
    "\n",
    "Esta vez va a ser fácil, vamos a importar los datos de un fichero csv, utilizaremos la función read_csv que nos proporciona la libreria de pandas para cargar una base de datos de usuarios en un dataframe que llamaremos `df`."
   ]
  },
  {
   "cell_type": "code",
   "execution_count": 3,
   "metadata": {
    "ExecuteTime": {
     "end_time": "2019-11-02T17:17:58.442287Z",
     "start_time": "2019-11-02T17:17:58.434786Z"
    }
   },
   "outputs": [],
   "source": [
    "df = pd.read_csv('usuarios.csv')"
   ]
  },
  {
   "cell_type": "markdown",
   "metadata": {},
   "source": [
    "Una vez cargados los datos debemos inspeccionarlos antes de empezar nuestro análisis."
   ]
  },
  {
   "cell_type": "code",
   "execution_count": 4,
   "metadata": {
    "ExecuteTime": {
     "end_time": "2019-11-02T17:17:58.449284Z",
     "start_time": "2019-11-02T17:17:58.443527Z"
    }
   },
   "outputs": [
    {
     "name": "stdout",
     "output_type": "stream",
     "text": [
      "<class 'pandas.core.frame.DataFrame'>\n",
      "RangeIndex: 100 entries, 0 to 99\n",
      "Data columns (total 10 columns):\n",
      "Nombre           100 non-null object\n",
      "Apellido 1       100 non-null object\n",
      "Apellido 2       100 non-null object\n",
      "Sexo             96 non-null object\n",
      "Municipio        99 non-null object\n",
      "Provincia        100 non-null object\n",
      "DNI              100 non-null int64\n",
      "NIF              99 non-null object\n",
      "Edad             99 non-null float64\n",
      "ColorFavorito    99 non-null object\n",
      "dtypes: float64(1), int64(1), object(8)\n",
      "memory usage: 7.9+ KB\n"
     ]
    }
   ],
   "source": [
    "df.info()"
   ]
  },
  {
   "cell_type": "code",
   "execution_count": 5,
   "metadata": {
    "ExecuteTime": {
     "end_time": "2019-11-02T17:17:58.463482Z",
     "start_time": "2019-11-02T17:17:58.450926Z"
    }
   },
   "outputs": [
    {
     "data": {
      "text/html": [
       "<div>\n",
       "<style scoped>\n",
       "    .dataframe tbody tr th:only-of-type {\n",
       "        vertical-align: middle;\n",
       "    }\n",
       "\n",
       "    .dataframe tbody tr th {\n",
       "        vertical-align: top;\n",
       "    }\n",
       "\n",
       "    .dataframe thead th {\n",
       "        text-align: right;\n",
       "    }\n",
       "</style>\n",
       "<table border=\"1\" class=\"dataframe\">\n",
       "  <thead>\n",
       "    <tr style=\"text-align: right;\">\n",
       "      <th></th>\n",
       "      <th>Nombre</th>\n",
       "      <th>Apellido 1</th>\n",
       "      <th>Apellido 2</th>\n",
       "      <th>Sexo</th>\n",
       "      <th>Municipio</th>\n",
       "      <th>Provincia</th>\n",
       "      <th>DNI</th>\n",
       "      <th>NIF</th>\n",
       "      <th>Edad</th>\n",
       "      <th>ColorFavorito</th>\n",
       "    </tr>\n",
       "  </thead>\n",
       "  <tbody>\n",
       "    <tr>\n",
       "      <th>0</th>\n",
       "      <td>Francisco</td>\n",
       "      <td>Castro</td>\n",
       "      <td>Cano</td>\n",
       "      <td>H</td>\n",
       "      <td>Lérida</td>\n",
       "      <td>Lérida</td>\n",
       "      <td>8805982</td>\n",
       "      <td>H</td>\n",
       "      <td>6.0</td>\n",
       "      <td>Verde</td>\n",
       "    </tr>\n",
       "    <tr>\n",
       "      <th>1</th>\n",
       "      <td>Xavier</td>\n",
       "      <td>Gómez</td>\n",
       "      <td>Rendón</td>\n",
       "      <td>H</td>\n",
       "      <td>Córdoba</td>\n",
       "      <td>Córdoba</td>\n",
       "      <td>26616576</td>\n",
       "      <td>X</td>\n",
       "      <td>77.0</td>\n",
       "      <td>Azul</td>\n",
       "    </tr>\n",
       "    <tr>\n",
       "      <th>2</th>\n",
       "      <td>Carmen</td>\n",
       "      <td>Vázquez</td>\n",
       "      <td>Trenado</td>\n",
       "      <td>M</td>\n",
       "      <td>Sabadell</td>\n",
       "      <td>Barcelona</td>\n",
       "      <td>47915145</td>\n",
       "      <td>NaN</td>\n",
       "      <td>NaN</td>\n",
       "      <td>Rojo</td>\n",
       "    </tr>\n",
       "    <tr>\n",
       "      <th>3</th>\n",
       "      <td>Anna</td>\n",
       "      <td>Alonso</td>\n",
       "      <td>López</td>\n",
       "      <td>M</td>\n",
       "      <td>NaN</td>\n",
       "      <td>Zaragoza</td>\n",
       "      <td>23362379</td>\n",
       "      <td>Z</td>\n",
       "      <td>24.0</td>\n",
       "      <td>Rojo</td>\n",
       "    </tr>\n",
       "    <tr>\n",
       "      <th>4</th>\n",
       "      <td>Manuel</td>\n",
       "      <td>López</td>\n",
       "      <td>Martínez</td>\n",
       "      <td>H</td>\n",
       "      <td>Palma de Mallorca</td>\n",
       "      <td>Islas Baleares</td>\n",
       "      <td>54999682</td>\n",
       "      <td>N</td>\n",
       "      <td>28.0</td>\n",
       "      <td>Amarillo</td>\n",
       "    </tr>\n",
       "  </tbody>\n",
       "</table>\n",
       "</div>"
      ],
      "text/plain": [
       "      Nombre Apellido 1 Apellido 2 Sexo          Municipio       Provincia  \\\n",
       "0  Francisco     Castro       Cano    H             Lérida          Lérida   \n",
       "1     Xavier      Gómez     Rendón    H            Córdoba         Córdoba   \n",
       "2     Carmen    Vázquez    Trenado    M           Sabadell       Barcelona   \n",
       "3       Anna     Alonso      López    M                NaN        Zaragoza   \n",
       "4     Manuel      López   Martínez    H  Palma de Mallorca  Islas Baleares   \n",
       "\n",
       "        DNI  NIF  Edad ColorFavorito  \n",
       "0   8805982    H   6.0         Verde  \n",
       "1  26616576    X  77.0          Azul  \n",
       "2  47915145  NaN   NaN          Rojo  \n",
       "3  23362379    Z  24.0          Rojo  \n",
       "4  54999682    N  28.0      Amarillo  "
      ]
     },
     "execution_count": 5,
     "metadata": {},
     "output_type": "execute_result"
    }
   ],
   "source": [
    "df.head()"
   ]
  },
  {
   "cell_type": "markdown",
   "metadata": {},
   "source": [
    "## Navegación en el dataframe"
   ]
  },
  {
   "cell_type": "markdown",
   "metadata": {},
   "source": [
    "Antes de empezar a realizarnos preguntas o hacer transformaciones sobre los datos, debemos comprender estructuran tienen. Para ello podemos hacer uso de las funciones `head`, `index` y `columns` para identificar la estructura del dataset."
   ]
  },
  {
   "cell_type": "code",
   "execution_count": 6,
   "metadata": {
    "ExecuteTime": {
     "end_time": "2019-11-02T17:17:58.475640Z",
     "start_time": "2019-11-02T17:17:58.464768Z"
    }
   },
   "outputs": [
    {
     "data": {
      "text/html": [
       "<div>\n",
       "<style scoped>\n",
       "    .dataframe tbody tr th:only-of-type {\n",
       "        vertical-align: middle;\n",
       "    }\n",
       "\n",
       "    .dataframe tbody tr th {\n",
       "        vertical-align: top;\n",
       "    }\n",
       "\n",
       "    .dataframe thead th {\n",
       "        text-align: right;\n",
       "    }\n",
       "</style>\n",
       "<table border=\"1\" class=\"dataframe\">\n",
       "  <thead>\n",
       "    <tr style=\"text-align: right;\">\n",
       "      <th></th>\n",
       "      <th>Nombre</th>\n",
       "      <th>Apellido 1</th>\n",
       "      <th>Apellido 2</th>\n",
       "      <th>Sexo</th>\n",
       "      <th>Municipio</th>\n",
       "      <th>Provincia</th>\n",
       "      <th>DNI</th>\n",
       "      <th>NIF</th>\n",
       "      <th>Edad</th>\n",
       "      <th>ColorFavorito</th>\n",
       "    </tr>\n",
       "  </thead>\n",
       "  <tbody>\n",
       "    <tr>\n",
       "      <th>0</th>\n",
       "      <td>Francisco</td>\n",
       "      <td>Castro</td>\n",
       "      <td>Cano</td>\n",
       "      <td>H</td>\n",
       "      <td>Lérida</td>\n",
       "      <td>Lérida</td>\n",
       "      <td>8805982</td>\n",
       "      <td>H</td>\n",
       "      <td>6.0</td>\n",
       "      <td>Verde</td>\n",
       "    </tr>\n",
       "    <tr>\n",
       "      <th>1</th>\n",
       "      <td>Xavier</td>\n",
       "      <td>Gómez</td>\n",
       "      <td>Rendón</td>\n",
       "      <td>H</td>\n",
       "      <td>Córdoba</td>\n",
       "      <td>Córdoba</td>\n",
       "      <td>26616576</td>\n",
       "      <td>X</td>\n",
       "      <td>77.0</td>\n",
       "      <td>Azul</td>\n",
       "    </tr>\n",
       "    <tr>\n",
       "      <th>2</th>\n",
       "      <td>Carmen</td>\n",
       "      <td>Vázquez</td>\n",
       "      <td>Trenado</td>\n",
       "      <td>M</td>\n",
       "      <td>Sabadell</td>\n",
       "      <td>Barcelona</td>\n",
       "      <td>47915145</td>\n",
       "      <td>NaN</td>\n",
       "      <td>NaN</td>\n",
       "      <td>Rojo</td>\n",
       "    </tr>\n",
       "    <tr>\n",
       "      <th>3</th>\n",
       "      <td>Anna</td>\n",
       "      <td>Alonso</td>\n",
       "      <td>López</td>\n",
       "      <td>M</td>\n",
       "      <td>NaN</td>\n",
       "      <td>Zaragoza</td>\n",
       "      <td>23362379</td>\n",
       "      <td>Z</td>\n",
       "      <td>24.0</td>\n",
       "      <td>Rojo</td>\n",
       "    </tr>\n",
       "    <tr>\n",
       "      <th>4</th>\n",
       "      <td>Manuel</td>\n",
       "      <td>López</td>\n",
       "      <td>Martínez</td>\n",
       "      <td>H</td>\n",
       "      <td>Palma de Mallorca</td>\n",
       "      <td>Islas Baleares</td>\n",
       "      <td>54999682</td>\n",
       "      <td>N</td>\n",
       "      <td>28.0</td>\n",
       "      <td>Amarillo</td>\n",
       "    </tr>\n",
       "  </tbody>\n",
       "</table>\n",
       "</div>"
      ],
      "text/plain": [
       "      Nombre Apellido 1 Apellido 2 Sexo          Municipio       Provincia  \\\n",
       "0  Francisco     Castro       Cano    H             Lérida          Lérida   \n",
       "1     Xavier      Gómez     Rendón    H            Córdoba         Córdoba   \n",
       "2     Carmen    Vázquez    Trenado    M           Sabadell       Barcelona   \n",
       "3       Anna     Alonso      López    M                NaN        Zaragoza   \n",
       "4     Manuel      López   Martínez    H  Palma de Mallorca  Islas Baleares   \n",
       "\n",
       "        DNI  NIF  Edad ColorFavorito  \n",
       "0   8805982    H   6.0         Verde  \n",
       "1  26616576    X  77.0          Azul  \n",
       "2  47915145  NaN   NaN          Rojo  \n",
       "3  23362379    Z  24.0          Rojo  \n",
       "4  54999682    N  28.0      Amarillo  "
      ]
     },
     "execution_count": 6,
     "metadata": {},
     "output_type": "execute_result"
    }
   ],
   "source": [
    "df.head() # Nos devuelve los 5 primeros registros del df"
   ]
  },
  {
   "cell_type": "code",
   "execution_count": 7,
   "metadata": {
    "ExecuteTime": {
     "end_time": "2019-11-02T17:17:58.481093Z",
     "start_time": "2019-11-02T17:17:58.476918Z"
    }
   },
   "outputs": [
    {
     "data": {
      "text/plain": [
       "RangeIndex(start=0, stop=100, step=1)"
      ]
     },
     "execution_count": 7,
     "metadata": {},
     "output_type": "execute_result"
    }
   ],
   "source": [
    "df.index # Nos da información del número de registros"
   ]
  },
  {
   "cell_type": "code",
   "execution_count": 8,
   "metadata": {
    "ExecuteTime": {
     "end_time": "2019-11-02T17:17:58.490796Z",
     "start_time": "2019-11-02T17:17:58.482920Z"
    }
   },
   "outputs": [
    {
     "data": {
      "text/plain": [
       "Index(['Nombre', 'Apellido 1', 'Apellido 2', 'Sexo', 'Municipio', 'Provincia',\n",
       "       'DNI', 'NIF', 'Edad', 'ColorFavorito'],\n",
       "      dtype='object')"
      ]
     },
     "execution_count": 8,
     "metadata": {},
     "output_type": "execute_result"
    }
   ],
   "source": [
    "df.columns # Nos da información sobre las columnas"
   ]
  },
  {
   "cell_type": "markdown",
   "metadata": {},
   "source": [
    "## Filtrado con máscaras\n",
    "Una de las tareas básicas cuando empezamos a procesar una base de datos, es filtrar los datos por diversos criterios. Para ello en pandas utilizamos máscaras. \n",
    "\n",
    "Hacer una máscara es tan sencillo como:"
   ]
  },
  {
   "cell_type": "code",
   "execution_count": 9,
   "metadata": {
    "ExecuteTime": {
     "end_time": "2019-11-02T17:17:58.497592Z",
     "start_time": "2019-11-02T17:17:58.493984Z"
    }
   },
   "outputs": [],
   "source": [
    "df_municipio_mask = df['Municipio'] == 'Valencia'"
   ]
  },
  {
   "cell_type": "code",
   "execution_count": 10,
   "metadata": {
    "ExecuteTime": {
     "end_time": "2019-11-02T17:17:58.505104Z",
     "start_time": "2019-11-02T17:17:58.499944Z"
    }
   },
   "outputs": [
    {
     "data": {
      "text/plain": [
       "0     False\n",
       "1     False\n",
       "2     False\n",
       "3     False\n",
       "4     False\n",
       "5     False\n",
       "6     False\n",
       "7     False\n",
       "8     False\n",
       "9      True\n",
       "10    False\n",
       "11    False\n",
       "12    False\n",
       "13    False\n",
       "14    False\n",
       "15    False\n",
       "16    False\n",
       "17    False\n",
       "18    False\n",
       "19    False\n",
       "20    False\n",
       "21    False\n",
       "22    False\n",
       "23    False\n",
       "24    False\n",
       "25    False\n",
       "26    False\n",
       "27    False\n",
       "28    False\n",
       "29    False\n",
       "      ...  \n",
       "70    False\n",
       "71    False\n",
       "72    False\n",
       "73    False\n",
       "74    False\n",
       "75    False\n",
       "76    False\n",
       "77    False\n",
       "78    False\n",
       "79    False\n",
       "80    False\n",
       "81    False\n",
       "82    False\n",
       "83     True\n",
       "84    False\n",
       "85    False\n",
       "86    False\n",
       "87    False\n",
       "88    False\n",
       "89    False\n",
       "90    False\n",
       "91     True\n",
       "92    False\n",
       "93    False\n",
       "94    False\n",
       "95     True\n",
       "96    False\n",
       "97    False\n",
       "98    False\n",
       "99    False\n",
       "Name: Municipio, Length: 100, dtype: bool"
      ]
     },
     "execution_count": 10,
     "metadata": {},
     "output_type": "execute_result"
    }
   ],
   "source": [
    "df_municipio_mask"
   ]
  },
  {
   "cell_type": "code",
   "execution_count": 11,
   "metadata": {
    "ExecuteTime": {
     "end_time": "2019-11-02T17:17:58.511845Z",
     "start_time": "2019-11-02T17:17:58.506504Z"
    }
   },
   "outputs": [
    {
     "data": {
      "text/plain": [
       "False    94\n",
       "True      6\n",
       "Name: Municipio, dtype: int64"
      ]
     },
     "execution_count": 11,
     "metadata": {},
     "output_type": "execute_result"
    }
   ],
   "source": [
    "df_municipio_mask.value_counts()"
   ]
  },
  {
   "cell_type": "markdown",
   "metadata": {},
   "source": [
    "Una máscara en el fondo es otro data frame del mismo tamaño que la misma columna que la original con valores booleanos."
   ]
  },
  {
   "cell_type": "code",
   "execution_count": 12,
   "metadata": {
    "ExecuteTime": {
     "end_time": "2019-11-02T17:17:58.519668Z",
     "start_time": "2019-11-02T17:17:58.514087Z"
    }
   },
   "outputs": [
    {
     "data": {
      "text/plain": [
       "0    False\n",
       "1    False\n",
       "2    False\n",
       "3    False\n",
       "4    False\n",
       "Name: Municipio, dtype: bool"
      ]
     },
     "execution_count": 12,
     "metadata": {},
     "output_type": "execute_result"
    }
   ],
   "source": [
    "df_municipio_mask.head()"
   ]
  },
  {
   "cell_type": "markdown",
   "metadata": {},
   "source": [
    "Filtrar con una máscara es tan fácil como utilizarla "
   ]
  },
  {
   "cell_type": "code",
   "execution_count": 13,
   "metadata": {
    "ExecuteTime": {
     "end_time": "2019-11-02T17:17:58.538801Z",
     "start_time": "2019-11-02T17:17:58.521879Z"
    }
   },
   "outputs": [
    {
     "data": {
      "text/html": [
       "<div>\n",
       "<style scoped>\n",
       "    .dataframe tbody tr th:only-of-type {\n",
       "        vertical-align: middle;\n",
       "    }\n",
       "\n",
       "    .dataframe tbody tr th {\n",
       "        vertical-align: top;\n",
       "    }\n",
       "\n",
       "    .dataframe thead th {\n",
       "        text-align: right;\n",
       "    }\n",
       "</style>\n",
       "<table border=\"1\" class=\"dataframe\">\n",
       "  <thead>\n",
       "    <tr style=\"text-align: right;\">\n",
       "      <th></th>\n",
       "      <th>Nombre</th>\n",
       "      <th>Apellido 1</th>\n",
       "      <th>Apellido 2</th>\n",
       "      <th>Sexo</th>\n",
       "      <th>Municipio</th>\n",
       "      <th>Provincia</th>\n",
       "      <th>DNI</th>\n",
       "      <th>NIF</th>\n",
       "      <th>Edad</th>\n",
       "      <th>ColorFavorito</th>\n",
       "    </tr>\n",
       "  </thead>\n",
       "  <tbody>\n",
       "    <tr>\n",
       "      <th>9</th>\n",
       "      <td>Alberto</td>\n",
       "      <td>González</td>\n",
       "      <td>Francés</td>\n",
       "      <td>H</td>\n",
       "      <td>Valencia</td>\n",
       "      <td>Valencia</td>\n",
       "      <td>2019499</td>\n",
       "      <td>F</td>\n",
       "      <td>23.0</td>\n",
       "      <td>Azul</td>\n",
       "    </tr>\n",
       "    <tr>\n",
       "      <th>43</th>\n",
       "      <td>Rubén</td>\n",
       "      <td>Ortiz</td>\n",
       "      <td>González</td>\n",
       "      <td>H</td>\n",
       "      <td>Valencia</td>\n",
       "      <td>Valencia</td>\n",
       "      <td>42769633</td>\n",
       "      <td>Y</td>\n",
       "      <td>80.0</td>\n",
       "      <td>NaN</td>\n",
       "    </tr>\n",
       "    <tr>\n",
       "      <th>61</th>\n",
       "      <td>María</td>\n",
       "      <td>Álvarez</td>\n",
       "      <td>Hernández</td>\n",
       "      <td>M</td>\n",
       "      <td>Valencia</td>\n",
       "      <td>Valencia</td>\n",
       "      <td>26406576</td>\n",
       "      <td>T</td>\n",
       "      <td>3.0</td>\n",
       "      <td>Rojo</td>\n",
       "    </tr>\n",
       "    <tr>\n",
       "      <th>83</th>\n",
       "      <td>Miguel</td>\n",
       "      <td>Hijano</td>\n",
       "      <td>Planas</td>\n",
       "      <td>H</td>\n",
       "      <td>Valencia</td>\n",
       "      <td>Valencia</td>\n",
       "      <td>96440536</td>\n",
       "      <td>H</td>\n",
       "      <td>53.0</td>\n",
       "      <td>Violeta</td>\n",
       "    </tr>\n",
       "    <tr>\n",
       "      <th>91</th>\n",
       "      <td>Daniel</td>\n",
       "      <td>Soria</td>\n",
       "      <td>Ordoñez</td>\n",
       "      <td>H</td>\n",
       "      <td>Valencia</td>\n",
       "      <td>Valencia</td>\n",
       "      <td>45282761</td>\n",
       "      <td>Q</td>\n",
       "      <td>37.0</td>\n",
       "      <td>Violeta</td>\n",
       "    </tr>\n",
       "  </tbody>\n",
       "</table>\n",
       "</div>"
      ],
      "text/plain": [
       "     Nombre Apellido 1 Apellido 2 Sexo Municipio Provincia       DNI NIF  \\\n",
       "9   Alberto   González    Francés    H  Valencia  Valencia   2019499   F   \n",
       "43    Rubén      Ortiz   González    H  Valencia  Valencia  42769633   Y   \n",
       "61    María    Álvarez  Hernández    M  Valencia  Valencia  26406576   T   \n",
       "83   Miguel     Hijano     Planas    H  Valencia  Valencia  96440536   H   \n",
       "91   Daniel      Soria    Ordoñez    H  Valencia  Valencia  45282761   Q   \n",
       "\n",
       "    Edad ColorFavorito  \n",
       "9   23.0          Azul  \n",
       "43  80.0           NaN  \n",
       "61   3.0          Rojo  \n",
       "83  53.0       Violeta  \n",
       "91  37.0       Violeta  "
      ]
     },
     "execution_count": 13,
     "metadata": {},
     "output_type": "execute_result"
    }
   ],
   "source": [
    "df[df_municipio_mask].head() # Todos los usuarios que viven en Valencia"
   ]
  },
  {
   "cell_type": "markdown",
   "metadata": {},
   "source": [
    "También podemos invertir el filtrado"
   ]
  },
  {
   "cell_type": "code",
   "execution_count": 14,
   "metadata": {
    "ExecuteTime": {
     "end_time": "2019-11-02T17:17:58.555804Z",
     "start_time": "2019-11-02T17:17:58.540212Z"
    }
   },
   "outputs": [
    {
     "data": {
      "text/html": [
       "<div>\n",
       "<style scoped>\n",
       "    .dataframe tbody tr th:only-of-type {\n",
       "        vertical-align: middle;\n",
       "    }\n",
       "\n",
       "    .dataframe tbody tr th {\n",
       "        vertical-align: top;\n",
       "    }\n",
       "\n",
       "    .dataframe thead th {\n",
       "        text-align: right;\n",
       "    }\n",
       "</style>\n",
       "<table border=\"1\" class=\"dataframe\">\n",
       "  <thead>\n",
       "    <tr style=\"text-align: right;\">\n",
       "      <th></th>\n",
       "      <th>Nombre</th>\n",
       "      <th>Apellido 1</th>\n",
       "      <th>Apellido 2</th>\n",
       "      <th>Sexo</th>\n",
       "      <th>Municipio</th>\n",
       "      <th>Provincia</th>\n",
       "      <th>DNI</th>\n",
       "      <th>NIF</th>\n",
       "      <th>Edad</th>\n",
       "      <th>ColorFavorito</th>\n",
       "    </tr>\n",
       "  </thead>\n",
       "  <tbody>\n",
       "    <tr>\n",
       "      <th>0</th>\n",
       "      <td>Francisco</td>\n",
       "      <td>Castro</td>\n",
       "      <td>Cano</td>\n",
       "      <td>H</td>\n",
       "      <td>Lérida</td>\n",
       "      <td>Lérida</td>\n",
       "      <td>8805982</td>\n",
       "      <td>H</td>\n",
       "      <td>6.0</td>\n",
       "      <td>Verde</td>\n",
       "    </tr>\n",
       "    <tr>\n",
       "      <th>1</th>\n",
       "      <td>Xavier</td>\n",
       "      <td>Gómez</td>\n",
       "      <td>Rendón</td>\n",
       "      <td>H</td>\n",
       "      <td>Córdoba</td>\n",
       "      <td>Córdoba</td>\n",
       "      <td>26616576</td>\n",
       "      <td>X</td>\n",
       "      <td>77.0</td>\n",
       "      <td>Azul</td>\n",
       "    </tr>\n",
       "    <tr>\n",
       "      <th>2</th>\n",
       "      <td>Carmen</td>\n",
       "      <td>Vázquez</td>\n",
       "      <td>Trenado</td>\n",
       "      <td>M</td>\n",
       "      <td>Sabadell</td>\n",
       "      <td>Barcelona</td>\n",
       "      <td>47915145</td>\n",
       "      <td>NaN</td>\n",
       "      <td>NaN</td>\n",
       "      <td>Rojo</td>\n",
       "    </tr>\n",
       "    <tr>\n",
       "      <th>3</th>\n",
       "      <td>Anna</td>\n",
       "      <td>Alonso</td>\n",
       "      <td>López</td>\n",
       "      <td>M</td>\n",
       "      <td>NaN</td>\n",
       "      <td>Zaragoza</td>\n",
       "      <td>23362379</td>\n",
       "      <td>Z</td>\n",
       "      <td>24.0</td>\n",
       "      <td>Rojo</td>\n",
       "    </tr>\n",
       "    <tr>\n",
       "      <th>4</th>\n",
       "      <td>Manuel</td>\n",
       "      <td>López</td>\n",
       "      <td>Martínez</td>\n",
       "      <td>H</td>\n",
       "      <td>Palma de Mallorca</td>\n",
       "      <td>Islas Baleares</td>\n",
       "      <td>54999682</td>\n",
       "      <td>N</td>\n",
       "      <td>28.0</td>\n",
       "      <td>Amarillo</td>\n",
       "    </tr>\n",
       "  </tbody>\n",
       "</table>\n",
       "</div>"
      ],
      "text/plain": [
       "      Nombre Apellido 1 Apellido 2 Sexo          Municipio       Provincia  \\\n",
       "0  Francisco     Castro       Cano    H             Lérida          Lérida   \n",
       "1     Xavier      Gómez     Rendón    H            Córdoba         Córdoba   \n",
       "2     Carmen    Vázquez    Trenado    M           Sabadell       Barcelona   \n",
       "3       Anna     Alonso      López    M                NaN        Zaragoza   \n",
       "4     Manuel      López   Martínez    H  Palma de Mallorca  Islas Baleares   \n",
       "\n",
       "        DNI  NIF  Edad ColorFavorito  \n",
       "0   8805982    H   6.0         Verde  \n",
       "1  26616576    X  77.0          Azul  \n",
       "2  47915145  NaN   NaN          Rojo  \n",
       "3  23362379    Z  24.0          Rojo  \n",
       "4  54999682    N  28.0      Amarillo  "
      ]
     },
     "execution_count": 14,
     "metadata": {},
     "output_type": "execute_result"
    }
   ],
   "source": [
    "df[~df_municipio_mask].head()"
   ]
  },
  {
   "cell_type": "markdown",
   "metadata": {},
   "source": [
    "Y recordando cómo filtrar por valores nulos..."
   ]
  },
  {
   "cell_type": "code",
   "execution_count": 15,
   "metadata": {},
   "outputs": [
    {
     "data": {
      "text/html": [
       "<div>\n",
       "<style scoped>\n",
       "    .dataframe tbody tr th:only-of-type {\n",
       "        vertical-align: middle;\n",
       "    }\n",
       "\n",
       "    .dataframe tbody tr th {\n",
       "        vertical-align: top;\n",
       "    }\n",
       "\n",
       "    .dataframe thead th {\n",
       "        text-align: right;\n",
       "    }\n",
       "</style>\n",
       "<table border=\"1\" class=\"dataframe\">\n",
       "  <thead>\n",
       "    <tr style=\"text-align: right;\">\n",
       "      <th></th>\n",
       "      <th>Nombre</th>\n",
       "      <th>Apellido 1</th>\n",
       "      <th>Apellido 2</th>\n",
       "      <th>Sexo</th>\n",
       "      <th>Municipio</th>\n",
       "      <th>Provincia</th>\n",
       "      <th>DNI</th>\n",
       "      <th>NIF</th>\n",
       "      <th>Edad</th>\n",
       "      <th>ColorFavorito</th>\n",
       "    </tr>\n",
       "  </thead>\n",
       "  <tbody>\n",
       "    <tr>\n",
       "      <th>5</th>\n",
       "      <td>María Dolores</td>\n",
       "      <td>Sánchez</td>\n",
       "      <td>Fernández</td>\n",
       "      <td>NaN</td>\n",
       "      <td>Alhaurín de la Torre</td>\n",
       "      <td>Málaga</td>\n",
       "      <td>11050962</td>\n",
       "      <td>Z</td>\n",
       "      <td>7.0</td>\n",
       "      <td>Verde</td>\n",
       "    </tr>\n",
       "    <tr>\n",
       "      <th>25</th>\n",
       "      <td>Carmen</td>\n",
       "      <td>Alvariño</td>\n",
       "      <td>Arias</td>\n",
       "      <td>NaN</td>\n",
       "      <td>Bilbao</td>\n",
       "      <td>Vizcaya</td>\n",
       "      <td>23055504</td>\n",
       "      <td>M</td>\n",
       "      <td>7.0</td>\n",
       "      <td>Rojo</td>\n",
       "    </tr>\n",
       "    <tr>\n",
       "      <th>35</th>\n",
       "      <td>Emilio</td>\n",
       "      <td>Vázquez</td>\n",
       "      <td>Gil Ortega</td>\n",
       "      <td>NaN</td>\n",
       "      <td>Barcelona</td>\n",
       "      <td>Barcelona</td>\n",
       "      <td>78666748</td>\n",
       "      <td>D</td>\n",
       "      <td>36.0</td>\n",
       "      <td>Azul</td>\n",
       "    </tr>\n",
       "    <tr>\n",
       "      <th>51</th>\n",
       "      <td>Iván</td>\n",
       "      <td>Gil</td>\n",
       "      <td>Diez</td>\n",
       "      <td>NaN</td>\n",
       "      <td>Barcelona</td>\n",
       "      <td>Barcelona</td>\n",
       "      <td>3424034</td>\n",
       "      <td>R</td>\n",
       "      <td>39.0</td>\n",
       "      <td>Violeta</td>\n",
       "    </tr>\n",
       "  </tbody>\n",
       "</table>\n",
       "</div>"
      ],
      "text/plain": [
       "           Nombre Apellido 1  Apellido 2 Sexo             Municipio  \\\n",
       "5   María Dolores    Sánchez   Fernández  NaN  Alhaurín de la Torre   \n",
       "25         Carmen   Alvariño       Arias  NaN                Bilbao   \n",
       "35         Emilio    Vázquez  Gil Ortega  NaN             Barcelona   \n",
       "51           Iván        Gil        Diez  NaN             Barcelona   \n",
       "\n",
       "    Provincia       DNI NIF  Edad ColorFavorito  \n",
       "5      Málaga  11050962   Z   7.0         Verde  \n",
       "25    Vizcaya  23055504   M   7.0          Rojo  \n",
       "35  Barcelona  78666748   D  36.0          Azul  \n",
       "51  Barcelona   3424034   R  39.0       Violeta  "
      ]
     },
     "execution_count": 15,
     "metadata": {},
     "output_type": "execute_result"
    }
   ],
   "source": [
    "df_sexo_nula = df['Sexo'].isnull()\n",
    "df[df_sexo_nula]"
   ]
  },
  {
   "cell_type": "code",
   "execution_count": 16,
   "metadata": {},
   "outputs": [
    {
     "data": {
      "text/html": [
       "<div>\n",
       "<style scoped>\n",
       "    .dataframe tbody tr th:only-of-type {\n",
       "        vertical-align: middle;\n",
       "    }\n",
       "\n",
       "    .dataframe tbody tr th {\n",
       "        vertical-align: top;\n",
       "    }\n",
       "\n",
       "    .dataframe thead th {\n",
       "        text-align: right;\n",
       "    }\n",
       "</style>\n",
       "<table border=\"1\" class=\"dataframe\">\n",
       "  <thead>\n",
       "    <tr style=\"text-align: right;\">\n",
       "      <th></th>\n",
       "      <th>Nombre</th>\n",
       "      <th>Apellido 1</th>\n",
       "      <th>Apellido 2</th>\n",
       "      <th>Sexo</th>\n",
       "      <th>Municipio</th>\n",
       "      <th>Provincia</th>\n",
       "      <th>DNI</th>\n",
       "      <th>NIF</th>\n",
       "      <th>Edad</th>\n",
       "      <th>ColorFavorito</th>\n",
       "    </tr>\n",
       "  </thead>\n",
       "  <tbody>\n",
       "    <tr>\n",
       "      <th>2</th>\n",
       "      <td>Carmen</td>\n",
       "      <td>Vázquez</td>\n",
       "      <td>Trenado</td>\n",
       "      <td>M</td>\n",
       "      <td>Sabadell</td>\n",
       "      <td>Barcelona</td>\n",
       "      <td>47915145</td>\n",
       "      <td>NaN</td>\n",
       "      <td>NaN</td>\n",
       "      <td>Rojo</td>\n",
       "    </tr>\n",
       "    <tr>\n",
       "      <th>3</th>\n",
       "      <td>Anna</td>\n",
       "      <td>Alonso</td>\n",
       "      <td>López</td>\n",
       "      <td>M</td>\n",
       "      <td>NaN</td>\n",
       "      <td>Zaragoza</td>\n",
       "      <td>23362379</td>\n",
       "      <td>Z</td>\n",
       "      <td>24.0</td>\n",
       "      <td>Rojo</td>\n",
       "    </tr>\n",
       "    <tr>\n",
       "      <th>5</th>\n",
       "      <td>María Dolores</td>\n",
       "      <td>Sánchez</td>\n",
       "      <td>Fernández</td>\n",
       "      <td>NaN</td>\n",
       "      <td>Alhaurín de la Torre</td>\n",
       "      <td>Málaga</td>\n",
       "      <td>11050962</td>\n",
       "      <td>Z</td>\n",
       "      <td>7.0</td>\n",
       "      <td>Verde</td>\n",
       "    </tr>\n",
       "    <tr>\n",
       "      <th>25</th>\n",
       "      <td>Carmen</td>\n",
       "      <td>Alvariño</td>\n",
       "      <td>Arias</td>\n",
       "      <td>NaN</td>\n",
       "      <td>Bilbao</td>\n",
       "      <td>Vizcaya</td>\n",
       "      <td>23055504</td>\n",
       "      <td>M</td>\n",
       "      <td>7.0</td>\n",
       "      <td>Rojo</td>\n",
       "    </tr>\n",
       "    <tr>\n",
       "      <th>35</th>\n",
       "      <td>Emilio</td>\n",
       "      <td>Vázquez</td>\n",
       "      <td>Gil Ortega</td>\n",
       "      <td>NaN</td>\n",
       "      <td>Barcelona</td>\n",
       "      <td>Barcelona</td>\n",
       "      <td>78666748</td>\n",
       "      <td>D</td>\n",
       "      <td>36.0</td>\n",
       "      <td>Azul</td>\n",
       "    </tr>\n",
       "    <tr>\n",
       "      <th>43</th>\n",
       "      <td>Rubén</td>\n",
       "      <td>Ortiz</td>\n",
       "      <td>González</td>\n",
       "      <td>H</td>\n",
       "      <td>Valencia</td>\n",
       "      <td>Valencia</td>\n",
       "      <td>42769633</td>\n",
       "      <td>Y</td>\n",
       "      <td>80.0</td>\n",
       "      <td>NaN</td>\n",
       "    </tr>\n",
       "    <tr>\n",
       "      <th>51</th>\n",
       "      <td>Iván</td>\n",
       "      <td>Gil</td>\n",
       "      <td>Diez</td>\n",
       "      <td>NaN</td>\n",
       "      <td>Barcelona</td>\n",
       "      <td>Barcelona</td>\n",
       "      <td>3424034</td>\n",
       "      <td>R</td>\n",
       "      <td>39.0</td>\n",
       "      <td>Violeta</td>\n",
       "    </tr>\n",
       "  </tbody>\n",
       "</table>\n",
       "</div>"
      ],
      "text/plain": [
       "           Nombre Apellido 1  Apellido 2 Sexo             Municipio  \\\n",
       "2          Carmen    Vázquez     Trenado    M              Sabadell   \n",
       "3            Anna     Alonso       López    M                   NaN   \n",
       "5   María Dolores    Sánchez   Fernández  NaN  Alhaurín de la Torre   \n",
       "25         Carmen   Alvariño       Arias  NaN                Bilbao   \n",
       "35         Emilio    Vázquez  Gil Ortega  NaN             Barcelona   \n",
       "43          Rubén      Ortiz    González    H              Valencia   \n",
       "51           Iván        Gil        Diez  NaN             Barcelona   \n",
       "\n",
       "    Provincia       DNI  NIF  Edad ColorFavorito  \n",
       "2   Barcelona  47915145  NaN   NaN          Rojo  \n",
       "3    Zaragoza  23362379    Z  24.0          Rojo  \n",
       "5      Málaga  11050962    Z   7.0         Verde  \n",
       "25    Vizcaya  23055504    M   7.0          Rojo  \n",
       "35  Barcelona  78666748    D  36.0          Azul  \n",
       "43   Valencia  42769633    Y  80.0           NaN  \n",
       "51  Barcelona   3424034    R  39.0       Violeta  "
      ]
     },
     "execution_count": 16,
     "metadata": {},
     "output_type": "execute_result"
    }
   ],
   "source": [
    "df[df.isnull().any(axis=1)]"
   ]
  },
  {
   "cell_type": "markdown",
   "metadata": {},
   "source": [
    "### Columnas que contienen textos\n",
    "\n",
    "También podemos acceder a funciones de procesamiento de textos con la propiedad `str`. Se puede consultar en https://pandas.pydata.org/pandas-docs/stable/user_guide/text.html todas las opciones disponibles. \n",
    "\n",
    "Nosotros revisaremos en este worksheet una par de ellas muy frecuentes. Con `contains` podemos quedarnos con todas las cadenas que contienen otra dada."
   ]
  },
  {
   "cell_type": "code",
   "execution_count": 17,
   "metadata": {
    "ExecuteTime": {
     "end_time": "2019-11-02T17:17:58.574731Z",
     "start_time": "2019-11-02T17:17:58.557460Z"
    }
   },
   "outputs": [
    {
     "data": {
      "text/html": [
       "<div>\n",
       "<style scoped>\n",
       "    .dataframe tbody tr th:only-of-type {\n",
       "        vertical-align: middle;\n",
       "    }\n",
       "\n",
       "    .dataframe tbody tr th {\n",
       "        vertical-align: top;\n",
       "    }\n",
       "\n",
       "    .dataframe thead th {\n",
       "        text-align: right;\n",
       "    }\n",
       "</style>\n",
       "<table border=\"1\" class=\"dataframe\">\n",
       "  <thead>\n",
       "    <tr style=\"text-align: right;\">\n",
       "      <th></th>\n",
       "      <th>Nombre</th>\n",
       "      <th>Apellido 1</th>\n",
       "      <th>Apellido 2</th>\n",
       "      <th>Sexo</th>\n",
       "      <th>Municipio</th>\n",
       "      <th>Provincia</th>\n",
       "      <th>DNI</th>\n",
       "      <th>NIF</th>\n",
       "      <th>Edad</th>\n",
       "      <th>ColorFavorito</th>\n",
       "    </tr>\n",
       "  </thead>\n",
       "  <tbody>\n",
       "    <tr>\n",
       "      <th>0</th>\n",
       "      <td>Francisco</td>\n",
       "      <td>Castro</td>\n",
       "      <td>Cano</td>\n",
       "      <td>H</td>\n",
       "      <td>Lérida</td>\n",
       "      <td>Lérida</td>\n",
       "      <td>8805982</td>\n",
       "      <td>H</td>\n",
       "      <td>6.0</td>\n",
       "      <td>Verde</td>\n",
       "    </tr>\n",
       "    <tr>\n",
       "      <th>1</th>\n",
       "      <td>Xavier</td>\n",
       "      <td>Gómez</td>\n",
       "      <td>Rendón</td>\n",
       "      <td>H</td>\n",
       "      <td>Córdoba</td>\n",
       "      <td>Córdoba</td>\n",
       "      <td>26616576</td>\n",
       "      <td>X</td>\n",
       "      <td>77.0</td>\n",
       "      <td>Azul</td>\n",
       "    </tr>\n",
       "    <tr>\n",
       "      <th>2</th>\n",
       "      <td>Carmen</td>\n",
       "      <td>Vázquez</td>\n",
       "      <td>Trenado</td>\n",
       "      <td>M</td>\n",
       "      <td>Sabadell</td>\n",
       "      <td>Barcelona</td>\n",
       "      <td>47915145</td>\n",
       "      <td>NaN</td>\n",
       "      <td>NaN</td>\n",
       "      <td>Rojo</td>\n",
       "    </tr>\n",
       "    <tr>\n",
       "      <th>4</th>\n",
       "      <td>Manuel</td>\n",
       "      <td>López</td>\n",
       "      <td>Martínez</td>\n",
       "      <td>H</td>\n",
       "      <td>Palma de Mallorca</td>\n",
       "      <td>Islas Baleares</td>\n",
       "      <td>54999682</td>\n",
       "      <td>N</td>\n",
       "      <td>28.0</td>\n",
       "      <td>Amarillo</td>\n",
       "    </tr>\n",
       "    <tr>\n",
       "      <th>5</th>\n",
       "      <td>María Dolores</td>\n",
       "      <td>Sánchez</td>\n",
       "      <td>Fernández</td>\n",
       "      <td>NaN</td>\n",
       "      <td>Alhaurín de la Torre</td>\n",
       "      <td>Málaga</td>\n",
       "      <td>11050962</td>\n",
       "      <td>Z</td>\n",
       "      <td>7.0</td>\n",
       "      <td>Verde</td>\n",
       "    </tr>\n",
       "  </tbody>\n",
       "</table>\n",
       "</div>"
      ],
      "text/plain": [
       "          Nombre Apellido 1 Apellido 2 Sexo             Municipio  \\\n",
       "0      Francisco     Castro       Cano    H                Lérida   \n",
       "1         Xavier      Gómez     Rendón    H               Córdoba   \n",
       "2         Carmen    Vázquez    Trenado    M              Sabadell   \n",
       "4         Manuel      López   Martínez    H     Palma de Mallorca   \n",
       "5  María Dolores    Sánchez  Fernández  NaN  Alhaurín de la Torre   \n",
       "\n",
       "        Provincia       DNI  NIF  Edad ColorFavorito  \n",
       "0          Lérida   8805982    H   6.0         Verde  \n",
       "1         Córdoba  26616576    X  77.0          Azul  \n",
       "2       Barcelona  47915145  NaN   NaN          Rojo  \n",
       "4  Islas Baleares  54999682    N  28.0      Amarillo  \n",
       "5          Málaga  11050962    Z   7.0         Verde  "
      ]
     },
     "execution_count": 17,
     "metadata": {},
     "output_type": "execute_result"
    }
   ],
   "source": [
    "df[df['Municipio'].str.contains('a', na=False)].head() # Municipios cuyo nombre contiene una 'a'"
   ]
  },
  {
   "cell_type": "markdown",
   "metadata": {},
   "source": [
    "Las máscaras se pueden aplicar de forma combinada utilizando operadores binarios. Por ejemplo para combinar (AND) dos máscaras a la vez:"
   ]
  },
  {
   "cell_type": "code",
   "execution_count": 18,
   "metadata": {
    "ExecuteTime": {
     "end_time": "2019-11-02T17:17:58.580079Z",
     "start_time": "2019-11-02T17:17:58.576096Z"
    }
   },
   "outputs": [],
   "source": [
    "df_mask_municipio_y_nombre = (df['Municipio'].isin(['Lérida', 'Sabadell']) & df['Nombre'].str.contains('C'))"
   ]
  },
  {
   "cell_type": "code",
   "execution_count": 19,
   "metadata": {
    "ExecuteTime": {
     "end_time": "2019-11-02T17:17:58.593890Z",
     "start_time": "2019-11-02T17:17:58.581420Z"
    }
   },
   "outputs": [
    {
     "data": {
      "text/html": [
       "<div>\n",
       "<style scoped>\n",
       "    .dataframe tbody tr th:only-of-type {\n",
       "        vertical-align: middle;\n",
       "    }\n",
       "\n",
       "    .dataframe tbody tr th {\n",
       "        vertical-align: top;\n",
       "    }\n",
       "\n",
       "    .dataframe thead th {\n",
       "        text-align: right;\n",
       "    }\n",
       "</style>\n",
       "<table border=\"1\" class=\"dataframe\">\n",
       "  <thead>\n",
       "    <tr style=\"text-align: right;\">\n",
       "      <th></th>\n",
       "      <th>Nombre</th>\n",
       "      <th>Apellido 1</th>\n",
       "      <th>Apellido 2</th>\n",
       "      <th>Sexo</th>\n",
       "      <th>Municipio</th>\n",
       "      <th>Provincia</th>\n",
       "      <th>DNI</th>\n",
       "      <th>NIF</th>\n",
       "      <th>Edad</th>\n",
       "      <th>ColorFavorito</th>\n",
       "    </tr>\n",
       "  </thead>\n",
       "  <tbody>\n",
       "    <tr>\n",
       "      <th>2</th>\n",
       "      <td>Carmen</td>\n",
       "      <td>Vázquez</td>\n",
       "      <td>Trenado</td>\n",
       "      <td>M</td>\n",
       "      <td>Sabadell</td>\n",
       "      <td>Barcelona</td>\n",
       "      <td>47915145</td>\n",
       "      <td>NaN</td>\n",
       "      <td>NaN</td>\n",
       "      <td>Rojo</td>\n",
       "    </tr>\n",
       "  </tbody>\n",
       "</table>\n",
       "</div>"
      ],
      "text/plain": [
       "   Nombre Apellido 1 Apellido 2 Sexo Municipio  Provincia       DNI  NIF  \\\n",
       "2  Carmen    Vázquez    Trenado    M  Sabadell  Barcelona  47915145  NaN   \n",
       "\n",
       "   Edad ColorFavorito  \n",
       "2   NaN          Rojo  "
      ]
     },
     "execution_count": 19,
     "metadata": {},
     "output_type": "execute_result"
    }
   ],
   "source": [
    "df[df_mask_municipio_y_nombre]"
   ]
  },
  {
   "cell_type": "markdown",
   "metadata": {},
   "source": [
    "## Aplicación de filtros\n",
    "Probablemente una de las funciones más utilizadas en pandas en la función `apply` que nos permite ejecutar una función arbitraria a un dataframe.\n",
    "\n",
    "Por ejemplo, si creamos un dataframe con los siguientes valores:"
   ]
  },
  {
   "cell_type": "code",
   "execution_count": 20,
   "metadata": {
    "ExecuteTime": {
     "end_time": "2019-11-02T17:17:58.603812Z",
     "start_time": "2019-11-02T17:17:58.595208Z"
    }
   },
   "outputs": [
    {
     "data": {
      "text/html": [
       "<div>\n",
       "<style scoped>\n",
       "    .dataframe tbody tr th:only-of-type {\n",
       "        vertical-align: middle;\n",
       "    }\n",
       "\n",
       "    .dataframe tbody tr th {\n",
       "        vertical-align: top;\n",
       "    }\n",
       "\n",
       "    .dataframe thead th {\n",
       "        text-align: right;\n",
       "    }\n",
       "</style>\n",
       "<table border=\"1\" class=\"dataframe\">\n",
       "  <thead>\n",
       "    <tr style=\"text-align: right;\">\n",
       "      <th></th>\n",
       "      <th>X</th>\n",
       "      <th>Y</th>\n",
       "    </tr>\n",
       "  </thead>\n",
       "  <tbody>\n",
       "    <tr>\n",
       "      <th>0</th>\n",
       "      <td>2</td>\n",
       "      <td>1</td>\n",
       "    </tr>\n",
       "    <tr>\n",
       "      <th>1</th>\n",
       "      <td>4</td>\n",
       "      <td>3</td>\n",
       "    </tr>\n",
       "    <tr>\n",
       "      <th>2</th>\n",
       "      <td>5</td>\n",
       "      <td>5</td>\n",
       "    </tr>\n",
       "  </tbody>\n",
       "</table>\n",
       "</div>"
      ],
      "text/plain": [
       "   X  Y\n",
       "0  2  1\n",
       "1  4  3\n",
       "2  5  5"
      ]
     },
     "execution_count": 20,
     "metadata": {},
     "output_type": "execute_result"
    }
   ],
   "source": [
    "valores = {'X' : [2, 4, 5], 'Y' : [1, 3, 5]}\n",
    "df2 = pd.DataFrame.from_dict(valores)\n",
    "df2.head()"
   ]
  },
  {
   "cell_type": "markdown",
   "metadata": {},
   "source": [
    "Podemos utilizar la función `apply` con la función `np.sqrt` para aplicarlo elemento a elemento:"
   ]
  },
  {
   "cell_type": "code",
   "execution_count": 21,
   "metadata": {
    "ExecuteTime": {
     "end_time": "2019-11-02T17:17:58.612384Z",
     "start_time": "2019-11-02T17:17:58.605265Z"
    }
   },
   "outputs": [
    {
     "data": {
      "text/html": [
       "<div>\n",
       "<style scoped>\n",
       "    .dataframe tbody tr th:only-of-type {\n",
       "        vertical-align: middle;\n",
       "    }\n",
       "\n",
       "    .dataframe tbody tr th {\n",
       "        vertical-align: top;\n",
       "    }\n",
       "\n",
       "    .dataframe thead th {\n",
       "        text-align: right;\n",
       "    }\n",
       "</style>\n",
       "<table border=\"1\" class=\"dataframe\">\n",
       "  <thead>\n",
       "    <tr style=\"text-align: right;\">\n",
       "      <th></th>\n",
       "      <th>X</th>\n",
       "      <th>Y</th>\n",
       "    </tr>\n",
       "  </thead>\n",
       "  <tbody>\n",
       "    <tr>\n",
       "      <th>0</th>\n",
       "      <td>1.414214</td>\n",
       "      <td>1.000000</td>\n",
       "    </tr>\n",
       "    <tr>\n",
       "      <th>1</th>\n",
       "      <td>2.000000</td>\n",
       "      <td>1.732051</td>\n",
       "    </tr>\n",
       "    <tr>\n",
       "      <th>2</th>\n",
       "      <td>2.236068</td>\n",
       "      <td>2.236068</td>\n",
       "    </tr>\n",
       "  </tbody>\n",
       "</table>\n",
       "</div>"
      ],
      "text/plain": [
       "          X         Y\n",
       "0  1.414214  1.000000\n",
       "1  2.000000  1.732051\n",
       "2  2.236068  2.236068"
      ]
     },
     "execution_count": 21,
     "metadata": {},
     "output_type": "execute_result"
    }
   ],
   "source": [
    "df2.apply(np.sqrt)"
   ]
  },
  {
   "cell_type": "markdown",
   "metadata": {},
   "source": [
    "También podemos utilizar nuestra propia función:"
   ]
  },
  {
   "cell_type": "code",
   "execution_count": 22,
   "metadata": {
    "ExecuteTime": {
     "end_time": "2019-11-02T17:17:58.638696Z",
     "start_time": "2019-11-02T17:17:58.613905Z"
    }
   },
   "outputs": [
    {
     "data": {
      "text/html": [
       "<div>\n",
       "<style scoped>\n",
       "    .dataframe tbody tr th:only-of-type {\n",
       "        vertical-align: middle;\n",
       "    }\n",
       "\n",
       "    .dataframe tbody tr th {\n",
       "        vertical-align: top;\n",
       "    }\n",
       "\n",
       "    .dataframe thead th {\n",
       "        text-align: right;\n",
       "    }\n",
       "</style>\n",
       "<table border=\"1\" class=\"dataframe\">\n",
       "  <thead>\n",
       "    <tr style=\"text-align: right;\">\n",
       "      <th></th>\n",
       "      <th>X</th>\n",
       "      <th>Y</th>\n",
       "    </tr>\n",
       "  </thead>\n",
       "  <tbody>\n",
       "    <tr>\n",
       "      <th>0</th>\n",
       "      <td>4</td>\n",
       "      <td>1</td>\n",
       "    </tr>\n",
       "    <tr>\n",
       "      <th>1</th>\n",
       "      <td>16</td>\n",
       "      <td>9</td>\n",
       "    </tr>\n",
       "    <tr>\n",
       "      <th>2</th>\n",
       "      <td>25</td>\n",
       "      <td>25</td>\n",
       "    </tr>\n",
       "  </tbody>\n",
       "</table>\n",
       "</div>"
      ],
      "text/plain": [
       "    X   Y\n",
       "0   4   1\n",
       "1  16   9\n",
       "2  25  25"
      ]
     },
     "execution_count": 22,
     "metadata": {},
     "output_type": "execute_result"
    }
   ],
   "source": [
    "def eleva_al_cuadrado(valor):\n",
    "    return valor*valor\n",
    "\n",
    "df2.apply(eleva_al_cuadrado)"
   ]
  },
  {
   "cell_type": "markdown",
   "metadata": {},
   "source": [
    "Además, con `apply`, podemos aplicar funciones a nivel de columna:"
   ]
  },
  {
   "cell_type": "code",
   "execution_count": 23,
   "metadata": {
    "ExecuteTime": {
     "end_time": "2019-11-02T17:17:58.644991Z",
     "start_time": "2019-11-02T17:17:58.640006Z"
    }
   },
   "outputs": [
    {
     "data": {
      "text/plain": [
       "X    11\n",
       "Y     9\n",
       "dtype: int64"
      ]
     },
     "execution_count": 23,
     "metadata": {},
     "output_type": "execute_result"
    }
   ],
   "source": [
    "df2.apply(np.sum)"
   ]
  },
  {
   "cell_type": "markdown",
   "metadata": {},
   "source": [
    "Si pasamos el parámetro `axis=0`, podemos aplicar a nivel de fila:"
   ]
  },
  {
   "cell_type": "code",
   "execution_count": 24,
   "metadata": {
    "ExecuteTime": {
     "end_time": "2019-11-02T17:17:58.652564Z",
     "start_time": "2019-11-02T17:17:58.646543Z"
    }
   },
   "outputs": [
    {
     "data": {
      "text/plain": [
       "0     3\n",
       "1     7\n",
       "2    10\n",
       "dtype: int64"
      ]
     },
     "execution_count": 24,
     "metadata": {},
     "output_type": "execute_result"
    }
   ],
   "source": [
    "df2.apply(np.sum, axis=1)"
   ]
  },
  {
   "cell_type": "markdown",
   "metadata": {},
   "source": [
    "Aunque puede parecer muy potente e intuitivo, se aconseja evitar el comando `apply` siempre que sea posible y utilizar funciones nativas de pandas. Por ejemplo, para la suma:"
   ]
  },
  {
   "cell_type": "code",
   "execution_count": 25,
   "metadata": {
    "ExecuteTime": {
     "end_time": "2019-11-02T17:17:58.659017Z",
     "start_time": "2019-11-02T17:17:58.654076Z"
    }
   },
   "outputs": [
    {
     "data": {
      "text/plain": [
       "X    11\n",
       "Y     9\n",
       "dtype: int64"
      ]
     },
     "execution_count": 25,
     "metadata": {},
     "output_type": "execute_result"
    }
   ],
   "source": [
    "df2.sum()"
   ]
  },
  {
   "cell_type": "code",
   "execution_count": 26,
   "metadata": {
    "ExecuteTime": {
     "end_time": "2019-11-02T17:17:58.668067Z",
     "start_time": "2019-11-02T17:17:58.662199Z"
    }
   },
   "outputs": [
    {
     "data": {
      "text/plain": [
       "0     3\n",
       "1     7\n",
       "2    10\n",
       "dtype: int64"
      ]
     },
     "execution_count": 26,
     "metadata": {},
     "output_type": "execute_result"
    }
   ],
   "source": [
    "df2.sum(axis=1)"
   ]
  },
  {
   "cell_type": "markdown",
   "metadata": {},
   "source": [
    "De esta última manera la operación se vectoriza y termina mucho más rápido que `apply` que lo realiza de manera iterativa"
   ]
  },
  {
   "cell_type": "code",
   "execution_count": 27,
   "metadata": {
    "ExecuteTime": {
     "end_time": "2019-11-02T17:18:11.272872Z",
     "start_time": "2019-11-02T17:17:58.670230Z"
    }
   },
   "outputs": [
    {
     "name": "stdout",
     "output_type": "stream",
     "text": [
      "142 µs ± 9.6 µs per loop (mean ± std. dev. of 7 runs, 10000 loops each)\n"
     ]
    }
   ],
   "source": [
    "%timeit df2.sum()"
   ]
  },
  {
   "cell_type": "code",
   "execution_count": 28,
   "metadata": {
    "ExecuteTime": {
     "end_time": "2019-11-02T17:18:18.152733Z",
     "start_time": "2019-11-02T17:18:11.275089Z"
    }
   },
   "outputs": [
    {
     "name": "stdout",
     "output_type": "stream",
     "text": [
      "757 µs ± 57.3 µs per loop (mean ± std. dev. of 7 runs, 1000 loops each)\n"
     ]
    }
   ],
   "source": [
    "%timeit df2.apply(np.sum)"
   ]
  },
  {
   "cell_type": "markdown",
   "metadata": {},
   "source": [
    "### Creación de columnas nuevas\n",
    "\n",
    "La creación de columnas complementarias nos ayuda a entender los datos de una forma más resumida. También es importante tener esta técnica a la hora de trabajar con algoritmos, puesto que muchas veces si a un algoritmo le damos la información masticada podrá entender mejor el dataset. Esto es conocido como **feature engineering**.\n",
    "\n",
    "En este caso, vamos a convertir una variable continua en una categórica, un caso clásico muy utilizado tanto para visualización como para preprocesamiento de datos previo al entrenamiento de un algoritmo."
   ]
  },
  {
   "cell_type": "code",
   "execution_count": 29,
   "metadata": {},
   "outputs": [],
   "source": [
    "def columna_edad_categorica(valor):\n",
    "    if np.isnan(valor):\n",
    "        return valor\n",
    "    \n",
    "    if valor <= 18:\n",
    "        return 'J'\n",
    "    elif valor > 18 and valor <= 65:\n",
    "        return 'M'\n",
    "    else:\n",
    "        return 'V'"
   ]
  },
  {
   "cell_type": "code",
   "execution_count": 30,
   "metadata": {
    "scrolled": true
   },
   "outputs": [
    {
     "data": {
      "text/plain": [
       "0      J\n",
       "1      V\n",
       "2    NaN\n",
       "3      M\n",
       "4      M\n",
       "Name: Edad_Categorica, dtype: object"
      ]
     },
     "execution_count": 30,
     "metadata": {},
     "output_type": "execute_result"
    }
   ],
   "source": [
    "df['Edad_Categorica'] = df['Edad'].apply(columna_edad_categorica)\n",
    "df['Edad_Categorica'].head()"
   ]
  },
  {
   "cell_type": "markdown",
   "metadata": {},
   "source": [
    "## Generación de datos ficticios\n",
    "Para generar fuentes de datos ficticias vamos a usar `faker` (https://faker.readthedocs.io/en/master/) que es un paquete python que nos permite generar aleatoriamente tipos de datos.\n",
    "\n",
    "Esta paquete no viene por defecto en anaconda, pero podemos instalarlo fácilmente con el comando `conda install -c conda-forge faker`:\n",
    "\n",
    "* En Linux lo ejecutamos directamente desde la terminal\n",
    "* En Windows abriremos Anaconda Navigator -> Environments -> (seleccionamos el entorno que estemos usando) -> Simbolo de 'Play' -> Open Terminal\n",
    "\n",
    "Una vez instalado podemos cargarlo de la siguiente manera:"
   ]
  },
  {
   "cell_type": "code",
   "execution_count": 31,
   "metadata": {
    "ExecuteTime": {
     "end_time": "2019-11-02T17:18:18.187892Z",
     "start_time": "2019-11-02T17:18:18.155094Z"
    }
   },
   "outputs": [],
   "source": [
    "from faker import Faker"
   ]
  },
  {
   "cell_type": "markdown",
   "metadata": {},
   "source": [
    "Una vez cargado el paquete debemos instanciarlo, para ello debemos proveerle a faker el locale (idioma y población) con el que vamos a trabajar. En este caso vamos a trabajar con Español de España `es_ES`."
   ]
  },
  {
   "cell_type": "code",
   "execution_count": 32,
   "metadata": {
    "ExecuteTime": {
     "end_time": "2019-11-02T17:18:18.209814Z",
     "start_time": "2019-11-02T17:18:18.191036Z"
    }
   },
   "outputs": [],
   "source": [
    "fake = Faker('es_ES')"
   ]
  },
  {
   "cell_type": "markdown",
   "metadata": {},
   "source": [
    "Una vez instanciado faker, es muy sencilla su utilización. Simplemente sobre el objeto `fake` podemos aplicar varios commandos como:"
   ]
  },
  {
   "cell_type": "code",
   "execution_count": 33,
   "metadata": {
    "ExecuteTime": {
     "end_time": "2019-11-02T17:18:18.214556Z",
     "start_time": "2019-11-02T17:18:18.211205Z"
    }
   },
   "outputs": [
    {
     "data": {
      "text/plain": [
       "'Luisa Roldán Pastor'"
      ]
     },
     "execution_count": 33,
     "metadata": {},
     "output_type": "execute_result"
    }
   ],
   "source": [
    "fake.name()"
   ]
  },
  {
   "cell_type": "code",
   "execution_count": 34,
   "metadata": {
    "ExecuteTime": {
     "end_time": "2019-11-02T17:18:18.219978Z",
     "start_time": "2019-11-02T17:18:18.215811Z"
    }
   },
   "outputs": [
    {
     "data": {
      "text/plain": [
       "'Calle Nicolás Alcázar 102 Apt. 89 \\nCeuta, 86118'"
      ]
     },
     "execution_count": 34,
     "metadata": {},
     "output_type": "execute_result"
    }
   ],
   "source": [
    "fake.address()"
   ]
  },
  {
   "cell_type": "code",
   "execution_count": 35,
   "metadata": {
    "ExecuteTime": {
     "end_time": "2019-11-02T17:18:18.227540Z",
     "start_time": "2019-11-02T17:18:18.222548Z"
    }
   },
   "outputs": [
    {
     "data": {
      "text/plain": [
       "'Ratione inventore aut sunt dolorum. Quia iusto totam nisi voluptates aspernatur quas. Rerum eveniet porro quae.'"
      ]
     },
     "execution_count": 35,
     "metadata": {},
     "output_type": "execute_result"
    }
   ],
   "source": [
    "fake.text()"
   ]
  },
  {
   "cell_type": "markdown",
   "metadata": {},
   "source": [
    "Adicionalmente a los métodos anteriores `faker` proporciona muchas más funciones, pero éstas se utilizan en base a `providers` que son contenedores que aglutinan grupos de funciones.\n",
    "\n",
    "Para poder consultar la lista de proveedores disponibles en https://faker.readthedocs.io/en/latest/providers.html \n",
    "\n",
    "Nosotros vamos a probar el proveedor `faker.providers.internet` que nos permite generar `ips`, `emails` y otros tipos de datos interesantes en internet."
   ]
  },
  {
   "cell_type": "code",
   "execution_count": 36,
   "metadata": {
    "ExecuteTime": {
     "end_time": "2019-11-02T17:18:18.232559Z",
     "start_time": "2019-11-02T17:18:18.229282Z"
    }
   },
   "outputs": [],
   "source": [
    "from faker.providers import internet"
   ]
  },
  {
   "cell_type": "code",
   "execution_count": 37,
   "metadata": {
    "ExecuteTime": {
     "end_time": "2019-11-02T17:18:18.239810Z",
     "start_time": "2019-11-02T17:18:18.234553Z"
    }
   },
   "outputs": [
    {
     "data": {
      "text/plain": [
       "'jose-mariamalo@yahoo.com'"
      ]
     },
     "execution_count": 37,
     "metadata": {},
     "output_type": "execute_result"
    }
   ],
   "source": [
    "fake.email()"
   ]
  },
  {
   "cell_type": "code",
   "execution_count": 38,
   "metadata": {
    "ExecuteTime": {
     "end_time": "2019-11-02T17:18:18.249323Z",
     "start_time": "2019-11-02T17:18:18.243159Z"
    }
   },
   "outputs": [
    {
     "data": {
      "text/plain": [
       "'carballomarc@yahoo.com'"
      ]
     },
     "execution_count": 38,
     "metadata": {},
     "output_type": "execute_result"
    }
   ],
   "source": [
    "fake.free_email()"
   ]
  },
  {
   "cell_type": "code",
   "execution_count": 39,
   "metadata": {
    "ExecuteTime": {
     "end_time": "2019-11-02T17:18:18.284531Z",
     "start_time": "2019-11-02T17:18:18.251837Z"
    }
   },
   "outputs": [
    {
     "data": {
      "text/plain": [
       "'207.128.90.251'"
      ]
     },
     "execution_count": 39,
     "metadata": {},
     "output_type": "execute_result"
    }
   ],
   "source": [
    "fake.ipv4()"
   ]
  },
  {
   "cell_type": "code",
   "execution_count": 40,
   "metadata": {
    "ExecuteTime": {
     "end_time": "2019-11-02T17:18:18.291955Z",
     "start_time": "2019-11-02T17:18:18.285881Z"
    }
   },
   "outputs": [
    {
     "data": {
      "text/plain": [
       "'http://bueno.info/'"
      ]
     },
     "execution_count": 40,
     "metadata": {},
     "output_type": "execute_result"
    }
   ],
   "source": [
    "fake.url()"
   ]
  },
  {
   "cell_type": "markdown",
   "metadata": {},
   "source": [
    "## Anonimización\n",
    "\n",
    "Anonimizar consiste en alterar un conjunto de datos de forma sea imposible identificar cada individuo del dataset, pero que las propiedades poblacionales del mismo se mantengan.\n",
    "\n",
    "Por ejemplo, vamos a anonimizar el dataset `df` para ello lo primero tenemos que identificar que campos o combinación de campos resultan sensibles:"
   ]
  },
  {
   "cell_type": "code",
   "execution_count": 41,
   "metadata": {
    "ExecuteTime": {
     "end_time": "2019-11-02T17:18:18.305934Z",
     "start_time": "2019-11-02T17:18:18.293567Z"
    }
   },
   "outputs": [
    {
     "data": {
      "text/html": [
       "<div>\n",
       "<style scoped>\n",
       "    .dataframe tbody tr th:only-of-type {\n",
       "        vertical-align: middle;\n",
       "    }\n",
       "\n",
       "    .dataframe tbody tr th {\n",
       "        vertical-align: top;\n",
       "    }\n",
       "\n",
       "    .dataframe thead th {\n",
       "        text-align: right;\n",
       "    }\n",
       "</style>\n",
       "<table border=\"1\" class=\"dataframe\">\n",
       "  <thead>\n",
       "    <tr style=\"text-align: right;\">\n",
       "      <th></th>\n",
       "      <th>Nombre</th>\n",
       "      <th>Apellido 1</th>\n",
       "      <th>Apellido 2</th>\n",
       "      <th>Sexo</th>\n",
       "      <th>Municipio</th>\n",
       "      <th>Provincia</th>\n",
       "      <th>DNI</th>\n",
       "      <th>NIF</th>\n",
       "      <th>Edad</th>\n",
       "      <th>ColorFavorito</th>\n",
       "      <th>Edad_Categorica</th>\n",
       "    </tr>\n",
       "  </thead>\n",
       "  <tbody>\n",
       "    <tr>\n",
       "      <th>0</th>\n",
       "      <td>Francisco</td>\n",
       "      <td>Castro</td>\n",
       "      <td>Cano</td>\n",
       "      <td>H</td>\n",
       "      <td>Lérida</td>\n",
       "      <td>Lérida</td>\n",
       "      <td>8805982</td>\n",
       "      <td>H</td>\n",
       "      <td>6.0</td>\n",
       "      <td>Verde</td>\n",
       "      <td>J</td>\n",
       "    </tr>\n",
       "    <tr>\n",
       "      <th>1</th>\n",
       "      <td>Xavier</td>\n",
       "      <td>Gómez</td>\n",
       "      <td>Rendón</td>\n",
       "      <td>H</td>\n",
       "      <td>Córdoba</td>\n",
       "      <td>Córdoba</td>\n",
       "      <td>26616576</td>\n",
       "      <td>X</td>\n",
       "      <td>77.0</td>\n",
       "      <td>Azul</td>\n",
       "      <td>V</td>\n",
       "    </tr>\n",
       "    <tr>\n",
       "      <th>2</th>\n",
       "      <td>Carmen</td>\n",
       "      <td>Vázquez</td>\n",
       "      <td>Trenado</td>\n",
       "      <td>M</td>\n",
       "      <td>Sabadell</td>\n",
       "      <td>Barcelona</td>\n",
       "      <td>47915145</td>\n",
       "      <td>NaN</td>\n",
       "      <td>NaN</td>\n",
       "      <td>Rojo</td>\n",
       "      <td>NaN</td>\n",
       "    </tr>\n",
       "    <tr>\n",
       "      <th>3</th>\n",
       "      <td>Anna</td>\n",
       "      <td>Alonso</td>\n",
       "      <td>López</td>\n",
       "      <td>M</td>\n",
       "      <td>NaN</td>\n",
       "      <td>Zaragoza</td>\n",
       "      <td>23362379</td>\n",
       "      <td>Z</td>\n",
       "      <td>24.0</td>\n",
       "      <td>Rojo</td>\n",
       "      <td>M</td>\n",
       "    </tr>\n",
       "    <tr>\n",
       "      <th>4</th>\n",
       "      <td>Manuel</td>\n",
       "      <td>López</td>\n",
       "      <td>Martínez</td>\n",
       "      <td>H</td>\n",
       "      <td>Palma de Mallorca</td>\n",
       "      <td>Islas Baleares</td>\n",
       "      <td>54999682</td>\n",
       "      <td>N</td>\n",
       "      <td>28.0</td>\n",
       "      <td>Amarillo</td>\n",
       "      <td>M</td>\n",
       "    </tr>\n",
       "  </tbody>\n",
       "</table>\n",
       "</div>"
      ],
      "text/plain": [
       "      Nombre Apellido 1 Apellido 2 Sexo          Municipio       Provincia  \\\n",
       "0  Francisco     Castro       Cano    H             Lérida          Lérida   \n",
       "1     Xavier      Gómez     Rendón    H            Córdoba         Córdoba   \n",
       "2     Carmen    Vázquez    Trenado    M           Sabadell       Barcelona   \n",
       "3       Anna     Alonso      López    M                NaN        Zaragoza   \n",
       "4     Manuel      López   Martínez    H  Palma de Mallorca  Islas Baleares   \n",
       "\n",
       "        DNI  NIF  Edad ColorFavorito Edad_Categorica  \n",
       "0   8805982    H   6.0         Verde               J  \n",
       "1  26616576    X  77.0          Azul               V  \n",
       "2  47915145  NaN   NaN          Rojo             NaN  \n",
       "3  23362379    Z  24.0          Rojo               M  \n",
       "4  54999682    N  28.0      Amarillo               M  "
      ]
     },
     "execution_count": 41,
     "metadata": {},
     "output_type": "execute_result"
    }
   ],
   "source": [
    "df.head()"
   ]
  },
  {
   "cell_type": "markdown",
   "metadata": {},
   "source": [
    "Como podemos ver, hay algunos campos que resultan claramente identificativos:\n",
    "* Nombre y apellidos de forma conjunta \n",
    "* DNI + NIF\n",
    "\n",
    "Para anonimizar el nombre y apellidos utilizaremos `faker`:"
   ]
  },
  {
   "cell_type": "code",
   "execution_count": 42,
   "metadata": {
    "ExecuteTime": {
     "end_time": "2019-11-02T17:18:18.380402Z",
     "start_time": "2019-11-02T17:18:18.308560Z"
    }
   },
   "outputs": [],
   "source": [
    "def anon_name(row):\n",
    "    if row['Sexo'] == 'H':\n",
    "        row['Nombre'] = fake.first_name_male()\n",
    "    elif row['Sexo'] == 'M':\n",
    "        row['Nombre'] = fake.first_name_female()\n",
    "    \n",
    "    row['Apellido 1'] = fake.last_name()\n",
    "    row['Apellido 2'] = fake.last_name()\n",
    "    return row\n",
    "\n",
    "df = df.apply(anon_name, axis=1)"
   ]
  },
  {
   "cell_type": "code",
   "execution_count": 43,
   "metadata": {
    "ExecuteTime": {
     "end_time": "2019-11-02T17:18:18.394820Z",
     "start_time": "2019-11-02T17:18:18.381869Z"
    }
   },
   "outputs": [
    {
     "data": {
      "text/html": [
       "<div>\n",
       "<style scoped>\n",
       "    .dataframe tbody tr th:only-of-type {\n",
       "        vertical-align: middle;\n",
       "    }\n",
       "\n",
       "    .dataframe tbody tr th {\n",
       "        vertical-align: top;\n",
       "    }\n",
       "\n",
       "    .dataframe thead th {\n",
       "        text-align: right;\n",
       "    }\n",
       "</style>\n",
       "<table border=\"1\" class=\"dataframe\">\n",
       "  <thead>\n",
       "    <tr style=\"text-align: right;\">\n",
       "      <th></th>\n",
       "      <th>Nombre</th>\n",
       "      <th>Apellido 1</th>\n",
       "      <th>Apellido 2</th>\n",
       "      <th>Sexo</th>\n",
       "      <th>Municipio</th>\n",
       "      <th>Provincia</th>\n",
       "      <th>DNI</th>\n",
       "      <th>NIF</th>\n",
       "      <th>Edad</th>\n",
       "      <th>ColorFavorito</th>\n",
       "      <th>Edad_Categorica</th>\n",
       "    </tr>\n",
       "  </thead>\n",
       "  <tbody>\n",
       "    <tr>\n",
       "      <th>0</th>\n",
       "      <td>Cesar</td>\n",
       "      <td>Hoyos</td>\n",
       "      <td>Tapia</td>\n",
       "      <td>H</td>\n",
       "      <td>Lérida</td>\n",
       "      <td>Lérida</td>\n",
       "      <td>8805982</td>\n",
       "      <td>H</td>\n",
       "      <td>6.0</td>\n",
       "      <td>Verde</td>\n",
       "      <td>J</td>\n",
       "    </tr>\n",
       "    <tr>\n",
       "      <th>1</th>\n",
       "      <td>Hector</td>\n",
       "      <td>Nuñez</td>\n",
       "      <td>Manrique</td>\n",
       "      <td>H</td>\n",
       "      <td>Córdoba</td>\n",
       "      <td>Córdoba</td>\n",
       "      <td>26616576</td>\n",
       "      <td>X</td>\n",
       "      <td>77.0</td>\n",
       "      <td>Azul</td>\n",
       "      <td>V</td>\n",
       "    </tr>\n",
       "    <tr>\n",
       "      <th>2</th>\n",
       "      <td>Amparo</td>\n",
       "      <td>Antón</td>\n",
       "      <td>Martí</td>\n",
       "      <td>M</td>\n",
       "      <td>Sabadell</td>\n",
       "      <td>Barcelona</td>\n",
       "      <td>47915145</td>\n",
       "      <td>NaN</td>\n",
       "      <td>NaN</td>\n",
       "      <td>Rojo</td>\n",
       "      <td>NaN</td>\n",
       "    </tr>\n",
       "    <tr>\n",
       "      <th>3</th>\n",
       "      <td>Rosa</td>\n",
       "      <td>Viana</td>\n",
       "      <td>Larrañaga</td>\n",
       "      <td>M</td>\n",
       "      <td>NaN</td>\n",
       "      <td>Zaragoza</td>\n",
       "      <td>23362379</td>\n",
       "      <td>Z</td>\n",
       "      <td>24.0</td>\n",
       "      <td>Rojo</td>\n",
       "      <td>M</td>\n",
       "    </tr>\n",
       "    <tr>\n",
       "      <th>4</th>\n",
       "      <td>Jose Ignacio</td>\n",
       "      <td>Pelayo</td>\n",
       "      <td>Reina</td>\n",
       "      <td>H</td>\n",
       "      <td>Palma de Mallorca</td>\n",
       "      <td>Islas Baleares</td>\n",
       "      <td>54999682</td>\n",
       "      <td>N</td>\n",
       "      <td>28.0</td>\n",
       "      <td>Amarillo</td>\n",
       "      <td>M</td>\n",
       "    </tr>\n",
       "  </tbody>\n",
       "</table>\n",
       "</div>"
      ],
      "text/plain": [
       "         Nombre Apellido 1 Apellido 2 Sexo          Municipio       Provincia  \\\n",
       "0         Cesar      Hoyos      Tapia    H             Lérida          Lérida   \n",
       "1        Hector      Nuñez   Manrique    H            Córdoba         Córdoba   \n",
       "2        Amparo      Antón      Martí    M           Sabadell       Barcelona   \n",
       "3          Rosa      Viana  Larrañaga    M                NaN        Zaragoza   \n",
       "4  Jose Ignacio     Pelayo      Reina    H  Palma de Mallorca  Islas Baleares   \n",
       "\n",
       "        DNI  NIF  Edad ColorFavorito Edad_Categorica  \n",
       "0   8805982    H   6.0         Verde               J  \n",
       "1  26616576    X  77.0          Azul               V  \n",
       "2  47915145  NaN   NaN          Rojo             NaN  \n",
       "3  23362379    Z  24.0          Rojo               M  \n",
       "4  54999682    N  28.0      Amarillo               M  "
      ]
     },
     "execution_count": 43,
     "metadata": {},
     "output_type": "execute_result"
    }
   ],
   "source": [
    "df.head()"
   ]
  },
  {
   "cell_type": "markdown",
   "metadata": {},
   "source": [
    "Y haremos lo propio con los DNIs. En este caso es un poco más complicado, porque"
   ]
  },
  {
   "cell_type": "code",
   "execution_count": 44,
   "metadata": {
    "ExecuteTime": {
     "end_time": "2019-11-02T17:18:18.427956Z",
     "start_time": "2019-11-02T17:18:18.396299Z"
    }
   },
   "outputs": [
    {
     "data": {
      "text/html": [
       "<div>\n",
       "<style scoped>\n",
       "    .dataframe tbody tr th:only-of-type {\n",
       "        vertical-align: middle;\n",
       "    }\n",
       "\n",
       "    .dataframe tbody tr th {\n",
       "        vertical-align: top;\n",
       "    }\n",
       "\n",
       "    .dataframe thead th {\n",
       "        text-align: right;\n",
       "    }\n",
       "</style>\n",
       "<table border=\"1\" class=\"dataframe\">\n",
       "  <thead>\n",
       "    <tr style=\"text-align: right;\">\n",
       "      <th></th>\n",
       "      <th>Nombre</th>\n",
       "      <th>Apellido 1</th>\n",
       "      <th>Apellido 2</th>\n",
       "      <th>Sexo</th>\n",
       "      <th>Municipio</th>\n",
       "      <th>Provincia</th>\n",
       "      <th>DNI</th>\n",
       "      <th>NIF</th>\n",
       "      <th>Edad</th>\n",
       "      <th>ColorFavorito</th>\n",
       "      <th>Edad_Categorica</th>\n",
       "    </tr>\n",
       "  </thead>\n",
       "  <tbody>\n",
       "    <tr>\n",
       "      <th>0</th>\n",
       "      <td>Cesar</td>\n",
       "      <td>Hoyos</td>\n",
       "      <td>Tapia</td>\n",
       "      <td>H</td>\n",
       "      <td>Lérida</td>\n",
       "      <td>Lérida</td>\n",
       "      <td>38201193</td>\n",
       "      <td>H</td>\n",
       "      <td>6.0</td>\n",
       "      <td>Verde</td>\n",
       "      <td>J</td>\n",
       "    </tr>\n",
       "    <tr>\n",
       "      <th>1</th>\n",
       "      <td>Hector</td>\n",
       "      <td>Nuñez</td>\n",
       "      <td>Manrique</td>\n",
       "      <td>H</td>\n",
       "      <td>Córdoba</td>\n",
       "      <td>Córdoba</td>\n",
       "      <td>88867605</td>\n",
       "      <td>X</td>\n",
       "      <td>77.0</td>\n",
       "      <td>Azul</td>\n",
       "      <td>V</td>\n",
       "    </tr>\n",
       "    <tr>\n",
       "      <th>2</th>\n",
       "      <td>Amparo</td>\n",
       "      <td>Antón</td>\n",
       "      <td>Martí</td>\n",
       "      <td>M</td>\n",
       "      <td>Sabadell</td>\n",
       "      <td>Barcelona</td>\n",
       "      <td>38301221</td>\n",
       "      <td>NaN</td>\n",
       "      <td>NaN</td>\n",
       "      <td>Rojo</td>\n",
       "      <td>NaN</td>\n",
       "    </tr>\n",
       "    <tr>\n",
       "      <th>3</th>\n",
       "      <td>Rosa</td>\n",
       "      <td>Viana</td>\n",
       "      <td>Larrañaga</td>\n",
       "      <td>M</td>\n",
       "      <td>NaN</td>\n",
       "      <td>Zaragoza</td>\n",
       "      <td>54231766</td>\n",
       "      <td>Z</td>\n",
       "      <td>24.0</td>\n",
       "      <td>Rojo</td>\n",
       "      <td>M</td>\n",
       "    </tr>\n",
       "    <tr>\n",
       "      <th>4</th>\n",
       "      <td>Jose Ignacio</td>\n",
       "      <td>Pelayo</td>\n",
       "      <td>Reina</td>\n",
       "      <td>H</td>\n",
       "      <td>Palma de Mallorca</td>\n",
       "      <td>Islas Baleares</td>\n",
       "      <td>59538561</td>\n",
       "      <td>N</td>\n",
       "      <td>28.0</td>\n",
       "      <td>Amarillo</td>\n",
       "      <td>M</td>\n",
       "    </tr>\n",
       "  </tbody>\n",
       "</table>\n",
       "</div>"
      ],
      "text/plain": [
       "         Nombre Apellido 1 Apellido 2 Sexo          Municipio       Provincia  \\\n",
       "0         Cesar      Hoyos      Tapia    H             Lérida          Lérida   \n",
       "1        Hector      Nuñez   Manrique    H            Córdoba         Córdoba   \n",
       "2        Amparo      Antón      Martí    M           Sabadell       Barcelona   \n",
       "3          Rosa      Viana  Larrañaga    M                NaN        Zaragoza   \n",
       "4  Jose Ignacio     Pelayo      Reina    H  Palma de Mallorca  Islas Baleares   \n",
       "\n",
       "        DNI  NIF  Edad ColorFavorito Edad_Categorica  \n",
       "0  38201193    H   6.0         Verde               J  \n",
       "1  88867605    X  77.0          Azul               V  \n",
       "2  38301221  NaN   NaN          Rojo             NaN  \n",
       "3  54231766    Z  24.0          Rojo               M  \n",
       "4  59538561    N  28.0      Amarillo               M  "
      ]
     },
     "execution_count": 44,
     "metadata": {},
     "output_type": "execute_result"
    }
   ],
   "source": [
    "def anon_dni(row):\n",
    "    row['DNI'] = fake.numerify(text=\"########\")\n",
    "    return row\n",
    "\n",
    "df = df.apply(anon_dni, axis=1)\n",
    "df.head()"
   ]
  },
  {
   "cell_type": "markdown",
   "metadata": {},
   "source": [
    "### Barajado de datos\n",
    "\n",
    "Una estrategia habitual en la anonimización es el barajado de datos que consiste en desordenar los valores de las columnas. Si el dataset es suficientemente grande y la columna no es identificativa individualmente, esta técnica puede dar buenos resultados.\n",
    "\n",
    "Para barajar los datos lo podemos hacer con el método 'np.random.shuffle'. Es importante destacar que este método, realiza modificaciones `in place` sobre los datos. Por lo que tendremos que convertir a lista nuestros datos de forma intermedia."
   ]
  },
  {
   "cell_type": "code",
   "execution_count": 45,
   "metadata": {
    "ExecuteTime": {
     "end_time": "2019-11-02T17:18:18.431920Z",
     "start_time": "2019-11-02T17:18:18.429232Z"
    }
   },
   "outputs": [],
   "source": [
    "def baraja_columna(df, nombre_columna):\n",
    "    temp = list(df[nombre_columna])\n",
    "    np.random.shuffle(temp)\n",
    "    df[nombre_columna] = temp\n",
    "    return df"
   ]
  },
  {
   "cell_type": "code",
   "execution_count": 46,
   "metadata": {
    "ExecuteTime": {
     "end_time": "2019-11-02T17:18:18.439583Z",
     "start_time": "2019-11-02T17:18:18.433136Z"
    },
    "scrolled": true
   },
   "outputs": [
    {
     "data": {
      "text/plain": [
       "0       Verde\n",
       "1        Azul\n",
       "2        Rojo\n",
       "3        Rojo\n",
       "4    Amarillo\n",
       "Name: ColorFavorito, dtype: object"
      ]
     },
     "execution_count": 46,
     "metadata": {},
     "output_type": "execute_result"
    }
   ],
   "source": [
    "df['ColorFavorito'].head()"
   ]
  },
  {
   "cell_type": "code",
   "execution_count": 47,
   "metadata": {
    "ExecuteTime": {
     "end_time": "2019-11-02T17:18:18.447826Z",
     "start_time": "2019-11-02T17:18:18.443700Z"
    }
   },
   "outputs": [],
   "source": [
    "df = baraja_columna(df, 'ColorFavorito')"
   ]
  },
  {
   "cell_type": "code",
   "execution_count": 48,
   "metadata": {
    "ExecuteTime": {
     "end_time": "2019-11-02T17:18:18.458428Z",
     "start_time": "2019-11-02T17:18:18.449391Z"
    }
   },
   "outputs": [
    {
     "data": {
      "text/plain": [
       "0      Verde\n",
       "1      Verde\n",
       "2      Verde\n",
       "3    Fucshia\n",
       "4       Rojo\n",
       "Name: ColorFavorito, dtype: object"
      ]
     },
     "execution_count": 48,
     "metadata": {},
     "output_type": "execute_result"
    }
   ],
   "source": [
    "df['ColorFavorito'].head()"
   ]
  },
  {
   "cell_type": "markdown",
   "metadata": {},
   "source": [
    "## Quizz\n",
    "\n",
    "* ¿Es suficiente hacer una conversión de caracteres para anonimizar?\n",
    "* ¿Es posible anonimizar cualquier tipo de datos?\n",
    "* Se te ocurre algún criterio, para garantizar que un dataset es \"anónimo\".\n",
    "* Lectura opcional: https://www.wired.com/2007/12/why-anonymous-data-sometimes-isnt/"
   ]
  },
  {
   "cell_type": "code",
   "execution_count": null,
   "metadata": {},
   "outputs": [],
   "source": []
  }
 ],
 "metadata": {
  "anaconda-cloud": {},
  "kernelspec": {
   "display_name": "Python 3",
   "language": "python",
   "name": "python3"
  },
  "language_info": {
   "codemirror_mode": {
    "name": "ipython",
    "version": 3
   },
   "file_extension": ".py",
   "mimetype": "text/x-python",
   "name": "python",
   "nbconvert_exporter": "python",
   "pygments_lexer": "ipython3",
   "version": "3.7.4"
  },
  "toc": {
   "base_numbering": 1,
   "nav_menu": {},
   "number_sections": true,
   "sideBar": true,
   "skip_h1_title": false,
   "title_cell": "Table of Contents",
   "title_sidebar": "Contents",
   "toc_cell": false,
   "toc_position": {},
   "toc_section_display": true,
   "toc_window_display": false
  }
 },
 "nbformat": 4,
 "nbformat_minor": 4
}

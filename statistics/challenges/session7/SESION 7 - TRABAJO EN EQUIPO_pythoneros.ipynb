{
 "cells": [
  {
   "attachments": {
    "image.png": {
     "image/png": "[encoded data removed]"
    }
   },
   "cell_type": "markdown",
   "metadata": {},
   "source": [
    "![image.png](attachment:image.png)\n",
    "# EJERCICIOS TRABAJO EN EQUIPO\n",
    "Los alumnos, por grupo, deberán entregar, una challenge, de nombre SESION 7 - TRABAJO EN EQUIPO(nombre equipo),  por cada grupo. Se usará para su resolución Python.\n",
    "\n",
    "*Nombre Equipo*:\n",
    "\n",
    "Miembros del equipo:\n",
    ">"
   ]
  },
  {
   "cell_type": "markdown",
   "metadata": {},
   "source": [
    "# Ejercicio 1 \n",
    "\n",
    "\n",
    "Se pretende averiguar si el número de días de recuperación de un enfermo, después de una operación, depende del tipo de rehabilitación que siguen los enfermos. \n",
    "\n",
    "Para tres tipos de rehabilitación, los datos obtenidos son:\n",
    "\n",
    "|Tipos| Días de recuperación |\n",
    "|:-----|:----------------------|\n",
    "|Tipo 1| 28, 27, 30, 29, 40, 41, 32, 25|\n",
    "|Tipo 2| 25, 23, 19, 34, 35, 27, 40, 39, 37, 28|\n",
    "|Tipo 3|  23, 19, 13, 21, 23, 29, 25|\n",
    "\n",
    "\n",
    "**Suponiendo Normalidad e igualdad de varianzas en los grupos**, contrastar $(\\alpha=0.05)$ si las tres formas de rehabilitación son igualmente eficaces.\n",
    "Si fuesen diferentes, ¿cuáles la mejor?\n"
   ]
  },
  {
   "cell_type": "code",
   "execution_count": 26,
   "metadata": {},
   "outputs": [
    {
     "name": "stdout",
     "output_type": "stream",
     "text": [
      "[('Tipo1', 28) ('Tipo1', 27) ('Tipo1', 30) ('Tipo1', 29) ('Tipo1', 40)\n",
      " ('Tipo1', 41) ('Tipo1', 32) ('Tipo1', 25) ('Tipo2', 25) ('Tipo2', 23)\n",
      " ('Tipo2', 19) ('Tipo2', 34) ('Tipo2', 35) ('Tipo2', 27) ('Tipo2', 40)\n",
      " ('Tipo2', 39) ('Tipo2', 37) ('Tipo2', 28) ('Tipo3', 23) ('Tipo3', 19)\n",
      " ('Tipo3', 13) ('Tipo3', 21) ('Tipo3', 23) ('Tipo3', 29) ('Tipo3', 25)]\n",
      "              ANOVA Unidireccional                 \n",
      "==========================================================================\n",
      "F value (El valor F calculado de la prueba):        5.421749471025312\n",
      "P value (El valor p asociado de la distribución F): 0.012181643670624171 \n",
      "\n",
      "==========================================================================\n"
     ]
    }
   ],
   "source": [
    "import numpy as np\n",
    "from scipy import stats\n",
    "import scipy.stats as st\n",
    "from scipy.stats import nbinom\n",
    "\n",
    "\n",
    "data = np.rec.array([\n",
    "('Tipo1', 28),\n",
    "('Tipo1', 27),\n",
    "('Tipo1', 30),\n",
    "('Tipo1', 29),\n",
    "('Tipo1', 40),\n",
    "('Tipo1', 41),\n",
    "('Tipo1', 32),\n",
    "('Tipo1', 25),\n",
    "('Tipo2', 25),\n",
    "('Tipo2', 23),\n",
    "('Tipo2', 19),\n",
    "('Tipo2', 34),\n",
    "('Tipo2', 35),\n",
    "('Tipo2', 27),\n",
    "('Tipo2', 40),\n",
    "('Tipo2', 39),\n",
    "('Tipo2', 37),\n",
    "('Tipo2', 28),\n",
    "('Tipo3', 23),\n",
    "('Tipo3', 19),\n",
    "('Tipo3', 13),\n",
    "('Tipo3', 21),\n",
    "('Tipo3', 23),\n",
    "('Tipo3', 29),\n",
    "('Tipo3', 25)], dtype = [('Recovery','|U5'),('Score', '<i8')])\n",
    "\n",
    "print (data)\n",
    "f, p = stats.f_oneway(data[data['Recovery'] == 'Tipo1'].Score,\n",
    "                      data[data['Recovery'] == 'Tipo2'].Score,\n",
    "                      data[data['Recovery'] == 'Tipo3'].Score)\n",
    "    \n",
    "print ('              ANOVA Unidireccional                 ')\n",
    "print ('==========================================================================')\n",
    " \n",
    "print ('F value (El valor F calculado de la prueba):       ', f)\n",
    "print ('P value (El valor p asociado de la distribución F):', p, '\\n')\n",
    "print ('==========================================================================')"
   ]
  },
  {
   "cell_type": "markdown",
   "metadata": {},
   "source": [
    "Dado que el valor es < que 0,05 rechazo la hipotesis nula y uso tukey para ver cual de las medias es mejor"
   ]
  },
  {
   "cell_type": "code",
   "execution_count": 20,
   "metadata": {},
   "outputs": [
    {
     "name": "stdout",
     "output_type": "stream",
     "text": [
      "Multiple Comparison of Means - Tukey HSD, FWER=0.05 \n",
      "====================================================\n",
      "group1 group2 meandiff p-adj   lower   upper  reject\n",
      "----------------------------------------------------\n",
      " Tipo1  Tipo2     -0.8    0.9 -8.2954  6.6954  False\n",
      " Tipo1  Tipo3  -9.6429 0.0189 -17.821 -1.4647   True\n",
      " Tipo2  Tipo3  -8.8429 0.0241  -16.63 -1.0557   True\n",
      "----------------------------------------------------\n"
     ]
    }
   ],
   "source": [
    "from statsmodels.stats.multicomp import pairwise_tukeyhsd\n",
    "from statsmodels.stats.multicomp import MultiComparison\n",
    "mc = MultiComparison(data['Score'], data['Recovery'])\n",
    "result = mc.tukeyhsd()\n",
    " \n",
    "print(result)\n",
    "# El mejor es el 3"
   ]
  },
  {
   "cell_type": "markdown",
   "metadata": {},
   "source": [
    "# Ejercicio 2\n",
    "Se han realizado tests en tres poblaciones que tienen el mismo número de habitantes y la misma significación como muestra de la población total de la zona afectada.\n",
    "\n",
    "- a. En la primera se realizaron 5 tests de los que 2 fueron positivos\n",
    "- b. En la segunda se realizaron tests hasta obtener el segundo positivo, lo que ocurrió en el test numero 6\n",
    "- c. En la tercera se realizaron 3 tests de los que solamente uno fue positivo.\n",
    "\n",
    "Supuestos igualmente significativos los tres resultados se desea conocer la prevalencia más verosímil actualmente con una precisión de un decimal (un 10% de diferencia respecto al valor real) "
   ]
  },
  {
   "cell_type": "code",
   "execution_count": 289,
   "metadata": {},
   "outputs": [
    {
     "name": "stdout",
     "output_type": "stream",
     "text": [
      "0.3455999999999999\n",
      "0.10367999999999995\n",
      "0.43199999999999994\n",
      "Value: %s 0.0 0.0\n",
      "Value: %s 0.1 0.0005811307335000004\n",
      "Value: %s 0.2 0.006442450944000008\n",
      "Value: %s 0.3 0.01470888975149999\n",
      "Value: %s 0.4 0.015479341056000004\n",
      "Value: %s 0.5 0.0091552734375\n",
      "Value: %s 0.6 0.0030576476160000007\n",
      "Value: %s 0.7 0.0004962182715000005\n",
      "Value: %s 0.8 2.516582399999996e-05\n",
      "Value: %s 0.9 8.857349999999985e-08\n"
     ]
    }
   ],
   "source": [
    "# a ) Distribucion binomial\n",
    "from scipy.stats import binom\n",
    "import numpy\n",
    "\n",
    "#n = 5 \n",
    "#\n",
    "a = binom.pmf(2, 5, p, loc=0)\n",
    "\n",
    "#\n",
    "print(a)\n",
    "#\n",
    "## b ) Distribucion binomial negativa\n",
    "#\n",
    "b = p*binom.pmf(1, 5, p)\n",
    "print(b)\n",
    "#\n",
    "### b ) Distribucion binomial\n",
    "\n",
    "c = binom.pmf(1, 3, 0.4, loc=0)\n",
    "##\n",
    "print(c)\n",
    "\n",
    "\n",
    "def calcular(p):\n",
    "    a = 10*p**2*(1-p)**3\n",
    "    b = 5*p**2*(1-p)**4\n",
    "    c = 3*p*(1-p)**2 \n",
    "    L = a * b * c\n",
    "    return  float(L)\n",
    "\n",
    "for i in range(10):\n",
    "    print(\"Value: %s\",i/10,calcular(i/10))\n"
   ]
  },
  {
   "cell_type": "code",
   "execution_count": 200,
   "metadata": {},
   "outputs": [],
   "source": []
  },
  {
   "cell_type": "code",
   "execution_count": null,
   "metadata": {},
   "outputs": [],
   "source": []
  },
  {
   "cell_type": "code",
   "execution_count": null,
   "metadata": {},
   "outputs": [],
   "source": []
  }
 ],
 "metadata": {
  "kernelspec": {
   "display_name": "Python 3",
   "language": "python",
   "name": "python3"
  },
  "language_info": {
   "codemirror_mode": {
    "name": "ipython",
    "version": 3
   },
   "file_extension": ".py",
   "mimetype": "text/x-python",
   "name": "python",
   "nbconvert_exporter": "python",
   "pygments_lexer": "ipython3",
   "version": "3.7.4"
  }
 },
 "nbformat": 4,
 "nbformat_minor": 4
}

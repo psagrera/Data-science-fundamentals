{
 "cells": [
  {
   "attachments": {
    "image.png": {
     "image/png": "[encoded data removed]"
    }
   },
   "cell_type": "markdown",
   "metadata": {},
   "source": [
    "![image.png](attachment:image.png)\n",
    "<center style=\"color:#888\">Estadística para Data Science<br/>Asignatura Estadística<br/>Sesión 3: Estadística Descriptiva (I)</center>\n",
    "\n",
    "# Procesamiento de datos\n",
    "\n",
    "## Trabajo en Equipo. Ejercicio 1\n",
    "\n",
    "Nombre del Equipo:\n",
    "\n",
    ">> Personas:\n",
    "* Nombre, Apellido1 Apellido2\n",
    "\n"
   ]
  },
  {
   "cell_type": "markdown",
   "metadata": {},
   "source": [
    "## Datos\n",
    "\n",
    "> El fichero *collectionsEE2013.csv*, contiene:\n",
    "* Información sobre el número de palabras de unos textos en distintos idiomas.\n",
    "* Cada fila representa un texto distinto y cada columna un idioma.\n",
    "\n",
    "## Ejercicio\n",
    "\n",
    "> Para cada idioma, calcular el número medio, máximo y mínimo, así como \n",
    "la mediana de palabras de los textos en ese idioma \n",
    "\n",
    "> Para cada texto, calcular el número medio, máximo y mínimo, así como la mediana\n",
    " de palabras de cada texto para los distintos idiomas\n",
    " \n",
    "> Con los valores calculados anteriormente, obtener 8 tablas que muestren \n",
    "para cada texto en cada idioma, la diferencia entre las palabras de ese texto en ese idioma con cada uno de los valores calculados anteriormente. \n",
    ">> Es decir, una tabla con las diferencias entre los máximos por idioma, otra tabla con la diferencias entre los máximos por texto a lo largo de los idiomas, etc…\n",
    "De las ocho tablas anteriores:\n",
    "* Guardar las cuatro relativas a diferencias con las palabras de texto por cada idioma en un fichero excel llamado diferenciasPorIdioma.xlsx. Nombrar cada hoja adecuadamente.\n",
    "* Guardar las otras cuatro tabla en un fichero llamado diferenciasPorTexto.xlsx. Nombrar cada hoja adecuadamente"
   ]
  },
  {
   "cell_type": "markdown",
   "metadata": {},
   "source": [
    "# Solución"
   ]
  },
  {
   "cell_type": "code",
   "execution_count": 15,
   "metadata": {},
   "outputs": [
    {
     "name": "stdout",
     "output_type": "stream",
     "text": [
      "       English  French  Italian  Russian  Spanish\n",
      "idDoc                                            \n",
      "1          635     609      612      556      603\n",
      "2          687     700      626      586      601\n",
      "3          551     536      508      432      514\n",
      "4          596     575      548      530      580\n",
      "5          735     699      649      608      671\n",
      "6          631     680      621      558      657\n",
      "7          726     759      703      652      711\n",
      "8          703     696      645      629      658\n",
      "9          776     816      759      688      779\n"
     ]
    }
   ],
   "source": [
    "import pandas as pd\n",
    "import numpy as np\n",
    "fichero = \"collectionsEE2013.csv\"\n",
    "datosIdiomas = pd.read_csv(fichero)\n",
    "pd.DataFrame(datosIdiomas)\n",
    "datosIdiomas.set_index('idDoc', inplace=True)\n",
    "print (datosIdiomas)\n"
   ]
  },
  {
   "cell_type": "code",
   "execution_count": 23,
   "metadata": {},
   "outputs": [
    {
     "name": "stdout",
     "output_type": "stream",
     "text": [
      "English    671.111111\n",
      "French     674.444444\n",
      "Italian    630.111111\n",
      "Russian    582.111111\n",
      "Spanish    641.555556\n",
      "dtype: float64\n",
      "\n",
      "maximos por columnas es decir por idiomas \n",
      "English    776\n",
      "French     816\n",
      "Italian    759\n",
      "Russian    688\n",
      "Spanish    779\n",
      "dtype: int64\n",
      "English    551\n",
      "French     536\n",
      "Italian    508\n",
      "Russian    432\n",
      "Spanish    514\n",
      "dtype: int64\n",
      "\n",
      "English    687.0\n",
      "French     696.0\n",
      "Italian    626.0\n",
      "Russian    586.0\n",
      "Spanish    657.0\n",
      "dtype: float64\n",
      "\n"
     ]
    }
   ],
   "source": [
    "#calculo las medias por columnas es decir por idiomas \n",
    "mediaCols=datosIdiomas.mean(axis=0)\n",
    "print (mediaCols)\n",
    "print()\n",
    "\n",
    "#calculo los maximos por columnas es decir por idiomas \n",
    "maxCols=datosIdiomas.max(axis=0)\n",
    "print (maxCols)\n",
    "\n",
    "#calculo los minimos por columnas es decir por idiomas \n",
    "minCols=datosIdiomas.min(axis=0)\n",
    "print (minCols)\n",
    "print()\n",
    "\n",
    "#calculo los medias por columnas es decir por idiomas \n",
    "medianaCols =datosIdiomas.median(axis=0)\n",
    "print (medianaCols)\n",
    "print()\n"
   ]
  },
  {
   "cell_type": "code",
   "execution_count": 13,
   "metadata": {},
   "outputs": [
    {
     "name": "stdout",
     "output_type": "stream",
     "text": [
      "dif media columnas\n",
      "          English      French     Italian     Russian     Spanish\n",
      "idDoc                                                            \n",
      "1      -36.111111  -65.444444  -18.111111  -26.111111  -38.555556\n",
      "2       15.888889   25.555556   -4.111111    3.888889  -40.555556\n",
      "3     -120.111111 -138.444444 -122.111111 -150.111111 -127.555556\n",
      "4      -75.111111  -99.444444  -82.111111  -52.111111  -61.555556\n",
      "5       63.888889   24.555556   18.888889   25.888889   29.444444\n",
      "6      -40.111111    5.555556   -9.111111  -24.111111   15.444444\n",
      "7       54.888889   84.555556   72.888889   69.888889   69.444444\n",
      "8       31.888889   21.555556   14.888889   46.888889   16.444444\n",
      "9      104.888889  141.555556  128.888889  105.888889  137.444444\n",
      "dif maxima columnas\n",
      "       English  French  Italian  Russian  Spanish\n",
      "idDoc                                            \n",
      "1         -141    -207     -147     -132     -176\n",
      "2          -89    -116     -133     -102     -178\n",
      "3         -225    -280     -251     -256     -265\n",
      "4         -180    -241     -211     -158     -199\n",
      "5          -41    -117     -110      -80     -108\n",
      "6         -145    -136     -138     -130     -122\n",
      "7          -50     -57      -56      -36      -68\n",
      "8          -73    -120     -114      -59     -121\n",
      "9            0       0        0        0        0\n",
      "       English  French  Italian  Russian  Spanish\n",
      "idDoc                                            \n",
      "1           84      73      104      124       89\n",
      "2          136     164      118      154       87\n",
      "3            0       0        0        0        0\n",
      "4           45      39       40       98       66\n",
      "5          184     163      141      176      157\n",
      "6           80     144      113      126      143\n",
      "7          175     223      195      220      197\n",
      "8          152     160      137      197      144\n",
      "9          225     280      251      256      265\n",
      "       English  French  Italian  Russian  Spanish\n",
      "idDoc                                            \n",
      "1        -52.0   -87.0    -14.0    -30.0    -54.0\n",
      "2          0.0     4.0      0.0      0.0    -56.0\n",
      "3       -136.0  -160.0   -118.0   -154.0   -143.0\n",
      "4        -91.0  -121.0    -78.0    -56.0    -77.0\n",
      "5         48.0     3.0     23.0     22.0     14.0\n",
      "6        -56.0   -16.0     -5.0    -28.0      0.0\n",
      "7         39.0    63.0     77.0     66.0     54.0\n",
      "8         16.0     0.0     19.0     43.0      1.0\n",
      "9         89.0   120.0    133.0    102.0    122.0\n"
     ]
    }
   ],
   "source": [
    "#resto al dataframe las medias de las columnas para quedarme con las diferencias\n",
    "#para la medias , maximos , minimos y medianas\n",
    "dfmediaCols= datosIdiomas.iloc[:,:]-mediaCols\n",
    "print (\"dif media columnas\")\n",
    "print (dfmediaCols)\n",
    "dfmaxCols= datosIdiomas.iloc[:,:]-maxCols\n",
    "print (\"dif maxima columnas\")\n",
    "print (dfmaxCols)\n",
    "dfminCols= datosIdiomas.iloc[:,:]-minCols\n",
    "print (dfminCols)\n",
    "dfmedianaCols= datosIdiomas.iloc[:,:]-medianaCols\n",
    "print (dfmedianaCols)\n"
   ]
  },
  {
   "cell_type": "code",
   "execution_count": 21,
   "metadata": {},
   "outputs": [
    {
     "name": "stdout",
     "output_type": "stream",
     "text": [
      "603.0\n",
      "640.0\n",
      "508.2\n",
      "565.8\n",
      "672.4\n",
      "629.4\n",
      "710.2\n",
      "666.2\n",
      "763.6\n",
      "\n",
      "   English  French  Italian  Russian  Spanish\n",
      "1     32.0     6.0      9.0    -47.0      0.0\n",
      "2     47.0    60.0    -14.0    -54.0    -39.0\n",
      "3     42.8    27.8     -0.2    -76.2      5.8\n",
      "4     30.2     9.2    -17.8    -35.8     14.2\n",
      "5     62.6    26.6    -23.4    -64.4     -1.4\n",
      "6      1.6    50.6     -8.4    -71.4     27.6\n",
      "7     15.8    48.8     -7.2    -58.2      0.8\n",
      "8     36.8    29.8    -21.2    -37.2     -8.2\n",
      "9     12.4    52.4     -4.6    -75.6     15.4\n",
      "\n",
      "   English  French  Italian  Russian  Spanish\n",
      "1      0.0   -26.0    -23.0    -79.0    -32.0\n",
      "2    -13.0     0.0    -74.0   -114.0    -99.0\n",
      "3      0.0   -15.0    -43.0   -119.0    -37.0\n",
      "4      0.0   -21.0    -48.0    -66.0    -16.0\n",
      "5      0.0   -36.0    -86.0   -127.0    -64.0\n",
      "6    -49.0     0.0    -59.0   -122.0    -23.0\n",
      "7    -33.0     0.0    -56.0   -107.0    -48.0\n",
      "8      0.0    -7.0    -58.0    -74.0    -45.0\n",
      "9    -40.0     0.0    -57.0   -128.0    -37.0\n",
      "\n",
      "   English  French  Italian  Russian  Spanish\n",
      "1     79.0    53.0     56.0      0.0     47.0\n",
      "2    101.0   114.0     40.0      0.0     15.0\n",
      "3    119.0   104.0     76.0      0.0     82.0\n",
      "4     66.0    45.0     18.0      0.0     50.0\n",
      "5    127.0    91.0     41.0      0.0     63.0\n",
      "6     73.0   122.0     63.0      0.0     99.0\n",
      "7     74.0   107.0     51.0      0.0     59.0\n",
      "8     74.0    67.0     16.0      0.0     29.0\n",
      "9     88.0   128.0     71.0      0.0     91.0\n",
      "\n",
      "   English  French  Italian  Russian  Spanish\n",
      "1     26.0     0.0      3.0    -53.0     -6.0\n",
      "2     61.0    74.0      0.0    -40.0    -25.0\n",
      "3     37.0    22.0     -6.0    -82.0      0.0\n",
      "4     21.0     0.0    -27.0    -45.0      5.0\n",
      "5     64.0    28.0    -22.0    -63.0      0.0\n",
      "6      0.0    49.0    -10.0    -73.0     26.0\n",
      "7     15.0    48.0     -8.0    -59.0      0.0\n",
      "8     45.0    38.0    -13.0    -29.0      0.0\n",
      "9      0.0    40.0    -17.0    -88.0      3.0\n",
      "\n"
     ]
    }
   ],
   "source": [
    "#Creamos dataframe nuevos uno para cada calculo \n",
    "dfmedia=pd.DataFrame()\n",
    "dfmediana=pd.DataFrame()\n",
    "dfmaximo=pd.DataFrame()\n",
    "dfminimo=pd.DataFrame()\n",
    "\n",
    "#Recorremos el dataframe por filas , calculo la media por por texto\n",
    "# y se resta elemento a elemento de la fila \n",
    "for etiqueta,fila in datosIdiomas.iterrows():\n",
    "    \n",
    "    media=fila-fila.mean()\n",
    "    dfmedia = dfmedia.append(media)\n",
    "    print (fila.mean())\n",
    "    maximo=fila-fila.max()\n",
    "    dfmaximo = dfmaximo.append(maximo)\n",
    "    minimo=fila-fila.min()\n",
    "    dfminimo = dfminimo.append(minimo)\n",
    "    mediana=fila-fila.median()\n",
    "    dfmediana = dfmediana.append(mediana)\n",
    "    \n",
    "print() \n",
    "print (dfmedia)\n",
    "print() \n",
    "print (dfmaximo)\n",
    "print()\n",
    "print (dfminimo)\n",
    "print()\n",
    "print (dfmediana)\n",
    "print() "
   ]
  },
  {
   "cell_type": "code",
   "execution_count": null,
   "metadata": {},
   "outputs": [],
   "source": [
    "#Creamos un excel con cuatro hojas por dada uno de los dataframe con las diferencia por \n",
    "# Idioma\n",
    "writeridioma = pd.ExcelWriter('diferenciasPorIdioma.xlsx')\n",
    "dfmediaCols.to_excel(writeridioma,\"mediacol\")\n",
    "dfmedianaCols.to_excel(writeridioma,\"medianacol\")\n",
    "dfminCols.to_excel(writeridioma,\"maxcol\")\n",
    "dfmaxCols.to_excel(writeridioma,\"mincol\")\n",
    "\n",
    "writeridioma.save()\n",
    "#creo un excel con cuatro hojas por dada uno de los dataframe con las diferencia por texto\n",
    "writertexto = pd.ExcelWriter('diferenciasPorTexto.xlsx')\n",
    "\n",
    "dfmedia.to_excel(writertexto,\"mediafila\")\n",
    "dfmediana.to_excel(writertexto,\"medianafila\")\n",
    "dfmaximo.to_excel(writertexto,\"maxfila\")\n",
    "dfminimo.to_excel(writertexto,\"minfila\")\n",
    "\n",
    "writertexto.save()"
   ]
  },
  {
   "cell_type": "code",
   "execution_count": null,
   "metadata": {},
   "outputs": [],
   "source": []
  }
 ],
 "metadata": {
  "kernelspec": {
   "display_name": "Python 3",
   "language": "python",
   "name": "python3"
  },
  "language_info": {
   "codemirror_mode": {
    "name": "ipython",
    "version": 3
   },
   "file_extension": ".py",
   "mimetype": "text/x-python",
   "name": "python",
   "nbconvert_exporter": "python",
   "pygments_lexer": "ipython3",
   "version": "3.7.4"
  }
 },
 "nbformat": 4,
 "nbformat_minor": 4
}

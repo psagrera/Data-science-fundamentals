{
 "cells": [
  {
   "attachments": {
    "image.png": {
     "image/png": "[encoded data removed]"
    }
   },
   "cell_type": "markdown",
   "metadata": {},
   "source": [
    "![image.png](attachment:image.png)\n",
    "<center style=\"color:#888\">Estadística para Data Science<br/>Asignatura Estadística</center>\n",
    "\n",
    "# Ejercicio Ticket"
   ]
  },
  {
   "cell_type": "markdown",
   "metadata": {},
   "source": [
    "Datos:\n",
    ">> Nombre Equipo/Grupo: PYTHONEROS\n",
    "\n",
    ">> Miembros: Efrain Gonzalez / Pablo Sagrera\n"
   ]
  },
  {
   "cell_type": "code",
   "execution_count": 1,
   "metadata": {},
   "outputs": [],
   "source": [
    "%matplotlib inline\n",
    "\n",
    "import numpy as np\n",
    "import pandas as pd\n",
    "import matplotlib.pyplot as plt"
   ]
  },
  {
   "cell_type": "code",
   "execution_count": 2,
   "metadata": {},
   "outputs": [],
   "source": [
    "data_xls = pd.read_excel('Ticket.xlsx', 'Hoja1', index_col=None)\n",
    "data_xls.to_csv('ticket.csv', encoding='utf-8', index=False)"
   ]
  },
  {
   "cell_type": "code",
   "execution_count": 3,
   "metadata": {},
   "outputs": [],
   "source": [
    "df = pd.read_csv('ticket.csv')"
   ]
  },
  {
   "cell_type": "markdown",
   "metadata": {},
   "source": [
    "# 1.- Estudio de los datos"
   ]
  },
  {
   "cell_type": "code",
   "execution_count": 4,
   "metadata": {},
   "outputs": [
    {
     "data": {
      "text/html": [
       "<div>\n",
       "<style scoped>\n",
       "    .dataframe tbody tr th:only-of-type {\n",
       "        vertical-align: middle;\n",
       "    }\n",
       "\n",
       "    .dataframe tbody tr th {\n",
       "        vertical-align: top;\n",
       "    }\n",
       "\n",
       "    .dataframe thead th {\n",
       "        text-align: right;\n",
       "    }\n",
       "</style>\n",
       "<table border=\"1\" class=\"dataframe\">\n",
       "  <thead>\n",
       "    <tr style=\"text-align: right;\">\n",
       "      <th></th>\n",
       "      <th>Prioridad*</th>\n",
       "      <th>F. Ultima Resolución</th>\n",
       "      <th>Fecha de envío</th>\n",
       "      <th>Fecha Cierre</th>\n",
       "      <th>Year OUTPUT</th>\n",
       "      <th>Month OUTPUT</th>\n",
       "    </tr>\n",
       "  </thead>\n",
       "  <tbody>\n",
       "    <tr>\n",
       "      <td>0</td>\n",
       "      <td>Media</td>\n",
       "      <td>2017-01-31 22:50:35</td>\n",
       "      <td>2017-01-31 20:21:57</td>\n",
       "      <td>2017-02-08 02:00:00</td>\n",
       "      <td>2017</td>\n",
       "      <td>1</td>\n",
       "    </tr>\n",
       "    <tr>\n",
       "      <td>1</td>\n",
       "      <td>Alta</td>\n",
       "      <td>2017-01-31 23:05:49</td>\n",
       "      <td>2017-01-31 16:45:30</td>\n",
       "      <td>2017-02-08 02:00:00</td>\n",
       "      <td>2017</td>\n",
       "      <td>1</td>\n",
       "    </tr>\n",
       "    <tr>\n",
       "      <td>2</td>\n",
       "      <td>Baja</td>\n",
       "      <td>2017-01-31 18:12:13</td>\n",
       "      <td>2017-01-31 16:47:01</td>\n",
       "      <td>2017-02-08 02:00:00</td>\n",
       "      <td>2017</td>\n",
       "      <td>1</td>\n",
       "    </tr>\n",
       "    <tr>\n",
       "      <td>3</td>\n",
       "      <td>Baja</td>\n",
       "      <td>2017-01-31 17:56:18</td>\n",
       "      <td>2017-01-31 16:40:37</td>\n",
       "      <td>2017-02-08 02:00:00</td>\n",
       "      <td>2017</td>\n",
       "      <td>1</td>\n",
       "    </tr>\n",
       "    <tr>\n",
       "      <td>4</td>\n",
       "      <td>Media</td>\n",
       "      <td>2017-01-31 17:57:25</td>\n",
       "      <td>2017-01-31 16:42:41</td>\n",
       "      <td>2017-02-08 02:00:00</td>\n",
       "      <td>2017</td>\n",
       "      <td>1</td>\n",
       "    </tr>\n",
       "  </tbody>\n",
       "</table>\n",
       "</div>"
      ],
      "text/plain": [
       "  Prioridad* F. Ultima Resolución       Fecha de envío         Fecha Cierre  \\\n",
       "0      Media  2017-01-31 22:50:35  2017-01-31 20:21:57  2017-02-08 02:00:00   \n",
       "1       Alta  2017-01-31 23:05:49  2017-01-31 16:45:30  2017-02-08 02:00:00   \n",
       "2       Baja  2017-01-31 18:12:13  2017-01-31 16:47:01  2017-02-08 02:00:00   \n",
       "3       Baja  2017-01-31 17:56:18  2017-01-31 16:40:37  2017-02-08 02:00:00   \n",
       "4      Media  2017-01-31 17:57:25  2017-01-31 16:42:41  2017-02-08 02:00:00   \n",
       "\n",
       "   Year OUTPUT  Month OUTPUT  \n",
       "0         2017             1  \n",
       "1         2017             1  \n",
       "2         2017             1  \n",
       "3         2017             1  \n",
       "4         2017             1  "
      ]
     },
     "execution_count": 4,
     "metadata": {},
     "output_type": "execute_result"
    }
   ],
   "source": [
    "df.head()"
   ]
  },
  {
   "cell_type": "code",
   "execution_count": 5,
   "metadata": {},
   "outputs": [],
   "source": [
    "# Filtramos los NAN\n",
    "df_filtered = df.dropna()"
   ]
  },
  {
   "cell_type": "markdown",
   "metadata": {},
   "source": [
    "# 2.- Ticket gestionados por año, por mes y por prioridad"
   ]
  },
  {
   "cell_type": "code",
   "execution_count": 6,
   "metadata": {},
   "outputs": [
    {
     "data": {
      "text/plain": [
       "Prioridad*\n",
       "Alta        26197\n",
       "Baja       209014\n",
       "Crítica      1593\n",
       "Media       68908\n",
       "dtype: int64"
      ]
     },
     "execution_count": 6,
     "metadata": {},
     "output_type": "execute_result"
    }
   ],
   "source": [
    "# Numero de tickets por prioridad sin tener en cuenta el año\n",
    "tickets_per_priority = df_filtered.groupby('Prioridad*').size()\n",
    "tickets_per_priority"
   ]
  },
  {
   "cell_type": "code",
   "execution_count": 7,
   "metadata": {},
   "outputs": [
    {
     "data": {
      "text/plain": [
       "Year OUTPUT  Prioridad*\n",
       "2017         Alta           6946\n",
       "             Baja          60628\n",
       "             Crítica         734\n",
       "             Media         19471\n",
       "2018         Alta           7761\n",
       "             Baja          72348\n",
       "             Crítica         539\n",
       "             Media         21574\n",
       "2019         Alta          10874\n",
       "             Baja          72595\n",
       "             Crítica         309\n",
       "             Media         26254\n",
       "2020         Alta            616\n",
       "             Baja           3443\n",
       "             Crítica          11\n",
       "             Media          1609\n",
       "dtype: int64"
      ]
     },
     "execution_count": 7,
     "metadata": {},
     "output_type": "execute_result"
    }
   ],
   "source": [
    "# Numero de tickets por prioridad teniendo en cuenta el año\n",
    "tickets_per_priority_year = df_filtered.groupby(['Year OUTPUT','Prioridad*']).size()\n",
    "tickets_per_priority_year"
   ]
  },
  {
   "cell_type": "code",
   "execution_count": 8,
   "metadata": {},
   "outputs": [
    {
     "data": {
      "text/plain": [
       "Year OUTPUT  Month OUTPUT  Prioridad*\n",
       "2017         1             Alta           346\n",
       "                           Baja          5214\n",
       "                           Crítica         20\n",
       "                           Media         1199\n",
       "             2             Alta           333\n",
       "                                         ... \n",
       "2019         12            Media         2527\n",
       "2020         1             Alta           616\n",
       "                           Baja          3443\n",
       "                           Crítica         11\n",
       "                           Media         1609\n",
       "Length: 148, dtype: int64"
      ]
     },
     "execution_count": 8,
     "metadata": {},
     "output_type": "execute_result"
    }
   ],
   "source": [
    "# Numero de tickets por prioridad teniendo en cuenta el año y el mes\n",
    "df_filtered.groupby(['Year OUTPUT','Month OUTPUT','Prioridad*']).size()"
   ]
  },
  {
   "cell_type": "code",
   "execution_count": 9,
   "metadata": {},
   "outputs": [
    {
     "data": {
      "text/plain": [
       "Year OUTPUT\n",
       "2017     87779\n",
       "2018    102222\n",
       "2019    110032\n",
       "2020      5679\n",
       "dtype: int64"
      ]
     },
     "execution_count": 9,
     "metadata": {},
     "output_type": "execute_result"
    }
   ],
   "source": [
    "#Numero de tickets por año sin tener en cuenta el mes\n",
    "ticket_per_year = df_filtered.groupby('Year OUTPUT').size()\n",
    "ticket_per_year"
   ]
  },
  {
   "cell_type": "code",
   "execution_count": 10,
   "metadata": {},
   "outputs": [
    {
     "data": {
      "text/plain": [
       "Year OUTPUT  Month OUTPUT\n",
       "2017         1                6779\n",
       "             2                6971\n",
       "             3                7872\n",
       "             4                6177\n",
       "             5                6998\n",
       "             6                7584\n",
       "             7                7220\n",
       "             8                6327\n",
       "             9                6957\n",
       "             10               8306\n",
       "             11               9374\n",
       "             12               7214\n",
       "2018         1                9397\n",
       "             2                7727\n",
       "             3                7927\n",
       "             4                8051\n",
       "             5                8524\n",
       "             6                6674\n",
       "             7                8321\n",
       "             8                8381\n",
       "             9                8661\n",
       "             10               9981\n",
       "             11               9730\n",
       "             12               8848\n",
       "2019         1               10128\n",
       "             2                9024\n",
       "             3                9569\n",
       "             4               10135\n",
       "             5               10676\n",
       "             6                7011\n",
       "             7               10198\n",
       "             8                8533\n",
       "             9                8962\n",
       "             10               9885\n",
       "             11               7563\n",
       "             12               8348\n",
       "2020         1                5679\n",
       "dtype: int64"
      ]
     },
     "execution_count": 10,
     "metadata": {},
     "output_type": "execute_result"
    }
   ],
   "source": [
    "#Numero de tickets por año teniendo en cuenta el mes\n",
    "ticket_per_year_month = df_filtered.groupby(['Year OUTPUT','Month OUTPUT']).size()\n",
    "ticket_per_year_month"
   ]
  },
  {
   "cell_type": "code",
   "execution_count": 11,
   "metadata": {},
   "outputs": [
    {
     "data": {
      "text/plain": [
       "Month OUTPUT  Year OUTPUT\n",
       "1             2017            6779\n",
       "              2018            9397\n",
       "              2019           10128\n",
       "              2020            5679\n",
       "2             2017            6971\n",
       "              2018            7727\n",
       "              2019            9024\n",
       "3             2017            7872\n",
       "              2018            7927\n",
       "              2019            9569\n",
       "4             2017            6177\n",
       "              2018            8051\n",
       "              2019           10135\n",
       "5             2017            6998\n",
       "              2018            8524\n",
       "              2019           10676\n",
       "6             2017            7584\n",
       "              2018            6674\n",
       "              2019            7011\n",
       "7             2017            7220\n",
       "              2018            8321\n",
       "              2019           10198\n",
       "8             2017            6327\n",
       "              2018            8381\n",
       "              2019            8533\n",
       "9             2017            6957\n",
       "              2018            8661\n",
       "              2019            8962\n",
       "10            2017            8306\n",
       "              2018            9981\n",
       "              2019            9885\n",
       "11            2017            9374\n",
       "              2018            9730\n",
       "              2019            7563\n",
       "12            2017            7214\n",
       "              2018            8848\n",
       "              2019            8348\n",
       "dtype: int64"
      ]
     },
     "execution_count": 11,
     "metadata": {},
     "output_type": "execute_result"
    }
   ],
   "source": [
    "# Numero de tickets por año por mes\n",
    "tickets_per_month = df_filtered.groupby(['Month OUTPUT','Year OUTPUT']).size()\n",
    "tickets_per_month"
   ]
  },
  {
   "cell_type": "markdown",
   "metadata": {},
   "source": [
    "# 3.- Media de ticket gestionados por mes"
   ]
  },
  {
   "cell_type": "code",
   "execution_count": 12,
   "metadata": {},
   "outputs": [
    {
     "data": {
      "text/plain": [
       "8262.486486486487"
      ]
     },
     "execution_count": 12,
     "metadata": {},
     "output_type": "execute_result"
    }
   ],
   "source": [
    "mean_tickets_per_month = tickets_per_month.mean()\n",
    "mean_tickets_per_month"
   ]
  },
  {
   "cell_type": "markdown",
   "metadata": {},
   "source": [
    "# 4.- Idem desglosados por prioridad (globales)"
   ]
  },
  {
   "cell_type": "code",
   "execution_count": 17,
   "metadata": {},
   "outputs": [],
   "source": [
    "# Tickets gestionados por mes (considerando el año)\n",
    "alta = df_filtered['Prioridad*'] == 'Alta'\n",
    "media = df_filtered['Prioridad*'] == 'Media'\n",
    "baja = df_filtered['Prioridad*'] == 'Baja'\n",
    "critica = df_filtered['Prioridad*'] == 'Crítica'"
   ]
  },
  {
   "cell_type": "code",
   "execution_count": 16,
   "metadata": {},
   "outputs": [
    {
     "data": {
      "text/plain": [
       "708.027027027027"
      ]
     },
     "execution_count": 16,
     "metadata": {},
     "output_type": "execute_result"
    }
   ],
   "source": [
    "# Tickets gestionados por mes con prioridad alta\n",
    "tickets_de_prioridad_alta=df_filtered[alta].groupby(['Year OUTPUT','Month OUTPUT']).size()\n",
    "tickets_de_prioridad_alta.mean()"
   ]
  },
  {
   "cell_type": "code",
   "execution_count": 18,
   "metadata": {},
   "outputs": [
    {
     "data": {
      "text/plain": [
       "1862.3783783783783"
      ]
     },
     "execution_count": 18,
     "metadata": {},
     "output_type": "execute_result"
    }
   ],
   "source": [
    "# Tickets gestionados por mes con prioridad media\n",
    "tickets_de_prioridad_alta=df_filtered[media].groupby(['Year OUTPUT','Month OUTPUT']).size()\n",
    "tickets_de_prioridad_alta.mean()"
   ]
  },
  {
   "cell_type": "code",
   "execution_count": 19,
   "metadata": {},
   "outputs": [
    {
     "data": {
      "text/plain": [
       "5649.027027027027"
      ]
     },
     "execution_count": 19,
     "metadata": {},
     "output_type": "execute_result"
    }
   ],
   "source": [
    "# Tickets gestionados por mes con prioridad baja\n",
    "tickets_de_prioridad_alta=df_filtered[baja].groupby(['Year OUTPUT','Month OUTPUT']).size()\n",
    "tickets_de_prioridad_alta.mean()"
   ]
  },
  {
   "cell_type": "code",
   "execution_count": 20,
   "metadata": {},
   "outputs": [
    {
     "data": {
      "text/plain": [
       "43.054054054054056"
      ]
     },
     "execution_count": 20,
     "metadata": {},
     "output_type": "execute_result"
    }
   ],
   "source": [
    "# Tickets gestionados por mes con prioridad critica\n",
    "tickets_de_prioridad_alta=df_filtered[critica].groupby(['Year OUTPUT','Month OUTPUT']).size()\n",
    "tickets_de_prioridad_alta.mean()"
   ]
  },
  {
   "cell_type": "markdown",
   "metadata": {},
   "source": [
    "# 5.- Teniendo en cuenta 3, rango intercuartílico y coeficiente de variación de Pearson"
   ]
  },
  {
   "cell_type": "code",
   "execution_count": 24,
   "metadata": {},
   "outputs": [
    {
     "data": {
      "text/plain": [
       "2160.0"
      ]
     },
     "execution_count": 24,
     "metadata": {},
     "output_type": "execute_result"
    }
   ],
   "source": [
    "# Rango intercuartilico Q3 -Q1\n",
    "Q3 = tickets_per_month.quantile(0.75)\n",
    "Q1 = tickets_per_month.quantile(0.25)\n",
    "IQR = Q3 - Q1\n",
    "IQR"
   ]
  },
  {
   "cell_type": "code",
   "execution_count": 25,
   "metadata": {},
   "outputs": [
    {
     "data": {
      "text/plain": [
       "0.15415927203511426"
      ]
     },
     "execution_count": 25,
     "metadata": {},
     "output_type": "execute_result"
    }
   ],
   "source": [
    "#El coeficiente de variación de Pearson (r) mide la variación de los datos respecto a la media, sin tener en cuenta las unidades en la que están\n",
    "#El coeficiente de variación toma valores entre 0 y 1. \n",
    "#Si el coeficiente es próximo al 0, significa que existe poca variabilidad en los datos y es una muestra muy compacta. \n",
    "#En cambio, si tienden a 1 es una muestra muy dispersa.\n",
    "coeficiente_de_variacion=tickets_per_month.std(ddof=0) / tickets_per_month.mean()\n",
    "coeficiente_de_variacion\n",
    "# En este caso parece que existe poco variabilidad en los datos relacionados con los tickets por mes"
   ]
  },
  {
   "cell_type": "code",
   "execution_count": null,
   "metadata": {},
   "outputs": [],
   "source": []
  }
 ],
 "metadata": {
  "kernelspec": {
   "display_name": "Python 3",
   "language": "python",
   "name": "python3"
  },
  "language_info": {
   "codemirror_mode": {
    "name": "ipython",
    "version": 3
   },
   "file_extension": ".py",
   "mimetype": "text/x-python",
   "name": "python",
   "nbconvert_exporter": "python",
   "pygments_lexer": "ipython3",
   "version": "3.7.4"
  }
 },
 "nbformat": 4,
 "nbformat_minor": 4
}

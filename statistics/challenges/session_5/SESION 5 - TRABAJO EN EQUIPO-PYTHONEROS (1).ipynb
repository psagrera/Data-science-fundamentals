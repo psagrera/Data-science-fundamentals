{
 "cells": [
  {
   "attachments": {
    "image.png": {
     "image/png": "[encoded data removed]"
    }
   },
   "cell_type": "markdown",
   "metadata": {},
   "source": [
    "![image.png](attachment:image.png)\n",
    "# EJERCICIOS TRABAJO EN EQUIPO\n",
    "Los alumnos, por grupo, deberán entregar, una challenges por cada grupo. Se usará para su resolución Python.\n",
    "\n",
    "*Nombre Equipo*: \n",
    "\n",
    "- ### PYTHONEROS\n",
    "\n",
    "Miembros del equipo:\n",
    "\n",
    "- ### EFRAIN GONZALEZ\n",
    "\n",
    "- ### PABLO SAGRERA"
   ]
  },
  {
   "cell_type": "markdown",
   "metadata": {},
   "source": [
    "# Ejercicio 1\n",
    "La siguiente tabla muestra información sobre la edad y la presión sanguínea de 10 mujeres:\n",
    "edad:(56, 42, 72,  36, 63, 47, 55, 47, 38, 42)\n",
    "presion:(148, 126, 159, 118, 149, 130, 151, 142, 114, 141)\n",
    "Supongamos que nuestro objetivo es determinar la edad de una mujer a partir de su presión sanguínea o, lo que es lo mismo, supongamos que la variable dependiente es edad y que la variable independiente es presión. \n",
    "Representar el diagrama de dispersión de las dos variables para determinar si la relación existente entre ambas puede considerarse lineal, y por tanto, tiene sentido plantear un modelo de regresión lineal simple.\n"
   ]
  },
  {
   "cell_type": "code",
   "execution_count": 1,
   "metadata": {},
   "outputs": [
    {
     "name": "stderr",
     "output_type": "stream",
     "text": [
      "/opt/anaconda3/lib/python3.7/site-packages/statsmodels/tools/_testing.py:19: FutureWarning: pandas.util.testing is deprecated. Use the functions in the public API at pandas.testing instead.\n",
      "  import pandas.util.testing as tm\n"
     ]
    }
   ],
   "source": [
    "# Se definen las librerias que se utilizarán\n",
    "\n",
    "%matplotlib inline\n",
    "import matplotlib.pyplot as plt\n",
    "import numpy as np\n",
    "import statsmodels.api as sm\n",
    "import statsmodels.stats.diagnostic as smd"
   ]
  },
  {
   "cell_type": "code",
   "execution_count": 2,
   "metadata": {},
   "outputs": [
    {
     "name": "stderr",
     "output_type": "stream",
     "text": [
      "/opt/anaconda3/lib/python3.7/site-packages/scipy/stats/stats.py:1450: UserWarning: kurtosistest only valid for n>=20 ... continuing anyway, n=10\n",
      "  \"anyway, n=%i\" % int(n))\n"
     ]
    },
    {
     "data": {
      "text/html": [
       "<table class=\"simpletable\">\n",
       "<caption>OLS Regression Results</caption>\n",
       "<tr>\n",
       "  <th>Dep. Variable:</th>            <td>y</td>        <th>  R-squared:         </th> <td>   0.780</td>\n",
       "</tr>\n",
       "<tr>\n",
       "  <th>Model:</th>                   <td>OLS</td>       <th>  Adj. R-squared:    </th> <td>   0.753</td>\n",
       "</tr>\n",
       "<tr>\n",
       "  <th>Method:</th>             <td>Least Squares</td>  <th>  F-statistic:       </th> <td>   28.39</td>\n",
       "</tr>\n",
       "<tr>\n",
       "  <th>Date:</th>             <td>Tue, 14 Apr 2020</td> <th>  Prob (F-statistic):</th> <td>0.000704</td>\n",
       "</tr>\n",
       "<tr>\n",
       "  <th>Time:</th>                 <td>15:21:03</td>     <th>  Log-Likelihood:    </th> <td> -30.551</td>\n",
       "</tr>\n",
       "<tr>\n",
       "  <th>No. Observations:</th>      <td>    10</td>      <th>  AIC:               </th> <td>   65.10</td>\n",
       "</tr>\n",
       "<tr>\n",
       "  <th>Df Residuals:</th>          <td>     8</td>      <th>  BIC:               </th> <td>   65.71</td>\n",
       "</tr>\n",
       "<tr>\n",
       "  <th>Df Model:</th>              <td>     1</td>      <th>                     </th>     <td> </td>   \n",
       "</tr>\n",
       "<tr>\n",
       "  <th>Covariance Type:</th>      <td>nonrobust</td>    <th>                     </th>     <td> </td>   \n",
       "</tr>\n",
       "</table>\n",
       "<table class=\"simpletable\">\n",
       "<tr>\n",
       "    <td></td>       <th>coef</th>     <th>std err</th>      <th>t</th>      <th>P>|t|</th>  <th>[0.025</th>    <th>0.975]</th>  \n",
       "</tr>\n",
       "<tr>\n",
       "  <th>const</th> <td>  -43.5440</td> <td>   17.613</td> <td>   -2.472</td> <td> 0.039</td> <td>  -84.159</td> <td>   -2.929</td>\n",
       "</tr>\n",
       "<tr>\n",
       "  <th>x1</th>    <td>    0.6774</td> <td>    0.127</td> <td>    5.328</td> <td> 0.001</td> <td>    0.384</td> <td>    0.971</td>\n",
       "</tr>\n",
       "</table>\n",
       "<table class=\"simpletable\">\n",
       "<tr>\n",
       "  <th>Omnibus:</th>       <td> 0.380</td> <th>  Durbin-Watson:     </th> <td>   1.967</td>\n",
       "</tr>\n",
       "<tr>\n",
       "  <th>Prob(Omnibus):</th> <td> 0.827</td> <th>  Jarque-Bera (JB):  </th> <td>   0.384</td>\n",
       "</tr>\n",
       "<tr>\n",
       "  <th>Skew:</th>          <td>-0.346</td> <th>  Prob(JB):          </th> <td>   0.825</td>\n",
       "</tr>\n",
       "<tr>\n",
       "  <th>Kurtosis:</th>      <td> 2.335</td> <th>  Cond. No.          </th> <td>1.34e+03</td>\n",
       "</tr>\n",
       "</table><br/><br/>Warnings:<br/>[1] Standard Errors assume that the covariance matrix of the errors is correctly specified.<br/>[2] The condition number is large, 1.34e+03. This might indicate that there are<br/>strong multicollinearity or other numerical problems."
      ],
      "text/plain": [
       "<class 'statsmodels.iolib.summary.Summary'>\n",
       "\"\"\"\n",
       "                            OLS Regression Results                            \n",
       "==============================================================================\n",
       "Dep. Variable:                      y   R-squared:                       0.780\n",
       "Model:                            OLS   Adj. R-squared:                  0.753\n",
       "Method:                 Least Squares   F-statistic:                     28.39\n",
       "Date:                Tue, 14 Apr 2020   Prob (F-statistic):           0.000704\n",
       "Time:                        15:21:03   Log-Likelihood:                -30.551\n",
       "No. Observations:                  10   AIC:                             65.10\n",
       "Df Residuals:                       8   BIC:                             65.71\n",
       "Df Model:                           1                                         \n",
       "Covariance Type:            nonrobust                                         \n",
       "==============================================================================\n",
       "                 coef    std err          t      P>|t|      [0.025      0.975]\n",
       "------------------------------------------------------------------------------\n",
       "const        -43.5440     17.613     -2.472      0.039     -84.159      -2.929\n",
       "x1             0.6774      0.127      5.328      0.001       0.384       0.971\n",
       "==============================================================================\n",
       "Omnibus:                        0.380   Durbin-Watson:                   1.967\n",
       "Prob(Omnibus):                  0.827   Jarque-Bera (JB):                0.384\n",
       "Skew:                          -0.346   Prob(JB):                        0.825\n",
       "Kurtosis:                       2.335   Cond. No.                     1.34e+03\n",
       "==============================================================================\n",
       "\n",
       "Warnings:\n",
       "[1] Standard Errors assume that the covariance matrix of the errors is correctly specified.\n",
       "[2] The condition number is large, 1.34e+03. This might indicate that there are\n",
       "strong multicollinearity or other numerical problems.\n",
       "\"\"\""
      ]
     },
     "execution_count": 2,
     "metadata": {},
     "output_type": "execute_result"
    }
   ],
   "source": [
    "# Definimos los datos de edad y presion\n",
    "\n",
    "edad = np.array([56, 42, 72, 36, 63, 47, 55, 47, 38, 42])\n",
    "presion = np.array([148, 126, 159, 118, 149, 130, 151, 142, 114, 141])\n",
    "\n",
    "x = presion\n",
    "y = edad\n",
    "x = sm.add_constant(x)\n",
    "model = sm.OLS(y, x).fit()\n",
    "model.summary()"
   ]
  },
  {
   "cell_type": "code",
   "execution_count": 3,
   "metadata": {},
   "outputs": [
    {
     "name": "stdout",
     "output_type": "stream",
     "text": [
      "Linea de mejor ajuste: Y = -43.54402824083161 + 0.6773877230829579*X\n"
     ]
    }
   ],
   "source": [
    "B0, B1 = model.params\n",
    "print(\"Linea de mejor ajuste: Y = {0} + {1}*X\".format(B0,B1))"
   ]
  },
  {
   "cell_type": "code",
   "execution_count": 4,
   "metadata": {
    "scrolled": true
   },
   "outputs": [
    {
     "data": {
      "image/png": "[encoded data removed]",
      "text/plain": [
       "<Figure size 432x288 with 1 Axes>"
      ]
     },
     "metadata": {
      "needs_background": "light"
     },
     "output_type": "display_data"
    }
   ],
   "source": [
    "x = presion\n",
    "x2 = np.linspace(x.min(), x.max(), 100)\n",
    "y_pred = x2 * B1 + B0\n",
    "\n",
    "plt.scatter(x, y, alpha=1) #grafica el scatter plot\n",
    "plt.plot(x2, y_pred, 'r', alpha=1) # la linea de regresion en rojo\n",
    "plt.xlabel('Presion')\n",
    "plt.ylabel('Edad')\n",
    "plt.show()"
   ]
  },
  {
   "cell_type": "code",
   "execution_count": 5,
   "metadata": {},
   "outputs": [
    {
     "data": {
      "text/plain": [
       "Text(0,0.5,'Residules')"
      ]
     },
     "execution_count": 5,
     "metadata": {},
     "output_type": "execute_result"
    },
    {
     "data": {
      "image/png": "[encoded data removed]",
      "text/plain": [
       "<Figure size 432x288 with 1 Axes>"
      ]
     },
     "metadata": {
      "needs_background": "light"
     },
     "output_type": "display_data"
    }
   ],
   "source": [
    "# En el siguiente grafico cruzaremos los valores del modelo con los residuos, para evaluar la Heteroscedasticidad\n",
    "\n",
    "# Esto seria viendo si existe una la varianza aumenta a medida que aumenta el valor predictivo\n",
    "\n",
    "x = presion\n",
    "y = edad\n",
    "x = sm.add_constant(x)\n",
    "y_pred=model.predict(x)\n",
    "y_pred\n",
    "\n",
    "plt.scatter(y_pred, model.resid)\n",
    "plt.axhline(0, color='red')\n",
    "plt.xlabel('Valores Predictivos')\n",
    "plt.ylabel('Residules')"
   ]
  },
  {
   "cell_type": "code",
   "execution_count": 6,
   "metadata": {},
   "outputs": [
    {
     "name": "stdout",
     "output_type": "stream",
     "text": [
      "0.1905216387768781\n",
      "La relación no es heteroscedástica\n"
     ]
    }
   ],
   "source": [
    "breusch_pagan_p = smd.het_breuschpagan(model.resid, model.model.exog)[1]\n",
    "print(breusch_pagan_p)\n",
    "if breusch_pagan_p > 0.05:\n",
    "    print('La relación no es heteroscedástica')\n",
    "if breusch_pagan_p < 0.05:\n",
    "    print('La relación es heteroscedástica')"
   ]
  },
  {
   "cell_type": "markdown",
   "metadata": {},
   "source": [
    " Dado el grafico de dispersion , podriamos afimar que si podemos plantear un problema de regresion lineal. A priori parece que hay cierta relacion lineal entre las variables.\n",
    "\n",
    "El coeficiente de determinacion r cuadrado es de 0.78, con lo que calidad del modelo a la hora de precedir no sera del todo precisa.\n",
    "\n",
    "La muestra es homocedástica, lo que indica que la varianza del error condicional a las variables explicativas es constante a lo largo de las observaciones. Esta es una propiedad fundamental de los modelos de regresion lineal.\n",
    "\n",
    "En este modelo el parametro B0, desde el punto de vista fisico o real ,no tiene sentido puesto que seria el valor de la presion para un persona de 0 anos \n",
    "El parametro B1 , indica que, por término medio, cada ano de edad supone un incremento de 0.677 en la presion."
   ]
  },
  {
   "cell_type": "markdown",
   "metadata": {},
   "source": [
    "# Ejercicio 2\n",
    "Con el conjunto de datos de *cars.csv* estudiar si hay relación lineal entre la variable dist y la variable speed. \n",
    "Construye el modelo lineal y muestra la función lineal resultante\n",
    "¿Puedes hacer algún tipo de predicción? Comenta los resultados"
   ]
  },
  {
   "cell_type": "code",
   "execution_count": 7,
   "metadata": {},
   "outputs": [
    {
     "data": {
      "text/html": [
       "<table class=\"simpletable\">\n",
       "<caption>OLS Regression Results</caption>\n",
       "<tr>\n",
       "  <th>Dep. Variable:</th>            <td>y</td>        <th>  R-squared:         </th> <td>   0.651</td>\n",
       "</tr>\n",
       "<tr>\n",
       "  <th>Model:</th>                   <td>OLS</td>       <th>  Adj. R-squared:    </th> <td>   0.644</td>\n",
       "</tr>\n",
       "<tr>\n",
       "  <th>Method:</th>             <td>Least Squares</td>  <th>  F-statistic:       </th> <td>   89.57</td>\n",
       "</tr>\n",
       "<tr>\n",
       "  <th>Date:</th>             <td>Tue, 14 Apr 2020</td> <th>  Prob (F-statistic):</th> <td>1.49e-12</td>\n",
       "</tr>\n",
       "<tr>\n",
       "  <th>Time:</th>                 <td>15:21:03</td>     <th>  Log-Likelihood:    </th> <td> -127.39</td>\n",
       "</tr>\n",
       "<tr>\n",
       "  <th>No. Observations:</th>      <td>    50</td>      <th>  AIC:               </th> <td>   258.8</td>\n",
       "</tr>\n",
       "<tr>\n",
       "  <th>Df Residuals:</th>          <td>    48</td>      <th>  BIC:               </th> <td>   262.6</td>\n",
       "</tr>\n",
       "<tr>\n",
       "  <th>Df Model:</th>              <td>     1</td>      <th>                     </th>     <td> </td>   \n",
       "</tr>\n",
       "<tr>\n",
       "  <th>Covariance Type:</th>      <td>nonrobust</td>    <th>                     </th>     <td> </td>   \n",
       "</tr>\n",
       "</table>\n",
       "<table class=\"simpletable\">\n",
       "<tr>\n",
       "    <td></td>       <th>coef</th>     <th>std err</th>      <th>t</th>      <th>P>|t|</th>  <th>[0.025</th>    <th>0.975]</th>  \n",
       "</tr>\n",
       "<tr>\n",
       "  <th>const</th> <td>    8.2839</td> <td>    0.874</td> <td>    9.474</td> <td> 0.000</td> <td>    6.526</td> <td>   10.042</td>\n",
       "</tr>\n",
       "<tr>\n",
       "  <th>x1</th>    <td>    0.1656</td> <td>    0.017</td> <td>    9.464</td> <td> 0.000</td> <td>    0.130</td> <td>    0.201</td>\n",
       "</tr>\n",
       "</table>\n",
       "<table class=\"simpletable\">\n",
       "<tr>\n",
       "  <th>Omnibus:</th>       <td> 0.720</td> <th>  Durbin-Watson:     </th> <td>   1.195</td>\n",
       "</tr>\n",
       "<tr>\n",
       "  <th>Prob(Omnibus):</th> <td> 0.698</td> <th>  Jarque-Bera (JB):  </th> <td>   0.827</td>\n",
       "</tr>\n",
       "<tr>\n",
       "  <th>Skew:</th>          <td>-0.207</td> <th>  Prob(JB):          </th> <td>   0.661</td>\n",
       "</tr>\n",
       "<tr>\n",
       "  <th>Kurtosis:</th>      <td> 2.526</td> <th>  Cond. No.          </th> <td>    98.0</td>\n",
       "</tr>\n",
       "</table><br/><br/>Warnings:<br/>[1] Standard Errors assume that the covariance matrix of the errors is correctly specified."
      ],
      "text/plain": [
       "<class 'statsmodels.iolib.summary.Summary'>\n",
       "\"\"\"\n",
       "                            OLS Regression Results                            \n",
       "==============================================================================\n",
       "Dep. Variable:                      y   R-squared:                       0.651\n",
       "Model:                            OLS   Adj. R-squared:                  0.644\n",
       "Method:                 Least Squares   F-statistic:                     89.57\n",
       "Date:                Tue, 14 Apr 2020   Prob (F-statistic):           1.49e-12\n",
       "Time:                        15:21:03   Log-Likelihood:                -127.39\n",
       "No. Observations:                  50   AIC:                             258.8\n",
       "Df Residuals:                      48   BIC:                             262.6\n",
       "Df Model:                           1                                         \n",
       "Covariance Type:            nonrobust                                         \n",
       "==============================================================================\n",
       "                 coef    std err          t      P>|t|      [0.025      0.975]\n",
       "------------------------------------------------------------------------------\n",
       "const          8.2839      0.874      9.474      0.000       6.526      10.042\n",
       "x1             0.1656      0.017      9.464      0.000       0.130       0.201\n",
       "==============================================================================\n",
       "Omnibus:                        0.720   Durbin-Watson:                   1.195\n",
       "Prob(Omnibus):                  0.698   Jarque-Bera (JB):                0.827\n",
       "Skew:                          -0.207   Prob(JB):                        0.661\n",
       "Kurtosis:                       2.526   Cond. No.                         98.0\n",
       "==============================================================================\n",
       "\n",
       "Warnings:\n",
       "[1] Standard Errors assume that the covariance matrix of the errors is correctly specified.\n",
       "\"\"\""
      ]
     },
     "execution_count": 7,
     "metadata": {},
     "output_type": "execute_result"
    }
   ],
   "source": [
    "%matplotlib inline\n",
    "import matplotlib.pyplot as plt\n",
    "import pandas as pd  # To read data\n",
    "import statsmodels.api as sm\n",
    "import statsmodels.stats.diagnostic as smd\n",
    "\n",
    "df2 = pd.read_csv('cars.csv', sep=';').set_index('Unnamed: 0')\n",
    "\n",
    "dist = df2['dist'].values.reshape(-1, 1)  # values converts it into a numpy array\n",
    "speed = df2['speed'].values.reshape(-1, 1)  # -1 means that calculate the dimension of rows, but have 1 column\n",
    "\n",
    "x = sm.add_constant(dist)\n",
    "y = speed\n",
    "\n",
    "model = sm.OLS(y, x).fit()\n",
    "model.summary()"
   ]
  },
  {
   "cell_type": "code",
   "execution_count": 8,
   "metadata": {},
   "outputs": [
    {
     "name": "stdout",
     "output_type": "stream",
     "text": [
      "Linea de mejor ajuste: Y = 8.283905641787177 + 0.16556757464431895*X\n"
     ]
    }
   ],
   "source": [
    "B0, B1 = model.params\n",
    "print(\"Linea de mejor ajuste: Y = {0} + {1}*X\".format(B0,B1))"
   ]
  },
  {
   "cell_type": "code",
   "execution_count": 9,
   "metadata": {},
   "outputs": [
    {
     "data": {
      "image/png": "[encoded data removed]",
      "text/plain": [
       "<Figure size 432x288 with 1 Axes>"
      ]
     },
     "metadata": {
      "needs_background": "light"
     },
     "output_type": "display_data"
    }
   ],
   "source": [
    "x = dist\n",
    "x2 = np.linspace(x.min(), x.max(), 100)\n",
    "y_pred = x2 * B1 + B0\n",
    "\n",
    "plt.scatter(x, y, alpha=1) #grafica el scatter plot\n",
    "plt.plot(x2, y_pred, 'r', alpha=1) # la linea de regresion en rojo\n",
    "plt.xlabel('dist')\n",
    "plt.ylabel('speed')\n",
    "plt.show()"
   ]
  },
  {
   "cell_type": "code",
   "execution_count": 10,
   "metadata": {},
   "outputs": [
    {
     "data": {
      "image/png": "[encoded data removed]",
      "text/plain": [
       "<Figure size 432x288 with 1 Axes>"
      ]
     },
     "metadata": {
      "needs_background": "light"
     },
     "output_type": "display_data"
    }
   ],
   "source": [
    "# En el siguiente grafico cruzaremos los valores del modelo con los residuos, para evaluar la Heteroscedasticidad\n",
    "\n",
    "# Esto seria viendo si existe una la varianza aumenta a medida que aumenta el valor predictivo\n",
    "\n",
    "dist = df2['dist'].values.reshape(-1, 1)  # values converts it into a numpy array\n",
    "speed = df2['speed'].values.reshape(-1, 1)  # -1 means that calculate the dimension of rows, but have 1 column\n",
    "\n",
    "x = sm.add_constant(dist)\n",
    "y_pred=model.predict(x)\n",
    "\n",
    "plt.scatter(y_pred, model.resid)\n",
    "plt.axhline(0, color='red')\n",
    "plt.xlabel('Valores Predictivos')\n",
    "plt.ylabel('Residules')\n",
    "plt.show()"
   ]
  },
  {
   "cell_type": "code",
   "execution_count": 11,
   "metadata": {},
   "outputs": [
    {
     "name": "stdout",
     "output_type": "stream",
     "text": [
      "0.3977174781694164\n",
      "La relación no es heteroscedástica\n"
     ]
    }
   ],
   "source": [
    "breusch_pagan_p = smd.het_breuschpagan(model.resid, model.model.exog)[1]\n",
    "print(breusch_pagan_p)\n",
    "if breusch_pagan_p > 0.05:\n",
    "    print('La relación no es heteroscedástica')\n",
    "if breusch_pagan_p < 0.05:\n",
    "    print('La relación es heteroscedástica')"
   ]
  },
  {
   "cell_type": "markdown",
   "metadata": {},
   "source": [
    "Viendo el grafico de dispersion, al igual que en el primer apartado, podemos plantear un problema de regresion lineal, y ver si existe relacion entre las variables distancia y velocidad.\n",
    "\n",
    "Una vez entrenado el modelo y sacadas algunas estadisticas, vemos que si existe cierta dependencia, aunque con un coeficiente de determinacion un poco bajo (0,65). Las predicciones son seran muy ajustadas.\n",
    "La muestra tambien es homocesdastica.\n",
    "\n",
    "El parametro B0,desde el punto de vista fisico o real no tiene sentido, puesto que seria la distancia recorrida para una velocidad de 0 (-17.579).\n",
    "El parametro B1 nos muestra que por cada unidad de distancia recorrida la velocidad aumenta de media 3.932 unidades "
   ]
  },
  {
   "cell_type": "markdown",
   "metadata": {},
   "source": [
    "# Ejercicio 3\n",
    "Como responsable de una empresa, nos piden evaluar que máquina debemos comprar. Para ello nos dan 4 posibles opciones. \n",
    "Cada máquina la tenemos trabajando un numero de horas (variable x) y por cada registro de numero de horas trabajada nos da un valor (variable y) de metros cubicos de tierra que saca. \n",
    "\n",
    "Basándonos en los datos que tenemos. Saca una conclusión de que maquina (variable Group) es mejor. \n",
    "Para ello haz una regresión lineal por cada máquina (variable Group)\n",
    "\n",
    "Datos de entrada: datos_ejercicio3.csv\n"
   ]
  },
  {
   "cell_type": "code",
   "execution_count": 14,
   "metadata": {},
   "outputs": [
    {
     "name": "stderr",
     "output_type": "stream",
     "text": [
      "/opt/anaconda3/lib/python3.7/site-packages/scipy/stats/stats.py:1450: UserWarning: kurtosistest only valid for n>=20 ... continuing anyway, n=11\n",
      "  \"anyway, n=%i\" % int(n))\n"
     ]
    },
    {
     "name": "stdout",
     "output_type": "stream",
     "text": [
      "                            OLS Regression Results                            \n",
      "==============================================================================\n",
      "Dep. Variable:                      y   R-squared:                       0.667\n",
      "Model:                            OLS   Adj. R-squared:                  0.630\n",
      "Method:                 Least Squares   F-statistic:                     18.00\n",
      "Date:                Tue, 14 Apr 2020   Prob (F-statistic):            0.00216\n",
      "Time:                        15:22:06   Log-Likelihood:                -16.833\n",
      "No. Observations:                  11   AIC:                             37.67\n",
      "Df Residuals:                       9   BIC:                             38.46\n",
      "Df Model:                           1                                         \n",
      "Covariance Type:            nonrobust                                         \n",
      "==============================================================================\n",
      "                 coef    std err          t      P>|t|      [0.025      0.975]\n",
      "------------------------------------------------------------------------------\n",
      "const          3.0017      1.124      2.671      0.026       0.459       5.544\n",
      "x1             0.4999      0.118      4.243      0.002       0.233       0.766\n",
      "==============================================================================\n",
      "Omnibus:                        0.555   Durbin-Watson:                   1.662\n",
      "Prob(Omnibus):                  0.758   Jarque-Bera (JB):                0.524\n",
      "Skew:                           0.010   Prob(JB):                        0.769\n",
      "Kurtosis:                       1.931   Cond. No.                         29.1\n",
      "==============================================================================\n",
      "\n",
      "Warnings:\n",
      "[1] Standard Errors assume that the covariance matrix of the errors is correctly specified.\n",
      "Analisis del Grupo: 1\n",
      "  Linea de mejor ajuste para Group 1: Y = 3.0000909090909085 + 0.5000909090909091*X\n",
      "  La relación del grupo 1 no es heteroscedástica\n",
      "                            OLS Regression Results                            \n",
      "==============================================================================\n",
      "Dep. Variable:                      y   R-squared:                       0.667\n",
      "Model:                            OLS   Adj. R-squared:                  0.629\n",
      "Method:                 Least Squares   F-statistic:                     17.99\n",
      "Date:                Tue, 14 Apr 2020   Prob (F-statistic):            0.00217\n",
      "Time:                        15:22:06   Log-Likelihood:                -16.841\n",
      "No. Observations:                  11   AIC:                             37.68\n",
      "Df Residuals:                       9   BIC:                             38.48\n",
      "Df Model:                           1                                         \n",
      "Covariance Type:            nonrobust                                         \n",
      "==============================================================================\n",
      "                 coef    std err          t      P>|t|      [0.025      0.975]\n",
      "------------------------------------------------------------------------------\n",
      "const          3.0001      1.125      2.667      0.026       0.456       5.544\n",
      "x1             0.5001      0.118      4.241      0.002       0.233       0.767\n",
      "==============================================================================\n",
      "Omnibus:                        0.082   Durbin-Watson:                   3.212\n",
      "Prob(Omnibus):                  0.960   Jarque-Bera (JB):                0.289\n",
      "Skew:                          -0.122   Prob(JB):                        0.865\n",
      "Kurtosis:                       2.244   Cond. No.                         29.1\n",
      "==============================================================================\n",
      "\n",
      "Warnings:\n",
      "[1] Standard Errors assume that the covariance matrix of the errors is correctly specified.\n",
      "Analisis del Grupo: 2\n",
      "  Linea de mejor ajuste para Group 2: Y = 3.0009090909090905 + 0.5*X\n",
      "  La relación del grupo 2 no es heteroscedástica\n",
      "                            OLS Regression Results                            \n",
      "==============================================================================\n",
      "Dep. Variable:                      y   R-squared:                       0.666\n",
      "Model:                            OLS   Adj. R-squared:                  0.629\n",
      "Method:                 Least Squares   F-statistic:                     17.97\n",
      "Date:                Tue, 14 Apr 2020   Prob (F-statistic):            0.00218\n",
      "Time:                        15:22:06   Log-Likelihood:                -16.846\n",
      "No. Observations:                  11   AIC:                             37.69\n",
      "Df Residuals:                       9   BIC:                             38.49\n",
      "Df Model:                           1                                         \n",
      "Covariance Type:            nonrobust                                         \n",
      "==============================================================================\n",
      "                 coef    std err          t      P>|t|      [0.025      0.975]\n",
      "------------------------------------------------------------------------------\n",
      "const          3.0009      1.125      2.667      0.026       0.455       5.547\n",
      "x1             0.5000      0.118      4.239      0.002       0.233       0.767\n",
      "==============================================================================\n",
      "Omnibus:                        1.594   Durbin-Watson:                   2.188\n",
      "Prob(Omnibus):                  0.451   Jarque-Bera (JB):                1.108\n",
      "Skew:                          -0.567   Prob(JB):                        0.575\n",
      "Kurtosis:                       1.936   Cond. No.                         29.1\n",
      "==============================================================================\n",
      "\n",
      "Warnings:\n",
      "[1] Standard Errors assume that the covariance matrix of the errors is correctly specified.\n",
      "Analisis del Grupo: 3\n",
      "  Linea de mejor ajuste para Group 3: Y = 3.0024545454545453 + 0.49972727272727285*X\n",
      "  La relación del grupo 3 no es heteroscedástica\n",
      "                            OLS Regression Results                            \n",
      "==============================================================================\n",
      "Dep. Variable:                      y   R-squared:                       0.666\n",
      "Model:                            OLS   Adj. R-squared:                  0.629\n",
      "Method:                 Least Squares   F-statistic:                     17.97\n",
      "Date:                Tue, 14 Apr 2020   Prob (F-statistic):            0.00218\n",
      "Time:                        15:22:06   Log-Likelihood:                -16.838\n",
      "No. Observations:                  11   AIC:                             37.68\n",
      "Df Residuals:                       9   BIC:                             38.47\n",
      "Df Model:                           1                                         \n",
      "Covariance Type:            nonrobust                                         \n",
      "==============================================================================\n",
      "                 coef    std err          t      P>|t|      [0.025      0.975]\n",
      "------------------------------------------------------------------------------\n",
      "const          3.0025      1.124      2.670      0.026       0.459       5.546\n",
      "x1             0.4997      0.118      4.239      0.002       0.233       0.766\n",
      "==============================================================================\n",
      "Omnibus:                       19.540   Durbin-Watson:                   2.144\n",
      "Prob(Omnibus):                  0.000   Jarque-Bera (JB):               13.478\n",
      "Skew:                           2.041   Prob(JB):                      0.00118\n",
      "Kurtosis:                       6.571   Cond. No.                         29.1\n",
      "==============================================================================\n",
      "\n",
      "Warnings:\n",
      "[1] Standard Errors assume that the covariance matrix of the errors is correctly specified.\n",
      "Analisis del Grupo: 4\n",
      "  Linea de mejor ajuste para Group 4: Y = 3.0017272727272752 + 0.49990909090909075*X\n",
      "  La relación del grupo 4 no es heteroscedástica\n",
      "\n",
      "A continuacion las graficas de cada grupo\n"
     ]
    },
    {
     "data": {
      "image/png": "[encoded data removed]",
      "text/plain": [
       "<Figure size 360x1440 with 4 Axes>"
      ]
     },
     "metadata": {
      "needs_background": "light"
     },
     "output_type": "display_data"
    }
   ],
   "source": [
    "import numpy as np\n",
    "import matplotlib.pyplot as plt  # To visualize\n",
    "import pandas as pd  # To read data\n",
    "import statsmodels.api as sm\n",
    "import statsmodels.stats.diagnostic as smd\n",
    "\n",
    "df3 = pd.read_csv('datos_ejercicio3.csv', sep=';')\n",
    "\n",
    "groups = df3.groupby('group')\n",
    "\n",
    "fig, axs = plt.subplots(groups.ngroups,figsize=(5,20))\n",
    "\n",
    "i=0\n",
    "for name, group in groups:\n",
    "    print (model.summary())\n",
    "    print('Analisis del Grupo: {0}'.format(name))\n",
    "    x=group['x'].values.reshape(-1, 1)\n",
    "    y=group['y'].values.reshape(-1, 1)\n",
    "    \n",
    "    x_tmp = sm.add_constant(x)\n",
    "    model = sm.OLS(y, x_tmp).fit()\n",
    "    \n",
    "    B0, B1 = model.params\n",
    "    x2 = np.linspace(x.min(), x.max(), 100)\n",
    "    y_pred = x2 * B1 + B0\n",
    "\n",
    "    print(\"  Linea de mejor ajuste para Group {2}: Y = {0} + {1}*X\".format(B0,B1,name))\n",
    "    \n",
    "    axs[i].plot(x2, y_pred, 'r', alpha=1)\n",
    "    axs[i].scatter(x, y, alpha=1)\n",
    "    axs[i].set_title('Group '+ str(name))\n",
    "\n",
    "    breusch_pagan_p = smd.het_breuschpagan(model.resid, model.model.exog)[1]\n",
    "    if breusch_pagan_p > 0.05:\n",
    "        print('  La relación del grupo {0} no es heteroscedástica'.format(name))\n",
    "    if breusch_pagan_p < 0.05:\n",
    "        print('  La relación del grupo {0} es heteroscedástica'.format(name))\n",
    "    \n",
    "    i=i+1\n",
    "\n",
    "print()\n",
    "print('A continuacion las graficas de cada grupo')"
   ]
  },
  {
   "cell_type": "markdown",
   "metadata": {},
   "source": [
    "Dentro de los cuatro grupos que tenemos, el grupo 2, viendo su grafico de dispersion se asemeja a una relacion logaritmica pero en ningun caso lineal.\n",
    "\n",
    "El grupo 4 tampoco tiene ningun tipo de relacion lineal\n",
    "Por contra, los grupos 1 y 3 si presentan una relacion lineal. Ambos tienen un coeficiente de determinacion similar (0.667), ambas muestras son homocesdasticas, por lo tanto seria vu"
   ]
  }
 ],
 "metadata": {
  "kernelspec": {
   "display_name": "Python 3",
   "language": "python",
   "name": "python3"
  },
  "language_info": {
   "codemirror_mode": {
    "name": "ipython",
    "version": 3
   },
   "file_extension": ".py",
   "mimetype": "text/x-python",
   "name": "python",
   "nbconvert_exporter": "python",
   "pygments_lexer": "ipython3",
   "version": "3.7.4"
  }
 },
 "nbformat": 4,
 "nbformat_minor": 4
}

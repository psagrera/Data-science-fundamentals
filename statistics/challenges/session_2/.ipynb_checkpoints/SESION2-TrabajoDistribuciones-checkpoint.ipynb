{
 "cells": [
  {
   "attachments": {
    "image.png": {
     "image/png": "[encoded data removed]"
    }
   },
   "cell_type": "markdown",
   "metadata": {},
   "source": [
    "![image.png](attachment:image.png)\n",
    "\n",
    "<center style=\"color:#888\">Estadística para Data Science<br/>Asignatura Estadística</center>\n",
    "\n",
    " \n",
    "\n",
    "# Trabajo con algunas Distribuciones\n"
   ]
  },
  {
   "cell_type": "markdown",
   "metadata": {},
   "source": [
    "\n",
    "\n",
    "$$ P(x) =\\binom{N}{x} \\cdot p^xq^{N-x}$$\n"
   ]
  },
  {
   "cell_type": "code",
   "execution_count": 8,
   "metadata": {},
   "outputs": [],
   "source": [
    "%matplotlib inline\n",
    "import warnings\n",
    "warnings.filterwarnings(\"ignore\")\n",
    "import numpy as np\n",
    "import pandas as pd\n",
    "import matplotlib.pyplot as plt\n",
    "#from matplotlib.pyplot import subplot, scatter, plot, axis\n",
    "from statistics import mode\n",
    "from scipy.stats import binom\n",
    "import seaborn as sb"
   ]
  },
  {
   "cell_type": "markdown",
   "metadata": {},
   "source": [
    "# Distribución binomial\n",
    "\n",
    "Distribución binomial de probabilidades. En estadística , la distribución binomial es una distribución de probabilidad discreta que indica el número de éxitos al realizar una secuencia de n ensayos independientes entre sí, con una probabilidad fija (p) de ocurrencia del éxito entre esos ensayos.\n",
    "\n",
    "Sólo determina éxito o fracaso.\n",
    "\n",
    "** Ejemplos**\n",
    "* Producción una pieza, puede salir bien o defectuosa.\n",
    "* Al nacer puede ser varón o hembra.\n",
    "* Un equipo de baloncesto puede ganar o perder.\n",
    "* En un test psicotécnico hay peguntas de verdadero o falso, es decir sólo hay dos alternativas.\n",
    "* Un tratamiento médico, como por ejemplo la vacuna de la gripe A, puede ser efectivo o inefectivo.\n",
    "* El objetivo de ventas al año de coches en un concesionario se puede o no lograr\n",
    "\n",
    "\n",
    "Uso:\n",
    "\n"
   ]
  },
  {
   "cell_type": "markdown",
   "metadata": {},
   "source": [
    "## Función masa de probabilidad\n",
    "\n",
    "Ejemplo\n",
    "\n",
    "binom.pmf(k,n,p)\n",
    "\n",
    ">>__Supongamos que hay doce preguntas de opción múltiple en una prueba de clase de inglés. Cada pregunta tiene cinco respuestas posibles, y solo una de ellas es correcta. Encuentre la probabilidad de tener cuatro o menos respuestas correctas si un estudiante intenta responder cada pregunta al azar.__\n",
    "    \n",
    "Solución\n",
    "\n",
    ">>Dado que solo una de cada cinco respuestas posibles es correcta, la probabilidad de responder una pregunta correctamente al azar es 1/5 = 0.2. Podemos encontrar la probabilidad de tener exactamente 4 respuestas correctas por intentos aleatorios de la siguiente manera.\n"
   ]
  },
  {
   "cell_type": "code",
   "execution_count": 9,
   "metadata": {},
   "outputs": [
    {
     "data": {
      "text/plain": [
       "1.0000000000000016e-05"
      ]
     },
     "execution_count": 9,
     "metadata": {},
     "output_type": "execute_result"
    }
   ],
   "source": [
    "binom.pmf(5,5,0.1)"
   ]
  },
  {
   "cell_type": "markdown",
   "metadata": {},
   "source": [
    "## Ejercicio\n",
    "Un proveedor de DVDs regrabables afirma que solamente el 4 % de los artículos suministrados son defectuosos. Si un cliente compra un lote de 25 DVDs:\n",
    "* ¿Cuál es el número esperado de DVDs defectuosos en el lote? \n",
    "* Si el cliente encuentra que 4 de los DVDs comprados son defectuosos, ¿debe dudar de la afirmación del vendedor?"
   ]
  },
  {
   "cell_type": "code",
   "execution_count": 10,
   "metadata": {},
   "outputs": [
    {
     "data": {
      "text/plain": [
       "1.0"
      ]
     },
     "execution_count": 10,
     "metadata": {},
     "output_type": "execute_result"
    }
   ],
   "source": [
    "import scipy.stats as ss\n",
    "\n",
    "X = ss.binom(25,0.04)\n",
    "\n",
    "X.mean() # 1.0"
   ]
  },
  {
   "cell_type": "markdown",
   "metadata": {},
   "source": [
    "Es decir, de media habría 1 DVD defectuoso en el paquete(mean --> calcula la media de la distribución)\n",
    "\n",
    "Para saber si hay que fiarse del vendedor vamos a calcular cuál era la probabilidad de que nos tocasen 4 DVDs defectuosos."
   ]
  },
  {
   "cell_type": "code",
   "execution_count": 12,
   "metadata": {},
   "outputs": [
    {
     "data": {
      "text/plain": [
       "0.016521575032415876"
      ]
     },
     "execution_count": 12,
     "metadata": {},
     "output_type": "execute_result"
    }
   ],
   "source": [
    "import scipy.stats as ss\n",
    "X = ss.binom(25,0.04)\n",
    "X.sf(3) # 0.016521575032415914"
   ]
  },
  {
   "cell_type": "markdown",
   "metadata": {},
   "source": [
    "Es decir, la probabilidad que ocurriese era del 1%. \n",
    "\n",
    "Podemos sospechar del fabricante? Sabiendo que .cdf calcula las probabilidades acumuladas. \n",
    "En este caso tenemos que calcular la probabilidad de que hubiese 4 o más fallos, Pr{X>=4}. \n",
    "Una manera fácil de calcularlo es hacer 1-Pr{X<4}. cdf(n) nos permite calcular probabilidades acumuladas hasta N. \n",
    "Otra opción sería simplemente obtener la probabilidad de 0 DVDs defectuosos, 1 DVD defectuoso, de 2 DVDs defectuosos, de 3 DVDs defectuosos, sumarlo y restarlo de 1.\n"
   ]
  },
  {
   "cell_type": "code",
   "execution_count": 14,
   "metadata": {},
   "outputs": [
    {
     "data": {
      "text/plain": [
       "0.016521575032417912"
      ]
     },
     "execution_count": 14,
     "metadata": {},
     "output_type": "execute_result"
    }
   ],
   "source": [
    "X = ss.binom(25,0.04)\n",
    "pr = 1 - sum(X.pmf(x) for x in range(4))\n",
    "pr"
   ]
  },
  {
   "cell_type": "markdown",
   "metadata": {},
   "source": [
    "pmf(n) devuelve la probabilidad de que X=N, Pr{X=N} Esto solo tiene sentido en ciertas distribuciones, las discretas, como es el caso de la binomial.\n",
    "\n",
    "Podemos calcular la gráfica de esta distribución binomial."
   ]
  },
  {
   "cell_type": "code",
   "execution_count": 15,
   "metadata": {},
   "outputs": [
    {
     "data": {
      "image/png": "[encoded data removed]",
      "text/plain": [
       "<Figure size 432x288 with 1 Axes>"
      ]
     },
     "metadata": {
      "needs_background": "light"
     },
     "output_type": "display_data"
    }
   ],
   "source": [
    "import scipy.stats as ss\n",
    "import matplotlib.pyplot as plt\n",
    "\n",
    "X = ss.binom(25,0.04)\n",
    "x = np.arange(10)\n",
    "\n",
    "plt.plot(x,X.pmf(x),\"bo\")\n",
    "plt.vlines(x,0,X.pmf(x),\"b\")\n",
    "plt.show()"
   ]
  },
  {
   "cell_type": "markdown",
   "metadata": {},
   "source": [
    "En el gráfico también se puede ver que las probabilidades de tener 4 o más DVDs defectuosos son mínimas."
   ]
  },
  {
   "cell_type": "markdown",
   "metadata": {},
   "source": [
    "# Ejercicios\n",
    "\n",
    "### Ejercicio 1:\n",
    "Un jugador marca el 85% de los penaltis que intenta. Si lanza 8 penaltis calcular la probabilidad de:\n",
    "* Marque más de 6 penaltis\n",
    "* Marque al menos 6 penaltis\n",
    "\n",
    "### Ejercicio 2:\n",
    "La probabilidad de que el comprador de un osciloscopio haga uso del servicio dentro del plazo de garantía es 0,2. Para los 5 osciloscopios que cierta empresa ha vendido independientemente a 5 compradores este mes:\n",
    "* ¿Cuál es la probabilidad de que exactamente 3 de los compradores hagan uso de la garantía?\n",
    "* ¿Cuál es la probabilidad de que 3 o más compradores hagan uso de la garantía?"
   ]
  },
  {
   "cell_type": "markdown",
   "metadata": {},
   "source": [
    "\n",
    "# Distribución hipergeométrica\n",
    "\n",
    "La distribución hipergeométrica es un modelo en el que se considera una población finita de tamaño N en la cual hay M individuos con una determinada característica y se seleccionan n y queremos saber la probabilidad de que haya cierto número de individuos con esa característica en la selección. Para trabajar con estas distribuciones, SciPy trae hypergeom.\n",
    "\n",
    "## Ejercicio: \n",
    "Se formó un jurado de 6 personas de un grupo de 20 posibles miembros de los cuales 8 eran mujeres y 12 hombres. El jurado seelecionó aleatoriamente, pero solamente tenía 1 mujer. ¿Hay motivos para dudarde la aletoriedad de la selección?\n"
   ]
  },
  {
   "cell_type": "code",
   "execution_count": 3,
   "metadata": {},
   "outputs": [
    {
     "data": {
      "text/plain": [
       "0.18730650154798736"
      ]
     },
     "execution_count": 3,
     "metadata": {},
     "output_type": "execute_result"
    }
   ],
   "source": [
    "import scipy.stats as ss\n",
    "\n",
    "X = ss.hypergeom(20,6,8)\n",
    "\n",
    "X.cdf(1) "
   ]
  },
  {
   "cell_type": "markdown",
   "metadata": {},
   "source": [
    "La probabilidad de que ocurriese lo que ocurrió es del 18,7%, una probabilidad suficientemente alta como para pensar que no hubo manipulación."
   ]
  },
  {
   "cell_type": "markdown",
   "metadata": {},
   "source": [
    "# Poisson\n",
    "\n",
    "La distribución de Poisson recoge sucesos independientes que ocurren en un soporte continuo. El número medio de sucesos por unidad de soporte se le conoce como λ y caracteriza la distribución. \n",
    "\n",
    "Algunos ejemplos de distribuciones de Poisson: \n",
    "* número de clientes que llegan cada hora a cierto puesto de servicio, \n",
    "* número de averías diarias de un sistema informático, \n",
    "* número de vehículos que pasan diariamente por un túnel, \n",
    "* número de defectos por kilómetro de cable, ...\n",
    "\n",
    "## Ejercicio:\n",
    "La impresora de una pequeña red informática recibe una media de 0.1 peticiones por segundo. Suponiendo que las peticiones a dicha impresora son independientes y a ritmo constante, ¿cuál es la probabilidad de un máximo de 2 peticiones en un segundo? Si la cola de la impresora tiene un comportamiento deficiente cuando recibe más de 10 peticiones en un minuto, ¿cuál es la probabilidad de que ocurra esto?\n"
   ]
  },
  {
   "cell_type": "code",
   "execution_count": 17,
   "metadata": {},
   "outputs": [
    {
     "data": {
      "text/plain": [
       "0.9998453469297354"
      ]
     },
     "execution_count": 17,
     "metadata": {},
     "output_type": "execute_result"
    }
   ],
   "source": [
    "import scipy.stats as ss\n",
    "\n",
    "X = ss.poisson(0.1)\n",
    "X.cdf(2) # 0.99984534692973537\n"
   ]
  },
  {
   "cell_type": "code",
   "execution_count": 18,
   "metadata": {},
   "outputs": [
    {
     "data": {
      "text/plain": [
       "0.042620923582538"
      ]
     },
     "execution_count": 18,
     "metadata": {},
     "output_type": "execute_result"
    }
   ],
   "source": [
    "Y = ss.poisson(6)\n",
    "Y.sf(10) # 0.042620923582537995"
   ]
  },
  {
   "cell_type": "markdown",
   "metadata": {},
   "source": [
    "# Normal\n",
    "Se plantea el siguiente ejercicio para su resolución:La duración de un determinado componente electrónico, en horas, es una v.a. que se distribuye según una N(2000,40). ¿Cuál es la probabilidad de que la duración de una de esas componentes sea superior a 1900 horas? ¿y de que esté entre 1850 y 1950 horas?\n"
   ]
  },
  {
   "cell_type": "code",
   "execution_count": 19,
   "metadata": {},
   "outputs": [
    {
     "data": {
      "text/plain": [
       "0.10556135638165455"
      ]
     },
     "execution_count": 19,
     "metadata": {},
     "output_type": "execute_result"
    }
   ],
   "source": [
    "import scipy.stats as ss\n",
    "\n",
    "X = ss.norm(2000,40)\n",
    "X.sf(1900) # 0.99379033467422384\n",
    "X.cdf(1950) - X.cdf(1850) # 0.10556135638165455"
   ]
  },
  {
   "cell_type": "markdown",
   "metadata": {},
   "source": [
    "Podemos representar esta variable:"
   ]
  },
  {
   "cell_type": "code",
   "execution_count": 20,
   "metadata": {},
   "outputs": [
    {
     "data": {
      "image/png": "[encoded data removed]",
      "text/plain": [
       "<Figure size 432x288 with 1 Axes>"
      ]
     },
     "metadata": {
      "needs_background": "light"
     },
     "output_type": "display_data"
    }
   ],
   "source": [
    "import scipy.stats as ss\n",
    "import numpy as np\n",
    "import matplotlib.pyplot as plt\n",
    "\n",
    "X = ss.norm(2000,40)\n",
    "x = np.arange(X.ppf(0.01),X.ppf(0.99))\n",
    "\n",
    "plt.plot(x,X.pdf(x),\"r\")\n",
    "plt.show()"
   ]
  },
  {
   "cell_type": "code",
   "execution_count": null,
   "metadata": {},
   "outputs": [],
   "source": []
  }
 ],
 "metadata": {
  "kernelspec": {
   "display_name": "Python 3",
   "language": "python",
   "name": "python3"
  },
  "language_info": {
   "codemirror_mode": {
    "name": "ipython",
    "version": 3
   },
   "file_extension": ".py",
   "mimetype": "text/x-python",
   "name": "python",
   "nbconvert_exporter": "python",
   "pygments_lexer": "ipython3",
   "version": "3.7.3"
  }
 },
 "nbformat": 4,
 "nbformat_minor": 2
}

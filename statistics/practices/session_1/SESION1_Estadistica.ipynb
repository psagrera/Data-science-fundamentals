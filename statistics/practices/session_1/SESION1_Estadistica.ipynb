{
 "cells": [
  {
   "attachments": {
    "image.png": {
     "image/png": "[encoded data removed]"
    }
   },
   "cell_type": "markdown",
   "metadata": {},
   "source": [
    "![image.png](attachment:image.png)\n",
    "# <center style=\"color:#888\">Módulo Data Science in IoT <br/>Asignatura Estadística</center>#\n",
    "\n",
    "# Estadística para DS - 2020\n",
    "# Worksheet Sesión 1\n"
   ]
  },
  {
   "cell_type": "markdown",
   "metadata": {},
   "source": [
    "# Estadística\n",
    "\n",
    "Es el conjunto de métodos y procedimientos que implican recopilación, presentación, ordenación\n",
    "y análisis de datos, con el fin que a partir de ellos puedan inferirse conclusiones.\n",
    "Pueden distinguirse dos ramas diferentes en Estadística:\n",
    "- Estadística Descriptiva, la cual es la que se utiliza en la descripción y análisis de conjuntos de\n",
    "datos o población.\n",
    "- Inferencia Estadística, la cual hace posible la estimación de una característica de una\n",
    "población, a partir de una muestra\n",
    "\n",
    "Todo análisis estadístico se inicia con una primera fase  de **análisis descriptivo** de los datos. \n",
    "Ésta tiene por objeto sintetizar la información mediante la elaboración de:  \n",
    "\n",
    "* Tablas de frecuencias  \n",
    "* El cálculo de medidas estadísticas (o estadísticos) y   \n",
    "* Representaciones gráficas.  \n",
    "\n",
    "Estos procedimientos descriptivos dependen de la naturaleza de la variable o atributo que se analiza.  \n",
    "Así mismo, diferenciaremos entre los procedimientos descriptivos que hacen referencia al análisis de una sola variable (análisis unidimensional) de los relativos a dos o más variables conjuntamente (análisis bidimensional o multidimensional).  \n",
    "\n",
    "Una vez utilizados los datos de la estadística descriptiva , la **estadística inferencial** estudia, basándose en el cálculo de probabilidades,  cómo sacar conclusiones generales para toda la población a partir del estudio de una muestra, y el grado de fiabilidad o significación de los resultados obtenidos.   \n",
    "Sus principales herramientas son:  \n",
    "\n",
    "* El muestreo  \n",
    "* La estimación de parámetros y   \n",
    "* El contraste de hipótesis.  \n"
   ]
  },
  {
   "cell_type": "markdown",
   "metadata": {},
   "source": [
    "# Tablas de Frecuencia\n",
    "Las tablas de frecuencia son una herramienta básica que puede usar para explorar datos y tener una idea de las relaciones entre las variables. Una tabla de frecuencia es solo una tabla de datos que muestra los recuentos de una o más variables categóricas.  \n",
    "\n",
    "Utilizamos en este caso el conjunto de datos meteoritos que muestra:\n",
    "El número de meteoritos que han caido a la tierra cada año desde 1915 hasta 2015"
   ]
  },
  {
   "cell_type": "code",
   "execution_count": 29,
   "metadata": {},
   "outputs": [],
   "source": [
    "import warnings\n",
    "warnings.filterwarnings(\"ignore\")\n",
    "import numpy as np\n",
    "import pandas as pd\n",
    "import matplotlib.pyplot as plt"
   ]
  },
  {
   "cell_type": "code",
   "execution_count": 30,
   "metadata": {},
   "outputs": [],
   "source": [
    "meteorites=[5,3,0,2,0,3,2,3,6,1,2,1,2,1,3,3,3,5,2,4,4,0,2,3,7,\n",
    "             12,3,10,9,2,3,7,7,2,3,3,6,2,4,3,5,2,2,4,0,4,2,5,2,\n",
    "             3,3,6,5,8,3,6,6,0,5,2,2,2,6,3,4,4,2,2,4,7,5,3,3,0,\n",
    "             2,2,2,1,3,4,2,2,1,1,1,2,1,4,4,3,2,1,4,1,1,1,0,0,2,0]"
   ]
  },
  {
   "cell_type": "code",
   "execution_count": 31,
   "metadata": {},
   "outputs": [],
   "source": [
    "meteorites=[6,4,1,3,1,4,3,4,7,2,3,2,3,2,4,4,4,6,3,5,5,1,3,4,8,\n",
    "12,4,11,10,3,4,8,8,3,4,4,7,3,5,4,6,3,3,5,1,5,3,6,3,4,\n",
    "4,7,6,9,4,7,7,1,6,3,3,3,7,4,5,5,3,3,5,8,6,4,4,1,\n",
    "3,3,3,2,4,5,3,3,2,2,2,3,2,5,5,4,3,2,5,2,2,2,1,1,3,1]"
   ]
  },
  {
   "cell_type": "code",
   "execution_count": 32,
   "metadata": {},
   "outputs": [
    {
     "data": {
      "text/plain": [
       "100"
      ]
     },
     "execution_count": 32,
     "metadata": {},
     "output_type": "execute_result"
    }
   ],
   "source": [
    "len(meteorites)"
   ]
  },
  {
   "cell_type": "code",
   "execution_count": 33,
   "metadata": {},
   "outputs": [
    {
     "data": {
      "text/plain": [
       "100"
      ]
     },
     "execution_count": 33,
     "metadata": {},
     "output_type": "execute_result"
    }
   ],
   "source": [
    "years=list(range(1915, 2015))\n",
    "len(years)"
   ]
  },
  {
   "cell_type": "code",
   "execution_count": 34,
   "metadata": {},
   "outputs": [],
   "source": [
    "data = {'Meteorites':meteorites,'Years':years}"
   ]
  },
  {
   "cell_type": "code",
   "execution_count": 35,
   "metadata": {},
   "outputs": [
    {
     "data": {
      "text/plain": [
       "11"
      ]
     },
     "execution_count": 35,
     "metadata": {},
     "output_type": "execute_result"
    }
   ],
   "source": [
    "rango = (max(meteorites) - min(meteorites)) \n",
    "rango\n",
    "    "
   ]
  },
  {
   "cell_type": "code",
   "execution_count": 36,
   "metadata": {},
   "outputs": [
    {
     "data": {
      "text/html": [
       "<div>\n",
       "<style scoped>\n",
       "    .dataframe tbody tr th:only-of-type {\n",
       "        vertical-align: middle;\n",
       "    }\n",
       "\n",
       "    .dataframe tbody tr th {\n",
       "        vertical-align: top;\n",
       "    }\n",
       "\n",
       "    .dataframe thead th {\n",
       "        text-align: right;\n",
       "    }\n",
       "</style>\n",
       "<table border=\"1\" class=\"dataframe\">\n",
       "  <thead>\n",
       "    <tr style=\"text-align: right;\">\n",
       "      <th></th>\n",
       "      <th>Meteorites</th>\n",
       "      <th>Years</th>\n",
       "    </tr>\n",
       "  </thead>\n",
       "  <tbody>\n",
       "    <tr>\n",
       "      <th>0</th>\n",
       "      <td>6</td>\n",
       "      <td>1915</td>\n",
       "    </tr>\n",
       "    <tr>\n",
       "      <th>1</th>\n",
       "      <td>4</td>\n",
       "      <td>1916</td>\n",
       "    </tr>\n",
       "    <tr>\n",
       "      <th>2</th>\n",
       "      <td>1</td>\n",
       "      <td>1917</td>\n",
       "    </tr>\n",
       "    <tr>\n",
       "      <th>3</th>\n",
       "      <td>3</td>\n",
       "      <td>1918</td>\n",
       "    </tr>\n",
       "    <tr>\n",
       "      <th>4</th>\n",
       "      <td>1</td>\n",
       "      <td>1919</td>\n",
       "    </tr>\n",
       "  </tbody>\n",
       "</table>\n",
       "</div>"
      ],
      "text/plain": [
       "   Meteorites  Years\n",
       "0           6   1915\n",
       "1           4   1916\n",
       "2           1   1917\n",
       "3           3   1918\n",
       "4           1   1919"
      ]
     },
     "execution_count": 36,
     "metadata": {},
     "output_type": "execute_result"
    }
   ],
   "source": [
    "# Creamos un dataframe y a cada columna le asignamos un nombre\n",
    "df_data = pd.DataFrame(data)\n",
    "# Visualizamos el dataframe\n",
    "df_data.head()"
   ]
  },
  {
   "cell_type": "markdown",
   "metadata": {},
   "source": [
    "## Frecuencias absolutas\n",
    "La frecuencia absoluta de una variable es el número de veces que aparece en la muestra dicho valor de la variable\n",
    "\n",
    "Lo primero es ver el rango de descubrimientos anuales que tenemos \n",
    "Esta tabla sirve para contestar las siguientes preguntas.  \n",
    "* ¿En qué rango nos estamos moviendo?  \n",
    "* ¿Cuantos años hay con 12 descubrimientos?  \n",
    "* ¿Y con 0 descubrimientos?  \n",
    "\n",
    "Construimos una tablas de frecuencias absolutas para la variable 'discoveries'"
   ]
  },
  {
   "cell_type": "code",
   "execution_count": 37,
   "metadata": {},
   "outputs": [],
   "source": [
    "df_freq = pd.value_counts(df_data.Meteorites).to_frame().reset_index()\n",
    "df_freq.columns = ['Meteorites','f_abs']\n",
    "df_freq=df_freq.sort_values(['Meteorites'])"
   ]
  },
  {
   "cell_type": "code",
   "execution_count": 38,
   "metadata": {},
   "outputs": [
    {
     "data": {
      "text/html": [
       "<div>\n",
       "<style scoped>\n",
       "    .dataframe tbody tr th:only-of-type {\n",
       "        vertical-align: middle;\n",
       "    }\n",
       "\n",
       "    .dataframe tbody tr th {\n",
       "        vertical-align: top;\n",
       "    }\n",
       "\n",
       "    .dataframe thead th {\n",
       "        text-align: right;\n",
       "    }\n",
       "</style>\n",
       "<table border=\"1\" class=\"dataframe\">\n",
       "  <thead>\n",
       "    <tr style=\"text-align: right;\">\n",
       "      <th>col_0</th>\n",
       "      <th>f_abs</th>\n",
       "    </tr>\n",
       "    <tr>\n",
       "      <th>Meteorites</th>\n",
       "      <th></th>\n",
       "    </tr>\n",
       "  </thead>\n",
       "  <tbody>\n",
       "    <tr>\n",
       "      <th>1</th>\n",
       "      <td>9</td>\n",
       "    </tr>\n",
       "    <tr>\n",
       "      <th>2</th>\n",
       "      <td>12</td>\n",
       "    </tr>\n",
       "    <tr>\n",
       "      <th>3</th>\n",
       "      <td>26</td>\n",
       "    </tr>\n",
       "    <tr>\n",
       "      <th>4</th>\n",
       "      <td>20</td>\n",
       "    </tr>\n",
       "    <tr>\n",
       "      <th>5</th>\n",
       "      <td>12</td>\n",
       "    </tr>\n",
       "    <tr>\n",
       "      <th>6</th>\n",
       "      <td>7</td>\n",
       "    </tr>\n",
       "    <tr>\n",
       "      <th>7</th>\n",
       "      <td>6</td>\n",
       "    </tr>\n",
       "    <tr>\n",
       "      <th>8</th>\n",
       "      <td>4</td>\n",
       "    </tr>\n",
       "    <tr>\n",
       "      <th>9</th>\n",
       "      <td>1</td>\n",
       "    </tr>\n",
       "    <tr>\n",
       "      <th>10</th>\n",
       "      <td>1</td>\n",
       "    </tr>\n",
       "    <tr>\n",
       "      <th>11</th>\n",
       "      <td>1</td>\n",
       "    </tr>\n",
       "    <tr>\n",
       "      <th>12</th>\n",
       "      <td>1</td>\n",
       "    </tr>\n",
       "  </tbody>\n",
       "</table>\n",
       "</div>"
      ],
      "text/plain": [
       "col_0       f_abs\n",
       "Meteorites       \n",
       "1               9\n",
       "2              12\n",
       "3              26\n",
       "4              20\n",
       "5              12\n",
       "6               7\n",
       "7               6\n",
       "8               4\n",
       "9               1\n",
       "10              1\n",
       "11              1\n",
       "12              1"
      ]
     },
     "execution_count": 38,
     "metadata": {},
     "output_type": "execute_result"
    }
   ],
   "source": [
    "df_freq = pd.crosstab(index=df_data.Meteorites,  # Make a crosstab\n",
    "                              columns=\"f_abs\")\n",
    "df_freq.head(12)\n"
   ]
  },
  {
   "cell_type": "code",
   "execution_count": 39,
   "metadata": {},
   "outputs": [
    {
     "data": {
      "image/png": "[encoded data removed]",
      "text/plain": [
       "<Figure size 432x288 with 1 Axes>"
      ]
     },
     "metadata": {
      "needs_background": "light"
     },
     "output_type": "display_data"
    }
   ],
   "source": [
    "hist, bin_edges = np.histogram(df_data.Meteorites, 12)\n",
    "plt.hist(df_data.Meteorites, bins=bin_edges)\n",
    "plt.show()"
   ]
  },
  {
   "cell_type": "code",
   "execution_count": 40,
   "metadata": {},
   "outputs": [
    {
     "data": {
      "image/png": "[encoded data removed]",
      "text/plain": [
       "<Figure size 432x288 with 1 Axes>"
      ]
     },
     "metadata": {
      "needs_background": "light"
     },
     "output_type": "display_data"
    }
   ],
   "source": [
    "hist, bin_edges = np.histogram(meteorites, 12)\n",
    "plt.hist(meteorites, bins=bin_edges)\n",
    "plt.show()"
   ]
  },
  {
   "cell_type": "markdown",
   "metadata": {},
   "source": [
    "## Frecuencia absoluta acumulada\n",
    "La frecuencia absoluta acumulada es el resultado de ir sumando las frecuencias absolutas de las observaciones o valores de una población o muestra"
   ]
  },
  {
   "cell_type": "code",
   "execution_count": 41,
   "metadata": {},
   "outputs": [],
   "source": [
    "df_freq['f_cumabs'] = df_freq['f_abs'].cumsum()\n"
   ]
  },
  {
   "cell_type": "code",
   "execution_count": 42,
   "metadata": {},
   "outputs": [
    {
     "data": {
      "text/html": [
       "<div>\n",
       "<style scoped>\n",
       "    .dataframe tbody tr th:only-of-type {\n",
       "        vertical-align: middle;\n",
       "    }\n",
       "\n",
       "    .dataframe tbody tr th {\n",
       "        vertical-align: top;\n",
       "    }\n",
       "\n",
       "    .dataframe thead th {\n",
       "        text-align: right;\n",
       "    }\n",
       "</style>\n",
       "<table border=\"1\" class=\"dataframe\">\n",
       "  <thead>\n",
       "    <tr style=\"text-align: right;\">\n",
       "      <th>col_0</th>\n",
       "      <th>f_abs</th>\n",
       "      <th>f_cumabs</th>\n",
       "    </tr>\n",
       "    <tr>\n",
       "      <th>Meteorites</th>\n",
       "      <th></th>\n",
       "      <th></th>\n",
       "    </tr>\n",
       "  </thead>\n",
       "  <tbody>\n",
       "    <tr>\n",
       "      <th>1</th>\n",
       "      <td>9</td>\n",
       "      <td>9</td>\n",
       "    </tr>\n",
       "    <tr>\n",
       "      <th>2</th>\n",
       "      <td>12</td>\n",
       "      <td>21</td>\n",
       "    </tr>\n",
       "    <tr>\n",
       "      <th>3</th>\n",
       "      <td>26</td>\n",
       "      <td>47</td>\n",
       "    </tr>\n",
       "    <tr>\n",
       "      <th>4</th>\n",
       "      <td>20</td>\n",
       "      <td>67</td>\n",
       "    </tr>\n",
       "    <tr>\n",
       "      <th>5</th>\n",
       "      <td>12</td>\n",
       "      <td>79</td>\n",
       "    </tr>\n",
       "    <tr>\n",
       "      <th>6</th>\n",
       "      <td>7</td>\n",
       "      <td>86</td>\n",
       "    </tr>\n",
       "    <tr>\n",
       "      <th>7</th>\n",
       "      <td>6</td>\n",
       "      <td>92</td>\n",
       "    </tr>\n",
       "    <tr>\n",
       "      <th>8</th>\n",
       "      <td>4</td>\n",
       "      <td>96</td>\n",
       "    </tr>\n",
       "    <tr>\n",
       "      <th>9</th>\n",
       "      <td>1</td>\n",
       "      <td>97</td>\n",
       "    </tr>\n",
       "    <tr>\n",
       "      <th>10</th>\n",
       "      <td>1</td>\n",
       "      <td>98</td>\n",
       "    </tr>\n",
       "    <tr>\n",
       "      <th>11</th>\n",
       "      <td>1</td>\n",
       "      <td>99</td>\n",
       "    </tr>\n",
       "    <tr>\n",
       "      <th>12</th>\n",
       "      <td>1</td>\n",
       "      <td>100</td>\n",
       "    </tr>\n",
       "  </tbody>\n",
       "</table>\n",
       "</div>"
      ],
      "text/plain": [
       "col_0       f_abs  f_cumabs\n",
       "Meteorites                 \n",
       "1               9         9\n",
       "2              12        21\n",
       "3              26        47\n",
       "4              20        67\n",
       "5              12        79\n",
       "6               7        86\n",
       "7               6        92\n",
       "8               4        96\n",
       "9               1        97\n",
       "10              1        98\n",
       "11              1        99\n",
       "12              1       100"
      ]
     },
     "execution_count": 42,
     "metadata": {},
     "output_type": "execute_result"
    }
   ],
   "source": [
    "df_freq.head(12)"
   ]
  },
  {
   "cell_type": "markdown",
   "metadata": {},
   "source": [
    "## Frecuencia Relativa \n",
    "\n",
    "La frecuencia relativa es el coeficiente entre la frecuencia absoluta y el tamaño de la muestra.\n",
    "\n",
    "Esta frecuencia nos permite hacer comparaciones de muestras de distinto tamaño.\n",
    "\n",
    "Dado que la frecuencia relativa es un coeficiente entre dos números,  la podemos representar como fracción, decimal y porcentaje.\n",
    "\n",
    "Obtengamos la frecuencia relativa de la muestra anterior:\n"
   ]
  },
  {
   "cell_type": "code",
   "execution_count": 43,
   "metadata": {},
   "outputs": [],
   "source": [
    "total=df_freq['f_abs'].sum()"
   ]
  },
  {
   "cell_type": "code",
   "execution_count": 44,
   "metadata": {},
   "outputs": [
    {
     "data": {
      "text/html": [
       "<div>\n",
       "<style scoped>\n",
       "    .dataframe tbody tr th:only-of-type {\n",
       "        vertical-align: middle;\n",
       "    }\n",
       "\n",
       "    .dataframe tbody tr th {\n",
       "        vertical-align: top;\n",
       "    }\n",
       "\n",
       "    .dataframe thead th {\n",
       "        text-align: right;\n",
       "    }\n",
       "</style>\n",
       "<table border=\"1\" class=\"dataframe\">\n",
       "  <thead>\n",
       "    <tr style=\"text-align: right;\">\n",
       "      <th>col_0</th>\n",
       "      <th>f_abs</th>\n",
       "      <th>f_cumabs</th>\n",
       "      <th>f_rel</th>\n",
       "      <th>f_cumrel</th>\n",
       "    </tr>\n",
       "    <tr>\n",
       "      <th>Meteorites</th>\n",
       "      <th></th>\n",
       "      <th></th>\n",
       "      <th></th>\n",
       "      <th></th>\n",
       "    </tr>\n",
       "  </thead>\n",
       "  <tbody>\n",
       "    <tr>\n",
       "      <th>1</th>\n",
       "      <td>9</td>\n",
       "      <td>9</td>\n",
       "      <td>0.09</td>\n",
       "      <td>0.09</td>\n",
       "    </tr>\n",
       "    <tr>\n",
       "      <th>2</th>\n",
       "      <td>12</td>\n",
       "      <td>21</td>\n",
       "      <td>0.12</td>\n",
       "      <td>0.21</td>\n",
       "    </tr>\n",
       "    <tr>\n",
       "      <th>3</th>\n",
       "      <td>26</td>\n",
       "      <td>47</td>\n",
       "      <td>0.26</td>\n",
       "      <td>0.47</td>\n",
       "    </tr>\n",
       "    <tr>\n",
       "      <th>4</th>\n",
       "      <td>20</td>\n",
       "      <td>67</td>\n",
       "      <td>0.20</td>\n",
       "      <td>0.67</td>\n",
       "    </tr>\n",
       "    <tr>\n",
       "      <th>5</th>\n",
       "      <td>12</td>\n",
       "      <td>79</td>\n",
       "      <td>0.12</td>\n",
       "      <td>0.79</td>\n",
       "    </tr>\n",
       "    <tr>\n",
       "      <th>6</th>\n",
       "      <td>7</td>\n",
       "      <td>86</td>\n",
       "      <td>0.07</td>\n",
       "      <td>0.86</td>\n",
       "    </tr>\n",
       "    <tr>\n",
       "      <th>7</th>\n",
       "      <td>6</td>\n",
       "      <td>92</td>\n",
       "      <td>0.06</td>\n",
       "      <td>0.92</td>\n",
       "    </tr>\n",
       "    <tr>\n",
       "      <th>8</th>\n",
       "      <td>4</td>\n",
       "      <td>96</td>\n",
       "      <td>0.04</td>\n",
       "      <td>0.96</td>\n",
       "    </tr>\n",
       "    <tr>\n",
       "      <th>9</th>\n",
       "      <td>1</td>\n",
       "      <td>97</td>\n",
       "      <td>0.01</td>\n",
       "      <td>0.97</td>\n",
       "    </tr>\n",
       "    <tr>\n",
       "      <th>10</th>\n",
       "      <td>1</td>\n",
       "      <td>98</td>\n",
       "      <td>0.01</td>\n",
       "      <td>0.98</td>\n",
       "    </tr>\n",
       "    <tr>\n",
       "      <th>11</th>\n",
       "      <td>1</td>\n",
       "      <td>99</td>\n",
       "      <td>0.01</td>\n",
       "      <td>0.99</td>\n",
       "    </tr>\n",
       "    <tr>\n",
       "      <th>12</th>\n",
       "      <td>1</td>\n",
       "      <td>100</td>\n",
       "      <td>0.01</td>\n",
       "      <td>1.00</td>\n",
       "    </tr>\n",
       "  </tbody>\n",
       "</table>\n",
       "</div>"
      ],
      "text/plain": [
       "col_0       f_abs  f_cumabs  f_rel  f_cumrel\n",
       "Meteorites                                  \n",
       "1               9         9   0.09      0.09\n",
       "2              12        21   0.12      0.21\n",
       "3              26        47   0.26      0.47\n",
       "4              20        67   0.20      0.67\n",
       "5              12        79   0.12      0.79\n",
       "6               7        86   0.07      0.86\n",
       "7               6        92   0.06      0.92\n",
       "8               4        96   0.04      0.96\n",
       "9               1        97   0.01      0.97\n",
       "10              1        98   0.01      0.98\n",
       "11              1        99   0.01      0.99\n",
       "12              1       100   0.01      1.00"
      ]
     },
     "execution_count": 44,
     "metadata": {},
     "output_type": "execute_result"
    }
   ],
   "source": [
    "df_freq['f_rel'] = df_freq['f_abs']/total\n",
    "df_freq['f_cumrel'] = df_freq['f_rel'].cumsum()\n",
    "df_freq.head(12)"
   ]
  },
  {
   "cell_type": "markdown",
   "metadata": {},
   "source": [
    "# Medidas \n",
    "\n",
    "## Medidas de tendencia central ( de posición)\n",
    "Cálculo de la media muestral, moda y la mediana\n",
    "¿Cual es la media , la moda y la mediana?  \n",
    "Para ello utilizamos NumPy , paquete de Python con biblioteca de funciones matemáticas de alto nivel. "
   ]
  },
  {
   "cell_type": "code",
   "execution_count": 45,
   "metadata": {},
   "outputs": [
    {
     "data": {
      "text/plain": [
       "4.09"
      ]
     },
     "execution_count": 45,
     "metadata": {},
     "output_type": "execute_result"
    }
   ],
   "source": [
    "np.mean(meteorites)"
   ]
  },
  {
   "cell_type": "code",
   "execution_count": 46,
   "metadata": {},
   "outputs": [
    {
     "data": {
      "text/plain": [
       "4.0"
      ]
     },
     "execution_count": 46,
     "metadata": {},
     "output_type": "execute_result"
    }
   ],
   "source": [
    "np.median(meteorites)"
   ]
  },
  {
   "cell_type": "code",
   "execution_count": 49,
   "metadata": {},
   "outputs": [
    {
     "data": {
      "text/plain": [
       "3"
      ]
     },
     "execution_count": 49,
     "metadata": {},
     "output_type": "execute_result"
    }
   ],
   "source": [
    "from statistics import mode\n",
    "mode(meteorites)"
   ]
  },
  {
   "cell_type": "markdown",
   "metadata": {},
   "source": [
    "¿Qué significa que la mediana sea igual, mayor o menor que la media?"
   ]
  },
  {
   "cell_type": "markdown",
   "metadata": {},
   "source": [
    "# Frecuencias cruzadas\n",
    "Ejemplo: Tenemos la encuesta de satisfacción de cliente de cierta empresa de envios.  \n",
    "Además de la opinón de los usuarios que ha utilizado nuestros servicios de paquetería, tenemos que transporte eligieron y el tipo de embalaje.\n"
   ]
  },
  {
   "cell_type": "code",
   "execution_count": 51,
   "metadata": {},
   "outputs": [
    {
     "data": {
      "text/html": [
       "<div>\n",
       "<style scoped>\n",
       "    .dataframe tbody tr th:only-of-type {\n",
       "        vertical-align: middle;\n",
       "    }\n",
       "\n",
       "    .dataframe tbody tr th {\n",
       "        vertical-align: top;\n",
       "    }\n",
       "\n",
       "    .dataframe thead th {\n",
       "        text-align: right;\n",
       "    }\n",
       "</style>\n",
       "<table border=\"1\" class=\"dataframe\">\n",
       "  <thead>\n",
       "    <tr style=\"text-align: right;\">\n",
       "      <th></th>\n",
       "      <th>satisfaccion_cliente</th>\n",
       "      <th>transporte</th>\n",
       "      <th>embalaje</th>\n",
       "    </tr>\n",
       "  </thead>\n",
       "  <tbody>\n",
       "    <tr>\n",
       "      <th>0</th>\n",
       "      <td>Baja</td>\n",
       "      <td>Por Aire</td>\n",
       "      <td>Caja Grande</td>\n",
       "    </tr>\n",
       "    <tr>\n",
       "      <th>1</th>\n",
       "      <td>Alta</td>\n",
       "      <td>Por Tierra</td>\n",
       "      <td>Caja Grande</td>\n",
       "    </tr>\n",
       "    <tr>\n",
       "      <th>2</th>\n",
       "      <td>Alta</td>\n",
       "      <td>Por Aire</td>\n",
       "      <td>Paquete Pequeño</td>\n",
       "    </tr>\n",
       "    <tr>\n",
       "      <th>3</th>\n",
       "      <td>Alta</td>\n",
       "      <td>Por Aire</td>\n",
       "      <td>Paquete Pequeño</td>\n",
       "    </tr>\n",
       "    <tr>\n",
       "      <th>4</th>\n",
       "      <td>Alta</td>\n",
       "      <td>Por Aire</td>\n",
       "      <td>Caja Mediana</td>\n",
       "    </tr>\n",
       "  </tbody>\n",
       "</table>\n",
       "</div>"
      ],
      "text/plain": [
       "  satisfaccion_cliente  transporte         embalaje\n",
       "0                 Baja    Por Aire      Caja Grande\n",
       "1                 Alta  Por Tierra      Caja Grande\n",
       "2                 Alta    Por Aire  Paquete Pequeño\n",
       "3                 Alta    Por Aire  Paquete Pequeño\n",
       "4                 Alta    Por Aire     Caja Mediana"
      ]
     },
     "execution_count": 51,
     "metadata": {},
     "output_type": "execute_result"
    }
   ],
   "source": [
    "df_envios = pd.read_csv('envio.csv', sep=';',encoding='latin-1')\n",
    "df_envios.head()"
   ]
  },
  {
   "cell_type": "markdown",
   "metadata": {},
   "source": [
    "¿Cual es el porcentaje de clientes que han puntuado “Alta”,“Media” y “Baja” la calidad del servicio?"
   ]
  },
  {
   "cell_type": "code",
   "execution_count": 52,
   "metadata": {},
   "outputs": [],
   "source": [
    "def freq_simple(df_col):\n",
    "    col='df_col'.rpartition('.')[2]\n",
    "    df_freq = pd.crosstab(index=df_col,columns=\"f_abs\")\n",
    "    df_freq['f_cumabs'] = df_freq['f_abs'].cumsum()\n",
    "    total=df_freq['f_abs'].sum()\n",
    "    df_freq['f_rel'] = df_freq['f_abs']/total\n",
    "    df_freq['f_cumrel'] = df_freq['f_rel'].cumsum()\n",
    "    return df_freq"
   ]
  },
  {
   "cell_type": "code",
   "execution_count": 53,
   "metadata": {},
   "outputs": [
    {
     "data": {
      "text/html": [
       "<div>\n",
       "<style scoped>\n",
       "    .dataframe tbody tr th:only-of-type {\n",
       "        vertical-align: middle;\n",
       "    }\n",
       "\n",
       "    .dataframe tbody tr th {\n",
       "        vertical-align: top;\n",
       "    }\n",
       "\n",
       "    .dataframe thead th {\n",
       "        text-align: right;\n",
       "    }\n",
       "</style>\n",
       "<table border=\"1\" class=\"dataframe\">\n",
       "  <thead>\n",
       "    <tr style=\"text-align: right;\">\n",
       "      <th>col_0</th>\n",
       "      <th>f_abs</th>\n",
       "      <th>f_cumabs</th>\n",
       "      <th>f_rel</th>\n",
       "      <th>f_cumrel</th>\n",
       "    </tr>\n",
       "    <tr>\n",
       "      <th>satisfaccion_cliente</th>\n",
       "      <th></th>\n",
       "      <th></th>\n",
       "      <th></th>\n",
       "      <th></th>\n",
       "    </tr>\n",
       "  </thead>\n",
       "  <tbody>\n",
       "    <tr>\n",
       "      <th>Alta</th>\n",
       "      <td>12</td>\n",
       "      <td>12</td>\n",
       "      <td>0.631579</td>\n",
       "      <td>0.631579</td>\n",
       "    </tr>\n",
       "    <tr>\n",
       "      <th>Baja</th>\n",
       "      <td>4</td>\n",
       "      <td>16</td>\n",
       "      <td>0.210526</td>\n",
       "      <td>0.842105</td>\n",
       "    </tr>\n",
       "    <tr>\n",
       "      <th>Media</th>\n",
       "      <td>3</td>\n",
       "      <td>19</td>\n",
       "      <td>0.157895</td>\n",
       "      <td>1.000000</td>\n",
       "    </tr>\n",
       "  </tbody>\n",
       "</table>\n",
       "</div>"
      ],
      "text/plain": [
       "col_0                 f_abs  f_cumabs     f_rel  f_cumrel\n",
       "satisfaccion_cliente                                     \n",
       "Alta                     12        12  0.631579  0.631579\n",
       "Baja                      4        16  0.210526  0.842105\n",
       "Media                     3        19  0.157895  1.000000"
      ]
     },
     "execution_count": 53,
     "metadata": {},
     "output_type": "execute_result"
    }
   ],
   "source": [
    "df_sc=freq_simple(df_envios.satisfaccion_cliente)\n",
    "df_sc.head()"
   ]
  },
  {
   "cell_type": "markdown",
   "metadata": {},
   "source": [
    "En este ejemplo se ve que:\n",
    "* el **63%** de clientes puntua **\"Alta\"**   \n",
    "* el **21%** de clientes puntua **\"Baja\"** y el  \n",
    "* el **15%** de clientes puntua **\"Media\"** \n"
   ]
  },
  {
   "cell_type": "markdown",
   "metadata": {},
   "source": [
    "Utilizando la tabla de frecuencias para saber que transporte utilizan nuestros clientes vemos que: \n",
    "    "
   ]
  },
  {
   "cell_type": "code",
   "execution_count": 55,
   "metadata": {},
   "outputs": [
    {
     "data": {
      "text/html": [
       "<div>\n",
       "<style scoped>\n",
       "    .dataframe tbody tr th:only-of-type {\n",
       "        vertical-align: middle;\n",
       "    }\n",
       "\n",
       "    .dataframe tbody tr th {\n",
       "        vertical-align: top;\n",
       "    }\n",
       "\n",
       "    .dataframe thead th {\n",
       "        text-align: right;\n",
       "    }\n",
       "</style>\n",
       "<table border=\"1\" class=\"dataframe\">\n",
       "  <thead>\n",
       "    <tr style=\"text-align: right;\">\n",
       "      <th>col_0</th>\n",
       "      <th>f_abs</th>\n",
       "      <th>f_cumabs</th>\n",
       "      <th>f_rel</th>\n",
       "      <th>f_cumrel</th>\n",
       "    </tr>\n",
       "    <tr>\n",
       "      <th>transporte</th>\n",
       "      <th></th>\n",
       "      <th></th>\n",
       "      <th></th>\n",
       "      <th></th>\n",
       "    </tr>\n",
       "  </thead>\n",
       "  <tbody>\n",
       "    <tr>\n",
       "      <th>Por Aire</th>\n",
       "      <td>16</td>\n",
       "      <td>16</td>\n",
       "      <td>0.842105</td>\n",
       "      <td>0.842105</td>\n",
       "    </tr>\n",
       "    <tr>\n",
       "      <th>Por Aire (Exprs)</th>\n",
       "      <td>1</td>\n",
       "      <td>17</td>\n",
       "      <td>0.052632</td>\n",
       "      <td>0.894737</td>\n",
       "    </tr>\n",
       "    <tr>\n",
       "      <th>Por Tierra</th>\n",
       "      <td>2</td>\n",
       "      <td>19</td>\n",
       "      <td>0.105263</td>\n",
       "      <td>1.000000</td>\n",
       "    </tr>\n",
       "  </tbody>\n",
       "</table>\n",
       "</div>"
      ],
      "text/plain": [
       "col_0              f_abs  f_cumabs     f_rel  f_cumrel\n",
       "transporte                                            \n",
       "Por Aire              16        16  0.842105  0.842105\n",
       "Por Aire (Exprs)      1        17  0.052632  0.894737\n",
       "Por Tierra             2        19  0.105263  1.000000"
      ]
     },
     "execution_count": 55,
     "metadata": {},
     "output_type": "execute_result"
    }
   ],
   "source": [
    "df_transporte=freq_simple(df_envios.transporte)\n",
    "df_transporte.head()"
   ]
  },
  {
   "cell_type": "markdown",
   "metadata": {},
   "source": [
    "* el **84%** de clientes utiliza  **\"Por Aire\"**   \n",
    "* el **0.5%** de clientes utiliza  **\"Por Aire(Exprs)\"** y el  \n",
    "* el **10.5%** de clientes utiliza  **\"Por Tierra\"** "
   ]
  },
  {
   "cell_type": "markdown",
   "metadata": {},
   "source": [
    "La pregunta que nos sugiere estas dos tablas de frecuencia es:   \n",
    "¿Es la misma calidad de servicio en los tres tipos de transporte ?\n",
    "\n",
    "Para contestar la pregunta utilizamos la frecuencia cruzada. "
   ]
  },
  {
   "cell_type": "code",
   "execution_count": 56,
   "metadata": {},
   "outputs": [
    {
     "data": {
      "text/html": [
       "<div>\n",
       "<style scoped>\n",
       "    .dataframe tbody tr th:only-of-type {\n",
       "        vertical-align: middle;\n",
       "    }\n",
       "\n",
       "    .dataframe tbody tr th {\n",
       "        vertical-align: top;\n",
       "    }\n",
       "\n",
       "    .dataframe thead th {\n",
       "        text-align: right;\n",
       "    }\n",
       "</style>\n",
       "<table border=\"1\" class=\"dataframe\">\n",
       "  <thead>\n",
       "    <tr style=\"text-align: right;\">\n",
       "      <th>transporte</th>\n",
       "      <th>Por Aire</th>\n",
       "      <th>Por Aire (Exprs)</th>\n",
       "      <th>Por Tierra</th>\n",
       "      <th>All</th>\n",
       "    </tr>\n",
       "    <tr>\n",
       "      <th>satisfaccion_cliente</th>\n",
       "      <th></th>\n",
       "      <th></th>\n",
       "      <th></th>\n",
       "      <th></th>\n",
       "    </tr>\n",
       "  </thead>\n",
       "  <tbody>\n",
       "    <tr>\n",
       "      <th>Alta</th>\n",
       "      <td>10</td>\n",
       "      <td>1</td>\n",
       "      <td>1</td>\n",
       "      <td>12</td>\n",
       "    </tr>\n",
       "    <tr>\n",
       "      <th>Baja</th>\n",
       "      <td>3</td>\n",
       "      <td>0</td>\n",
       "      <td>1</td>\n",
       "      <td>4</td>\n",
       "    </tr>\n",
       "    <tr>\n",
       "      <th>Media</th>\n",
       "      <td>3</td>\n",
       "      <td>0</td>\n",
       "      <td>0</td>\n",
       "      <td>3</td>\n",
       "    </tr>\n",
       "    <tr>\n",
       "      <th>All</th>\n",
       "      <td>16</td>\n",
       "      <td>1</td>\n",
       "      <td>2</td>\n",
       "      <td>19</td>\n",
       "    </tr>\n",
       "  </tbody>\n",
       "</table>\n",
       "</div>"
      ],
      "text/plain": [
       "transporte            Por Aire  Por Aire (Exprs)  Por Tierra  All\n",
       "satisfaccion_cliente                                              \n",
       "Alta                        10                  1           1   12\n",
       "Baja                         3                  0           1    4\n",
       "Media                        3                  0           0    3\n",
       "All                         16                  1           2   19"
      ]
     },
     "execution_count": 56,
     "metadata": {},
     "output_type": "execute_result"
    }
   ],
   "source": [
    "\n",
    "df_freqc=pd.crosstab(index=df_envios.satisfaccion_cliente,columns=df_envios.transporte,margins=True)\n",
    "# Añadimos margins=True\n",
    "# Añadimos normalize Columns \n",
    "#mar\n",
    "df_freqc.head()"
   ]
  },
  {
   "cell_type": "code",
   "execution_count": 57,
   "metadata": {},
   "outputs": [
    {
     "data": {
      "text/html": [
       "<div>\n",
       "<style scoped>\n",
       "    .dataframe tbody tr th:only-of-type {\n",
       "        vertical-align: middle;\n",
       "    }\n",
       "\n",
       "    .dataframe tbody tr th {\n",
       "        vertical-align: top;\n",
       "    }\n",
       "\n",
       "    .dataframe thead th {\n",
       "        text-align: right;\n",
       "    }\n",
       "</style>\n",
       "<table border=\"1\" class=\"dataframe\">\n",
       "  <thead>\n",
       "    <tr style=\"text-align: right;\">\n",
       "      <th>transporte</th>\n",
       "      <th>Por Aire</th>\n",
       "      <th>Por Aire (Exprs)</th>\n",
       "      <th>Por Tierra</th>\n",
       "      <th>All</th>\n",
       "    </tr>\n",
       "    <tr>\n",
       "      <th>satisfaccion_cliente</th>\n",
       "      <th></th>\n",
       "      <th></th>\n",
       "      <th></th>\n",
       "      <th></th>\n",
       "    </tr>\n",
       "  </thead>\n",
       "  <tbody>\n",
       "    <tr>\n",
       "      <th>Alta</th>\n",
       "      <td>0.526316</td>\n",
       "      <td>0.052632</td>\n",
       "      <td>0.052632</td>\n",
       "      <td>0.631579</td>\n",
       "    </tr>\n",
       "    <tr>\n",
       "      <th>Baja</th>\n",
       "      <td>0.157895</td>\n",
       "      <td>0.000000</td>\n",
       "      <td>0.052632</td>\n",
       "      <td>0.210526</td>\n",
       "    </tr>\n",
       "    <tr>\n",
       "      <th>Media</th>\n",
       "      <td>0.157895</td>\n",
       "      <td>0.000000</td>\n",
       "      <td>0.000000</td>\n",
       "      <td>0.157895</td>\n",
       "    </tr>\n",
       "    <tr>\n",
       "      <th>All</th>\n",
       "      <td>0.842105</td>\n",
       "      <td>0.052632</td>\n",
       "      <td>0.105263</td>\n",
       "      <td>1.000000</td>\n",
       "    </tr>\n",
       "  </tbody>\n",
       "</table>\n",
       "</div>"
      ],
      "text/plain": [
       "transporte            Por Aire  Por Aire (Exprs)  Por Tierra       All\n",
       "satisfaccion_cliente                                                   \n",
       "Alta                  0.526316           0.052632    0.052632  0.631579\n",
       "Baja                  0.157895           0.000000    0.052632  0.210526\n",
       "Media                 0.157895           0.000000    0.000000  0.157895\n",
       "All                   0.842105           0.052632    0.105263  1.000000"
      ]
     },
     "execution_count": 57,
     "metadata": {},
     "output_type": "execute_result"
    }
   ],
   "source": [
    "df_freqc=pd.crosstab(index=df_envios.satisfaccion_cliente,columns=df_envios.transporte,margins=True,normalize=True)\n",
    "df_freqc.head()"
   ]
  },
  {
   "cell_type": "code",
   "execution_count": 58,
   "metadata": {},
   "outputs": [
    {
     "data": {
      "text/html": [
       "<div>\n",
       "<style scoped>\n",
       "    .dataframe tbody tr th:only-of-type {\n",
       "        vertical-align: middle;\n",
       "    }\n",
       "\n",
       "    .dataframe tbody tr th {\n",
       "        vertical-align: top;\n",
       "    }\n",
       "\n",
       "    .dataframe thead th {\n",
       "        text-align: right;\n",
       "    }\n",
       "</style>\n",
       "<table border=\"1\" class=\"dataframe\">\n",
       "  <thead>\n",
       "    <tr style=\"text-align: right;\">\n",
       "      <th>transporte</th>\n",
       "      <th>Por Aire</th>\n",
       "      <th>Por Aire (Exprs)</th>\n",
       "      <th>Por Tierra</th>\n",
       "      <th>All</th>\n",
       "    </tr>\n",
       "    <tr>\n",
       "      <th>satisfaccion_cliente</th>\n",
       "      <th></th>\n",
       "      <th></th>\n",
       "      <th></th>\n",
       "      <th></th>\n",
       "    </tr>\n",
       "  </thead>\n",
       "  <tbody>\n",
       "    <tr>\n",
       "      <th>Alta</th>\n",
       "      <td>0.6250</td>\n",
       "      <td>1.0</td>\n",
       "      <td>0.5</td>\n",
       "      <td>0.631579</td>\n",
       "    </tr>\n",
       "    <tr>\n",
       "      <th>Baja</th>\n",
       "      <td>0.1875</td>\n",
       "      <td>0.0</td>\n",
       "      <td>0.5</td>\n",
       "      <td>0.210526</td>\n",
       "    </tr>\n",
       "    <tr>\n",
       "      <th>Media</th>\n",
       "      <td>0.1875</td>\n",
       "      <td>0.0</td>\n",
       "      <td>0.0</td>\n",
       "      <td>0.157895</td>\n",
       "    </tr>\n",
       "  </tbody>\n",
       "</table>\n",
       "</div>"
      ],
      "text/plain": [
       "transporte            Por Aire  Por Aire (Exprs)  Por Tierra       All\n",
       "satisfaccion_cliente                                                   \n",
       "Alta                    0.6250                1.0         0.5  0.631579\n",
       "Baja                    0.1875                0.0         0.5  0.210526\n",
       "Media                   0.1875                0.0         0.0  0.157895"
      ]
     },
     "execution_count": 58,
     "metadata": {},
     "output_type": "execute_result"
    }
   ],
   "source": [
    "df_freqc=pd.crosstab(index=df_envios.satisfaccion_cliente,columns=df_envios.transporte,margins=True,normalize='columns')\n",
    "df_freqc.head()"
   ]
  },
  {
   "cell_type": "code",
   "execution_count": 59,
   "metadata": {},
   "outputs": [
    {
     "data": {
      "text/html": [
       "<div>\n",
       "<style scoped>\n",
       "    .dataframe tbody tr th:only-of-type {\n",
       "        vertical-align: middle;\n",
       "    }\n",
       "\n",
       "    .dataframe tbody tr th {\n",
       "        vertical-align: top;\n",
       "    }\n",
       "\n",
       "    .dataframe thead th {\n",
       "        text-align: right;\n",
       "    }\n",
       "</style>\n",
       "<table border=\"1\" class=\"dataframe\">\n",
       "  <thead>\n",
       "    <tr style=\"text-align: right;\">\n",
       "      <th>transporte</th>\n",
       "      <th>Por Aire</th>\n",
       "      <th>Por Aire (Exprs)</th>\n",
       "      <th>Por Tierra</th>\n",
       "    </tr>\n",
       "    <tr>\n",
       "      <th>satisfaccion_cliente</th>\n",
       "      <th></th>\n",
       "      <th></th>\n",
       "      <th></th>\n",
       "    </tr>\n",
       "  </thead>\n",
       "  <tbody>\n",
       "    <tr>\n",
       "      <th>Alta</th>\n",
       "      <td>0.833333</td>\n",
       "      <td>0.083333</td>\n",
       "      <td>0.083333</td>\n",
       "    </tr>\n",
       "    <tr>\n",
       "      <th>Baja</th>\n",
       "      <td>0.750000</td>\n",
       "      <td>0.000000</td>\n",
       "      <td>0.250000</td>\n",
       "    </tr>\n",
       "    <tr>\n",
       "      <th>Media</th>\n",
       "      <td>1.000000</td>\n",
       "      <td>0.000000</td>\n",
       "      <td>0.000000</td>\n",
       "    </tr>\n",
       "    <tr>\n",
       "      <th>All</th>\n",
       "      <td>0.842105</td>\n",
       "      <td>0.052632</td>\n",
       "      <td>0.105263</td>\n",
       "    </tr>\n",
       "  </tbody>\n",
       "</table>\n",
       "</div>"
      ],
      "text/plain": [
       "transporte            Por Aire  Por Aire (Exprs)  Por Tierra\n",
       "satisfaccion_cliente                                         \n",
       "Alta                  0.833333           0.083333    0.083333\n",
       "Baja                  0.750000           0.000000    0.250000\n",
       "Media                 1.000000           0.000000    0.000000\n",
       "All                   0.842105           0.052632    0.105263"
      ]
     },
     "execution_count": 59,
     "metadata": {},
     "output_type": "execute_result"
    }
   ],
   "source": [
    "df_freqc=pd.crosstab(index=df_envios.satisfaccion_cliente,columns=df_envios.transporte,margins=True,normalize='index')\n",
    "df_freqc.head()"
   ]
  },
  {
   "cell_type": "code",
   "execution_count": null,
   "metadata": {},
   "outputs": [],
   "source": []
  },
  {
   "cell_type": "code",
   "execution_count": null,
   "metadata": {},
   "outputs": [],
   "source": []
  }
 ],
 "metadata": {
  "kernelspec": {
   "display_name": "Python 3",
   "language": "python",
   "name": "python3"
  },
  "language_info": {
   "codemirror_mode": {
    "name": "ipython",
    "version": 3
   },
   "file_extension": ".py",
   "mimetype": "text/x-python",
   "name": "python",
   "nbconvert_exporter": "python",
   "pygments_lexer": "ipython3",
   "version": "3.7.3"
  }
 },
 "nbformat": 4,
 "nbformat_minor": 4
}

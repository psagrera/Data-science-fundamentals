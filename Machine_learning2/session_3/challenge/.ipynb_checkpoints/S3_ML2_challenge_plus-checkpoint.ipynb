{
 "cells": [
  {
   "cell_type": "markdown",
   "metadata": {},
   "source": [
    "<img src=\"newlogomioti.png\" style=\"height: 100px\">   \n",
    "<br />\n",
    "<center style=\"color:#888\">Módulo Data Science in IoT<br/>Asignatura Machine Learning</center>\n",
    "\n",
    "# Challenge S3 Plus: Estrategias de inversión utilizando detección de anomalías"
   ]
  },
  {
   "cell_type": "markdown",
   "metadata": {},
   "source": [
    "Este challenge es extra solo para aquellos que deseen explorar el uso de técnicas de detección de anomalías sobre estrategias de inversión en el mercado de valores"
   ]
  },
  {
   "cell_type": "markdown",
   "metadata": {},
   "source": [
    "## Objetivos\n",
    "\n",
    "El objetivo de este challenge es utilizar técnicas de detección de anomalías para validar una posible estrategia de inversión en el mercado de valores.\n",
    "\n",
    "Las hipótesis de partida son las siguientes:\n",
    "- Mediante la detección de anomalías identificamos una serie de fechas clave donde el precio del valor se comporta de forma anómala.\n",
    "- Si la anomalía es de tipo 'techo' parece que durante los días siguientes el precio del valor cae.\n",
    "- Si la anomalía es de tipo 'suelo' parece que el precio del valor sube en los días inmediatemente siguientes (3-5 días)\n",
    "\n",
    "Se trata de determinar para los valores seleccionados si dicha estrategia de inversión nos podría generar buenos resultados. La forma de validarlo es realizar backtesting, es decir revisar los resultados obtenidos en el caso de haber implementado dicha estrategia durante el último año.\n"
   ]
  },
  {
   "cell_type": "markdown",
   "metadata": {},
   "source": [
    "Los valores seleccionados por los participantes en la sesión han sido los siguientes:\n",
    "\n",
    "* Tesla: 'TSLA'\n",
    "* IAG: 'IAG.MC'\n",
    "* Santander: 'SAN.MC'\n",
    "* Intel: 'INTC'\n",
    "* Ence: 'ENC.MC'\n",
    "* Alphabet-Google: 'GOOGL'\n",
    "* Iberdrola: 'IBE.MC'\n",
    "* Telefónica: 'TEF.MC'\n",
    "* Facebook: 'FB'\n"
   ]
  },
  {
   "cell_type": "markdown",
   "metadata": {},
   "source": [
    "A continuación indico los tickers que hemos seleccionado aunque este objeto no lo voy a utilizar mas adelante, es solo por tenerlo anotado y si necesitamos revisarlo"
   ]
  },
  {
   "cell_type": "code",
   "execution_count": 1,
   "metadata": {},
   "outputs": [],
   "source": [
    "assets=['FB','TEF.MC','IBE.MC','GOOGL','ENC.MC','INTC','SAN.MC','IAG.MC','TSLA']"
   ]
  },
  {
   "cell_type": "markdown",
   "metadata": {},
   "source": [
    "El objetivo es trabajar con datos desde el 1 de Enero de 2019 hasta el 21 de Febrero de 2020 (periodo pre-Covid). Tenlo en cuenta porque tienes iformación adicional en los datos que vas a cargar."
   ]
  },
  {
   "cell_type": "markdown",
   "metadata": {},
   "source": [
    "## Configuración del entorno"
   ]
  },
  {
   "cell_type": "code",
   "execution_count": 2,
   "metadata": {},
   "outputs": [],
   "source": [
    "%matplotlib inline\n",
    "\n",
    "import warnings\n",
    "warnings.filterwarnings(\"ignore\")\n",
    "\n",
    "import numpy as np\n",
    "import pandas as pd\n",
    "import matplotlib\n",
    "import matplotlib.pyplot as plt\n",
    "plt.rcParams['figure.figsize'] = (16.0, 6.0)\n",
    "import sklearn"
   ]
  },
  {
   "cell_type": "markdown",
   "metadata": {},
   "source": [
    "## Cargamos los datos de los valores seleccionados"
   ]
  },
  {
   "cell_type": "markdown",
   "metadata": {},
   "source": [
    "En primer lugar, cargamos los datos del fichero \"historico_desde_2019_challenge_s3_plus.pkl\". El formato pickle es un formato especial donde además de tener los datos cargados también tenemos la estructura del DataFrame. Este DataFrame también es un tanto particular porque es un \"Multiindice\""
   ]
  },
  {
   "cell_type": "code",
   "execution_count": 3,
   "metadata": {},
   "outputs": [],
   "source": [
    "df=pd.read_pickle(\"historico_desde_2019_challenge_s3_plus.pkl\")"
   ]
  },
  {
   "cell_type": "markdown",
   "metadata": {},
   "source": [
    "Y empezamos a explorar la información disponible"
   ]
  },
  {
   "cell_type": "code",
   "execution_count": 4,
   "metadata": {},
   "outputs": [
    {
     "name": "stdout",
     "output_type": "stream",
     "text": [
      "<class 'pandas.core.frame.DataFrame'>\n",
      "DatetimeIndex: 372 entries, 2018-12-31 to 2020-06-08\n",
      "Data columns (total 54 columns):\n",
      " #   Column               Non-Null Count  Dtype  \n",
      "---  ------               --------------  -----  \n",
      " 0   (Adj Close, ENC.MC)  366 non-null    float64\n",
      " 1   (Adj Close, FB)      361 non-null    float64\n",
      " 2   (Adj Close, GOOGL)   361 non-null    float64\n",
      " 3   (Adj Close, IAG.MC)  366 non-null    float64\n",
      " 4   (Adj Close, IBE.MC)  366 non-null    float64\n",
      " 5   (Adj Close, INTC)    361 non-null    float64\n",
      " 6   (Adj Close, SAN.MC)  366 non-null    float64\n",
      " 7   (Adj Close, TEF.MC)  366 non-null    float64\n",
      " 8   (Adj Close, TSLA)    361 non-null    float64\n",
      " 9   (Close, ENC.MC)      366 non-null    float64\n",
      " 10  (Close, FB)          361 non-null    float64\n",
      " 11  (Close, GOOGL)       361 non-null    float64\n",
      " 12  (Close, IAG.MC)      366 non-null    float64\n",
      " 13  (Close, IBE.MC)      366 non-null    float64\n",
      " 14  (Close, INTC)        361 non-null    float64\n",
      " 15  (Close, SAN.MC)      366 non-null    float64\n",
      " 16  (Close, TEF.MC)      366 non-null    float64\n",
      " 17  (Close, TSLA)        361 non-null    float64\n",
      " 18  (High, ENC.MC)       366 non-null    float64\n",
      " 19  (High, FB)           361 non-null    float64\n",
      " 20  (High, GOOGL)        361 non-null    float64\n",
      " 21  (High, IAG.MC)       366 non-null    float64\n",
      " 22  (High, IBE.MC)       366 non-null    float64\n",
      " 23  (High, INTC)         361 non-null    float64\n",
      " 24  (High, SAN.MC)       366 non-null    float64\n",
      " 25  (High, TEF.MC)       366 non-null    float64\n",
      " 26  (High, TSLA)         361 non-null    float64\n",
      " 27  (Low, ENC.MC)        366 non-null    float64\n",
      " 28  (Low, FB)            361 non-null    float64\n",
      " 29  (Low, GOOGL)         361 non-null    float64\n",
      " 30  (Low, IAG.MC)        366 non-null    float64\n",
      " 31  (Low, IBE.MC)        366 non-null    float64\n",
      " 32  (Low, INTC)          361 non-null    float64\n",
      " 33  (Low, SAN.MC)        366 non-null    float64\n",
      " 34  (Low, TEF.MC)        366 non-null    float64\n",
      " 35  (Low, TSLA)          361 non-null    float64\n",
      " 36  (Open, ENC.MC)       366 non-null    float64\n",
      " 37  (Open, FB)           361 non-null    float64\n",
      " 38  (Open, GOOGL)        361 non-null    float64\n",
      " 39  (Open, IAG.MC)       366 non-null    float64\n",
      " 40  (Open, IBE.MC)       366 non-null    float64\n",
      " 41  (Open, INTC)         361 non-null    float64\n",
      " 42  (Open, SAN.MC)       366 non-null    float64\n",
      " 43  (Open, TEF.MC)       366 non-null    float64\n",
      " 44  (Open, TSLA)         361 non-null    float64\n",
      " 45  (Volume, ENC.MC)     366 non-null    float64\n",
      " 46  (Volume, FB)         361 non-null    float64\n",
      " 47  (Volume, GOOGL)      361 non-null    float64\n",
      " 48  (Volume, IAG.MC)     366 non-null    float64\n",
      " 49  (Volume, IBE.MC)     366 non-null    float64\n",
      " 50  (Volume, INTC)       361 non-null    float64\n",
      " 51  (Volume, SAN.MC)     366 non-null    float64\n",
      " 52  (Volume, TEF.MC)     366 non-null    float64\n",
      " 53  (Volume, TSLA)       361 non-null    float64\n",
      "dtypes: float64(54)\n",
      "memory usage: 159.8 KB\n"
     ]
    }
   ],
   "source": [
    "df.info()"
   ]
  },
  {
   "cell_type": "code",
   "execution_count": 5,
   "metadata": {
    "scrolled": true
   },
   "outputs": [
    {
     "data": {
      "text/html": [
       "<div>\n",
       "<style scoped>\n",
       "    .dataframe tbody tr th:only-of-type {\n",
       "        vertical-align: middle;\n",
       "    }\n",
       "\n",
       "    .dataframe tbody tr th {\n",
       "        vertical-align: top;\n",
       "    }\n",
       "\n",
       "    .dataframe thead tr th {\n",
       "        text-align: left;\n",
       "    }\n",
       "\n",
       "    .dataframe thead tr:last-of-type th {\n",
       "        text-align: right;\n",
       "    }\n",
       "</style>\n",
       "<table border=\"1\" class=\"dataframe\">\n",
       "  <thead>\n",
       "    <tr>\n",
       "      <th></th>\n",
       "      <th colspan=\"9\" halign=\"left\">Adj Close</th>\n",
       "      <th>Close</th>\n",
       "      <th>...</th>\n",
       "      <th>Open</th>\n",
       "      <th colspan=\"9\" halign=\"left\">Volume</th>\n",
       "    </tr>\n",
       "    <tr>\n",
       "      <th></th>\n",
       "      <th>ENC.MC</th>\n",
       "      <th>FB</th>\n",
       "      <th>GOOGL</th>\n",
       "      <th>IAG.MC</th>\n",
       "      <th>IBE.MC</th>\n",
       "      <th>INTC</th>\n",
       "      <th>SAN.MC</th>\n",
       "      <th>TEF.MC</th>\n",
       "      <th>TSLA</th>\n",
       "      <th>ENC.MC</th>\n",
       "      <th>...</th>\n",
       "      <th>TSLA</th>\n",
       "      <th>ENC.MC</th>\n",
       "      <th>FB</th>\n",
       "      <th>GOOGL</th>\n",
       "      <th>IAG.MC</th>\n",
       "      <th>IBE.MC</th>\n",
       "      <th>INTC</th>\n",
       "      <th>SAN.MC</th>\n",
       "      <th>TEF.MC</th>\n",
       "      <th>TSLA</th>\n",
       "    </tr>\n",
       "    <tr>\n",
       "      <th>Date</th>\n",
       "      <th></th>\n",
       "      <th></th>\n",
       "      <th></th>\n",
       "      <th></th>\n",
       "      <th></th>\n",
       "      <th></th>\n",
       "      <th></th>\n",
       "      <th></th>\n",
       "      <th></th>\n",
       "      <th></th>\n",
       "      <th></th>\n",
       "      <th></th>\n",
       "      <th></th>\n",
       "      <th></th>\n",
       "      <th></th>\n",
       "      <th></th>\n",
       "      <th></th>\n",
       "      <th></th>\n",
       "      <th></th>\n",
       "      <th></th>\n",
       "      <th></th>\n",
       "    </tr>\n",
       "  </thead>\n",
       "  <tbody>\n",
       "    <tr>\n",
       "      <th>2020-06-02</th>\n",
       "      <td>2.799</td>\n",
       "      <td>232.720001</td>\n",
       "      <td>1442.310059</td>\n",
       "      <td>2.809</td>\n",
       "      <td>9.932</td>\n",
       "      <td>62.119999</td>\n",
       "      <td>2.1635</td>\n",
       "      <td>4.460</td>\n",
       "      <td>881.559998</td>\n",
       "      <td>2.799</td>\n",
       "      <td>...</td>\n",
       "      <td>894.700012</td>\n",
       "      <td>3535211.0</td>\n",
       "      <td>20919000.0</td>\n",
       "      <td>1172100.0</td>\n",
       "      <td>17937048.0</td>\n",
       "      <td>16812450.0</td>\n",
       "      <td>20702400.0</td>\n",
       "      <td>86595536.0</td>\n",
       "      <td>28196098.0</td>\n",
       "      <td>13565600.0</td>\n",
       "    </tr>\n",
       "    <tr>\n",
       "      <th>2020-06-03</th>\n",
       "      <td>3.013</td>\n",
       "      <td>230.160004</td>\n",
       "      <td>1439.250000</td>\n",
       "      <td>3.129</td>\n",
       "      <td>10.115</td>\n",
       "      <td>61.930000</td>\n",
       "      <td>2.2325</td>\n",
       "      <td>4.658</td>\n",
       "      <td>882.960022</td>\n",
       "      <td>3.013</td>\n",
       "      <td>...</td>\n",
       "      <td>888.119995</td>\n",
       "      <td>2878807.0</td>\n",
       "      <td>15380300.0</td>\n",
       "      <td>1386600.0</td>\n",
       "      <td>33037956.0</td>\n",
       "      <td>17010750.0</td>\n",
       "      <td>16737300.0</td>\n",
       "      <td>99945871.0</td>\n",
       "      <td>26220913.0</td>\n",
       "      <td>7949500.0</td>\n",
       "    </tr>\n",
       "    <tr>\n",
       "      <th>2020-06-04</th>\n",
       "      <td>3.063</td>\n",
       "      <td>226.289993</td>\n",
       "      <td>1414.300049</td>\n",
       "      <td>3.199</td>\n",
       "      <td>9.958</td>\n",
       "      <td>62.970001</td>\n",
       "      <td>2.2695</td>\n",
       "      <td>4.643</td>\n",
       "      <td>864.380005</td>\n",
       "      <td>3.063</td>\n",
       "      <td>...</td>\n",
       "      <td>889.880005</td>\n",
       "      <td>2716800.0</td>\n",
       "      <td>17041500.0</td>\n",
       "      <td>1349100.0</td>\n",
       "      <td>42679675.0</td>\n",
       "      <td>21867617.0</td>\n",
       "      <td>22010100.0</td>\n",
       "      <td>149170528.0</td>\n",
       "      <td>36964916.0</td>\n",
       "      <td>8887700.0</td>\n",
       "    </tr>\n",
       "    <tr>\n",
       "      <th>2020-06-05</th>\n",
       "      <td>3.095</td>\n",
       "      <td>230.770004</td>\n",
       "      <td>1440.020020</td>\n",
       "      <td>3.675</td>\n",
       "      <td>10.030</td>\n",
       "      <td>64.339996</td>\n",
       "      <td>2.5270</td>\n",
       "      <td>4.866</td>\n",
       "      <td>885.659973</td>\n",
       "      <td>3.095</td>\n",
       "      <td>...</td>\n",
       "      <td>877.840027</td>\n",
       "      <td>2430224.0</td>\n",
       "      <td>16727200.0</td>\n",
       "      <td>2132100.0</td>\n",
       "      <td>44964309.0</td>\n",
       "      <td>18420683.0</td>\n",
       "      <td>26809000.0</td>\n",
       "      <td>171612196.0</td>\n",
       "      <td>28721798.0</td>\n",
       "      <td>7796100.0</td>\n",
       "    </tr>\n",
       "    <tr>\n",
       "      <th>2020-06-08</th>\n",
       "      <td>3.196</td>\n",
       "      <td>NaN</td>\n",
       "      <td>NaN</td>\n",
       "      <td>3.906</td>\n",
       "      <td>10.085</td>\n",
       "      <td>NaN</td>\n",
       "      <td>2.5895</td>\n",
       "      <td>4.982</td>\n",
       "      <td>NaN</td>\n",
       "      <td>3.196</td>\n",
       "      <td>...</td>\n",
       "      <td>NaN</td>\n",
       "      <td>1197300.0</td>\n",
       "      <td>NaN</td>\n",
       "      <td>NaN</td>\n",
       "      <td>30452173.0</td>\n",
       "      <td>3853740.0</td>\n",
       "      <td>NaN</td>\n",
       "      <td>72922882.0</td>\n",
       "      <td>10328403.0</td>\n",
       "      <td>NaN</td>\n",
       "    </tr>\n",
       "  </tbody>\n",
       "</table>\n",
       "<p>5 rows × 54 columns</p>\n",
       "</div>"
      ],
      "text/plain": [
       "           Adj Close                                                     \\\n",
       "              ENC.MC          FB        GOOGL IAG.MC  IBE.MC       INTC   \n",
       "Date                                                                      \n",
       "2020-06-02     2.799  232.720001  1442.310059  2.809   9.932  62.119999   \n",
       "2020-06-03     3.013  230.160004  1439.250000  3.129  10.115  61.930000   \n",
       "2020-06-04     3.063  226.289993  1414.300049  3.199   9.958  62.970001   \n",
       "2020-06-05     3.095  230.770004  1440.020020  3.675  10.030  64.339996   \n",
       "2020-06-08     3.196         NaN          NaN  3.906  10.085        NaN   \n",
       "\n",
       "                                       Close  ...        Open     Volume  \\\n",
       "            SAN.MC TEF.MC        TSLA ENC.MC  ...        TSLA     ENC.MC   \n",
       "Date                                          ...                          \n",
       "2020-06-02  2.1635  4.460  881.559998  2.799  ...  894.700012  3535211.0   \n",
       "2020-06-03  2.2325  4.658  882.960022  3.013  ...  888.119995  2878807.0   \n",
       "2020-06-04  2.2695  4.643  864.380005  3.063  ...  889.880005  2716800.0   \n",
       "2020-06-05  2.5270  4.866  885.659973  3.095  ...  877.840027  2430224.0   \n",
       "2020-06-08  2.5895  4.982         NaN  3.196  ...         NaN  1197300.0   \n",
       "\n",
       "                                                                       \\\n",
       "                    FB      GOOGL      IAG.MC      IBE.MC        INTC   \n",
       "Date                                                                    \n",
       "2020-06-02  20919000.0  1172100.0  17937048.0  16812450.0  20702400.0   \n",
       "2020-06-03  15380300.0  1386600.0  33037956.0  17010750.0  16737300.0   \n",
       "2020-06-04  17041500.0  1349100.0  42679675.0  21867617.0  22010100.0   \n",
       "2020-06-05  16727200.0  2132100.0  44964309.0  18420683.0  26809000.0   \n",
       "2020-06-08         NaN        NaN  30452173.0   3853740.0         NaN   \n",
       "\n",
       "                                                 \n",
       "                 SAN.MC      TEF.MC        TSLA  \n",
       "Date                                             \n",
       "2020-06-02   86595536.0  28196098.0  13565600.0  \n",
       "2020-06-03   99945871.0  26220913.0   7949500.0  \n",
       "2020-06-04  149170528.0  36964916.0   8887700.0  \n",
       "2020-06-05  171612196.0  28721798.0   7796100.0  \n",
       "2020-06-08   72922882.0  10328403.0         NaN  \n",
       "\n",
       "[5 rows x 54 columns]"
      ]
     },
     "execution_count": 5,
     "metadata": {},
     "output_type": "execute_result"
    }
   ],
   "source": [
    "df.tail()"
   ]
  },
  {
   "cell_type": "markdown",
   "metadata": {},
   "source": [
    "Y si quisieramos ver todas la columnas relativas a los precios de cierre por ejemplo (Close), escribiríamos:"
   ]
  },
  {
   "cell_type": "code",
   "execution_count": 6,
   "metadata": {},
   "outputs": [
    {
     "data": {
      "text/plain": [
       "Index(['ENC.MC', 'FB', 'GOOGL', 'IAG.MC', 'IBE.MC', 'INTC', 'SAN.MC', 'TEF.MC',\n",
       "       'TSLA'],\n",
       "      dtype='object')"
      ]
     },
     "execution_count": 6,
     "metadata": {},
     "output_type": "execute_result"
    }
   ],
   "source": [
    "df['Close'].columns"
   ]
  },
  {
   "cell_type": "markdown",
   "metadata": {},
   "source": [
    "También podemos ver que el dataframe ya está indexado por fecha para facilitar el trabajo posterior."
   ]
  },
  {
   "cell_type": "code",
   "execution_count": 7,
   "metadata": {},
   "outputs": [
    {
     "data": {
      "text/plain": [
       "DatetimeIndex(['2018-12-31', '2019-01-02', '2019-01-03', '2019-01-04',\n",
       "               '2019-01-07', '2019-01-08', '2019-01-09', '2019-01-10',\n",
       "               '2019-01-11', '2019-01-14',\n",
       "               ...\n",
       "               '2020-05-26', '2020-05-27', '2020-05-28', '2020-05-29',\n",
       "               '2020-06-01', '2020-06-02', '2020-06-03', '2020-06-04',\n",
       "               '2020-06-05', '2020-06-08'],\n",
       "              dtype='datetime64[ns]', name='Date', length=372, freq=None)"
      ]
     },
     "execution_count": 7,
     "metadata": {},
     "output_type": "execute_result"
    }
   ],
   "source": [
    "df.index"
   ]
  },
  {
   "cell_type": "markdown",
   "metadata": {},
   "source": [
    "## Algunas cuestiones a resolver:\n",
    "\n",
    "* ¿Coinciden las fechas de las anomalías entre los diferentes valores?\n",
    "* ¿El comportamiento en los días siguientes a la anomalía es el esperado? ¿Durante cuantos días? ¿en qué porcentaje de las ocasiones se produce el comportamiento esperado?\n",
    "* Con una inversión de 1000€ durante el año ¿cuanto dinero habríamos ganado o perdido utilizando la estretegia de inversión considerada?\n",
    "* ¿Qué diferencias obtienes entre la aproximación sencilla en la detección de anomalías y Isolation forest?\n"
   ]
  },
  {
   "cell_type": "code",
   "execution_count": null,
   "metadata": {},
   "outputs": [],
   "source": []
  }
 ],
 "metadata": {
  "anaconda-cloud": {},
  "kernelspec": {
   "display_name": "Python 3",
   "language": "python",
   "name": "python3"
  },
  "language_info": {
   "codemirror_mode": {
    "name": "ipython",
    "version": 3
   },
   "file_extension": ".py",
   "mimetype": "text/x-python",
   "name": "python",
   "nbconvert_exporter": "python",
   "pygments_lexer": "ipython3",
   "version": "3.7.4"
  },
  "toc": {
   "base_numbering": 1,
   "nav_menu": {},
   "number_sections": true,
   "sideBar": true,
   "skip_h1_title": false,
   "title_cell": "Table of Contents",
   "title_sidebar": "Contents",
   "toc_cell": false,
   "toc_position": {},
   "toc_section_display": true,
   "toc_window_display": false
  },
  "varInspector": {
   "cols": {
    "lenName": 16,
    "lenType": 16,
    "lenVar": 40
   },
   "kernels_config": {
    "python": {
     "delete_cmd_postfix": "",
     "delete_cmd_prefix": "del ",
     "library": "var_list.py",
     "varRefreshCmd": "print(var_dic_list())"
    },
    "r": {
     "delete_cmd_postfix": ") ",
     "delete_cmd_prefix": "rm(",
     "library": "var_list.r",
     "varRefreshCmd": "cat(var_dic_list()) "
    }
   },
   "types_to_exclude": [
    "module",
    "function",
    "builtin_function_or_method",
    "instance",
    "_Feature"
   ],
   "window_display": false
  }
 },
 "nbformat": 4,
 "nbformat_minor": 2
}
